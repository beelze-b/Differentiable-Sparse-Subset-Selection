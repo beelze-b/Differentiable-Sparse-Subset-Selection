{
 "cells": [
  {
   "cell_type": "code",
   "execution_count": null,
   "metadata": {},
   "outputs": [],
   "source": [
    "import torch\n",
    "\n",
    "\n",
    "from torch import nn\n",
    "from torch.autograd import Variable\n",
    "from torch.nn import functional as F\n",
    "\n",
    "import numpy as np\n",
    "\n",
    "import matplotlib.pyplot as plt\n",
    "#from sklearn.manifold import TSNE\n",
    "\n",
    "#import math\n",
    "\n",
    "#import gc\n",
    "\n",
    "from utils import *\n",
    "\n",
    "from sklearn.preprocessing import MinMaxScaler\n",
    "\n",
    "from scipy.stats import pearsonr\n",
    "\n",
    "import seaborn as sns\n",
    "import os"
   ]
  },
  {
   "cell_type": "code",
   "execution_count": null,
   "metadata": {},
   "outputs": [],
   "source": [
    "torch.manual_seed(0)\n",
    "np.random.seed(0)"
   ]
  },
  {
   "cell_type": "code",
   "execution_count": null,
   "metadata": {},
   "outputs": [],
   "source": [
    "cuda = True if torch.cuda.is_available() else False\n",
    "\n",
    "Tensor = torch.cuda.FloatTensor if cuda else torch.FloatTensor\n",
    "\n",
    "device = torch.device(\"cuda:0\" if cuda else \"cpu\")\n",
    "#device = 'cpu'\n",
    "print(\"Device\")\n",
    "print(device)"
   ]
  },
  {
   "cell_type": "code",
   "execution_count": null,
   "metadata": {},
   "outputs": [],
   "source": [
    "D = 30\n",
    "N = 10000\n",
    "z_size = 8\n",
    "\n",
    "# really good results for vanilla VAE on synthetic data with EPOCHS set to 50, \n",
    "# but when running locally set to 10 for reasonable run times\n",
    "n_epochs = 10\n",
    "batch_size = 64\n",
    "lr = 0.0001\n",
    "b1 = 0.9\n",
    "b2 = 0.999\n",
    "\n",
    "global_t = 4\n",
    "k_lab = [D//10, D//6, D//3, D//2, D]\n",
    "trial_num = 5"
   ]
  },
  {
   "cell_type": "code",
   "execution_count": null,
   "metadata": {},
   "outputs": [],
   "source": [
    "train_data, test_data = generate_synthetic_data_with_noise(N, z_size, D)"
   ]
  },
  {
   "cell_type": "code",
   "execution_count": null,
   "metadata": {},
   "outputs": [],
   "source": [
    "def train_model(train_data, model):\n",
    "    optimizer = torch.optim.Adam(model.parameters(), \n",
    "                                 lr=lr, \n",
    "                                 betas = (b1,b2))\n",
    "        \n",
    "    for epoch in range(1, n_epochs+1):\n",
    "        train(train_data, \n",
    "              model, \n",
    "              optimizer, \n",
    "              epoch, \n",
    "              batch_size)\n",
    "        model.t = max(0.001, model.t * 0.99)\n",
    "\n",
    "        \n",
    "    return model"
   ]
  },
  {
   "cell_type": "code",
   "execution_count": null,
   "metadata": {},
   "outputs": [],
   "source": [
    "def save_model(base_path, model):\n",
    "    # make directory\n",
    "    if not os.path.exists(os.path.dirname(base_path)):\n",
    "        try:\n",
    "            os.makedirs(os.path.dirname(base_path))\n",
    "        except OSError as exc: # Guard against race condition\n",
    "            if exc.errno != errno.EEXIST:\n",
    "                raise Exception(\"COULD NOT MAKE PATH\")\n",
    "    with open(base_path, 'wb') as PATH:\n",
    "        torch.save(model.state_dict(), PATH)"
   ]
  },
  {
   "cell_type": "code",
   "execution_count": null,
   "metadata": {},
   "outputs": [],
   "source": [
    "#BASE_PATH = \"../data/models/final_run/\"\n",
    "BASE_PATH = '/scratch/ns3429/sparse-subset/data/models/final_run/'"
   ]
  },
  {
   "cell_type": "markdown",
   "metadata": {},
   "source": [
    "Vanilla VAE Gumbel First"
   ]
  },
  {
   "cell_type": "code",
   "execution_count": null,
   "metadata": {},
   "outputs": [],
   "source": [
    "def run_vanilla_vae_gumbel():\n",
    "    for trial in range(trial_num):\n",
    "        for k in k_lab:\n",
    "            print(\"VANILLA VAE GUMBEL, TRIAL={}, K={}\".format(trial, k))\n",
    "            additional_path = \"vanilla_vae_gumbel/k_{}/model_trial_{}.pt\".format(k, trial)\n",
    "            model = VAE_Gumbel(2*D, 100, 20, k = k, t = global_t)\n",
    "            model.to(device)\n",
    "            train_model(train_data, model)\n",
    "            save_model(BASE_PATH + additional_path, model)"
   ]
  },
  {
   "cell_type": "code",
   "execution_count": null,
   "metadata": {},
   "outputs": [],
   "source": [
    "run_vanilla_vae_gumbel()"
   ]
  },
  {
   "cell_type": "markdown",
   "metadata": {},
   "source": [
    "Batching Gumbel VAE"
   ]
  },
  {
   "cell_type": "code",
   "execution_count": null,
   "metadata": {},
   "outputs": [],
   "source": [
    "def run_batching_gumbel_vae():\n",
    "    for trial in range(1, trial_num+1):\n",
    "        for k in k_lab:\n",
    "            print(\"BATCHING GUMBEL VAE, TRIAL={}, K={}\".format(trial, k))\n",
    "            additional_path = \"batching_gumbel_vae/k_{}/model_trial_{}.pt\".format(k, trial)\n",
    "            model = VAE_Gumbel_NInsta(2*D, 100, 20, k = k, t = global_t)\n",
    "            model.to(device)\n",
    "            train_model(train_data, model)\n",
    "            save_model(BASE_PATH + additional_path, model)"
   ]
  },
  {
   "cell_type": "code",
   "execution_count": null,
   "metadata": {},
   "outputs": [],
   "source": [
    "run_batching_gumbel_vae()"
   ]
  },
  {
   "cell_type": "markdown",
   "metadata": {},
   "source": [
    "Global Gate VAE"
   ]
  },
  {
   "cell_type": "code",
   "execution_count": null,
   "metadata": {},
   "outputs": [],
   "source": [
    "def run_globalgate_vae():\n",
    "    for trial in range(1, trial_num+1):\n",
    "        for k in k_lab:\n",
    "            print(\"GLOBAL GATE VAE, TRIAL={}, K={}\".format(trial, k))\n",
    "            additional_path = \"globalgate_vae/k_{}/model_trial_{}.pt\".format(k, trial)\n",
    "            model = VAE_Gumbel_GlobalGate(2*D, 100, 20, k = k, t = global_t)\n",
    "            model.to(device)\n",
    "            train_model(train_data, model)\n",
    "            save_model(BASE_PATH + additional_path, model)"
   ]
  },
  {
   "cell_type": "code",
   "execution_count": null,
   "metadata": {},
   "outputs": [],
   "source": [
    "run_globalgate_vae()"
   ]
  },
  {
   "cell_type": "markdown",
   "metadata": {},
   "source": [
    "RunningState VAE"
   ]
  },
  {
   "cell_type": "code",
   "execution_count": null,
   "metadata": {},
   "outputs": [],
   "source": [
    "def run_runningstate_vae():\n",
    "    for trial in range(1, trial_num+1):\n",
    "        for k in k_lab:\n",
    "            print(\"RUNNING STATE VAE, TRIAL={}, K={}\".format(trial, k))\n",
    "            additional_path = \"runningstate_vae/k_{}/model_trial_{}.pt\".format(k, trial)\n",
    "            model = VAE_Gumbel_RunningState(2*D, 100, 20, k = k, t = global_t, alpha = 0.9)\n",
    "            model.to(device)\n",
    "            train_model(train_data, model)\n",
    "            save_model(BASE_PATH + additional_path, model)"
   ]
  },
  {
   "cell_type": "code",
   "execution_count": null,
   "metadata": {},
   "outputs": [],
   "source": [
    "run_runningstate_vae()"
   ]
  },
  {
   "cell_type": "markdown",
   "metadata": {},
   "source": [
    "ConcreteVAE"
   ]
  },
  {
   "cell_type": "code",
   "execution_count": null,
   "metadata": {},
   "outputs": [],
   "source": [
    "def run_concrete_vae():\n",
    "    for trial in range(1, trial_num+1):\n",
    "        for k in k_lab:\n",
    "            print(\"CONCRETE VAE NMSL, TRIAL={}, K={}\".format(trial, k))\n",
    "            additional_path = \"concrete_vae_nmsl/k_{}/model_trial_{}.pt\".format(k, trial)\n",
    "            model = ConcreteVAE_NMSL(2*D, 100, 20, k = k, t = global_t)\n",
    "            model.to(device)\n",
    "            train_model(train_data, model)\n",
    "            save_model(BASE_PATH + additional_path, model)"
   ]
  },
  {
   "cell_type": "code",
   "execution_count": null,
   "metadata": {},
   "outputs": [],
   "source": [
    "run_concrete_vae()"
   ]
  },
  {
   "cell_type": "code",
   "execution_count": null,
   "metadata": {},
   "outputs": [],
   "source": []
  },
  {
   "cell_type": "code",
   "execution_count": null,
   "metadata": {},
   "outputs": [],
   "source": [
    "model = ConcreteVAE_NMSL(2*D, 100, 20, k = 15, t = global_t)\n",
    "model.to(device)"
   ]
  },
  {
   "cell_type": "code",
   "execution_count": null,
   "metadata": {},
   "outputs": [],
   "source": [
    "model.encoder[0].weight"
   ]
  },
  {
   "cell_type": "code",
   "execution_count": null,
   "metadata": {},
   "outputs": [],
   "source": [
    "model.load_state_dict(torch.load(BASE_PATH+\"concrete_vae_nmsl/k_15/model_trial_1.pt\"))\n",
    "model.eval()"
   ]
  }
 ],
 "metadata": {
  "kernelspec": {
   "display_name": "Python [conda env:nyu] *",
   "language": "python",
   "name": "conda-env-nyu-py"
  },
  "language_info": {
   "codemirror_mode": {
    "name": "ipython",
    "version": 3
   },
   "file_extension": ".py",
   "mimetype": "text/x-python",
   "name": "python",
   "nbconvert_exporter": "python",
   "pygments_lexer": "ipython3",
   "version": "3.7.6"
  }
 },
 "nbformat": 4,
 "nbformat_minor": 4
}
