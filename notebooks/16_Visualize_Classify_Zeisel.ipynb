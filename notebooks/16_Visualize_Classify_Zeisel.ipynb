{
 "cells": [
  {
   "cell_type": "code",
   "execution_count": 1,
   "metadata": {},
   "outputs": [],
   "source": [
    "import torch\n",
    "\n",
    "\n",
    "from torch import nn\n",
    "from torch.autograd import Variable\n",
    "from torch.nn import functional as F\n",
    "\n",
    "import numpy as np\n",
    "\n",
    "import matplotlib.pyplot as plt\n",
    "#from sklearn.manifold import TSNE\n",
    "\n",
    "#import math\n",
    "\n",
    "#import gc\n",
    "\n",
    "from utils import *\n",
    "\n",
    "from sklearn.preprocessing import MinMaxScaler, StandardScaler\n",
    "\n",
    "from scipy.stats import pearsonr\n",
    "\n",
    "import seaborn as sns\n",
    "import os\n",
    "import scipy\n",
    "import scipy.io"
   ]
  },
  {
   "cell_type": "code",
   "execution_count": 2,
   "metadata": {},
   "outputs": [
    {
     "name": "stdout",
     "output_type": "stream",
     "text": [
      "Device\n",
      "cuda:0\n"
     ]
    }
   ],
   "source": [
    "cuda = True if torch.cuda.is_available() else False\n",
    "\n",
    "Tensor = torch.cuda.FloatTensor if cuda else torch.FloatTensor\n",
    "\n",
    "device = torch.device(\"cuda:0\" if cuda else \"cpu\")\n",
    "#device = 'cpu'\n",
    "print(\"Device\")\n",
    "print(device)"
   ]
  },
  {
   "cell_type": "code",
   "execution_count": 3,
   "metadata": {},
   "outputs": [],
   "source": [
    "a = scipy.io.loadmat(\"../data/zeisel/zeisel_data.mat\")\n",
    "data= a['zeisel_data'].T\n",
    "N,d=data.shape\n",
    "\n",
    "#load labels (first level of the hierarchy) from file\n",
    "a = scipy.io.loadmat(\"../data/zeisel/zeisel_labels1.mat\")\n",
    "l_aux = a['zeisel_labels1']\n",
    "l_0=[l_aux[i][0] for i in range(l_aux.shape[0])]\n",
    "#load labels (second level of the hierarchy) from file\n",
    "a = scipy.io.loadmat(\"../data/zeisel/zeisel_labels2.mat\")\n",
    "l_aux = a['zeisel_labels2']\n",
    "l_1=[l_aux[i][0] for i in range(l_aux.shape[0])]\n",
    "#construct an array with hierarchy labels\n",
    "labels=np.array([l_0, l_1])\n",
    "\n",
    "# load names from file \n",
    "a = scipy.io.loadmat(\"../data/zeisel/zeisel_names.mat\")\n",
    "names0=np.array([a['zeisel_names'][i][0][0] for i in range(N)])\n",
    "names1=[a['zeisel_names'][i][1][0] for i in range(N)]\n",
    "\n",
    "np.random.seed(100)\n",
    "slices = np.random.permutation(np.arange(data.shape[0]))\n",
    "upto = int(.8 * len(data))\n",
    "\n",
    "train_data = data[slices[:upto]]\n",
    "test_data = data[slices[upto:]]\n",
    "\n",
    "train_labels = names0[slices[:upto]]\n",
    "test_labels = names0[slices[upto:]]\n",
    "\n",
    "\n",
    "scaler = StandardScaler(with_mean=False)\n",
    "#scaler = MinMaxScaler()\n",
    "\n",
    "train_data = scaler.fit_transform(train_data)\n",
    "test_data = scaler.transform(test_data)\n",
    "\n",
    "train_data = Tensor(train_data).to(device)\n",
    "test_data = Tensor(test_data).to(device)"
   ]
  },
  {
   "cell_type": "code",
   "execution_count": 4,
   "metadata": {},
   "outputs": [],
   "source": [
    "N = 10000\n",
    "z_size = 100\n",
    "\n",
    "# really good results for vanilla VAE on synthetic data with EPOCHS set to 50, \n",
    "# but when running locally set to 10 for reasonable run times\n",
    "n_epochs = 600\n",
    "batch_size = 32\n",
    "lr = 0.000001\n",
    "b1 = 0.9\n",
    "b2 = 0.999\n",
    "\n",
    "global_t = 4\n",
    "k = 50"
   ]
  },
  {
   "cell_type": "code",
   "execution_count": 5,
   "metadata": {},
   "outputs": [],
   "source": [
    "def load_model(model_loader, input_size, hidden_size, z_size, bias, path, **kwargs):\n",
    "    model = model_loader(input_size, hidden_size, z_size, bias = bias, **kwargs)\n",
    "    model.load_state_dict(torch.load(path))\n",
    "    model.eval()\n",
    "    \n",
    "    return model"
   ]
  },
  {
   "cell_type": "code",
   "execution_count": 6,
   "metadata": {},
   "outputs": [],
   "source": [
    "def top_logits_gumbel_globalgate_vae(data, model):\n",
    "    assert isinstance(model, VAE_Gumbel_GlobalGate)\n",
    "    with torch.no_grad():\n",
    "        w = model.logit_enc.clone().view(-1)\n",
    "        top_k_logits = torch.topk(w, k = model.k, sorted = True)[1]\n",
    "        enc_top_logits = torch.nn.functional.one_hot(top_k_logits, num_classes = data.shape[1]).sum(dim = 0)\n",
    "        \n",
    "        #subsets = sample_subset(w, model.k,model.t,True)\n",
    "        subsets = sample_subset(w, model.k,model.t)\n",
    "        #max_idx = torch.argmax(subsets, 1, keepdim=True)\n",
    "        #one_hot = Tensor(subsets.shape)\n",
    "        #one_hot.zero_()\n",
    "        #one_hot.scatter_(1, max_idx, 1)\n",
    "\n",
    "        \n",
    "    return enc_top_logits, subsets\n",
    "\n",
    "def top_logits_gumbel_runningstate_vae(data, model):\n",
    "    assert isinstance(model, VAE_Gumbel_RunningState)\n",
    "    with torch.no_grad():\n",
    "        w = model.logit_enc.clone().view(-1)\n",
    "        top_k_logits = torch.topk(w, k = model.k, sorted = True)[1]\n",
    "        enc_top_logits = torch.nn.functional.one_hot(top_k_logits, num_classes = data.shape[1]).sum(dim = 0)\n",
    "        \n",
    "        #subsets = sample_subset(w, model.k,model.t,True)\n",
    "        subsets = sample_subset(w, model.k,model.t)\n",
    "        #max_idx = torch.argmax(subsets, 1, keepdim=True)\n",
    "        #one_hot = Tensor(subsets.shape)\n",
    "        #one_hot.zero_()\n",
    "        #one_hot.scatter_(1, max_idx, 1)\n",
    "\n",
    "        \n",
    "    return enc_top_logits, subsets\n",
    "\n",
    "def top_logits_gumbel_concrete_vae_nsml(data, model):\n",
    "    assert isinstance(model, ConcreteVAE_NMSL)\n",
    "    \n",
    "    with torch.no_grad():\n",
    "\n",
    "        w = gumbel_keys(model.logit_enc, EPSILON = torch.finfo(torch.float32).eps)\n",
    "        w = torch.softmax(w/model.t, dim = -1)\n",
    "        subset_indices = w.clone().detach()\n",
    "\n",
    "        #max_idx = torch.argmax(subset_indices, 1, keepdim=True)\n",
    "        #one_hot = Tensor(subset_indices.shape)\n",
    "        #one_hot.zero_()\n",
    "        #one_hot.scatter_(1, max_idx, 1)\n",
    "\n",
    "        all_subsets = subset_indices.sum(dim = 0)\n",
    "\n",
    "        inds = torch.argsort(subset_indices.sum(dim = 0), descending = True)[:model.k]\n",
    "        all_logits = torch.nn.functional.one_hot(inds, num_classes = data.shape[1]).sum(dim = 0)\n",
    "        \n",
    "        \n",
    "        \n",
    "        \n",
    "    return all_logits, all_subsets"
   ]
  },
  {
   "cell_type": "markdown",
   "metadata": {},
   "source": [
    "SqueezeFit stuff"
   ]
  },
  {
   "cell_type": "code",
   "execution_count": null,
   "metadata": {},
   "outputs": [],
   "source": [
    "num_markers=25\n",
    "method='pairwise_centers'\n",
    "sampling_rate=0.05 #use 5 percent of the data to generate constraints\n",
    "n_neighbors=0 #neighbors are not used for the center constraints\n",
    "epsilon=10 #Delta is 10*norm of the smallest constraint\n",
    "max_constraints=500 #use at most 500 constraints (for efficiency)\n",
    "use_centers=True #constraints given by pairwise distances\n"
   ]
  },
  {
   "cell_type": "code",
   "execution_count": 9,
   "metadata": {},
   "outputs": [
    {
     "ename": "RuntimeError",
     "evalue": "version_ <= kMaxSupportedFileFormatVersion INTERNAL ASSERT FAILED at /opt/conda/conda-bld/pytorch_1579040055865/work/caffe2/serialize/inline_container.cc:132, please report a bug to PyTorch. Attempted to read a PyTorch file with version 3, but the maximum supported version for reading is 2. Your PyTorch installation may be too old. (init at /opt/conda/conda-bld/pytorch_1579040055865/work/caffe2/serialize/inline_container.cc:132)\nframe #0: c10::Error::Error(c10::SourceLocation, std::string const&) + 0x47 (0x7fa768404627 in /home/nabeel/anaconda3/envs/nyu/lib/python3.7/site-packages/torch/lib/libc10.so)\nframe #1: caffe2::serialize::PyTorchStreamReader::init() + 0x1f5b (0x7fa72e1e1e2b in /home/nabeel/anaconda3/envs/nyu/lib/python3.7/site-packages/torch/lib/libtorch.so)\nframe #2: caffe2::serialize::PyTorchStreamReader::PyTorchStreamReader(std::string const&) + 0x64 (0x7fa72e1e3044 in /home/nabeel/anaconda3/envs/nyu/lib/python3.7/site-packages/torch/lib/libtorch.so)\nframe #3: <unknown function> + 0x6d2146 (0x7fa75af0a146 in /home/nabeel/anaconda3/envs/nyu/lib/python3.7/site-packages/torch/lib/libtorch_python.so)\nframe #4: <unknown function> + 0x28ba06 (0x7fa75aac3a06 in /home/nabeel/anaconda3/envs/nyu/lib/python3.7/site-packages/torch/lib/libtorch_python.so)\nframe #5: _PyMethodDef_RawFastCallDict + 0x24d (0x55f81dd4cafd in /home/nabeel/anaconda3/envs/nyu/bin/python)\nframe #6: _PyCFunction_FastCallDict + 0x21 (0x55f81dd4cc81 in /home/nabeel/anaconda3/envs/nyu/bin/python)\nframe #7: _PyObject_Call_Prepend + 0x63 (0x55f81dd4b313 in /home/nabeel/anaconda3/envs/nyu/bin/python)\nframe #8: PyObject_Call + 0x6e (0x55f81dd3d06e in /home/nabeel/anaconda3/envs/nyu/bin/python)\nframe #9: <unknown function> + 0xacc70 (0x55f81dcc2c70 in /home/nabeel/anaconda3/envs/nyu/bin/python)\nframe #10: _PyObject_FastCallKeywords + 0x128 (0x55f81dd964e8 in /home/nabeel/anaconda3/envs/nyu/bin/python)\nframe #11: _PyEval_EvalFrameDefault + 0x5379 (0x55f81ddeb0b9 in /home/nabeel/anaconda3/envs/nyu/bin/python)\nframe #12: _PyEval_EvalCodeWithName + 0x5da (0x55f81dd2aa0a in /home/nabeel/anaconda3/envs/nyu/bin/python)\nframe #13: _PyFunction_FastCallDict + 0x1d5 (0x55f81dd2b865 in /home/nabeel/anaconda3/envs/nyu/bin/python)\nframe #14: _PyObject_Call_Prepend + 0x63 (0x55f81dd4b313 in /home/nabeel/anaconda3/envs/nyu/bin/python)\nframe #15: <unknown function> + 0x17f72a (0x55f81dd9572a in /home/nabeel/anaconda3/envs/nyu/bin/python)\nframe #16: _PyObject_FastCallKeywords + 0x128 (0x55f81dd964e8 in /home/nabeel/anaconda3/envs/nyu/bin/python)\nframe #17: _PyEval_EvalFrameDefault + 0x4bd6 (0x55f81ddea916 in /home/nabeel/anaconda3/envs/nyu/bin/python)\nframe #18: _PyEval_EvalCodeWithName + 0x2f9 (0x55f81dd2a729 in /home/nabeel/anaconda3/envs/nyu/bin/python)\nframe #19: _PyFunction_FastCallKeywords + 0x387 (0x55f81dd7e207 in /home/nabeel/anaconda3/envs/nyu/bin/python)\nframe #20: _PyEval_EvalFrameDefault + 0x4c79 (0x55f81ddea9b9 in /home/nabeel/anaconda3/envs/nyu/bin/python)\nframe #21: _PyEval_EvalCodeWithName + 0x2f9 (0x55f81dd2a729 in /home/nabeel/anaconda3/envs/nyu/bin/python)\nframe #22: _PyFunction_FastCallKeywords + 0x387 (0x55f81dd7e207 in /home/nabeel/anaconda3/envs/nyu/bin/python)\nframe #23: _PyEval_EvalFrameDefault + 0x14df (0x55f81dde721f in /home/nabeel/anaconda3/envs/nyu/bin/python)\nframe #24: _PyEval_EvalCodeWithName + 0x2f9 (0x55f81dd2a729 in /home/nabeel/anaconda3/envs/nyu/bin/python)\nframe #25: PyEval_EvalCodeEx + 0x44 (0x55f81dd2b654 in /home/nabeel/anaconda3/envs/nyu/bin/python)\nframe #26: PyEval_EvalCode + 0x1c (0x55f81dd2b67c in /home/nabeel/anaconda3/envs/nyu/bin/python)\nframe #27: <unknown function> + 0x1dfa7d (0x55f81ddf5a7d in /home/nabeel/anaconda3/envs/nyu/bin/python)\nframe #28: _PyMethodDef_RawFastCallKeywords + 0xe9 (0x55f81dd7e889 in /home/nabeel/anaconda3/envs/nyu/bin/python)\nframe #29: _PyCFunction_FastCallKeywords + 0x21 (0x55f81dd7eb21 in /home/nabeel/anaconda3/envs/nyu/bin/python)\nframe #30: _PyEval_EvalFrameDefault + 0x48d4 (0x55f81ddea614 in /home/nabeel/anaconda3/envs/nyu/bin/python)\nframe #31: _PyGen_Send + 0x2a2 (0x55f81dd974f2 in /home/nabeel/anaconda3/envs/nyu/bin/python)\nframe #32: _PyEval_EvalFrameDefault + 0x1ad0 (0x55f81dde7810 in /home/nabeel/anaconda3/envs/nyu/bin/python)\nframe #33: _PyGen_Send + 0x2a2 (0x55f81dd974f2 in /home/nabeel/anaconda3/envs/nyu/bin/python)\nframe #34: _PyEval_EvalFrameDefault + 0x1ad0 (0x55f81dde7810 in /home/nabeel/anaconda3/envs/nyu/bin/python)\nframe #35: _PyGen_Send + 0x2a2 (0x55f81dd974f2 in /home/nabeel/anaconda3/envs/nyu/bin/python)\nframe #36: _PyMethodDef_RawFastCallKeywords + 0x8d (0x55f81dd7e82d in /home/nabeel/anaconda3/envs/nyu/bin/python)\nframe #37: _PyMethodDescr_FastCallKeywords + 0x4f (0x55f81dd9632f in /home/nabeel/anaconda3/envs/nyu/bin/python)\nframe #38: _PyEval_EvalFrameDefault + 0x4ddc (0x55f81ddeab1c in /home/nabeel/anaconda3/envs/nyu/bin/python)\nframe #39: _PyFunction_FastCallKeywords + 0xfb (0x55f81dd7df7b in /home/nabeel/anaconda3/envs/nyu/bin/python)\nframe #40: _PyEval_EvalFrameDefault + 0x416 (0x55f81dde6156 in /home/nabeel/anaconda3/envs/nyu/bin/python)\nframe #41: _PyFunction_FastCallKeywords + 0xfb (0x55f81dd7df7b in /home/nabeel/anaconda3/envs/nyu/bin/python)\nframe #42: _PyEval_EvalFrameDefault + 0x6a0 (0x55f81dde63e0 in /home/nabeel/anaconda3/envs/nyu/bin/python)\nframe #43: _PyEval_EvalCodeWithName + 0x2f9 (0x55f81dd2a729 in /home/nabeel/anaconda3/envs/nyu/bin/python)\nframe #44: _PyFunction_FastCallDict + 0x400 (0x55f81dd2ba90 in /home/nabeel/anaconda3/envs/nyu/bin/python)\nframe #45: _PyObject_Call_Prepend + 0x63 (0x55f81dd4b313 in /home/nabeel/anaconda3/envs/nyu/bin/python)\nframe #46: PyObject_Call + 0x6e (0x55f81dd3d06e in /home/nabeel/anaconda3/envs/nyu/bin/python)\nframe #47: _PyEval_EvalFrameDefault + 0x1f4f (0x55f81dde7c8f in /home/nabeel/anaconda3/envs/nyu/bin/python)\nframe #48: _PyEval_EvalCodeWithName + 0x5da (0x55f81dd2aa0a in /home/nabeel/anaconda3/envs/nyu/bin/python)\nframe #49: _PyFunction_FastCallKeywords + 0x387 (0x55f81dd7e207 in /home/nabeel/anaconda3/envs/nyu/bin/python)\nframe #50: _PyEval_EvalFrameDefault + 0x14df (0x55f81dde721f in /home/nabeel/anaconda3/envs/nyu/bin/python)\nframe #51: <unknown function> + 0x180fb9 (0x55f81dd96fb9 in /home/nabeel/anaconda3/envs/nyu/bin/python)\nframe #52: _PyMethodDef_RawFastCallKeywords + 0xe9 (0x55f81dd7e889 in /home/nabeel/anaconda3/envs/nyu/bin/python)\nframe #53: _PyCFunction_FastCallKeywords + 0x21 (0x55f81dd7eb21 in /home/nabeel/anaconda3/envs/nyu/bin/python)\nframe #54: _PyEval_EvalFrameDefault + 0x48d4 (0x55f81ddea614 in /home/nabeel/anaconda3/envs/nyu/bin/python)\nframe #55: _PyEval_EvalCodeWithName + 0x5da (0x55f81dd2aa0a in /home/nabeel/anaconda3/envs/nyu/bin/python)\nframe #56: _PyFunction_FastCallKeywords + 0x387 (0x55f81dd7e207 in /home/nabeel/anaconda3/envs/nyu/bin/python)\nframe #57: _PyEval_EvalFrameDefault + 0x6a0 (0x55f81dde63e0 in /home/nabeel/anaconda3/envs/nyu/bin/python)\nframe #58: <unknown function> + 0x180fb9 (0x55f81dd96fb9 in /home/nabeel/anaconda3/envs/nyu/bin/python)\nframe #59: _PyMethodDef_RawFastCallKeywords + 0xe9 (0x55f81dd7e889 in /home/nabeel/anaconda3/envs/nyu/bin/python)\nframe #60: _PyCFunction_FastCallKeywords + 0x21 (0x55f81dd7eb21 in /home/nabeel/anaconda3/envs/nyu/bin/python)\nframe #61: _PyEval_EvalFrameDefault + 0x48d4 (0x55f81ddea614 in /home/nabeel/anaconda3/envs/nyu/bin/python)\nframe #62: _PyEval_EvalCodeWithName + 0x5da (0x55f81dd2aa0a in /home/nabeel/anaconda3/envs/nyu/bin/python)\nframe #63: _PyFunction_FastCallKeywords + 0x387 (0x55f81dd7e207 in /home/nabeel/anaconda3/envs/nyu/bin/python)\n",
     "output_type": "error",
     "traceback": [
      "\u001b[0;31m---------------------------------------------------------------------------\u001b[0m",
      "\u001b[0;31mRuntimeError\u001b[0m                              Traceback (most recent call last)",
      "\u001b[0;32m<ipython-input-9-1c86e0706eae>\u001b[0m in \u001b[0;36m<module>\u001b[0;34m\u001b[0m\n\u001b[1;32m      1\u001b[0m model = load_model(VAE_Gumbel_RunningState, train_data.shape[1], 2000, 400, \n\u001b[1;32m      2\u001b[0m                    \u001b[0mpath\u001b[0m \u001b[0;34m=\u001b[0m \u001b[0;34m'../data/models/zeisel_models/runningstate_vae-k_50-model.pt'\u001b[0m\u001b[0;34m,\u001b[0m\u001b[0;34m\u001b[0m\u001b[0;34m\u001b[0m\u001b[0m\n\u001b[0;32m----> 3\u001b[0;31m                    k = k, t = global_t, alpha = 0.9, bias = True)\n\u001b[0m",
      "\u001b[0;32m<ipython-input-5-1c6061936bfd>\u001b[0m in \u001b[0;36mload_model\u001b[0;34m(model_loader, input_size, hidden_size, z_size, bias, path, **kwargs)\u001b[0m\n\u001b[1;32m      1\u001b[0m \u001b[0;32mdef\u001b[0m \u001b[0mload_model\u001b[0m\u001b[0;34m(\u001b[0m\u001b[0mmodel_loader\u001b[0m\u001b[0;34m,\u001b[0m \u001b[0minput_size\u001b[0m\u001b[0;34m,\u001b[0m \u001b[0mhidden_size\u001b[0m\u001b[0;34m,\u001b[0m \u001b[0mz_size\u001b[0m\u001b[0;34m,\u001b[0m \u001b[0mbias\u001b[0m\u001b[0;34m,\u001b[0m \u001b[0mpath\u001b[0m\u001b[0;34m,\u001b[0m \u001b[0;34m**\u001b[0m\u001b[0mkwargs\u001b[0m\u001b[0;34m)\u001b[0m\u001b[0;34m:\u001b[0m\u001b[0;34m\u001b[0m\u001b[0;34m\u001b[0m\u001b[0m\n\u001b[1;32m      2\u001b[0m     \u001b[0mmodel\u001b[0m \u001b[0;34m=\u001b[0m \u001b[0mmodel_loader\u001b[0m\u001b[0;34m(\u001b[0m\u001b[0minput_size\u001b[0m\u001b[0;34m,\u001b[0m \u001b[0mhidden_size\u001b[0m\u001b[0;34m,\u001b[0m \u001b[0mz_size\u001b[0m\u001b[0;34m,\u001b[0m \u001b[0mbias\u001b[0m \u001b[0;34m=\u001b[0m \u001b[0mbias\u001b[0m\u001b[0;34m,\u001b[0m \u001b[0;34m**\u001b[0m\u001b[0mkwargs\u001b[0m\u001b[0;34m)\u001b[0m\u001b[0;34m\u001b[0m\u001b[0;34m\u001b[0m\u001b[0m\n\u001b[0;32m----> 3\u001b[0;31m     \u001b[0mmodel\u001b[0m\u001b[0;34m.\u001b[0m\u001b[0mload_state_dict\u001b[0m\u001b[0;34m(\u001b[0m\u001b[0mtorch\u001b[0m\u001b[0;34m.\u001b[0m\u001b[0mload\u001b[0m\u001b[0;34m(\u001b[0m\u001b[0mpath\u001b[0m\u001b[0;34m)\u001b[0m\u001b[0;34m)\u001b[0m\u001b[0;34m\u001b[0m\u001b[0;34m\u001b[0m\u001b[0m\n\u001b[0m\u001b[1;32m      4\u001b[0m     \u001b[0mmodel\u001b[0m\u001b[0;34m.\u001b[0m\u001b[0meval\u001b[0m\u001b[0;34m(\u001b[0m\u001b[0;34m)\u001b[0m\u001b[0;34m\u001b[0m\u001b[0;34m\u001b[0m\u001b[0m\n\u001b[1;32m      5\u001b[0m \u001b[0;34m\u001b[0m\u001b[0m\n",
      "\u001b[0;32m~/anaconda3/envs/nyu/lib/python3.7/site-packages/torch/serialization.py\u001b[0m in \u001b[0;36mload\u001b[0;34m(f, map_location, pickle_module, **pickle_load_args)\u001b[0m\n\u001b[1;32m    525\u001b[0m     \u001b[0;32mwith\u001b[0m \u001b[0m_open_file_like\u001b[0m\u001b[0;34m(\u001b[0m\u001b[0mf\u001b[0m\u001b[0;34m,\u001b[0m \u001b[0;34m'rb'\u001b[0m\u001b[0;34m)\u001b[0m \u001b[0;32mas\u001b[0m \u001b[0mopened_file\u001b[0m\u001b[0;34m:\u001b[0m\u001b[0;34m\u001b[0m\u001b[0;34m\u001b[0m\u001b[0m\n\u001b[1;32m    526\u001b[0m         \u001b[0;32mif\u001b[0m \u001b[0m_is_zipfile\u001b[0m\u001b[0;34m(\u001b[0m\u001b[0mopened_file\u001b[0m\u001b[0;34m)\u001b[0m\u001b[0;34m:\u001b[0m\u001b[0;34m\u001b[0m\u001b[0;34m\u001b[0m\u001b[0m\n\u001b[0;32m--> 527\u001b[0;31m             \u001b[0;32mwith\u001b[0m \u001b[0m_open_zipfile_reader\u001b[0m\u001b[0;34m(\u001b[0m\u001b[0mf\u001b[0m\u001b[0;34m)\u001b[0m \u001b[0;32mas\u001b[0m \u001b[0mopened_zipfile\u001b[0m\u001b[0;34m:\u001b[0m\u001b[0;34m\u001b[0m\u001b[0;34m\u001b[0m\u001b[0m\n\u001b[0m\u001b[1;32m    528\u001b[0m                 \u001b[0;32mreturn\u001b[0m \u001b[0m_load\u001b[0m\u001b[0;34m(\u001b[0m\u001b[0mopened_zipfile\u001b[0m\u001b[0;34m,\u001b[0m \u001b[0mmap_location\u001b[0m\u001b[0;34m,\u001b[0m \u001b[0mpickle_module\u001b[0m\u001b[0;34m,\u001b[0m \u001b[0;34m**\u001b[0m\u001b[0mpickle_load_args\u001b[0m\u001b[0;34m)\u001b[0m\u001b[0;34m\u001b[0m\u001b[0;34m\u001b[0m\u001b[0m\n\u001b[1;32m    529\u001b[0m         \u001b[0;32mreturn\u001b[0m \u001b[0m_legacy_load\u001b[0m\u001b[0;34m(\u001b[0m\u001b[0mopened_file\u001b[0m\u001b[0;34m,\u001b[0m \u001b[0mmap_location\u001b[0m\u001b[0;34m,\u001b[0m \u001b[0mpickle_module\u001b[0m\u001b[0;34m,\u001b[0m \u001b[0;34m**\u001b[0m\u001b[0mpickle_load_args\u001b[0m\u001b[0;34m)\u001b[0m\u001b[0;34m\u001b[0m\u001b[0;34m\u001b[0m\u001b[0m\n",
      "\u001b[0;32m~/anaconda3/envs/nyu/lib/python3.7/site-packages/torch/serialization.py\u001b[0m in \u001b[0;36m__init__\u001b[0;34m(self, name_or_buffer)\u001b[0m\n\u001b[1;32m    222\u001b[0m \u001b[0;32mclass\u001b[0m \u001b[0m_open_zipfile_reader\u001b[0m\u001b[0;34m(\u001b[0m\u001b[0m_opener\u001b[0m\u001b[0;34m)\u001b[0m\u001b[0;34m:\u001b[0m\u001b[0;34m\u001b[0m\u001b[0;34m\u001b[0m\u001b[0m\n\u001b[1;32m    223\u001b[0m     \u001b[0;32mdef\u001b[0m \u001b[0m__init__\u001b[0m\u001b[0;34m(\u001b[0m\u001b[0mself\u001b[0m\u001b[0;34m,\u001b[0m \u001b[0mname_or_buffer\u001b[0m\u001b[0;34m)\u001b[0m\u001b[0;34m:\u001b[0m\u001b[0;34m\u001b[0m\u001b[0;34m\u001b[0m\u001b[0m\n\u001b[0;32m--> 224\u001b[0;31m         \u001b[0msuper\u001b[0m\u001b[0;34m(\u001b[0m\u001b[0m_open_zipfile_reader\u001b[0m\u001b[0;34m,\u001b[0m \u001b[0mself\u001b[0m\u001b[0;34m)\u001b[0m\u001b[0;34m.\u001b[0m\u001b[0m__init__\u001b[0m\u001b[0;34m(\u001b[0m\u001b[0mtorch\u001b[0m\u001b[0;34m.\u001b[0m\u001b[0m_C\u001b[0m\u001b[0;34m.\u001b[0m\u001b[0mPyTorchFileReader\u001b[0m\u001b[0;34m(\u001b[0m\u001b[0mname_or_buffer\u001b[0m\u001b[0;34m)\u001b[0m\u001b[0;34m)\u001b[0m\u001b[0;34m\u001b[0m\u001b[0;34m\u001b[0m\u001b[0m\n\u001b[0m\u001b[1;32m    225\u001b[0m \u001b[0;34m\u001b[0m\u001b[0m\n\u001b[1;32m    226\u001b[0m \u001b[0;34m\u001b[0m\u001b[0m\n",
      "\u001b[0;31mRuntimeError\u001b[0m: version_ <= kMaxSupportedFileFormatVersion INTERNAL ASSERT FAILED at /opt/conda/conda-bld/pytorch_1579040055865/work/caffe2/serialize/inline_container.cc:132, please report a bug to PyTorch. Attempted to read a PyTorch file with version 3, but the maximum supported version for reading is 2. Your PyTorch installation may be too old. (init at /opt/conda/conda-bld/pytorch_1579040055865/work/caffe2/serialize/inline_container.cc:132)\nframe #0: c10::Error::Error(c10::SourceLocation, std::string const&) + 0x47 (0x7fa768404627 in /home/nabeel/anaconda3/envs/nyu/lib/python3.7/site-packages/torch/lib/libc10.so)\nframe #1: caffe2::serialize::PyTorchStreamReader::init() + 0x1f5b (0x7fa72e1e1e2b in /home/nabeel/anaconda3/envs/nyu/lib/python3.7/site-packages/torch/lib/libtorch.so)\nframe #2: caffe2::serialize::PyTorchStreamReader::PyTorchStreamReader(std::string const&) + 0x64 (0x7fa72e1e3044 in /home/nabeel/anaconda3/envs/nyu/lib/python3.7/site-packages/torch/lib/libtorch.so)\nframe #3: <unknown function> + 0x6d2146 (0x7fa75af0a146 in /home/nabeel/anaconda3/envs/nyu/lib/python3.7/site-packages/torch/lib/libtorch_python.so)\nframe #4: <unknown function> + 0x28ba06 (0x7fa75aac3a06 in /home/nabeel/anaconda3/envs/nyu/lib/python3.7/site-packages/torch/lib/libtorch_python.so)\nframe #5: _PyMethodDef_RawFastCallDict + 0x24d (0x55f81dd4cafd in /home/nabeel/anaconda3/envs/nyu/bin/python)\nframe #6: _PyCFunction_FastCallDict + 0x21 (0x55f81dd4cc81 in /home/nabeel/anaconda3/envs/nyu/bin/python)\nframe #7: _PyObject_Call_Prepend + 0x63 (0x55f81dd4b313 in /home/nabeel/anaconda3/envs/nyu/bin/python)\nframe #8: PyObject_Call + 0x6e (0x55f81dd3d06e in /home/nabeel/anaconda3/envs/nyu/bin/python)\nframe #9: <unknown function> + 0xacc70 (0x55f81dcc2c70 in /home/nabeel/anaconda3/envs/nyu/bin/python)\nframe #10: _PyObject_FastCallKeywords + 0x128 (0x55f81dd964e8 in /home/nabeel/anaconda3/envs/nyu/bin/python)\nframe #11: _PyEval_EvalFrameDefault + 0x5379 (0x55f81ddeb0b9 in /home/nabeel/anaconda3/envs/nyu/bin/python)\nframe #12: _PyEval_EvalCodeWithName + 0x5da (0x55f81dd2aa0a in /home/nabeel/anaconda3/envs/nyu/bin/python)\nframe #13: _PyFunction_FastCallDict + 0x1d5 (0x55f81dd2b865 in /home/nabeel/anaconda3/envs/nyu/bin/python)\nframe #14: _PyObject_Call_Prepend + 0x63 (0x55f81dd4b313 in /home/nabeel/anaconda3/envs/nyu/bin/python)\nframe #15: <unknown function> + 0x17f72a (0x55f81dd9572a in /home/nabeel/anaconda3/envs/nyu/bin/python)\nframe #16: _PyObject_FastCallKeywords + 0x128 (0x55f81dd964e8 in /home/nabeel/anaconda3/envs/nyu/bin/python)\nframe #17: _PyEval_EvalFrameDefault + 0x4bd6 (0x55f81ddea916 in /home/nabeel/anaconda3/envs/nyu/bin/python)\nframe #18: _PyEval_EvalCodeWithName + 0x2f9 (0x55f81dd2a729 in /home/nabeel/anaconda3/envs/nyu/bin/python)\nframe #19: _PyFunction_FastCallKeywords + 0x387 (0x55f81dd7e207 in /home/nabeel/anaconda3/envs/nyu/bin/python)\nframe #20: _PyEval_EvalFrameDefault + 0x4c79 (0x55f81ddea9b9 in /home/nabeel/anaconda3/envs/nyu/bin/python)\nframe #21: _PyEval_EvalCodeWithName + 0x2f9 (0x55f81dd2a729 in /home/nabeel/anaconda3/envs/nyu/bin/python)\nframe #22: _PyFunction_FastCallKeywords + 0x387 (0x55f81dd7e207 in /home/nabeel/anaconda3/envs/nyu/bin/python)\nframe #23: _PyEval_EvalFrameDefault + 0x14df (0x55f81dde721f in /home/nabeel/anaconda3/envs/nyu/bin/python)\nframe #24: _PyEval_EvalCodeWithName + 0x2f9 (0x55f81dd2a729 in /home/nabeel/anaconda3/envs/nyu/bin/python)\nframe #25: PyEval_EvalCodeEx + 0x44 (0x55f81dd2b654 in /home/nabeel/anaconda3/envs/nyu/bin/python)\nframe #26: PyEval_EvalCode + 0x1c (0x55f81dd2b67c in /home/nabeel/anaconda3/envs/nyu/bin/python)\nframe #27: <unknown function> + 0x1dfa7d (0x55f81ddf5a7d in /home/nabeel/anaconda3/envs/nyu/bin/python)\nframe #28: _PyMethodDef_RawFastCallKeywords + 0xe9 (0x55f81dd7e889 in /home/nabeel/anaconda3/envs/nyu/bin/python)\nframe #29: _PyCFunction_FastCallKeywords + 0x21 (0x55f81dd7eb21 in /home/nabeel/anaconda3/envs/nyu/bin/python)\nframe #30: _PyEval_EvalFrameDefault + 0x48d4 (0x55f81ddea614 in /home/nabeel/anaconda3/envs/nyu/bin/python)\nframe #31: _PyGen_Send + 0x2a2 (0x55f81dd974f2 in /home/nabeel/anaconda3/envs/nyu/bin/python)\nframe #32: _PyEval_EvalFrameDefault + 0x1ad0 (0x55f81dde7810 in /home/nabeel/anaconda3/envs/nyu/bin/python)\nframe #33: _PyGen_Send + 0x2a2 (0x55f81dd974f2 in /home/nabeel/anaconda3/envs/nyu/bin/python)\nframe #34: _PyEval_EvalFrameDefault + 0x1ad0 (0x55f81dde7810 in /home/nabeel/anaconda3/envs/nyu/bin/python)\nframe #35: _PyGen_Send + 0x2a2 (0x55f81dd974f2 in /home/nabeel/anaconda3/envs/nyu/bin/python)\nframe #36: _PyMethodDef_RawFastCallKeywords + 0x8d (0x55f81dd7e82d in /home/nabeel/anaconda3/envs/nyu/bin/python)\nframe #37: _PyMethodDescr_FastCallKeywords + 0x4f (0x55f81dd9632f in /home/nabeel/anaconda3/envs/nyu/bin/python)\nframe #38: _PyEval_EvalFrameDefault + 0x4ddc (0x55f81ddeab1c in /home/nabeel/anaconda3/envs/nyu/bin/python)\nframe #39: _PyFunction_FastCallKeywords + 0xfb (0x55f81dd7df7b in /home/nabeel/anaconda3/envs/nyu/bin/python)\nframe #40: _PyEval_EvalFrameDefault + 0x416 (0x55f81dde6156 in /home/nabeel/anaconda3/envs/nyu/bin/python)\nframe #41: _PyFunction_FastCallKeywords + 0xfb (0x55f81dd7df7b in /home/nabeel/anaconda3/envs/nyu/bin/python)\nframe #42: _PyEval_EvalFrameDefault + 0x6a0 (0x55f81dde63e0 in /home/nabeel/anaconda3/envs/nyu/bin/python)\nframe #43: _PyEval_EvalCodeWithName + 0x2f9 (0x55f81dd2a729 in /home/nabeel/anaconda3/envs/nyu/bin/python)\nframe #44: _PyFunction_FastCallDict + 0x400 (0x55f81dd2ba90 in /home/nabeel/anaconda3/envs/nyu/bin/python)\nframe #45: _PyObject_Call_Prepend + 0x63 (0x55f81dd4b313 in /home/nabeel/anaconda3/envs/nyu/bin/python)\nframe #46: PyObject_Call + 0x6e (0x55f81dd3d06e in /home/nabeel/anaconda3/envs/nyu/bin/python)\nframe #47: _PyEval_EvalFrameDefault + 0x1f4f (0x55f81dde7c8f in /home/nabeel/anaconda3/envs/nyu/bin/python)\nframe #48: _PyEval_EvalCodeWithName + 0x5da (0x55f81dd2aa0a in /home/nabeel/anaconda3/envs/nyu/bin/python)\nframe #49: _PyFunction_FastCallKeywords + 0x387 (0x55f81dd7e207 in /home/nabeel/anaconda3/envs/nyu/bin/python)\nframe #50: _PyEval_EvalFrameDefault + 0x14df (0x55f81dde721f in /home/nabeel/anaconda3/envs/nyu/bin/python)\nframe #51: <unknown function> + 0x180fb9 (0x55f81dd96fb9 in /home/nabeel/anaconda3/envs/nyu/bin/python)\nframe #52: _PyMethodDef_RawFastCallKeywords + 0xe9 (0x55f81dd7e889 in /home/nabeel/anaconda3/envs/nyu/bin/python)\nframe #53: _PyCFunction_FastCallKeywords + 0x21 (0x55f81dd7eb21 in /home/nabeel/anaconda3/envs/nyu/bin/python)\nframe #54: _PyEval_EvalFrameDefault + 0x48d4 (0x55f81ddea614 in /home/nabeel/anaconda3/envs/nyu/bin/python)\nframe #55: _PyEval_EvalCodeWithName + 0x5da (0x55f81dd2aa0a in /home/nabeel/anaconda3/envs/nyu/bin/python)\nframe #56: _PyFunction_FastCallKeywords + 0x387 (0x55f81dd7e207 in /home/nabeel/anaconda3/envs/nyu/bin/python)\nframe #57: _PyEval_EvalFrameDefault + 0x6a0 (0x55f81dde63e0 in /home/nabeel/anaconda3/envs/nyu/bin/python)\nframe #58: <unknown function> + 0x180fb9 (0x55f81dd96fb9 in /home/nabeel/anaconda3/envs/nyu/bin/python)\nframe #59: _PyMethodDef_RawFastCallKeywords + 0xe9 (0x55f81dd7e889 in /home/nabeel/anaconda3/envs/nyu/bin/python)\nframe #60: _PyCFunction_FastCallKeywords + 0x21 (0x55f81dd7eb21 in /home/nabeel/anaconda3/envs/nyu/bin/python)\nframe #61: _PyEval_EvalFrameDefault + 0x48d4 (0x55f81ddea614 in /home/nabeel/anaconda3/envs/nyu/bin/python)\nframe #62: _PyEval_EvalCodeWithName + 0x5da (0x55f81dd2aa0a in /home/nabeel/anaconda3/envs/nyu/bin/python)\nframe #63: _PyFunction_FastCallKeywords + 0x387 (0x55f81dd7e207 in /home/nabeel/anaconda3/envs/nyu/bin/python)\n"
     ]
    }
   ],
   "source": [
    "model = load_model(VAE_Gumbel_RunningState, train_data.shape[1], 2000, 400, \n",
    "                   path = '../data/models/zeisel_models/runningstate_vae-k_50-model.pt',\n",
    "                   k = k, t = global_t, alpha = 0.9, bias = True)"
   ]
  },
  {
   "cell_type": "code",
   "execution_count": null,
   "metadata": {},
   "outputs": [],
   "source": []
  }
 ],
 "metadata": {
  "kernelspec": {
   "display_name": "Python [conda env:nyu] *",
   "language": "python",
   "name": "conda-env-nyu-py"
  },
  "language_info": {
   "codemirror_mode": {
    "name": "ipython",
    "version": 3
   },
   "file_extension": ".py",
   "mimetype": "text/x-python",
   "name": "python",
   "nbconvert_exporter": "python",
   "pygments_lexer": "ipython3",
   "version": "3.7.6"
  }
 },
 "nbformat": 4,
 "nbformat_minor": 4
}
