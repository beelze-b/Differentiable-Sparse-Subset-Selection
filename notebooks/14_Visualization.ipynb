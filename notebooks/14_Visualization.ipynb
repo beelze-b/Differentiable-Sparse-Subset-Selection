{
 "cells": [
  {
   "cell_type": "code",
   "execution_count": 1,
   "metadata": {},
   "outputs": [],
   "source": [
    "import torch\n",
    "\n",
    "\n",
    "from torch import nn\n",
    "from torch.autograd import Variable\n",
    "from torch.nn import functional as F\n",
    "\n",
    "import numpy as np\n",
    "\n",
    "import matplotlib.pyplot as plt\n",
    "#from sklearn.manifold import TSNE\n",
    "\n",
    "#import math\n",
    "\n",
    "#import gc\n",
    "\n",
    "from utils import *\n",
    "\n",
    "from sklearn.preprocessing import MinMaxScaler\n",
    "\n",
    "from scipy.stats import pearsonr\n",
    "\n",
    "import seaborn as sns\n",
    "import os"
   ]
  },
  {
   "cell_type": "code",
   "execution_count": 2,
   "metadata": {},
   "outputs": [],
   "source": [
    "import matplotlib.pyplot as plt"
   ]
  },
  {
   "cell_type": "code",
   "execution_count": 3,
   "metadata": {},
   "outputs": [],
   "source": [
    "torch.manual_seed(0)\n",
    "np.random.seed(0)"
   ]
  },
  {
   "cell_type": "code",
   "execution_count": 4,
   "metadata": {},
   "outputs": [
    {
     "name": "stdout",
     "output_type": "stream",
     "text": [
      "Device\n",
      "cuda:0\n"
     ]
    }
   ],
   "source": [
    "cuda = True if torch.cuda.is_available() else False\n",
    "\n",
    "Tensor = torch.cuda.FloatTensor if cuda else torch.FloatTensor\n",
    "\n",
    "device = torch.device(\"cuda:0\" if cuda else \"cpu\")\n",
    "#device = 'cpu'\n",
    "print(\"Device\")\n",
    "print(device)"
   ]
  },
  {
   "cell_type": "code",
   "execution_count": 5,
   "metadata": {},
   "outputs": [],
   "source": [
    "D = 30\n",
    "N = 10000\n",
    "z_size = 8\n",
    "\n",
    "# really good results for vanilla VAE on synthetic data with EPOCHS set to 50, \n",
    "# but when running locally set to 10 for reasonable run times\n",
    "n_epochs = 600\n",
    "batch_size = 64\n",
    "lr = 0.0001\n",
    "b1 = 0.9\n",
    "b2 = 0.999\n",
    "\n",
    "global_t = 0.0096\n",
    "k_lab = [D//10, D//6, D//3, D//2, D]\n",
    "trial_num = 5"
   ]
  },
  {
   "cell_type": "code",
   "execution_count": 6,
   "metadata": {},
   "outputs": [
    {
     "data": {
      "text/plain": [
       "tensor([[0.0000, 0.1907, 0.0000,  ..., 0.5329, 0.6371, 0.4690],\n",
       "        [0.0000, 0.0000, 0.0000,  ..., 0.3878, 0.3787, 0.6062],\n",
       "        [0.1067, 0.0000, 0.0000,  ..., 0.4175, 0.3398, 0.6803],\n",
       "        ...,\n",
       "        [0.0000, 0.0000, 0.0000,  ..., 0.4536, 0.8283, 0.6763],\n",
       "        [0.0000, 0.2083, 0.0000,  ..., 0.6805, 0.5686, 0.5650],\n",
       "        [0.0000, 0.0000, 0.0000,  ..., 0.1979, 0.5258, 0.3618]],\n",
       "       device='cuda:0')"
      ]
     },
     "execution_count": 6,
     "metadata": {},
     "output_type": "execute_result"
    }
   ],
   "source": [
    "train_data, test_data = generate_synthetic_data_with_noise(N, z_size, D)\n",
    "train_data.to(device)\n",
    "test_data.to(device)"
   ]
  },
  {
   "cell_type": "code",
   "execution_count": 7,
   "metadata": {},
   "outputs": [],
   "source": [
    "BASE_PATH = \"../data/models/final_run/\"\n",
    "# BASE_PATH = '/scratch/ns3429/sparse-subset/data/models/final_run/'"
   ]
  },
  {
   "cell_type": "code",
   "execution_count": 8,
   "metadata": {},
   "outputs": [],
   "source": [
    "def load_trial_model(trial_path, k):\n",
    "    if ('vanilla_vae_gumbel' in trial_path):\n",
    "        model = VAE_Gumbel(2*D, 100, 20, k = k, t = global_t) \n",
    "    if ('batching_gumbel_vae' in trial_path):\n",
    "        model = VAE_Gumbel_NInsta(2*D, 100, 20, k = k, t = global_t)\n",
    "    if ('globalgate_vae' in trial_path):\n",
    "        model = VAE_Gumbel_GlobalGate(2*D, 100, 20, k = k, t = global_t)\n",
    "    if ('runningstate_vae' in trial_path):\n",
    "        model = VAE_Gumbel_RunningState(2*D, 100, 20, k = k, t = global_t, alpha = 0.9)\n",
    "    if ('concrete_vae_nmsl' in trial_path):\n",
    "        model = ConcreteVAE_NMSL(2*D, 100, 20, k = k, t = global_t)\n",
    "    \n",
    "    model.load_state_dict(torch.load(trial_path))\n",
    "    model.to(device)\n",
    "    model.eval()\n",
    "    \n",
    "    return model"
   ]
  },
  {
   "cell_type": "code",
   "execution_count": 9,
   "metadata": {},
   "outputs": [],
   "source": [
    "def obtain_model_metrics(model):\n",
    "    pass"
   ]
  },
  {
   "cell_type": "code",
   "execution_count": 10,
   "metadata": {},
   "outputs": [
    {
     "data": {
      "text/plain": [
       "VAE_Gumbel(\n",
       "  (encoder): Sequential(\n",
       "    (0): Linear(in_features=60, out_features=100, bias=True)\n",
       "    (1): LeakyReLU(negative_slope=0.01)\n",
       "  )\n",
       "  (enc_mean): Linear(in_features=100, out_features=20, bias=True)\n",
       "  (enc_logvar): Linear(in_features=100, out_features=20, bias=True)\n",
       "  (decoder): Sequential(\n",
       "    (0): Linear(in_features=20, out_features=100, bias=True)\n",
       "    (1): LeakyReLU(negative_slope=0.01)\n",
       "    (2): Linear(in_features=100, out_features=60, bias=True)\n",
       "    (3): Sigmoid()\n",
       "  )\n",
       "  (weight_creator): Sequential(\n",
       "    (0): Linear(in_features=60, out_features=100, bias=True)\n",
       "    (1): ReLU()\n",
       "    (2): Linear(in_features=100, out_features=60, bias=True)\n",
       "    (3): LeakyReLU(negative_slope=0.01)\n",
       "  )\n",
       ")"
      ]
     },
     "execution_count": 10,
     "metadata": {},
     "output_type": "execute_result"
    }
   ],
   "source": [
    "# test model\n",
    "path = '../data/models/final_run/vanilla_vae_gumbel/k_15/model_trial_3.pt'\n",
    "model = VAE_Gumbel(2*D, 100, 20, k = 15, t = global_t) \n",
    "model.load_state_dict(torch.load(path))\n",
    "model.to(device)"
   ]
  },
  {
   "cell_type": "markdown",
   "metadata": {},
   "source": [
    "BCE"
   ]
  },
  {
   "cell_type": "code",
   "execution_count": 11,
   "metadata": {},
   "outputs": [],
   "source": [
    "test_df = test_data[0:64, :]\n",
    "with torch.no_grad():\n",
    "    pred_df = model(test_df)[0]"
   ]
  },
  {
   "cell_type": "code",
   "execution_count": 12,
   "metadata": {},
   "outputs": [
    {
     "data": {
      "text/plain": [
       "tensor([0.0464, 0.1195, 0.0845, 0.0104, 0.2252, 0.1259, 0.1879, 0.2976, 0.1553,\n",
       "        0.1303, 0.3214, 0.1200, 0.0780, 0.2892, 0.1563, 0.0764, 0.1087, 0.0170,\n",
       "        0.3132, 0.1194, 0.0414, 0.1190, 0.1890, 0.1809, 0.1659, 0.1510, 0.1903,\n",
       "        0.1344, 0.0871, 0.0294, 0.4809, 0.4847, 0.4540, 0.4661, 0.4507, 0.5386,\n",
       "        0.5251, 0.4553, 0.4645, 0.5043, 0.5350, 0.4467, 0.4940, 0.4733, 0.5062,\n",
       "        0.4916, 0.4410, 0.4825, 0.4733, 0.4785, 0.5255, 0.4801, 0.5315, 0.5335,\n",
       "        0.5443, 0.4986, 0.5396, 0.4663, 0.4663, 0.4903], device='cuda:0')"
      ]
     },
     "execution_count": 12,
     "metadata": {},
     "output_type": "execute_result"
    }
   ],
   "source": [
    "test_df.mean(dim = 0)"
   ]
  },
  {
   "cell_type": "code",
   "execution_count": 13,
   "metadata": {},
   "outputs": [
    {
     "data": {
      "text/plain": [
       "tensor([0.0597, 0.1226, 0.0933, 0.0215, 0.2053, 0.1183, 0.1893, 0.3040, 0.1669,\n",
       "        0.1424, 0.3139, 0.1237, 0.0896, 0.2730, 0.1713, 0.0849, 0.1042, 0.0147,\n",
       "        0.3174, 0.1056, 0.0482, 0.1075, 0.1956, 0.1717, 0.1571, 0.1396, 0.1914,\n",
       "        0.1399, 0.0898, 0.0288, 0.4693, 0.5045, 0.4498, 0.4650, 0.4320, 0.5507,\n",
       "        0.5151, 0.4588, 0.4848, 0.5051, 0.5325, 0.4693, 0.5141, 0.4666, 0.5050,\n",
       "        0.5037, 0.4518, 0.5022, 0.4758, 0.4790, 0.5430, 0.4874, 0.5152, 0.5137,\n",
       "        0.5315, 0.5029, 0.5219, 0.4826, 0.4931, 0.5091], device='cuda:0')"
      ]
     },
     "execution_count": 13,
     "metadata": {},
     "output_type": "execute_result"
    }
   ],
   "source": [
    "pred_df.mean(dim=0)"
   ]
  },
  {
   "cell_type": "code",
   "execution_count": 14,
   "metadata": {},
   "outputs": [
    {
     "data": {
      "text/plain": [
       "tensor(1867.6130, device='cuda:0')"
      ]
     },
     "execution_count": 14,
     "metadata": {},
     "output_type": "execute_result"
    }
   ],
   "source": [
    "F.binary_cross_entropy(pred_df, test_df, reduction = 'sum')"
   ]
  },
  {
   "cell_type": "code",
   "execution_count": 15,
   "metadata": {},
   "outputs": [],
   "source": [
    "def bce_model(data, model):\n",
    "    test_loss = 0\n",
    "    inds = np.arange(data.shape[0])\n",
    "    with torch.no_grad():\n",
    "        for i in range(math.ceil(len(data)/batch_size)):\n",
    "            batch_ind = inds[i * batch_size : (i+1) * batch_size]\n",
    "            batch_data = data[batch_ind, :]\n",
    "\n",
    "            test_pred = model(batch_data)[0]\n",
    "\n",
    "\n",
    "            test_loss += F.binary_cross_entropy(test_pred, batch_data, reduction='sum')\n",
    "\n",
    "            del batch_data\n",
    "    return test_loss / data.shape[0]"
   ]
  },
  {
   "cell_type": "code",
   "execution_count": 16,
   "metadata": {},
   "outputs": [
    {
     "data": {
      "text/plain": [
       "tensor(29.2328, device='cuda:0')"
      ]
     },
     "execution_count": 16,
     "metadata": {},
     "output_type": "execute_result"
    }
   ],
   "source": [
    "bce_model(test_data, model)"
   ]
  },
  {
   "cell_type": "code",
   "execution_count": 17,
   "metadata": {},
   "outputs": [],
   "source": [
    "def top_logits_gumbel_vanilla_vae_gumbel(data, model):\n",
    "    assert isinstance(model, VAE_Gumbel)\n",
    "    all_logits = torch.zeros(data.shape[1], dtype = torch.float32)\n",
    "    all_subsets = torch.zeros(data.shape[1], dtype = torch.float32)\n",
    "    all_logits = all_logits.to(device)\n",
    "    all_subsets = all_subsets.to(device)\n",
    "    inds = np.arange(data.shape[0])\n",
    "    with torch.no_grad():\n",
    "        for i in range(math.ceil(len(data)/batch_size)):\n",
    "            batch_ind = inds[i * batch_size : (i+1) * batch_size]\n",
    "            batch_data = data[batch_ind, :]\n",
    "            \n",
    "            logits = model.weight_creator(batch_data)\n",
    "            \n",
    "            \n",
    "            topk_logits = torch.topk(logits, k = model.k, dim = 1, sorted = True)[1]\n",
    "            one_hotted_top_k = torch.nn.functional.one_hot(topk_logits, num_classes = data.shape[1]).sum(dim = 1)\n",
    "            \n",
    "            #subsets = sample_subset(logits, model.k, model.t, separate = True)\n",
    "            subsets = sample_subset(logits, model.k, model.t)\n",
    "            #max_idx = torch.argmax(subsets, 2, keepdim=True)\n",
    "            #one_hot = Tensor(subsets.shape)\n",
    "            #one_hot.zero_()\n",
    "            #one_hot.scatter_(2, max_idx, 1)\n",
    "    \n",
    "    \n",
    "            all_logits += one_hotted_top_k.sum(dim = 0)\n",
    "            #all_subsets += one_hot.sum(dim = (0, 1))\n",
    "            all_subsets += subsets.sum(dim = 0)\n",
    "            \n",
    "            \n",
    "    \n",
    "        all_logits /= data.shape[0]\n",
    "        all_subsets /= data.shape[0]\n",
    "    \n",
    "    return all_logits, all_subsets"
   ]
  },
  {
   "cell_type": "code",
   "execution_count": 18,
   "metadata": {},
   "outputs": [],
   "source": [
    "def top_logits_gumbel_batching_vae_gumbel(data, model):\n",
    "    assert isinstance(model, VAE_Gumbel_NInsta)\n",
    "    all_logits = torch.zeros(data.shape[1], dtype = torch.float32)\n",
    "    all_subsets = torch.zeros(data.shape[1], dtype = torch.float32)\n",
    "    all_logits = all_logits.to(device)\n",
    "    all_subsets = all_subsets.to(device)\n",
    "    inds = np.arange(data.shape[0])\n",
    "    num_batches = math.ceil(len(data)/batch_size)\n",
    "    with torch.no_grad():\n",
    "        for i in range(num_batches):\n",
    "            batch_ind = inds[i * batch_size : (i+1) * batch_size]\n",
    "            batch_data = data[batch_ind, :]\n",
    "\n",
    "            w0 = model.weight_creator(batch_data)\n",
    "            w = w0.mean(dim = 0)\n",
    "            top_k_logits = torch.topk(w, k = model.k, sorted = True)[1]\n",
    "            enc_top_logits = torch.nn.functional.one_hot(top_k_logits, num_classes = 2*D).sum(dim = 0)\n",
    "\n",
    "            #subsets = sample_subset(w, model.k,model.t,True)\n",
    "            subsets = sample_subset(w, model.k,model.t)\n",
    "            #max_idx = torch.argmax(subsets, 1, keepdim=True)\n",
    "            #one_hot = Tensor(subsets.shape)\n",
    "            #one_hot.zero_()\n",
    "            #one_hot.scatter_(1, max_idx, 1)\n",
    "            \n",
    "            all_logits += enc_top_logits\n",
    "            all_subsets += subsets\n",
    "    \n",
    "        all_logits /= num_batches\n",
    "        all_subsets /= num_batches\n",
    "    \n",
    "    return all_logits, all_subsets"
   ]
  },
  {
   "cell_type": "code",
   "execution_count": 19,
   "metadata": {},
   "outputs": [],
   "source": [
    "def top_logits_gumbel_globalgate_vae(data, model):\n",
    "    assert isinstance(model, VAE_Gumbel_GlobalGate)\n",
    "    with torch.no_grad():\n",
    "        w = model.logit_enc.clone().view(-1)\n",
    "        top_k_logits = torch.topk(w, k = model.k, sorted = True)[1]\n",
    "        enc_top_logits = torch.nn.functional.one_hot(top_k_logits, num_classes = 2*D).sum(dim = 0)\n",
    "        \n",
    "        #subsets = sample_subset(w, model.k,model.t,True)\n",
    "        subsets = sample_subset(w, model.k,model.t)\n",
    "        #max_idx = torch.argmax(subsets, 1, keepdim=True)\n",
    "        #one_hot = Tensor(subsets.shape)\n",
    "        #one_hot.zero_()\n",
    "        #one_hot.scatter_(1, max_idx, 1)\n",
    "\n",
    "        \n",
    "    return enc_top_logits, subsets"
   ]
  },
  {
   "cell_type": "code",
   "execution_count": 20,
   "metadata": {},
   "outputs": [],
   "source": [
    "def top_logits_gumbel_runningstate_vae(data, model):\n",
    "    assert isinstance(model, VAE_Gumbel_RunningState)\n",
    "    with torch.no_grad():\n",
    "        w = model.logit_enc.clone().view(-1)\n",
    "        top_k_logits = torch.topk(w, k = model.k, sorted = True)[1]\n",
    "        enc_top_logits = torch.nn.functional.one_hot(top_k_logits, num_classes = 2*D).sum(dim = 0)\n",
    "        \n",
    "        #subsets = sample_subset(w, model.k,model.t,True)\n",
    "        subsets = sample_subset(w, model.k,model.t)\n",
    "        #max_idx = torch.argmax(subsets, 1, keepdim=True)\n",
    "        #one_hot = Tensor(subsets.shape)\n",
    "        #one_hot.zero_()\n",
    "        #one_hot.scatter_(1, max_idx, 1)\n",
    "\n",
    "        \n",
    "    return enc_top_logits, subsets"
   ]
  },
  {
   "cell_type": "code",
   "execution_count": 21,
   "metadata": {},
   "outputs": [],
   "source": [
    "def top_logits_gumbel_concrete_vae_nsml(data, model):\n",
    "    assert isinstance(model, ConcreteVAE_NMSL)\n",
    "    \n",
    "    with torch.no_grad():\n",
    "\n",
    "        w = gumbel_keys(model.logit_enc, EPSILON = torch.finfo(torch.float32).eps)\n",
    "        w = torch.softmax(w/model.t, dim = -1)\n",
    "        subset_indices = w.clone().detach()\n",
    "\n",
    "        #max_idx = torch.argmax(subset_indices, 1, keepdim=True)\n",
    "        #one_hot = Tensor(subset_indices.shape)\n",
    "        #one_hot.zero_()\n",
    "        #one_hot.scatter_(1, max_idx, 1)\n",
    "\n",
    "        all_subsets = subset_indices.sum(dim = 0)\n",
    "\n",
    "        inds = torch.argsort(subset_indices.sum(dim = 0), descending = True)[:model.k]\n",
    "        all_logits = torch.nn.functional.one_hot(inds, num_classes = 2 * D).sum(dim = 0)\n",
    "        \n",
    "        \n",
    "        \n",
    "        \n",
    "    return all_logits, all_subsets"
   ]
  },
  {
   "cell_type": "code",
   "execution_count": 22,
   "metadata": {},
   "outputs": [
    {
     "data": {
      "text/plain": [
       "(tensor([0.6715, 0.2900, 1.0000, 0.3995, 0.7725, 0.7840, 0.4315, 0.3925, 0.7065,\n",
       "         0.8240, 0.9245, 0.6465, 0.9950, 0.6045, 0.9605, 0.8130, 0.7585, 0.4145,\n",
       "         0.6825, 0.9945, 0.9810, 0.9775, 1.0000, 0.9575, 0.3060, 0.9935, 0.7850,\n",
       "         0.9725, 0.9520, 0.6210, 0.8380, 0.1650, 0.0760, 0.6770, 0.2245, 0.0000,\n",
       "         0.0630, 0.4400, 0.0000, 0.2070, 0.0345, 0.0200, 0.0000, 0.6330, 0.1620,\n",
       "         0.3225, 0.8050, 0.0600, 0.0000, 0.0000, 0.0550, 0.0055, 0.4010, 0.0000,\n",
       "         0.2355, 0.0105, 0.4260, 0.4510, 0.0785, 0.9975], device='cuda:0'),\n",
       " tensor([6.0916e-01, 2.5105e-01, 1.1129e+00, 3.3933e-01, 7.8717e-01, 7.1790e-01,\n",
       "         4.1985e-01, 3.8166e-01, 7.2880e-01, 8.4613e-01, 9.6075e-01, 6.2987e-01,\n",
       "         1.0458e+00, 5.8740e-01, 1.0205e+00, 8.0180e-01, 7.5351e-01, 4.2166e-01,\n",
       "         6.7492e-01, 1.0915e+00, 1.0252e+00, 9.8995e-01, 1.0376e+00, 1.0211e+00,\n",
       "         2.7132e-01, 9.8867e-01, 8.0917e-01, 9.7767e-01, 9.7388e-01, 5.5889e-01,\n",
       "         8.1808e-01, 1.4444e-01, 1.1073e-01, 6.9716e-01, 1.9300e-01, 9.9455e-04,\n",
       "         5.8249e-02, 4.0903e-01, 1.7570e-14, 1.9170e-01, 5.5723e-02, 2.3887e-02,\n",
       "         4.3532e-04, 5.9240e-01, 1.5695e-01, 3.0748e-01, 7.8905e-01, 8.8124e-02,\n",
       "         1.8293e-11, 9.0157e-11, 6.0232e-02, 1.1608e-02, 3.5636e-01, 5.0316e-04,\n",
       "         2.2011e-01, 2.7067e-02, 3.7546e-01, 4.0038e-01, 7.7229e-02, 9.9846e-01],\n",
       "        device='cuda:0'))"
      ]
     },
     "execution_count": 22,
     "metadata": {},
     "output_type": "execute_result"
    }
   ],
   "source": [
    "# test model\n",
    "path = '../data/models/final_run/vanilla_vae_gumbel/k_30/model_trial_3.pt'\n",
    "model = VAE_Gumbel(2*D, 100, 20, k = 30, t = global_t) \n",
    "model.load_state_dict(torch.load(path))\n",
    "model.to(device)\n",
    "model.eval()\n",
    "top_logits_gumbel_vanilla_vae_gumbel(test_data, model)"
   ]
  },
  {
   "cell_type": "code",
   "execution_count": 23,
   "metadata": {},
   "outputs": [
    {
     "data": {
      "text/plain": [
       "tensor(30., device='cuda:0')"
      ]
     },
     "execution_count": 23,
     "metadata": {},
     "output_type": "execute_result"
    }
   ],
   "source": [
    "# test model\n",
    "path = '../data/models/final_run/batching_gumbel_vae/k_30/model_trial_3.pt'\n",
    "model = VAE_Gumbel_NInsta(2*D, 100, 20, k = 30, t = global_t) \n",
    "model.load_state_dict(torch.load(path))\n",
    "model.to(device)\n",
    "model.eval()\n",
    "top_logits_gumbel_batching_vae_gumbel(test_data, model)[1].sum()"
   ]
  },
  {
   "cell_type": "code",
   "execution_count": 24,
   "metadata": {},
   "outputs": [
    {
     "data": {
      "text/plain": [
       "tensor(30, device='cuda:0')"
      ]
     },
     "execution_count": 24,
     "metadata": {},
     "output_type": "execute_result"
    }
   ],
   "source": [
    "path = '../data/models/final_run/globalgate_vae/k_30/model_trial_1.pt'\n",
    "model = VAE_Gumbel_GlobalGate(2*D, 100, 20, k = 30, t = global_t) \n",
    "model.load_state_dict(torch.load(path))\n",
    "model.to(device)\n",
    "model.eval()\n",
    "top_logits_gumbel_globalgate_vae(test_data, model)[0].sum()"
   ]
  },
  {
   "cell_type": "code",
   "execution_count": 25,
   "metadata": {},
   "outputs": [
    {
     "data": {
      "text/plain": [
       "tensor(30, device='cuda:0')"
      ]
     },
     "execution_count": 25,
     "metadata": {},
     "output_type": "execute_result"
    }
   ],
   "source": [
    "path = '../data/models/final_run/runningstate_vae/k_30/model_trial_1.pt'\n",
    "model = VAE_Gumbel_RunningState(2*D, 100, 20, k = 30, t = global_t, alpha = 0.9) \n",
    "model.logit_enc = nn.Parameter(torch.zeros(2*D).view(1, -1))\n",
    "model.to(device)\n",
    "model.load_state_dict(torch.load(path))\n",
    "model.eval()\n",
    "\n",
    "top_logits_gumbel_runningstate_vae(test_data, model)[0].sum()"
   ]
  },
  {
   "cell_type": "code",
   "execution_count": 26,
   "metadata": {},
   "outputs": [
    {
     "data": {
      "text/plain": [
       "tensor(30, device='cuda:0')"
      ]
     },
     "execution_count": 26,
     "metadata": {},
     "output_type": "execute_result"
    }
   ],
   "source": [
    "path = '../data/models/final_run/concrete_vae_nmsl/k_30/model_trial_1.pt'\n",
    "model = ConcreteVAE_NMSL(2*D, 100, 20, k = 30, t = global_t) \n",
    "model.load_state_dict(torch.load(path))\n",
    "model.to(device)\n",
    "model.eval()\n",
    "top_logits_gumbel_concrete_vae_nsml(test_data, model)[0].sum()"
   ]
  },
  {
   "cell_type": "code",
   "execution_count": 27,
   "metadata": {},
   "outputs": [
    {
     "data": {
      "text/plain": [
       "tensor(29, device='cuda:0')"
      ]
     },
     "execution_count": 27,
     "metadata": {},
     "output_type": "execute_result"
    }
   ],
   "source": [
    "model(test_df)\n",
    "top_ind = torch.argmax(model.logit_enc, dim = 1)\n",
    "sum(top_ind < 30)"
   ]
  },
  {
   "cell_type": "code",
   "execution_count": 28,
   "metadata": {},
   "outputs": [
    {
     "data": {
      "text/plain": [
       "tensor([10,  8,  9, 40, 11,  4,  7, 10, 27,  2, 24, 24, 27, 13,  2, 23, 18, 23,\n",
       "        25, 22, 14,  6,  4,  9, 21, 18,  4, 27, 11, 18], device='cuda:0')"
      ]
     },
     "execution_count": 28,
     "metadata": {},
     "output_type": "execute_result"
    }
   ],
   "source": [
    "top_ind"
   ]
  },
  {
   "cell_type": "markdown",
   "metadata": {},
   "source": [
    "Look at BCE per Method"
   ]
  },
  {
   "cell_type": "markdown",
   "metadata": {},
   "source": [
    "Looking at Vanilla VAE"
   ]
  },
  {
   "cell_type": "code",
   "execution_count": 29,
   "metadata": {},
   "outputs": [
    {
     "name": "stdout",
     "output_type": "stream",
     "text": [
      "Vanilla Gumbel VAE\n",
      "Train BCES\n",
      "[29.9329833984375, 29.5721435546875, 29.27056312561035, 29.193561553955078, 28.98382568359375]\n",
      "Test BCES\n",
      "[29.977725982666016, 29.630605697631836, 29.314844131469727, 29.234220504760742, 29.037967681884766]\n"
     ]
    }
   ],
   "source": [
    "train_bces = []\n",
    "test_bces = []\n",
    "for k in k_lab:\n",
    "    train_bce = 0\n",
    "    test_bce = 0\n",
    "    for trial in range(1, 1+trial_num):\n",
    "        # test model\n",
    "        path = '../data/models/final_run/vanilla_vae_gumbel/k_{}/model_trial_{}.pt'.format(k, trial_num)\n",
    "        model = VAE_Gumbel(2*D, 100, 20, k = k, t = global_t) \n",
    "        model.load_state_dict(torch.load(path))\n",
    "        model.to(device)\n",
    "        model.eval()\n",
    "        train_bce += bce_model(train_data, model)\n",
    "        test_bce += bce_model(test_data, model)\n",
    "    train_bces.append((train_bce/trial_num).item())\n",
    "    test_bces.append((test_bce/trial_num).item())\n",
    "    \n",
    "print(\"Vanilla Gumbel VAE\")\n",
    "print(\"Train BCES\")\n",
    "print(train_bces)\n",
    "print(\"Test BCES\")\n",
    "print(test_bces)"
   ]
  },
  {
   "cell_type": "code",
   "execution_count": 30,
   "metadata": {},
   "outputs": [
    {
     "data": {
      "text/plain": [
       "<matplotlib.legend.Legend at 0x7efcd1d8d810>"
      ]
     },
     "execution_count": 30,
     "metadata": {},
     "output_type": "execute_result"
    },
    {
     "data": {
      "image/png": "[encoded data removed]",
      "text/plain": [
       "<Figure size 432x288 with 1 Axes>"
      ]
     },
     "metadata": {
      "needs_background": "light"
     },
     "output_type": "display_data"
    }
   ],
   "source": [
    "fig = plt.figure()\n",
    "plt.plot(k_lab, train_bces, label = 'Train BCE')\n",
    "plt.plot(k_lab, test_bces, label = 'Test BCE')\n",
    "\n",
    "plt.title(\"BCE of Vanilla VAE Gumbel\")\n",
    "plt.xlabel(\"Choosen Features (k)\")\n",
    "plt.ylabel(\"BCE\")\n",
    "plt.legend()"
   ]
  },
  {
   "cell_type": "markdown",
   "metadata": {},
   "source": [
    "Batching Gumbel"
   ]
  },
  {
   "cell_type": "code",
   "execution_count": 31,
   "metadata": {},
   "outputs": [
    {
     "name": "stdout",
     "output_type": "stream",
     "text": [
      "Batching Gumbel VAE\n",
      "Train BCES\n",
      "[30.6058292388916, 29.871030807495117, 29.441598892211914, 29.2967472076416, 29.133390426635742]\n",
      "Test BCES\n",
      "[30.660202026367188, 29.942962646484375, 29.502365112304688, 29.335660934448242, 29.17584800720215]\n"
     ]
    }
   ],
   "source": [
    "train_bces = []\n",
    "test_bces = []\n",
    "for k in k_lab:\n",
    "    train_bce = 0\n",
    "    test_bce = 0\n",
    "    for trial in range(1, 1+trial_num):\n",
    "        # test model\n",
    "        path = '../data/models/final_run/batching_gumbel_vae/k_{}/model_trial_{}.pt'.format(k, trial_num)\n",
    "        model = VAE_Gumbel_NInsta(2*D, 100, 20, k = k, t = global_t) \n",
    "        model.load_state_dict(torch.load(path))\n",
    "        model.to(device)\n",
    "        model.eval()\n",
    "        train_bce += bce_model(train_data, model)\n",
    "        test_bce += bce_model(test_data, model)\n",
    "    train_bces.append((train_bce/trial_num).item())\n",
    "    test_bces.append((test_bce/trial_num).item())\n",
    "\n",
    "print(\"Batching Gumbel VAE\")\n",
    "print(\"Train BCES\")\n",
    "print(train_bces)\n",
    "print(\"Test BCES\")\n",
    "print(test_bces)"
   ]
  },
  {
   "cell_type": "code",
   "execution_count": 32,
   "metadata": {},
   "outputs": [
    {
     "data": {
      "text/plain": [
       "<matplotlib.legend.Legend at 0x7efcd1cf6a10>"
      ]
     },
     "execution_count": 32,
     "metadata": {},
     "output_type": "execute_result"
    },
    {
     "data": {
      "image/png": "[encoded data removed]",
      "text/plain": [
       "<Figure size 432x288 with 1 Axes>"
      ]
     },
     "metadata": {
      "needs_background": "light"
     },
     "output_type": "display_data"
    }
   ],
   "source": [
    "fig = plt.figure()\n",
    "plt.plot(k_lab, train_bces, label = 'Train BCE')\n",
    "plt.plot(k_lab, test_bces, label = 'Test BCE')\n",
    "\n",
    "plt.title(\"BCE of Batching Gumbel VAE\")\n",
    "plt.xlabel(\"Choosen Features (k)\")\n",
    "plt.ylabel(\"BCE\")\n",
    "plt.legend()"
   ]
  },
  {
   "cell_type": "markdown",
   "metadata": {},
   "source": [
    "Global Gate VAE"
   ]
  },
  {
   "cell_type": "code",
   "execution_count": 33,
   "metadata": {},
   "outputs": [
    {
     "name": "stdout",
     "output_type": "stream",
     "text": [
      "Global Gate VAE\n",
      "Train BCES\n",
      "[31.41971206665039, 31.017847061157227, 30.2842960357666, 29.786075592041016, 29.37660789489746]\n",
      "Test BCES\n",
      "[31.471643447875977, 31.035184860229492, 30.354108810424805, 29.857641220092773, 29.42584800720215]\n"
     ]
    }
   ],
   "source": [
    "train_bces = []\n",
    "test_bces = []\n",
    "for k in k_lab:\n",
    "    train_bce = 0\n",
    "    test_bce = 0\n",
    "    for trial in range(1, 1+trial_num):\n",
    "        # test model\n",
    "        path = '../data/models/final_run/globalgate_vae/k_{}/model_trial_{}.pt'.format(k, trial_num)\n",
    "        model = VAE_Gumbel_GlobalGate(2*D, 100, 20, k = k, t = global_t) \n",
    "        model.load_state_dict(torch.load(path))\n",
    "        model.to(device)\n",
    "        model.eval()\n",
    "        train_bce += bce_model(train_data, model)\n",
    "        test_bce += bce_model(test_data, model)\n",
    "    train_bces.append((train_bce/trial_num).item())\n",
    "    test_bces.append((test_bce/trial_num).item())\n",
    "\n",
    "print(\"Global Gate VAE\")\n",
    "print(\"Train BCES\")\n",
    "print(train_bces)\n",
    "print(\"Test BCES\")\n",
    "print(test_bces)"
   ]
  },
  {
   "cell_type": "code",
   "execution_count": 34,
   "metadata": {},
   "outputs": [
    {
     "data": {
      "text/plain": [
       "<matplotlib.legend.Legend at 0x7efcd1bfe350>"
      ]
     },
     "execution_count": 34,
     "metadata": {},
     "output_type": "execute_result"
    },
    {
     "data": {
      "image/png": "[encoded data removed]",
      "text/plain": [
       "<Figure size 432x288 with 1 Axes>"
      ]
     },
     "metadata": {
      "needs_background": "light"
     },
     "output_type": "display_data"
    }
   ],
   "source": [
    "fig = plt.figure()\n",
    "plt.plot(k_lab, train_bces, label = 'Train BCE')\n",
    "plt.plot(k_lab, test_bces, label = 'Test BCE')\n",
    "\n",
    "plt.title(\"BCE of Global Gate VAE\")\n",
    "plt.xlabel(\"Choosen Features (k)\")\n",
    "plt.ylabel(\"BCE\")\n",
    "plt.legend()"
   ]
  },
  {
   "cell_type": "markdown",
   "metadata": {},
   "source": [
    "RunningState VAE"
   ]
  },
  {
   "cell_type": "code",
   "execution_count": 35,
   "metadata": {},
   "outputs": [
    {
     "name": "stdout",
     "output_type": "stream",
     "text": [
      "RunningState VAE\n",
      "Train BCES\n",
      "[30.79286003112793, 29.8808536529541, 29.420034408569336, 29.287586212158203, 29.13748550415039]\n",
      "Test BCES\n",
      "[30.82596778869629, 29.924489974975586, 29.476173400878906, 29.326866149902344, 29.184446334838867]\n"
     ]
    }
   ],
   "source": [
    "train_bces = []\n",
    "test_bces = []\n",
    "for k in k_lab:\n",
    "    train_bce = 0\n",
    "    test_bce = 0\n",
    "    # test model\n",
    "    path = '../data/models/final_run/runningstate_vae/k_{}/model_trial_{}.pt'.format(k, 1)\n",
    "    model = VAE_Gumbel_RunningState(2*D, 100, 20, k = k, t = global_t, alpha = 0.9) \n",
    "    model.logit_enc = nn.Parameter(torch.zeros(2*D).view(1, -1))\n",
    "    model.load_state_dict(torch.load(path))\n",
    "    model.to(device)\n",
    "    model.eval()\n",
    "    train_bce = bce_model(train_data, model)\n",
    "    test_bce = bce_model(test_data, model)\n",
    "    train_bces.append((train_bce).item())\n",
    "    test_bces.append((test_bce).item())\n",
    "    \n",
    "print(\"RunningState VAE\")\n",
    "print(\"Train BCES\")\n",
    "print(train_bces)\n",
    "print(\"Test BCES\")\n",
    "print(test_bces)"
   ]
  },
  {
   "cell_type": "code",
   "execution_count": 36,
   "metadata": {},
   "outputs": [
    {
     "data": {
      "text/plain": [
       "<matplotlib.legend.Legend at 0x7efcd1bf85d0>"
      ]
     },
     "execution_count": 36,
     "metadata": {},
     "output_type": "execute_result"
    },
    {
     "data": {
      "image/png": "[encoded data removed]",
      "text/plain": [
       "<Figure size 432x288 with 1 Axes>"
      ]
     },
     "metadata": {
      "needs_background": "light"
     },
     "output_type": "display_data"
    }
   ],
   "source": [
    "fig = plt.figure()\n",
    "plt.plot(k_lab, train_bces, label = 'Train BCE')\n",
    "plt.plot(k_lab, test_bces, label = 'Test BCE')\n",
    "\n",
    "plt.title(\"BCE of RunningState VAE\")\n",
    "plt.xlabel(\"Choosen Features (k)\")\n",
    "plt.ylabel(\"BCE\")\n",
    "plt.legend()"
   ]
  },
  {
   "cell_type": "markdown",
   "metadata": {},
   "source": [
    "Concrete VAE"
   ]
  },
  {
   "cell_type": "code",
   "execution_count": 37,
   "metadata": {},
   "outputs": [
    {
     "name": "stdout",
     "output_type": "stream",
     "text": [
      "Concrete VAE\n",
      "Train BCES\n",
      "[31.291473388671875, 30.965808868408203, 30.55527114868164, 30.193090438842773, 29.898605346679688]\n",
      "Test BCES\n",
      "[31.33077049255371, 31.01283836364746, 30.614179611206055, 30.20159912109375, 29.921903610229492]\n"
     ]
    }
   ],
   "source": [
    "train_bces = []\n",
    "test_bces = []\n",
    "for k in k_lab:\n",
    "    train_bce = 0\n",
    "    test_bce = 0\n",
    "    for trial in range(1, 1+trial_num):\n",
    "        # test model\n",
    "        path = '../data/models/final_run/concrete_vae_nmsl/k_{}/model_trial_{}.pt'.format(k, trial_num)\n",
    "        model = ConcreteVAE_NMSL(2*D, 100, 20, k = k, t = global_t) \n",
    "        model.load_state_dict(torch.load(path))\n",
    "        model.to(device)\n",
    "        train_bce += bce_model(train_data, model)\n",
    "        test_bce += bce_model(test_data, model)\n",
    "    train_bces.append((train_bce/trial_num).item())\n",
    "    test_bces.append((test_bce/trial_num).item())\n",
    "    \n",
    "print(\"Concrete VAE\")\n",
    "print(\"Train BCES\")\n",
    "print(train_bces)\n",
    "print(\"Test BCES\")\n",
    "print(test_bces)"
   ]
  },
  {
   "cell_type": "code",
   "execution_count": 38,
   "metadata": {},
   "outputs": [
    {
     "data": {
      "text/plain": [
       "<matplotlib.legend.Legend at 0x7efcd1b78110>"
      ]
     },
     "execution_count": 38,
     "metadata": {},
     "output_type": "execute_result"
    },
    {
     "data": {
      "image/png": "[encoded data removed]",
      "text/plain": [
       "<Figure size 432x288 with 1 Axes>"
      ]
     },
     "metadata": {
      "needs_background": "light"
     },
     "output_type": "display_data"
    }
   ],
   "source": [
    "fig = plt.figure()\n",
    "plt.plot(k_lab, train_bces, label = 'Train BCE')\n",
    "plt.plot(k_lab, test_bces, label = 'Test BCE')\n",
    "\n",
    "plt.title(\"BCE of Concrete VAE\")\n",
    "plt.xlabel(\"Choosen Features (k)\")\n",
    "plt.ylabel(\"BCE\")\n",
    "plt.legend()"
   ]
  },
  {
   "cell_type": "markdown",
   "metadata": {},
   "source": [
    "**Look at Top Logits and Top Subsets of Each Method**"
   ]
  },
  {
   "cell_type": "code",
   "execution_count": 39,
   "metadata": {},
   "outputs": [],
   "source": [
    "from functools import partial"
   ]
  },
  {
   "cell_type": "code",
   "execution_count": 40,
   "metadata": {},
   "outputs": [],
   "source": [
    "def load_model(path, model_constructor):\n",
    "    model = model_constructor()\n",
    "    if 'runningstate_vae' in path:\n",
    "        model.logit_enc = nn.Parameter(torch.zeros(2*D).view(1, -1))\n",
    "    model.load_state_dict(torch.load(path))\n",
    "    model.to(device)\n",
    "    model.eval()\n",
    "    \n",
    "    return model"
   ]
  },
  {
   "cell_type": "code",
   "execution_count": 41,
   "metadata": {},
   "outputs": [],
   "source": [
    "def visualize_top_logits_generic(data, model_type, model_constructor, logits_getter, trial_num = 5):\n",
    "    print(\"TOP LOGITS ARE DE-DUPLICATED. MAKES CONCRETE LOOK WORSE\")\n",
    "    generic_path = '../data/models/final_run/{}/k_{}/model_trial_{}.pt'\n",
    "    inds = np.arange(data.shape[0])\n",
    "    \n",
    "    fig, axes = plt.subplots(nrows = 2, ncols = len(k_lab), figsize = (15, 10))\n",
    "    labels = ['logits', 'subsets']\n",
    "    y_labels = ['Frequency', 'Activation']\n",
    "    titles = ['Top Logits', 'Feature Strength']\n",
    "    graph_logits = []\n",
    "    graph_subsets = []\n",
    "    \n",
    "    \n",
    "    for k in k_lab:\n",
    "        all_logits = torch.zeros(data.shape[1], dtype = torch.float32)\n",
    "        all_subsets = torch.zeros(data.shape[1], dtype = torch.float32)\n",
    "        all_logits = all_logits.to(device)\n",
    "        all_subsets = all_subsets.to(device)\n",
    "        for trial in range(1, 1+trial_num):\n",
    "            # test model\n",
    "            path = generic_path.format(model_type, k, trial_num)\n",
    "            model_constr = partial(model_constructor, 2*D, 100, 20, k = k, t = global_t)\n",
    "            model = load_model(path, model_constr)\n",
    "            \n",
    "            logits, gumbels = logits_getter(test_data, model)\n",
    "            \n",
    "            all_logits += logits\n",
    "            all_subsets += gumbels\n",
    "            \n",
    "        all_logits /= trial_num\n",
    "        all_subsets /= trial_num\n",
    "        graph_logits.append(all_logits)\n",
    "        graph_subsets.append(all_subsets)\n",
    "    feature_ind = np.arange(2*D)\n",
    "    for i in range(len(k_lab)):\n",
    "        ax0 = axes[0, i]\n",
    "        ax1 = axes[1, i]\n",
    "        ax0.bar(feature_ind, graph_logits[i].cpu().numpy())\n",
    "        ax1.bar(feature_ind, graph_subsets[i].cpu().numpy())\n",
    "        ax1.set_xlabel(\"Chosen Number of Features\")\n",
    "        ax0.set_title(\"Top Logits, k = {}\".format(k_lab[i]))\n",
    "        ax1.set_title(\"Feature Strength, k = {}\".format(k_lab[i]))\n",
    "        \n",
    "    axes[0, 0].set_ylabel(\"Frequency\")\n",
    "    axes[1, 0].set_ylabel(\"Actiation\")\n",
    "    plt.tight_layout()\n",
    "        \n",
    "        \n"
   ]
  },
  {
   "cell_type": "code",
   "execution_count": 42,
   "metadata": {},
   "outputs": [
    {
     "name": "stdout",
     "output_type": "stream",
     "text": [
      "TOP LOGITS ARE DE-DUPLICATED. MAKES CONCRETE LOOK WORSE\n"
     ]
    },
    {
     "data": {
      "image/png": "[encoded data removed]",
      "text/plain": [
       "<Figure size 1080x720 with 10 Axes>"
      ]
     },
     "metadata": {
      "needs_background": "light"
     },
     "output_type": "display_data"
    }
   ],
   "source": [
    "visualize_top_logits_generic(test_data, 'vanilla_vae_gumbel', VAE_Gumbel, top_logits_gumbel_vanilla_vae_gumbel)"
   ]
  },
  {
   "cell_type": "code",
   "execution_count": 43,
   "metadata": {},
   "outputs": [
    {
     "name": "stdout",
     "output_type": "stream",
     "text": [
      "TOP LOGITS ARE DE-DUPLICATED. MAKES CONCRETE LOOK WORSE\n"
     ]
    },
    {
     "data": {
      "image/png": "[encoded data removed]",
      "text/plain": [
       "<Figure size 1080x720 with 10 Axes>"
      ]
     },
     "metadata": {
      "needs_background": "light"
     },
     "output_type": "display_data"
    }
   ],
   "source": [
    "visualize_top_logits_generic(test_data, 'batching_gumbel_vae', \n",
    "                             VAE_Gumbel_NInsta, top_logits_gumbel_batching_vae_gumbel)"
   ]
  },
  {
   "cell_type": "code",
   "execution_count": 44,
   "metadata": {},
   "outputs": [
    {
     "name": "stdout",
     "output_type": "stream",
     "text": [
      "TOP LOGITS ARE DE-DUPLICATED. MAKES CONCRETE LOOK WORSE\n"
     ]
    },
    {
     "data": {
      "image/png": "[encoded data removed]",
      "text/plain": [
       "<Figure size 1080x720 with 10 Axes>"
      ]
     },
     "metadata": {
      "needs_background": "light"
     },
     "output_type": "display_data"
    }
   ],
   "source": [
    "visualize_top_logits_generic(test_data, 'globalgate_vae', \n",
    "                             VAE_Gumbel_GlobalGate, top_logits_gumbel_globalgate_vae)"
   ]
  },
  {
   "cell_type": "code",
   "execution_count": 45,
   "metadata": {},
   "outputs": [
    {
     "name": "stdout",
     "output_type": "stream",
     "text": [
      "TOP LOGITS ARE DE-DUPLICATED. MAKES CONCRETE LOOK WORSE\n"
     ]
    },
    {
     "data": {
      "image/png": "[encoded data removed]",
      "text/plain": [
       "<Figure size 1080x720 with 10 Axes>"
      ]
     },
     "metadata": {
      "needs_background": "light"
     },
     "output_type": "display_data"
    }
   ],
   "source": [
    "visualize_top_logits_generic(test_data, 'runningstate_vae', \n",
    "                             VAE_Gumbel_RunningState, top_logits_gumbel_runningstate_vae, trial_num=1)"
   ]
  },
  {
   "cell_type": "code",
   "execution_count": 46,
   "metadata": {},
   "outputs": [
    {
     "name": "stdout",
     "output_type": "stream",
     "text": [
      "TOP LOGITS ARE DE-DUPLICATED. MAKES CONCRETE LOOK WORSE\n"
     ]
    },
    {
     "data": {
      "image/png": "[encoded data removed]",
      "text/plain": [
       "<Figure size 1080x720 with 10 Axes>"
      ]
     },
     "metadata": {
      "needs_background": "light"
     },
     "output_type": "display_data"
    }
   ],
   "source": [
    "visualize_top_logits_generic(test_data, 'concrete_vae_nmsl', \n",
    "                             ConcreteVAE_NMSL, top_logits_gumbel_concrete_vae_nsml, trial_num=5)"
   ]
  },
  {
   "cell_type": "markdown",
   "metadata": {},
   "source": [
    "Not as good as global gate or running state because it picks tings mulitple times."
   ]
  },
  {
   "cell_type": "markdown",
   "metadata": {},
   "source": [
    "Now Handle Distinct Rate\n",
    "\n",
    "**Question**: How many in the top k are distinct?"
   ]
  },
  {
   "cell_type": "code",
   "execution_count": 163,
   "metadata": {},
   "outputs": [],
   "source": [
    "def distinct_top_logits_vanilla_vae_gumbel(data, model):\n",
    "    assert isinstance(model, VAE_Gumbel)\n",
    "    all_logits = torch.zeros(data.shape[1], dtype = torch.float32)\n",
    "    all_logits = all_logits.to(device)\n",
    "    inds = np.arange(data.shape[0])\n",
    "    with torch.no_grad():\n",
    "        for i in range(math.ceil(len(data)/batch_size)):\n",
    "            batch_ind = inds[i * batch_size : (i+1) * batch_size]\n",
    "            batch_data = data[batch_ind, :]\n",
    "            \n",
    "            logits = model.weight_creator(batch_data)\n",
    "            \n",
    "            logits = logits.clone()\n",
    "\n",
    "            logits = continuous_topk(logits, k=model.k, t=model.t, separate = True)\n",
    "\n",
    "            max_idx = torch.argmax(logits, dim = 2, keepdim = True)\n",
    "            one_hot = Tensor(logits.shape)\n",
    "            one_hot.zero_()\n",
    "            one_hot.scatter_(2, max_idx, 1)\n",
    "\n",
    "            # one_hot here is for each each instance, how many times did we pick a thing\n",
    "            one_hot = one_hot.sum(dim = 0)\n",
    "            \n",
    "            one_hot[one_hot > 1] = 1\n",
    "            all_logits += one_hot.sum(dim = 0)\n",
    "    \n",
    "    return all_logits.sum()/data.shape[0]/model.k"
   ]
  },
  {
   "cell_type": "code",
   "execution_count": 164,
   "metadata": {},
   "outputs": [],
   "source": [
    "def distinct_top_logits_batching_vae_gumbel(data, model):\n",
    "    assert isinstance(model, VAE_Gumbel_NInsta)\n",
    "    all_logits = torch.zeros(data.shape[1], dtype = torch.float32)\n",
    "    all_logits = all_logits.to(device)\n",
    "    inds = np.arange(data.shape[0])\n",
    "    num_batches = math.ceil(len(data)/batch_size)\n",
    "    with torch.no_grad():\n",
    "        for i in range(num_batches):\n",
    "            batch_ind = inds[i * batch_size : (i+1) * batch_size]\n",
    "            batch_data = data[batch_ind, :]\n",
    "\n",
    "            w0 = model.weight_creator(batch_data)\n",
    "            w = w0.mean(dim = 0)\n",
    "            \n",
    "            logits = continuous_topk(w, k=model.k, t=model.t, separate = True)\n",
    "\n",
    "            max_idx = torch.argmax(logits, dim = 1, keepdim = True)\n",
    "            one_hot = Tensor(logits.shape)\n",
    "            one_hot.zero_()\n",
    "            one_hot.scatter_(1, max_idx, 1)\n",
    "            one_hot = one_hot.sum(dim = 0)\n",
    "            one_hot[one_hot > 1] = 1\n",
    "            all_logits += one_hot\n",
    "            \n",
    "    \n",
    "        all_logits /= (num_batches * model.k)\n",
    "\n",
    "    \n",
    "    return all_logits.sum()"
   ]
  },
  {
   "cell_type": "code",
   "execution_count": null,
   "metadata": {},
   "outputs": [],
   "source": []
  },
  {
   "cell_type": "code",
   "execution_count": 165,
   "metadata": {},
   "outputs": [],
   "source": [
    "def distinct_top_logits_concrete_vae(data, model):\n",
    "    assert isinstance(model, ConcreteVAE_NMSL)\n",
    "    \n",
    "    all_logits = torch.zeros(data.shape[1], dtype = torch.float32)\n",
    "    all_logits = all_logits.to(device)\n",
    "    inds = np.arange(data.shape[0])\n",
    "    num_batches = math.ceil(len(data)/batch_size)\n",
    "    with torch.no_grad():\n",
    "        \n",
    "            \n",
    "            \n",
    "            \n",
    "    \n",
    "        all_logits /= (num_batches * model.k)\n",
    "\n",
    "    \n",
    "    return all_logits.sum()"
   ]
  },
  {
   "cell_type": "code",
   "execution_count": 166,
   "metadata": {},
   "outputs": [
    {
     "data": {
      "text/plain": [
       "tensor(0.9162, device='cuda:0')"
      ]
     },
     "execution_count": 166,
     "metadata": {},
     "output_type": "execute_result"
    }
   ],
   "source": [
    "# test model\n",
    "path = '../data/models/final_run/vanilla_vae_gumbel/k_30/model_trial_3.pt'\n",
    "model = VAE_Gumbel(2*D, 100, 20, k = 30, t = global_t) \n",
    "model.load_state_dict(torch.load(path))\n",
    "model.to(device)\n",
    "distinct_top_logits_vanilla_vae_gumbel(test_data, model)"
   ]
  },
  {
   "cell_type": "code",
   "execution_count": null,
   "metadata": {},
   "outputs": [],
   "source": []
  },
  {
   "cell_type": "code",
   "execution_count": 162,
   "metadata": {},
   "outputs": [
    {
     "data": {
      "text/plain": [
       "tensor(0.9135, device='cuda:0')"
      ]
     },
     "execution_count": 162,
     "metadata": {},
     "output_type": "execute_result"
    }
   ],
   "source": [
    "# test model\n",
    "path = '../data/models/final_run/batching_gumbel_vae/k_30/model_trial_3.pt'\n",
    "model = VAE_Gumbel_NInsta(2*D, 100, 20, k = 30, t = global_t) \n",
    "model.load_state_dict(torch.load(path))\n",
    "model.to(device)\n",
    "model.eval()\n",
    "\n",
    "distinct_top_logits_batching_vae_gumbel(test_data, model).sum()\n"
   ]
  },
  {
   "cell_type": "code",
   "execution_count": 168,
   "metadata": {},
   "outputs": [
    {
     "data": {
      "text/plain": [
       "ConcreteVAE_NMSL(\n",
       "  (encoder): Sequential(\n",
       "    (0): Linear(in_features=30, out_features=100, bias=True)\n",
       "    (1): LeakyReLU(negative_slope=0.01)\n",
       "  )\n",
       "  (enc_mean): Linear(in_features=100, out_features=20, bias=True)\n",
       "  (enc_logvar): Linear(in_features=100, out_features=20, bias=True)\n",
       "  (decoder): Sequential(\n",
       "    (0): Linear(in_features=20, out_features=100, bias=True)\n",
       "    (1): LeakyReLU(negative_slope=0.01)\n",
       "    (2): Linear(in_features=100, out_features=60, bias=True)\n",
       "    (3): Sigmoid()\n",
       "  )\n",
       ")"
      ]
     },
     "execution_count": 168,
     "metadata": {},
     "output_type": "execute_result"
    }
   ],
   "source": [
    "# test model\n",
    "path = '../data/models/final_run/concrete_vae_nmsl/k_30/model_trial_3.pt'\n",
    "model = ConcreteVAE_NMSL(2*D, 100, 20, k = 30, t = global_t) \n",
    "model.load_state_dict(torch.load(path))\n",
    "model.to(device)\n",
    "model.eval()"
   ]
  },
  {
   "cell_type": "code",
   "execution_count": 177,
   "metadata": {},
   "outputs": [],
   "source": [
    "max_inds = torch.argmax(model.logit_enc, dim = 1)"
   ]
  },
  {
   "cell_type": "code",
   "execution_count": 181,
   "metadata": {},
   "outputs": [],
   "source": [
    "one_hot = torch.nn.functional.one_hot(max_inds, num_classes = 2*D).sum(dim = 0)\n",
    "one_hot[one_hot > 1] = 1 "
   ]
  },
  {
   "cell_type": "code",
   "execution_count": 183,
   "metadata": {},
   "outputs": [
    {
     "data": {
      "text/plain": [
       "tensor(0.6000, device='cuda:0')"
      ]
     },
     "execution_count": 183,
     "metadata": {},
     "output_type": "execute_result"
    }
   ],
   "source": [
    "1.0*one_hot.sum()/model.k"
   ]
  },
  {
   "cell_type": "code",
   "execution_count": null,
   "metadata": {},
   "outputs": [],
   "source": []
  }
 ],
 "metadata": {
  "kernelspec": {
   "display_name": "Python [conda env:nyu] *",
   "language": "python",
   "name": "conda-env-nyu-py"
  },
  "language_info": {
   "codemirror_mode": {
    "name": "ipython",
    "version": 3
   },
   "file_extension": ".py",
   "mimetype": "text/x-python",
   "name": "python",
   "nbconvert_exporter": "python",
   "pygments_lexer": "ipython3",
   "version": "3.7.6"
  }
 },
 "nbformat": 4,
 "nbformat_minor": 4
}
