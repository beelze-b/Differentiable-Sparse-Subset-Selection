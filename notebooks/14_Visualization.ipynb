{
 "cells": [
  {
   "cell_type": "code",
   "execution_count": 1,
   "metadata": {},
   "outputs": [],
   "source": [
    "import torch\n",
    "\n",
    "\n",
    "from torch import nn\n",
    "from torch.autograd import Variable\n",
    "from torch.nn import functional as F\n",
    "\n",
    "import numpy as np\n",
    "\n",
    "import matplotlib.pyplot as plt\n",
    "#from sklearn.manifold import TSNE\n",
    "\n",
    "#import math\n",
    "\n",
    "#import gc\n",
    "\n",
    "from utils import *\n",
    "\n",
    "from sklearn.preprocessing import MinMaxScaler\n",
    "\n",
    "from scipy.stats import pearsonr\n",
    "\n",
    "import seaborn as sns\n",
    "import os"
   ]
  },
  {
   "cell_type": "code",
   "execution_count": 2,
   "metadata": {},
   "outputs": [],
   "source": [
    "import matplotlib.pyplot as plt"
   ]
  },
  {
   "cell_type": "code",
   "execution_count": 3,
   "metadata": {},
   "outputs": [],
   "source": [
    "torch.manual_seed(0)\n",
    "np.random.seed(0)"
   ]
  },
  {
   "cell_type": "code",
   "execution_count": 4,
   "metadata": {},
   "outputs": [
    {
     "name": "stdout",
     "output_type": "stream",
     "text": [
      "Device\n",
      "cuda:0\n"
     ]
    }
   ],
   "source": [
    "cuda = True if torch.cuda.is_available() else False\n",
    "\n",
    "Tensor = torch.cuda.FloatTensor if cuda else torch.FloatTensor\n",
    "\n",
    "device = torch.device(\"cuda:0\" if cuda else \"cpu\")\n",
    "#device = 'cpu'\n",
    "print(\"Device\")\n",
    "print(device)"
   ]
  },
  {
   "cell_type": "code",
   "execution_count": 5,
   "metadata": {},
   "outputs": [],
   "source": [
    "D = 30\n",
    "N = 10000\n",
    "z_size = 8\n",
    "\n",
    "# really good results for vanilla VAE on synthetic data with EPOCHS set to 50, \n",
    "# but when running locally set to 10 for reasonable run times\n",
    "n_epochs = 600\n",
    "batch_size = 64\n",
    "lr = 0.0001\n",
    "b1 = 0.9\n",
    "b2 = 0.999\n",
    "\n",
    "global_t = 0.0096\n",
    "k_lab = [D//10, D//6, D//3, D//2, D]\n",
    "trial_num = 5"
   ]
  },
  {
   "cell_type": "code",
   "execution_count": 6,
   "metadata": {},
   "outputs": [
    {
     "data": {
      "text/plain": [
       "tensor([[0.0000, 0.1907, 0.0000,  ..., 0.5329, 0.6371, 0.4690],\n",
       "        [0.0000, 0.0000, 0.0000,  ..., 0.3878, 0.3787, 0.6062],\n",
       "        [0.1067, 0.0000, 0.0000,  ..., 0.4175, 0.3398, 0.6803],\n",
       "        ...,\n",
       "        [0.0000, 0.0000, 0.0000,  ..., 0.4536, 0.8283, 0.6763],\n",
       "        [0.0000, 0.2083, 0.0000,  ..., 0.6805, 0.5686, 0.5650],\n",
       "        [0.0000, 0.0000, 0.0000,  ..., 0.1979, 0.5258, 0.3618]],\n",
       "       device='cuda:0')"
      ]
     },
     "execution_count": 6,
     "metadata": {},
     "output_type": "execute_result"
    }
   ],
   "source": [
    "train_data, test_data = generate_synthetic_data_with_noise(N, z_size, D)\n",
    "train_data.to(device)\n",
    "test_data.to(device)"
   ]
  },
  {
   "cell_type": "code",
   "execution_count": 7,
   "metadata": {},
   "outputs": [],
   "source": [
    "BASE_PATH = \"../data/models/final_run/\"\n",
    "# BASE_PATH = '/scratch/ns3429/sparse-subset/data/models/final_run/'"
   ]
  },
  {
   "cell_type": "code",
   "execution_count": 8,
   "metadata": {},
   "outputs": [],
   "source": [
    "def load_trial_model(trial_path, k):\n",
    "    if ('vanilla_vae_gumbel' in trial_path):\n",
    "        model = VAE_Gumbel(2*D, 100, 20, k = k, t = global_t) \n",
    "    if ('batching_gumbel_vae' in trial_path):\n",
    "        model = VAE_Gumbel_NInsta(2*D, 100, 20, k = k, t = global_t)\n",
    "    if ('globalgate_vae' in trial_path):\n",
    "        model = VAE_Gumbel_GlobalGate(2*D, 100, 20, k = k, t = global_t)\n",
    "    if ('runningstate_vae' in trial_path):\n",
    "        model = VAE_Gumbel_RunningState(2*D, 100, 20, k = k, t = global_t, alpha = 0.9)\n",
    "    if ('concrete_vae_nmsl' in trial_path):\n",
    "        model = ConcreteVAE_NMSL(2*D, 100, 20, k = k, t = global_t)\n",
    "    \n",
    "    model.load_state_dict(torch.load(trial_path))\n",
    "    model.to(device)\n",
    "    model.eval()\n",
    "    \n",
    "    return model"
   ]
  },
  {
   "cell_type": "code",
   "execution_count": 9,
   "metadata": {},
   "outputs": [],
   "source": [
    "def obtain_model_metrics(model):\n",
    "    pass"
   ]
  },
  {
   "cell_type": "code",
   "execution_count": 10,
   "metadata": {},
   "outputs": [
    {
     "data": {
      "text/plain": [
       "VAE_Gumbel(\n",
       "  (encoder): Sequential(\n",
       "    (0): Linear(in_features=60, out_features=100, bias=True)\n",
       "    (1): LeakyReLU(negative_slope=0.01)\n",
       "  )\n",
       "  (enc_mean): Linear(in_features=100, out_features=20, bias=True)\n",
       "  (enc_logvar): Linear(in_features=100, out_features=20, bias=True)\n",
       "  (decoder): Sequential(\n",
       "    (0): Linear(in_features=20, out_features=100, bias=True)\n",
       "    (1): LeakyReLU(negative_slope=0.01)\n",
       "    (2): Linear(in_features=100, out_features=60, bias=True)\n",
       "    (3): Sigmoid()\n",
       "  )\n",
       "  (weight_creator): Sequential(\n",
       "    (0): Linear(in_features=60, out_features=100, bias=True)\n",
       "    (1): ReLU()\n",
       "    (2): Linear(in_features=100, out_features=60, bias=True)\n",
       "    (3): LeakyReLU(negative_slope=0.01)\n",
       "  )\n",
       ")"
      ]
     },
     "execution_count": 10,
     "metadata": {},
     "output_type": "execute_result"
    }
   ],
   "source": [
    "# test model\n",
    "path = '../data/models/final_run/vanilla_vae_gumbel/k_15/model_trial_3.pt'\n",
    "model = VAE_Gumbel(2*D, 100, 20, k = 15, t = global_t) \n",
    "model.load_state_dict(torch.load(path))\n",
    "model.to(device)"
   ]
  },
  {
   "cell_type": "markdown",
   "metadata": {},
   "source": [
    "BCE"
   ]
  },
  {
   "cell_type": "code",
   "execution_count": 11,
   "metadata": {},
   "outputs": [],
   "source": [
    "test_df = test_data[0:64, :]\n",
    "with torch.no_grad():\n",
    "    pred_df = model(test_df)[0]"
   ]
  },
  {
   "cell_type": "code",
   "execution_count": 12,
   "metadata": {},
   "outputs": [
    {
     "data": {
      "text/plain": [
       "tensor([0.0464, 0.1195, 0.0845, 0.0104, 0.2252, 0.1259, 0.1879, 0.2976, 0.1553,\n",
       "        0.1303, 0.3214, 0.1200, 0.0780, 0.2892, 0.1563, 0.0764, 0.1087, 0.0170,\n",
       "        0.3132, 0.1194, 0.0414, 0.1190, 0.1890, 0.1809, 0.1659, 0.1510, 0.1903,\n",
       "        0.1344, 0.0871, 0.0294, 0.4809, 0.4847, 0.4540, 0.4661, 0.4507, 0.5386,\n",
       "        0.5251, 0.4553, 0.4645, 0.5043, 0.5350, 0.4467, 0.4940, 0.4733, 0.5062,\n",
       "        0.4916, 0.4410, 0.4825, 0.4733, 0.4785, 0.5255, 0.4801, 0.5315, 0.5335,\n",
       "        0.5443, 0.4986, 0.5396, 0.4663, 0.4663, 0.4903], device='cuda:0')"
      ]
     },
     "execution_count": 12,
     "metadata": {},
     "output_type": "execute_result"
    }
   ],
   "source": [
    "test_df.mean(dim = 0)"
   ]
  },
  {
   "cell_type": "code",
   "execution_count": 13,
   "metadata": {},
   "outputs": [
    {
     "data": {
      "text/plain": [
       "tensor([0.0597, 0.1226, 0.0933, 0.0215, 0.2053, 0.1183, 0.1893, 0.3040, 0.1669,\n",
       "        0.1424, 0.3139, 0.1237, 0.0896, 0.2730, 0.1713, 0.0849, 0.1042, 0.0147,\n",
       "        0.3174, 0.1056, 0.0482, 0.1075, 0.1956, 0.1717, 0.1571, 0.1396, 0.1914,\n",
       "        0.1399, 0.0898, 0.0288, 0.4693, 0.5045, 0.4498, 0.4650, 0.4320, 0.5507,\n",
       "        0.5151, 0.4588, 0.4848, 0.5051, 0.5325, 0.4693, 0.5141, 0.4666, 0.5050,\n",
       "        0.5037, 0.4518, 0.5022, 0.4758, 0.4790, 0.5430, 0.4874, 0.5152, 0.5137,\n",
       "        0.5315, 0.5029, 0.5219, 0.4826, 0.4931, 0.5091], device='cuda:0')"
      ]
     },
     "execution_count": 13,
     "metadata": {},
     "output_type": "execute_result"
    }
   ],
   "source": [
    "pred_df.mean(dim=0)"
   ]
  },
  {
   "cell_type": "code",
   "execution_count": 14,
   "metadata": {},
   "outputs": [
    {
     "data": {
      "text/plain": [
       "tensor(1867.6130, device='cuda:0')"
      ]
     },
     "execution_count": 14,
     "metadata": {},
     "output_type": "execute_result"
    }
   ],
   "source": [
    "F.binary_cross_entropy(pred_df, test_df, reduction = 'sum')"
   ]
  },
  {
   "cell_type": "code",
   "execution_count": 15,
   "metadata": {},
   "outputs": [],
   "source": [
    "def bce_model(data, model):\n",
    "    test_loss = 0\n",
    "    inds = np.arange(test_data.shape[0])\n",
    "    with torch.no_grad():\n",
    "        for i in range(math.ceil(len(data)/batch_size)):\n",
    "            batch_ind = inds[i * batch_size : (i+1) * batch_size]\n",
    "            batch_data = data[batch_ind, :]\n",
    "\n",
    "            test_pred = model(batch_data)[0]\n",
    "\n",
    "\n",
    "            test_loss += F.binary_cross_entropy(test_pred, batch_data, reduction='sum')\n",
    "\n",
    "            del batch_data\n",
    "    return test_loss / data.shape[0]"
   ]
  },
  {
   "cell_type": "code",
   "execution_count": 16,
   "metadata": {},
   "outputs": [
    {
     "data": {
      "text/plain": [
       "tensor(29.2328, device='cuda:0')"
      ]
     },
     "execution_count": 16,
     "metadata": {},
     "output_type": "execute_result"
    }
   ],
   "source": [
    "bce_model(test_data, model)"
   ]
  },
  {
   "cell_type": "code",
   "execution_count": 17,
   "metadata": {},
   "outputs": [],
   "source": [
    "def top_logits_gumbel_vanilla_vae_gumbel(data, model):\n",
    "    assert isinstance(model, VAE_Gumbel)\n",
    "    all_logits = torch.zeros(data.shape[1], dtype = torch.float32)\n",
    "    all_subsets = torch.zeros(data.shape[1], dtype = torch.float32)\n",
    "    all_logits = all_logits.to(device)\n",
    "    all_subsets = all_subsets.to(device)\n",
    "    inds = np.arange(data.shape[0])\n",
    "    with torch.no_grad():\n",
    "        for i in range(math.ceil(len(data)/batch_size)):\n",
    "            batch_ind = inds[i * batch_size : (i+1) * batch_size]\n",
    "            batch_data = data[batch_ind, :]\n",
    "            \n",
    "            logits = model.weight_creator(batch_data)\n",
    "            \n",
    "            \n",
    "            topk_logits = torch.topk(logits, k = model.k, dim = 1, sorted = True)[1]\n",
    "            one_hotted_top_k = torch.nn.functional.one_hot(topk_logits, num_classes = data.shape[1]).sum(dim = 1)\n",
    "            \n",
    "            #subsets = sample_subset(logits, model.k, model.t, separate = True)\n",
    "            subsets = sample_subset(logits, model.k, model.t)\n",
    "            #max_idx = torch.argmax(subsets, 2, keepdim=True)\n",
    "            #one_hot = Tensor(subsets.shape)\n",
    "            #one_hot.zero_()\n",
    "            #one_hot.scatter_(2, max_idx, 1)\n",
    "    \n",
    "    \n",
    "            all_logits += one_hotted_top_k.sum(dim = 0)\n",
    "            #all_subsets += one_hot.sum(dim = (0, 1))\n",
    "            all_subsets += subsets.sum(dim = 0)\n",
    "            \n",
    "            \n",
    "    \n",
    "        all_logits /= train_data.shape[0]\n",
    "        all_subsets /= train_data.shape[0]\n",
    "    \n",
    "    return all_logits, all_subsets"
   ]
  },
  {
   "cell_type": "code",
   "execution_count": 18,
   "metadata": {},
   "outputs": [],
   "source": [
    "def top_logits_gumbel_batching_vae_gumbel(data, model):\n",
    "    assert isinstance(model, VAE_Gumbel_NInsta)\n",
    "    all_logits = torch.zeros(data.shape[1], dtype = torch.float32)\n",
    "    all_subsets = torch.zeros(data.shape[1], dtype = torch.float32)\n",
    "    all_logits = all_logits.to(device)\n",
    "    all_subsets = all_subsets.to(device)\n",
    "    inds = np.arange(data.shape[0])\n",
    "    num_batches = math.ceil(len(data)/batch_size)\n",
    "    with torch.no_grad():\n",
    "        for i in range(num_batches):\n",
    "            batch_ind = inds[i * batch_size : (i+1) * batch_size]\n",
    "            batch_data = data[batch_ind, :]\n",
    "\n",
    "            w0 = model.weight_creator(batch_data)\n",
    "            w = w0.mean(dim = 0)\n",
    "            top_k_logits = torch.topk(w, k = model.k, sorted = True)[1]\n",
    "            enc_top_logits = torch.nn.functional.one_hot(top_k_logits, num_classes = 2*D).sum(dim = 0)\n",
    "\n",
    "            #subsets = sample_subset(w, model.k,model.t,True)\n",
    "            subsets = sample_subset(w, model.k,model.t)\n",
    "            #max_idx = torch.argmax(subsets, 1, keepdim=True)\n",
    "            #one_hot = Tensor(subsets.shape)\n",
    "            #one_hot.zero_()\n",
    "            #one_hot.scatter_(1, max_idx, 1)\n",
    "            \n",
    "            all_logits += enc_top_logits\n",
    "            all_subsets += subsets\n",
    "    \n",
    "        all_logits /= num_batches\n",
    "        all_subsets /= num_batches\n",
    "    \n",
    "    return all_logits, all_subsets"
   ]
  },
  {
   "cell_type": "code",
   "execution_count": 19,
   "metadata": {},
   "outputs": [],
   "source": [
    "def top_logits_gumbel_globalgate_vae(data, model):\n",
    "    assert isinstance(model, VAE_Gumbel_GlobalGate)\n",
    "    with torch.no_grad():\n",
    "        w = model.logit_enc.clone().view(-1)\n",
    "        top_k_logits = torch.topk(w, k = model.k, sorted = True)[1]\n",
    "        enc_top_logits = torch.nn.functional.one_hot(top_k_logits, num_classes = 2*D).sum(dim = 0)\n",
    "        \n",
    "        #subsets = sample_subset(w, model.k,model.t,True)\n",
    "        subsets = sample_subset(w, model.k,model.t)\n",
    "        #max_idx = torch.argmax(subsets, 1, keepdim=True)\n",
    "        #one_hot = Tensor(subsets.shape)\n",
    "        #one_hot.zero_()\n",
    "        #one_hot.scatter_(1, max_idx, 1)\n",
    "\n",
    "        \n",
    "    return enc_top_logits, subsets"
   ]
  },
  {
   "cell_type": "code",
   "execution_count": 20,
   "metadata": {},
   "outputs": [],
   "source": [
    "def top_logits_gumbel_runningstate_vae(data, model):\n",
    "    assert isinstance(model, VAE_Gumbel_RunningState)\n",
    "    with torch.no_grad():\n",
    "        w = model.logit_enc.clone().view(-1)\n",
    "        top_k_logits = torch.topk(w, k = model.k, sorted = True)[1]\n",
    "        enc_top_logits = torch.nn.functional.one_hot(top_k_logits, num_classes = 2*D).sum(dim = 0)\n",
    "        \n",
    "        #subsets = sample_subset(w, model.k,model.t,True)\n",
    "        subsets = sample_subset(w, model.k,model.t)\n",
    "        #max_idx = torch.argmax(subsets, 1, keepdim=True)\n",
    "        #one_hot = Tensor(subsets.shape)\n",
    "        #one_hot.zero_()\n",
    "        #one_hot.scatter_(1, max_idx, 1)\n",
    "\n",
    "        \n",
    "    return enc_top_logits, subsets"
   ]
  },
  {
   "cell_type": "code",
   "execution_count": 21,
   "metadata": {},
   "outputs": [],
   "source": [
    "def top_logits_gumbel_concrete_vae_nsml(data, model):\n",
    "    assert isinstance(model, ConcreteVAE_NMSL)\n",
    "    \n",
    "    with torch.no_grad():\n",
    "        max_idx = torch.argmax(model.logit_enc, 1, keepdim=True)\n",
    "        one_hot = Tensor(model.logit_enc.shape)\n",
    "        one_hot.zero_()\n",
    "        one_hot.scatter_(1, max_idx, 1)\n",
    "\n",
    "        all_logits = one_hot.sum(dim = 0)\n",
    "\n",
    "        w = gumbel_keys(model.logit_enc, EPSILON = torch.finfo(torch.float32).eps)\n",
    "        w = torch.softmax(w/model.t, dim = -1)\n",
    "        subset_indices = w.clone().detach()\n",
    "\n",
    "        #max_idx = torch.argmax(subset_indices, 1, keepdim=True)\n",
    "        #one_hot = Tensor(subset_indices.shape)\n",
    "        #one_hot.zero_()\n",
    "        #one_hot.scatter_(1, max_idx, 1)\n",
    "\n",
    "        all_subsets = subset_indices.sum(dim = 0)\n",
    "        \n",
    "    return all_logits, all_subsets"
   ]
  },
  {
   "cell_type": "code",
   "execution_count": null,
   "metadata": {},
   "outputs": [],
   "source": []
  },
  {
   "cell_type": "code",
   "execution_count": 22,
   "metadata": {},
   "outputs": [
    {
     "data": {
      "text/plain": [
       "(tensor([0.1679, 0.0725, 0.2500, 0.0999, 0.1931, 0.1960, 0.1079, 0.0981, 0.1766,\n",
       "         0.2060, 0.2311, 0.1616, 0.2488, 0.1511, 0.2401, 0.2033, 0.1896, 0.1036,\n",
       "         0.1706, 0.2486, 0.2453, 0.2444, 0.2500, 0.2394, 0.0765, 0.2484, 0.1963,\n",
       "         0.2431, 0.2380, 0.1553, 0.2095, 0.0413, 0.0190, 0.1693, 0.0561, 0.0000,\n",
       "         0.0158, 0.1100, 0.0000, 0.0518, 0.0086, 0.0050, 0.0000, 0.1583, 0.0405,\n",
       "         0.0806, 0.2013, 0.0150, 0.0000, 0.0000, 0.0138, 0.0014, 0.1003, 0.0000,\n",
       "         0.0589, 0.0026, 0.1065, 0.1128, 0.0196, 0.2494], device='cuda:0'),\n",
       " tensor([1.5229e-01, 6.2763e-02, 2.7823e-01, 8.4833e-02, 1.9679e-01, 1.7948e-01,\n",
       "         1.0496e-01, 9.5415e-02, 1.8220e-01, 2.1153e-01, 2.4019e-01, 1.5747e-01,\n",
       "         2.6144e-01, 1.4685e-01, 2.5513e-01, 2.0045e-01, 1.8838e-01, 1.0541e-01,\n",
       "         1.6873e-01, 2.7287e-01, 2.5631e-01, 2.4749e-01, 2.5941e-01, 2.5528e-01,\n",
       "         6.7829e-02, 2.4717e-01, 2.0229e-01, 2.4442e-01, 2.4347e-01, 1.3972e-01,\n",
       "         2.0452e-01, 3.6110e-02, 2.7683e-02, 1.7429e-01, 4.8249e-02, 2.4864e-04,\n",
       "         1.4562e-02, 1.0226e-01, 4.3925e-15, 4.7926e-02, 1.3931e-02, 5.9716e-03,\n",
       "         1.0883e-04, 1.4810e-01, 3.9236e-02, 7.6871e-02, 1.9726e-01, 2.2031e-02,\n",
       "         4.5734e-12, 2.2539e-11, 1.5058e-02, 2.9020e-03, 8.9091e-02, 1.2579e-04,\n",
       "         5.5028e-02, 6.7668e-03, 9.3865e-02, 1.0010e-01, 1.9307e-02, 2.4961e-01],\n",
       "        device='cuda:0'))"
      ]
     },
     "execution_count": 22,
     "metadata": {},
     "output_type": "execute_result"
    }
   ],
   "source": [
    "# test model\n",
    "path = '../data/models/final_run/vanilla_vae_gumbel/k_30/model_trial_3.pt'\n",
    "model = VAE_Gumbel(2*D, 100, 20, k = 30, t = global_t) \n",
    "model.load_state_dict(torch.load(path))\n",
    "model.to(device)\n",
    "top_logits_gumbel_vanilla_vae_gumbel(test_data, model)"
   ]
  },
  {
   "cell_type": "code",
   "execution_count": 23,
   "metadata": {},
   "outputs": [
    {
     "data": {
      "text/plain": [
       "(tensor([1., 1., 1., 1., 1., 1., 1., 1., 1., 1., 1., 1., 1., 1., 1., 1., 1., 1.,\n",
       "         1., 1., 1., 1., 1., 1., 1., 1., 1., 1., 1., 1., 0., 0., 0., 0., 0., 0.,\n",
       "         0., 0., 0., 0., 0., 0., 0., 0., 0., 0., 0., 0., 0., 0., 0., 0., 0., 0.,\n",
       "         0., 0., 0., 0., 0., 0.], device='cuda:0'),\n",
       " tensor([1.0928e+00, 1.0000e+00, 8.7961e-01, 6.0920e-01, 1.1003e+00, 1.0777e+00,\n",
       "         1.1358e+00, 3.9589e-01, 1.1224e+00, 1.0790e+00, 2.2796e-01, 1.0958e+00,\n",
       "         1.1659e+00, 5.7856e-01, 1.1259e+00, 1.0085e+00, 1.1181e+00, 1.0745e+00,\n",
       "         9.8218e-01, 1.0986e+00, 1.0845e+00, 1.0460e+00, 1.1237e+00, 1.0953e+00,\n",
       "         7.7225e-01, 1.2618e+00, 1.0000e+00, 1.0993e+00, 9.0384e-01, 1.1099e+00,\n",
       "         5.0180e-02, 6.7169e-10, 3.1250e-02, 3.1254e-02, 4.2296e-02, 6.6388e-10,\n",
       "         5.1477e-07, 5.7232e-04, 1.4313e-02, 9.8829e-04, 5.1532e-02, 4.0249e-02,\n",
       "         4.4321e-02, 4.6590e-02, 1.3349e-07, 1.5754e-14, 5.5323e-10, 2.7000e-11,\n",
       "         9.3523e-02, 2.7478e-16, 2.8663e-08, 3.1243e-02, 2.4002e-07, 2.1772e-13,\n",
       "         3.1250e-02, 5.6312e-05, 7.9454e-04, 4.7279e-19, 4.7090e-10, 2.4516e-02],\n",
       "        device='cuda:0'))"
      ]
     },
     "execution_count": 23,
     "metadata": {},
     "output_type": "execute_result"
    }
   ],
   "source": [
    "# test model\n",
    "path = '../data/models/final_run/batching_gumbel_vae/k_30/model_trial_3.pt'\n",
    "model = VAE_Gumbel_NInsta(2*D, 100, 20, k = 30, t = global_t) \n",
    "model.load_state_dict(torch.load(path))\n",
    "model.to(device)\n",
    "top_logits_gumbel_batching_vae_gumbel(test_data, model)"
   ]
  },
  {
   "cell_type": "code",
   "execution_count": 24,
   "metadata": {},
   "outputs": [
    {
     "data": {
      "text/plain": [
       "(tensor([1, 1, 1, 1, 1, 1, 1, 1, 1, 1, 1, 1, 1, 1, 1, 1, 1, 1, 1, 1, 1, 1, 1, 1,\n",
       "         1, 1, 1, 1, 1, 1, 0, 0, 0, 0, 0, 0, 0, 0, 0, 0, 0, 0, 0, 0, 0, 0, 0, 0,\n",
       "         0, 0, 0, 0, 0, 0, 0, 0, 0, 0, 0, 0], device='cuda:0'),\n",
       " tensor([2.3792e-04, 1.3280e+00, 1.1429e-37, 9.6970e-01, 1.0411e+00, 1.7459e+00,\n",
       "         9.9942e-01, 1.0000e+00, 9.3400e-01, 6.8506e-01, 1.9368e+00, 0.0000e+00,\n",
       "         1.5408e+00, 1.0000e+00, 9.9654e-01, 1.0000e+00, 5.7601e-31, 1.0047e+00,\n",
       "         1.0243e+00, 1.0249e+00, 0.0000e+00, 8.3185e-05, 1.2551e+00, 9.0219e-01,\n",
       "         1.0000e+00, 1.6424e-01, 1.2820e+00, 1.0000e+00, 1.0001e+00, 9.9992e-01,\n",
       "         0.0000e+00, 4.9113e-01, 2.2210e-38, 9.8423e-01, 6.8664e-44, 4.5057e-04,\n",
       "         0.0000e+00, 1.0505e-33, 0.0000e+00, 0.0000e+00, 8.9561e-22, 3.5800e-25,\n",
       "         0.0000e+00, 3.3883e-42, 8.1510e-01, 0.0000e+00, 0.0000e+00, 9.4408e-38,\n",
       "         0.0000e+00, 3.2679e-03, 0.0000e+00, 0.0000e+00, 0.0000e+00, 1.0259e+00,\n",
       "         0.0000e+00, 2.0965e-21, 8.4482e-01, 0.0000e+00, 0.0000e+00, 3.0931e-31],\n",
       "        device='cuda:0'))"
      ]
     },
     "execution_count": 24,
     "metadata": {},
     "output_type": "execute_result"
    }
   ],
   "source": [
    "path = '../data/models/final_run/globalgate_vae/k_30/model_trial_1.pt'\n",
    "model = VAE_Gumbel_GlobalGate(2*D, 100, 20, k = 30, t = global_t) \n",
    "model.load_state_dict(torch.load(path))\n",
    "model.to(device)\n",
    "top_logits_gumbel_globalgate_vae(test_data, model)"
   ]
  },
  {
   "cell_type": "code",
   "execution_count": 25,
   "metadata": {},
   "outputs": [
    {
     "data": {
      "text/plain": [
       "(tensor([1, 1, 1, 1, 1, 1, 1, 1, 1, 1, 1, 1, 1, 1, 1, 1, 1, 1, 1, 1, 1, 1, 1, 1,\n",
       "         1, 1, 1, 1, 1, 1, 0, 0, 0, 0, 0, 0, 0, 0, 0, 0, 0, 0, 0, 0, 0, 0, 0, 0,\n",
       "         0, 0, 0, 0, 0, 0, 0, 0, 0, 0, 0, 0], device='cuda:0'),\n",
       " tensor([1.4678e+00, 1.0000e+00, 1.0000e+00, 9.9999e-01, 1.0000e+00, 1.6574e+00,\n",
       "         1.2131e+00, 0.0000e+00, 1.4239e+00, 1.0000e+00, 1.4001e-05, 1.0003e+00,\n",
       "         9.7095e-01, 0.0000e+00, 1.3425e+00, 1.0000e+00, 1.5491e+00, 1.0000e+00,\n",
       "         5.9044e-02, 9.9993e-01, 7.8109e-04, 1.0000e+00, 1.0000e+00, 1.0000e+00,\n",
       "         1.0839e+00, 1.0000e+00, 1.0000e+00, 1.5502e+00, 1.0000e+00, 1.0292e+00,\n",
       "         9.4010e-01, 0.0000e+00, 0.0000e+00, 7.1157e-01, 0.0000e+00, 0.0000e+00,\n",
       "         0.0000e+00, 2.4563e-30, 0.0000e+00, 0.0000e+00, 0.0000e+00, 0.0000e+00,\n",
       "         0.0000e+00, 0.0000e+00, 7.3022e-42, 0.0000e+00, 0.0000e+00, 0.0000e+00,\n",
       "         0.0000e+00, 5.8394e-05, 4.9005e-41, 0.0000e+00, 0.0000e+00, 0.0000e+00,\n",
       "         0.0000e+00, 4.1465e-34, 0.0000e+00, 0.0000e+00, 0.0000e+00, 1.9885e-19],\n",
       "        device='cuda:0'))"
      ]
     },
     "execution_count": 25,
     "metadata": {},
     "output_type": "execute_result"
    }
   ],
   "source": [
    "path = '../data/models/final_run/runningstate_vae/k_30/model_trial_1.pt'\n",
    "model = VAE_Gumbel_RunningState(2*D, 100, 20, k = 30, t = global_t, alpha = 0.9) \n",
    "model.logit_enc = nn.Parameter(torch.zeros(2*D).view(1, -1))\n",
    "model.to(device)\n",
    "model.load_state_dict(torch.load(path))\n",
    "\n",
    "top_logits_gumbel_runningstate_vae(test_data, model)"
   ]
  },
  {
   "cell_type": "code",
   "execution_count": 26,
   "metadata": {},
   "outputs": [
    {
     "data": {
      "text/plain": [
       "(tensor([0., 0., 2., 0., 3., 0., 1., 1., 1., 2., 2., 2., 0., 1., 1., 0., 0., 0.,\n",
       "         3., 0., 0., 1., 1., 2., 2., 1., 0., 3., 0., 0., 0., 0., 0., 0., 0., 0.,\n",
       "         0., 0., 0., 0., 1., 0., 0., 0., 0., 0., 0., 0., 0., 0., 0., 0., 0., 0.,\n",
       "         0., 0., 0., 0., 0., 0.], device='cuda:0'),\n",
       " tensor([9.7434e-34, 1.0000e+00, 3.9045e-10, 6.1218e-20, 1.0000e+00, 2.1175e-15,\n",
       "         3.0000e+00, 1.0000e+00, 2.0000e+00, 8.2358e-37, 1.0000e+00, 1.0000e+00,\n",
       "         3.0000e+00, 1.1413e-10, 6.2304e-07, 0.0000e+00, 1.0000e+00, 4.3776e-34,\n",
       "         2.0000e+00, 1.6032e-22, 4.5621e-33, 2.0000e+00, 2.0000e+00, 2.3336e-13,\n",
       "         2.0000e+00, 3.0000e+00, 1.6796e-40, 1.0000e+00, 0.0000e+00, 0.0000e+00,\n",
       "         1.0000e+00, 0.0000e+00, 0.0000e+00, 0.0000e+00, 0.0000e+00, 0.0000e+00,\n",
       "         0.0000e+00, 0.0000e+00, 1.0164e-29, 0.0000e+00, 0.0000e+00, 9.7288e-31,\n",
       "         0.0000e+00, 0.0000e+00, 0.0000e+00, 0.0000e+00, 2.2743e-06, 0.0000e+00,\n",
       "         2.4352e-12, 2.3789e-39, 9.4493e-19, 9.6953e-21, 1.4013e-44, 0.0000e+00,\n",
       "         0.0000e+00, 1.0000e+00, 0.0000e+00, 0.0000e+00, 0.0000e+00, 2.0000e+00],\n",
       "        device='cuda:0'))"
      ]
     },
     "execution_count": 26,
     "metadata": {},
     "output_type": "execute_result"
    }
   ],
   "source": [
    "path = '../data/models/final_run/concrete_vae_nmsl/k_30/model_trial_1.pt'\n",
    "model = ConcreteVAE_NMSL(2*D, 100, 20, k = 30, t = global_t) \n",
    "model.load_state_dict(torch.load(path))\n",
    "model.to(device)\n",
    "top_logits_gumbel_concrete_vae_nsml(test_data, model)"
   ]
  },
  {
   "cell_type": "code",
   "execution_count": 27,
   "metadata": {},
   "outputs": [
    {
     "data": {
      "text/plain": [
       "tensor(29, device='cuda:0')"
      ]
     },
     "execution_count": 27,
     "metadata": {},
     "output_type": "execute_result"
    }
   ],
   "source": [
    "model(test_df)\n",
    "top_ind = torch.argmax(model.logit_enc, dim = 1)\n",
    "sum(top_ind < 30)"
   ]
  },
  {
   "cell_type": "markdown",
   "metadata": {},
   "source": [
    "Look at BCE per Method"
   ]
  },
  {
   "cell_type": "markdown",
   "metadata": {},
   "source": [
    "Looking at Vanilla VAE"
   ]
  },
  {
   "cell_type": "code",
   "execution_count": 28,
   "metadata": {},
   "outputs": [
    {
     "name": "stdout",
     "output_type": "stream",
     "text": [
      "Vanilla Gumbel VAE\n",
      "Train BCES\n",
      "[7.473175048828125, 7.387539863586426, 7.314782619476318, 7.294962406158447, 7.241422176361084]\n",
      "Test BCES\n",
      "[29.967985153198242, 29.62605094909668, 29.317581176757812, 29.238447189331055, 29.035266876220703]\n"
     ]
    }
   ],
   "source": [
    "train_bces = []\n",
    "test_bces = []\n",
    "for k in k_lab:\n",
    "    train_bce = 0\n",
    "    test_bce = 0\n",
    "    for trial in range(1, 1+trial_num):\n",
    "        # test model\n",
    "        path = '../data/models/final_run/vanilla_vae_gumbel/k_{}/model_trial_{}.pt'.format(k, trial_num)\n",
    "        model = VAE_Gumbel(2*D, 100, 20, k = k, t = global_t) \n",
    "        model.load_state_dict(torch.load(path))\n",
    "        model.to(device)\n",
    "        train_bce += bce_model(train_data, model)\n",
    "        test_bce += bce_model(test_data, model)\n",
    "    train_bces.append((train_bce/trial_num).item())\n",
    "    test_bces.append((test_bce/trial_num).item())\n",
    "    \n",
    "print(\"Vanilla Gumbel VAE\")\n",
    "print(\"Train BCES\")\n",
    "print(train_bces)\n",
    "print(\"Test BCES\")\n",
    "print(test_bces)"
   ]
  },
  {
   "cell_type": "code",
   "execution_count": 29,
   "metadata": {},
   "outputs": [
    {
     "data": {
      "text/plain": [
       "<matplotlib.legend.Legend at 0x7f5bd53313d0>"
      ]
     },
     "execution_count": 29,
     "metadata": {},
     "output_type": "execute_result"
    },
    {
     "data": {
      "image/png": "[encoded data removed]",
      "text/plain": [
       "<Figure size 432x288 with 1 Axes>"
      ]
     },
     "metadata": {
      "needs_background": "light"
     },
     "output_type": "display_data"
    }
   ],
   "source": [
    "fig = plt.figure()\n",
    "plt.plot(k_lab, train_bces, label = 'Train BCE')\n",
    "plt.plot(k_lab, test_bces, label = 'Test BCE')\n",
    "\n",
    "plt.title(\"BCE of Vanilla VAE Gumbel\")\n",
    "plt.xlabel(\"Choosen Features (k)\")\n",
    "plt.ylabel(\"BCE\")\n",
    "plt.legend()"
   ]
  },
  {
   "cell_type": "markdown",
   "metadata": {},
   "source": [
    "Batching Gumbel"
   ]
  },
  {
   "cell_type": "code",
   "execution_count": 30,
   "metadata": {},
   "outputs": [
    {
     "name": "stdout",
     "output_type": "stream",
     "text": [
      "Batching Gumbel VAE\n",
      "Train BCES\n",
      "[7.640751838684082, 7.463639259338379, 7.356375217437744, 7.321268558502197, 7.279674053192139]\n",
      "Test BCES\n",
      "[30.65576171875, 29.950958251953125, 29.505218505859375, 29.341588973999023, 29.1752872467041]\n"
     ]
    }
   ],
   "source": [
    "train_bces = []\n",
    "test_bces = []\n",
    "for k in k_lab:\n",
    "    train_bce = 0\n",
    "    test_bce = 0\n",
    "    for trial in range(1, 1+trial_num):\n",
    "        # test model\n",
    "        path = '../data/models/final_run/batching_gumbel_vae/k_{}/model_trial_{}.pt'.format(k, trial_num)\n",
    "        model = VAE_Gumbel_NInsta(2*D, 100, 20, k = k, t = global_t) \n",
    "        model.load_state_dict(torch.load(path))\n",
    "        model.to(device)\n",
    "        train_bce += bce_model(train_data, model)\n",
    "        test_bce += bce_model(test_data, model)\n",
    "    train_bces.append((train_bce/trial_num).item())\n",
    "    test_bces.append((test_bce/trial_num).item())\n",
    "\n",
    "print(\"Batching Gumbel VAE\")\n",
    "print(\"Train BCES\")\n",
    "print(train_bces)\n",
    "print(\"Test BCES\")\n",
    "print(test_bces)"
   ]
  },
  {
   "cell_type": "code",
   "execution_count": 31,
   "metadata": {},
   "outputs": [
    {
     "data": {
      "text/plain": [
       "<matplotlib.legend.Legend at 0x7f5bd5270110>"
      ]
     },
     "execution_count": 31,
     "metadata": {},
     "output_type": "execute_result"
    },
    {
     "data": {
      "image/png": "[encoded data removed]",
      "text/plain": [
       "<Figure size 432x288 with 1 Axes>"
      ]
     },
     "metadata": {
      "needs_background": "light"
     },
     "output_type": "display_data"
    }
   ],
   "source": [
    "fig = plt.figure()\n",
    "plt.plot(k_lab, train_bces, label = 'Train BCE')\n",
    "plt.plot(k_lab, test_bces, label = 'Test BCE')\n",
    "\n",
    "plt.title(\"BCE of Batching Gumbel VAE\")\n",
    "plt.xlabel(\"Choosen Features (k)\")\n",
    "plt.ylabel(\"BCE\")\n",
    "plt.legend()"
   ]
  },
  {
   "cell_type": "markdown",
   "metadata": {},
   "source": [
    "Global Gate VAE"
   ]
  },
  {
   "cell_type": "code",
   "execution_count": 32,
   "metadata": {},
   "outputs": [
    {
     "name": "stdout",
     "output_type": "stream",
     "text": [
      "Global Gate VAE\n",
      "Train BCES\n",
      "[7.854474067687988, 7.735900402069092, 7.563405513763428, 7.454699993133545, 7.335843563079834]\n",
      "Test BCES\n",
      "[31.4759578704834, 31.077634811401367, 30.30782127380371, 29.83062744140625, 29.41489028930664]\n"
     ]
    }
   ],
   "source": [
    "train_bces = []\n",
    "test_bces = []\n",
    "for k in k_lab:\n",
    "    train_bce = 0\n",
    "    test_bce = 0\n",
    "    for trial in range(1, 1+trial_num):\n",
    "        # test model\n",
    "        path = '../data/models/final_run/globalgate_vae/k_{}/model_trial_{}.pt'.format(k, trial_num)\n",
    "        model = VAE_Gumbel_GlobalGate(2*D, 100, 20, k = k, t = global_t) \n",
    "        model.load_state_dict(torch.load(path))\n",
    "        model.to(device)\n",
    "        train_bce += bce_model(train_data, model)\n",
    "        test_bce += bce_model(test_data, model)\n",
    "    train_bces.append((train_bce/trial_num).item())\n",
    "    test_bces.append((test_bce/trial_num).item())\n",
    "\n",
    "print(\"Global Gate VAE\")\n",
    "print(\"Train BCES\")\n",
    "print(train_bces)\n",
    "print(\"Test BCES\")\n",
    "print(test_bces)"
   ]
  },
  {
   "cell_type": "code",
   "execution_count": 33,
   "metadata": {},
   "outputs": [
    {
     "data": {
      "text/plain": [
       "<matplotlib.legend.Legend at 0x7f5bd51ea450>"
      ]
     },
     "execution_count": 33,
     "metadata": {},
     "output_type": "execute_result"
    },
    {
     "data": {
      "image/png": "[encoded data removed]",
      "text/plain": [
       "<Figure size 432x288 with 1 Axes>"
      ]
     },
     "metadata": {
      "needs_background": "light"
     },
     "output_type": "display_data"
    }
   ],
   "source": [
    "fig = plt.figure()\n",
    "plt.plot(k_lab, train_bces, label = 'Train BCE')\n",
    "plt.plot(k_lab, test_bces, label = 'Test BCE')\n",
    "\n",
    "plt.title(\"BCE of Global Gate VAE\")\n",
    "plt.xlabel(\"Choosen Features (k)\")\n",
    "plt.ylabel(\"BCE\")\n",
    "plt.legend()"
   ]
  },
  {
   "cell_type": "markdown",
   "metadata": {},
   "source": [
    "RunningState VAE"
   ]
  },
  {
   "cell_type": "code",
   "execution_count": 34,
   "metadata": {},
   "outputs": [
    {
     "ename": "TypeError",
     "evalue": "cannot assign 'torch.cuda.FloatTensor' as parameter 'logit_enc' (torch.nn.Parameter or None expected)",
     "output_type": "error",
     "traceback": [
      "\u001b[0;31m---------------------------------------------------------------------------\u001b[0m",
      "\u001b[0;31mTypeError\u001b[0m                                 Traceback (most recent call last)",
      "\u001b[0;32m<ipython-input-34-d8518dd12bb7>\u001b[0m in \u001b[0;36m<module>\u001b[0;34m\u001b[0m\n\u001b[1;32m     11\u001b[0m     \u001b[0mmodel\u001b[0m\u001b[0;34m.\u001b[0m\u001b[0mload_state_dict\u001b[0m\u001b[0;34m(\u001b[0m\u001b[0mtorch\u001b[0m\u001b[0;34m.\u001b[0m\u001b[0mload\u001b[0m\u001b[0;34m(\u001b[0m\u001b[0mpath\u001b[0m\u001b[0;34m)\u001b[0m\u001b[0;34m)\u001b[0m\u001b[0;34m\u001b[0m\u001b[0;34m\u001b[0m\u001b[0m\n\u001b[1;32m     12\u001b[0m     \u001b[0mmodel\u001b[0m\u001b[0;34m.\u001b[0m\u001b[0mto\u001b[0m\u001b[0;34m(\u001b[0m\u001b[0mdevice\u001b[0m\u001b[0;34m)\u001b[0m\u001b[0;34m\u001b[0m\u001b[0;34m\u001b[0m\u001b[0m\n\u001b[0;32m---> 13\u001b[0;31m     \u001b[0mtrain_bce\u001b[0m \u001b[0;34m=\u001b[0m \u001b[0mbce_model\u001b[0m\u001b[0;34m(\u001b[0m\u001b[0mtrain_data\u001b[0m\u001b[0;34m,\u001b[0m \u001b[0mmodel\u001b[0m\u001b[0;34m)\u001b[0m\u001b[0;34m\u001b[0m\u001b[0;34m\u001b[0m\u001b[0m\n\u001b[0m\u001b[1;32m     14\u001b[0m     \u001b[0mtest_bce\u001b[0m \u001b[0;34m=\u001b[0m \u001b[0mbce_model\u001b[0m\u001b[0;34m(\u001b[0m\u001b[0mtest_data\u001b[0m\u001b[0;34m,\u001b[0m \u001b[0mmodel\u001b[0m\u001b[0;34m)\u001b[0m\u001b[0;34m\u001b[0m\u001b[0;34m\u001b[0m\u001b[0m\n\u001b[1;32m     15\u001b[0m     \u001b[0mtrain_bces\u001b[0m\u001b[0;34m.\u001b[0m\u001b[0mappend\u001b[0m\u001b[0;34m(\u001b[0m\u001b[0;34m(\u001b[0m\u001b[0mtrain_bce\u001b[0m\u001b[0;34m)\u001b[0m\u001b[0;34m.\u001b[0m\u001b[0mitem\u001b[0m\u001b[0;34m(\u001b[0m\u001b[0;34m)\u001b[0m\u001b[0;34m)\u001b[0m\u001b[0;34m\u001b[0m\u001b[0;34m\u001b[0m\u001b[0m\n",
      "\u001b[0;32m<ipython-input-15-1d346bf842ea>\u001b[0m in \u001b[0;36mbce_model\u001b[0;34m(data, model)\u001b[0m\n\u001b[1;32m      7\u001b[0m             \u001b[0mbatch_data\u001b[0m \u001b[0;34m=\u001b[0m \u001b[0mdata\u001b[0m\u001b[0;34m[\u001b[0m\u001b[0mbatch_ind\u001b[0m\u001b[0;34m,\u001b[0m \u001b[0;34m:\u001b[0m\u001b[0;34m]\u001b[0m\u001b[0;34m\u001b[0m\u001b[0;34m\u001b[0m\u001b[0m\n\u001b[1;32m      8\u001b[0m \u001b[0;34m\u001b[0m\u001b[0m\n\u001b[0;32m----> 9\u001b[0;31m             \u001b[0mtest_pred\u001b[0m \u001b[0;34m=\u001b[0m \u001b[0mmodel\u001b[0m\u001b[0;34m(\u001b[0m\u001b[0mbatch_data\u001b[0m\u001b[0;34m)\u001b[0m\u001b[0;34m[\u001b[0m\u001b[0;36m0\u001b[0m\u001b[0;34m]\u001b[0m\u001b[0;34m\u001b[0m\u001b[0;34m\u001b[0m\u001b[0m\n\u001b[0m\u001b[1;32m     10\u001b[0m \u001b[0;34m\u001b[0m\u001b[0m\n\u001b[1;32m     11\u001b[0m \u001b[0;34m\u001b[0m\u001b[0m\n",
      "\u001b[0;32m~/anaconda3/envs/nyu/lib/python3.7/site-packages/torch/nn/modules/module.py\u001b[0m in \u001b[0;36m__call__\u001b[0;34m(self, *input, **kwargs)\u001b[0m\n\u001b[1;32m    530\u001b[0m             \u001b[0mresult\u001b[0m \u001b[0;34m=\u001b[0m \u001b[0mself\u001b[0m\u001b[0;34m.\u001b[0m\u001b[0m_slow_forward\u001b[0m\u001b[0;34m(\u001b[0m\u001b[0;34m*\u001b[0m\u001b[0minput\u001b[0m\u001b[0;34m,\u001b[0m \u001b[0;34m**\u001b[0m\u001b[0mkwargs\u001b[0m\u001b[0;34m)\u001b[0m\u001b[0;34m\u001b[0m\u001b[0;34m\u001b[0m\u001b[0m\n\u001b[1;32m    531\u001b[0m         \u001b[0;32melse\u001b[0m\u001b[0;34m:\u001b[0m\u001b[0;34m\u001b[0m\u001b[0;34m\u001b[0m\u001b[0m\n\u001b[0;32m--> 532\u001b[0;31m             \u001b[0mresult\u001b[0m \u001b[0;34m=\u001b[0m \u001b[0mself\u001b[0m\u001b[0;34m.\u001b[0m\u001b[0mforward\u001b[0m\u001b[0;34m(\u001b[0m\u001b[0;34m*\u001b[0m\u001b[0minput\u001b[0m\u001b[0;34m,\u001b[0m \u001b[0;34m**\u001b[0m\u001b[0mkwargs\u001b[0m\u001b[0;34m)\u001b[0m\u001b[0;34m\u001b[0m\u001b[0;34m\u001b[0m\u001b[0m\n\u001b[0m\u001b[1;32m    533\u001b[0m         \u001b[0;32mfor\u001b[0m \u001b[0mhook\u001b[0m \u001b[0;32min\u001b[0m \u001b[0mself\u001b[0m\u001b[0;34m.\u001b[0m\u001b[0m_forward_hooks\u001b[0m\u001b[0;34m.\u001b[0m\u001b[0mvalues\u001b[0m\u001b[0;34m(\u001b[0m\u001b[0;34m)\u001b[0m\u001b[0;34m:\u001b[0m\u001b[0;34m\u001b[0m\u001b[0;34m\u001b[0m\u001b[0m\n\u001b[1;32m    534\u001b[0m             \u001b[0mhook_result\u001b[0m \u001b[0;34m=\u001b[0m \u001b[0mhook\u001b[0m\u001b[0;34m(\u001b[0m\u001b[0mself\u001b[0m\u001b[0;34m,\u001b[0m \u001b[0minput\u001b[0m\u001b[0;34m,\u001b[0m \u001b[0mresult\u001b[0m\u001b[0;34m)\u001b[0m\u001b[0;34m\u001b[0m\u001b[0;34m\u001b[0m\u001b[0m\n",
      "\u001b[0;32m~/Documents/NYU/SecondYear/SecondSemester/Differentiable-Sparse-Subset-Selection/notebooks/utils.py\u001b[0m in \u001b[0;36mforward\u001b[0;34m(self, x)\u001b[0m\n\u001b[1;32m    316\u001b[0m \u001b[0;34m\u001b[0m\u001b[0m\n\u001b[1;32m    317\u001b[0m     \u001b[0;32mdef\u001b[0m \u001b[0mforward\u001b[0m\u001b[0;34m(\u001b[0m\u001b[0mself\u001b[0m\u001b[0;34m,\u001b[0m \u001b[0mx\u001b[0m\u001b[0;34m)\u001b[0m\u001b[0;34m:\u001b[0m\u001b[0;34m\u001b[0m\u001b[0;34m\u001b[0m\u001b[0m\n\u001b[0;32m--> 318\u001b[0;31m         \u001b[0mmu_latent\u001b[0m\u001b[0;34m,\u001b[0m \u001b[0mlogvar_latent\u001b[0m \u001b[0;34m=\u001b[0m \u001b[0mself\u001b[0m\u001b[0;34m.\u001b[0m\u001b[0mencode\u001b[0m\u001b[0;34m(\u001b[0m\u001b[0mx\u001b[0m\u001b[0;34m)\u001b[0m\u001b[0;34m\u001b[0m\u001b[0;34m\u001b[0m\u001b[0m\n\u001b[0m\u001b[1;32m    319\u001b[0m         \u001b[0mz\u001b[0m \u001b[0;34m=\u001b[0m \u001b[0mself\u001b[0m\u001b[0;34m.\u001b[0m\u001b[0mreparameterize\u001b[0m\u001b[0;34m(\u001b[0m\u001b[0mmu_latent\u001b[0m\u001b[0;34m,\u001b[0m \u001b[0mlogvar_latent\u001b[0m\u001b[0;34m)\u001b[0m\u001b[0;34m\u001b[0m\u001b[0;34m\u001b[0m\u001b[0m\n\u001b[1;32m    320\u001b[0m         \u001b[0mmu_x\u001b[0m \u001b[0;34m=\u001b[0m \u001b[0mself\u001b[0m\u001b[0;34m.\u001b[0m\u001b[0mdecode\u001b[0m\u001b[0;34m(\u001b[0m\u001b[0mz\u001b[0m\u001b[0;34m)\u001b[0m\u001b[0;34m\u001b[0m\u001b[0;34m\u001b[0m\u001b[0m\n",
      "\u001b[0;32m~/Documents/NYU/SecondYear/SecondSemester/Differentiable-Sparse-Subset-Selection/notebooks/utils.py\u001b[0m in \u001b[0;36mencode\u001b[0;34m(self, x)\u001b[0m\n\u001b[1;32m    300\u001b[0m                 \u001b[0;31m# repeat used here to avoid annoying warning\u001b[0m\u001b[0;34m\u001b[0m\u001b[0;34m\u001b[0m\u001b[0;34m\u001b[0m\u001b[0m\n\u001b[1;32m    301\u001b[0m                 \u001b[0;31m# don't use pre_enc here, since loss is spread and averaged.\u001b[0m\u001b[0;34m\u001b[0m\u001b[0;34m\u001b[0m\u001b[0;34m\u001b[0m\u001b[0m\n\u001b[0;32m--> 302\u001b[0;31m                 \u001b[0mself\u001b[0m\u001b[0;34m.\u001b[0m\u001b[0mlogit_enc\u001b[0m \u001b[0;34m=\u001b[0m \u001b[0;34m(\u001b[0m\u001b[0mself\u001b[0m\u001b[0;34m.\u001b[0m\u001b[0malpha\u001b[0m\u001b[0;34m)\u001b[0m \u001b[0;34m*\u001b[0m \u001b[0mself\u001b[0m\u001b[0;34m.\u001b[0m\u001b[0mlogit_enc\u001b[0m\u001b[0;34m.\u001b[0m\u001b[0mdetach\u001b[0m\u001b[0;34m(\u001b[0m\u001b[0;34m)\u001b[0m \u001b[0;34m+\u001b[0m \u001b[0;34m(\u001b[0m\u001b[0;36m1\u001b[0m\u001b[0;34m-\u001b[0m\u001b[0mself\u001b[0m\u001b[0;34m.\u001b[0m\u001b[0malpha\u001b[0m\u001b[0;34m)\u001b[0m \u001b[0;34m*\u001b[0m \u001b[0mpre_enc\u001b[0m\u001b[0;34m\u001b[0m\u001b[0;34m\u001b[0m\u001b[0m\n\u001b[0m\u001b[1;32m    303\u001b[0m                 \u001b[0;31m# otherwise have to keep track of a lot of gradients in the past # NOTE this applies for post burn in but detatch at every encoding because we don't now\u001b[0m\u001b[0;34m\u001b[0m\u001b[0;34m\u001b[0m\u001b[0;34m\u001b[0m\u001b[0m\n\u001b[1;32m    304\u001b[0m                 \u001b[0;31m# self.logit_enc = self.logit_enc.detach()\u001b[0m\u001b[0;34m\u001b[0m\u001b[0;34m\u001b[0m\u001b[0;34m\u001b[0m\u001b[0m\n",
      "\u001b[0;32m~/anaconda3/envs/nyu/lib/python3.7/site-packages/torch/nn/modules/module.py\u001b[0m in \u001b[0;36m__setattr__\u001b[0;34m(self, name, value)\u001b[0m\n\u001b[1;32m    593\u001b[0m                 raise TypeError(\"cannot assign '{}' as parameter '{}' \"\n\u001b[1;32m    594\u001b[0m                                 \u001b[0;34m\"(torch.nn.Parameter or None expected)\"\u001b[0m\u001b[0;34m\u001b[0m\u001b[0;34m\u001b[0m\u001b[0m\n\u001b[0;32m--> 595\u001b[0;31m                                 .format(torch.typename(value), name))\n\u001b[0m\u001b[1;32m    596\u001b[0m             \u001b[0mself\u001b[0m\u001b[0;34m.\u001b[0m\u001b[0mregister_parameter\u001b[0m\u001b[0;34m(\u001b[0m\u001b[0mname\u001b[0m\u001b[0;34m,\u001b[0m \u001b[0mvalue\u001b[0m\u001b[0;34m)\u001b[0m\u001b[0;34m\u001b[0m\u001b[0;34m\u001b[0m\u001b[0m\n\u001b[1;32m    597\u001b[0m         \u001b[0;32melse\u001b[0m\u001b[0;34m:\u001b[0m\u001b[0;34m\u001b[0m\u001b[0;34m\u001b[0m\u001b[0m\n",
      "\u001b[0;31mTypeError\u001b[0m: cannot assign 'torch.cuda.FloatTensor' as parameter 'logit_enc' (torch.nn.Parameter or None expected)"
     ]
    }
   ],
   "source": [
    "train_bces = []\n",
    "test_bces = []\n",
    "for k in k_lab:\n",
    "    train_bce = 0\n",
    "    test_bce = 0\n",
    "    # test model\n",
    "    path = '../data/models/final_run/runningstate_vae/k_{}/model_trial_{}.pt'.format(k, 1)\n",
    "    model = VAE_Gumbel_RunningState(2*D, 100, 20, k = k, t = global_t, alpha = 0.9) \n",
    "    model.logit_enc = nn.Parameter(torch.zeros(2*D).view(1, -1))\n",
    "\n",
    "    model.load_state_dict(torch.load(path))\n",
    "    model.to(device)\n",
    "    train_bce = bce_model(train_data, model)\n",
    "    test_bce = bce_model(test_data, model)\n",
    "    train_bces.append((train_bce).item())\n",
    "    test_bces.append((test_bce).item())\n",
    "    \n",
    "print(\"RunningState VAE\")\n",
    "print(\"Train BCES\")\n",
    "print(train_bces)\n",
    "print(\"Test BCES\")\n",
    "print(test_bces)"
   ]
  },
  {
   "cell_type": "code",
   "execution_count": null,
   "metadata": {},
   "outputs": [],
   "source": [
    "fig = plt.figure()\n",
    "plt.plot(k_lab, train_bces, label = 'Train BCE')\n",
    "plt.plot(k_lab, test_bces, label = 'Test BCE')\n",
    "\n",
    "plt.title(\"BCE of RunningState VAE\")\n",
    "plt.xlabel(\"Choosen Features (k)\")\n",
    "plt.ylabel(\"BCE\")\n",
    "plt.legend()"
   ]
  },
  {
   "cell_type": "markdown",
   "metadata": {},
   "source": [
    "Concrete VAE"
   ]
  },
  {
   "cell_type": "code",
   "execution_count": null,
   "metadata": {},
   "outputs": [],
   "source": [
    "train_bces = []\n",
    "test_bces = []\n",
    "for k in k_lab:\n",
    "    train_bce = 0\n",
    "    test_bce = 0\n",
    "    for trial in range(1, 1+trial_num):\n",
    "        # test model\n",
    "        path = '../data/models/final_run/concrete_vae_nmsl/k_{}/model_trial_{}.pt'.format(k, trial_num)\n",
    "        model = ConcreteVAE_NMSL(2*D, 100, 20, k = k, t = global_t) \n",
    "        model.load_state_dict(torch.load(path))\n",
    "        model.to(device)\n",
    "        train_bce += bce_model(train_data, model)\n",
    "        test_bce += bce_model(test_data, model)\n",
    "    train_bces.append((train_bce/trial_num).item())\n",
    "    test_bces.append((test_bce/trial_num).item())\n",
    "    \n",
    "print(\"Concrete VAE\")\n",
    "print(\"Train BCES\")\n",
    "print(train_bces)\n",
    "print(\"Test BCES\")\n",
    "print(test_bces)"
   ]
  },
  {
   "cell_type": "code",
   "execution_count": null,
   "metadata": {},
   "outputs": [],
   "source": [
    "fig = plt.figure()\n",
    "plt.plot(k_lab, train_bces, label = 'Train BCE')\n",
    "plt.plot(k_lab, test_bces, label = 'Test BCE')\n",
    "\n",
    "plt.title(\"BCE of Concrete VAE\")\n",
    "plt.xlabel(\"Choosen Features (k)\")\n",
    "plt.ylabel(\"BCE\")\n",
    "plt.legend()"
   ]
  },
  {
   "cell_type": "markdown",
   "metadata": {},
   "source": [
    "Look at Top Logits and Top Subsets of Each Method"
   ]
  },
  {
   "cell_type": "code",
   "execution_count": null,
   "metadata": {},
   "outputs": [],
   "source": [
    "def visualize_top_vanilla_vae_gumbel():\n",
    "    \n",
    "    inds = np.arange(data.shape[0])\n",
    "    for k in k_lab:\n",
    "        all_logits = torch.zeros(train_data.shape[1], dtype = torch.float32)\n",
    "        all_subsets = torch.zeros(train_data.shape[1], dtype = torch.float32)\n",
    "        all_logits = all_logits.to(device)\n",
    "        all_subsets = all_subsets.to(device)\n",
    "        for trial in range(1, 1+trial_num):\n",
    "            # test model\n",
    "            path = '../data/models/final_run/vanilla_vae_gumbel/k_{}/model_trial_{}.pt'.format(k, trial_num)\n",
    "            model = VAE_Gumbel(2*D, 100, 20, k = k, t = global_t) \n",
    "            model.load_state_dict(torch.load(path))\n",
    "            model.to(device)\n",
    "            logits, gumbels = top_logits_gumbel_vanilla_vae_gumbel(test_data, model)\n",
    "            \n",
    "            all_logits += logits\n",
    "            all_subsets += gumbels\n",
    "            \n",
    "        all_logits /= trial_num\n",
    "        all_subsets /= trial_num\n",
    "        \n",
    "    "
   ]
  }
 ],
 "metadata": {
  "kernelspec": {
   "display_name": "Python [conda env:nyu] *",
   "language": "python",
   "name": "conda-env-nyu-py"
  },
  "language_info": {
   "codemirror_mode": {
    "name": "ipython",
    "version": 3
   },
   "file_extension": ".py",
   "mimetype": "text/x-python",
   "name": "python",
   "nbconvert_exporter": "python",
   "pygments_lexer": "ipython3",
   "version": "3.7.6"
  }
 },
 "nbformat": 4,
 "nbformat_minor": 4
}
