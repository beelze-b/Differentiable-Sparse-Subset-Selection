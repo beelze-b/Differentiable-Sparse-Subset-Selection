{
 "cells": [
  {
   "cell_type": "code",
   "execution_count": 1,
   "metadata": {},
   "outputs": [],
   "source": [
    "import torch\n",
    "\n",
    "\n",
    "from torch import nn\n",
    "from torch.autograd import Variable\n",
    "from torch.nn import functional as F\n",
    "\n",
    "import numpy as np\n",
    "\n",
    "import matplotlib.pyplot as plt\n",
    "#from sklearn.manifold import TSNE\n",
    "\n",
    "#import math\n",
    "\n",
    "#import gc\n",
    "\n",
    "from utils import *\n",
    "\n",
    "from sklearn.preprocessing import MinMaxScaler\n",
    "\n",
    "from scipy.stats import pearsonr\n",
    "\n",
    "import seaborn as sns\n",
    "import os"
   ]
  },
  {
   "cell_type": "code",
   "execution_count": 90,
   "metadata": {},
   "outputs": [],
   "source": [
    "import matplotlib.pyplot as plt"
   ]
  },
  {
   "cell_type": "code",
   "execution_count": 2,
   "metadata": {},
   "outputs": [],
   "source": [
    "torch.manual_seed(0)\n",
    "np.random.seed(0)"
   ]
  },
  {
   "cell_type": "code",
   "execution_count": 3,
   "metadata": {},
   "outputs": [
    {
     "name": "stdout",
     "output_type": "stream",
     "text": [
      "Device\n",
      "cuda:0\n"
     ]
    }
   ],
   "source": [
    "cuda = True if torch.cuda.is_available() else False\n",
    "\n",
    "Tensor = torch.cuda.FloatTensor if cuda else torch.FloatTensor\n",
    "\n",
    "device = torch.device(\"cuda:0\" if cuda else \"cpu\")\n",
    "#device = 'cpu'\n",
    "print(\"Device\")\n",
    "print(device)"
   ]
  },
  {
   "cell_type": "code",
   "execution_count": 4,
   "metadata": {},
   "outputs": [],
   "source": [
    "D = 30\n",
    "N = 10000\n",
    "z_size = 8\n",
    "\n",
    "# really good results for vanilla VAE on synthetic data with EPOCHS set to 50, \n",
    "# but when running locally set to 10 for reasonable run times\n",
    "n_epochs = 600\n",
    "batch_size = 64\n",
    "lr = 0.0001\n",
    "b1 = 0.9\n",
    "b2 = 0.999\n",
    "\n",
    "global_t = 0.0096\n",
    "k_lab = [D//10, D//6, D//3, D//2, D]\n",
    "trial_num = 5"
   ]
  },
  {
   "cell_type": "code",
   "execution_count": 5,
   "metadata": {},
   "outputs": [
    {
     "data": {
      "text/plain": [
       "tensor([[0.0000, 0.1907, 0.0000,  ..., 0.5329, 0.6371, 0.4690],\n",
       "        [0.0000, 0.0000, 0.0000,  ..., 0.3878, 0.3787, 0.6062],\n",
       "        [0.1067, 0.0000, 0.0000,  ..., 0.4175, 0.3398, 0.6803],\n",
       "        ...,\n",
       "        [0.0000, 0.0000, 0.0000,  ..., 0.4536, 0.8283, 0.6763],\n",
       "        [0.0000, 0.2083, 0.0000,  ..., 0.6805, 0.5686, 0.5650],\n",
       "        [0.0000, 0.0000, 0.0000,  ..., 0.1979, 0.5258, 0.3618]],\n",
       "       device='cuda:0')"
      ]
     },
     "execution_count": 5,
     "metadata": {},
     "output_type": "execute_result"
    }
   ],
   "source": [
    "train_data, test_data = generate_synthetic_data_with_noise(N, z_size, D)\n",
    "train_data.to(device)\n",
    "test_data.to(device)"
   ]
  },
  {
   "cell_type": "code",
   "execution_count": 6,
   "metadata": {},
   "outputs": [],
   "source": [
    "BASE_PATH = \"../data/models/final_run/\"\n",
    "# BASE_PATH = '/scratch/ns3429/sparse-subset/data/models/final_run/'"
   ]
  },
  {
   "cell_type": "code",
   "execution_count": 7,
   "metadata": {},
   "outputs": [],
   "source": [
    "def load_trial_model(trial_path, k):\n",
    "    if ('vanilla_vae_gumbel' in trial_path):\n",
    "        model = VAE_Gumbel(2*D, 100, 20, k = k, t = global_t) \n",
    "    if ('batching_gumbel_vae' in trial_path):\n",
    "        model = VAE_Gumbel_NInsta(2*D, 100, 20, k = k, t = global_t)\n",
    "    if ('globalgate_vae' in trial_path):\n",
    "        model = VAE_Gumbel_GlobalGate(2*D, 100, 20, k = k, t = global_t)\n",
    "    if ('runningstate_vae' in trial_path):\n",
    "        model = VAE_Gumbel_RunningState(2*D, 100, 20, k = k, t = global_t, alpha = 0.9)\n",
    "    if ('concrete_vae_nmsl' in trial_path):\n",
    "        model = ConcreteVAE_NMSL(2*D, 100, 20, k = k, t = global_t)\n",
    "    \n",
    "    model.load_state_dict(torch.load(trial_path))\n",
    "    model.to(device)\n",
    "    model.eval()\n",
    "    \n",
    "    return model"
   ]
  },
  {
   "cell_type": "code",
   "execution_count": 8,
   "metadata": {},
   "outputs": [],
   "source": [
    "def obtain_model_metrics(model):\n",
    "    pass"
   ]
  },
  {
   "cell_type": "code",
   "execution_count": 9,
   "metadata": {},
   "outputs": [
    {
     "data": {
      "text/plain": [
       "VAE_Gumbel(\n",
       "  (encoder): Sequential(\n",
       "    (0): Linear(in_features=60, out_features=100, bias=True)\n",
       "    (1): LeakyReLU(negative_slope=0.01)\n",
       "  )\n",
       "  (enc_mean): Linear(in_features=100, out_features=20, bias=True)\n",
       "  (enc_logvar): Linear(in_features=100, out_features=20, bias=True)\n",
       "  (decoder): Sequential(\n",
       "    (0): Linear(in_features=20, out_features=100, bias=True)\n",
       "    (1): LeakyReLU(negative_slope=0.01)\n",
       "    (2): Linear(in_features=100, out_features=60, bias=True)\n",
       "    (3): Sigmoid()\n",
       "  )\n",
       "  (weight_creator): Sequential(\n",
       "    (0): Linear(in_features=60, out_features=100, bias=True)\n",
       "    (1): ReLU()\n",
       "    (2): Linear(in_features=100, out_features=60, bias=True)\n",
       "    (3): LeakyReLU(negative_slope=0.01)\n",
       "  )\n",
       ")"
      ]
     },
     "execution_count": 9,
     "metadata": {},
     "output_type": "execute_result"
    }
   ],
   "source": [
    "# test model\n",
    "path = '../data/models/final_run/vanilla_vae_gumbel/k_15/model_trial_3.pt'\n",
    "model = VAE_Gumbel(2*D, 100, 20, k = 15, t = global_t) \n",
    "model.load_state_dict(torch.load(path))\n",
    "model.to(device)"
   ]
  },
  {
   "cell_type": "markdown",
   "metadata": {},
   "source": [
    "BCE"
   ]
  },
  {
   "cell_type": "code",
   "execution_count": 10,
   "metadata": {},
   "outputs": [],
   "source": [
    "test_df = test_data[0:64, :]\n",
    "with torch.no_grad():\n",
    "    pred_df = model(test_df)[0]"
   ]
  },
  {
   "cell_type": "code",
   "execution_count": 11,
   "metadata": {},
   "outputs": [
    {
     "data": {
      "text/plain": [
       "tensor([0.0464, 0.1195, 0.0845, 0.0104, 0.2252, 0.1259, 0.1879, 0.2976, 0.1553,\n",
       "        0.1303, 0.3214, 0.1200, 0.0780, 0.2892, 0.1563, 0.0764, 0.1087, 0.0170,\n",
       "        0.3132, 0.1194, 0.0414, 0.1190, 0.1890, 0.1809, 0.1659, 0.1510, 0.1903,\n",
       "        0.1344, 0.0871, 0.0294, 0.4809, 0.4847, 0.4540, 0.4661, 0.4507, 0.5386,\n",
       "        0.5251, 0.4553, 0.4645, 0.5043, 0.5350, 0.4467, 0.4940, 0.4733, 0.5062,\n",
       "        0.4916, 0.4410, 0.4825, 0.4733, 0.4785, 0.5255, 0.4801, 0.5315, 0.5335,\n",
       "        0.5443, 0.4986, 0.5396, 0.4663, 0.4663, 0.4903], device='cuda:0')"
      ]
     },
     "execution_count": 11,
     "metadata": {},
     "output_type": "execute_result"
    }
   ],
   "source": [
    "test_df.mean(dim = 0)"
   ]
  },
  {
   "cell_type": "code",
   "execution_count": 12,
   "metadata": {},
   "outputs": [
    {
     "data": {
      "text/plain": [
       "tensor([0.0598, 0.1216, 0.0932, 0.0215, 0.2048, 0.1185, 0.1885, 0.3035, 0.1670,\n",
       "        0.1427, 0.3140, 0.1237, 0.0896, 0.2727, 0.1712, 0.0839, 0.1040, 0.0147,\n",
       "        0.3175, 0.1058, 0.0482, 0.1075, 0.1960, 0.1726, 0.1569, 0.1397, 0.1909,\n",
       "        0.1396, 0.0900, 0.0293, 0.4693, 0.5045, 0.4498, 0.4650, 0.4320, 0.5508,\n",
       "        0.5151, 0.4588, 0.4848, 0.5052, 0.5325, 0.4693, 0.5141, 0.4665, 0.5050,\n",
       "        0.5037, 0.4518, 0.5022, 0.4757, 0.4791, 0.5430, 0.4874, 0.5153, 0.5137,\n",
       "        0.5315, 0.5028, 0.5218, 0.4825, 0.4930, 0.5091], device='cuda:0')"
      ]
     },
     "execution_count": 12,
     "metadata": {},
     "output_type": "execute_result"
    }
   ],
   "source": [
    "pred_df.mean(dim=0)"
   ]
  },
  {
   "cell_type": "code",
   "execution_count": 13,
   "metadata": {},
   "outputs": [
    {
     "data": {
      "text/plain": [
       "tensor(1867.2538, device='cuda:0')"
      ]
     },
     "execution_count": 13,
     "metadata": {},
     "output_type": "execute_result"
    }
   ],
   "source": [
    "F.binary_cross_entropy(pred_df, test_df, reduction = 'sum')"
   ]
  },
  {
   "cell_type": "code",
   "execution_count": 14,
   "metadata": {},
   "outputs": [],
   "source": [
    "def bce_model(data, model):\n",
    "    test_loss = 0\n",
    "    inds = np.arange(test_data.shape[0])\n",
    "    with torch.no_grad():\n",
    "        for i in range(math.ceil(len(data)/batch_size)):\n",
    "            batch_ind = inds[i * batch_size : (i+1) * batch_size]\n",
    "            batch_data = data[batch_ind, :]\n",
    "\n",
    "            test_pred = model(batch_data)[0]\n",
    "\n",
    "\n",
    "            test_loss += F.binary_cross_entropy(test_pred, batch_data, reduction='sum')\n",
    "\n",
    "            del batch_data\n",
    "    return test_loss / data.shape[0]"
   ]
  },
  {
   "cell_type": "code",
   "execution_count": 15,
   "metadata": {},
   "outputs": [
    {
     "data": {
      "text/plain": [
       "tensor(29.2327, device='cuda:0')"
      ]
     },
     "execution_count": 15,
     "metadata": {},
     "output_type": "execute_result"
    }
   ],
   "source": [
    "bce_model(test_data, model)"
   ]
  },
  {
   "cell_type": "code",
   "execution_count": 16,
   "metadata": {},
   "outputs": [],
   "source": [
    "def top_logits_gumbel_vanilla_vae_gumbel(data, model):\n",
    "    assert isinstance(model, VAE_Gumbel)\n",
    "    all_logits = torch.zeros(data.shape[1], dtype = torch.float32)\n",
    "    all_subsets = torch.zeros(data.shape[1], dtype = torch.float32)\n",
    "    all_logits = all_logits.to(device)\n",
    "    all_subsets = all_subsets.to(device)\n",
    "    inds = np.arange(data.shape[0])\n",
    "    with torch.no_grad():\n",
    "        for i in range(math.ceil(len(data)/batch_size)):\n",
    "            batch_ind = inds[i * batch_size : (i+1) * batch_size]\n",
    "            batch_data = data[batch_ind, :]\n",
    "            \n",
    "            logits = model.weight_creator(batch_data)\n",
    "            \n",
    "            \n",
    "            topk_logits = torch.topk(logits, k = model.k, dim = 1, sorted = True)[1]\n",
    "            one_hotted_top_k = torch.nn.functional.one_hot(topk_logits, num_classes = data.shape[1]).sum(dim = 1)\n",
    "            \n",
    "            #subsets = sample_subset(logits, model.k, model.t, separate = True)\n",
    "            subsets = sample_subset(logits, model.k, model.t)\n",
    "            #max_idx = torch.argmax(subsets, 2, keepdim=True)\n",
    "            #one_hot = Tensor(subsets.shape)\n",
    "            #one_hot.zero_()\n",
    "            #one_hot.scatter_(2, max_idx, 1)\n",
    "    \n",
    "    \n",
    "            all_logits += one_hotted_top_k.sum(dim = 0)\n",
    "            #all_subsets += one_hot.sum(dim = (0, 1))\n",
    "            all_subsets += subsets.sum(dim = 0)\n",
    "            \n",
    "            \n",
    "    \n",
    "        all_logits /= train_data.shape[0]\n",
    "        all_subsets /= train_data.shape[0]\n",
    "    \n",
    "    return all_logits, all_subsets"
   ]
  },
  {
   "cell_type": "code",
   "execution_count": 17,
   "metadata": {},
   "outputs": [],
   "source": [
    "def top_logits_gumbel_batching_vae_gumbel(data, model):\n",
    "    assert isinstance(model, VAE_Gumbel_NInsta)\n",
    "    all_logits = torch.zeros(data.shape[1], dtype = torch.float32)\n",
    "    all_subsets = torch.zeros(data.shape[1], dtype = torch.float32)\n",
    "    all_logits = all_logits.to(device)\n",
    "    all_subsets = all_subsets.to(device)\n",
    "    inds = np.arange(data.shape[0])\n",
    "    num_batches = math.ceil(len(data)/batch_size)\n",
    "    with torch.no_grad():\n",
    "        for i in range(num_batches):\n",
    "            batch_ind = inds[i * batch_size : (i+1) * batch_size]\n",
    "            batch_data = data[batch_ind, :]\n",
    "\n",
    "            w0 = model.weight_creator(batch_data)\n",
    "            w = w0.mean(dim = 0)\n",
    "            top_k_logits = torch.topk(w, k = model.k, sorted = True)[1]\n",
    "            enc_top_logits = torch.nn.functional.one_hot(top_k_logits, num_classes = 2*D).sum(dim = 0)\n",
    "\n",
    "            #subsets = sample_subset(w, model.k,model.t,True)\n",
    "            subsets = sample_subset(w, model.k,model.t)\n",
    "            #max_idx = torch.argmax(subsets, 1, keepdim=True)\n",
    "            #one_hot = Tensor(subsets.shape)\n",
    "            #one_hot.zero_()\n",
    "            #one_hot.scatter_(1, max_idx, 1)\n",
    "            \n",
    "            all_logits += enc_top_logits\n",
    "            all_subsets += subsets\n",
    "    \n",
    "        all_logits /= num_batches\n",
    "        all_subsets /= num_batches\n",
    "    \n",
    "    return all_logits, all_subsets"
   ]
  },
  {
   "cell_type": "code",
   "execution_count": 18,
   "metadata": {},
   "outputs": [],
   "source": [
    "def top_logits_gumbel_globalgate_vae(data, model):\n",
    "    assert isinstance(model, VAE_Gumbel_GlobalGate)\n",
    "    with torch.no_grad():\n",
    "        w = model.logit_enc.clone().view(-1)\n",
    "        top_k_logits = torch.topk(w, k = model.k, sorted = True)[1]\n",
    "        enc_top_logits = torch.nn.functional.one_hot(top_k_logits, num_classes = 2*D).sum(dim = 0)\n",
    "        \n",
    "        #subsets = sample_subset(w, model.k,model.t,True)\n",
    "        subsets = sample_subset(w, model.k,model.t)\n",
    "        #max_idx = torch.argmax(subsets, 1, keepdim=True)\n",
    "        #one_hot = Tensor(subsets.shape)\n",
    "        #one_hot.zero_()\n",
    "        #one_hot.scatter_(1, max_idx, 1)\n",
    "\n",
    "        \n",
    "    return enc_top_logits, subsets"
   ]
  },
  {
   "cell_type": "code",
   "execution_count": 19,
   "metadata": {},
   "outputs": [],
   "source": [
    "def top_logits_gumbel_runningstate_vae(data, model):\n",
    "    assert isinstance(model, VAE_Gumbel_RunningState)\n",
    "    with torch.no_grad():\n",
    "        w = model.logit_enc.clone().view(-1)\n",
    "        top_k_logits = torch.topk(w, k = model.k, sorted = True)[1]\n",
    "        enc_top_logits = torch.nn.functional.one_hot(top_k_logits, num_classes = 2*D).sum(dim = 0)\n",
    "        \n",
    "        #subsets = sample_subset(w, model.k,model.t,True)\n",
    "        subsets = sample_subset(w, model.k,model.t)\n",
    "        #max_idx = torch.argmax(subsets, 1, keepdim=True)\n",
    "        #one_hot = Tensor(subsets.shape)\n",
    "        #one_hot.zero_()\n",
    "        #one_hot.scatter_(1, max_idx, 1)\n",
    "\n",
    "        \n",
    "    return enc_top_logits, subsets"
   ]
  },
  {
   "cell_type": "code",
   "execution_count": 20,
   "metadata": {},
   "outputs": [],
   "source": [
    "def top_logits_gumbel_concrete_vae_nsml(data, model):\n",
    "    assert isinstance(model, ConcreteVAE_NMSL)\n",
    "    \n",
    "    with torch.no_grad():\n",
    "        max_idx = torch.argmax(model.logit_enc, 1, keepdim=True)\n",
    "        one_hot = Tensor(model.logit_enc.shape)\n",
    "        one_hot.zero_()\n",
    "        one_hot.scatter_(1, max_idx, 1)\n",
    "\n",
    "        all_logits = one_hot.sum(dim = 0)\n",
    "\n",
    "        w = gumbel_keys(model.logit_enc, EPSILON = torch.finfo(torch.float32).eps)\n",
    "        w = torch.softmax(w/model.t, dim = -1)\n",
    "        subset_indices = w.clone().detach()\n",
    "\n",
    "        #max_idx = torch.argmax(subset_indices, 1, keepdim=True)\n",
    "        #one_hot = Tensor(subset_indices.shape)\n",
    "        #one_hot.zero_()\n",
    "        #one_hot.scatter_(1, max_idx, 1)\n",
    "\n",
    "        all_subsets = subset_indices.sum(dim = 0)\n",
    "        \n",
    "    return all_logits, all_subsets"
   ]
  },
  {
   "cell_type": "code",
   "execution_count": null,
   "metadata": {},
   "outputs": [],
   "source": []
  },
  {
   "cell_type": "code",
   "execution_count": 28,
   "metadata": {},
   "outputs": [
    {
     "data": {
      "text/plain": [
       "(tensor([0.1679, 0.0725, 0.2500, 0.0999, 0.1931, 0.1960, 0.1079, 0.0981, 0.1766,\n",
       "         0.2060, 0.2311, 0.1616, 0.2488, 0.1511, 0.2401, 0.2033, 0.1896, 0.1036,\n",
       "         0.1706, 0.2486, 0.2453, 0.2444, 0.2500, 0.2394, 0.0765, 0.2484, 0.1963,\n",
       "         0.2431, 0.2380, 0.1553, 0.2095, 0.0413, 0.0190, 0.1693, 0.0561, 0.0000,\n",
       "         0.0158, 0.1100, 0.0000, 0.0518, 0.0086, 0.0050, 0.0000, 0.1583, 0.0405,\n",
       "         0.0806, 0.2013, 0.0150, 0.0000, 0.0000, 0.0138, 0.0014, 0.1003, 0.0000,\n",
       "         0.0589, 0.0026, 0.1065, 0.1128, 0.0196, 0.2494], device='cuda:0'),\n",
       " tensor([1.5016e-01, 6.2732e-02, 2.7621e-01, 9.1532e-02, 1.9759e-01, 1.7685e-01,\n",
       "         1.0693e-01, 9.4129e-02, 1.7969e-01, 2.1345e-01, 2.3747e-01, 1.5084e-01,\n",
       "         2.5991e-01, 1.4163e-01, 2.5522e-01, 2.0088e-01, 1.8965e-01, 1.0618e-01,\n",
       "         1.6999e-01, 2.6716e-01, 2.5747e-01, 2.4943e-01, 2.5839e-01, 2.5338e-01,\n",
       "         6.9534e-02, 2.4909e-01, 1.9489e-01, 2.4402e-01, 2.4325e-01, 1.3997e-01,\n",
       "         2.0512e-01, 3.6781e-02, 2.8696e-02, 1.7238e-01, 5.2088e-02, 4.8566e-04,\n",
       "         1.5713e-02, 1.0165e-01, 1.6517e-28, 4.7092e-02, 1.2466e-02, 6.4897e-03,\n",
       "         2.5759e-07, 1.5040e-01, 3.9764e-02, 7.6132e-02, 2.0476e-01, 2.0248e-02,\n",
       "         6.3461e-16, 1.2500e-04, 1.5251e-02, 2.4952e-03, 8.8493e-02, 1.0752e-06,\n",
       "         5.6480e-02, 7.0797e-03, 9.4443e-02, 1.0212e-01, 2.0725e-02, 2.5484e-01],\n",
       "        device='cuda:0'))"
      ]
     },
     "execution_count": 28,
     "metadata": {},
     "output_type": "execute_result"
    }
   ],
   "source": [
    "# test model\n",
    "path = '../data/models/final_run/vanilla_vae_gumbel/k_30/model_trial_3.pt'\n",
    "model = VAE_Gumbel(2*D, 100, 20, k = 30, t = global_t) \n",
    "model.load_state_dict(torch.load(path))\n",
    "model.to(device)\n",
    "top_logits_gumbel_vanilla_vae_gumbel(test_data, model)"
   ]
  },
  {
   "cell_type": "code",
   "execution_count": 30,
   "metadata": {},
   "outputs": [
    {
     "data": {
      "text/plain": [
       "(tensor([1., 1., 1., 1., 1., 1., 1., 1., 1., 1., 1., 1., 1., 1., 1., 1., 1., 1.,\n",
       "         1., 1., 1., 1., 1., 1., 1., 1., 1., 1., 1., 1., 0., 0., 0., 0., 0., 0.,\n",
       "         0., 0., 0., 0., 0., 0., 0., 0., 0., 0., 0., 0., 0., 0., 0., 0., 0., 0.,\n",
       "         0., 0., 0., 0., 0., 0.], device='cuda:0'),\n",
       " tensor([9.6973e-01, 1.0309e+00, 9.0584e-01, 8.2427e-01, 1.0596e+00, 1.0502e+00,\n",
       "         1.0896e+00, 2.0216e-01, 1.0362e+00, 1.0832e+00, 2.1036e-01, 1.0424e+00,\n",
       "         1.1410e+00, 5.5995e-01, 1.1299e+00, 9.1158e-01, 1.0583e+00, 1.0593e+00,\n",
       "         9.6237e-01, 1.0910e+00, 1.0790e+00, 1.1586e+00, 1.1625e+00, 1.0818e+00,\n",
       "         7.9001e-01, 1.1263e+00, 1.0000e+00, 1.1686e+00, 9.9721e-01, 1.0521e+00,\n",
       "         2.5959e-17, 6.7954e-02, 6.2769e-23, 3.1510e-21, 3.1258e-02, 3.1250e-02,\n",
       "         2.9156e-26, 3.1307e-02, 8.0123e-02, 1.8156e-13, 5.8954e-02, 3.7219e-02,\n",
       "         6.2480e-02, 1.9918e-07, 5.1414e-24, 6.2500e-02, 6.3286e-02, 2.7392e-02,\n",
       "         3.0160e-02, 3.1250e-02, 3.0336e-02, 7.4965e-02, 1.5467e-11, 1.4361e-18,\n",
       "         1.7118e-02, 4.8216e-02, 6.0130e-02, 3.1994e-02, 8.8140e-02, 5.3860e-15],\n",
       "        device='cuda:0'))"
      ]
     },
     "execution_count": 30,
     "metadata": {},
     "output_type": "execute_result"
    }
   ],
   "source": [
    "# test model\n",
    "path = '../data/models/final_run/batching_gumbel_vae/k_30/model_trial_3.pt'\n",
    "model = VAE_Gumbel_NInsta(2*D, 100, 20, k = 30, t = global_t) \n",
    "model.load_state_dict(torch.load(path))\n",
    "model.to(device)\n",
    "top_logits_gumbel_batching_vae_gumbel(test_data, model)"
   ]
  },
  {
   "cell_type": "code",
   "execution_count": 164,
   "metadata": {},
   "outputs": [
    {
     "data": {
      "text/plain": [
       "(tensor([1, 1, 1, 1, 1, 1, 1, 1, 1, 1, 1, 1, 1, 1, 1, 1, 1, 1, 1, 1, 1, 1, 1, 1,\n",
       "         1, 1, 1, 1, 1, 1, 0, 0, 0, 0, 0, 0, 0, 0, 0, 0, 0, 0, 0, 0, 0, 0, 0, 0,\n",
       "         0, 0, 0, 0, 0, 0, 0, 0, 0, 0, 0, 0], device='cuda:0'),\n",
       " tensor([3.1174e-01, 9.9999e-01, 9.5619e-01, 9.6610e-01, 9.8521e-01, 1.0148e+00,\n",
       "         5.9110e-01, 1.0000e+00, 9.7655e-01, 4.6694e-32, 9.8183e-01, 9.9376e-01,\n",
       "         1.0000e+00, 1.0248e+00, 1.0000e+00, 9.9991e-01, 9.9969e-01, 3.9699e-04,\n",
       "         1.0339e+00, 1.0123e+00, 1.0764e+00, 9.8775e-01, 0.0000e+00, 4.1979e-01,\n",
       "         1.0000e+00, 1.0016e+00, 9.9998e-01, 9.9999e-01, 4.1008e-01, 9.9997e-01,\n",
       "         0.0000e+00, 9.9841e-01, 0.0000e+00, 0.0000e+00, 0.0000e+00, 3.1325e-02,\n",
       "         2.4793e-32, 1.6015e-08, 0.0000e+00, 0.0000e+00, 0.0000e+00, 0.0000e+00,\n",
       "         7.9958e-01, 0.0000e+00, 5.7276e-01, 1.2772e-31, 0.0000e+00, 9.7650e-01,\n",
       "         4.8407e-14, 0.0000e+00, 4.8801e-01, 3.2492e-28, 0.0000e+00, 8.7301e-43,\n",
       "         8.5296e-37, 8.8719e-01, 5.0219e-01, 3.4314e-29, 2.2738e-04, 8.2934e-09],\n",
       "        device='cuda:0'))"
      ]
     },
     "execution_count": 164,
     "metadata": {},
     "output_type": "execute_result"
    }
   ],
   "source": [
    "path = '../data/models/final_run/globalgate_vae/k_30/model_trial_1.pt'\n",
    "model = VAE_Gumbel_GlobalGate(2*D, 100, 20, k = 30, t = global_t) \n",
    "model.load_state_dict(torch.load(path))\n",
    "model.to(device)\n",
    "top_logits_gumbel_globalgate_vae(test_data, model)"
   ]
  },
  {
   "cell_type": "code",
   "execution_count": 203,
   "metadata": {},
   "outputs": [
    {
     "data": {
      "text/plain": [
       "(tensor([0, 0, 0, 0, 0, 0, 0, 0, 0, 1, 0, 0, 0, 0, 1, 0, 0, 0, 1, 0, 0, 0, 0, 0,\n",
       "         0, 0, 0, 0, 0, 0, 0, 0, 0, 0, 0, 0, 0, 0, 0, 0, 0, 0, 0, 0, 0, 0, 0, 0,\n",
       "         0, 0, 0, 0, 0, 0, 0, 0, 0, 0, 0, 0], device='cuda:0'),\n",
       " tensor([0., 0., 0., 0., 0., 0., 0., 0., 0., 1., 0., 0., 0., 0., 1., 0., 0., 0.,\n",
       "         1., 0., 0., 0., 0., 0., 0., 0., 0., 0., 0., 0., 0., 0., 0., 0., 0., 0.,\n",
       "         0., 0., 0., 0., 0., 0., 0., 0., 0., 0., 0., 0., 0., 0., 0., 0., 0., 0.,\n",
       "         0., 0., 0., 0., 0., 0.], device='cuda:0'))"
      ]
     },
     "execution_count": 203,
     "metadata": {},
     "output_type": "execute_result"
    }
   ],
   "source": [
    "path = '../data/models/final_run/runningstate_vae/k_3/model_trial_1.pt'\n",
    "model = VAE_Gumbel_RunningState(2*D, 100, 20, k = 3, t = global_t, alpha = 0.9) \n",
    "model.logit_enc = nn.Parameter(torch.zeros(2*D).view(1, -1))\n",
    "model.to(device)\n",
    "model.load_state_dict(torch.load(path))\n",
    "\n",
    "top_logits_gumbel_runningstate_vae(test_data, model)"
   ]
  },
  {
   "cell_type": "code",
   "execution_count": 216,
   "metadata": {},
   "outputs": [
    {
     "data": {
      "text/plain": [
       "(tensor([0., 0., 2., 0., 3., 0., 1., 1., 1., 2., 2., 2., 0., 1., 1., 0., 0., 0.,\n",
       "         3., 0., 0., 1., 1., 2., 2., 1., 0., 3., 0., 0., 0., 0., 0., 0., 0., 0.,\n",
       "         0., 0., 0., 0., 1., 0., 0., 0., 0., 0., 0., 0., 0., 0., 0., 0., 0., 0.,\n",
       "         0., 0., 0., 0., 0., 0.], device='cuda:0'),\n",
       " tensor([0.0000e+00, 0.0000e+00, 1.0000e+00, 0.0000e+00, 2.0000e+00, 1.0000e+00,\n",
       "         1.0000e+00, 1.0000e+00, 2.0000e+00, 1.9995e+00, 1.0000e+00, 2.0000e+00,\n",
       "         2.0000e+00, 1.0000e+00, 1.0000e+00, 5.8811e-16, 3.2852e-27, 1.9042e-25,\n",
       "         3.0000e+00, 0.0000e+00, 0.0000e+00, 1.0000e+00, 3.4902e-30, 3.0000e+00,\n",
       "         3.0000e+00, 1.0000e+00, 0.0000e+00, 1.0000e+00, 8.0274e-10, 2.0899e-13,\n",
       "         0.0000e+00, 0.0000e+00, 0.0000e+00, 1.0836e-27, 4.4596e-35, 4.4480e-33,\n",
       "         0.0000e+00, 0.0000e+00, 5.1616e-04, 0.0000e+00, 1.5527e-37, 0.0000e+00,\n",
       "         1.6168e-10, 0.0000e+00, 0.0000e+00, 2.5680e-11, 3.2163e-30, 0.0000e+00,\n",
       "         2.1237e-18, 0.0000e+00, 3.2914e-29, 8.9946e-19, 0.0000e+00, 0.0000e+00,\n",
       "         0.0000e+00, 3.0851e-36, 0.0000e+00, 1.1732e-31, 1.6163e-14, 1.0000e+00],\n",
       "        device='cuda:0'))"
      ]
     },
     "execution_count": 216,
     "metadata": {},
     "output_type": "execute_result"
    }
   ],
   "source": [
    "path = '../data/models/final_run/concrete_vae_nmsl/k_30/model_trial_1.pt'\n",
    "model = ConcreteVAE_NMSL(2*D, 100, 20, k = 30, t = global_t) \n",
    "model.load_state_dict(torch.load(path))\n",
    "model.to(device)\n",
    "top_logits_gumbel_concrete_vae_nsml(test_data, model)"
   ]
  },
  {
   "cell_type": "code",
   "execution_count": 215,
   "metadata": {},
   "outputs": [
    {
     "data": {
      "text/plain": [
       "tensor(29, device='cuda:0')"
      ]
     },
     "execution_count": 215,
     "metadata": {},
     "output_type": "execute_result"
    }
   ],
   "source": [
    "model(test_df)\n",
    "top_ind = torch.argmax(model.logit_enc, dim = 1)\n",
    "sum(top_ind < 30)"
   ]
  },
  {
   "cell_type": "markdown",
   "metadata": {},
   "source": [
    "Look at BCE per Method"
   ]
  },
  {
   "cell_type": "markdown",
   "metadata": {},
   "source": [
    "Looking at Vanilla VAE"
   ]
  },
  {
   "cell_type": "code",
   "execution_count": 117,
   "metadata": {},
   "outputs": [],
   "source": [
    "train_bces = []\n",
    "test_bces = []\n",
    "for k in k_lab:\n",
    "    train_bce = 0\n",
    "    test_bce = 0\n",
    "    for trial in range(1, 1+trial_num):\n",
    "        # test model\n",
    "        path = '../data/models/final_run/vanilla_vae_gumbel/k_{}/model_trial_{}.pt'.format(k, trial_num)\n",
    "        model = VAE_Gumbel(2*D, 100, 20, k = k, t = global_t) \n",
    "        model.load_state_dict(torch.load(path))\n",
    "        model.to(device)\n",
    "        train_bce += bce_model(train_data, model)\n",
    "        test_bce += bce_model(test_data, model)\n",
    "    train_bces.append((train_bce/trial_num).item())\n",
    "    test_bces.append((test_bce/trial_num).item())\n",
    "    \n",
    "print(\"Vanilla Gumbel VAE\")\n",
    "print(\"Train BCES\")\n",
    "print(train_bces)\n",
    "print(\"Test BCES\")\n",
    "print(test_bces)"
   ]
  },
  {
   "cell_type": "code",
   "execution_count": 118,
   "metadata": {},
   "outputs": [
    {
     "data": {
      "text/plain": [
       "<matplotlib.legend.Legend at 0x7f451407e5d0>"
      ]
     },
     "execution_count": 118,
     "metadata": {},
     "output_type": "execute_result"
    },
    {
     "data": {
      "image/png": "[encoded data removed]",
      "text/plain": [
       "<Figure size 432x288 with 1 Axes>"
      ]
     },
     "metadata": {
      "needs_background": "light"
     },
     "output_type": "display_data"
    }
   ],
   "source": [
    "fig = plt.figure()\n",
    "plt.plot(k_lab, train_bces, label = 'Train BCE')\n",
    "plt.plot(k_lab, test_bces, label = 'Test BCE')\n",
    "\n",
    "plt.title(\"BCE of Vanilla VAE Gumbel\")\n",
    "plt.xlabel(\"Choosen Features (k)\")\n",
    "plt.ylabel(\"BCE\")\n",
    "plt.legend()"
   ]
  },
  {
   "cell_type": "markdown",
   "metadata": {},
   "source": [
    "Batching Gumbel"
   ]
  },
  {
   "cell_type": "code",
   "execution_count": 119,
   "metadata": {},
   "outputs": [],
   "source": [
    "train_bces = []\n",
    "test_bces = []\n",
    "for k in k_lab:\n",
    "    train_bce = 0\n",
    "    test_bce = 0\n",
    "    for trial in range(1, 1+trial_num):\n",
    "        # test model\n",
    "        path = '../data/models/final_run/batching_gumbel_vae/k_{}/model_trial_{}.pt'.format(k, trial_num)\n",
    "        model = VAE_Gumbel_NInsta(2*D, 100, 20, k = k, t = global_t) \n",
    "        model.load_state_dict(torch.load(path))\n",
    "        model.to(device)\n",
    "        train_bce += bce_model(train_data, model)\n",
    "        test_bce += bce_model(test_data, model)\n",
    "    train_bces.append((train_bce/trial_num).item())\n",
    "    test_bces.append((test_bce/trial_num).item())\n",
    "\n",
    "print(\"Batching Gumbel VAE\")\n",
    "print(\"Train BCES\")\n",
    "print(train_bces)\n",
    "print(\"Test BCES\")\n",
    "print(test_bces)"
   ]
  },
  {
   "cell_type": "code",
   "execution_count": 120,
   "metadata": {},
   "outputs": [
    {
     "data": {
      "text/plain": [
       "<matplotlib.legend.Legend at 0x7f450ddecf10>"
      ]
     },
     "execution_count": 120,
     "metadata": {},
     "output_type": "execute_result"
    },
    {
     "data": {
      "image/png": "[encoded data removed]",
      "text/plain": [
       "<Figure size 432x288 with 1 Axes>"
      ]
     },
     "metadata": {
      "needs_background": "light"
     },
     "output_type": "display_data"
    }
   ],
   "source": [
    "fig = plt.figure()\n",
    "plt.plot(k_lab, train_bces, label = 'Train BCE')\n",
    "plt.plot(k_lab, test_bces, label = 'Test BCE')\n",
    "\n",
    "plt.title(\"BCE of Batching Gumbel VAE\")\n",
    "plt.xlabel(\"Choosen Features (k)\")\n",
    "plt.ylabel(\"BCE\")\n",
    "plt.legend()"
   ]
  },
  {
   "cell_type": "markdown",
   "metadata": {},
   "source": [
    "Global Gate VAE"
   ]
  },
  {
   "cell_type": "code",
   "execution_count": 121,
   "metadata": {},
   "outputs": [],
   "source": [
    "train_bces = []\n",
    "test_bces = []\n",
    "for k in k_lab:\n",
    "    train_bce = 0\n",
    "    test_bce = 0\n",
    "    for trial in range(1, 1+trial_num):\n",
    "        # test model\n",
    "        path = '../data/models/final_run/globalgate_vae/k_{}/model_trial_{}.pt'.format(k, trial_num)\n",
    "        model = VAE_Gumbel_GlobalGate(2*D, 100, 20, k = k, t = global_t) \n",
    "        model.load_state_dict(torch.load(path))\n",
    "        model.to(device)\n",
    "        train_bce += bce_model(train_data, model)\n",
    "        test_bce += bce_model(test_data, model)\n",
    "    train_bces.append((train_bce/trial_num).item())\n",
    "    test_bces.append((test_bce/trial_num).item())\n",
    "\n",
    "print(\"Global Gate VAE\")\n",
    "print(\"Train BCES\")\n",
    "print(train_bces)\n",
    "print(\"Test BCES\")\n",
    "print(test_bces)"
   ]
  },
  {
   "cell_type": "code",
   "execution_count": 122,
   "metadata": {},
   "outputs": [
    {
     "data": {
      "text/plain": [
       "<matplotlib.legend.Legend at 0x7f450dd007d0>"
      ]
     },
     "execution_count": 122,
     "metadata": {},
     "output_type": "execute_result"
    },
    {
     "data": {
      "image/png": "[encoded data removed]",
      "text/plain": [
       "<Figure size 432x288 with 1 Axes>"
      ]
     },
     "metadata": {
      "needs_background": "light"
     },
     "output_type": "display_data"
    }
   ],
   "source": [
    "fig = plt.figure()\n",
    "plt.plot(k_lab, train_bces, label = 'Train BCE')\n",
    "plt.plot(k_lab, test_bces, label = 'Test BCE')\n",
    "\n",
    "plt.title(\"BCE of Global Gate VAE\")\n",
    "plt.xlabel(\"Choosen Features (k)\")\n",
    "plt.ylabel(\"BCE\")\n",
    "plt.legend()"
   ]
  },
  {
   "cell_type": "markdown",
   "metadata": {},
   "source": [
    "Concrete VAE"
   ]
  },
  {
   "cell_type": "code",
   "execution_count": 123,
   "metadata": {},
   "outputs": [],
   "source": [
    "train_bces = []\n",
    "test_bces = []\n",
    "for k in k_lab:\n",
    "    train_bce = 0\n",
    "    test_bce = 0\n",
    "    for trial in range(1, 1+trial_num):\n",
    "        # test model\n",
    "        path = '../data/models/final_run/concrete_vae_nmsl/k_{}/model_trial_{}.pt'.format(k, trial_num)\n",
    "        model = ConcreteVAE_NMSL(2*D, 100, 20, k = k, t = global_t) \n",
    "        model.load_state_dict(torch.load(path))\n",
    "        model.to(device)\n",
    "        train_bce += bce_model(train_data, model)\n",
    "        test_bce += bce_model(test_data, model)\n",
    "    train_bces.append((train_bce/trial_num).item())\n",
    "    test_bces.append((test_bce/trial_num).item())\n",
    "    \n",
    "print(\"Concrete VAE\")\n",
    "print(\"Train BCES\")\n",
    "print(train_bces)\n",
    "print(\"Test BCES\")\n",
    "print(test_bces)"
   ]
  },
  {
   "cell_type": "code",
   "execution_count": 124,
   "metadata": {},
   "outputs": [
    {
     "data": {
      "text/plain": [
       "<matplotlib.legend.Legend at 0x7f450dd51750>"
      ]
     },
     "execution_count": 124,
     "metadata": {},
     "output_type": "execute_result"
    },
    {
     "data": {
      "image/png": "[encoded data removed]",
      "text/plain": [
       "<Figure size 432x288 with 1 Axes>"
      ]
     },
     "metadata": {
      "needs_background": "light"
     },
     "output_type": "display_data"
    }
   ],
   "source": [
    "fig = plt.figure()\n",
    "plt.plot(k_lab, train_bces, label = 'Train BCE')\n",
    "plt.plot(k_lab, test_bces, label = 'Test BCE')\n",
    "\n",
    "plt.title(\"BCE of Concrete VAE\")\n",
    "plt.xlabel(\"Choosen Features (k)\")\n",
    "plt.ylabel(\"BCE\")\n",
    "plt.legend()"
   ]
  },
  {
   "cell_type": "markdown",
   "metadata": {},
   "source": []
  },
  {
   "cell_type": "markdown",
   "metadata": {},
   "source": [
    "Look at Top Logits and Top Subsets of Each Method"
   ]
  },
  {
   "cell_type": "code",
   "execution_count": null,
   "metadata": {},
   "outputs": [],
   "source": [
    "def visualize_top_vanilla_vae_gumbel():\n",
    "    \n",
    "    inds = np.arange(data.shape[0])\n",
    "    for k in k_lab:\n",
    "        all_logits = torch.zeros(train_data.shape[1], dtype = torch.float32)\n",
    "        all_subsets = torch.zeros(train_data.shape[1], dtype = torch.float32)\n",
    "        all_logits = all_logits.to(device)\n",
    "        all_subsets = all_subsets.to(device)\n",
    "        for trial in range(1, 1+trial_num):\n",
    "            # test model\n",
    "            path = '../data/models/final_run/vanilla_vae_gumbel/k_{}/model_trial_{}.pt'.format(k, trial_num)\n",
    "            model = VAE_Gumbel(2*D, 100, 20, k = k, t = global_t) \n",
    "            model.load_state_dict(torch.load(path))\n",
    "            model.to(device)\n",
    "            logits, gumbels = top_logits_gumbel_vanilla_vae_gumbel(test_data, model)\n",
    "            \n",
    "            all_logits += logits\n",
    "            all_subsets += gumbels\n",
    "            \n",
    "        all_logits /= trial_num\n",
    "        all_subsets /= trial_num\n",
    "        \n",
    "    "
   ]
  }
 ],
 "metadata": {
  "kernelspec": {
   "display_name": "Python [conda env:nyu] *",
   "language": "python",
   "name": "conda-env-nyu-py"
  },
  "language_info": {
   "codemirror_mode": {
    "name": "ipython",
    "version": 3
   },
   "file_extension": ".py",
   "mimetype": "text/x-python",
   "name": "python",
   "nbconvert_exporter": "python",
   "pygments_lexer": "ipython3",
   "version": "3.7.6"
  }
 },
 "nbformat": 4,
 "nbformat_minor": 4
}
