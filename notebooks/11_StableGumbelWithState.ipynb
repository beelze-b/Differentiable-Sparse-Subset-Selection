{
 "cells": [
  {
   "cell_type": "markdown",
   "metadata": {},
   "source": [
    "So we know from Notebook 10 that trying to make it learn one set of logits per batch is good and gets features right.\n",
    "\n",
    "How can we make the logits consistent over batches?"
   ]
  },
  {
   "cell_type": "markdown",
   "metadata": {},
   "source": [
    "Will collect the gradients and gumbel selected values after 5 epochs in each mode. The two modes will be the behavior before burn-in and the behavior after mode-in."
   ]
  },
  {
   "cell_type": "markdown",
   "metadata": {},
   "source": [
    "Will follow Notebook 10 with slight modifications (described right before). Remember in Notebook 10, we explored behaviors when all the features were real vs when half the features were noise."
   ]
  },
  {
   "cell_type": "code",
   "execution_count": 1,
   "metadata": {},
   "outputs": [],
   "source": [
    "import torch\n",
    "\n",
    "\n",
    "from torch import nn\n",
    "from torch.autograd import Variable\n",
    "from torch.nn import functional as F\n",
    "\n",
    "import numpy as np\n",
    "\n",
    "import matplotlib.pyplot as plt\n",
    "#from sklearn.manifold import TSNE\n",
    "\n",
    "#import math\n",
    "\n",
    "#import gc\n",
    "\n",
    "from utils import *\n",
    "\n",
    "from sklearn.preprocessing import MinMaxScaler\n",
    "\n",
    "from scipy.stats import pearsonr\n",
    "\n",
    "import seaborn as sns"
   ]
  },
  {
   "cell_type": "code",
   "execution_count": 2,
   "metadata": {},
   "outputs": [],
   "source": [
    "torch.manual_seed(0)\n",
    "np.random.seed(0)"
   ]
  },
  {
   "cell_type": "code",
   "execution_count": 3,
   "metadata": {},
   "outputs": [],
   "source": [
    "# really good results for vanilla VAE on synthetic data with EPOCHS set to 50, \n",
    "# but when running locally set to 10 for reasonable run times\n",
    "n_epochs = 50\n",
    "batch_size = 64\n",
    "lr = 0.0001\n",
    "b1 = 0.9\n",
    "b2 = 0.999"
   ]
  },
  {
   "cell_type": "code",
   "execution_count": 4,
   "metadata": {},
   "outputs": [
    {
     "name": "stdout",
     "output_type": "stream",
     "text": [
      "Device\n",
      "cuda:0\n"
     ]
    }
   ],
   "source": [
    "cuda = True if torch.cuda.is_available() else False\n",
    "\n",
    "Tensor = torch.cuda.FloatTensor if cuda else torch.FloatTensor\n",
    "\n",
    "device = torch.device(\"cuda:0\" if cuda else \"cpu\")\n",
    "#device = 'cpu'\n",
    "print(\"Device\")\n",
    "print(device)"
   ]
  },
  {
   "cell_type": "code",
   "execution_count": 5,
   "metadata": {},
   "outputs": [],
   "source": [
    "D = 30\n",
    "N = 10000\n",
    "z_size = 8"
   ]
  },
  {
   "cell_type": "code",
   "execution_count": 6,
   "metadata": {},
   "outputs": [
    {
     "name": "stdout",
     "output_type": "stream",
     "text": [
      "tensor(14, device='cuda:0')\n",
      "tensor(18, device='cuda:0')\n",
      "tensor(14, device='cuda:0')\n",
      "tensor(17, device='cuda:0')\n",
      "tensor(16, device='cuda:0')\n"
     ]
    }
   ],
   "source": [
    "torch.manual_seed(0)\n",
    "np.random.seed(0)\n",
    "\n",
    "latent_data = np.random.normal(loc=0.0, scale=1.0, size=N*z_size).reshape(N, z_size)\n",
    "\n",
    "data_mapper = nn.Sequential(\n",
    "    nn.Linear(z_size, 2 * z_size, bias=False),\n",
    "    nn.Tanh(),\n",
    "    nn.Linear(2 * z_size, D, bias = True),\n",
    "    nn.ReLU()\n",
    ").to(device)\n",
    "\n",
    "data_mapper.requires_grad_(False)\n",
    "\n",
    "latent_data = Tensor(latent_data)\n",
    "latent_data.requires_grad_(False)\n",
    "\n",
    "actual_data = data_mapper(latent_data)\n",
    "\n",
    "\n",
    "for i in range(5):\n",
    "    print(torch.sum(actual_data[i,:] != 0))"
   ]
  },
  {
   "cell_type": "markdown",
   "metadata": {},
   "source": [
    "add noiise"
   ]
  },
  {
   "cell_type": "code",
   "execution_count": 7,
   "metadata": {},
   "outputs": [
    {
     "data": {
      "text/plain": [
       "tensor([[ 0.0013,  0.0135,  0.0054,  ..., -0.0047,  0.0033, -0.0097],\n",
       "        [ 0.0080, -0.0057,  0.0010,  ...,  0.0009, -0.0134,  0.0105],\n",
       "        [-0.0103, -0.0029,  0.0185,  ..., -0.0133, -0.0037,  0.0134],\n",
       "        ...,\n",
       "        [ 0.0073, -0.0149, -0.0108,  ..., -0.0047, -0.0137,  0.0070],\n",
       "        [ 0.0006, -0.0141, -0.0124,  ..., -0.0085,  0.0069, -0.0110],\n",
       "        [-0.0159,  0.0177, -0.0087,  ..., -0.0076, -0.0009,  0.0078]],\n",
       "       device='cuda:0')"
      ]
     },
     "execution_count": 7,
     "metadata": {},
     "output_type": "execute_result"
    }
   ],
   "source": [
    "noise_features = torch.empty(N * D).normal_(mean=0,std=0.01).reshape(N, D).to(device)\n",
    "noise_features.requires_grad_(False)"
   ]
  },
  {
   "cell_type": "code",
   "execution_count": 8,
   "metadata": {},
   "outputs": [],
   "source": [
    "actual_data = torch.cat([actual_data, noise_features], dim = 1)"
   ]
  },
  {
   "cell_type": "code",
   "execution_count": 9,
   "metadata": {},
   "outputs": [
    {
     "data": {
      "text/plain": [
       "torch.Size([10000, 60])"
      ]
     },
     "execution_count": 9,
     "metadata": {},
     "output_type": "execute_result"
    }
   ],
   "source": [
    "actual_data.shape"
   ]
  },
  {
   "cell_type": "code",
   "execution_count": 10,
   "metadata": {},
   "outputs": [],
   "source": [
    "actual_data = actual_data.cpu().numpy()\n",
    "scaler = MinMaxScaler()\n",
    "actual_data = scaler.fit_transform(actual_data)\n",
    "\n",
    "actual_data = Tensor(actual_data)\n",
    "\n",
    "slices = np.random.permutation(np.arange(actual_data.shape[0]))\n",
    "upto = int(.8 * len(actual_data))\n",
    "\n",
    "train_data = actual_data[slices[:upto]]\n",
    "test_data = actual_data[slices[upto:]]"
   ]
  },
  {
   "cell_type": "code",
   "execution_count": 11,
   "metadata": {},
   "outputs": [],
   "source": [
    "global_t = 1"
   ]
  },
  {
   "cell_type": "markdown",
   "metadata": {},
   "source": [
    "Example of what worked before"
   ]
  },
  {
   "cell_type": "code",
   "execution_count": 12,
   "metadata": {},
   "outputs": [],
   "source": [
    "vae_gumbel_truncated = VAE_Gumbel(2*D, 100, 20, k = 3*z_size, t = global_t)\n",
    "vae_gumbel_truncated.to(device)\n",
    "vae_gumbel_trunc_optimizer = torch.optim.Adam(vae_gumbel_truncated.parameters(), \n",
    "                                                lr=lr, \n",
    "                                                betas = (b1,b2))"
   ]
  },
  {
   "cell_type": "code",
   "execution_count": 13,
   "metadata": {},
   "outputs": [
    {
     "name": "stdout",
     "output_type": "stream",
     "text": [
      "Train Epoch: 1 [0/8000 (0%)]\tLoss: 21.246294\n",
      "Train Epoch: 1 [1280/8000 (16%)]\tLoss: 20.250397\n",
      "Train Epoch: 1 [2560/8000 (32%)]\tLoss: 19.305346\n",
      "Train Epoch: 1 [3840/8000 (48%)]\tLoss: 18.313152\n",
      "Train Epoch: 1 [5120/8000 (64%)]\tLoss: 17.451023\n",
      "Train Epoch: 1 [6400/8000 (80%)]\tLoss: 16.190554\n",
      "Train Epoch: 1 [7680/8000 (96%)]\tLoss: 14.823248\n",
      "====> Epoch: 1 Average loss: 18.0863\n",
      "Train Epoch: 2 [0/8000 (0%)]\tLoss: 13.966923\n",
      "Train Epoch: 2 [1280/8000 (16%)]\tLoss: 13.805084\n",
      "Train Epoch: 2 [2560/8000 (32%)]\tLoss: 13.408572\n",
      "Train Epoch: 2 [3840/8000 (48%)]\tLoss: 13.038525\n",
      "Train Epoch: 2 [5120/8000 (64%)]\tLoss: 12.352503\n",
      "Train Epoch: 2 [6400/8000 (80%)]\tLoss: 12.367773\n",
      "Train Epoch: 2 [7680/8000 (96%)]\tLoss: 11.958294\n",
      "====> Epoch: 2 Average loss: 13.1279\n",
      "Train Epoch: 3 [0/8000 (0%)]\tLoss: 12.673205\n",
      "Train Epoch: 3 [1280/8000 (16%)]\tLoss: 12.181462\n",
      "Train Epoch: 3 [2560/8000 (32%)]\tLoss: 12.358383\n",
      "Train Epoch: 3 [3840/8000 (48%)]\tLoss: 12.377422\n",
      "Train Epoch: 3 [5120/8000 (64%)]\tLoss: 12.426563\n",
      "Train Epoch: 3 [6400/8000 (80%)]\tLoss: 12.554430\n",
      "Train Epoch: 3 [7680/8000 (96%)]\tLoss: 12.404709\n",
      "====> Epoch: 3 Average loss: 12.3313\n",
      "Train Epoch: 4 [0/8000 (0%)]\tLoss: 11.778401\n",
      "Train Epoch: 4 [1280/8000 (16%)]\tLoss: 12.569075\n",
      "Train Epoch: 4 [2560/8000 (32%)]\tLoss: 12.427234\n",
      "Train Epoch: 4 [3840/8000 (48%)]\tLoss: 12.286572\n",
      "Train Epoch: 4 [5120/8000 (64%)]\tLoss: 12.389345\n",
      "Train Epoch: 4 [6400/8000 (80%)]\tLoss: 11.902090\n",
      "Train Epoch: 4 [7680/8000 (96%)]\tLoss: 11.689416\n",
      "====> Epoch: 4 Average loss: 12.1103\n",
      "Train Epoch: 5 [0/8000 (0%)]\tLoss: 12.068759\n",
      "Train Epoch: 5 [1280/8000 (16%)]\tLoss: 12.090297\n",
      "Train Epoch: 5 [2560/8000 (32%)]\tLoss: 11.780383\n",
      "Train Epoch: 5 [3840/8000 (48%)]\tLoss: 12.446383\n",
      "Train Epoch: 5 [5120/8000 (64%)]\tLoss: 11.900985\n",
      "Train Epoch: 5 [6400/8000 (80%)]\tLoss: 12.073030\n",
      "Train Epoch: 5 [7680/8000 (96%)]\tLoss: 11.996560\n",
      "====> Epoch: 5 Average loss: 12.0016\n",
      "Train Epoch: 6 [0/8000 (0%)]\tLoss: 11.612226\n",
      "Train Epoch: 6 [1280/8000 (16%)]\tLoss: 12.378171\n",
      "Train Epoch: 6 [2560/8000 (32%)]\tLoss: 11.916159\n",
      "Train Epoch: 6 [3840/8000 (48%)]\tLoss: 11.594840\n",
      "Train Epoch: 6 [5120/8000 (64%)]\tLoss: 11.912836\n",
      "Train Epoch: 6 [6400/8000 (80%)]\tLoss: 11.890453\n",
      "Train Epoch: 6 [7680/8000 (96%)]\tLoss: 11.808912\n",
      "====> Epoch: 6 Average loss: 11.8759\n",
      "Train Epoch: 7 [0/8000 (0%)]\tLoss: 12.161309\n",
      "Train Epoch: 7 [1280/8000 (16%)]\tLoss: 11.796291\n",
      "Train Epoch: 7 [2560/8000 (32%)]\tLoss: 11.736796\n",
      "Train Epoch: 7 [3840/8000 (48%)]\tLoss: 12.006248\n",
      "Train Epoch: 7 [5120/8000 (64%)]\tLoss: 11.649719\n",
      "Train Epoch: 7 [6400/8000 (80%)]\tLoss: 11.342793\n",
      "Train Epoch: 7 [7680/8000 (96%)]\tLoss: 11.804908\n",
      "====> Epoch: 7 Average loss: 11.7989\n",
      "Train Epoch: 8 [0/8000 (0%)]\tLoss: 11.999457\n",
      "Train Epoch: 8 [1280/8000 (16%)]\tLoss: 11.649883\n",
      "Train Epoch: 8 [2560/8000 (32%)]\tLoss: 11.605398\n",
      "Train Epoch: 8 [3840/8000 (48%)]\tLoss: 12.007249\n",
      "Train Epoch: 8 [5120/8000 (64%)]\tLoss: 11.601240\n",
      "Train Epoch: 8 [6400/8000 (80%)]\tLoss: 11.873659\n",
      "Train Epoch: 8 [7680/8000 (96%)]\tLoss: 11.797796\n",
      "====> Epoch: 8 Average loss: 11.7175\n",
      "Train Epoch: 9 [0/8000 (0%)]\tLoss: 11.946200\n",
      "Train Epoch: 9 [1280/8000 (16%)]\tLoss: 11.660553\n",
      "Train Epoch: 9 [2560/8000 (32%)]\tLoss: 11.415279\n",
      "Train Epoch: 9 [3840/8000 (48%)]\tLoss: 11.895151\n",
      "Train Epoch: 9 [5120/8000 (64%)]\tLoss: 11.066789\n",
      "Train Epoch: 9 [6400/8000 (80%)]\tLoss: 12.030253\n",
      "Train Epoch: 9 [7680/8000 (96%)]\tLoss: 11.457920\n",
      "====> Epoch: 9 Average loss: 11.6363\n",
      "Train Epoch: 10 [0/8000 (0%)]\tLoss: 11.444853\n",
      "Train Epoch: 10 [1280/8000 (16%)]\tLoss: 11.843509\n",
      "Train Epoch: 10 [2560/8000 (32%)]\tLoss: 11.257654\n",
      "Train Epoch: 10 [3840/8000 (48%)]\tLoss: 11.423647\n",
      "Train Epoch: 10 [5120/8000 (64%)]\tLoss: 11.314461\n",
      "Train Epoch: 10 [6400/8000 (80%)]\tLoss: 11.723335\n",
      "Train Epoch: 10 [7680/8000 (96%)]\tLoss: 12.027250\n",
      "====> Epoch: 10 Average loss: 11.5258\n",
      "Train Epoch: 11 [0/8000 (0%)]\tLoss: 11.121562\n",
      "Train Epoch: 11 [1280/8000 (16%)]\tLoss: 11.365524\n",
      "Train Epoch: 11 [2560/8000 (32%)]\tLoss: 11.078561\n",
      "Train Epoch: 11 [3840/8000 (48%)]\tLoss: 11.652745\n",
      "Train Epoch: 11 [5120/8000 (64%)]\tLoss: 11.309575\n",
      "Train Epoch: 11 [6400/8000 (80%)]\tLoss: 11.382592\n",
      "Train Epoch: 11 [7680/8000 (96%)]\tLoss: 11.803990\n",
      "====> Epoch: 11 Average loss: 11.4262\n",
      "Train Epoch: 12 [0/8000 (0%)]\tLoss: 11.306494\n",
      "Train Epoch: 12 [1280/8000 (16%)]\tLoss: 11.253048\n",
      "Train Epoch: 12 [2560/8000 (32%)]\tLoss: 11.621578\n",
      "Train Epoch: 12 [3840/8000 (48%)]\tLoss: 11.569518\n",
      "Train Epoch: 12 [5120/8000 (64%)]\tLoss: 11.289817\n",
      "Train Epoch: 12 [6400/8000 (80%)]\tLoss: 11.308892\n",
      "Train Epoch: 12 [7680/8000 (96%)]\tLoss: 10.633207\n",
      "====> Epoch: 12 Average loss: 11.3229\n",
      "Train Epoch: 13 [0/8000 (0%)]\tLoss: 10.884628\n",
      "Train Epoch: 13 [1280/8000 (16%)]\tLoss: 11.074900\n",
      "Train Epoch: 13 [2560/8000 (32%)]\tLoss: 11.412452\n",
      "Train Epoch: 13 [3840/8000 (48%)]\tLoss: 11.016783\n",
      "Train Epoch: 13 [5120/8000 (64%)]\tLoss: 11.240023\n",
      "Train Epoch: 13 [6400/8000 (80%)]\tLoss: 11.259748\n",
      "Train Epoch: 13 [7680/8000 (96%)]\tLoss: 11.149412\n",
      "====> Epoch: 13 Average loss: 11.2293\n",
      "Train Epoch: 14 [0/8000 (0%)]\tLoss: 11.211985\n",
      "Train Epoch: 14 [1280/8000 (16%)]\tLoss: 11.244780\n",
      "Train Epoch: 14 [2560/8000 (32%)]\tLoss: 11.228284\n",
      "Train Epoch: 14 [3840/8000 (48%)]\tLoss: 10.683302\n",
      "Train Epoch: 14 [5120/8000 (64%)]\tLoss: 11.208861\n",
      "Train Epoch: 14 [6400/8000 (80%)]\tLoss: 11.151014\n",
      "Train Epoch: 14 [7680/8000 (96%)]\tLoss: 11.118217\n",
      "====> Epoch: 14 Average loss: 11.1396\n",
      "Train Epoch: 15 [0/8000 (0%)]\tLoss: 10.766420\n",
      "Train Epoch: 15 [1280/8000 (16%)]\tLoss: 11.466409\n",
      "Train Epoch: 15 [2560/8000 (32%)]\tLoss: 11.115503\n",
      "Train Epoch: 15 [3840/8000 (48%)]\tLoss: 10.538302\n",
      "Train Epoch: 15 [5120/8000 (64%)]\tLoss: 11.187834\n",
      "Train Epoch: 15 [6400/8000 (80%)]\tLoss: 11.452896\n",
      "Train Epoch: 15 [7680/8000 (96%)]\tLoss: 11.126341\n",
      "====> Epoch: 15 Average loss: 11.0487\n",
      "Train Epoch: 16 [0/8000 (0%)]\tLoss: 10.889713\n",
      "Train Epoch: 16 [1280/8000 (16%)]\tLoss: 10.810443\n",
      "Train Epoch: 16 [2560/8000 (32%)]\tLoss: 10.768027\n",
      "Train Epoch: 16 [3840/8000 (48%)]\tLoss: 11.335194\n",
      "Train Epoch: 16 [5120/8000 (64%)]\tLoss: 11.172890\n",
      "Train Epoch: 16 [6400/8000 (80%)]\tLoss: 11.218824\n",
      "Train Epoch: 16 [7680/8000 (96%)]\tLoss: 10.697835\n",
      "====> Epoch: 16 Average loss: 10.9831\n",
      "Train Epoch: 17 [0/8000 (0%)]\tLoss: 10.668688\n",
      "Train Epoch: 17 [1280/8000 (16%)]\tLoss: 10.979620\n",
      "Train Epoch: 17 [2560/8000 (32%)]\tLoss: 10.935355\n",
      "Train Epoch: 17 [3840/8000 (48%)]\tLoss: 10.849089\n",
      "Train Epoch: 17 [5120/8000 (64%)]\tLoss: 10.840553\n",
      "Train Epoch: 17 [6400/8000 (80%)]\tLoss: 11.094377\n",
      "Train Epoch: 17 [7680/8000 (96%)]\tLoss: 10.712069\n",
      "====> Epoch: 17 Average loss: 10.9083\n",
      "Train Epoch: 18 [0/8000 (0%)]\tLoss: 10.801167\n",
      "Train Epoch: 18 [1280/8000 (16%)]\tLoss: 11.151277\n",
      "Train Epoch: 18 [2560/8000 (32%)]\tLoss: 11.168970\n",
      "Train Epoch: 18 [3840/8000 (48%)]\tLoss: 10.936243\n",
      "Train Epoch: 18 [5120/8000 (64%)]\tLoss: 10.784502\n",
      "Train Epoch: 18 [6400/8000 (80%)]\tLoss: 10.782269\n",
      "Train Epoch: 18 [7680/8000 (96%)]\tLoss: 10.964095\n",
      "====> Epoch: 18 Average loss: 10.8556\n",
      "Train Epoch: 19 [0/8000 (0%)]\tLoss: 10.910218\n",
      "Train Epoch: 19 [1280/8000 (16%)]\tLoss: 10.829973\n",
      "Train Epoch: 19 [2560/8000 (32%)]\tLoss: 11.155061\n",
      "Train Epoch: 19 [3840/8000 (48%)]\tLoss: 10.759955\n",
      "Train Epoch: 19 [5120/8000 (64%)]\tLoss: 10.686851\n",
      "Train Epoch: 19 [6400/8000 (80%)]\tLoss: 10.591365\n",
      "Train Epoch: 19 [7680/8000 (96%)]\tLoss: 10.608478\n",
      "====> Epoch: 19 Average loss: 10.7959\n",
      "Train Epoch: 20 [0/8000 (0%)]\tLoss: 11.358024\n",
      "Train Epoch: 20 [1280/8000 (16%)]\tLoss: 10.580921\n",
      "Train Epoch: 20 [2560/8000 (32%)]\tLoss: 10.672755\n",
      "Train Epoch: 20 [3840/8000 (48%)]\tLoss: 10.769754\n",
      "Train Epoch: 20 [5120/8000 (64%)]\tLoss: 10.909407\n",
      "Train Epoch: 20 [6400/8000 (80%)]\tLoss: 11.013748\n",
      "Train Epoch: 20 [7680/8000 (96%)]\tLoss: 10.711974\n",
      "====> Epoch: 20 Average loss: 10.7367\n",
      "Train Epoch: 21 [0/8000 (0%)]\tLoss: 10.525660\n",
      "Train Epoch: 21 [1280/8000 (16%)]\tLoss: 10.776403\n",
      "Train Epoch: 21 [2560/8000 (32%)]\tLoss: 10.431925\n",
      "Train Epoch: 21 [3840/8000 (48%)]\tLoss: 10.553208\n",
      "Train Epoch: 21 [5120/8000 (64%)]\tLoss: 10.996521\n",
      "Train Epoch: 21 [6400/8000 (80%)]\tLoss: 10.553703\n",
      "Train Epoch: 21 [7680/8000 (96%)]\tLoss: 11.109649\n",
      "====> Epoch: 21 Average loss: 10.6973\n",
      "Train Epoch: 22 [0/8000 (0%)]\tLoss: 10.719621\n",
      "Train Epoch: 22 [1280/8000 (16%)]\tLoss: 11.123668\n",
      "Train Epoch: 22 [2560/8000 (32%)]\tLoss: 10.714769\n",
      "Train Epoch: 22 [3840/8000 (48%)]\tLoss: 10.762350\n",
      "Train Epoch: 22 [5120/8000 (64%)]\tLoss: 10.729690\n"
     ]
    },
    {
     "name": "stdout",
     "output_type": "stream",
     "text": [
      "Train Epoch: 22 [6400/8000 (80%)]\tLoss: 10.782840\n",
      "Train Epoch: 22 [7680/8000 (96%)]\tLoss: 10.292208\n",
      "====> Epoch: 22 Average loss: 10.6665\n",
      "Train Epoch: 23 [0/8000 (0%)]\tLoss: 10.157126\n",
      "Train Epoch: 23 [1280/8000 (16%)]\tLoss: 10.540656\n",
      "Train Epoch: 23 [2560/8000 (32%)]\tLoss: 10.753371\n",
      "Train Epoch: 23 [3840/8000 (48%)]\tLoss: 10.622337\n",
      "Train Epoch: 23 [5120/8000 (64%)]\tLoss: 10.741127\n",
      "Train Epoch: 23 [6400/8000 (80%)]\tLoss: 10.701597\n",
      "Train Epoch: 23 [7680/8000 (96%)]\tLoss: 10.534987\n",
      "====> Epoch: 23 Average loss: 10.6281\n",
      "Train Epoch: 24 [0/8000 (0%)]\tLoss: 10.502141\n",
      "Train Epoch: 24 [1280/8000 (16%)]\tLoss: 10.684061\n",
      "Train Epoch: 24 [2560/8000 (32%)]\tLoss: 10.734015\n",
      "Train Epoch: 24 [3840/8000 (48%)]\tLoss: 10.379245\n",
      "Train Epoch: 24 [5120/8000 (64%)]\tLoss: 10.957211\n",
      "Train Epoch: 24 [6400/8000 (80%)]\tLoss: 10.496857\n",
      "Train Epoch: 24 [7680/8000 (96%)]\tLoss: 10.607121\n",
      "====> Epoch: 24 Average loss: 10.6134\n",
      "Train Epoch: 25 [0/8000 (0%)]\tLoss: 10.293395\n",
      "Train Epoch: 25 [1280/8000 (16%)]\tLoss: 10.528642\n",
      "Train Epoch: 25 [2560/8000 (32%)]\tLoss: 10.605904\n",
      "Train Epoch: 25 [3840/8000 (48%)]\tLoss: 10.528587\n",
      "Train Epoch: 25 [5120/8000 (64%)]\tLoss: 10.466983\n",
      "Train Epoch: 25 [6400/8000 (80%)]\tLoss: 10.989646\n",
      "Train Epoch: 25 [7680/8000 (96%)]\tLoss: 10.705160\n",
      "====> Epoch: 25 Average loss: 10.5893\n",
      "Train Epoch: 26 [0/8000 (0%)]\tLoss: 10.050796\n",
      "Train Epoch: 26 [1280/8000 (16%)]\tLoss: 10.574036\n",
      "Train Epoch: 26 [2560/8000 (32%)]\tLoss: 10.871506\n",
      "Train Epoch: 26 [3840/8000 (48%)]\tLoss: 10.416905\n",
      "Train Epoch: 26 [5120/8000 (64%)]\tLoss: 10.443002\n",
      "Train Epoch: 26 [6400/8000 (80%)]\tLoss: 10.389482\n",
      "Train Epoch: 26 [7680/8000 (96%)]\tLoss: 10.493411\n",
      "====> Epoch: 26 Average loss: 10.5732\n",
      "Train Epoch: 27 [0/8000 (0%)]\tLoss: 10.702158\n",
      "Train Epoch: 27 [1280/8000 (16%)]\tLoss: 10.676848\n",
      "Train Epoch: 27 [2560/8000 (32%)]\tLoss: 10.475875\n",
      "Train Epoch: 27 [3840/8000 (48%)]\tLoss: 10.578859\n",
      "Train Epoch: 27 [5120/8000 (64%)]\tLoss: 10.350233\n",
      "Train Epoch: 27 [6400/8000 (80%)]\tLoss: 10.329869\n",
      "Train Epoch: 27 [7680/8000 (96%)]\tLoss: 10.361197\n",
      "====> Epoch: 27 Average loss: 10.5628\n",
      "Train Epoch: 28 [0/8000 (0%)]\tLoss: 10.653728\n",
      "Train Epoch: 28 [1280/8000 (16%)]\tLoss: 10.643510\n",
      "Train Epoch: 28 [2560/8000 (32%)]\tLoss: 10.822173\n",
      "Train Epoch: 28 [3840/8000 (48%)]\tLoss: 10.336451\n",
      "Train Epoch: 28 [5120/8000 (64%)]\tLoss: 10.509249\n",
      "Train Epoch: 28 [6400/8000 (80%)]\tLoss: 10.462896\n",
      "Train Epoch: 28 [7680/8000 (96%)]\tLoss: 10.270224\n",
      "====> Epoch: 28 Average loss: 10.5432\n",
      "Train Epoch: 29 [0/8000 (0%)]\tLoss: 10.965860\n",
      "Train Epoch: 29 [1280/8000 (16%)]\tLoss: 10.677595\n",
      "Train Epoch: 29 [2560/8000 (32%)]\tLoss: 10.510555\n",
      "Train Epoch: 29 [3840/8000 (48%)]\tLoss: 10.388647\n",
      "Train Epoch: 29 [5120/8000 (64%)]\tLoss: 10.783244\n",
      "Train Epoch: 29 [6400/8000 (80%)]\tLoss: 10.528851\n",
      "Train Epoch: 29 [7680/8000 (96%)]\tLoss: 10.913024\n",
      "====> Epoch: 29 Average loss: 10.5428\n",
      "Train Epoch: 30 [0/8000 (0%)]\tLoss: 10.457603\n",
      "Train Epoch: 30 [1280/8000 (16%)]\tLoss: 10.770613\n",
      "Train Epoch: 30 [2560/8000 (32%)]\tLoss: 10.359415\n",
      "Train Epoch: 30 [3840/8000 (48%)]\tLoss: 10.615643\n",
      "Train Epoch: 30 [5120/8000 (64%)]\tLoss: 10.548541\n",
      "Train Epoch: 30 [6400/8000 (80%)]\tLoss: 10.533996\n",
      "Train Epoch: 30 [7680/8000 (96%)]\tLoss: 10.543274\n",
      "====> Epoch: 30 Average loss: 10.5234\n",
      "Train Epoch: 31 [0/8000 (0%)]\tLoss: 10.578419\n",
      "Train Epoch: 31 [1280/8000 (16%)]\tLoss: 10.248842\n",
      "Train Epoch: 31 [2560/8000 (32%)]\tLoss: 10.037327\n",
      "Train Epoch: 31 [3840/8000 (48%)]\tLoss: 10.440224\n",
      "Train Epoch: 31 [5120/8000 (64%)]\tLoss: 10.866269\n",
      "Train Epoch: 31 [6400/8000 (80%)]\tLoss: 10.466947\n",
      "Train Epoch: 31 [7680/8000 (96%)]\tLoss: 10.370978\n",
      "====> Epoch: 31 Average loss: 10.5055\n",
      "Train Epoch: 32 [0/8000 (0%)]\tLoss: 10.478009\n",
      "Train Epoch: 32 [1280/8000 (16%)]\tLoss: 10.872281\n",
      "Train Epoch: 32 [2560/8000 (32%)]\tLoss: 10.380313\n",
      "Train Epoch: 32 [3840/8000 (48%)]\tLoss: 10.770939\n",
      "Train Epoch: 32 [5120/8000 (64%)]\tLoss: 10.360361\n",
      "Train Epoch: 32 [6400/8000 (80%)]\tLoss: 10.377466\n",
      "Train Epoch: 32 [7680/8000 (96%)]\tLoss: 10.785868\n",
      "====> Epoch: 32 Average loss: 10.5060\n",
      "Train Epoch: 33 [0/8000 (0%)]\tLoss: 10.112450\n",
      "Train Epoch: 33 [1280/8000 (16%)]\tLoss: 10.238904\n",
      "Train Epoch: 33 [2560/8000 (32%)]\tLoss: 10.608150\n",
      "Train Epoch: 33 [3840/8000 (48%)]\tLoss: 10.909048\n",
      "Train Epoch: 33 [5120/8000 (64%)]\tLoss: 11.018816\n",
      "Train Epoch: 33 [6400/8000 (80%)]\tLoss: 10.800467\n",
      "Train Epoch: 33 [7680/8000 (96%)]\tLoss: 10.327776\n",
      "====> Epoch: 33 Average loss: 10.4883\n",
      "Train Epoch: 34 [0/8000 (0%)]\tLoss: 9.996266\n",
      "Train Epoch: 34 [1280/8000 (16%)]\tLoss: 10.735453\n",
      "Train Epoch: 34 [2560/8000 (32%)]\tLoss: 10.505468\n",
      "Train Epoch: 34 [3840/8000 (48%)]\tLoss: 10.390051\n",
      "Train Epoch: 34 [5120/8000 (64%)]\tLoss: 10.776814\n",
      "Train Epoch: 34 [6400/8000 (80%)]\tLoss: 10.700205\n",
      "Train Epoch: 34 [7680/8000 (96%)]\tLoss: 10.176763\n",
      "====> Epoch: 34 Average loss: 10.4770\n",
      "Train Epoch: 35 [0/8000 (0%)]\tLoss: 10.290202\n",
      "Train Epoch: 35 [1280/8000 (16%)]\tLoss: 10.329969\n",
      "Train Epoch: 35 [2560/8000 (32%)]\tLoss: 10.695362\n",
      "Train Epoch: 35 [3840/8000 (48%)]\tLoss: 10.271773\n",
      "Train Epoch: 35 [5120/8000 (64%)]\tLoss: 10.485511\n",
      "Train Epoch: 35 [6400/8000 (80%)]\tLoss: 10.824059\n",
      "Train Epoch: 35 [7680/8000 (96%)]\tLoss: 10.187131\n",
      "====> Epoch: 35 Average loss: 10.4766\n",
      "Train Epoch: 36 [0/8000 (0%)]\tLoss: 10.271274\n",
      "Train Epoch: 36 [1280/8000 (16%)]\tLoss: 10.266858\n",
      "Train Epoch: 36 [2560/8000 (32%)]\tLoss: 10.246668\n",
      "Train Epoch: 36 [3840/8000 (48%)]\tLoss: 10.440657\n",
      "Train Epoch: 36 [5120/8000 (64%)]\tLoss: 10.324760\n",
      "Train Epoch: 36 [6400/8000 (80%)]\tLoss: 10.320333\n",
      "Train Epoch: 36 [7680/8000 (96%)]\tLoss: 10.463468\n",
      "====> Epoch: 36 Average loss: 10.4620\n",
      "Train Epoch: 37 [0/8000 (0%)]\tLoss: 10.539495\n",
      "Train Epoch: 37 [1280/8000 (16%)]\tLoss: 10.375022\n",
      "Train Epoch: 37 [2560/8000 (32%)]\tLoss: 10.119569\n",
      "Train Epoch: 37 [3840/8000 (48%)]\tLoss: 10.233269\n",
      "Train Epoch: 37 [5120/8000 (64%)]\tLoss: 10.592191\n",
      "Train Epoch: 37 [6400/8000 (80%)]\tLoss: 10.443162\n",
      "Train Epoch: 37 [7680/8000 (96%)]\tLoss: 10.527210\n",
      "====> Epoch: 37 Average loss: 10.4504\n",
      "Train Epoch: 38 [0/8000 (0%)]\tLoss: 10.316163\n",
      "Train Epoch: 38 [1280/8000 (16%)]\tLoss: 10.527552\n",
      "Train Epoch: 38 [2560/8000 (32%)]\tLoss: 10.651468\n",
      "Train Epoch: 38 [3840/8000 (48%)]\tLoss: 10.498245\n",
      "Train Epoch: 38 [5120/8000 (64%)]\tLoss: 10.526082\n",
      "Train Epoch: 38 [6400/8000 (80%)]\tLoss: 10.496509\n",
      "Train Epoch: 38 [7680/8000 (96%)]\tLoss: 10.529408\n",
      "====> Epoch: 38 Average loss: 10.4499\n",
      "Train Epoch: 39 [0/8000 (0%)]\tLoss: 10.287496\n",
      "Train Epoch: 39 [1280/8000 (16%)]\tLoss: 10.189594\n",
      "Train Epoch: 39 [2560/8000 (32%)]\tLoss: 10.464411\n",
      "Train Epoch: 39 [3840/8000 (48%)]\tLoss: 10.620665\n",
      "Train Epoch: 39 [5120/8000 (64%)]\tLoss: 10.893106\n",
      "Train Epoch: 39 [6400/8000 (80%)]\tLoss: 10.668557\n",
      "Train Epoch: 39 [7680/8000 (96%)]\tLoss: 10.337307\n",
      "====> Epoch: 39 Average loss: 10.4397\n",
      "Train Epoch: 40 [0/8000 (0%)]\tLoss: 10.501283\n",
      "Train Epoch: 40 [1280/8000 (16%)]\tLoss: 10.446646\n",
      "Train Epoch: 40 [2560/8000 (32%)]\tLoss: 10.200263\n",
      "Train Epoch: 40 [3840/8000 (48%)]\tLoss: 10.459343\n",
      "Train Epoch: 40 [5120/8000 (64%)]\tLoss: 10.635940\n",
      "Train Epoch: 40 [6400/8000 (80%)]\tLoss: 10.404019\n",
      "Train Epoch: 40 [7680/8000 (96%)]\tLoss: 10.370173\n",
      "====> Epoch: 40 Average loss: 10.4284\n",
      "Train Epoch: 41 [0/8000 (0%)]\tLoss: 10.230286\n",
      "Train Epoch: 41 [1280/8000 (16%)]\tLoss: 10.466865\n",
      "Train Epoch: 41 [2560/8000 (32%)]\tLoss: 10.718891\n",
      "Train Epoch: 41 [3840/8000 (48%)]\tLoss: 10.500972\n",
      "Train Epoch: 41 [5120/8000 (64%)]\tLoss: 10.436852\n",
      "Train Epoch: 41 [6400/8000 (80%)]\tLoss: 10.918186\n",
      "Train Epoch: 41 [7680/8000 (96%)]\tLoss: 10.414086\n",
      "====> Epoch: 41 Average loss: 10.4234\n",
      "Train Epoch: 42 [0/8000 (0%)]\tLoss: 10.766402\n",
      "Train Epoch: 42 [1280/8000 (16%)]\tLoss: 10.318208\n",
      "Train Epoch: 42 [2560/8000 (32%)]\tLoss: 10.815408\n",
      "Train Epoch: 42 [3840/8000 (48%)]\tLoss: 10.702746\n",
      "Train Epoch: 42 [5120/8000 (64%)]\tLoss: 10.417987\n",
      "Train Epoch: 42 [6400/8000 (80%)]\tLoss: 10.519965\n",
      "Train Epoch: 42 [7680/8000 (96%)]\tLoss: 10.694892\n",
      "====> Epoch: 42 Average loss: 10.4271\n",
      "Train Epoch: 43 [0/8000 (0%)]\tLoss: 10.462177\n",
      "Train Epoch: 43 [1280/8000 (16%)]\tLoss: 10.542042\n",
      "Train Epoch: 43 [2560/8000 (32%)]\tLoss: 10.260647\n",
      "Train Epoch: 43 [3840/8000 (48%)]\tLoss: 10.419123\n",
      "Train Epoch: 43 [5120/8000 (64%)]\tLoss: 10.229343\n",
      "Train Epoch: 43 [6400/8000 (80%)]\tLoss: 10.155253\n",
      "Train Epoch: 43 [7680/8000 (96%)]\tLoss: 10.790140\n",
      "====> Epoch: 43 Average loss: 10.4186\n",
      "Train Epoch: 44 [0/8000 (0%)]\tLoss: 10.296052\n"
     ]
    },
    {
     "name": "stdout",
     "output_type": "stream",
     "text": [
      "Train Epoch: 44 [1280/8000 (16%)]\tLoss: 10.093376\n",
      "Train Epoch: 44 [2560/8000 (32%)]\tLoss: 10.071982\n",
      "Train Epoch: 44 [3840/8000 (48%)]\tLoss: 10.949146\n",
      "Train Epoch: 44 [5120/8000 (64%)]\tLoss: 10.586852\n",
      "Train Epoch: 44 [6400/8000 (80%)]\tLoss: 10.686936\n",
      "Train Epoch: 44 [7680/8000 (96%)]\tLoss: 10.196752\n",
      "====> Epoch: 44 Average loss: 10.4038\n",
      "Train Epoch: 45 [0/8000 (0%)]\tLoss: 10.245931\n",
      "Train Epoch: 45 [1280/8000 (16%)]\tLoss: 10.678970\n",
      "Train Epoch: 45 [2560/8000 (32%)]\tLoss: 10.351840\n",
      "Train Epoch: 45 [3840/8000 (48%)]\tLoss: 10.163573\n",
      "Train Epoch: 45 [5120/8000 (64%)]\tLoss: 10.464585\n",
      "Train Epoch: 45 [6400/8000 (80%)]\tLoss: 10.633328\n",
      "Train Epoch: 45 [7680/8000 (96%)]\tLoss: 10.427898\n",
      "====> Epoch: 45 Average loss: 10.3855\n",
      "Train Epoch: 46 [0/8000 (0%)]\tLoss: 10.302140\n",
      "Train Epoch: 46 [1280/8000 (16%)]\tLoss: 10.518029\n",
      "Train Epoch: 46 [2560/8000 (32%)]\tLoss: 10.528069\n",
      "Train Epoch: 46 [3840/8000 (48%)]\tLoss: 9.742825\n",
      "Train Epoch: 46 [5120/8000 (64%)]\tLoss: 10.304817\n",
      "Train Epoch: 46 [6400/8000 (80%)]\tLoss: 10.123063\n",
      "Train Epoch: 46 [7680/8000 (96%)]\tLoss: 10.498881\n",
      "====> Epoch: 46 Average loss: 10.3623\n",
      "Train Epoch: 47 [0/8000 (0%)]\tLoss: 10.414326\n",
      "Train Epoch: 47 [1280/8000 (16%)]\tLoss: 9.870969\n",
      "Train Epoch: 47 [2560/8000 (32%)]\tLoss: 10.819239\n",
      "Train Epoch: 47 [3840/8000 (48%)]\tLoss: 10.330410\n",
      "Train Epoch: 47 [5120/8000 (64%)]\tLoss: 10.356556\n",
      "Train Epoch: 47 [6400/8000 (80%)]\tLoss: 10.532913\n",
      "Train Epoch: 47 [7680/8000 (96%)]\tLoss: 9.846177\n",
      "====> Epoch: 47 Average loss: 10.3410\n",
      "Train Epoch: 48 [0/8000 (0%)]\tLoss: 10.475010\n",
      "Train Epoch: 48 [1280/8000 (16%)]\tLoss: 10.437548\n",
      "Train Epoch: 48 [2560/8000 (32%)]\tLoss: 10.284109\n",
      "Train Epoch: 48 [3840/8000 (48%)]\tLoss: 10.510977\n",
      "Train Epoch: 48 [5120/8000 (64%)]\tLoss: 10.320344\n",
      "Train Epoch: 48 [6400/8000 (80%)]\tLoss: 10.295945\n",
      "Train Epoch: 48 [7680/8000 (96%)]\tLoss: 10.075056\n",
      "====> Epoch: 48 Average loss: 10.2908\n",
      "Train Epoch: 49 [0/8000 (0%)]\tLoss: 10.269361\n",
      "Train Epoch: 49 [1280/8000 (16%)]\tLoss: 10.588838\n",
      "Train Epoch: 49 [2560/8000 (32%)]\tLoss: 10.119617\n",
      "Train Epoch: 49 [3840/8000 (48%)]\tLoss: 10.194534\n",
      "Train Epoch: 49 [5120/8000 (64%)]\tLoss: 10.540586\n",
      "Train Epoch: 49 [6400/8000 (80%)]\tLoss: 10.093635\n",
      "Train Epoch: 49 [7680/8000 (96%)]\tLoss: 10.582228\n",
      "====> Epoch: 49 Average loss: 10.2389\n",
      "Train Epoch: 50 [0/8000 (0%)]\tLoss: 9.885213\n",
      "Train Epoch: 50 [1280/8000 (16%)]\tLoss: 9.661025\n",
      "Train Epoch: 50 [2560/8000 (32%)]\tLoss: 10.623211\n",
      "Train Epoch: 50 [3840/8000 (48%)]\tLoss: 10.235064\n",
      "Train Epoch: 50 [5120/8000 (64%)]\tLoss: 10.339252\n",
      "Train Epoch: 50 [6400/8000 (80%)]\tLoss: 10.230854\n",
      "Train Epoch: 50 [7680/8000 (96%)]\tLoss: 10.166793\n",
      "====> Epoch: 50 Average loss: 10.2025\n"
     ]
    }
   ],
   "source": [
    "gradients_before_burnin = torch.zeros(train_data.shape[1]).to(device)\n",
    "gradient_post_burn_in = torch.zeros(train_data.shape[1]).to(device)\n",
    "\n",
    "for epoch in range(1, n_epochs+1):\n",
    "    grads=train_truncated_with_gradients(train_data, vae_gumbel_truncated, \n",
    "                                                      vae_gumbel_trunc_optimizer, \n",
    "                                                      epoch, \n",
    "                                                      batch_size, \n",
    "                                                      Dim = D)\n",
    "    if vae_gumbel_truncated.t >= 0.01:\n",
    "        vae_gumbel_truncated.t *= 0.75\n",
    "    if epoch > 5 and epoch <25:\n",
    "        gradients_before_burnin += grads\n",
    "    if epoch == 25:\n",
    "        with torch.no_grad():\n",
    "            # collect a version of the select keys at this point\n",
    "            w = vae_gumbel_truncated.weight_creator(test_data[0:10, :])\n",
    "            subset_indices_before_burnin = sample_subset(w, k=3*z_size, t=0.01).cpu()\n",
    "    if epoch > 24:\n",
    "        gradient_post_burn_in += grads\n",
    "        \n",
    "with torch.no_grad():\n",
    "    w = vae_gumbel_truncated.weight_creator(test_data[0:10, :])\n",
    "    subset_indices_post_burnin = sample_subset(w, k=3*z_size, t=0.01).cpu()"
   ]
  },
  {
   "cell_type": "code",
   "execution_count": 14,
   "metadata": {},
   "outputs": [
    {
     "name": "stdout",
     "output_type": "stream",
     "text": [
      "tensor(1.4094e+12, device='cuda:0')\n",
      "tensor(8.1824e+11, device='cuda:0')\n"
     ]
    },
    {
     "data": {
      "text/plain": [
       "<matplotlib.axes._subplots.AxesSubplot at 0x7f8a703d39d0>"
      ]
     },
     "execution_count": 14,
     "metadata": {},
     "output_type": "execute_result"
    },
    {
     "data": {
      "image/png": "[encoded data removed]",
      "text/plain": [
       "<Figure size 432x288 with 2 Axes>"
      ]
     },
     "metadata": {
      "needs_background": "light"
     },
     "output_type": "display_data"
    }
   ],
   "source": [
    "print(gradients_before_burnin[:D].mean())\n",
    "print(gradients_before_burnin[D:].mean())\n",
    "sns.heatmap(gradients_before_burnin.clone().detach().cpu().numpy()[:, np.newaxis])\n"
   ]
  },
  {
   "cell_type": "code",
   "execution_count": 15,
   "metadata": {},
   "outputs": [
    {
     "name": "stdout",
     "output_type": "stream",
     "text": [
      "tensor(5.2290e+12, device='cuda:0')\n",
      "tensor(2.3107e+12, device='cuda:0')\n"
     ]
    },
    {
     "data": {
      "text/plain": [
       "<matplotlib.axes._subplots.AxesSubplot at 0x7f8a702a5e90>"
      ]
     },
     "execution_count": 15,
     "metadata": {},
     "output_type": "execute_result"
    },
    {
     "data": {
      "image/png": "[encoded data removed]",
      "text/plain": [
       "<Figure size 432x288 with 2 Axes>"
      ]
     },
     "metadata": {
      "needs_background": "light"
     },
     "output_type": "display_data"
    }
   ],
   "source": [
    "print(gradient_post_burn_in[:D].mean())\n",
    "print(gradient_post_burn_in[D:].mean())\n",
    "sns.heatmap(gradient_post_burn_in.clone().detach().cpu().numpy()[:, np.newaxis])"
   ]
  },
  {
   "cell_type": "code",
   "execution_count": 16,
   "metadata": {},
   "outputs": [
    {
     "name": "stdout",
     "output_type": "stream",
     "text": [
      "tensor(4.4557)\n",
      "tensor(3.5443)\n"
     ]
    },
    {
     "data": {
      "text/plain": [
       "<matplotlib.axes._subplots.AxesSubplot at 0x7f8a70190f90>"
      ]
     },
     "execution_count": 16,
     "metadata": {},
     "output_type": "execute_result"
    },
    {
     "data": {
      "image/png": "[encoded data removed]",
      "text/plain": [
       "<Figure size 432x288 with 2 Axes>"
      ]
     },
     "metadata": {
      "needs_background": "light"
     },
     "output_type": "display_data"
    }
   ],
   "source": [
    "print(subset_indices_before_burnin.sum(dim = 0)[:D].mean())\n",
    "print(subset_indices_before_burnin.sum(dim = 0)[D:].mean())\n",
    "sns.heatmap(subset_indices_before_burnin.sum(dim = 0).clone().detach().cpu().numpy()[:, np.newaxis])"
   ]
  },
  {
   "cell_type": "code",
   "execution_count": 17,
   "metadata": {},
   "outputs": [
    {
     "name": "stdout",
     "output_type": "stream",
     "text": [
      "tensor(4.3393)\n",
      "tensor(3.6607)\n"
     ]
    },
    {
     "data": {
      "text/plain": [
       "<matplotlib.axes._subplots.AxesSubplot at 0x7f8a702aad10>"
      ]
     },
     "execution_count": 17,
     "metadata": {},
     "output_type": "execute_result"
    },
    {
     "data": {
      "image/png": "[encoded data removed]",
      "text/plain": [
       "<Figure size 432x288 with 2 Axes>"
      ]
     },
     "metadata": {
      "needs_background": "light"
     },
     "output_type": "display_data"
    }
   ],
   "source": [
    "print(subset_indices_post_burnin.sum(dim = 0)[:D].mean())\n",
    "print(subset_indices_post_burnin.sum(dim = 0)[(D):].mean())\n",
    "sns.heatmap(subset_indices_post_burnin.sum(dim = 0).clone().detach().cpu().numpy()[:, np.newaxis])"
   ]
  },
  {
   "cell_type": "code",
   "execution_count": 18,
   "metadata": {},
   "outputs": [
    {
     "data": {
      "text/plain": [
       "tensor(-132.5392)"
      ]
     },
     "execution_count": 18,
     "metadata": {},
     "output_type": "execute_result"
    }
   ],
   "source": [
    "subset_indices_post_burnin.sum(dim = 0)[:(D//2)].sum() - subset_indices_post_burnin.sum(dim = 0)[(D//2):].sum()"
   ]
  },
  {
   "cell_type": "markdown",
   "metadata": {},
   "source": [
    "The new model\n"
   ]
  },
  {
   "cell_type": "code",
   "execution_count": 31,
   "metadata": {},
   "outputs": [],
   "source": [
    "logits_changed_loss_lambda = 0.001\n",
    "alpha = 0.99"
   ]
  },
  {
   "cell_type": "code",
   "execution_count": 32,
   "metadata": {},
   "outputs": [],
   "source": [
    "vae_gumbel_truncated = VAE_Gumbel_NInstaState(2*D, 100, 20, k = 3*z_size, t = global_t, alpha = alpha)\n",
    "vae_gumbel_truncated.to(device)\n",
    "vae_gumbel_trunc_optimizer = torch.optim.Adam(vae_gumbel_truncated.parameters(), \n",
    "                                                lr=lr, \n",
    "                                                betas = (b1,b2))\n",
    "\n"
   ]
  },
  {
   "cell_type": "code",
   "execution_count": 33,
   "metadata": {},
   "outputs": [
    {
     "name": "stdout",
     "output_type": "stream",
     "text": [
      "Train Epoch: 1 [0/8000 (0%)]\tLoss: 41.636711\n",
      "Train Epoch: 1 [1280/8000 (16%)]\tLoss: 40.889404\n",
      "Train Epoch: 1 [2560/8000 (32%)]\tLoss: 40.506477\n",
      "Train Epoch: 1 [3840/8000 (48%)]\tLoss: 40.583241\n",
      "Loss tensor(2443.5161, device='cuda:0', grad_fn=<AddBackward0>)Logits Loss tensor(151111.0625, device='cuda:0', grad_fn=<MseLossBackward>)\n",
      "Train Epoch: 1 [5120/8000 (64%)]\tLoss: 40.506248\n",
      "Train Epoch: 1 [6400/8000 (80%)]\tLoss: 40.270187\n",
      "Train Epoch: 1 [7680/8000 (96%)]\tLoss: 39.868652\n",
      "====> Epoch: 1 Average loss: 40.5388\n",
      "Train Epoch: 2 [0/8000 (0%)]\tLoss: 39.685799\n",
      "Loss tensor(2246.3579, device='cuda:0', grad_fn=<AddBackward0>)Logits Loss tensor(287279.5625, device='cuda:0', grad_fn=<MseLossBackward>)\n",
      "Train Epoch: 2 [1280/8000 (16%)]\tLoss: 39.519001\n",
      "Train Epoch: 2 [2560/8000 (32%)]\tLoss: 39.506393\n",
      "Train Epoch: 2 [3840/8000 (48%)]\tLoss: 39.369644\n",
      "Loss tensor(2154.0349, device='cuda:0', grad_fn=<AddBackward0>)Logits Loss tensor(392307.0312, device='cuda:0', grad_fn=<MseLossBackward>)\n",
      "Train Epoch: 2 [5120/8000 (64%)]\tLoss: 40.207706\n",
      "Loss tensor(2167.4551, device='cuda:0', grad_fn=<AddBackward0>)Logits Loss tensor(430172.5625, device='cuda:0', grad_fn=<MseLossBackward>)\n",
      "Train Epoch: 2 [6400/8000 (80%)]\tLoss: 40.021317\n",
      "Train Epoch: 2 [7680/8000 (96%)]\tLoss: 40.613987\n",
      "====> Epoch: 2 Average loss: 39.8833\n",
      "Train Epoch: 3 [0/8000 (0%)]\tLoss: 40.583836\n",
      "Train Epoch: 3 [1280/8000 (16%)]\tLoss: 39.996265\n",
      "Train Epoch: 3 [2560/8000 (32%)]\tLoss: 39.522598\n",
      "Train Epoch: 3 [3840/8000 (48%)]\tLoss: 39.662266\n",
      "Loss tensor(2107.8936, device='cuda:0', grad_fn=<AddBackward0>)Logits Loss tensor(428753.1250, device='cuda:0', grad_fn=<MseLossBackward>)\n",
      "Train Epoch: 3 [5120/8000 (64%)]\tLoss: 39.994858\n",
      "Loss tensor(2126.5447, device='cuda:0', grad_fn=<AddBackward0>)Logits Loss tensor(409562.4688, device='cuda:0', grad_fn=<MseLossBackward>)\n",
      "Train Epoch: 3 [6400/8000 (80%)]\tLoss: 39.010612\n",
      "Loss tensor(2111.2739, device='cuda:0', grad_fn=<AddBackward0>)Logits Loss tensor(392379.4375, device='cuda:0', grad_fn=<MseLossBackward>)\n",
      "Train Epoch: 3 [7680/8000 (96%)]\tLoss: 39.021339\n",
      "====> Epoch: 3 Average loss: 39.6668\n",
      "Train Epoch: 4 [0/8000 (0%)]\tLoss: 38.820660\n",
      "Train Epoch: 4 [1280/8000 (16%)]\tLoss: 37.995968\n",
      "Train Epoch: 4 [2560/8000 (32%)]\tLoss: 37.290020\n",
      "Train Epoch: 4 [3840/8000 (48%)]\tLoss: 36.906490\n",
      "Train Epoch: 4 [5120/8000 (64%)]\tLoss: 36.601082\n",
      "Train Epoch: 4 [6400/8000 (80%)]\tLoss: 35.716400\n",
      "Train Epoch: 4 [7680/8000 (96%)]\tLoss: 35.609615\n",
      "====> Epoch: 4 Average loss: 37.0850\n",
      "Train Epoch: 5 [0/8000 (0%)]\tLoss: 35.891716\n",
      "Train Epoch: 5 [1280/8000 (16%)]\tLoss: 35.809681\n",
      "Loss tensor(2103.3098, device='cuda:0', grad_fn=<AddBackward0>)Logits Loss tensor(131280.4531, device='cuda:0', grad_fn=<MseLossBackward>)\n",
      "Train Epoch: 5 [2560/8000 (32%)]\tLoss: 35.112877\n",
      "Train Epoch: 5 [3840/8000 (48%)]\tLoss: 34.353764\n",
      "Train Epoch: 5 [5120/8000 (64%)]\tLoss: 33.955498\n",
      "Train Epoch: 5 [6400/8000 (80%)]\tLoss: 33.929104\n",
      "Train Epoch: 5 [7680/8000 (96%)]\tLoss: 33.384205\n",
      "====> Epoch: 5 Average loss: 34.4343\n",
      "Train Epoch: 6 [0/8000 (0%)]\tLoss: 33.737556\n",
      "Train Epoch: 6 [1280/8000 (16%)]\tLoss: 33.752285\n",
      "Train Epoch: 6 [2560/8000 (32%)]\tLoss: 33.794773\n",
      "Train Epoch: 6 [3840/8000 (48%)]\tLoss: 33.606140\n",
      "Train Epoch: 6 [5120/8000 (64%)]\tLoss: 33.540295\n",
      "Loss tensor(2096.1104, device='cuda:0', grad_fn=<AddBackward0>)Logits Loss tensor(33629.5312, device='cuda:0', grad_fn=<MseLossBackward>)\n",
      "Train Epoch: 6 [6400/8000 (80%)]\tLoss: 33.105869\n",
      "Train Epoch: 6 [7680/8000 (96%)]\tLoss: 32.978748\n",
      "====> Epoch: 6 Average loss: 33.3432\n",
      "Train Epoch: 7 [0/8000 (0%)]\tLoss: 33.042610\n",
      "Train Epoch: 7 [1280/8000 (16%)]\tLoss: 33.255512\n",
      "Train Epoch: 7 [2560/8000 (32%)]\tLoss: 32.778507\n",
      "Train Epoch: 7 [3840/8000 (48%)]\tLoss: 33.165302\n",
      "Loss tensor(2079.2175, device='cuda:0', grad_fn=<AddBackward0>)Logits Loss tensor(20613.0312, device='cuda:0', grad_fn=<MseLossBackward>)\n",
      "Train Epoch: 7 [5120/8000 (64%)]\tLoss: 32.978703\n",
      "Train Epoch: 7 [6400/8000 (80%)]\tLoss: 32.533905\n",
      "Train Epoch: 7 [7680/8000 (96%)]\tLoss: 32.715263\n",
      "====> Epoch: 7 Average loss: 32.9240\n",
      "Train Epoch: 8 [0/8000 (0%)]\tLoss: 32.429989\n",
      "Train Epoch: 8 [1280/8000 (16%)]\tLoss: 32.329361\n",
      "Train Epoch: 8 [2560/8000 (32%)]\tLoss: 32.809616\n",
      "Loss tensor(2082.6887, device='cuda:0', grad_fn=<AddBackward0>)Logits Loss tensor(10724.2051, device='cuda:0', grad_fn=<MseLossBackward>)\n",
      "Train Epoch: 8 [3840/8000 (48%)]\tLoss: 32.628963\n",
      "Loss tensor(2084.0886, device='cuda:0', grad_fn=<AddBackward0>)Logits Loss tensor(9476.5391, device='cuda:0', grad_fn=<MseLossBackward>)\n",
      "Train Epoch: 8 [5120/8000 (64%)]\tLoss: 33.077393\n",
      "Train Epoch: 8 [6400/8000 (80%)]\tLoss: 32.237530\n",
      "Train Epoch: 8 [7680/8000 (96%)]\tLoss: 32.837032\n",
      "====> Epoch: 8 Average loss: 32.6936\n",
      "Train Epoch: 9 [0/8000 (0%)]\tLoss: 32.548637\n",
      "Loss tensor(2061.6665, device='cuda:0', grad_fn=<AddBackward0>)Logits Loss tensor(6554.9590, device='cuda:0', grad_fn=<MseLossBackward>)\n",
      "Train Epoch: 9 [1280/8000 (16%)]\tLoss: 32.617168\n",
      "Train Epoch: 9 [2560/8000 (32%)]\tLoss: 32.556335\n",
      "Train Epoch: 9 [3840/8000 (48%)]\tLoss: 32.519699\n",
      "Train Epoch: 9 [5120/8000 (64%)]\tLoss: 32.191452\n",
      "Train Epoch: 9 [6400/8000 (80%)]\tLoss: 32.766953\n",
      "Loss tensor(2090.0234, device='cuda:0', grad_fn=<AddBackward0>)Logits Loss tensor(3437.0649, device='cuda:0', grad_fn=<MseLossBackward>)\n",
      "Train Epoch: 9 [7680/8000 (96%)]\tLoss: 32.653942\n",
      "====> Epoch: 9 Average loss: 32.5463\n",
      "Train Epoch: 10 [0/8000 (0%)]\tLoss: 32.421490\n",
      "Train Epoch: 10 [1280/8000 (16%)]\tLoss: 32.296638\n",
      "Train Epoch: 10 [2560/8000 (32%)]\tLoss: 32.746704\n",
      "Loss tensor(2079.0427, device='cuda:0', grad_fn=<AddBackward0>)Logits Loss tensor(1985.8958, device='cuda:0', grad_fn=<MseLossBackward>)\n",
      "Train Epoch: 10 [3840/8000 (48%)]\tLoss: 32.197105\n",
      "Train Epoch: 10 [5120/8000 (64%)]\tLoss: 32.491020\n",
      "Train Epoch: 10 [6400/8000 (80%)]\tLoss: 32.429638\n",
      "Train Epoch: 10 [7680/8000 (96%)]\tLoss: 32.314190\n",
      "====> Epoch: 10 Average loss: 32.4708\n",
      "Train Epoch: 11 [0/8000 (0%)]\tLoss: 32.401669\n",
      "Train Epoch: 11 [1280/8000 (16%)]\tLoss: 32.700230\n",
      "Train Epoch: 11 [2560/8000 (32%)]\tLoss: 32.166557\n",
      "Train Epoch: 11 [3840/8000 (48%)]\tLoss: 32.485870\n",
      "Loss tensor(2059.3997, device='cuda:0', grad_fn=<AddBackward0>)Logits Loss tensor(1670.1660, device='cuda:0', grad_fn=<MseLossBackward>)\n",
      "Train Epoch: 11 [5120/8000 (64%)]\tLoss: 32.490028\n",
      "Train Epoch: 11 [6400/8000 (80%)]\tLoss: 32.312435\n",
      "Train Epoch: 11 [7680/8000 (96%)]\tLoss: 32.330585\n",
      "====> Epoch: 11 Average loss: 32.4505\n",
      "Train Epoch: 12 [0/8000 (0%)]\tLoss: 32.424797\n",
      "Loss tensor(2047.7263, device='cuda:0', grad_fn=<AddBackward0>)Logits Loss tensor(3024.6719, device='cuda:0', grad_fn=<MseLossBackward>)\n",
      "Train Epoch: 12 [1280/8000 (16%)]\tLoss: 32.516705\n",
      "Train Epoch: 12 [2560/8000 (32%)]\tLoss: 32.595161\n",
      "Train Epoch: 12 [3840/8000 (48%)]\tLoss: 32.278320\n",
      "Train Epoch: 12 [5120/8000 (64%)]\tLoss: 32.761322\n",
      "Train Epoch: 12 [6400/8000 (80%)]\tLoss: 32.385109\n",
      "Train Epoch: 12 [7680/8000 (96%)]\tLoss: 32.389565\n",
      "====> Epoch: 12 Average loss: 32.4946\n",
      "Train Epoch: 13 [0/8000 (0%)]\tLoss: 32.721466\n",
      "Train Epoch: 13 [1280/8000 (16%)]\tLoss: 32.909752\n",
      "Train Epoch: 13 [2560/8000 (32%)]\tLoss: 32.722740\n",
      "Loss tensor(2052.1523, device='cuda:0', grad_fn=<AddBackward0>)Logits Loss tensor(36437.9258, device='cuda:0', grad_fn=<MseLossBackward>)\n",
      "Train Epoch: 13 [3840/8000 (48%)]\tLoss: 32.555557\n",
      "Train Epoch: 13 [5120/8000 (64%)]\tLoss: 32.992130\n",
      "Train Epoch: 13 [6400/8000 (80%)]\tLoss: 32.557964\n",
      "Train Epoch: 13 [7680/8000 (96%)]\tLoss: 32.386993\n",
      "====> Epoch: 13 Average loss: 32.7423\n",
      "Train Epoch: 14 [0/8000 (0%)]\tLoss: 33.138763\n",
      "Train Epoch: 14 [1280/8000 (16%)]\tLoss: 33.699593\n",
      "Train Epoch: 14 [2560/8000 (32%)]\tLoss: 46.235264\n",
      "Train Epoch: 14 [3840/8000 (48%)]\tLoss: 251.670975\n",
      "Train Epoch: 14 [5120/8000 (64%)]\tLoss: 582.220398\n",
      "Train Epoch: 14 [6400/8000 (80%)]\tLoss: 931.652222\n",
      "Train Epoch: 14 [7680/8000 (96%)]\tLoss: 1163.422363\n",
      "====> Epoch: 14 Average loss: 430.2592\n",
      "Train Epoch: 15 [0/8000 (0%)]\tLoss: 1235.127930\n",
      "Train Epoch: 15 [1280/8000 (16%)]\tLoss: 1528.148560\n",
      "Train Epoch: 15 [2560/8000 (32%)]\tLoss: 1676.571533\n",
      "Train Epoch: 15 [3840/8000 (48%)]\tLoss: 1727.188232\n",
      "Train Epoch: 15 [5120/8000 (64%)]\tLoss: 1751.046387\n",
      "Train Epoch: 15 [6400/8000 (80%)]\tLoss: 1645.481689\n",
      "Loss tensor(2062.4397, device='cuda:0', grad_fn=<AddBackward0>)Logits Loss tensor(1.0190e+08, device='cuda:0', grad_fn=<MseLossBackward>)\n"
     ]
    },
    {
     "name": "stdout",
     "output_type": "stream",
     "text": [
      "Train Epoch: 15 [7680/8000 (96%)]\tLoss: 1547.486572\n",
      "====> Epoch: 15 Average loss: 1624.3490\n",
      "Train Epoch: 16 [0/8000 (0%)]\tLoss: 1486.859985\n",
      "Train Epoch: 16 [1280/8000 (16%)]\tLoss: 1411.335815\n",
      "Train Epoch: 16 [2560/8000 (32%)]\tLoss: 1265.579102\n",
      "Train Epoch: 16 [3840/8000 (48%)]\tLoss: 1073.827393\n",
      "Train Epoch: 16 [5120/8000 (64%)]\tLoss: 982.957275\n",
      "Train Epoch: 16 [6400/8000 (80%)]\tLoss: 797.142578\n",
      "Train Epoch: 16 [7680/8000 (96%)]\tLoss: 577.638550\n",
      "====> Epoch: 16 Average loss: 1091.1001\n",
      "Train Epoch: 17 [0/8000 (0%)]\tLoss: 539.138611\n",
      "Train Epoch: 17 [1280/8000 (16%)]\tLoss: 442.694550\n",
      "Train Epoch: 17 [2560/8000 (32%)]\tLoss: 416.514099\n",
      "Train Epoch: 17 [3840/8000 (48%)]\tLoss: 348.600464\n",
      "Train Epoch: 17 [5120/8000 (64%)]\tLoss: 246.966003\n",
      "Train Epoch: 17 [6400/8000 (80%)]\tLoss: 185.770126\n",
      "Loss tensor(2085.5183, device='cuda:0', grad_fn=<AddBackward0>)Logits Loss tensor(5919759., device='cuda:0', grad_fn=<MseLossBackward>)\n",
      "Train Epoch: 17 [7680/8000 (96%)]\tLoss: 131.395920\n",
      "====> Epoch: 17 Average loss: 317.3015\n",
      "Train Epoch: 18 [0/8000 (0%)]\tLoss: 124.028145\n",
      "Loss tensor(2053.6895, device='cuda:0', grad_fn=<AddBackward0>)Logits Loss tensor(4315396., device='cuda:0', grad_fn=<MseLossBackward>)\n",
      "Loss tensor(2050.4985, device='cuda:0', grad_fn=<AddBackward0>)Logits Loss tensor(3910231.2500, device='cuda:0', grad_fn=<MseLossBackward>)\n",
      "Train Epoch: 18 [1280/8000 (16%)]\tLoss: 122.540833\n",
      "Train Epoch: 18 [2560/8000 (32%)]\tLoss: 89.528511\n",
      "Train Epoch: 18 [3840/8000 (48%)]\tLoss: 81.748390\n",
      "Train Epoch: 18 [5120/8000 (64%)]\tLoss: 66.888336\n",
      "Loss tensor(2056.5642, device='cuda:0', grad_fn=<AddBackward0>)Logits Loss tensor(1912053.7500, device='cuda:0', grad_fn=<MseLossBackward>)\n",
      "Train Epoch: 18 [6400/8000 (80%)]\tLoss: 59.063217\n",
      "Train Epoch: 18 [7680/8000 (96%)]\tLoss: 52.339916\n",
      "====> Epoch: 18 Average loss: 78.9169\n",
      "Train Epoch: 19 [0/8000 (0%)]\tLoss: 49.334053\n",
      "Train Epoch: 19 [1280/8000 (16%)]\tLoss: 39.169022\n",
      "Train Epoch: 19 [2560/8000 (32%)]\tLoss: 42.696243\n",
      "Train Epoch: 19 [3840/8000 (48%)]\tLoss: 36.196320\n",
      "Train Epoch: 19 [5120/8000 (64%)]\tLoss: 34.249306\n",
      "Train Epoch: 19 [6400/8000 (80%)]\tLoss: 36.483788\n",
      "Train Epoch: 19 [7680/8000 (96%)]\tLoss: 34.206009\n",
      "====> Epoch: 19 Average loss: 39.4405\n",
      "Train Epoch: 20 [0/8000 (0%)]\tLoss: 33.845669\n",
      "Train Epoch: 20 [1280/8000 (16%)]\tLoss: 32.988201\n",
      "Loss tensor(2041.8411, device='cuda:0', grad_fn=<AddBackward0>)Logits Loss tensor(68102.7188, device='cuda:0', grad_fn=<MseLossBackward>)\n",
      "Train Epoch: 20 [2560/8000 (32%)]\tLoss: 34.745422\n",
      "Train Epoch: 20 [3840/8000 (48%)]\tLoss: 36.055439\n",
      "Loss tensor(2050.7461, device='cuda:0', grad_fn=<AddBackward0>)Logits Loss tensor(71395.3125, device='cuda:0', grad_fn=<MseLossBackward>)\n",
      "Train Epoch: 20 [5120/8000 (64%)]\tLoss: 33.322559\n",
      "Train Epoch: 20 [6400/8000 (80%)]\tLoss: 32.902477\n",
      "Train Epoch: 20 [7680/8000 (96%)]\tLoss: 34.447063\n",
      "====> Epoch: 20 Average loss: 33.8361\n",
      "Train Epoch: 21 [0/8000 (0%)]\tLoss: 33.400311\n",
      "Loss tensor(2033.8538, device='cuda:0', grad_fn=<AddBackward0>)Logits Loss tensor(55713.3438, device='cuda:0', grad_fn=<MseLossBackward>)\n",
      "Loss tensor(2038.9812, device='cuda:0', grad_fn=<AddBackward0>)Logits Loss tensor(108315.2031, device='cuda:0', grad_fn=<MseLossBackward>)\n",
      "Train Epoch: 21 [1280/8000 (16%)]\tLoss: 32.831165\n",
      "Loss tensor(2058.1672, device='cuda:0', grad_fn=<AddBackward0>)Logits Loss tensor(66703.5938, device='cuda:0', grad_fn=<MseLossBackward>)\n",
      "Train Epoch: 21 [2560/8000 (32%)]\tLoss: 34.190796\n",
      "Train Epoch: 21 [3840/8000 (48%)]\tLoss: 34.829899\n",
      "Train Epoch: 21 [5120/8000 (64%)]\tLoss: 35.329811\n",
      "Train Epoch: 21 [6400/8000 (80%)]\tLoss: 32.574894\n",
      "Loss tensor(2056.2839, device='cuda:0', grad_fn=<AddBackward0>)Logits Loss tensor(135385.9844, device='cuda:0', grad_fn=<MseLossBackward>)\n",
      "Train Epoch: 21 [7680/8000 (96%)]\tLoss: 32.852676\n",
      "====> Epoch: 21 Average loss: 33.5865\n",
      "Train Epoch: 22 [0/8000 (0%)]\tLoss: 33.797924\n",
      "Loss tensor(2052.9875, device='cuda:0', grad_fn=<AddBackward0>)Logits Loss tensor(58286.6250, device='cuda:0', grad_fn=<MseLossBackward>)\n",
      "Train Epoch: 22 [1280/8000 (16%)]\tLoss: 33.575470\n",
      "Train Epoch: 22 [2560/8000 (32%)]\tLoss: 32.605286\n",
      "Train Epoch: 22 [3840/8000 (48%)]\tLoss: 32.796150\n",
      "Train Epoch: 22 [5120/8000 (64%)]\tLoss: 33.262123\n",
      "Loss tensor(2061.6072, device='cuda:0', grad_fn=<AddBackward0>)Logits Loss tensor(59916.4297, device='cuda:0', grad_fn=<MseLossBackward>)\n",
      "Train Epoch: 22 [6400/8000 (80%)]\tLoss: 33.000393\n",
      "Loss tensor(2039.7563, device='cuda:0', grad_fn=<AddBackward0>)Logits Loss tensor(47911.8555, device='cuda:0', grad_fn=<MseLossBackward>)\n",
      "Train Epoch: 22 [7680/8000 (96%)]\tLoss: 33.365444\n",
      "====> Epoch: 22 Average loss: 33.3523\n",
      "Loss tensor(2044.0856, device='cuda:0', grad_fn=<AddBackward0>)Logits Loss tensor(78254.5078, device='cuda:0', grad_fn=<MseLossBackward>)\n",
      "Train Epoch: 23 [0/8000 (0%)]\tLoss: 33.161564\n",
      "Train Epoch: 23 [1280/8000 (16%)]\tLoss: 32.715244\n",
      "Train Epoch: 23 [2560/8000 (32%)]\tLoss: 32.509212\n",
      "Loss tensor(2027.5726, device='cuda:0', grad_fn=<AddBackward0>)Logits Loss tensor(38648.7656, device='cuda:0', grad_fn=<MseLossBackward>)\n",
      "Train Epoch: 23 [3840/8000 (48%)]\tLoss: 32.606377\n",
      "Train Epoch: 23 [5120/8000 (64%)]\tLoss: 32.456867\n",
      "Loss tensor(2047.7927, device='cuda:0', grad_fn=<AddBackward0>)Logits Loss tensor(103403.1094, device='cuda:0', grad_fn=<MseLossBackward>)\n",
      "Train Epoch: 23 [6400/8000 (80%)]\tLoss: 32.408604\n",
      "Train Epoch: 23 [7680/8000 (96%)]\tLoss: 33.629799\n",
      "====> Epoch: 23 Average loss: 33.0265\n",
      "Train Epoch: 24 [0/8000 (0%)]\tLoss: 33.994701\n",
      "Loss tensor(2043.0022, device='cuda:0', grad_fn=<AddBackward0>)Logits Loss tensor(47648.5547, device='cuda:0', grad_fn=<MseLossBackward>)\n",
      "Loss tensor(2022.7501, device='cuda:0', grad_fn=<AddBackward0>)Logits Loss tensor(54199.4805, device='cuda:0', grad_fn=<MseLossBackward>)\n",
      "Train Epoch: 24 [1280/8000 (16%)]\tLoss: 33.695473\n",
      "Train Epoch: 24 [2560/8000 (32%)]\tLoss: 33.615742\n",
      "Train Epoch: 24 [3840/8000 (48%)]\tLoss: 32.539433\n",
      "Train Epoch: 24 [5120/8000 (64%)]\tLoss: 33.209743\n",
      "Loss tensor(2043.8179, device='cuda:0', grad_fn=<AddBackward0>)Logits Loss tensor(72384.2188, device='cuda:0', grad_fn=<MseLossBackward>)\n",
      "Train Epoch: 24 [6400/8000 (80%)]\tLoss: 33.363880\n",
      "Train Epoch: 24 [7680/8000 (96%)]\tLoss: 34.265881\n",
      "====> Epoch: 24 Average loss: 33.0959\n",
      "Train Epoch: 25 [0/8000 (0%)]\tLoss: 32.537575\n",
      "Train Epoch: 25 [1280/8000 (16%)]\tLoss: 32.490490\n",
      "Train Epoch: 25 [2560/8000 (32%)]\tLoss: 33.149101\n",
      "Train Epoch: 25 [3840/8000 (48%)]\tLoss: 33.587254\n",
      "Train Epoch: 25 [5120/8000 (64%)]\tLoss: 33.051632\n",
      "Train Epoch: 25 [6400/8000 (80%)]\tLoss: 32.562584\n",
      "Train Epoch: 25 [7680/8000 (96%)]\tLoss: 35.611317\n",
      "====> Epoch: 25 Average loss: 33.1673\n",
      "GUMBEL DEBUG\n",
      "BURN IN DEBUG\n",
      "Going post burn in\n",
      "Train Epoch: 26 [0/8000 (0%)]\tLoss: 31.798733\n",
      "Loss tensor(2010.7742, device='cuda:0', grad_fn=<AddBackward0>)Logits Loss 0\n",
      "Train Epoch: 26 [1280/8000 (16%)]\tLoss: 31.726971\n",
      "Loss tensor(2023.4203, device='cuda:0', grad_fn=<AddBackward0>)Logits Loss 0\n",
      "Train Epoch: 26 [2560/8000 (32%)]\tLoss: 31.932442\n",
      "Train Epoch: 26 [3840/8000 (48%)]\tLoss: 31.516752\n",
      "Loss tensor(2050.0315, device='cuda:0', grad_fn=<AddBackward0>)Logits Loss 0\n",
      "Train Epoch: 26 [5120/8000 (64%)]\tLoss: 31.881975\n",
      "Train Epoch: 26 [6400/8000 (80%)]\tLoss: 31.773191\n",
      "Train Epoch: 26 [7680/8000 (96%)]\tLoss: 31.697989\n",
      "====> Epoch: 26 Average loss: 31.7431\n",
      "Train Epoch: 27 [0/8000 (0%)]\tLoss: 31.606661\n",
      "Train Epoch: 27 [1280/8000 (16%)]\tLoss: 31.433346\n",
      "Train Epoch: 27 [2560/8000 (32%)]\tLoss: 31.942839\n",
      "Train Epoch: 27 [3840/8000 (48%)]\tLoss: 31.571455\n",
      "Train Epoch: 27 [5120/8000 (64%)]\tLoss: 31.468281\n",
      "Train Epoch: 27 [6400/8000 (80%)]\tLoss: 31.484434\n",
      "Train Epoch: 27 [7680/8000 (96%)]\tLoss: 31.808054\n",
      "====> Epoch: 27 Average loss: 31.7454\n",
      "Train Epoch: 28 [0/8000 (0%)]\tLoss: 32.061176\n",
      "Train Epoch: 28 [1280/8000 (16%)]\tLoss: 31.697796\n",
      "Loss tensor(2037.2494, device='cuda:0', grad_fn=<AddBackward0>)Logits Loss 0\n",
      "Train Epoch: 28 [2560/8000 (32%)]\tLoss: 31.621805\n",
      "Train Epoch: 28 [3840/8000 (48%)]\tLoss: 31.649063\n",
      "Train Epoch: 28 [5120/8000 (64%)]\tLoss: 31.844763\n",
      "Loss tensor(2000.3209, device='cuda:0', grad_fn=<AddBackward0>)Logits Loss 0\n",
      "Train Epoch: 28 [6400/8000 (80%)]\tLoss: 31.626429\n",
      "Train Epoch: 28 [7680/8000 (96%)]\tLoss: 31.725721\n",
      "====> Epoch: 28 Average loss: 31.7292\n",
      "Train Epoch: 29 [0/8000 (0%)]\tLoss: 31.392111\n"
     ]
    },
    {
     "name": "stdout",
     "output_type": "stream",
     "text": [
      "Train Epoch: 29 [1280/8000 (16%)]\tLoss: 31.857977\n",
      "Train Epoch: 29 [2560/8000 (32%)]\tLoss: 31.338472\n",
      "Train Epoch: 29 [3840/8000 (48%)]\tLoss: 31.889994\n",
      "Train Epoch: 29 [5120/8000 (64%)]\tLoss: 31.408375\n",
      "Train Epoch: 29 [6400/8000 (80%)]\tLoss: 31.540146\n",
      "Loss tensor(2028.6022, device='cuda:0', grad_fn=<AddBackward0>)Logits Loss 0\n",
      "Train Epoch: 29 [7680/8000 (96%)]\tLoss: 31.721056\n",
      "====> Epoch: 29 Average loss: 31.7238\n",
      "Train Epoch: 30 [0/8000 (0%)]\tLoss: 31.862036\n",
      "Train Epoch: 30 [1280/8000 (16%)]\tLoss: 31.701244\n",
      "Train Epoch: 30 [2560/8000 (32%)]\tLoss: 31.611795\n",
      "Train Epoch: 30 [3840/8000 (48%)]\tLoss: 31.625719\n",
      "Train Epoch: 30 [5120/8000 (64%)]\tLoss: 31.237616\n",
      "Train Epoch: 30 [6400/8000 (80%)]\tLoss: 31.634947\n",
      "Loss tensor(2044.2118, device='cuda:0', grad_fn=<AddBackward0>)Logits Loss 0\n",
      "Train Epoch: 30 [7680/8000 (96%)]\tLoss: 31.976173\n",
      "====> Epoch: 30 Average loss: 31.6972\n",
      "Train Epoch: 31 [0/8000 (0%)]\tLoss: 31.514114\n",
      "Train Epoch: 31 [1280/8000 (16%)]\tLoss: 32.215267\n",
      "Train Epoch: 31 [2560/8000 (32%)]\tLoss: 31.600910\n",
      "Loss tensor(2004.1245, device='cuda:0', grad_fn=<AddBackward0>)Logits Loss 0\n",
      "Train Epoch: 31 [3840/8000 (48%)]\tLoss: 32.141853\n",
      "Train Epoch: 31 [5120/8000 (64%)]\tLoss: 31.781851\n",
      "Loss tensor(2016.6055, device='cuda:0', grad_fn=<AddBackward0>)Logits Loss 0\n",
      "Train Epoch: 31 [6400/8000 (80%)]\tLoss: 31.776073\n",
      "Train Epoch: 31 [7680/8000 (96%)]\tLoss: 31.755562\n",
      "====> Epoch: 31 Average loss: 31.6875\n",
      "Train Epoch: 32 [0/8000 (0%)]\tLoss: 31.619131\n",
      "Train Epoch: 32 [1280/8000 (16%)]\tLoss: 31.540747\n",
      "Train Epoch: 32 [2560/8000 (32%)]\tLoss: 31.657467\n",
      "Train Epoch: 32 [3840/8000 (48%)]\tLoss: 31.817852\n",
      "Train Epoch: 32 [5120/8000 (64%)]\tLoss: 31.810472\n",
      "Train Epoch: 32 [6400/8000 (80%)]\tLoss: 31.839928\n",
      "Train Epoch: 32 [7680/8000 (96%)]\tLoss: 32.213696\n",
      "====> Epoch: 32 Average loss: 31.6987\n",
      "Train Epoch: 33 [0/8000 (0%)]\tLoss: 31.542458\n",
      "Train Epoch: 33 [1280/8000 (16%)]\tLoss: 31.748032\n",
      "Loss tensor(2007.2777, device='cuda:0', grad_fn=<AddBackward0>)Logits Loss 0\n",
      "Loss tensor(2037.7285, device='cuda:0', grad_fn=<AddBackward0>)Logits Loss 0\n",
      "Train Epoch: 33 [2560/8000 (32%)]\tLoss: 32.007660\n",
      "Train Epoch: 33 [3840/8000 (48%)]\tLoss: 31.765839\n",
      "Train Epoch: 33 [5120/8000 (64%)]\tLoss: 31.368099\n",
      "Loss tensor(2040.0345, device='cuda:0', grad_fn=<AddBackward0>)Logits Loss 0\n",
      "Train Epoch: 33 [6400/8000 (80%)]\tLoss: 31.875540\n",
      "Train Epoch: 33 [7680/8000 (96%)]\tLoss: 31.400887\n",
      "====> Epoch: 33 Average loss: 31.6458\n",
      "Train Epoch: 34 [0/8000 (0%)]\tLoss: 31.853947\n",
      "Loss tensor(2068.4587, device='cuda:0', grad_fn=<AddBackward0>)Logits Loss 0\n",
      "Train Epoch: 34 [1280/8000 (16%)]\tLoss: 31.412199\n",
      "Train Epoch: 34 [2560/8000 (32%)]\tLoss: 31.330753\n",
      "Train Epoch: 34 [3840/8000 (48%)]\tLoss: 31.506458\n",
      "Loss tensor(2055.9883, device='cuda:0', grad_fn=<AddBackward0>)Logits Loss 0\n",
      "Train Epoch: 34 [5120/8000 (64%)]\tLoss: 31.345461\n",
      "Loss tensor(2072.0190, device='cuda:0', grad_fn=<AddBackward0>)Logits Loss 0\n",
      "Train Epoch: 34 [6400/8000 (80%)]\tLoss: 31.651731\n",
      "Train Epoch: 34 [7680/8000 (96%)]\tLoss: 31.478119\n",
      "====> Epoch: 34 Average loss: 31.6351\n",
      "Train Epoch: 35 [0/8000 (0%)]\tLoss: 31.734804\n",
      "Train Epoch: 35 [1280/8000 (16%)]\tLoss: 31.461384\n",
      "Train Epoch: 35 [2560/8000 (32%)]\tLoss: 32.015800\n",
      "Train Epoch: 35 [3840/8000 (48%)]\tLoss: 31.917992\n",
      "Train Epoch: 35 [5120/8000 (64%)]\tLoss: 31.713881\n",
      "Train Epoch: 35 [6400/8000 (80%)]\tLoss: 31.267918\n",
      "Train Epoch: 35 [7680/8000 (96%)]\tLoss: 31.462244\n",
      "====> Epoch: 35 Average loss: 31.5987\n",
      "Train Epoch: 36 [0/8000 (0%)]\tLoss: 31.354837\n",
      "Loss tensor(2006.2449, device='cuda:0', grad_fn=<AddBackward0>)Logits Loss 0\n",
      "Train Epoch: 36 [1280/8000 (16%)]\tLoss: 32.044754\n",
      "Train Epoch: 36 [2560/8000 (32%)]\tLoss: 31.082232\n",
      "Loss tensor(2017.5546, device='cuda:0', grad_fn=<AddBackward0>)Logits Loss 0\n",
      "Train Epoch: 36 [3840/8000 (48%)]\tLoss: 31.728361\n",
      "Train Epoch: 36 [5120/8000 (64%)]\tLoss: 31.566401\n",
      "Train Epoch: 36 [6400/8000 (80%)]\tLoss: 31.868429\n",
      "Train Epoch: 36 [7680/8000 (96%)]\tLoss: 31.625811\n",
      "====> Epoch: 36 Average loss: 31.6405\n",
      "Train Epoch: 37 [0/8000 (0%)]\tLoss: 31.256428\n",
      "Train Epoch: 37 [1280/8000 (16%)]\tLoss: 32.144978\n",
      "Train Epoch: 37 [2560/8000 (32%)]\tLoss: 31.940573\n",
      "Train Epoch: 37 [3840/8000 (48%)]\tLoss: 31.578508\n",
      "Train Epoch: 37 [5120/8000 (64%)]\tLoss: 31.510342\n",
      "Train Epoch: 37 [6400/8000 (80%)]\tLoss: 31.316355\n",
      "Train Epoch: 37 [7680/8000 (96%)]\tLoss: 31.472197\n",
      "====> Epoch: 37 Average loss: 31.5923\n",
      "Train Epoch: 38 [0/8000 (0%)]\tLoss: 31.525084\n",
      "Train Epoch: 38 [1280/8000 (16%)]\tLoss: 31.741167\n",
      "Train Epoch: 38 [2560/8000 (32%)]\tLoss: 31.572424\n",
      "Train Epoch: 38 [3840/8000 (48%)]\tLoss: 31.759003\n",
      "Train Epoch: 38 [5120/8000 (64%)]\tLoss: 31.934032\n",
      "Train Epoch: 38 [6400/8000 (80%)]\tLoss: 31.390732\n",
      "Train Epoch: 38 [7680/8000 (96%)]\tLoss: 31.435141\n",
      "====> Epoch: 38 Average loss: 31.5819\n",
      "Train Epoch: 39 [0/8000 (0%)]\tLoss: 31.467867\n",
      "Train Epoch: 39 [1280/8000 (16%)]\tLoss: 31.592016\n",
      "Train Epoch: 39 [2560/8000 (32%)]\tLoss: 31.415691\n",
      "Loss tensor(2014.0974, device='cuda:0', grad_fn=<AddBackward0>)Logits Loss 0\n",
      "Train Epoch: 39 [3840/8000 (48%)]\tLoss: 31.783373\n",
      "Train Epoch: 39 [5120/8000 (64%)]\tLoss: 31.132010\n",
      "Train Epoch: 39 [6400/8000 (80%)]\tLoss: 31.145714\n",
      "Train Epoch: 39 [7680/8000 (96%)]\tLoss: 31.627134\n",
      "====> Epoch: 39 Average loss: 31.5432\n",
      "Train Epoch: 40 [0/8000 (0%)]\tLoss: 31.179115\n",
      "Train Epoch: 40 [1280/8000 (16%)]\tLoss: 31.598248\n",
      "Train Epoch: 40 [2560/8000 (32%)]\tLoss: 31.396011\n",
      "Loss tensor(2023.8662, device='cuda:0', grad_fn=<AddBackward0>)Logits Loss 0\n",
      "Train Epoch: 40 [3840/8000 (48%)]\tLoss: 31.728533\n",
      "Loss tensor(2022.6318, device='cuda:0', grad_fn=<AddBackward0>)Logits Loss 0\n",
      "Train Epoch: 40 [5120/8000 (64%)]\tLoss: 31.919746\n",
      "Train Epoch: 40 [6400/8000 (80%)]\tLoss: 31.795843\n",
      "Train Epoch: 40 [7680/8000 (96%)]\tLoss: 31.394270\n",
      "====> Epoch: 40 Average loss: 31.5479\n",
      "Train Epoch: 41 [0/8000 (0%)]\tLoss: 31.575193\n",
      "Train Epoch: 41 [1280/8000 (16%)]\tLoss: 31.468992\n",
      "Train Epoch: 41 [2560/8000 (32%)]\tLoss: 31.947714\n",
      "Train Epoch: 41 [3840/8000 (48%)]\tLoss: 31.547625\n",
      "Loss tensor(2015.1069, device='cuda:0', grad_fn=<AddBackward0>)Logits Loss 0\n",
      "Train Epoch: 41 [5120/8000 (64%)]\tLoss: 31.167709\n",
      "Train Epoch: 41 [6400/8000 (80%)]\tLoss: 31.587706\n",
      "Train Epoch: 41 [7680/8000 (96%)]\tLoss: 31.015030\n",
      "====> Epoch: 41 Average loss: 31.5737\n",
      "Train Epoch: 42 [0/8000 (0%)]\tLoss: 31.489801\n",
      "Train Epoch: 42 [1280/8000 (16%)]\tLoss: 31.540768\n",
      "Loss tensor(2034.6948, device='cuda:0', grad_fn=<AddBackward0>)Logits Loss 0\n",
      "Train Epoch: 42 [2560/8000 (32%)]\tLoss: 31.081949\n",
      "Train Epoch: 42 [3840/8000 (48%)]\tLoss: 31.503971\n",
      "Train Epoch: 42 [5120/8000 (64%)]\tLoss: 31.511230\n",
      "Train Epoch: 42 [6400/8000 (80%)]\tLoss: 31.335537\n",
      "Train Epoch: 42 [7680/8000 (96%)]\tLoss: 31.571081\n",
      "====> Epoch: 42 Average loss: 31.5624\n",
      "Train Epoch: 43 [0/8000 (0%)]\tLoss: 31.401505\n",
      "Train Epoch: 43 [1280/8000 (16%)]\tLoss: 31.467710\n",
      "Train Epoch: 43 [2560/8000 (32%)]\tLoss: 31.005110\n",
      "Train Epoch: 43 [3840/8000 (48%)]\tLoss: 31.184616\n",
      "Train Epoch: 43 [5120/8000 (64%)]\tLoss: 31.515184\n",
      "Train Epoch: 43 [6400/8000 (80%)]\tLoss: 31.342894\n",
      "Train Epoch: 43 [7680/8000 (96%)]\tLoss: 31.413055\n",
      "====> Epoch: 43 Average loss: 31.5493\n",
      "Train Epoch: 44 [0/8000 (0%)]\tLoss: 31.740837\n",
      "Train Epoch: 44 [1280/8000 (16%)]\tLoss: 31.213499\n",
      "Loss tensor(1993.5034, device='cuda:0', grad_fn=<AddBackward0>)Logits Loss 0\n",
      "Train Epoch: 44 [2560/8000 (32%)]\tLoss: 31.613533\n",
      "Train Epoch: 44 [3840/8000 (48%)]\tLoss: 31.305479\n",
      "Train Epoch: 44 [5120/8000 (64%)]\tLoss: 31.433767\n",
      "Loss tensor(2013.4557, device='cuda:0', grad_fn=<AddBackward0>)Logits Loss 0\n",
      "Train Epoch: 44 [6400/8000 (80%)]\tLoss: 31.187531\n",
      "Loss tensor(2012.7102, device='cuda:0', grad_fn=<AddBackward0>)Logits Loss 0\n",
      "Train Epoch: 44 [7680/8000 (96%)]\tLoss: 31.243898\n",
      "====> Epoch: 44 Average loss: 31.4875\n",
      "Train Epoch: 45 [0/8000 (0%)]\tLoss: 31.118361\n",
      "Train Epoch: 45 [1280/8000 (16%)]\tLoss: 31.719616\n",
      "Train Epoch: 45 [2560/8000 (32%)]\tLoss: 31.324497\n",
      "Train Epoch: 45 [3840/8000 (48%)]\tLoss: 31.367928\n",
      "Train Epoch: 45 [5120/8000 (64%)]\tLoss: 30.885832\n",
      "Train Epoch: 45 [6400/8000 (80%)]\tLoss: 31.594307\n",
      "Train Epoch: 45 [7680/8000 (96%)]\tLoss: 31.103310\n",
      "====> Epoch: 45 Average loss: 31.4966\n",
      "Train Epoch: 46 [0/8000 (0%)]\tLoss: 31.419289\n",
      "Train Epoch: 46 [1280/8000 (16%)]\tLoss: 31.683207\n",
      "Train Epoch: 46 [2560/8000 (32%)]\tLoss: 31.147684\n",
      "Train Epoch: 46 [3840/8000 (48%)]\tLoss: 32.041172\n"
     ]
    },
    {
     "name": "stdout",
     "output_type": "stream",
     "text": [
      "Train Epoch: 46 [5120/8000 (64%)]\tLoss: 31.505136\n",
      "Train Epoch: 46 [6400/8000 (80%)]\tLoss: 31.767614\n",
      "Loss tensor(2002.2354, device='cuda:0', grad_fn=<AddBackward0>)Logits Loss 0\n",
      "Train Epoch: 46 [7680/8000 (96%)]\tLoss: 31.946699\n",
      "====> Epoch: 46 Average loss: 31.5225\n",
      "Train Epoch: 47 [0/8000 (0%)]\tLoss: 31.543314\n",
      "Train Epoch: 47 [1280/8000 (16%)]\tLoss: 31.224676\n",
      "Loss tensor(2027.9631, device='cuda:0', grad_fn=<AddBackward0>)Logits Loss 0\n",
      "Train Epoch: 47 [2560/8000 (32%)]\tLoss: 30.901382\n",
      "Loss tensor(2006.0098, device='cuda:0', grad_fn=<AddBackward0>)Logits Loss 0\n",
      "Train Epoch: 47 [3840/8000 (48%)]\tLoss: 31.319536\n",
      "Train Epoch: 47 [5120/8000 (64%)]\tLoss: 31.424980\n",
      "Train Epoch: 47 [6400/8000 (80%)]\tLoss: 31.640083\n",
      "Loss tensor(2006.7357, device='cuda:0', grad_fn=<AddBackward0>)Logits Loss 0\n",
      "Train Epoch: 47 [7680/8000 (96%)]\tLoss: 31.972843\n",
      "====> Epoch: 47 Average loss: 31.5120\n",
      "Train Epoch: 48 [0/8000 (0%)]\tLoss: 31.319674\n",
      "Train Epoch: 48 [1280/8000 (16%)]\tLoss: 31.746866\n",
      "Train Epoch: 48 [2560/8000 (32%)]\tLoss: 31.534649\n",
      "Train Epoch: 48 [3840/8000 (48%)]\tLoss: 30.999651\n",
      "Train Epoch: 48 [5120/8000 (64%)]\tLoss: 31.753370\n",
      "Train Epoch: 48 [6400/8000 (80%)]\tLoss: 31.869028\n",
      "Train Epoch: 48 [7680/8000 (96%)]\tLoss: 31.858589\n",
      "====> Epoch: 48 Average loss: 31.4906\n",
      "Train Epoch: 49 [0/8000 (0%)]\tLoss: 31.801952\n",
      "Train Epoch: 49 [1280/8000 (16%)]\tLoss: 31.423386\n",
      "Train Epoch: 49 [2560/8000 (32%)]\tLoss: 31.465279\n",
      "Train Epoch: 49 [3840/8000 (48%)]\tLoss: 30.881840\n",
      "Loss tensor(2018.7556, device='cuda:0', grad_fn=<AddBackward0>)Logits Loss 0\n",
      "Train Epoch: 49 [5120/8000 (64%)]\tLoss: 31.228760\n",
      "Train Epoch: 49 [6400/8000 (80%)]\tLoss: 31.168951\n",
      "Train Epoch: 49 [7680/8000 (96%)]\tLoss: 31.035158\n",
      "====> Epoch: 49 Average loss: 31.5891\n",
      "Train Epoch: 50 [0/8000 (0%)]\tLoss: 31.150387\n",
      "Train Epoch: 50 [1280/8000 (16%)]\tLoss: 31.271193\n",
      "Train Epoch: 50 [2560/8000 (32%)]\tLoss: 31.642115\n",
      "Train Epoch: 50 [3840/8000 (48%)]\tLoss: 31.470106\n",
      "Loss tensor(2037.1855, device='cuda:0', grad_fn=<AddBackward0>)Logits Loss 0\n",
      "Train Epoch: 50 [5120/8000 (64%)]\tLoss: 31.289387\n",
      "Train Epoch: 50 [6400/8000 (80%)]\tLoss: 31.716396\n",
      "Train Epoch: 50 [7680/8000 (96%)]\tLoss: 31.543564\n",
      "====> Epoch: 50 Average loss: 31.5072\n"
     ]
    }
   ],
   "source": [
    "gradients_before_burnin = torch.zeros(train_data.shape[1]).to(device)\n",
    "gradient_post_burn_in = torch.zeros(train_data.shape[1]).to(device)\n",
    "\n",
    "for epoch in range(1, n_epochs+1):\n",
    "    grads=train_truncated_with_gradients_gumbel_state(train_data, vae_gumbel_truncated, \n",
    "                                                      vae_gumbel_trunc_optimizer, \n",
    "                                                      epoch, \n",
    "                                                      batch_size, \n",
    "                                                      Dim = 2*D,\n",
    "                                                      logits_changed_loss_lambda=logits_changed_loss_lambda,\n",
    "                                                      DEBUG = True)\n",
    "    \n",
    "    if vae_gumbel_truncated.t >= 0.01:\n",
    "        vae_gumbel_truncated.t *= 0.75\n",
    "    if epoch > 5 and epoch <25:\n",
    "        gradients_before_burnin += grads\n",
    "    if epoch == 25:\n",
    "        with torch.no_grad():\n",
    "            # collect a version of the select keys at this point\n",
    "            print(\"GUMBEL DEBUG\")\n",
    "            w = vae_gumbel_truncated.weight_creator(test_data[0:10, :])\n",
    "            subset_indices_before_burnin = sample_subset(w, k=3*z_size, t=0.01).cpu()\n",
    "        \n",
    "        print(\"BURN IN DEBUG\")\n",
    "        vae_gumbel_truncated.set_burned_in()\n",
    "        #vae_gumbel_truncated.t /= 10\n",
    "        print(\"Going post burn in\")\n",
    "    if epoch > 24:\n",
    "        gradient_post_burn_in += grads\n",
    "        \n",
    "with torch.no_grad():\n",
    "    w = vae_gumbel_truncated.weight_creator(test_data[0:10, :])\n",
    "    subset_indices_post_burnin = sample_subset(w, k=3*z_size, t=0.01).cpu()"
   ]
  },
  {
   "cell_type": "code",
   "execution_count": 34,
   "metadata": {},
   "outputs": [
    {
     "name": "stdout",
     "output_type": "stream",
     "text": [
      "tensor(4149947., device='cuda:0')\n",
      "tensor(4275082., device='cuda:0')\n"
     ]
    },
    {
     "data": {
      "text/plain": [
       "<matplotlib.axes._subplots.AxesSubplot at 0x7f8a5e057850>"
      ]
     },
     "execution_count": 34,
     "metadata": {},
     "output_type": "execute_result"
    },
    {
     "data": {
      "image/png": "[encoded data removed]",
      "text/plain": [
       "<Figure size 432x288 with 2 Axes>"
      ]
     },
     "metadata": {
      "needs_background": "light"
     },
     "output_type": "display_data"
    }
   ],
   "source": [
    "print(gradients_before_burnin[:(D)].mean())\n",
    "print(gradients_before_burnin[(D):].mean())\n",
    "sns.heatmap(gradients_before_burnin.clone().detach().cpu().numpy()[:, np.newaxis])\n"
   ]
  },
  {
   "cell_type": "code",
   "execution_count": 35,
   "metadata": {},
   "outputs": [
    {
     "name": "stdout",
     "output_type": "stream",
     "text": [
      "tensor(107762.7812, device='cuda:0')\n",
      "tensor(61190.8750, device='cuda:0')\n"
     ]
    },
    {
     "data": {
      "text/plain": [
       "<matplotlib.axes._subplots.AxesSubplot at 0x7f8a5dffcf90>"
      ]
     },
     "execution_count": 35,
     "metadata": {},
     "output_type": "execute_result"
    },
    {
     "data": {
      "image/png": "[encoded data removed]",
      "text/plain": [
       "<Figure size 432x288 with 2 Axes>"
      ]
     },
     "metadata": {
      "needs_background": "light"
     },
     "output_type": "display_data"
    }
   ],
   "source": [
    "print(gradient_post_burn_in[:D].mean())\n",
    "print(gradient_post_burn_in[D:].mean())\n",
    "sns.heatmap(gradient_post_burn_in.clone().detach().cpu().numpy()[:, np.newaxis])"
   ]
  },
  {
   "cell_type": "code",
   "execution_count": 36,
   "metadata": {},
   "outputs": [
    {
     "name": "stdout",
     "output_type": "stream",
     "text": [
      "tensor(4.3395)\n",
      "tensor(3.6605)\n"
     ]
    },
    {
     "data": {
      "text/plain": [
       "<matplotlib.axes._subplots.AxesSubplot at 0x7f8a5def3710>"
      ]
     },
     "execution_count": 36,
     "metadata": {},
     "output_type": "execute_result"
    },
    {
     "data": {
      "image/png": "[encoded data removed]",
      "text/plain": [
       "<Figure size 432x288 with 2 Axes>"
      ]
     },
     "metadata": {
      "needs_background": "light"
     },
     "output_type": "display_data"
    }
   ],
   "source": [
    "print(subset_indices_before_burnin.sum(dim = 0)[:D].mean())\n",
    "print(subset_indices_before_burnin.sum(dim = 0)[D:].mean())\n",
    "sns.heatmap(subset_indices_before_burnin.sum(dim = 0).clone().detach().cpu().numpy()[:, np.newaxis])"
   ]
  },
  {
   "cell_type": "code",
   "execution_count": 37,
   "metadata": {},
   "outputs": [
    {
     "name": "stdout",
     "output_type": "stream",
     "text": [
      "tensor(4.4679)\n",
      "tensor(3.5321)\n"
     ]
    },
    {
     "data": {
      "text/plain": [
       "<matplotlib.axes._subplots.AxesSubplot at 0x7f8a5de3e090>"
      ]
     },
     "execution_count": 37,
     "metadata": {},
     "output_type": "execute_result"
    },
    {
     "data": {
      "image/png": "[encoded data removed]",
      "text/plain": [
       "<Figure size 432x288 with 2 Axes>"
      ]
     },
     "metadata": {
      "needs_background": "light"
     },
     "output_type": "display_data"
    }
   ],
   "source": [
    "print(subset_indices_post_burnin.sum(dim = 0)[:D].mean())\n",
    "print(subset_indices_post_burnin.sum(dim = 0)[D:].mean())\n",
    "sns.heatmap(subset_indices_post_burnin.sum(dim = 0).clone().detach().cpu().numpy()[:, np.newaxis])"
   ]
  },
  {
   "cell_type": "code",
   "execution_count": 38,
   "metadata": {},
   "outputs": [
    {
     "data": {
      "text/plain": [
       "tensor(6)"
      ]
     },
     "execution_count": 38,
     "metadata": {},
     "output_type": "execute_result"
    }
   ],
   "source": [
    "(subset_indices_post_burnin.sum(dim = 0)[:(D//2)] > 0).sum()"
   ]
  },
  {
   "cell_type": "code",
   "execution_count": 39,
   "metadata": {},
   "outputs": [
    {
     "data": {
      "text/plain": [
       "tensor(18)"
      ]
     },
     "execution_count": 39,
     "metadata": {},
     "output_type": "execute_result"
    }
   ],
   "source": [
    "(subset_indices_post_burnin.sum(dim = 0)[(D//2):] > 0).sum()"
   ]
  },
  {
   "cell_type": "code",
   "execution_count": 40,
   "metadata": {},
   "outputs": [
    {
     "data": {
      "text/plain": [
       "tensor([ 0.0000, 11.0484,  0.0000, 11.7654,  0.0000,  0.0000,  9.7939, 14.2957,\n",
       "         0.0000,  0.0000,  0.0000, 10.0000,  0.0000, 10.9934,  0.0000])"
      ]
     },
     "execution_count": 40,
     "metadata": {},
     "output_type": "execute_result"
    }
   ],
   "source": [
    "subset_indices_post_burnin.sum(dim = 0)[:(D//2)]"
   ]
  },
  {
   "cell_type": "code",
   "execution_count": 41,
   "metadata": {},
   "outputs": [
    {
     "data": {
      "text/plain": [
       "tensor([11.2781,  0.0000,  3.3372,  0.0000, 11.9030, 11.7429,  0.0000, 12.0195,\n",
       "         5.8595,  9.9998,  0.0000,  0.0000,  0.0000,  0.0000,  0.0000,  0.0000,\n",
       "         0.0000,  0.0000,  0.0000,  0.0000,  0.0000,  0.0000,  0.0000,  6.0255,\n",
       "        10.8775,  0.0000, 10.6982,  0.0000, 10.8898,  0.0000,  0.0000,  0.0000,\n",
       "         0.0000, 11.1083,  0.0000,  0.0000,  8.3744, 11.1767,  4.7406,  0.0000,\n",
       "         0.0000,  9.3591, 11.6559, 11.0574,  0.0000])"
      ]
     },
     "execution_count": 41,
     "metadata": {},
     "output_type": "execute_result"
    }
   ],
   "source": [
    "subset_indices_post_burnin.sum(dim = 0)[(D//2):]"
   ]
  },
  {
   "cell_type": "code",
   "execution_count": 42,
   "metadata": {},
   "outputs": [
    {
     "data": {
      "text/plain": [
       "tensor(-104.2064)"
      ]
     },
     "execution_count": 42,
     "metadata": {},
     "output_type": "execute_result"
    }
   ],
   "source": [
    "subset_indices_post_burnin.sum(dim = 0)[:(D//2)].sum() - subset_indices_post_burnin.sum(dim = 0)[(D//2):].sum()"
   ]
  },
  {
   "cell_type": "code",
   "execution_count": null,
   "metadata": {},
   "outputs": [],
   "source": []
  },
  {
   "cell_type": "code",
   "execution_count": null,
   "metadata": {},
   "outputs": [],
   "source": []
  },
  {
   "cell_type": "code",
   "execution_count": null,
   "metadata": {},
   "outputs": [],
   "source": []
  }
 ],
 "metadata": {
  "kernelspec": {
   "display_name": "Python [conda env:nyu] *",
   "language": "python",
   "name": "conda-env-nyu-py"
  },
  "language_info": {
   "codemirror_mode": {
    "name": "ipython",
    "version": 3
   },
   "file_extension": ".py",
   "mimetype": "text/x-python",
   "name": "python",
   "nbconvert_exporter": "python",
   "pygments_lexer": "ipython3",
   "version": "3.7.6"
  }
 },
 "nbformat": 4,
 "nbformat_minor": 4
}
