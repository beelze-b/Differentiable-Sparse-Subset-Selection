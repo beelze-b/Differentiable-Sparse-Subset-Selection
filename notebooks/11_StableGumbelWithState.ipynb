{
 "cells": [
  {
   "cell_type": "markdown",
   "metadata": {},
   "source": [
    "So we know from Notebook 10 that trying to make it learn one set of logits per batch is good and gets features right.\n",
    "\n",
    "How can we make the logits consistent over batches?"
   ]
  },
  {
   "cell_type": "markdown",
   "metadata": {},
   "source": [
    "Will collect the gradients and gumbel selected values after 5 epochs in each mode. The two modes will be the behavior before burn-in and the behavior after mode-in."
   ]
  },
  {
   "cell_type": "markdown",
   "metadata": {},
   "source": [
    "Will follow Notebook 10 with slight modifications (described right before). Remember in Notebook 10, we explored behaviors when all the features were real vs when half the features were noise."
   ]
  },
  {
   "cell_type": "code",
   "execution_count": 1,
   "metadata": {},
   "outputs": [],
   "source": [
    "import torch\n",
    "\n",
    "\n",
    "from torch import nn\n",
    "from torch.autograd import Variable\n",
    "from torch.nn import functional as F\n",
    "\n",
    "import numpy as np\n",
    "\n",
    "import matplotlib.pyplot as plt\n",
    "#from sklearn.manifold import TSNE\n",
    "\n",
    "#import math\n",
    "\n",
    "#import gc\n",
    "\n",
    "from utils import *\n",
    "\n",
    "from sklearn.preprocessing import MinMaxScaler\n",
    "\n",
    "from scipy.stats import pearsonr\n",
    "\n",
    "import seaborn as sns"
   ]
  },
  {
   "cell_type": "code",
   "execution_count": 2,
   "metadata": {},
   "outputs": [],
   "source": [
    "torch.manual_seed(0)\n",
    "np.random.seed(0)"
   ]
  },
  {
   "cell_type": "code",
   "execution_count": 3,
   "metadata": {},
   "outputs": [],
   "source": [
    "# really good results for vanilla VAE on synthetic data with EPOCHS set to 50, \n",
    "# but when running locally set to 10 for reasonable run times\n",
    "n_epochs = 600\n",
    "batch_size = 64\n",
    "lr = 0.0001\n",
    "b1 = 0.9\n",
    "b2 = 0.999"
   ]
  },
  {
   "cell_type": "code",
   "execution_count": 4,
   "metadata": {},
   "outputs": [
    {
     "name": "stdout",
     "output_type": "stream",
     "text": [
      "Device\n",
      "cuda:0\n"
     ]
    }
   ],
   "source": [
    "cuda = True if torch.cuda.is_available() else False\n",
    "\n",
    "Tensor = torch.cuda.FloatTensor if cuda else torch.FloatTensor\n",
    "\n",
    "device = torch.device(\"cuda:0\" if cuda else \"cpu\")\n",
    "#device = 'cpu'\n",
    "print(\"Device\")\n",
    "print(device)"
   ]
  },
  {
   "cell_type": "code",
   "execution_count": 5,
   "metadata": {},
   "outputs": [],
   "source": [
    "D = 30\n",
    "N = 10000\n",
    "z_size = 8"
   ]
  },
  {
   "cell_type": "code",
   "execution_count": 6,
   "metadata": {},
   "outputs": [
    {
     "name": "stdout",
     "output_type": "stream",
     "text": [
      "tensor(14, device='cuda:0')\n",
      "tensor(18, device='cuda:0')\n",
      "tensor(14, device='cuda:0')\n",
      "tensor(17, device='cuda:0')\n",
      "tensor(16, device='cuda:0')\n"
     ]
    }
   ],
   "source": [
    "torch.manual_seed(0)\n",
    "np.random.seed(0)\n",
    "\n",
    "latent_data = np.random.normal(loc=0.0, scale=1.0, size=N*z_size).reshape(N, z_size)\n",
    "\n",
    "data_mapper = nn.Sequential(\n",
    "    nn.Linear(z_size, 2 * z_size, bias=False),\n",
    "    nn.Tanh(),\n",
    "    nn.Linear(2 * z_size, D, bias = True),\n",
    "    nn.ReLU()\n",
    ").to(device)\n",
    "\n",
    "data_mapper.requires_grad_(False)\n",
    "\n",
    "latent_data = Tensor(latent_data)\n",
    "latent_data.requires_grad_(False)\n",
    "\n",
    "actual_data = data_mapper(latent_data)\n",
    "\n",
    "\n",
    "for i in range(5):\n",
    "    print(torch.sum(actual_data[i,:] != 0))"
   ]
  },
  {
   "cell_type": "markdown",
   "metadata": {},
   "source": [
    "add noiise"
   ]
  },
  {
   "cell_type": "code",
   "execution_count": 7,
   "metadata": {},
   "outputs": [
    {
     "data": {
      "text/plain": [
       "tensor([[ 0.0013,  0.0135,  0.0054,  ..., -0.0047,  0.0033, -0.0097],\n",
       "        [ 0.0080, -0.0057,  0.0010,  ...,  0.0009, -0.0134,  0.0105],\n",
       "        [-0.0103, -0.0029,  0.0185,  ..., -0.0133, -0.0037,  0.0134],\n",
       "        ...,\n",
       "        [ 0.0073, -0.0149, -0.0108,  ..., -0.0047, -0.0137,  0.0070],\n",
       "        [ 0.0006, -0.0141, -0.0124,  ..., -0.0085,  0.0069, -0.0110],\n",
       "        [-0.0159,  0.0177, -0.0087,  ..., -0.0076, -0.0009,  0.0078]],\n",
       "       device='cuda:0')"
      ]
     },
     "execution_count": 7,
     "metadata": {},
     "output_type": "execute_result"
    }
   ],
   "source": [
    "noise_features = torch.empty(N * D).normal_(mean=0,std=0.01).reshape(N, D).to(device)\n",
    "noise_features.requires_grad_(False)"
   ]
  },
  {
   "cell_type": "code",
   "execution_count": 8,
   "metadata": {},
   "outputs": [],
   "source": [
    "actual_data = torch.cat([actual_data, noise_features], dim = 1)"
   ]
  },
  {
   "cell_type": "code",
   "execution_count": 9,
   "metadata": {},
   "outputs": [
    {
     "data": {
      "text/plain": [
       "torch.Size([10000, 60])"
      ]
     },
     "execution_count": 9,
     "metadata": {},
     "output_type": "execute_result"
    }
   ],
   "source": [
    "actual_data.shape"
   ]
  },
  {
   "cell_type": "code",
   "execution_count": 10,
   "metadata": {},
   "outputs": [],
   "source": [
    "actual_data = actual_data.cpu().numpy()\n",
    "scaler = MinMaxScaler()\n",
    "actual_data = scaler.fit_transform(actual_data)\n",
    "\n",
    "actual_data = Tensor(actual_data)\n",
    "\n",
    "slices = np.random.permutation(np.arange(actual_data.shape[0]))\n",
    "upto = int(.8 * len(actual_data))\n",
    "\n",
    "train_data = actual_data[slices[:upto]]\n",
    "test_data = actual_data[slices[upto:]]"
   ]
  },
  {
   "cell_type": "code",
   "execution_count": 11,
   "metadata": {},
   "outputs": [],
   "source": [
    "global_t = 4"
   ]
  },
  {
   "cell_type": "markdown",
   "metadata": {},
   "source": [
    "Example of what worked before\n",
    "Vanilla Gumbel"
   ]
  },
  {
   "cell_type": "code",
   "execution_count": 12,
   "metadata": {},
   "outputs": [],
   "source": [
    "vae_gumbel_truncated = VAE_Gumbel(2*D, 100, 20, k = 3*z_size, t = global_t)\n",
    "vae_gumbel_truncated.to(device)\n",
    "vae_gumbel_trunc_optimizer = torch.optim.Adam(vae_gumbel_truncated.parameters(), \n",
    "                                                lr=lr, \n",
    "                                                betas = (b1,b2))"
   ]
  },
  {
   "cell_type": "code",
   "execution_count": 13,
   "metadata": {
    "scrolled": true
   },
   "outputs": [
    {
     "name": "stdout",
     "output_type": "stream",
     "text": [
      "Train Epoch: 1 [0/8000 (0%)]\tLoss: 42.025238\n",
      "Train Epoch: 1 [1280/8000 (16%)]\tLoss: 41.364944\n",
      "Train Epoch: 1 [2560/8000 (32%)]\tLoss: 40.814362\n",
      "Train Epoch: 1 [3840/8000 (48%)]\tLoss: 40.379112\n",
      "Train Epoch: 1 [5120/8000 (64%)]\tLoss: 39.789692\n",
      "Train Epoch: 1 [6400/8000 (80%)]\tLoss: 39.276009\n",
      "Train Epoch: 1 [7680/8000 (96%)]\tLoss: 38.740120\n",
      "====> Epoch: 1 Average loss: 40.2651\n",
      "Train Epoch: 2 [0/8000 (0%)]\tLoss: 38.672573\n",
      "Train Epoch: 2 [1280/8000 (16%)]\tLoss: 37.857533\n",
      "Train Epoch: 2 [2560/8000 (32%)]\tLoss: 37.325977\n",
      "Train Epoch: 2 [3840/8000 (48%)]\tLoss: 36.101463\n",
      "Train Epoch: 2 [5120/8000 (64%)]\tLoss: 35.596703\n",
      "Train Epoch: 2 [6400/8000 (80%)]\tLoss: 34.989117\n",
      "Train Epoch: 2 [7680/8000 (96%)]\tLoss: 34.360310\n",
      "====> Epoch: 2 Average loss: 36.4149\n",
      "Train Epoch: 3 [0/8000 (0%)]\tLoss: 34.523701\n",
      "Train Epoch: 3 [1280/8000 (16%)]\tLoss: 34.206936\n",
      "Train Epoch: 3 [2560/8000 (32%)]\tLoss: 33.856945\n",
      "Train Epoch: 3 [3840/8000 (48%)]\tLoss: 33.793369\n",
      "Train Epoch: 3 [5120/8000 (64%)]\tLoss: 33.988956\n",
      "Train Epoch: 3 [6400/8000 (80%)]\tLoss: 33.565678\n",
      "Train Epoch: 3 [7680/8000 (96%)]\tLoss: 33.847588\n",
      "====> Epoch: 3 Average loss: 33.8501\n",
      "Train Epoch: 4 [0/8000 (0%)]\tLoss: 33.800686\n",
      "Train Epoch: 4 [1280/8000 (16%)]\tLoss: 33.304050\n",
      "Train Epoch: 4 [2560/8000 (32%)]\tLoss: 33.577312\n",
      "Train Epoch: 4 [3840/8000 (48%)]\tLoss: 33.158955\n",
      "Train Epoch: 4 [5120/8000 (64%)]\tLoss: 33.516918\n",
      "Train Epoch: 4 [6400/8000 (80%)]\tLoss: 33.234749\n",
      "Train Epoch: 4 [7680/8000 (96%)]\tLoss: 33.037212\n",
      "====> Epoch: 4 Average loss: 33.2810\n",
      "Train Epoch: 5 [0/8000 (0%)]\tLoss: 33.413994\n",
      "Train Epoch: 5 [1280/8000 (16%)]\tLoss: 32.934902\n",
      "Train Epoch: 5 [2560/8000 (32%)]\tLoss: 33.109852\n",
      "Train Epoch: 5 [3840/8000 (48%)]\tLoss: 33.061954\n",
      "Train Epoch: 5 [5120/8000 (64%)]\tLoss: 33.525173\n",
      "Train Epoch: 5 [6400/8000 (80%)]\tLoss: 32.786705\n",
      "Train Epoch: 5 [7680/8000 (96%)]\tLoss: 32.755135\n",
      "====> Epoch: 5 Average loss: 33.0638\n",
      "Train Epoch: 6 [0/8000 (0%)]\tLoss: 32.993786\n",
      "Train Epoch: 6 [1280/8000 (16%)]\tLoss: 32.909256\n",
      "Train Epoch: 6 [2560/8000 (32%)]\tLoss: 32.953922\n",
      "Train Epoch: 6 [3840/8000 (48%)]\tLoss: 33.217655\n",
      "Train Epoch: 6 [5120/8000 (64%)]\tLoss: 32.975967\n",
      "Train Epoch: 6 [6400/8000 (80%)]\tLoss: 32.537292\n",
      "Train Epoch: 6 [7680/8000 (96%)]\tLoss: 32.742493\n",
      "====> Epoch: 6 Average loss: 32.9366\n"
     ]
    }
   ],
   "source": [
    "gradients_before_burnin = torch.zeros(train_data.shape[1]).to(device)\n",
    "gradient_post_burn_in = torch.zeros(train_data.shape[1]).to(device)\n",
    "subset_indices_before_burnin = torch.zeros(train_data.shape[1]).to(device)\n",
    "subset_indices_post_burnin = torch.zeros(train_data.shape[1]).to(device)\n",
    "\n",
    "for epoch in range(1, n_epochs+1):\n",
    "    grads=train_truncated_with_gradients(train_data, vae_gumbel_truncated, \n",
    "                                                      vae_gumbel_trunc_optimizer, \n",
    "                                                      epoch, \n",
    "                                                      batch_size, \n",
    "                                                      Dim = 2*D)\n",
    "    \n",
    "    vae_gumbel_truncated.t = max(0.001, vae_gumbel_truncated.t * 0.99)\n",
    "    if epoch <=(n_epochs//5*4):\n",
    "        gradients_before_burnin += grads\n",
    "        with torch.no_grad():\n",
    "            subset_indices_before_burnin += vae_gumbel_truncated.subset_indices.sum(dim = 0)\n",
    "    if epoch > (n_epochs//5*4):\n",
    "        gradient_post_burn_in += grads\n",
    "        with torch.no_grad():\n",
    "            subset_indices_post_burnin += vae_gumbel_truncated.subset_indices.sum(dim = 0)"
   ]
  },
  {
   "cell_type": "code",
   "execution_count": 14,
   "metadata": {},
   "outputs": [
    {
     "name": "stdout",
     "output_type": "stream",
     "text": [
      "tensor(32347.5605, device='cuda:0')\n",
      "tensor(61637.8672, device='cuda:0')\n"
     ]
    },
    {
     "data": {
      "text/plain": [
       "<matplotlib.axes._subplots.AxesSubplot at 0x7f872832b690>"
      ]
     },
     "execution_count": 14,
     "metadata": {},
     "output_type": "execute_result"
    },
    {
     "data": {
      "image/png": "[encoded data removed]",
      "text/plain": [
       "<Figure size 432x288 with 2 Axes>"
      ]
     },
     "metadata": {
      "needs_background": "light"
     },
     "output_type": "display_data"
    }
   ],
   "source": [
    "print(gradients_before_burnin[:D].sum())\n",
    "print(gradients_before_burnin[D:].sum())\n",
    "sns.heatmap(gradients_before_burnin.clone().detach().cpu().numpy()[:, np.newaxis])\n"
   ]
  },
  {
   "cell_type": "code",
   "execution_count": 15,
   "metadata": {},
   "outputs": [
    {
     "name": "stdout",
     "output_type": "stream",
     "text": [
      "tensor(21062.8887, device='cuda:0')\n",
      "tensor(50317.8398, device='cuda:0')\n"
     ]
    },
    {
     "data": {
      "text/plain": [
       "<matplotlib.axes._subplots.AxesSubplot at 0x7f87281f4c10>"
      ]
     },
     "execution_count": 15,
     "metadata": {},
     "output_type": "execute_result"
    },
    {
     "data": {
      "image/png": "[encoded data removed]",
      "text/plain": [
       "<Figure size 432x288 with 2 Axes>"
      ]
     },
     "metadata": {
      "needs_background": "light"
     },
     "output_type": "display_data"
    }
   ],
   "source": [
    "print(gradient_post_burn_in[:D].sum())\n",
    "print(gradient_post_burn_in[D:].sum())\n",
    "sns.heatmap(gradient_post_burn_in.clone().detach().cpu().numpy()[:, np.newaxis])"
   ]
  },
  {
   "cell_type": "code",
   "execution_count": 16,
   "metadata": {},
   "outputs": [
    {
     "name": "stdout",
     "output_type": "stream",
     "text": [
      "tensor(2645.6238, device='cuda:0')\n",
      "tensor(3498.3762, device='cuda:0')\n"
     ]
    },
    {
     "data": {
      "text/plain": [
       "<matplotlib.axes._subplots.AxesSubplot at 0x7f87280dd9d0>"
      ]
     },
     "execution_count": 16,
     "metadata": {},
     "output_type": "execute_result"
    },
    {
     "data": {
      "image/png": "[encoded data removed]",
      "text/plain": [
       "<Figure size 432x288 with 2 Axes>"
      ]
     },
     "metadata": {
      "needs_background": "light"
     },
     "output_type": "display_data"
    }
   ],
   "source": [
    "print(subset_indices_before_burnin[:D].sum())\n",
    "print(subset_indices_before_burnin[D:].sum())\n",
    "sns.heatmap(subset_indices_before_burnin.clone().detach().cpu().numpy()[:, np.newaxis])"
   ]
  },
  {
   "cell_type": "code",
   "execution_count": 17,
   "metadata": {},
   "outputs": [
    {
     "name": "stdout",
     "output_type": "stream",
     "text": [
      "tensor(1339.3340, device='cuda:0')\n",
      "tensor(1732.6660, device='cuda:0')\n"
     ]
    },
    {
     "data": {
      "text/plain": [
       "<matplotlib.axes._subplots.AxesSubplot at 0x7f8728032d50>"
      ]
     },
     "execution_count": 17,
     "metadata": {},
     "output_type": "execute_result"
    },
    {
     "data": {
      "image/png": "[encoded data removed]",
      "text/plain": [
       "<Figure size 432x288 with 2 Axes>"
      ]
     },
     "metadata": {
      "needs_background": "light"
     },
     "output_type": "display_data"
    }
   ],
   "source": [
    "print(subset_indices_post_burnin[:D].sum())\n",
    "print(subset_indices_post_burnin[(D):].sum())\n",
    "sns.heatmap(subset_indices_post_burnin.clone().detach().cpu().numpy()[:, np.newaxis])"
   ]
  },
  {
   "cell_type": "code",
   "execution_count": 18,
   "metadata": {},
   "outputs": [
    {
     "data": {
      "text/plain": [
       "tensor(-393.3320, device='cuda:0')"
      ]
     },
     "execution_count": 18,
     "metadata": {},
     "output_type": "execute_result"
    }
   ],
   "source": [
    "subset_indices_post_burnin[:(D)].sum() - subset_indices_post_burnin[(D):].sum()"
   ]
  },
  {
   "cell_type": "markdown",
   "metadata": {},
   "source": [
    "**VAE_Gumbel_NInsta test here**"
   ]
  },
  {
   "cell_type": "code",
   "execution_count": 19,
   "metadata": {},
   "outputs": [],
   "source": [
    "vae_gumbel_truncated = VAE_Gumbel_NInsta(2*D, 100, 20, k = 3*z_size, t = global_t)\n",
    "vae_gumbel_truncated.to(device)\n",
    "vae_gumbel_trunc_optimizer = torch.optim.Adam(vae_gumbel_truncated.parameters(), \n",
    "                                                lr=lr, \n",
    "                                                betas = (b1,b2))\n",
    "\n"
   ]
  },
  {
   "cell_type": "code",
   "execution_count": 20,
   "metadata": {},
   "outputs": [
    {
     "name": "stdout",
     "output_type": "stream",
     "text": [
      "Train Epoch: 1 [0/8000 (0%)]\tLoss: 42.400688\n",
      "Train Epoch: 1 [1280/8000 (16%)]\tLoss: 41.591465\n",
      "Train Epoch: 1 [2560/8000 (32%)]\tLoss: 41.091648\n",
      "Train Epoch: 1 [3840/8000 (48%)]\tLoss: 40.729820\n",
      "Train Epoch: 1 [5120/8000 (64%)]\tLoss: 40.118912\n",
      "Train Epoch: 1 [6400/8000 (80%)]\tLoss: 39.473454\n",
      "Train Epoch: 1 [7680/8000 (96%)]\tLoss: 39.077679\n",
      "====> Epoch: 1 Average loss: 40.5664\n",
      "Train Epoch: 2 [0/8000 (0%)]\tLoss: 38.925514\n",
      "Train Epoch: 2 [1280/8000 (16%)]\tLoss: 38.373909\n",
      "Train Epoch: 2 [2560/8000 (32%)]\tLoss: 37.595001\n",
      "Train Epoch: 2 [3840/8000 (48%)]\tLoss: 37.242809\n",
      "Train Epoch: 2 [5120/8000 (64%)]\tLoss: 36.180275\n",
      "Train Epoch: 2 [6400/8000 (80%)]\tLoss: 35.880650\n",
      "Train Epoch: 2 [7680/8000 (96%)]\tLoss: 34.788918\n",
      "====> Epoch: 2 Average loss: 36.8954\n",
      "Train Epoch: 3 [0/8000 (0%)]\tLoss: 34.725903\n",
      "Train Epoch: 3 [1280/8000 (16%)]\tLoss: 34.448414\n",
      "Train Epoch: 3 [2560/8000 (32%)]\tLoss: 34.223343\n",
      "Train Epoch: 3 [3840/8000 (48%)]\tLoss: 34.048428\n",
      "Train Epoch: 3 [5120/8000 (64%)]\tLoss: 33.678936\n",
      "Train Epoch: 3 [6400/8000 (80%)]\tLoss: 33.720711\n",
      "Train Epoch: 3 [7680/8000 (96%)]\tLoss: 33.627869\n",
      "====> Epoch: 3 Average loss: 33.8860\n",
      "Train Epoch: 4 [0/8000 (0%)]\tLoss: 33.490608\n",
      "Train Epoch: 4 [1280/8000 (16%)]\tLoss: 33.027687\n",
      "Train Epoch: 4 [2560/8000 (32%)]\tLoss: 33.326328\n",
      "Train Epoch: 4 [3840/8000 (48%)]\tLoss: 33.228619\n",
      "Train Epoch: 4 [5120/8000 (64%)]\tLoss: 33.445000\n",
      "Train Epoch: 4 [6400/8000 (80%)]\tLoss: 33.044346\n",
      "Train Epoch: 4 [7680/8000 (96%)]\tLoss: 32.591602\n",
      "====> Epoch: 4 Average loss: 33.2972\n",
      "Train Epoch: 5 [0/8000 (0%)]\tLoss: 33.139175\n",
      "Train Epoch: 5 [1280/8000 (16%)]\tLoss: 32.584927\n",
      "Train Epoch: 5 [2560/8000 (32%)]\tLoss: 33.622723\n",
      "Train Epoch: 5 [3840/8000 (48%)]\tLoss: 33.346684\n",
      "Train Epoch: 5 [5120/8000 (64%)]\tLoss: 32.839943\n",
      "Train Epoch: 5 [6400/8000 (80%)]\tLoss: 33.229546\n",
      "Train Epoch: 5 [7680/8000 (96%)]\tLoss: 33.172901\n",
      "====> Epoch: 5 Average loss: 33.1049\n",
      "Train Epoch: 6 [0/8000 (0%)]\tLoss: 32.551769\n",
      "Train Epoch: 6 [1280/8000 (16%)]\tLoss: 33.344917\n",
      "Train Epoch: 6 [2560/8000 (32%)]\tLoss: 33.161655\n",
      "Train Epoch: 6 [3840/8000 (48%)]\tLoss: 33.146370\n",
      "Train Epoch: 6 [5120/8000 (64%)]\tLoss: 32.695110\n",
      "Train Epoch: 6 [6400/8000 (80%)]\tLoss: 32.576992\n",
      "Train Epoch: 6 [7680/8000 (96%)]\tLoss: 32.838985\n",
      "====> Epoch: 6 Average loss: 32.9834\n"
     ]
    }
   ],
   "source": [
    "gradients_before_burnin = torch.zeros(train_data.shape[1]).to(device)\n",
    "gradient_post_burn_in = torch.zeros(train_data.shape[1]).to(device)\n",
    "subset_indices_before_burnin = torch.zeros(train_data.shape[1]).to(device)\n",
    "subset_indices_post_burnin = torch.zeros(train_data.shape[1]).to(device)\n",
    "\n",
    "for epoch in range(1, n_epochs+1):\n",
    "    grads=train_truncated_with_gradients(train_data, vae_gumbel_truncated, \n",
    "                                                      vae_gumbel_trunc_optimizer, \n",
    "                                                      epoch, \n",
    "                                                      batch_size, \n",
    "                                                      Dim = 2*D)\n",
    "    \n",
    "    vae_gumbel_truncated.t = max(0.001, vae_gumbel_truncated.t * 0.99)\n",
    "    if epoch <=(n_epochs//5*4):\n",
    "        gradients_before_burnin += grads\n",
    "        with torch.no_grad():\n",
    "            subset_indices_before_burnin += vae_gumbel_truncated.subset_indices.sum(dim = 0)\n",
    "    if epoch > (n_epochs//5*4):\n",
    "        gradient_post_burn_in += grads\n",
    "        with torch.no_grad():\n",
    "            subset_indices_post_burnin += vae_gumbel_truncated.subset_indices.sum(dim = 0)"
   ]
  },
  {
   "cell_type": "code",
   "execution_count": 21,
   "metadata": {},
   "outputs": [
    {
     "name": "stdout",
     "output_type": "stream",
     "text": [
      "tensor(22931.5059, device='cuda:0')\n",
      "tensor(53759.5430, device='cuda:0')\n"
     ]
    },
    {
     "data": {
      "text/plain": [
       "<matplotlib.axes._subplots.AxesSubplot at 0x7f8722f0f390>"
      ]
     },
     "execution_count": 21,
     "metadata": {},
     "output_type": "execute_result"
    },
    {
     "data": {
      "image/png": "[encoded data removed]",
      "text/plain": [
       "<Figure size 432x288 with 2 Axes>"
      ]
     },
     "metadata": {
      "needs_background": "light"
     },
     "output_type": "display_data"
    }
   ],
   "source": [
    "print(gradients_before_burnin[:D].sum())\n",
    "print(gradients_before_burnin[D:].sum())\n",
    "sns.heatmap(gradients_before_burnin.clone().detach().cpu().numpy()[:, np.newaxis])\n"
   ]
  },
  {
   "cell_type": "code",
   "execution_count": 22,
   "metadata": {},
   "outputs": [
    {
     "name": "stdout",
     "output_type": "stream",
     "text": [
      "tensor(12770.2305, device='cuda:0')\n",
      "tensor(45516.1445, device='cuda:0')\n"
     ]
    },
    {
     "data": {
      "text/plain": [
       "<matplotlib.axes._subplots.AxesSubplot at 0x7f8722f75150>"
      ]
     },
     "execution_count": 22,
     "metadata": {},
     "output_type": "execute_result"
    },
    {
     "data": {
      "image/png": "[encoded data removed]",
      "text/plain": [
       "<Figure size 432x288 with 2 Axes>"
      ]
     },
     "metadata": {
      "needs_background": "light"
     },
     "output_type": "display_data"
    }
   ],
   "source": [
    "print(gradient_post_burn_in[:D].sum())\n",
    "print(gradient_post_burn_in[D:].sum())\n",
    "sns.heatmap(gradient_post_burn_in.clone().detach().cpu().numpy()[:, np.newaxis])"
   ]
  },
  {
   "cell_type": "code",
   "execution_count": 23,
   "metadata": {},
   "outputs": [
    {
     "name": "stdout",
     "output_type": "stream",
     "text": [
      "tensor(39.4364, device='cuda:0')\n",
      "tensor(56.5636, device='cuda:0')\n"
     ]
    },
    {
     "data": {
      "text/plain": [
       "<matplotlib.axes._subplots.AxesSubplot at 0x7f87a0508bd0>"
      ]
     },
     "execution_count": 23,
     "metadata": {},
     "output_type": "execute_result"
    },
    {
     "data": {
      "image/png": "[encoded data removed]",
      "text/plain": [
       "<Figure size 432x288 with 2 Axes>"
      ]
     },
     "metadata": {
      "needs_background": "light"
     },
     "output_type": "display_data"
    }
   ],
   "source": [
    "print(subset_indices_before_burnin[:D].sum())\n",
    "print(subset_indices_before_burnin[D:].sum())\n",
    "sns.heatmap(subset_indices_before_burnin.clone().detach().cpu().numpy()[:, np.newaxis])"
   ]
  },
  {
   "cell_type": "code",
   "execution_count": 24,
   "metadata": {},
   "outputs": [
    {
     "name": "stdout",
     "output_type": "stream",
     "text": [
      "tensor(18.6865, device='cuda:0')\n",
      "tensor(29.3135, device='cuda:0')\n"
     ]
    },
    {
     "data": {
      "text/plain": [
       "<matplotlib.axes._subplots.AxesSubplot at 0x7f8722d83c90>"
      ]
     },
     "execution_count": 24,
     "metadata": {},
     "output_type": "execute_result"
    },
    {
     "data": {
      "image/png": "[encoded data removed]",
      "text/plain": [
       "<Figure size 432x288 with 2 Axes>"
      ]
     },
     "metadata": {
      "needs_background": "light"
     },
     "output_type": "display_data"
    }
   ],
   "source": [
    "print(subset_indices_post_burnin[:D].sum())\n",
    "print(subset_indices_post_burnin[(D):].sum())\n",
    "sns.heatmap(subset_indices_post_burnin.clone().detach().cpu().numpy()[:, np.newaxis])"
   ]
  },
  {
   "cell_type": "code",
   "execution_count": 25,
   "metadata": {},
   "outputs": [
    {
     "data": {
      "text/plain": [
       "tensor(-10.6270, device='cuda:0')"
      ]
     },
     "execution_count": 25,
     "metadata": {},
     "output_type": "execute_result"
    }
   ],
   "source": [
    "subset_indices_post_burnin[:(D)].sum() - subset_indices_post_burnin[(D):].sum()"
   ]
  },
  {
   "cell_type": "markdown",
   "metadata": {},
   "source": [
    "The new model\n"
   ]
  },
  {
   "cell_type": "code",
   "execution_count": 26,
   "metadata": {},
   "outputs": [],
   "source": [
    "logits_changed_loss_lambda = 0.001\n",
    "vae_gumbel_truncated = VAE_Gumbel_NInstaState(2*D, 100, 20, k = 3*z_size, t = global_t)\n",
    "vae_gumbel_truncated.to(device)\n",
    "vae_gumbel_trunc_optimizer = torch.optim.Adam(vae_gumbel_truncated.parameters(), \n",
    "                                                lr=lr, \n",
    "                                                betas = (b1,b2))\n",
    "\n"
   ]
  },
  {
   "cell_type": "code",
   "execution_count": 27,
   "metadata": {},
   "outputs": [
    {
     "name": "stdout",
     "output_type": "stream",
     "text": [
      "Train Epoch: 1 [0/8000 (0%)]\tLoss: 41.918343\n",
      "Train Epoch: 1 [1280/8000 (16%)]\tLoss: 41.333893\n",
      "Loss tensor(2625.6252, device='cuda:0', grad_fn=<AddBackward0>)Logits Loss tensor(5056.7056, device='cuda:0', grad_fn=<MseLossBackward>)\n",
      "Train Epoch: 1 [2560/8000 (32%)]\tLoss: 40.868099\n",
      "Train Epoch: 1 [3840/8000 (48%)]\tLoss: 40.314308\n",
      "Train Epoch: 1 [5120/8000 (64%)]\tLoss: 39.795437\n",
      "Train Epoch: 1 [6400/8000 (80%)]\tLoss: 39.168621\n",
      "Train Epoch: 1 [7680/8000 (96%)]\tLoss: 38.642033\n",
      "====> Epoch: 1 Average loss: 40.1919\n",
      "Train Epoch: 2 [0/8000 (0%)]\tLoss: 38.427498\n",
      "Train Epoch: 2 [1280/8000 (16%)]\tLoss: 37.684792\n",
      "Train Epoch: 2 [2560/8000 (32%)]\tLoss: 37.135033\n",
      "Train Epoch: 2 [3840/8000 (48%)]\tLoss: 36.465237\n",
      "Train Epoch: 2 [5120/8000 (64%)]\tLoss: 35.717560\n",
      "Train Epoch: 2 [6400/8000 (80%)]\tLoss: 35.382233\n",
      "Train Epoch: 2 [7680/8000 (96%)]\tLoss: 34.572712\n",
      "====> Epoch: 2 Average loss: 36.3695\n",
      "Train Epoch: 3 [0/8000 (0%)]\tLoss: 34.347126\n",
      "Train Epoch: 3 [1280/8000 (16%)]\tLoss: 34.046322\n",
      "Loss tensor(2172.3708, device='cuda:0', grad_fn=<AddBackward0>)Logits Loss tensor(3119.7715, device='cuda:0', grad_fn=<MseLossBackward>)\n",
      "Train Epoch: 3 [2560/8000 (32%)]\tLoss: 34.077904\n",
      "Train Epoch: 3 [3840/8000 (48%)]\tLoss: 34.000900\n",
      "Train Epoch: 3 [5120/8000 (64%)]\tLoss: 33.874352\n",
      "Loss tensor(2148.8882, device='cuda:0', grad_fn=<AddBackward0>)Logits Loss tensor(2696.4946, device='cuda:0', grad_fn=<MseLossBackward>)\n",
      "Train Epoch: 3 [6400/8000 (80%)]\tLoss: 33.608677\n",
      "Train Epoch: 3 [7680/8000 (96%)]\tLoss: 33.214104\n",
      "====> Epoch: 3 Average loss: 33.8755\n",
      "Train Epoch: 4 [0/8000 (0%)]\tLoss: 33.405605\n",
      "Train Epoch: 4 [1280/8000 (16%)]\tLoss: 33.369999\n",
      "Train Epoch: 4 [2560/8000 (32%)]\tLoss: 33.132824\n",
      "Train Epoch: 4 [3840/8000 (48%)]\tLoss: 33.563427\n",
      "Train Epoch: 4 [5120/8000 (64%)]\tLoss: 33.217197\n",
      "Train Epoch: 4 [6400/8000 (80%)]\tLoss: 33.495712\n",
      "Train Epoch: 4 [7680/8000 (96%)]\tLoss: 33.232742\n",
      "====> Epoch: 4 Average loss: 33.3416\n",
      "BURN IN DEBUG\n",
      "Going post burn in\n",
      "Train Epoch: 5 [0/8000 (0%)]\tLoss: 33.240822\n",
      "Loss tensor(2095.2368, device='cuda:0', grad_fn=<AddBackward0>)Logits Loss 0\n",
      "Train Epoch: 5 [1280/8000 (16%)]\tLoss: 33.008175\n",
      "Train Epoch: 5 [2560/8000 (32%)]\tLoss: 32.998856\n",
      "Train Epoch: 5 [3840/8000 (48%)]\tLoss: 33.014446\n",
      "Train Epoch: 5 [5120/8000 (64%)]\tLoss: 33.133709\n",
      "Train Epoch: 5 [6400/8000 (80%)]\tLoss: 33.334747\n",
      "Train Epoch: 5 [7680/8000 (96%)]\tLoss: 33.230343\n",
      "====> Epoch: 5 Average loss: 33.1348\n",
      "Train Epoch: 6 [0/8000 (0%)]\tLoss: 32.860332\n",
      "Loss tensor(2120.0344, device='cuda:0', grad_fn=<AddBackward0>)Logits Loss 0\n",
      "Train Epoch: 6 [1280/8000 (16%)]\tLoss: 33.390804\n",
      "Loss tensor(2123.9546, device='cuda:0', grad_fn=<AddBackward0>)Logits Loss 0\n",
      "Loss tensor(2129.0024, device='cuda:0', grad_fn=<AddBackward0>)Logits Loss 0\n",
      "Train Epoch: 6 [2560/8000 (32%)]\tLoss: 33.041870\n",
      "Loss tensor(2075.7439, device='cuda:0', grad_fn=<AddBackward0>)Logits Loss 0\n",
      "Loss tensor(2117.4966, device='cuda:0', grad_fn=<AddBackward0>)Logits Loss 0\n",
      "Train Epoch: 6 [3840/8000 (48%)]\tLoss: 32.937096\n",
      "Train Epoch: 6 [5120/8000 (64%)]\tLoss: 33.039295\n",
      "Train Epoch: 6 [6400/8000 (80%)]\tLoss: 32.947426\n",
      "Train Epoch: 6 [7680/8000 (96%)]\tLoss: 33.048950\n",
      "====> Epoch: 6 Average loss: 32.9994\n"
     ]
    }
   ],
   "source": [
    "gradients_before_burnin = torch.zeros(train_data.shape[1]).to(device)\n",
    "gradient_post_burn_in = torch.zeros(train_data.shape[1]).to(device)\n",
    "subset_indices_before_burnin = torch.zeros(train_data.shape[1]).to(device)\n",
    "subset_indices_post_burnin = torch.zeros(train_data.shape[1]).to(device)\n",
    "\n",
    "for epoch in range(1, n_epochs+1):\n",
    "    grads=train_truncated_with_gradients_gumbel_state(train_data, vae_gumbel_truncated, \n",
    "                                                      vae_gumbel_trunc_optimizer, \n",
    "                                                      epoch, \n",
    "                                                      batch_size, \n",
    "                                                      logits_changed_loss_lambda = 0.001,\n",
    "                                                      Dim = 2*D, DEBUG = True)\n",
    "    \n",
    "    vae_gumbel_truncated.t = max(0.001, vae_gumbel_truncated.t * 0.99)\n",
    "    if epoch <=(n_epochs//5*4):\n",
    "        gradients_before_burnin += grads\n",
    "        with torch.no_grad():\n",
    "            subset_indices_before_burnin += sample_subset(vae_gumbel_truncated.logit_enc, \n",
    "                                                          vae_gumbel_truncated.k, \n",
    "                                                          vae_gumbel_truncated.t).view(-1)\n",
    "    if epoch == (n_epochs//5*4):\n",
    "        print(\"BURN IN DEBUG\")\n",
    "        vae_gumbel_truncated.set_burned_in()\n",
    "        #vae_gumbel_truncated.t /= 10\n",
    "        print(\"Going post burn in\")\n",
    "    if epoch > (n_epochs//5*4):\n",
    "        gradient_post_burn_in += grads\n",
    "        with torch.no_grad():\n",
    "            subset_indices_post_burnin += sample_subset(vae_gumbel_truncated.logit_enc, \n",
    "                                                        vae_gumbel_truncated.k, \n",
    "                                                        vae_gumbel_truncated.t).view(-1)"
   ]
  },
  {
   "cell_type": "code",
   "execution_count": 28,
   "metadata": {},
   "outputs": [
    {
     "name": "stdout",
     "output_type": "stream",
     "text": [
      "tensor(1161.0712, device='cuda:0')\n",
      "tensor(1565.4916, device='cuda:0')\n"
     ]
    },
    {
     "data": {
      "text/plain": [
       "<matplotlib.axes._subplots.AxesSubplot at 0x7f8722be2450>"
      ]
     },
     "execution_count": 28,
     "metadata": {},
     "output_type": "execute_result"
    },
    {
     "data": {
      "image/png": "[encoded data removed]",
      "text/plain": [
       "<Figure size 432x288 with 2 Axes>"
      ]
     },
     "metadata": {
      "needs_background": "light"
     },
     "output_type": "display_data"
    }
   ],
   "source": [
    "print(gradients_before_burnin[:(D)].mean())\n",
    "print(gradients_before_burnin[(D):].mean())\n",
    "sns.heatmap(gradients_before_burnin.clone().detach().cpu().numpy()[:, np.newaxis])\n"
   ]
  },
  {
   "cell_type": "code",
   "execution_count": 29,
   "metadata": {},
   "outputs": [
    {
     "name": "stdout",
     "output_type": "stream",
     "text": [
      "tensor(741.9973, device='cuda:0')\n",
      "tensor(1195.7576, device='cuda:0')\n"
     ]
    },
    {
     "data": {
      "text/plain": [
       "<matplotlib.axes._subplots.AxesSubplot at 0x7f8722b0ff50>"
      ]
     },
     "execution_count": 29,
     "metadata": {},
     "output_type": "execute_result"
    },
    {
     "data": {
      "image/png": "[encoded data removed]",
      "text/plain": [
       "<Figure size 432x288 with 2 Axes>"
      ]
     },
     "metadata": {
      "needs_background": "light"
     },
     "output_type": "display_data"
    }
   ],
   "source": [
    "print(gradient_post_burn_in[:D].mean())\n",
    "print(gradient_post_burn_in[D:].mean())\n",
    "sns.heatmap(gradient_post_burn_in.clone().detach().cpu().numpy()[:, np.newaxis])"
   ]
  },
  {
   "cell_type": "code",
   "execution_count": 30,
   "metadata": {},
   "outputs": [
    {
     "name": "stdout",
     "output_type": "stream",
     "text": [
      "tensor(47.5587, device='cuda:0')\n",
      "tensor(48.4413, device='cuda:0')\n"
     ]
    },
    {
     "data": {
      "text/plain": [
       "<matplotlib.axes._subplots.AxesSubplot at 0x7f8722a40ad0>"
      ]
     },
     "execution_count": 30,
     "metadata": {},
     "output_type": "execute_result"
    },
    {
     "data": {
      "image/png": "[encoded data removed]",
      "text/plain": [
       "<Figure size 432x288 with 2 Axes>"
      ]
     },
     "metadata": {
      "needs_background": "light"
     },
     "output_type": "display_data"
    }
   ],
   "source": [
    "print(subset_indices_before_burnin[:D].sum())\n",
    "print(subset_indices_before_burnin[D:].sum())\n",
    "sns.heatmap(subset_indices_before_burnin.clone().detach().cpu().numpy()[:, np.newaxis])"
   ]
  },
  {
   "cell_type": "code",
   "execution_count": 31,
   "metadata": {},
   "outputs": [
    {
     "name": "stdout",
     "output_type": "stream",
     "text": [
      "tensor(22.5856, device='cuda:0')\n",
      "tensor(25.4144, device='cuda:0')\n"
     ]
    },
    {
     "data": {
      "text/plain": [
       "<matplotlib.axes._subplots.AxesSubplot at 0x7f87229b7050>"
      ]
     },
     "execution_count": 31,
     "metadata": {},
     "output_type": "execute_result"
    },
    {
     "data": {
      "image/png": "[encoded data removed]",
      "text/plain": [
       "<Figure size 432x288 with 2 Axes>"
      ]
     },
     "metadata": {
      "needs_background": "light"
     },
     "output_type": "display_data"
    }
   ],
   "source": [
    "print(subset_indices_post_burnin[:D].sum())\n",
    "print(subset_indices_post_burnin[D:].sum())\n",
    "sns.heatmap(subset_indices_post_burnin.clone().detach().cpu().numpy()[:, np.newaxis])"
   ]
  },
  {
   "cell_type": "code",
   "execution_count": 32,
   "metadata": {},
   "outputs": [
    {
     "data": {
      "text/plain": [
       "tensor([0.8297, 0.4835, 0.6416, 0.6521, 0.6077, 0.6574, 1.0219, 1.1429, 0.4197,\n",
       "        0.7035, 1.3126, 0.4040, 0.7498, 1.3846, 1.0815, 0.5807, 0.8365, 0.9529,\n",
       "        0.4350, 1.3570, 0.8961, 0.2727, 0.3266, 0.3558, 0.7615, 1.0251, 0.9148,\n",
       "        0.6822, 0.7803, 0.3162], device='cuda:0')"
      ]
     },
     "execution_count": 32,
     "metadata": {},
     "output_type": "execute_result"
    }
   ],
   "source": [
    "subset_indices_post_burnin[:(D)]"
   ]
  },
  {
   "cell_type": "code",
   "execution_count": 33,
   "metadata": {},
   "outputs": [
    {
     "data": {
      "text/plain": [
       "tensor([0.3490, 1.3344, 1.4346, 0.6326, 0.4035, 0.2753, 0.7223, 0.8283, 0.6898,\n",
       "        0.4426, 1.1653, 0.7760, 1.4671, 0.7538, 1.2450, 1.6546, 0.2626, 1.1255,\n",
       "        0.4741, 0.2953, 0.8533, 0.7788, 1.9352, 0.9415, 1.1077, 0.6160, 0.5810,\n",
       "        0.6933, 0.9718, 0.6043], device='cuda:0')"
      ]
     },
     "execution_count": 33,
     "metadata": {},
     "output_type": "execute_result"
    }
   ],
   "source": [
    "subset_indices_post_burnin[(D):]"
   ]
  },
  {
   "cell_type": "code",
   "execution_count": 34,
   "metadata": {},
   "outputs": [
    {
     "data": {
      "text/plain": [
       "tensor(-2.8288, device='cuda:0')"
      ]
     },
     "execution_count": 34,
     "metadata": {},
     "output_type": "execute_result"
    }
   ],
   "source": [
    "subset_indices_post_burnin[:(D)].sum() - subset_indices_post_burnin[(D):].sum()"
   ]
  },
  {
   "cell_type": "code",
   "execution_count": 35,
   "metadata": {},
   "outputs": [],
   "source": [
    "top_ind = torch.argsort(sample_subset(vae_gumbel_truncated.logit_enc, \n",
    "                                                        vae_gumbel_truncated.k, \n",
    "                                                        vae_gumbel_truncated.t).view(-1), \n",
    "                        descending = True)[:vae_gumbel_truncated.k]"
   ]
  },
  {
   "cell_type": "code",
   "execution_count": 36,
   "metadata": {},
   "outputs": [
    {
     "data": {
      "text/plain": [
       "tensor(11, device='cuda:0')"
      ]
     },
     "execution_count": 36,
     "metadata": {},
     "output_type": "execute_result"
    }
   ],
   "source": [
    "sum(top_ind < 30)"
   ]
  },
  {
   "cell_type": "code",
   "execution_count": 37,
   "metadata": {},
   "outputs": [
    {
     "data": {
      "text/plain": [
       "tensor(13, device='cuda:0')"
      ]
     },
     "execution_count": 37,
     "metadata": {},
     "output_type": "execute_result"
    }
   ],
   "source": [
    "sum(top_ind >= 30)"
   ]
  },
  {
   "cell_type": "code",
   "execution_count": null,
   "metadata": {},
   "outputs": [],
   "source": []
  }
 ],
 "metadata": {
  "kernelspec": {
   "display_name": "Python [conda env:nyu] *",
   "language": "python",
   "name": "conda-env-nyu-py"
  },
  "language_info": {
   "codemirror_mode": {
    "name": "ipython",
    "version": 3
   },
   "file_extension": ".py",
   "mimetype": "text/x-python",
   "name": "python",
   "nbconvert_exporter": "python",
   "pygments_lexer": "ipython3",
   "version": "3.7.6"
  }
 },
 "nbformat": 4,
 "nbformat_minor": 4
}
