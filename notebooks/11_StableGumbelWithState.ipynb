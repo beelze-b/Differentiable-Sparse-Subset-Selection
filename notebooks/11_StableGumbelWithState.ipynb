{
 "cells": [
  {
   "cell_type": "markdown",
   "metadata": {},
   "source": [
    "So we know from Notebook 10 that trying to make it learn one set of logits per batch is good and gets features right.\n",
    "\n",
    "How can we make the logits consistent over batches?"
   ]
  },
  {
   "cell_type": "markdown",
   "metadata": {},
   "source": [
    "Will collect the gradients and gumbel selected values after 5 epochs in each mode. The two modes will be the behavior before burn-in and the behavior after mode-in."
   ]
  },
  {
   "cell_type": "markdown",
   "metadata": {},
   "source": [
    "Will follow Notebook 10 with slight modifications (described right before). Remember in Notebook 10, we explored behaviors when all the features were real vs when half the features were noise."
   ]
  },
  {
   "cell_type": "code",
   "execution_count": 1,
   "metadata": {},
   "outputs": [],
   "source": [
    "import torch\n",
    "\n",
    "\n",
    "from torch import nn\n",
    "from torch.autograd import Variable\n",
    "from torch.nn import functional as F\n",
    "\n",
    "import numpy as np\n",
    "\n",
    "import matplotlib.pyplot as plt\n",
    "#from sklearn.manifold import TSNE\n",
    "\n",
    "#import math\n",
    "\n",
    "#import gc\n",
    "\n",
    "from utils import *\n",
    "\n",
    "from sklearn.preprocessing import MinMaxScaler\n",
    "\n",
    "from scipy.stats import pearsonr\n",
    "\n",
    "import seaborn as sns"
   ]
  },
  {
   "cell_type": "code",
   "execution_count": 2,
   "metadata": {},
   "outputs": [],
   "source": [
    "torch.manual_seed(0)\n",
    "np.random.seed(0)"
   ]
  },
  {
   "cell_type": "code",
   "execution_count": 3,
   "metadata": {},
   "outputs": [],
   "source": [
    "# really good results for vanilla VAE on synthetic data with EPOCHS set to 50, \n",
    "# but when running locally set to 10 for reasonable run times\n",
    "n_epochs = 50\n",
    "batch_size = 64\n",
    "lr = 0.0001\n",
    "b1 = 0.9\n",
    "b2 = 0.999"
   ]
  },
  {
   "cell_type": "code",
   "execution_count": 4,
   "metadata": {},
   "outputs": [
    {
     "name": "stdout",
     "output_type": "stream",
     "text": [
      "Device\n",
      "cuda:0\n"
     ]
    }
   ],
   "source": [
    "cuda = True if torch.cuda.is_available() else False\n",
    "\n",
    "Tensor = torch.cuda.FloatTensor if cuda else torch.FloatTensor\n",
    "\n",
    "device = torch.device(\"cuda:0\" if cuda else \"cpu\")\n",
    "#device = 'cpu'\n",
    "print(\"Device\")\n",
    "print(device)"
   ]
  },
  {
   "cell_type": "code",
   "execution_count": 5,
   "metadata": {},
   "outputs": [],
   "source": [
    "D = 30\n",
    "N = 10000\n",
    "z_size = 8"
   ]
  },
  {
   "cell_type": "code",
   "execution_count": 6,
   "metadata": {},
   "outputs": [
    {
     "name": "stdout",
     "output_type": "stream",
     "text": [
      "tensor(14, device='cuda:0')\n",
      "tensor(18, device='cuda:0')\n",
      "tensor(14, device='cuda:0')\n",
      "tensor(17, device='cuda:0')\n",
      "tensor(16, device='cuda:0')\n"
     ]
    }
   ],
   "source": [
    "torch.manual_seed(0)\n",
    "np.random.seed(0)\n",
    "\n",
    "latent_data = np.random.normal(loc=0.0, scale=1.0, size=N*z_size).reshape(N, z_size)\n",
    "\n",
    "data_mapper = nn.Sequential(\n",
    "    nn.Linear(z_size, 2 * z_size, bias=False),\n",
    "    nn.Tanh(),\n",
    "    nn.Linear(2 * z_size, D, bias = True),\n",
    "    nn.ReLU()\n",
    ").to(device)\n",
    "\n",
    "data_mapper.requires_grad_(False)\n",
    "\n",
    "latent_data = Tensor(latent_data)\n",
    "latent_data.requires_grad_(False)\n",
    "\n",
    "actual_data = data_mapper(latent_data)\n",
    "\n",
    "\n",
    "for i in range(5):\n",
    "    print(torch.sum(actual_data[i,:] != 0))"
   ]
  },
  {
   "cell_type": "markdown",
   "metadata": {},
   "source": [
    "add noiise"
   ]
  },
  {
   "cell_type": "code",
   "execution_count": 7,
   "metadata": {},
   "outputs": [
    {
     "data": {
      "text/plain": [
       "tensor([[ 0.0013,  0.0135,  0.0054,  ..., -0.0047,  0.0033, -0.0097],\n",
       "        [ 0.0080, -0.0057,  0.0010,  ...,  0.0009, -0.0134,  0.0105],\n",
       "        [-0.0103, -0.0029,  0.0185,  ..., -0.0133, -0.0037,  0.0134],\n",
       "        ...,\n",
       "        [ 0.0073, -0.0149, -0.0108,  ..., -0.0047, -0.0137,  0.0070],\n",
       "        [ 0.0006, -0.0141, -0.0124,  ..., -0.0085,  0.0069, -0.0110],\n",
       "        [-0.0159,  0.0177, -0.0087,  ..., -0.0076, -0.0009,  0.0078]],\n",
       "       device='cuda:0')"
      ]
     },
     "execution_count": 7,
     "metadata": {},
     "output_type": "execute_result"
    }
   ],
   "source": [
    "noise_features = torch.empty(N * D).normal_(mean=0,std=0.01).reshape(N, D).to(device)\n",
    "noise_features.requires_grad_(False)"
   ]
  },
  {
   "cell_type": "code",
   "execution_count": 8,
   "metadata": {},
   "outputs": [],
   "source": [
    "actual_data = torch.cat([actual_data, noise_features], dim = 1)"
   ]
  },
  {
   "cell_type": "code",
   "execution_count": 9,
   "metadata": {},
   "outputs": [
    {
     "data": {
      "text/plain": [
       "torch.Size([10000, 60])"
      ]
     },
     "execution_count": 9,
     "metadata": {},
     "output_type": "execute_result"
    }
   ],
   "source": [
    "actual_data.shape"
   ]
  },
  {
   "cell_type": "code",
   "execution_count": 10,
   "metadata": {},
   "outputs": [],
   "source": [
    "actual_data = actual_data.cpu().numpy()\n",
    "scaler = MinMaxScaler()\n",
    "actual_data = scaler.fit_transform(actual_data)\n",
    "\n",
    "actual_data = Tensor(actual_data)\n",
    "\n",
    "slices = np.random.permutation(np.arange(actual_data.shape[0]))\n",
    "upto = int(.8 * len(actual_data))\n",
    "\n",
    "train_data = actual_data[slices[:upto]]\n",
    "test_data = actual_data[slices[upto:]]"
   ]
  },
  {
   "cell_type": "code",
   "execution_count": 11,
   "metadata": {},
   "outputs": [],
   "source": [
    "global_t = 1"
   ]
  },
  {
   "cell_type": "markdown",
   "metadata": {},
   "source": [
    "Example of what worked before"
   ]
  },
  {
   "cell_type": "code",
   "execution_count": 12,
   "metadata": {},
   "outputs": [],
   "source": [
    "vae_gumbel_truncated = VAE_Gumbel(2*D, 100, 20, k = 3*z_size, t = global_t)\n",
    "vae_gumbel_truncated.to(device)\n",
    "vae_gumbel_trunc_optimizer = torch.optim.Adam(vae_gumbel_truncated.parameters(), \n",
    "                                                lr=lr, \n",
    "                                                betas = (b1,b2))"
   ]
  },
  {
   "cell_type": "code",
   "execution_count": 13,
   "metadata": {
    "scrolled": true
   },
   "outputs": [
    {
     "name": "stdout",
     "output_type": "stream",
     "text": [
      "Train Epoch: 1 [0/8000 (0%)]\tLoss: 21.246294\n",
      "Train Epoch: 1 [1280/8000 (16%)]\tLoss: 20.250397\n",
      "Train Epoch: 1 [2560/8000 (32%)]\tLoss: 19.305346\n",
      "Train Epoch: 1 [3840/8000 (48%)]\tLoss: 18.313152\n",
      "Train Epoch: 1 [5120/8000 (64%)]\tLoss: 17.451023\n",
      "Train Epoch: 1 [6400/8000 (80%)]\tLoss: 16.190554\n",
      "Train Epoch: 1 [7680/8000 (96%)]\tLoss: 14.823248\n",
      "====> Epoch: 1 Average loss: 18.0863\n",
      "Train Epoch: 2 [0/8000 (0%)]\tLoss: 13.966923\n",
      "Train Epoch: 2 [1280/8000 (16%)]\tLoss: 13.805084\n",
      "Train Epoch: 2 [2560/8000 (32%)]\tLoss: 13.408572\n",
      "Train Epoch: 2 [3840/8000 (48%)]\tLoss: 13.038525\n",
      "Train Epoch: 2 [5120/8000 (64%)]\tLoss: 12.352503\n",
      "Train Epoch: 2 [6400/8000 (80%)]\tLoss: 12.367773\n",
      "Train Epoch: 2 [7680/8000 (96%)]\tLoss: 11.958294\n",
      "====> Epoch: 2 Average loss: 13.1279\n",
      "Train Epoch: 3 [0/8000 (0%)]\tLoss: 12.673205\n",
      "Train Epoch: 3 [1280/8000 (16%)]\tLoss: 12.181462\n",
      "Train Epoch: 3 [2560/8000 (32%)]\tLoss: 12.358383\n",
      "Train Epoch: 3 [3840/8000 (48%)]\tLoss: 12.377422\n",
      "Train Epoch: 3 [5120/8000 (64%)]\tLoss: 12.426563\n",
      "Train Epoch: 3 [6400/8000 (80%)]\tLoss: 12.554430\n",
      "Train Epoch: 3 [7680/8000 (96%)]\tLoss: 12.404709\n",
      "====> Epoch: 3 Average loss: 12.3313\n",
      "Train Epoch: 4 [0/8000 (0%)]\tLoss: 11.778401\n",
      "Train Epoch: 4 [1280/8000 (16%)]\tLoss: 12.569075\n",
      "Train Epoch: 4 [2560/8000 (32%)]\tLoss: 12.427234\n",
      "Train Epoch: 4 [3840/8000 (48%)]\tLoss: 12.286572\n",
      "Train Epoch: 4 [5120/8000 (64%)]\tLoss: 12.389345\n",
      "Train Epoch: 4 [6400/8000 (80%)]\tLoss: 11.902090\n",
      "Train Epoch: 4 [7680/8000 (96%)]\tLoss: 11.689416\n",
      "====> Epoch: 4 Average loss: 12.1103\n",
      "Train Epoch: 5 [0/8000 (0%)]\tLoss: 12.068759\n",
      "Train Epoch: 5 [1280/8000 (16%)]\tLoss: 12.090297\n",
      "Train Epoch: 5 [2560/8000 (32%)]\tLoss: 11.780383\n",
      "Train Epoch: 5 [3840/8000 (48%)]\tLoss: 12.446383\n",
      "Train Epoch: 5 [5120/8000 (64%)]\tLoss: 11.900985\n",
      "Train Epoch: 5 [6400/8000 (80%)]\tLoss: 12.073030\n",
      "Train Epoch: 5 [7680/8000 (96%)]\tLoss: 11.996560\n",
      "====> Epoch: 5 Average loss: 12.0016\n",
      "Train Epoch: 6 [0/8000 (0%)]\tLoss: 11.612226\n",
      "Train Epoch: 6 [1280/8000 (16%)]\tLoss: 12.378171\n",
      "Train Epoch: 6 [2560/8000 (32%)]\tLoss: 11.916159\n",
      "Train Epoch: 6 [3840/8000 (48%)]\tLoss: 11.594840\n",
      "Train Epoch: 6 [5120/8000 (64%)]\tLoss: 11.912836\n",
      "Train Epoch: 6 [6400/8000 (80%)]\tLoss: 11.890453\n",
      "Train Epoch: 6 [7680/8000 (96%)]\tLoss: 11.808912\n",
      "====> Epoch: 6 Average loss: 11.8759\n",
      "Train Epoch: 7 [0/8000 (0%)]\tLoss: 12.161309\n",
      "Train Epoch: 7 [1280/8000 (16%)]\tLoss: 11.796291\n",
      "Train Epoch: 7 [2560/8000 (32%)]\tLoss: 11.736796\n",
      "Train Epoch: 7 [3840/8000 (48%)]\tLoss: 12.006248\n",
      "Train Epoch: 7 [5120/8000 (64%)]\tLoss: 11.649719\n",
      "Train Epoch: 7 [6400/8000 (80%)]\tLoss: 11.342793\n",
      "Train Epoch: 7 [7680/8000 (96%)]\tLoss: 11.804908\n",
      "====> Epoch: 7 Average loss: 11.7989\n",
      "Train Epoch: 8 [0/8000 (0%)]\tLoss: 11.999457\n",
      "Train Epoch: 8 [1280/8000 (16%)]\tLoss: 11.649883\n",
      "Train Epoch: 8 [2560/8000 (32%)]\tLoss: 11.605398\n",
      "Train Epoch: 8 [3840/8000 (48%)]\tLoss: 12.007249\n",
      "Train Epoch: 8 [5120/8000 (64%)]\tLoss: 11.601240\n",
      "Train Epoch: 8 [6400/8000 (80%)]\tLoss: 11.873659\n",
      "Train Epoch: 8 [7680/8000 (96%)]\tLoss: 11.797796\n",
      "====> Epoch: 8 Average loss: 11.7175\n",
      "Train Epoch: 9 [0/8000 (0%)]\tLoss: 11.946200\n",
      "Train Epoch: 9 [1280/8000 (16%)]\tLoss: 11.660553\n",
      "Train Epoch: 9 [2560/8000 (32%)]\tLoss: 11.415279\n",
      "Train Epoch: 9 [3840/8000 (48%)]\tLoss: 11.895151\n",
      "Train Epoch: 9 [5120/8000 (64%)]\tLoss: 11.066789\n",
      "Train Epoch: 9 [6400/8000 (80%)]\tLoss: 12.030253\n",
      "Train Epoch: 9 [7680/8000 (96%)]\tLoss: 11.457920\n",
      "====> Epoch: 9 Average loss: 11.6363\n",
      "Train Epoch: 10 [0/8000 (0%)]\tLoss: 11.444853\n",
      "Train Epoch: 10 [1280/8000 (16%)]\tLoss: 11.843509\n",
      "Train Epoch: 10 [2560/8000 (32%)]\tLoss: 11.257654\n",
      "Train Epoch: 10 [3840/8000 (48%)]\tLoss: 11.423647\n",
      "Train Epoch: 10 [5120/8000 (64%)]\tLoss: 11.314461\n",
      "Train Epoch: 10 [6400/8000 (80%)]\tLoss: 11.723335\n",
      "Train Epoch: 10 [7680/8000 (96%)]\tLoss: 12.027250\n",
      "====> Epoch: 10 Average loss: 11.5258\n",
      "Train Epoch: 11 [0/8000 (0%)]\tLoss: 11.121562\n",
      "Train Epoch: 11 [1280/8000 (16%)]\tLoss: 11.365524\n",
      "Train Epoch: 11 [2560/8000 (32%)]\tLoss: 11.078561\n",
      "Train Epoch: 11 [3840/8000 (48%)]\tLoss: 11.652745\n",
      "Train Epoch: 11 [5120/8000 (64%)]\tLoss: 11.309575\n",
      "Train Epoch: 11 [6400/8000 (80%)]\tLoss: 11.382592\n",
      "Train Epoch: 11 [7680/8000 (96%)]\tLoss: 11.803990\n",
      "====> Epoch: 11 Average loss: 11.4262\n",
      "Train Epoch: 12 [0/8000 (0%)]\tLoss: 11.306494\n",
      "Train Epoch: 12 [1280/8000 (16%)]\tLoss: 11.253048\n",
      "Train Epoch: 12 [2560/8000 (32%)]\tLoss: 11.621578\n",
      "Train Epoch: 12 [3840/8000 (48%)]\tLoss: 11.569518\n",
      "Train Epoch: 12 [5120/8000 (64%)]\tLoss: 11.289817\n",
      "Train Epoch: 12 [6400/8000 (80%)]\tLoss: 11.308892\n",
      "Train Epoch: 12 [7680/8000 (96%)]\tLoss: 10.633207\n",
      "====> Epoch: 12 Average loss: 11.3229\n",
      "Train Epoch: 13 [0/8000 (0%)]\tLoss: 10.884628\n",
      "Train Epoch: 13 [1280/8000 (16%)]\tLoss: 11.074900\n",
      "Train Epoch: 13 [2560/8000 (32%)]\tLoss: 11.412452\n",
      "Train Epoch: 13 [3840/8000 (48%)]\tLoss: 11.016783\n",
      "Train Epoch: 13 [5120/8000 (64%)]\tLoss: 11.240023\n",
      "Train Epoch: 13 [6400/8000 (80%)]\tLoss: 11.259748\n",
      "Train Epoch: 13 [7680/8000 (96%)]\tLoss: 11.149412\n",
      "====> Epoch: 13 Average loss: 11.2293\n",
      "Train Epoch: 14 [0/8000 (0%)]\tLoss: 11.211985\n",
      "Train Epoch: 14 [1280/8000 (16%)]\tLoss: 11.244780\n",
      "Train Epoch: 14 [2560/8000 (32%)]\tLoss: 11.228284\n",
      "Train Epoch: 14 [3840/8000 (48%)]\tLoss: 10.683302\n",
      "Train Epoch: 14 [5120/8000 (64%)]\tLoss: 11.208861\n",
      "Train Epoch: 14 [6400/8000 (80%)]\tLoss: 11.151014\n",
      "Train Epoch: 14 [7680/8000 (96%)]\tLoss: 11.118217\n",
      "====> Epoch: 14 Average loss: 11.1396\n",
      "Train Epoch: 15 [0/8000 (0%)]\tLoss: 10.766420\n",
      "Train Epoch: 15 [1280/8000 (16%)]\tLoss: 11.466409\n",
      "Train Epoch: 15 [2560/8000 (32%)]\tLoss: 11.115503\n",
      "Train Epoch: 15 [3840/8000 (48%)]\tLoss: 10.538302\n",
      "Train Epoch: 15 [5120/8000 (64%)]\tLoss: 11.187834\n",
      "Train Epoch: 15 [6400/8000 (80%)]\tLoss: 11.452896\n",
      "Train Epoch: 15 [7680/8000 (96%)]\tLoss: 11.126341\n",
      "====> Epoch: 15 Average loss: 11.0487\n",
      "Train Epoch: 16 [0/8000 (0%)]\tLoss: 10.889713\n",
      "Train Epoch: 16 [1280/8000 (16%)]\tLoss: 10.810443\n",
      "Train Epoch: 16 [2560/8000 (32%)]\tLoss: 10.768027\n",
      "Train Epoch: 16 [3840/8000 (48%)]\tLoss: 11.335194\n",
      "Train Epoch: 16 [5120/8000 (64%)]\tLoss: 11.172890\n",
      "Train Epoch: 16 [6400/8000 (80%)]\tLoss: 11.218824\n",
      "Train Epoch: 16 [7680/8000 (96%)]\tLoss: 10.697835\n",
      "====> Epoch: 16 Average loss: 10.9831\n",
      "Train Epoch: 17 [0/8000 (0%)]\tLoss: 10.668688\n",
      "Train Epoch: 17 [1280/8000 (16%)]\tLoss: 10.979620\n",
      "Train Epoch: 17 [2560/8000 (32%)]\tLoss: 10.935355\n",
      "Train Epoch: 17 [3840/8000 (48%)]\tLoss: 10.849089\n",
      "Train Epoch: 17 [5120/8000 (64%)]\tLoss: 10.840553\n",
      "Train Epoch: 17 [6400/8000 (80%)]\tLoss: 11.094377\n",
      "Train Epoch: 17 [7680/8000 (96%)]\tLoss: 10.712069\n",
      "====> Epoch: 17 Average loss: 10.9083\n",
      "Train Epoch: 18 [0/8000 (0%)]\tLoss: 10.801167\n",
      "Train Epoch: 18 [1280/8000 (16%)]\tLoss: 11.151277\n",
      "Train Epoch: 18 [2560/8000 (32%)]\tLoss: 11.168970\n",
      "Train Epoch: 18 [3840/8000 (48%)]\tLoss: 10.936243\n",
      "Train Epoch: 18 [5120/8000 (64%)]\tLoss: 10.784502\n",
      "Train Epoch: 18 [6400/8000 (80%)]\tLoss: 10.782269\n",
      "Train Epoch: 18 [7680/8000 (96%)]\tLoss: 10.964095\n",
      "====> Epoch: 18 Average loss: 10.8556\n",
      "Train Epoch: 19 [0/8000 (0%)]\tLoss: 10.910218\n",
      "Train Epoch: 19 [1280/8000 (16%)]\tLoss: 10.829973\n",
      "Train Epoch: 19 [2560/8000 (32%)]\tLoss: 11.155061\n",
      "Train Epoch: 19 [3840/8000 (48%)]\tLoss: 10.759955\n",
      "Train Epoch: 19 [5120/8000 (64%)]\tLoss: 10.686851\n",
      "Train Epoch: 19 [6400/8000 (80%)]\tLoss: 10.591365\n",
      "Train Epoch: 19 [7680/8000 (96%)]\tLoss: 10.608478\n",
      "====> Epoch: 19 Average loss: 10.7959\n",
      "Train Epoch: 20 [0/8000 (0%)]\tLoss: 11.358024\n",
      "Train Epoch: 20 [1280/8000 (16%)]\tLoss: 10.580921\n",
      "Train Epoch: 20 [2560/8000 (32%)]\tLoss: 10.672755\n",
      "Train Epoch: 20 [3840/8000 (48%)]\tLoss: 10.769754\n",
      "Train Epoch: 20 [5120/8000 (64%)]\tLoss: 10.909407\n",
      "Train Epoch: 20 [6400/8000 (80%)]\tLoss: 11.013748\n",
      "Train Epoch: 20 [7680/8000 (96%)]\tLoss: 10.711974\n",
      "====> Epoch: 20 Average loss: 10.7367\n",
      "Train Epoch: 21 [0/8000 (0%)]\tLoss: 10.525660\n",
      "Train Epoch: 21 [1280/8000 (16%)]\tLoss: 10.776403\n",
      "Train Epoch: 21 [2560/8000 (32%)]\tLoss: 10.431925\n",
      "Train Epoch: 21 [3840/8000 (48%)]\tLoss: 10.553208\n",
      "Train Epoch: 21 [5120/8000 (64%)]\tLoss: 10.996521\n",
      "Train Epoch: 21 [6400/8000 (80%)]\tLoss: 10.553703\n",
      "Train Epoch: 21 [7680/8000 (96%)]\tLoss: 11.109649\n",
      "====> Epoch: 21 Average loss: 10.6973\n",
      "Train Epoch: 22 [0/8000 (0%)]\tLoss: 10.719621\n",
      "Train Epoch: 22 [1280/8000 (16%)]\tLoss: 11.123668\n",
      "Train Epoch: 22 [2560/8000 (32%)]\tLoss: 10.714769\n",
      "Train Epoch: 22 [3840/8000 (48%)]\tLoss: 10.762350\n",
      "Train Epoch: 22 [5120/8000 (64%)]\tLoss: 10.729690\n"
     ]
    },
    {
     "name": "stdout",
     "output_type": "stream",
     "text": [
      "Train Epoch: 22 [6400/8000 (80%)]\tLoss: 10.782840\n",
      "Train Epoch: 22 [7680/8000 (96%)]\tLoss: 10.292208\n",
      "====> Epoch: 22 Average loss: 10.6665\n",
      "Train Epoch: 23 [0/8000 (0%)]\tLoss: 10.157126\n",
      "Train Epoch: 23 [1280/8000 (16%)]\tLoss: 10.540656\n",
      "Train Epoch: 23 [2560/8000 (32%)]\tLoss: 10.753371\n",
      "Train Epoch: 23 [3840/8000 (48%)]\tLoss: 10.622337\n",
      "Train Epoch: 23 [5120/8000 (64%)]\tLoss: 10.741127\n",
      "Train Epoch: 23 [6400/8000 (80%)]\tLoss: 10.701597\n",
      "Train Epoch: 23 [7680/8000 (96%)]\tLoss: 10.534987\n",
      "====> Epoch: 23 Average loss: 10.6281\n",
      "Train Epoch: 24 [0/8000 (0%)]\tLoss: 10.502141\n",
      "Train Epoch: 24 [1280/8000 (16%)]\tLoss: 10.684061\n",
      "Train Epoch: 24 [2560/8000 (32%)]\tLoss: 10.734015\n",
      "Train Epoch: 24 [3840/8000 (48%)]\tLoss: 10.379245\n",
      "Train Epoch: 24 [5120/8000 (64%)]\tLoss: 10.957211\n",
      "Train Epoch: 24 [6400/8000 (80%)]\tLoss: 10.496857\n",
      "Train Epoch: 24 [7680/8000 (96%)]\tLoss: 10.607121\n",
      "====> Epoch: 24 Average loss: 10.6134\n",
      "Train Epoch: 25 [0/8000 (0%)]\tLoss: 10.293395\n",
      "Train Epoch: 25 [1280/8000 (16%)]\tLoss: 10.528642\n",
      "Train Epoch: 25 [2560/8000 (32%)]\tLoss: 10.605904\n",
      "Train Epoch: 25 [3840/8000 (48%)]\tLoss: 10.528587\n",
      "Train Epoch: 25 [5120/8000 (64%)]\tLoss: 10.466983\n",
      "Train Epoch: 25 [6400/8000 (80%)]\tLoss: 10.989646\n",
      "Train Epoch: 25 [7680/8000 (96%)]\tLoss: 10.705160\n",
      "====> Epoch: 25 Average loss: 10.5893\n",
      "Train Epoch: 26 [0/8000 (0%)]\tLoss: 10.050796\n",
      "Train Epoch: 26 [1280/8000 (16%)]\tLoss: 10.574036\n",
      "Train Epoch: 26 [2560/8000 (32%)]\tLoss: 10.871506\n",
      "Train Epoch: 26 [3840/8000 (48%)]\tLoss: 10.416905\n",
      "Train Epoch: 26 [5120/8000 (64%)]\tLoss: 10.443002\n",
      "Train Epoch: 26 [6400/8000 (80%)]\tLoss: 10.389482\n",
      "Train Epoch: 26 [7680/8000 (96%)]\tLoss: 10.493411\n",
      "====> Epoch: 26 Average loss: 10.5732\n",
      "Train Epoch: 27 [0/8000 (0%)]\tLoss: 10.702158\n",
      "Train Epoch: 27 [1280/8000 (16%)]\tLoss: 10.676848\n",
      "Train Epoch: 27 [2560/8000 (32%)]\tLoss: 10.475875\n",
      "Train Epoch: 27 [3840/8000 (48%)]\tLoss: 10.578859\n",
      "Train Epoch: 27 [5120/8000 (64%)]\tLoss: 10.350233\n",
      "Train Epoch: 27 [6400/8000 (80%)]\tLoss: 10.329869\n",
      "Train Epoch: 27 [7680/8000 (96%)]\tLoss: 10.361197\n",
      "====> Epoch: 27 Average loss: 10.5628\n",
      "Train Epoch: 28 [0/8000 (0%)]\tLoss: 10.653728\n",
      "Train Epoch: 28 [1280/8000 (16%)]\tLoss: 10.643510\n",
      "Train Epoch: 28 [2560/8000 (32%)]\tLoss: 10.822173\n",
      "Train Epoch: 28 [3840/8000 (48%)]\tLoss: 10.336451\n",
      "Train Epoch: 28 [5120/8000 (64%)]\tLoss: 10.509249\n",
      "Train Epoch: 28 [6400/8000 (80%)]\tLoss: 10.462896\n",
      "Train Epoch: 28 [7680/8000 (96%)]\tLoss: 10.270224\n",
      "====> Epoch: 28 Average loss: 10.5432\n",
      "Train Epoch: 29 [0/8000 (0%)]\tLoss: 10.965860\n",
      "Train Epoch: 29 [1280/8000 (16%)]\tLoss: 10.677595\n",
      "Train Epoch: 29 [2560/8000 (32%)]\tLoss: 10.510555\n",
      "Train Epoch: 29 [3840/8000 (48%)]\tLoss: 10.388647\n",
      "Train Epoch: 29 [5120/8000 (64%)]\tLoss: 10.783244\n",
      "Train Epoch: 29 [6400/8000 (80%)]\tLoss: 10.528851\n",
      "Train Epoch: 29 [7680/8000 (96%)]\tLoss: 10.913024\n",
      "====> Epoch: 29 Average loss: 10.5428\n",
      "Train Epoch: 30 [0/8000 (0%)]\tLoss: 10.457603\n",
      "Train Epoch: 30 [1280/8000 (16%)]\tLoss: 10.770613\n",
      "Train Epoch: 30 [2560/8000 (32%)]\tLoss: 10.359415\n",
      "Train Epoch: 30 [3840/8000 (48%)]\tLoss: 10.615643\n",
      "Train Epoch: 30 [5120/8000 (64%)]\tLoss: 10.548541\n",
      "Train Epoch: 30 [6400/8000 (80%)]\tLoss: 10.533996\n",
      "Train Epoch: 30 [7680/8000 (96%)]\tLoss: 10.543274\n",
      "====> Epoch: 30 Average loss: 10.5234\n",
      "Train Epoch: 31 [0/8000 (0%)]\tLoss: 10.578419\n",
      "Train Epoch: 31 [1280/8000 (16%)]\tLoss: 10.248842\n",
      "Train Epoch: 31 [2560/8000 (32%)]\tLoss: 10.037327\n",
      "Train Epoch: 31 [3840/8000 (48%)]\tLoss: 10.440224\n",
      "Train Epoch: 31 [5120/8000 (64%)]\tLoss: 10.866269\n",
      "Train Epoch: 31 [6400/8000 (80%)]\tLoss: 10.466947\n",
      "Train Epoch: 31 [7680/8000 (96%)]\tLoss: 10.370978\n",
      "====> Epoch: 31 Average loss: 10.5055\n",
      "Train Epoch: 32 [0/8000 (0%)]\tLoss: 10.478009\n",
      "Train Epoch: 32 [1280/8000 (16%)]\tLoss: 10.872281\n",
      "Train Epoch: 32 [2560/8000 (32%)]\tLoss: 10.380313\n",
      "Train Epoch: 32 [3840/8000 (48%)]\tLoss: 10.770939\n",
      "Train Epoch: 32 [5120/8000 (64%)]\tLoss: 10.360361\n",
      "Train Epoch: 32 [6400/8000 (80%)]\tLoss: 10.377466\n",
      "Train Epoch: 32 [7680/8000 (96%)]\tLoss: 10.785868\n",
      "====> Epoch: 32 Average loss: 10.5060\n",
      "Train Epoch: 33 [0/8000 (0%)]\tLoss: 10.112450\n",
      "Train Epoch: 33 [1280/8000 (16%)]\tLoss: 10.238904\n",
      "Train Epoch: 33 [2560/8000 (32%)]\tLoss: 10.608150\n",
      "Train Epoch: 33 [3840/8000 (48%)]\tLoss: 10.909048\n",
      "Train Epoch: 33 [5120/8000 (64%)]\tLoss: 11.018816\n",
      "Train Epoch: 33 [6400/8000 (80%)]\tLoss: 10.800467\n",
      "Train Epoch: 33 [7680/8000 (96%)]\tLoss: 10.327776\n",
      "====> Epoch: 33 Average loss: 10.4883\n",
      "Train Epoch: 34 [0/8000 (0%)]\tLoss: 9.996266\n",
      "Train Epoch: 34 [1280/8000 (16%)]\tLoss: 10.735453\n",
      "Train Epoch: 34 [2560/8000 (32%)]\tLoss: 10.505468\n",
      "Train Epoch: 34 [3840/8000 (48%)]\tLoss: 10.390051\n",
      "Train Epoch: 34 [5120/8000 (64%)]\tLoss: 10.776814\n",
      "Train Epoch: 34 [6400/8000 (80%)]\tLoss: 10.700205\n",
      "Train Epoch: 34 [7680/8000 (96%)]\tLoss: 10.176763\n",
      "====> Epoch: 34 Average loss: 10.4770\n",
      "Train Epoch: 35 [0/8000 (0%)]\tLoss: 10.290202\n",
      "Train Epoch: 35 [1280/8000 (16%)]\tLoss: 10.329969\n",
      "Train Epoch: 35 [2560/8000 (32%)]\tLoss: 10.695362\n",
      "Train Epoch: 35 [3840/8000 (48%)]\tLoss: 10.271773\n",
      "Train Epoch: 35 [5120/8000 (64%)]\tLoss: 10.485511\n",
      "Train Epoch: 35 [6400/8000 (80%)]\tLoss: 10.824059\n",
      "Train Epoch: 35 [7680/8000 (96%)]\tLoss: 10.187131\n",
      "====> Epoch: 35 Average loss: 10.4766\n",
      "Train Epoch: 36 [0/8000 (0%)]\tLoss: 10.271274\n",
      "Train Epoch: 36 [1280/8000 (16%)]\tLoss: 10.266858\n",
      "Train Epoch: 36 [2560/8000 (32%)]\tLoss: 10.246668\n",
      "Train Epoch: 36 [3840/8000 (48%)]\tLoss: 10.440657\n",
      "Train Epoch: 36 [5120/8000 (64%)]\tLoss: 10.324760\n",
      "Train Epoch: 36 [6400/8000 (80%)]\tLoss: 10.320333\n",
      "Train Epoch: 36 [7680/8000 (96%)]\tLoss: 10.463468\n",
      "====> Epoch: 36 Average loss: 10.4620\n",
      "Train Epoch: 37 [0/8000 (0%)]\tLoss: 10.539495\n",
      "Train Epoch: 37 [1280/8000 (16%)]\tLoss: 10.375022\n",
      "Train Epoch: 37 [2560/8000 (32%)]\tLoss: 10.119569\n",
      "Train Epoch: 37 [3840/8000 (48%)]\tLoss: 10.233269\n",
      "Train Epoch: 37 [5120/8000 (64%)]\tLoss: 10.592191\n",
      "Train Epoch: 37 [6400/8000 (80%)]\tLoss: 10.443162\n",
      "Train Epoch: 37 [7680/8000 (96%)]\tLoss: 10.527210\n",
      "====> Epoch: 37 Average loss: 10.4504\n",
      "Train Epoch: 38 [0/8000 (0%)]\tLoss: 10.316163\n",
      "Train Epoch: 38 [1280/8000 (16%)]\tLoss: 10.527552\n",
      "Train Epoch: 38 [2560/8000 (32%)]\tLoss: 10.651468\n",
      "Train Epoch: 38 [3840/8000 (48%)]\tLoss: 10.498245\n",
      "Train Epoch: 38 [5120/8000 (64%)]\tLoss: 10.526082\n",
      "Train Epoch: 38 [6400/8000 (80%)]\tLoss: 10.496509\n",
      "Train Epoch: 38 [7680/8000 (96%)]\tLoss: 10.529408\n",
      "====> Epoch: 38 Average loss: 10.4499\n",
      "Train Epoch: 39 [0/8000 (0%)]\tLoss: 10.287496\n",
      "Train Epoch: 39 [1280/8000 (16%)]\tLoss: 10.189594\n",
      "Train Epoch: 39 [2560/8000 (32%)]\tLoss: 10.464411\n",
      "Train Epoch: 39 [3840/8000 (48%)]\tLoss: 10.620665\n",
      "Train Epoch: 39 [5120/8000 (64%)]\tLoss: 10.893106\n",
      "Train Epoch: 39 [6400/8000 (80%)]\tLoss: 10.668557\n",
      "Train Epoch: 39 [7680/8000 (96%)]\tLoss: 10.337307\n",
      "====> Epoch: 39 Average loss: 10.4397\n",
      "Train Epoch: 40 [0/8000 (0%)]\tLoss: 10.501283\n",
      "Train Epoch: 40 [1280/8000 (16%)]\tLoss: 10.446646\n",
      "Train Epoch: 40 [2560/8000 (32%)]\tLoss: 10.200263\n",
      "Train Epoch: 40 [3840/8000 (48%)]\tLoss: 10.459343\n",
      "Train Epoch: 40 [5120/8000 (64%)]\tLoss: 10.635940\n",
      "Train Epoch: 40 [6400/8000 (80%)]\tLoss: 10.404019\n",
      "Train Epoch: 40 [7680/8000 (96%)]\tLoss: 10.370173\n",
      "====> Epoch: 40 Average loss: 10.4284\n",
      "Train Epoch: 41 [0/8000 (0%)]\tLoss: 10.230286\n",
      "Train Epoch: 41 [1280/8000 (16%)]\tLoss: 10.466865\n",
      "Train Epoch: 41 [2560/8000 (32%)]\tLoss: 10.718891\n",
      "Train Epoch: 41 [3840/8000 (48%)]\tLoss: 10.500972\n",
      "Train Epoch: 41 [5120/8000 (64%)]\tLoss: 10.436852\n",
      "Train Epoch: 41 [6400/8000 (80%)]\tLoss: 10.918186\n",
      "Train Epoch: 41 [7680/8000 (96%)]\tLoss: 10.414086\n",
      "====> Epoch: 41 Average loss: 10.4234\n",
      "Train Epoch: 42 [0/8000 (0%)]\tLoss: 10.766402\n",
      "Train Epoch: 42 [1280/8000 (16%)]\tLoss: 10.318208\n",
      "Train Epoch: 42 [2560/8000 (32%)]\tLoss: 10.815408\n",
      "Train Epoch: 42 [3840/8000 (48%)]\tLoss: 10.702746\n",
      "Train Epoch: 42 [5120/8000 (64%)]\tLoss: 10.417987\n",
      "Train Epoch: 42 [6400/8000 (80%)]\tLoss: 10.519965\n",
      "Train Epoch: 42 [7680/8000 (96%)]\tLoss: 10.694892\n",
      "====> Epoch: 42 Average loss: 10.4271\n",
      "Train Epoch: 43 [0/8000 (0%)]\tLoss: 10.462177\n",
      "Train Epoch: 43 [1280/8000 (16%)]\tLoss: 10.542042\n",
      "Train Epoch: 43 [2560/8000 (32%)]\tLoss: 10.260647\n",
      "Train Epoch: 43 [3840/8000 (48%)]\tLoss: 10.419123\n",
      "Train Epoch: 43 [5120/8000 (64%)]\tLoss: 10.229343\n",
      "Train Epoch: 43 [6400/8000 (80%)]\tLoss: 10.155253\n",
      "Train Epoch: 43 [7680/8000 (96%)]\tLoss: 10.790140\n",
      "====> Epoch: 43 Average loss: 10.4186\n",
      "Train Epoch: 44 [0/8000 (0%)]\tLoss: 10.296052\n"
     ]
    },
    {
     "name": "stdout",
     "output_type": "stream",
     "text": [
      "Train Epoch: 44 [1280/8000 (16%)]\tLoss: 10.093376\n",
      "Train Epoch: 44 [2560/8000 (32%)]\tLoss: 10.071982\n",
      "Train Epoch: 44 [3840/8000 (48%)]\tLoss: 10.949146\n",
      "Train Epoch: 44 [5120/8000 (64%)]\tLoss: 10.586852\n",
      "Train Epoch: 44 [6400/8000 (80%)]\tLoss: 10.686936\n",
      "Train Epoch: 44 [7680/8000 (96%)]\tLoss: 10.196752\n",
      "====> Epoch: 44 Average loss: 10.4038\n",
      "Train Epoch: 45 [0/8000 (0%)]\tLoss: 10.245931\n",
      "Train Epoch: 45 [1280/8000 (16%)]\tLoss: 10.678970\n",
      "Train Epoch: 45 [2560/8000 (32%)]\tLoss: 10.351840\n",
      "Train Epoch: 45 [3840/8000 (48%)]\tLoss: 10.163573\n",
      "Train Epoch: 45 [5120/8000 (64%)]\tLoss: 10.464585\n",
      "Train Epoch: 45 [6400/8000 (80%)]\tLoss: 10.633328\n",
      "Train Epoch: 45 [7680/8000 (96%)]\tLoss: 10.427898\n",
      "====> Epoch: 45 Average loss: 10.3855\n",
      "Train Epoch: 46 [0/8000 (0%)]\tLoss: 10.302140\n",
      "Train Epoch: 46 [1280/8000 (16%)]\tLoss: 10.518029\n",
      "Train Epoch: 46 [2560/8000 (32%)]\tLoss: 10.528069\n",
      "Train Epoch: 46 [3840/8000 (48%)]\tLoss: 9.742825\n",
      "Train Epoch: 46 [5120/8000 (64%)]\tLoss: 10.304817\n",
      "Train Epoch: 46 [6400/8000 (80%)]\tLoss: 10.123063\n",
      "Train Epoch: 46 [7680/8000 (96%)]\tLoss: 10.498881\n",
      "====> Epoch: 46 Average loss: 10.3623\n",
      "Train Epoch: 47 [0/8000 (0%)]\tLoss: 10.414326\n",
      "Train Epoch: 47 [1280/8000 (16%)]\tLoss: 9.870969\n",
      "Train Epoch: 47 [2560/8000 (32%)]\tLoss: 10.819239\n",
      "Train Epoch: 47 [3840/8000 (48%)]\tLoss: 10.330410\n",
      "Train Epoch: 47 [5120/8000 (64%)]\tLoss: 10.356556\n",
      "Train Epoch: 47 [6400/8000 (80%)]\tLoss: 10.532913\n",
      "Train Epoch: 47 [7680/8000 (96%)]\tLoss: 9.846177\n",
      "====> Epoch: 47 Average loss: 10.3410\n",
      "Train Epoch: 48 [0/8000 (0%)]\tLoss: 10.475010\n",
      "Train Epoch: 48 [1280/8000 (16%)]\tLoss: 10.437548\n",
      "Train Epoch: 48 [2560/8000 (32%)]\tLoss: 10.284109\n",
      "Train Epoch: 48 [3840/8000 (48%)]\tLoss: 10.510977\n",
      "Train Epoch: 48 [5120/8000 (64%)]\tLoss: 10.320344\n",
      "Train Epoch: 48 [6400/8000 (80%)]\tLoss: 10.295945\n",
      "Train Epoch: 48 [7680/8000 (96%)]\tLoss: 10.075056\n",
      "====> Epoch: 48 Average loss: 10.2908\n",
      "Train Epoch: 49 [0/8000 (0%)]\tLoss: 10.269361\n",
      "Train Epoch: 49 [1280/8000 (16%)]\tLoss: 10.588838\n",
      "Train Epoch: 49 [2560/8000 (32%)]\tLoss: 10.119617\n",
      "Train Epoch: 49 [3840/8000 (48%)]\tLoss: 10.194534\n",
      "Train Epoch: 49 [5120/8000 (64%)]\tLoss: 10.540586\n",
      "Train Epoch: 49 [6400/8000 (80%)]\tLoss: 10.093635\n",
      "Train Epoch: 49 [7680/8000 (96%)]\tLoss: 10.582228\n",
      "====> Epoch: 49 Average loss: 10.2389\n",
      "Train Epoch: 50 [0/8000 (0%)]\tLoss: 9.885213\n",
      "Train Epoch: 50 [1280/8000 (16%)]\tLoss: 9.661025\n",
      "Train Epoch: 50 [2560/8000 (32%)]\tLoss: 10.623211\n",
      "Train Epoch: 50 [3840/8000 (48%)]\tLoss: 10.235064\n",
      "Train Epoch: 50 [5120/8000 (64%)]\tLoss: 10.339252\n",
      "Train Epoch: 50 [6400/8000 (80%)]\tLoss: 10.230854\n",
      "Train Epoch: 50 [7680/8000 (96%)]\tLoss: 10.166793\n",
      "====> Epoch: 50 Average loss: 10.2025\n"
     ]
    }
   ],
   "source": [
    "gradients_before_burnin = torch.zeros(train_data.shape[1]).to(device)\n",
    "gradient_post_burn_in = torch.zeros(train_data.shape[1]).to(device)\n",
    "\n",
    "for epoch in range(1, n_epochs+1):\n",
    "    grads=train_truncated_with_gradients(train_data, vae_gumbel_truncated, \n",
    "                                                      vae_gumbel_trunc_optimizer, \n",
    "                                                      epoch, \n",
    "                                                      batch_size, \n",
    "                                                      Dim = D)\n",
    "    if vae_gumbel_truncated.t >= 0.01:\n",
    "        vae_gumbel_truncated.t *= 0.75\n",
    "    if epoch > 5 and epoch <25:\n",
    "        gradients_before_burnin += grads\n",
    "    if epoch == 25:\n",
    "        with torch.no_grad():\n",
    "            # collect a version of the select keys at this point\n",
    "            w = vae_gumbel_truncated.weight_creator(test_data[0:10, :])\n",
    "            subset_indices_before_burnin = sample_subset(w, k=3*z_size, t=0.01).cpu()\n",
    "    if epoch > 24:\n",
    "        gradient_post_burn_in += grads\n",
    "        \n",
    "with torch.no_grad():\n",
    "    w = vae_gumbel_truncated.weight_creator(test_data[0:10, :])\n",
    "    subset_indices_post_burnin = sample_subset(w, k=3*z_size, t=0.01).cpu()"
   ]
  },
  {
   "cell_type": "code",
   "execution_count": 14,
   "metadata": {},
   "outputs": [
    {
     "name": "stdout",
     "output_type": "stream",
     "text": [
      "tensor(1.4094e+12, device='cuda:0')\n",
      "tensor(8.1824e+11, device='cuda:0')\n"
     ]
    },
    {
     "data": {
      "text/plain": [
       "<matplotlib.axes._subplots.AxesSubplot at 0x7fd45bb28090>"
      ]
     },
     "execution_count": 14,
     "metadata": {},
     "output_type": "execute_result"
    },
    {
     "data": {
      "image/png": "[encoded data removed]",
      "text/plain": [
       "<Figure size 432x288 with 2 Axes>"
      ]
     },
     "metadata": {
      "needs_background": "light"
     },
     "output_type": "display_data"
    }
   ],
   "source": [
    "print(gradients_before_burnin[:D].mean())\n",
    "print(gradients_before_burnin[D:].mean())\n",
    "sns.heatmap(gradients_before_burnin.clone().detach().cpu().numpy()[:, np.newaxis])\n"
   ]
  },
  {
   "cell_type": "code",
   "execution_count": 15,
   "metadata": {},
   "outputs": [
    {
     "name": "stdout",
     "output_type": "stream",
     "text": [
      "tensor(5.2290e+12, device='cuda:0')\n",
      "tensor(2.3107e+12, device='cuda:0')\n"
     ]
    },
    {
     "data": {
      "text/plain": [
       "<matplotlib.axes._subplots.AxesSubplot at 0x7fd451b43c50>"
      ]
     },
     "execution_count": 15,
     "metadata": {},
     "output_type": "execute_result"
    },
    {
     "data": {
      "image/png": "[encoded data removed]",
      "text/plain": [
       "<Figure size 432x288 with 2 Axes>"
      ]
     },
     "metadata": {
      "needs_background": "light"
     },
     "output_type": "display_data"
    }
   ],
   "source": [
    "print(gradient_post_burn_in[:D].mean())\n",
    "print(gradient_post_burn_in[D:].mean())\n",
    "sns.heatmap(gradient_post_burn_in.clone().detach().cpu().numpy()[:, np.newaxis])"
   ]
  },
  {
   "cell_type": "code",
   "execution_count": 16,
   "metadata": {},
   "outputs": [
    {
     "name": "stdout",
     "output_type": "stream",
     "text": [
      "tensor(4.4557)\n",
      "tensor(3.5443)\n"
     ]
    },
    {
     "data": {
      "text/plain": [
       "<matplotlib.axes._subplots.AxesSubplot at 0x7fd451a39ad0>"
      ]
     },
     "execution_count": 16,
     "metadata": {},
     "output_type": "execute_result"
    },
    {
     "data": {
      "image/png": "[encoded data removed]",
      "text/plain": [
       "<Figure size 432x288 with 2 Axes>"
      ]
     },
     "metadata": {
      "needs_background": "light"
     },
     "output_type": "display_data"
    }
   ],
   "source": [
    "print(subset_indices_before_burnin.sum(dim = 0)[:D].mean())\n",
    "print(subset_indices_before_burnin.sum(dim = 0)[D:].mean())\n",
    "sns.heatmap(subset_indices_before_burnin.sum(dim = 0).clone().detach().cpu().numpy()[:, np.newaxis])"
   ]
  },
  {
   "cell_type": "code",
   "execution_count": 17,
   "metadata": {},
   "outputs": [
    {
     "name": "stdout",
     "output_type": "stream",
     "text": [
      "tensor(4.3393)\n",
      "tensor(3.6607)\n"
     ]
    },
    {
     "data": {
      "text/plain": [
       "<matplotlib.axes._subplots.AxesSubplot at 0x7fd4519a1d90>"
      ]
     },
     "execution_count": 17,
     "metadata": {},
     "output_type": "execute_result"
    },
    {
     "data": {
      "image/png": "[encoded data removed]",
      "text/plain": [
       "<Figure size 432x288 with 2 Axes>"
      ]
     },
     "metadata": {
      "needs_background": "light"
     },
     "output_type": "display_data"
    }
   ],
   "source": [
    "print(subset_indices_post_burnin.sum(dim = 0)[:D].mean())\n",
    "print(subset_indices_post_burnin.sum(dim = 0)[(D):].mean())\n",
    "sns.heatmap(subset_indices_post_burnin.sum(dim = 0).clone().detach().cpu().numpy()[:, np.newaxis])"
   ]
  },
  {
   "cell_type": "code",
   "execution_count": 18,
   "metadata": {},
   "outputs": [
    {
     "data": {
      "text/plain": [
       "tensor(-132.5392)"
      ]
     },
     "execution_count": 18,
     "metadata": {},
     "output_type": "execute_result"
    }
   ],
   "source": [
    "subset_indices_post_burnin.sum(dim = 0)[:(D//2)].sum() - subset_indices_post_burnin.sum(dim = 0)[(D//2):].sum()"
   ]
  },
  {
   "cell_type": "markdown",
   "metadata": {},
   "source": [
    "The new model\n"
   ]
  },
  {
   "cell_type": "code",
   "execution_count": 34,
   "metadata": {},
   "outputs": [],
   "source": [
    "logits_changed_loss_lambda = 0.000001\n",
    "alpha = 0.90"
   ]
  },
  {
   "cell_type": "code",
   "execution_count": 35,
   "metadata": {},
   "outputs": [],
   "source": [
    "vae_gumbel_truncated = VAE_Gumbel_NInstaState(2*D, 100, 20, k = 3*z_size, t = global_t, alpha = alpha)\n",
    "vae_gumbel_truncated.to(device)\n",
    "vae_gumbel_trunc_optimizer = torch.optim.Adam(vae_gumbel_truncated.parameters(), \n",
    "                                                lr=lr, \n",
    "                                                betas = (b1,b2))\n",
    "\n"
   ]
  },
  {
   "cell_type": "code",
   "execution_count": 36,
   "metadata": {},
   "outputs": [
    {
     "name": "stdout",
     "output_type": "stream",
     "text": [
      "Train Epoch: 1 [0/8000 (0%)]\tLoss: 41.636711\n",
      "Train Epoch: 1 [1280/8000 (16%)]\tLoss: 40.626431\n",
      "Train Epoch: 1 [2560/8000 (32%)]\tLoss: 39.592697\n",
      "Train Epoch: 1 [3840/8000 (48%)]\tLoss: 38.860477\n",
      "Train Epoch: 1 [5120/8000 (64%)]\tLoss: 37.844345\n",
      "Train Epoch: 1 [6400/8000 (80%)]\tLoss: 36.929195\n",
      "Loss tensor(2348.0864, device='cuda:0', grad_fn=<AddBackward0>)Logits Loss tensor(4815.0645, device='cuda:0', grad_fn=<MseLossBackward>)\n",
      "Loss tensor(2329.1528, device='cuda:0', grad_fn=<AddBackward0>)Logits Loss tensor(4983.5293, device='cuda:0', grad_fn=<MseLossBackward>)\n",
      "Train Epoch: 1 [7680/8000 (96%)]\tLoss: 35.834110\n",
      "====> Epoch: 1 Average loss: 38.6637\n",
      "Train Epoch: 2 [0/8000 (0%)]\tLoss: 35.526077\n",
      "Train Epoch: 2 [1280/8000 (16%)]\tLoss: 34.590858\n",
      "Train Epoch: 2 [2560/8000 (32%)]\tLoss: 33.968864\n",
      "Train Epoch: 2 [3840/8000 (48%)]\tLoss: 33.364674\n",
      "Train Epoch: 2 [5120/8000 (64%)]\tLoss: 33.706108\n",
      "Train Epoch: 2 [6400/8000 (80%)]\tLoss: 33.224529\n",
      "Train Epoch: 2 [7680/8000 (96%)]\tLoss: 33.769554\n",
      "====> Epoch: 2 Average loss: 33.9798\n",
      "Train Epoch: 3 [0/8000 (0%)]\tLoss: 33.741524\n",
      "Train Epoch: 3 [1280/8000 (16%)]\tLoss: 32.920563\n",
      "Train Epoch: 3 [2560/8000 (32%)]\tLoss: 32.658199\n",
      "Train Epoch: 3 [3840/8000 (48%)]\tLoss: 32.870918\n",
      "Train Epoch: 3 [5120/8000 (64%)]\tLoss: 33.574146\n",
      "Train Epoch: 3 [6400/8000 (80%)]\tLoss: 32.795200\n",
      "Train Epoch: 3 [7680/8000 (96%)]\tLoss: 33.146660\n",
      "====> Epoch: 3 Average loss: 33.0964\n",
      "Train Epoch: 4 [0/8000 (0%)]\tLoss: 33.112782\n",
      "Loss tensor(2120.7429, device='cuda:0', grad_fn=<AddBackward0>)Logits Loss tensor(1400.0541, device='cuda:0', grad_fn=<MseLossBackward>)\n",
      "Train Epoch: 4 [1280/8000 (16%)]\tLoss: 32.784859\n",
      "Train Epoch: 4 [2560/8000 (32%)]\tLoss: 32.490639\n",
      "Train Epoch: 4 [3840/8000 (48%)]\tLoss: 32.642715\n",
      "Train Epoch: 4 [5120/8000 (64%)]\tLoss: 32.779499\n",
      "Train Epoch: 4 [6400/8000 (80%)]\tLoss: 32.395649\n",
      "Train Epoch: 4 [7680/8000 (96%)]\tLoss: 32.637878\n",
      "====> Epoch: 4 Average loss: 32.8663\n",
      "Train Epoch: 5 [0/8000 (0%)]\tLoss: 33.099960\n",
      "Train Epoch: 5 [1280/8000 (16%)]\tLoss: 33.536804\n",
      "Train Epoch: 5 [2560/8000 (32%)]\tLoss: 33.166393\n",
      "Train Epoch: 5 [3840/8000 (48%)]\tLoss: 32.778675\n",
      "Train Epoch: 5 [5120/8000 (64%)]\tLoss: 32.602810\n",
      "Train Epoch: 5 [6400/8000 (80%)]\tLoss: 32.771141\n",
      "Loss tensor(2101.8657, device='cuda:0', grad_fn=<AddBackward0>)Logits Loss tensor(434.5779, device='cuda:0', grad_fn=<MseLossBackward>)\n",
      "Loss tensor(2071.6963, device='cuda:0', grad_fn=<AddBackward0>)Logits Loss tensor(695.2711, device='cuda:0', grad_fn=<MseLossBackward>)\n",
      "Train Epoch: 5 [7680/8000 (96%)]\tLoss: 32.370266\n",
      "====> Epoch: 5 Average loss: 32.7511\n",
      "Train Epoch: 6 [0/8000 (0%)]\tLoss: 32.803123\n",
      "Loss tensor(2065.0007, device='cuda:0', grad_fn=<AddBackward0>)Logits Loss tensor(698.7266, device='cuda:0', grad_fn=<MseLossBackward>)\n",
      "Train Epoch: 6 [1280/8000 (16%)]\tLoss: 32.900993\n",
      "Loss tensor(2097.8618, device='cuda:0', grad_fn=<AddBackward0>)Logits Loss tensor(564.4543, device='cuda:0', grad_fn=<MseLossBackward>)\n",
      "Train Epoch: 6 [2560/8000 (32%)]\tLoss: 33.002567\n",
      "Train Epoch: 6 [3840/8000 (48%)]\tLoss: 32.952568\n",
      "Train Epoch: 6 [5120/8000 (64%)]\tLoss: 32.961533\n",
      "Train Epoch: 6 [6400/8000 (80%)]\tLoss: 32.564960\n",
      "Train Epoch: 6 [7680/8000 (96%)]\tLoss: 32.511360\n",
      "====> Epoch: 6 Average loss: 32.6681\n",
      "Train Epoch: 7 [0/8000 (0%)]\tLoss: 32.587353\n",
      "Train Epoch: 7 [1280/8000 (16%)]\tLoss: 32.841999\n",
      "Train Epoch: 7 [2560/8000 (32%)]\tLoss: 32.418324\n",
      "Train Epoch: 7 [3840/8000 (48%)]\tLoss: 32.860016\n",
      "Train Epoch: 7 [5120/8000 (64%)]\tLoss: 32.687580\n",
      "Train Epoch: 7 [6400/8000 (80%)]\tLoss: 32.294601\n",
      "Loss tensor(2098.2991, device='cuda:0', grad_fn=<AddBackward0>)Logits Loss tensor(387.4960, device='cuda:0', grad_fn=<MseLossBackward>)\n",
      "Train Epoch: 7 [7680/8000 (96%)]\tLoss: 32.495739\n",
      "====> Epoch: 7 Average loss: 32.6014\n",
      "Train Epoch: 8 [0/8000 (0%)]\tLoss: 32.212894\n",
      "Train Epoch: 8 [1280/8000 (16%)]\tLoss: 32.138012\n",
      "Train Epoch: 8 [2560/8000 (32%)]\tLoss: 32.639729\n",
      "Train Epoch: 8 [3840/8000 (48%)]\tLoss: 32.470390\n",
      "Train Epoch: 8 [5120/8000 (64%)]\tLoss: 32.928734\n",
      "Train Epoch: 8 [6400/8000 (80%)]\tLoss: 32.135174\n",
      "Train Epoch: 8 [7680/8000 (96%)]\tLoss: 32.717640\n",
      "====> Epoch: 8 Average loss: 32.5356\n",
      "Train Epoch: 9 [0/8000 (0%)]\tLoss: 32.450111\n",
      "Loss tensor(2046.4242, device='cuda:0', grad_fn=<AddBackward0>)Logits Loss tensor(169.5494, device='cuda:0', grad_fn=<MseLossBackward>)\n",
      "Train Epoch: 9 [1280/8000 (16%)]\tLoss: 32.534588\n",
      "Train Epoch: 9 [2560/8000 (32%)]\tLoss: 32.448387\n",
      "Train Epoch: 9 [3840/8000 (48%)]\tLoss: 32.441525\n",
      "Train Epoch: 9 [5120/8000 (64%)]\tLoss: 32.156723\n",
      "Train Epoch: 9 [6400/8000 (80%)]\tLoss: 32.693874\n",
      "Train Epoch: 9 [7680/8000 (96%)]\tLoss: 32.611240\n",
      "====> Epoch: 9 Average loss: 32.4755\n",
      "Train Epoch: 10 [0/8000 (0%)]\tLoss: 32.374138\n",
      "Train Epoch: 10 [1280/8000 (16%)]\tLoss: 32.223480\n",
      "Train Epoch: 10 [2560/8000 (32%)]\tLoss: 32.772919\n",
      "Train Epoch: 10 [3840/8000 (48%)]\tLoss: 32.166412\n",
      "Loss tensor(2080.4753, device='cuda:0', grad_fn=<AddBackward0>)Logits Loss tensor(127.8928, device='cuda:0', grad_fn=<MseLossBackward>)\n",
      "Train Epoch: 10 [5120/8000 (64%)]\tLoss: 32.422283\n",
      "Train Epoch: 10 [6400/8000 (80%)]\tLoss: 32.279835\n",
      "Train Epoch: 10 [7680/8000 (96%)]\tLoss: 32.266689\n",
      "====> Epoch: 10 Average loss: 32.4125\n",
      "Train Epoch: 11 [0/8000 (0%)]\tLoss: 32.232311\n",
      "Train Epoch: 11 [1280/8000 (16%)]\tLoss: 32.591476\n",
      "Train Epoch: 11 [2560/8000 (32%)]\tLoss: 32.121159\n",
      "Train Epoch: 11 [3840/8000 (48%)]\tLoss: 32.460922\n",
      "Loss tensor(2064.0461, device='cuda:0', grad_fn=<AddBackward0>)Logits Loss tensor(188.7593, device='cuda:0', grad_fn=<MseLossBackward>)\n",
      "Train Epoch: 11 [5120/8000 (64%)]\tLoss: 32.388279\n",
      "Train Epoch: 11 [6400/8000 (80%)]\tLoss: 32.170532\n",
      "Train Epoch: 11 [7680/8000 (96%)]\tLoss: 32.294678\n",
      "====> Epoch: 11 Average loss: 32.3651\n",
      "Train Epoch: 12 [0/8000 (0%)]\tLoss: 32.373589\n",
      "Loss tensor(2078.6392, device='cuda:0', grad_fn=<AddBackward0>)Logits Loss tensor(1870.8514, device='cuda:0', grad_fn=<MseLossBackward>)\n",
      "Train Epoch: 12 [1280/8000 (16%)]\tLoss: 32.478767\n",
      "Loss tensor(2064.2197, device='cuda:0', grad_fn=<AddBackward0>)Logits Loss tensor(8449.4482, device='cuda:0', grad_fn=<MseLossBackward>)\n",
      "Train Epoch: 12 [2560/8000 (32%)]\tLoss: 32.450451\n",
      "Loss tensor(2083.6284, device='cuda:0', grad_fn=<AddBackward0>)Logits Loss tensor(6479.7861, device='cuda:0', grad_fn=<MseLossBackward>)\n",
      "Train Epoch: 12 [3840/8000 (48%)]\tLoss: 32.065418\n",
      "Train Epoch: 12 [5120/8000 (64%)]\tLoss: 32.543991\n",
      "Loss tensor(2062.0793, device='cuda:0', grad_fn=<AddBackward0>)Logits Loss tensor(3102.0676, device='cuda:0', grad_fn=<MseLossBackward>)\n",
      "Train Epoch: 12 [6400/8000 (80%)]\tLoss: 32.012962\n",
      "Loss tensor(2053.7078, device='cuda:0', grad_fn=<AddBackward0>)Logits Loss tensor(11906.8965, device='cuda:0', grad_fn=<MseLossBackward>)\n",
      "Loss tensor(2091.6992, device='cuda:0', grad_fn=<AddBackward0>)Logits Loss tensor(9385.1016, device='cuda:0', grad_fn=<MseLossBackward>)\n",
      "Train Epoch: 12 [7680/8000 (96%)]\tLoss: 32.001232\n",
      "====> Epoch: 12 Average loss: 32.3049\n",
      "Train Epoch: 13 [0/8000 (0%)]\tLoss: 32.333302\n",
      "Loss tensor(2047.0995, device='cuda:0', grad_fn=<AddBackward0>)Logits Loss tensor(5785.8726, device='cuda:0', grad_fn=<MseLossBackward>)\n",
      "Train Epoch: 13 [1280/8000 (16%)]\tLoss: 32.473644\n",
      "Train Epoch: 13 [2560/8000 (32%)]\tLoss: 32.177055\n",
      "Train Epoch: 13 [3840/8000 (48%)]\tLoss: 32.055374\n",
      "Loss tensor(2083.6470, device='cuda:0', grad_fn=<AddBackward0>)Logits Loss tensor(18590.3027, device='cuda:0', grad_fn=<MseLossBackward>)\n",
      "Train Epoch: 13 [5120/8000 (64%)]\tLoss: 32.497231\n",
      "Train Epoch: 13 [6400/8000 (80%)]\tLoss: 32.189087\n",
      "Train Epoch: 13 [7680/8000 (96%)]\tLoss: 32.099274\n",
      "====> Epoch: 13 Average loss: 32.2522\n",
      "Train Epoch: 14 [0/8000 (0%)]\tLoss: 32.646660\n",
      "Train Epoch: 14 [1280/8000 (16%)]\tLoss: 32.020576\n",
      "Train Epoch: 14 [2560/8000 (32%)]\tLoss: 32.403748\n",
      "Train Epoch: 14 [3840/8000 (48%)]\tLoss: 32.080132\n",
      "Train Epoch: 14 [5120/8000 (64%)]\tLoss: 32.117290\n",
      "Train Epoch: 14 [6400/8000 (80%)]\tLoss: 32.499931\n",
      "Train Epoch: 14 [7680/8000 (96%)]\tLoss: 32.287952\n",
      "====> Epoch: 14 Average loss: 32.1961\n",
      "Train Epoch: 15 [0/8000 (0%)]\tLoss: 32.394554\n",
      "Train Epoch: 15 [1280/8000 (16%)]\tLoss: 32.815228\n",
      "Train Epoch: 15 [2560/8000 (32%)]\tLoss: 32.451836\n",
      "Train Epoch: 15 [3840/8000 (48%)]\tLoss: 32.409431\n",
      "Train Epoch: 15 [5120/8000 (64%)]\tLoss: 31.933180\n",
      "Train Epoch: 15 [6400/8000 (80%)]\tLoss: 32.585785\n"
     ]
    },
    {
     "name": "stdout",
     "output_type": "stream",
     "text": [
      "Train Epoch: 15 [7680/8000 (96%)]\tLoss: 32.019131\n",
      "====> Epoch: 15 Average loss: 32.1882\n",
      "Train Epoch: 16 [0/8000 (0%)]\tLoss: 32.896400\n",
      "Train Epoch: 16 [1280/8000 (16%)]\tLoss: 32.254379\n",
      "Train Epoch: 16 [2560/8000 (32%)]\tLoss: 31.942026\n",
      "Train Epoch: 16 [3840/8000 (48%)]\tLoss: 32.238140\n",
      "Train Epoch: 16 [5120/8000 (64%)]\tLoss: 31.625650\n",
      "Train Epoch: 16 [6400/8000 (80%)]\tLoss: 32.093521\n",
      "Loss tensor(2070.2905, device='cuda:0', grad_fn=<AddBackward0>)Logits Loss tensor(78247.6250, device='cuda:0', grad_fn=<MseLossBackward>)\n",
      "Train Epoch: 16 [7680/8000 (96%)]\tLoss: 32.186977\n",
      "====> Epoch: 16 Average loss: 32.1153\n",
      "Train Epoch: 17 [0/8000 (0%)]\tLoss: 31.937471\n",
      "Train Epoch: 17 [1280/8000 (16%)]\tLoss: 32.183693\n",
      "Loss tensor(2055.1973, device='cuda:0', grad_fn=<AddBackward0>)Logits Loss tensor(78694.0156, device='cuda:0', grad_fn=<MseLossBackward>)\n",
      "Train Epoch: 17 [2560/8000 (32%)]\tLoss: 31.947483\n",
      "Train Epoch: 17 [3840/8000 (48%)]\tLoss: 31.570192\n",
      "Train Epoch: 17 [5120/8000 (64%)]\tLoss: 31.991409\n",
      "Train Epoch: 17 [6400/8000 (80%)]\tLoss: 32.174393\n",
      "Loss tensor(2042.3735, device='cuda:0', grad_fn=<AddBackward0>)Logits Loss tensor(61226.6094, device='cuda:0', grad_fn=<MseLossBackward>)\n",
      "Train Epoch: 17 [7680/8000 (96%)]\tLoss: 32.243828\n",
      "====> Epoch: 17 Average loss: 32.0639\n",
      "Train Epoch: 18 [0/8000 (0%)]\tLoss: 31.997948\n",
      "Train Epoch: 18 [1280/8000 (16%)]\tLoss: 31.699434\n",
      "Train Epoch: 18 [2560/8000 (32%)]\tLoss: 32.241417\n",
      "Loss tensor(2035.8729, device='cuda:0', grad_fn=<AddBackward0>)Logits Loss tensor(46651.7578, device='cuda:0', grad_fn=<MseLossBackward>)\n",
      "Train Epoch: 18 [3840/8000 (48%)]\tLoss: 31.737375\n",
      "Train Epoch: 18 [5120/8000 (64%)]\tLoss: 31.941063\n",
      "Train Epoch: 18 [6400/8000 (80%)]\tLoss: 31.924366\n",
      "Train Epoch: 18 [7680/8000 (96%)]\tLoss: 31.755201\n",
      "====> Epoch: 18 Average loss: 32.0298\n",
      "Train Epoch: 19 [0/8000 (0%)]\tLoss: 32.022568\n",
      "Loss tensor(2033.4988, device='cuda:0', grad_fn=<AddBackward0>)Logits Loss tensor(46478.6992, device='cuda:0', grad_fn=<MseLossBackward>)\n",
      "Train Epoch: 19 [1280/8000 (16%)]\tLoss: 31.896683\n",
      "Train Epoch: 19 [2560/8000 (32%)]\tLoss: 32.026855\n",
      "Train Epoch: 19 [3840/8000 (48%)]\tLoss: 32.066486\n",
      "Train Epoch: 19 [5120/8000 (64%)]\tLoss: 32.159092\n",
      "Loss tensor(2017.4177, device='cuda:0', grad_fn=<AddBackward0>)Logits Loss tensor(51303.7539, device='cuda:0', grad_fn=<MseLossBackward>)\n",
      "Train Epoch: 19 [6400/8000 (80%)]\tLoss: 32.161816\n",
      "Train Epoch: 19 [7680/8000 (96%)]\tLoss: 31.714689\n",
      "====> Epoch: 19 Average loss: 31.9907\n",
      "Train Epoch: 20 [0/8000 (0%)]\tLoss: 31.896025\n",
      "Train Epoch: 20 [1280/8000 (16%)]\tLoss: 31.874273\n",
      "Train Epoch: 20 [2560/8000 (32%)]\tLoss: 31.872175\n",
      "Train Epoch: 20 [3840/8000 (48%)]\tLoss: 31.473658\n",
      "Train Epoch: 20 [5120/8000 (64%)]\tLoss: 32.275833\n",
      "Train Epoch: 20 [6400/8000 (80%)]\tLoss: 32.121674\n",
      "Train Epoch: 20 [7680/8000 (96%)]\tLoss: 31.402500\n",
      "====> Epoch: 20 Average loss: 31.9481\n",
      "Train Epoch: 21 [0/8000 (0%)]\tLoss: 32.295258\n",
      "Loss tensor(2067.5549, device='cuda:0', grad_fn=<AddBackward0>)Logits Loss tensor(50695.6016, device='cuda:0', grad_fn=<MseLossBackward>)\n",
      "Train Epoch: 21 [1280/8000 (16%)]\tLoss: 31.766445\n",
      "Train Epoch: 21 [2560/8000 (32%)]\tLoss: 32.333321\n",
      "Train Epoch: 21 [3840/8000 (48%)]\tLoss: 31.303177\n",
      "Train Epoch: 21 [5120/8000 (64%)]\tLoss: 31.847712\n",
      "Train Epoch: 21 [6400/8000 (80%)]\tLoss: 31.821873\n",
      "Train Epoch: 21 [7680/8000 (96%)]\tLoss: 32.122284\n",
      "====> Epoch: 21 Average loss: 31.9071\n",
      "Train Epoch: 22 [0/8000 (0%)]\tLoss: 31.622080\n",
      "Train Epoch: 22 [1280/8000 (16%)]\tLoss: 32.021648\n",
      "Train Epoch: 22 [2560/8000 (32%)]\tLoss: 31.622683\n",
      "Train Epoch: 22 [3840/8000 (48%)]\tLoss: 31.868835\n",
      "Train Epoch: 22 [5120/8000 (64%)]\tLoss: 31.414656\n",
      "Train Epoch: 22 [6400/8000 (80%)]\tLoss: 31.536749\n",
      "Train Epoch: 22 [7680/8000 (96%)]\tLoss: 31.905306\n",
      "====> Epoch: 22 Average loss: 31.8608\n",
      "Train Epoch: 23 [0/8000 (0%)]\tLoss: 31.984756\n",
      "Train Epoch: 23 [1280/8000 (16%)]\tLoss: 31.741425\n",
      "Train Epoch: 23 [2560/8000 (32%)]\tLoss: 31.642635\n",
      "Train Epoch: 23 [3840/8000 (48%)]\tLoss: 31.789206\n",
      "Loss tensor(2050.1975, device='cuda:0', grad_fn=<AddBackward0>)Logits Loss tensor(54832.9023, device='cuda:0', grad_fn=<MseLossBackward>)\n",
      "Train Epoch: 23 [5120/8000 (64%)]\tLoss: 31.709419\n",
      "Train Epoch: 23 [6400/8000 (80%)]\tLoss: 31.787113\n",
      "Train Epoch: 23 [7680/8000 (96%)]\tLoss: 31.560331\n",
      "====> Epoch: 23 Average loss: 31.8506\n",
      "Train Epoch: 24 [0/8000 (0%)]\tLoss: 31.450014\n",
      "Loss tensor(2045.4042, device='cuda:0', grad_fn=<AddBackward0>)Logits Loss tensor(49352.4375, device='cuda:0', grad_fn=<MseLossBackward>)\n",
      "Loss tensor(2048.0906, device='cuda:0', grad_fn=<AddBackward0>)Logits Loss tensor(46526.8594, device='cuda:0', grad_fn=<MseLossBackward>)\n",
      "Train Epoch: 24 [1280/8000 (16%)]\tLoss: 32.121227\n",
      "Train Epoch: 24 [2560/8000 (32%)]\tLoss: 31.457148\n",
      "Train Epoch: 24 [3840/8000 (48%)]\tLoss: 31.556896\n",
      "Loss tensor(2038.7792, device='cuda:0', grad_fn=<AddBackward0>)Logits Loss tensor(47546.7305, device='cuda:0', grad_fn=<MseLossBackward>)\n",
      "Train Epoch: 24 [5120/8000 (64%)]\tLoss: 31.729937\n",
      "Loss tensor(2008.7026, device='cuda:0', grad_fn=<AddBackward0>)Logits Loss tensor(45171.8242, device='cuda:0', grad_fn=<MseLossBackward>)\n",
      "Train Epoch: 24 [6400/8000 (80%)]\tLoss: 31.810795\n",
      "Train Epoch: 24 [7680/8000 (96%)]\tLoss: 32.253086\n",
      "====> Epoch: 24 Average loss: 31.8339\n",
      "Train Epoch: 25 [0/8000 (0%)]\tLoss: 31.955652\n",
      "Train Epoch: 25 [1280/8000 (16%)]\tLoss: 31.781448\n",
      "Train Epoch: 25 [2560/8000 (32%)]\tLoss: 31.739052\n",
      "Train Epoch: 25 [3840/8000 (48%)]\tLoss: 32.278400\n",
      "Loss tensor(2065.6680, device='cuda:0', grad_fn=<AddBackward0>)Logits Loss tensor(46504.5547, device='cuda:0', grad_fn=<MseLossBackward>)\n",
      "Loss tensor(2047.4303, device='cuda:0', grad_fn=<AddBackward0>)Logits Loss tensor(49934.9102, device='cuda:0', grad_fn=<MseLossBackward>)\n",
      "Train Epoch: 25 [5120/8000 (64%)]\tLoss: 31.720949\n",
      "Loss tensor(2049.2417, device='cuda:0', grad_fn=<AddBackward0>)Logits Loss tensor(50964.7734, device='cuda:0', grad_fn=<MseLossBackward>)\n",
      "Train Epoch: 25 [6400/8000 (80%)]\tLoss: 31.693478\n",
      "Train Epoch: 25 [7680/8000 (96%)]\tLoss: 31.413616\n",
      "====> Epoch: 25 Average loss: 31.8102\n",
      "GUMBEL DEBUG\n",
      "BURN IN DEBUG\n",
      "Going post burn in\n",
      "Train Epoch: 26 [0/8000 (0%)]\tLoss: 31.915627\n",
      "Train Epoch: 26 [1280/8000 (16%)]\tLoss: 31.723856\n",
      "Train Epoch: 26 [2560/8000 (32%)]\tLoss: 32.039028\n",
      "Train Epoch: 26 [3840/8000 (48%)]\tLoss: 31.550215\n",
      "Train Epoch: 26 [5120/8000 (64%)]\tLoss: 31.869944\n",
      "Loss tensor(2038.2682, device='cuda:0', grad_fn=<AddBackward0>)Logits Loss 0\n",
      "Train Epoch: 26 [6400/8000 (80%)]\tLoss: 31.803373\n",
      "Loss tensor(2026.5323, device='cuda:0', grad_fn=<AddBackward0>)Logits Loss 0\n",
      "Train Epoch: 26 [7680/8000 (96%)]\tLoss: 31.749178\n",
      "====> Epoch: 26 Average loss: 31.7944\n",
      "Train Epoch: 27 [0/8000 (0%)]\tLoss: 31.694437\n",
      "Loss tensor(2017.4868, device='cuda:0', grad_fn=<AddBackward0>)Logits Loss 0\n",
      "Train Epoch: 27 [1280/8000 (16%)]\tLoss: 31.714949\n",
      "Train Epoch: 27 [2560/8000 (32%)]\tLoss: 32.541992\n",
      "Train Epoch: 27 [3840/8000 (48%)]\tLoss: 31.881065\n",
      "Train Epoch: 27 [5120/8000 (64%)]\tLoss: 31.398956\n",
      "Train Epoch: 27 [6400/8000 (80%)]\tLoss: 31.476616\n",
      "Train Epoch: 27 [7680/8000 (96%)]\tLoss: 31.850748\n",
      "====> Epoch: 27 Average loss: 31.7481\n",
      "Train Epoch: 28 [0/8000 (0%)]\tLoss: 31.778194\n",
      "Train Epoch: 28 [1280/8000 (16%)]\tLoss: 31.693224\n",
      "Loss tensor(2037.1929, device='cuda:0', grad_fn=<AddBackward0>)Logits Loss 0\n",
      "Train Epoch: 28 [2560/8000 (32%)]\tLoss: 31.619194\n",
      "Train Epoch: 28 [3840/8000 (48%)]\tLoss: 31.754396\n",
      "Train Epoch: 28 [5120/8000 (64%)]\tLoss: 31.736765\n",
      "Train Epoch: 28 [6400/8000 (80%)]\tLoss: 31.690489\n",
      "Train Epoch: 28 [7680/8000 (96%)]\tLoss: 32.168854\n",
      "====> Epoch: 28 Average loss: 31.7114\n",
      "Train Epoch: 29 [0/8000 (0%)]\tLoss: 31.399633\n",
      "Train Epoch: 29 [1280/8000 (16%)]\tLoss: 32.010403\n",
      "Train Epoch: 29 [2560/8000 (32%)]\tLoss: 31.470449\n",
      "Train Epoch: 29 [3840/8000 (48%)]\tLoss: 31.648394\n",
      "Loss tensor(2063.6819, device='cuda:0', grad_fn=<AddBackward0>)Logits Loss 0\n",
      "Train Epoch: 29 [5120/8000 (64%)]\tLoss: 31.446550\n",
      "Train Epoch: 29 [6400/8000 (80%)]\tLoss: 31.671961\n",
      "Loss tensor(2050.8347, device='cuda:0', grad_fn=<AddBackward0>)Logits Loss 0\n",
      "Train Epoch: 29 [7680/8000 (96%)]\tLoss: 31.746277\n",
      "====> Epoch: 29 Average loss: 31.7254\n",
      "Train Epoch: 30 [0/8000 (0%)]\tLoss: 31.629374\n",
      "Train Epoch: 30 [1280/8000 (16%)]\tLoss: 31.529982\n",
      "Train Epoch: 30 [2560/8000 (32%)]\tLoss: 31.666431\n",
      "Train Epoch: 30 [3840/8000 (48%)]\tLoss: 31.628803\n",
      "Loss tensor(2041.2882, device='cuda:0', grad_fn=<AddBackward0>)Logits Loss 0\n"
     ]
    },
    {
     "name": "stdout",
     "output_type": "stream",
     "text": [
      "Train Epoch: 30 [5120/8000 (64%)]\tLoss: 31.283985\n",
      "Train Epoch: 30 [6400/8000 (80%)]\tLoss: 31.867334\n",
      "Loss tensor(2017.6396, device='cuda:0', grad_fn=<AddBackward0>)Logits Loss 0\n",
      "Train Epoch: 30 [7680/8000 (96%)]\tLoss: 32.003944\n",
      "====> Epoch: 30 Average loss: 31.7267\n",
      "Train Epoch: 31 [0/8000 (0%)]\tLoss: 31.712223\n",
      "Train Epoch: 31 [1280/8000 (16%)]\tLoss: 32.233299\n",
      "Train Epoch: 31 [2560/8000 (32%)]\tLoss: 31.543877\n",
      "Train Epoch: 31 [3840/8000 (48%)]\tLoss: 32.170395\n",
      "Train Epoch: 31 [5120/8000 (64%)]\tLoss: 31.638626\n",
      "Train Epoch: 31 [6400/8000 (80%)]\tLoss: 31.786312\n",
      "Train Epoch: 31 [7680/8000 (96%)]\tLoss: 31.387098\n",
      "====> Epoch: 31 Average loss: 31.6753\n",
      "Train Epoch: 32 [0/8000 (0%)]\tLoss: 31.530561\n",
      "Train Epoch: 32 [1280/8000 (16%)]\tLoss: 31.554827\n",
      "Train Epoch: 32 [2560/8000 (32%)]\tLoss: 31.597212\n",
      "Train Epoch: 32 [3840/8000 (48%)]\tLoss: 31.658976\n",
      "Train Epoch: 32 [5120/8000 (64%)]\tLoss: 31.851763\n",
      "Train Epoch: 32 [6400/8000 (80%)]\tLoss: 31.930906\n",
      "Train Epoch: 32 [7680/8000 (96%)]\tLoss: 31.751801\n",
      "====> Epoch: 32 Average loss: 31.7189\n",
      "Train Epoch: 33 [0/8000 (0%)]\tLoss: 31.953577\n",
      "Train Epoch: 33 [1280/8000 (16%)]\tLoss: 32.107094\n",
      "Loss tensor(2055.6050, device='cuda:0', grad_fn=<AddBackward0>)Logits Loss 0\n",
      "Train Epoch: 33 [2560/8000 (32%)]\tLoss: 31.942745\n",
      "Train Epoch: 33 [3840/8000 (48%)]\tLoss: 31.568970\n",
      "Train Epoch: 33 [5120/8000 (64%)]\tLoss: 31.276627\n",
      "Loss tensor(2025.4456, device='cuda:0', grad_fn=<AddBackward0>)Logits Loss 0\n",
      "Loss tensor(2038.8265, device='cuda:0', grad_fn=<AddBackward0>)Logits Loss 0\n",
      "Train Epoch: 33 [6400/8000 (80%)]\tLoss: 31.856665\n",
      "Train Epoch: 33 [7680/8000 (96%)]\tLoss: 31.517288\n",
      "====> Epoch: 33 Average loss: 31.6319\n",
      "Train Epoch: 34 [0/8000 (0%)]\tLoss: 31.979708\n",
      "Train Epoch: 34 [1280/8000 (16%)]\tLoss: 31.555330\n",
      "Train Epoch: 34 [2560/8000 (32%)]\tLoss: 31.313381\n",
      "Train Epoch: 34 [3840/8000 (48%)]\tLoss: 31.379276\n",
      "Train Epoch: 34 [5120/8000 (64%)]\tLoss: 31.273848\n",
      "Train Epoch: 34 [6400/8000 (80%)]\tLoss: 31.467899\n",
      "Train Epoch: 34 [7680/8000 (96%)]\tLoss: 31.258726\n",
      "====> Epoch: 34 Average loss: 31.6293\n",
      "Train Epoch: 35 [0/8000 (0%)]\tLoss: 31.909340\n",
      "Train Epoch: 35 [1280/8000 (16%)]\tLoss: 31.743784\n",
      "Train Epoch: 35 [2560/8000 (32%)]\tLoss: 32.094185\n",
      "Train Epoch: 35 [3840/8000 (48%)]\tLoss: 31.834276\n",
      "Train Epoch: 35 [5120/8000 (64%)]\tLoss: 31.956503\n",
      "Train Epoch: 35 [6400/8000 (80%)]\tLoss: 31.399767\n",
      "Train Epoch: 35 [7680/8000 (96%)]\tLoss: 31.491489\n",
      "====> Epoch: 35 Average loss: 31.6499\n",
      "Train Epoch: 36 [0/8000 (0%)]\tLoss: 31.521767\n",
      "Train Epoch: 36 [1280/8000 (16%)]\tLoss: 31.724777\n",
      "Train Epoch: 36 [2560/8000 (32%)]\tLoss: 31.174175\n",
      "Train Epoch: 36 [3840/8000 (48%)]\tLoss: 31.410326\n",
      "Train Epoch: 36 [5120/8000 (64%)]\tLoss: 31.502787\n",
      "Train Epoch: 36 [6400/8000 (80%)]\tLoss: 31.943480\n",
      "Loss tensor(2023.0924, device='cuda:0', grad_fn=<AddBackward0>)Logits Loss 0\n",
      "Train Epoch: 36 [7680/8000 (96%)]\tLoss: 31.929813\n",
      "====> Epoch: 36 Average loss: 31.5385\n",
      "Train Epoch: 37 [0/8000 (0%)]\tLoss: 31.009228\n",
      "Loss tensor(2046.9033, device='cuda:0', grad_fn=<AddBackward0>)Logits Loss 0\n",
      "Train Epoch: 37 [1280/8000 (16%)]\tLoss: 31.901958\n",
      "Train Epoch: 37 [2560/8000 (32%)]\tLoss: 31.917200\n",
      "Loss tensor(2005.9679, device='cuda:0', grad_fn=<AddBackward0>)Logits Loss 0\n",
      "Train Epoch: 37 [3840/8000 (48%)]\tLoss: 31.426434\n",
      "Train Epoch: 37 [5120/8000 (64%)]\tLoss: 31.400410\n",
      "Train Epoch: 37 [6400/8000 (80%)]\tLoss: 31.379459\n",
      "Train Epoch: 37 [7680/8000 (96%)]\tLoss: 31.338741\n",
      "====> Epoch: 37 Average loss: 31.5969\n",
      "Train Epoch: 38 [0/8000 (0%)]\tLoss: 31.698164\n",
      "Train Epoch: 38 [1280/8000 (16%)]\tLoss: 31.541611\n",
      "Train Epoch: 38 [2560/8000 (32%)]\tLoss: 31.530859\n",
      "Train Epoch: 38 [3840/8000 (48%)]\tLoss: 31.382122\n",
      "Train Epoch: 38 [5120/8000 (64%)]\tLoss: 31.397694\n",
      "Train Epoch: 38 [6400/8000 (80%)]\tLoss: 31.385649\n",
      "Train Epoch: 38 [7680/8000 (96%)]\tLoss: 31.437428\n",
      "====> Epoch: 38 Average loss: 31.5974\n",
      "Train Epoch: 39 [0/8000 (0%)]\tLoss: 31.468916\n",
      "Train Epoch: 39 [1280/8000 (16%)]\tLoss: 31.576136\n",
      "Train Epoch: 39 [2560/8000 (32%)]\tLoss: 31.618536\n",
      "Train Epoch: 39 [3840/8000 (48%)]\tLoss: 31.377943\n",
      "Train Epoch: 39 [5120/8000 (64%)]\tLoss: 31.042082\n",
      "Train Epoch: 39 [6400/8000 (80%)]\tLoss: 31.150736\n",
      "Train Epoch: 39 [7680/8000 (96%)]\tLoss: 31.417496\n",
      "====> Epoch: 39 Average loss: 31.5184\n",
      "Train Epoch: 40 [0/8000 (0%)]\tLoss: 31.232168\n",
      "Train Epoch: 40 [1280/8000 (16%)]\tLoss: 31.577467\n",
      "Train Epoch: 40 [2560/8000 (32%)]\tLoss: 31.347515\n",
      "Train Epoch: 40 [3840/8000 (48%)]\tLoss: 31.506218\n",
      "Train Epoch: 40 [5120/8000 (64%)]\tLoss: 31.807083\n",
      "Train Epoch: 40 [6400/8000 (80%)]\tLoss: 31.752663\n",
      "Loss tensor(2047.7717, device='cuda:0', grad_fn=<AddBackward0>)Logits Loss 0\n",
      "Train Epoch: 40 [7680/8000 (96%)]\tLoss: 31.384510\n",
      "====> Epoch: 40 Average loss: 31.5385\n",
      "Train Epoch: 41 [0/8000 (0%)]\tLoss: 31.385225\n",
      "Train Epoch: 41 [1280/8000 (16%)]\tLoss: 31.496498\n",
      "Train Epoch: 41 [2560/8000 (32%)]\tLoss: 32.381718\n",
      "Train Epoch: 41 [3840/8000 (48%)]\tLoss: 31.319902\n",
      "Loss tensor(2040.4495, device='cuda:0', grad_fn=<AddBackward0>)Logits Loss 0\n",
      "Train Epoch: 41 [5120/8000 (64%)]\tLoss: 31.124792\n",
      "Train Epoch: 41 [6400/8000 (80%)]\tLoss: 31.564478\n",
      "Train Epoch: 41 [7680/8000 (96%)]\tLoss: 30.959923\n",
      "====> Epoch: 41 Average loss: 31.5988\n",
      "Train Epoch: 42 [0/8000 (0%)]\tLoss: 31.619085\n",
      "Train Epoch: 42 [1280/8000 (16%)]\tLoss: 31.605116\n",
      "Train Epoch: 42 [2560/8000 (32%)]\tLoss: 31.462248\n",
      "Train Epoch: 42 [3840/8000 (48%)]\tLoss: 31.624502\n",
      "Train Epoch: 42 [5120/8000 (64%)]\tLoss: 31.556076\n",
      "Train Epoch: 42 [6400/8000 (80%)]\tLoss: 31.740017\n",
      "Loss tensor(2030.0753, device='cuda:0', grad_fn=<AddBackward0>)Logits Loss 0\n",
      "Train Epoch: 42 [7680/8000 (96%)]\tLoss: 31.525927\n",
      "====> Epoch: 42 Average loss: 31.5278\n",
      "Train Epoch: 43 [0/8000 (0%)]\tLoss: 31.513638\n",
      "Train Epoch: 43 [1280/8000 (16%)]\tLoss: 31.711435\n",
      "Train Epoch: 43 [2560/8000 (32%)]\tLoss: 31.252312\n",
      "Train Epoch: 43 [3840/8000 (48%)]\tLoss: 31.274441\n",
      "Train Epoch: 43 [5120/8000 (64%)]\tLoss: 31.739723\n",
      "Train Epoch: 43 [6400/8000 (80%)]\tLoss: 31.287230\n",
      "Train Epoch: 43 [7680/8000 (96%)]\tLoss: 31.475868\n",
      "====> Epoch: 43 Average loss: 31.5526\n",
      "Train Epoch: 44 [0/8000 (0%)]\tLoss: 31.311316\n",
      "Train Epoch: 44 [1280/8000 (16%)]\tLoss: 31.281162\n",
      "Train Epoch: 44 [2560/8000 (32%)]\tLoss: 31.441246\n",
      "Train Epoch: 44 [3840/8000 (48%)]\tLoss: 31.407860\n",
      "Loss tensor(2041.0902, device='cuda:0', grad_fn=<AddBackward0>)Logits Loss 0\n",
      "Train Epoch: 44 [5120/8000 (64%)]\tLoss: 31.556908\n",
      "Train Epoch: 44 [6400/8000 (80%)]\tLoss: 32.210300\n",
      "Train Epoch: 44 [7680/8000 (96%)]\tLoss: 31.453249\n",
      "====> Epoch: 44 Average loss: 31.5143\n",
      "Train Epoch: 45 [0/8000 (0%)]\tLoss: 31.422691\n",
      "Train Epoch: 45 [1280/8000 (16%)]\tLoss: 31.903797\n",
      "Train Epoch: 45 [2560/8000 (32%)]\tLoss: 31.511189\n",
      "Train Epoch: 45 [3840/8000 (48%)]\tLoss: 31.928566\n",
      "Train Epoch: 45 [5120/8000 (64%)]\tLoss: 31.015783\n",
      "Train Epoch: 45 [6400/8000 (80%)]\tLoss: 31.533514\n",
      "Train Epoch: 45 [7680/8000 (96%)]\tLoss: 31.090534\n",
      "====> Epoch: 45 Average loss: 31.5027\n",
      "Train Epoch: 46 [0/8000 (0%)]\tLoss: 31.233376\n",
      "Loss tensor(2023.5682, device='cuda:0', grad_fn=<AddBackward0>)Logits Loss 0\n",
      "Train Epoch: 46 [1280/8000 (16%)]\tLoss: 31.540956\n",
      "Train Epoch: 46 [2560/8000 (32%)]\tLoss: 31.405148\n",
      "Loss tensor(2017.7552, device='cuda:0', grad_fn=<AddBackward0>)Logits Loss 0\n",
      "Train Epoch: 46 [3840/8000 (48%)]\tLoss: 31.578058\n",
      "Train Epoch: 46 [5120/8000 (64%)]\tLoss: 31.827717\n",
      "Train Epoch: 46 [6400/8000 (80%)]\tLoss: 32.103527\n",
      "Train Epoch: 46 [7680/8000 (96%)]\tLoss: 31.891657\n",
      "====> Epoch: 46 Average loss: 31.5511\n",
      "Train Epoch: 47 [0/8000 (0%)]\tLoss: 31.509769\n",
      "Train Epoch: 47 [1280/8000 (16%)]\tLoss: 31.285961\n",
      "Train Epoch: 47 [2560/8000 (32%)]\tLoss: 31.524090\n",
      "Train Epoch: 47 [3840/8000 (48%)]\tLoss: 31.553711\n",
      "Train Epoch: 47 [5120/8000 (64%)]\tLoss: 31.220358\n",
      "Train Epoch: 47 [6400/8000 (80%)]\tLoss: 31.588581\n",
      "Loss tensor(2009.5848, device='cuda:0', grad_fn=<AddBackward0>)Logits Loss 0\n",
      "Train Epoch: 47 [7680/8000 (96%)]\tLoss: 31.893068\n",
      "====> Epoch: 47 Average loss: 31.5198\n",
      "Train Epoch: 48 [0/8000 (0%)]\tLoss: 31.191652\n",
      "Train Epoch: 48 [1280/8000 (16%)]\tLoss: 33.158764\n",
      "Train Epoch: 48 [2560/8000 (32%)]\tLoss: 31.370216\n",
      "Train Epoch: 48 [3840/8000 (48%)]\tLoss: 31.171577\n",
      "Train Epoch: 48 [5120/8000 (64%)]\tLoss: 31.623451\n",
      "Loss tensor(2023.6919, device='cuda:0', grad_fn=<AddBackward0>)Logits Loss 0\n",
      "Train Epoch: 48 [6400/8000 (80%)]\tLoss: 31.712229\n",
      "Train Epoch: 48 [7680/8000 (96%)]\tLoss: 31.503870\n",
      "====> Epoch: 48 Average loss: 31.5424\n",
      "Train Epoch: 49 [0/8000 (0%)]\tLoss: 31.117315\n"
     ]
    },
    {
     "name": "stdout",
     "output_type": "stream",
     "text": [
      "Train Epoch: 49 [1280/8000 (16%)]\tLoss: 31.227770\n",
      "Loss tensor(2022.8519, device='cuda:0', grad_fn=<AddBackward0>)Logits Loss 0\n",
      "Train Epoch: 49 [2560/8000 (32%)]\tLoss: 31.775154\n",
      "Loss tensor(2023.0359, device='cuda:0', grad_fn=<AddBackward0>)Logits Loss 0\n",
      "Train Epoch: 49 [3840/8000 (48%)]\tLoss: 30.957611\n",
      "Train Epoch: 49 [5120/8000 (64%)]\tLoss: 31.294201\n",
      "Train Epoch: 49 [6400/8000 (80%)]\tLoss: 31.297764\n",
      "Train Epoch: 49 [7680/8000 (96%)]\tLoss: 31.139065\n",
      "====> Epoch: 49 Average loss: 31.5288\n",
      "Train Epoch: 50 [0/8000 (0%)]\tLoss: 31.401352\n",
      "Train Epoch: 50 [1280/8000 (16%)]\tLoss: 31.260931\n",
      "Train Epoch: 50 [2560/8000 (32%)]\tLoss: 31.553074\n",
      "Train Epoch: 50 [3840/8000 (48%)]\tLoss: 31.372044\n",
      "Train Epoch: 50 [5120/8000 (64%)]\tLoss: 31.241632\n",
      "Train Epoch: 50 [6400/8000 (80%)]\tLoss: 32.108192\n",
      "Train Epoch: 50 [7680/8000 (96%)]\tLoss: 31.437546\n",
      "====> Epoch: 50 Average loss: 31.5506\n"
     ]
    }
   ],
   "source": [
    "gradients_before_burnin = torch.zeros(train_data.shape[1]).to(device)\n",
    "gradient_post_burn_in = torch.zeros(train_data.shape[1]).to(device)\n",
    "\n",
    "for epoch in range(1, n_epochs+1):\n",
    "    grads=train_truncated_with_gradients_gumbel_state(train_data, vae_gumbel_truncated, \n",
    "                                                      vae_gumbel_trunc_optimizer, \n",
    "                                                      epoch, \n",
    "                                                      batch_size, \n",
    "                                                      Dim = 2*D,\n",
    "                                                      logits_changed_loss_lambda=logits_changed_loss_lambda,\n",
    "                                                      DEBUG = True)\n",
    "    \n",
    "    if vae_gumbel_truncated.t >= 0.01:\n",
    "        vae_gumbel_truncated.t *= 0.75\n",
    "    if epoch > 5 and epoch <25:\n",
    "        gradients_before_burnin += grads\n",
    "    if epoch == 25:\n",
    "        with torch.no_grad():\n",
    "            # collect a version of the select keys at this point\n",
    "            print(\"GUMBEL DEBUG\")\n",
    "            w = vae_gumbel_truncated.weight_creator(test_data[0:10, :])\n",
    "            subset_indices_before_burnin = sample_subset(w, k=3*z_size, t=0.01).cpu()\n",
    "        \n",
    "        print(\"BURN IN DEBUG\")\n",
    "        vae_gumbel_truncated.set_burned_in()\n",
    "        #vae_gumbel_truncated.t /= 10\n",
    "        print(\"Going post burn in\")\n",
    "    if epoch > 24:\n",
    "        gradient_post_burn_in += grads\n",
    "        \n",
    "with torch.no_grad():\n",
    "    w = vae_gumbel_truncated.weight_creator(test_data[0:10, :])\n",
    "    subset_indices_post_burnin = sample_subset(w, k=3*z_size, t=0.01).cpu()"
   ]
  },
  {
   "cell_type": "code",
   "execution_count": 37,
   "metadata": {},
   "outputs": [
    {
     "name": "stdout",
     "output_type": "stream",
     "text": [
      "tensor(17196.4551, device='cuda:0')\n",
      "tensor(3842.1572, device='cuda:0')\n"
     ]
    },
    {
     "data": {
      "text/plain": [
       "<matplotlib.axes._subplots.AxesSubplot at 0x7fd45187c7d0>"
      ]
     },
     "execution_count": 37,
     "metadata": {},
     "output_type": "execute_result"
    },
    {
     "data": {
      "image/png": "[encoded data removed]",
      "text/plain": [
       "<Figure size 432x288 with 2 Axes>"
      ]
     },
     "metadata": {
      "needs_background": "light"
     },
     "output_type": "display_data"
    }
   ],
   "source": [
    "print(gradients_before_burnin[:(D)].mean())\n",
    "print(gradients_before_burnin[(D):].mean())\n",
    "sns.heatmap(gradients_before_burnin.clone().detach().cpu().numpy()[:, np.newaxis])\n"
   ]
  },
  {
   "cell_type": "code",
   "execution_count": 38,
   "metadata": {},
   "outputs": [
    {
     "name": "stdout",
     "output_type": "stream",
     "text": [
      "tensor(60232.6914, device='cuda:0')\n",
      "tensor(8670.8799, device='cuda:0')\n"
     ]
    },
    {
     "data": {
      "text/plain": [
       "<matplotlib.axes._subplots.AxesSubplot at 0x7fd450559210>"
      ]
     },
     "execution_count": 38,
     "metadata": {},
     "output_type": "execute_result"
    },
    {
     "data": {
      "image/png": "[encoded data removed]",
      "text/plain": [
       "<Figure size 432x288 with 2 Axes>"
      ]
     },
     "metadata": {
      "needs_background": "light"
     },
     "output_type": "display_data"
    }
   ],
   "source": [
    "print(gradient_post_burn_in[:D].mean())\n",
    "print(gradient_post_burn_in[D:].mean())\n",
    "sns.heatmap(gradient_post_burn_in.clone().detach().cpu().numpy()[:, np.newaxis])"
   ]
  },
  {
   "cell_type": "code",
   "execution_count": 39,
   "metadata": {},
   "outputs": [
    {
     "name": "stdout",
     "output_type": "stream",
     "text": [
      "tensor(4.4151)\n",
      "tensor(3.5849)\n"
     ]
    },
    {
     "data": {
      "text/plain": [
       "<matplotlib.axes._subplots.AxesSubplot at 0x7fd450447390>"
      ]
     },
     "execution_count": 39,
     "metadata": {},
     "output_type": "execute_result"
    },
    {
     "data": {
      "image/png": "[encoded data removed]",
      "text/plain": [
       "<Figure size 432x288 with 2 Axes>"
      ]
     },
     "metadata": {
      "needs_background": "light"
     },
     "output_type": "display_data"
    }
   ],
   "source": [
    "print(subset_indices_before_burnin.sum(dim = 0)[:D].mean())\n",
    "print(subset_indices_before_burnin.sum(dim = 0)[D:].mean())\n",
    "sns.heatmap(subset_indices_before_burnin.sum(dim = 0).clone().detach().cpu().numpy()[:, np.newaxis])"
   ]
  },
  {
   "cell_type": "code",
   "execution_count": 40,
   "metadata": {},
   "outputs": [
    {
     "name": "stdout",
     "output_type": "stream",
     "text": [
      "tensor(4.3096)\n",
      "tensor(3.6904)\n"
     ]
    },
    {
     "data": {
      "text/plain": [
       "<matplotlib.axes._subplots.AxesSubplot at 0x7fd450395310>"
      ]
     },
     "execution_count": 40,
     "metadata": {},
     "output_type": "execute_result"
    },
    {
     "data": {
      "image/png": "[encoded data removed]",
      "text/plain": [
       "<Figure size 432x288 with 2 Axes>"
      ]
     },
     "metadata": {
      "needs_background": "light"
     },
     "output_type": "display_data"
    }
   ],
   "source": [
    "print(subset_indices_post_burnin.sum(dim = 0)[:D].mean())\n",
    "print(subset_indices_post_burnin.sum(dim = 0)[D:].mean())\n",
    "sns.heatmap(subset_indices_post_burnin.sum(dim = 0).clone().detach().cpu().numpy()[:, np.newaxis])"
   ]
  },
  {
   "cell_type": "code",
   "execution_count": 41,
   "metadata": {},
   "outputs": [
    {
     "data": {
      "text/plain": [
       "tensor(6)"
      ]
     },
     "execution_count": 41,
     "metadata": {},
     "output_type": "execute_result"
    }
   ],
   "source": [
    "(subset_indices_post_burnin.sum(dim = 0)[:(D//2)] > 0).sum()"
   ]
  },
  {
   "cell_type": "code",
   "execution_count": 42,
   "metadata": {},
   "outputs": [
    {
     "data": {
      "text/plain": [
       "tensor(17)"
      ]
     },
     "execution_count": 42,
     "metadata": {},
     "output_type": "execute_result"
    }
   ],
   "source": [
    "(subset_indices_post_burnin.sum(dim = 0)[(D//2):] > 0).sum()"
   ]
  },
  {
   "cell_type": "code",
   "execution_count": 43,
   "metadata": {},
   "outputs": [
    {
     "data": {
      "text/plain": [
       "tensor([ 0.0000,  7.5124,  0.0000, 13.7548,  2.0000,  0.0000, 11.0219, 10.0003,\n",
       "         0.0000,  0.0000,  0.0000, 10.0000,  0.0000,  0.0000,  0.0000])"
      ]
     },
     "execution_count": 43,
     "metadata": {},
     "output_type": "execute_result"
    }
   ],
   "source": [
    "subset_indices_post_burnin.sum(dim = 0)[:(D//2)]"
   ]
  },
  {
   "cell_type": "code",
   "execution_count": 44,
   "metadata": {},
   "outputs": [
    {
     "data": {
      "text/plain": [
       "tensor([10.9268,  0.0000, 10.0000,  0.0000, 10.9597, 10.9288,  0.0000, 10.9957,\n",
       "        11.1886, 10.0000,  0.0000,  0.0000,  0.0000,  0.0000,  0.0000,  0.0000,\n",
       "         0.0000,  0.0000,  4.0000,  0.0000,  0.0000,  0.0000,  0.0000,  0.0000,\n",
       "        11.5824,  0.0000, 10.8844,  0.0000, 14.0204,  0.0000,  0.0000,  0.0000,\n",
       "         0.0000, 11.9410,  0.0000,  0.0000, 10.0001, 11.9627, 10.0843,  0.0000,\n",
       "         0.0000,  0.0000, 11.9997, 14.2360,  0.0000])"
      ]
     },
     "execution_count": 44,
     "metadata": {},
     "output_type": "execute_result"
    }
   ],
   "source": [
    "subset_indices_post_burnin.sum(dim = 0)[(D//2):]"
   ]
  },
  {
   "cell_type": "code",
   "execution_count": 45,
   "metadata": {},
   "outputs": [
    {
     "data": {
      "text/plain": [
       "tensor(-131.4212)"
      ]
     },
     "execution_count": 45,
     "metadata": {},
     "output_type": "execute_result"
    }
   ],
   "source": [
    "subset_indices_post_burnin.sum(dim = 0)[:(D//2)].sum() - subset_indices_post_burnin.sum(dim = 0)[(D//2):].sum()"
   ]
  },
  {
   "cell_type": "code",
   "execution_count": 52,
   "metadata": {},
   "outputs": [],
   "source": [
    "top_ind = torch.argsort(sample_subset(vae_gumbel_truncated.logit_enc, k = 3*z_size, t= 0.0001), \n",
    "                        descending = True)[0, :3*z_size]"
   ]
  },
  {
   "cell_type": "code",
   "execution_count": 53,
   "metadata": {},
   "outputs": [
    {
     "data": {
      "text/plain": [
       "tensor(13, device='cuda:0')"
      ]
     },
     "execution_count": 53,
     "metadata": {},
     "output_type": "execute_result"
    }
   ],
   "source": [
    "sum(top_ind < 30)"
   ]
  },
  {
   "cell_type": "code",
   "execution_count": 54,
   "metadata": {},
   "outputs": [
    {
     "data": {
      "text/plain": [
       "tensor(11, device='cuda:0')"
      ]
     },
     "execution_count": 54,
     "metadata": {},
     "output_type": "execute_result"
    }
   ],
   "source": [
    "sum(top_ind >= 30)"
   ]
  },
  {
   "cell_type": "code",
   "execution_count": 55,
   "metadata": {},
   "outputs": [
    {
     "data": {
      "text/plain": [
       "tensor([31, 29, 26, 27, 19, 20, 37, 39, 16, 12, 13,  9,  8, 15, 21, 22, 44, 40,\n",
       "        41, 42, 33, 36, 50, 58], device='cuda:0')"
      ]
     },
     "execution_count": 55,
     "metadata": {},
     "output_type": "execute_result"
    }
   ],
   "source": [
    "top_ind"
   ]
  },
  {
   "cell_type": "code",
   "execution_count": null,
   "metadata": {},
   "outputs": [],
   "source": []
  }
 ],
 "metadata": {
  "kernelspec": {
   "display_name": "Python [conda env:nyu] *",
   "language": "python",
   "name": "conda-env-nyu-py"
  },
  "language_info": {
   "codemirror_mode": {
    "name": "ipython",
    "version": 3
   },
   "file_extension": ".py",
   "mimetype": "text/x-python",
   "name": "python",
   "nbconvert_exporter": "python",
   "pygments_lexer": "ipython3",
   "version": "3.7.6"
  }
 },
 "nbformat": 4,
 "nbformat_minor": 4
}
