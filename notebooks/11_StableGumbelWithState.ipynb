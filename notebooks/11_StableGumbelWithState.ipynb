{
 "cells": [
  {
   "cell_type": "markdown",
   "metadata": {},
   "source": [
    "So we know from Notebook 10 that trying to make it learn one set of logits per batch is good and gets features right.\n",
    "\n",
    "How can we make the logits consistent over batches?"
   ]
  },
  {
   "cell_type": "markdown",
   "metadata": {},
   "source": [
    "Will collect the gradients and gumbel selected values after 5 epochs in each mode. The two modes will be the behavior before burn-in and the behavior after mode-in."
   ]
  },
  {
   "cell_type": "markdown",
   "metadata": {},
   "source": [
    "Will follow Notebook 10 with slight modifications (described right before). Remember in Notebook 10, we explored behaviors when all the features were real vs when half the features were noise."
   ]
  },
  {
   "cell_type": "code",
   "execution_count": 1,
   "metadata": {},
   "outputs": [],
   "source": [
    "import torch\n",
    "\n",
    "\n",
    "from torch import nn\n",
    "from torch.autograd import Variable\n",
    "from torch.nn import functional as F\n",
    "\n",
    "import numpy as np\n",
    "\n",
    "import matplotlib.pyplot as plt\n",
    "#from sklearn.manifold import TSNE\n",
    "\n",
    "#import math\n",
    "\n",
    "#import gc\n",
    "\n",
    "from utils import *\n",
    "\n",
    "from sklearn.preprocessing import MinMaxScaler\n",
    "\n",
    "from scipy.stats import pearsonr\n",
    "\n",
    "import seaborn as sns"
   ]
  },
  {
   "cell_type": "code",
   "execution_count": 2,
   "metadata": {},
   "outputs": [],
   "source": [
    "torch.manual_seed(0)\n",
    "np.random.seed(0)"
   ]
  },
  {
   "cell_type": "code",
   "execution_count": 3,
   "metadata": {},
   "outputs": [],
   "source": [
    "# really good results for vanilla VAE on synthetic data with EPOCHS set to 50, \n",
    "# but when running locally set to 10 for reasonable run times\n",
    "n_epochs = 50\n",
    "batch_size = 64\n",
    "lr = 0.0001\n",
    "b1 = 0.9\n",
    "b2 = 0.999"
   ]
  },
  {
   "cell_type": "code",
   "execution_count": 4,
   "metadata": {},
   "outputs": [
    {
     "name": "stdout",
     "output_type": "stream",
     "text": [
      "Device\n",
      "cuda:0\n"
     ]
    }
   ],
   "source": [
    "cuda = True if torch.cuda.is_available() else False\n",
    "\n",
    "Tensor = torch.cuda.FloatTensor if cuda else torch.FloatTensor\n",
    "\n",
    "device = torch.device(\"cuda:0\" if cuda else \"cpu\")\n",
    "#device = 'cpu'\n",
    "print(\"Device\")\n",
    "print(device)"
   ]
  },
  {
   "cell_type": "code",
   "execution_count": 5,
   "metadata": {},
   "outputs": [],
   "source": [
    "D = 30\n",
    "N = 5000\n",
    "z_size = 5"
   ]
  },
  {
   "cell_type": "code",
   "execution_count": 6,
   "metadata": {},
   "outputs": [
    {
     "name": "stdout",
     "output_type": "stream",
     "text": [
      "tensor(19, device='cuda:0')\n",
      "tensor(12, device='cuda:0')\n",
      "tensor(18, device='cuda:0')\n",
      "tensor(14, device='cuda:0')\n",
      "tensor(14, device='cuda:0')\n"
     ]
    }
   ],
   "source": [
    "torch.manual_seed(0)\n",
    "np.random.seed(0)\n",
    "\n",
    "latent_data = np.random.normal(loc=0.0, scale=1.0, size=N*z_size).reshape(N, z_size)\n",
    "\n",
    "data_mapper = nn.Sequential(\n",
    "    nn.Linear(z_size, 2 * z_size, bias=False),\n",
    "    nn.Tanh(),\n",
    "    nn.Linear(2 * z_size, D, bias = True),\n",
    "    nn.ReLU()\n",
    ").to(device)\n",
    "\n",
    "data_mapper.requires_grad_(False)\n",
    "\n",
    "latent_data = Tensor(latent_data)\n",
    "latent_data.requires_grad_(False)\n",
    "\n",
    "actual_data = data_mapper(latent_data)\n",
    "\n",
    "\n",
    "for i in range(5):\n",
    "    print(torch.sum(actual_data[i,:] != 0))\n",
    "    \n",
    "actual_data = actual_data.cpu().numpy()\n",
    "scaler = MinMaxScaler()\n",
    "actual_data = scaler.fit_transform(actual_data)\n",
    "\n",
    "actual_data = Tensor(actual_data)\n",
    "\n",
    "slices = np.random.permutation(np.arange(actual_data.shape[0]))\n",
    "upto = int(.8 * len(actual_data))\n",
    "\n",
    "train_data = actual_data[slices[:upto]]\n",
    "test_data = actual_data[slices[upto:]]"
   ]
  },
  {
   "cell_type": "code",
   "execution_count": 7,
   "metadata": {},
   "outputs": [],
   "source": [
    "global_t = 1\n",
    "logits_changed_loss_lambda = .01"
   ]
  },
  {
   "cell_type": "markdown",
   "metadata": {},
   "source": [
    "Example of what worked before"
   ]
  },
  {
   "cell_type": "code",
   "execution_count": 8,
   "metadata": {},
   "outputs": [],
   "source": [
    "vae_gumbel_truncated = VAE_Gumbel_NInsta(D, 100, 20, k = 3*z_size, t = global_t)\n",
    "vae_gumbel_truncated.to(device)\n",
    "vae_gumbel_trunc_optimizer = torch.optim.Adam(vae_gumbel_truncated.parameters(), \n",
    "                                                lr=lr, \n",
    "                                                betas = (b1,b2))"
   ]
  },
  {
   "cell_type": "code",
   "execution_count": 9,
   "metadata": {},
   "outputs": [
    {
     "name": "stdout",
     "output_type": "stream",
     "text": [
      "Train Epoch: 1 [0/4000 (0%)]\tLoss: 10.297486\n",
      "Train Epoch: 1 [1280/4000 (32%)]\tLoss: 9.840182\n",
      "Train Epoch: 1 [2560/4000 (64%)]\tLoss: 9.418898\n",
      "Train Epoch: 1 [3840/4000 (96%)]\tLoss: 8.914977\n",
      "====> Epoch: 1 Average loss: 9.6234\n",
      "Train Epoch: 2 [0/4000 (0%)]\tLoss: 8.954686\n",
      "Train Epoch: 2 [1280/4000 (32%)]\tLoss: 8.584979\n",
      "Train Epoch: 2 [2560/4000 (64%)]\tLoss: 8.056874\n",
      "Train Epoch: 2 [3840/4000 (96%)]\tLoss: 7.609637\n",
      "====> Epoch: 2 Average loss: 8.3221\n",
      "Train Epoch: 3 [0/4000 (0%)]\tLoss: 7.672081\n",
      "Train Epoch: 3 [1280/4000 (32%)]\tLoss: 7.240375\n",
      "Train Epoch: 3 [2560/4000 (64%)]\tLoss: 7.165366\n",
      "Train Epoch: 3 [3840/4000 (96%)]\tLoss: 6.891551\n",
      "====> Epoch: 3 Average loss: 7.2920\n",
      "Train Epoch: 4 [0/4000 (0%)]\tLoss: 6.943859\n",
      "Train Epoch: 4 [1280/4000 (32%)]\tLoss: 7.022769\n",
      "Train Epoch: 4 [2560/4000 (64%)]\tLoss: 6.758886\n",
      "Train Epoch: 4 [3840/4000 (96%)]\tLoss: 7.039759\n",
      "====> Epoch: 4 Average loss: 6.8681\n",
      "Train Epoch: 5 [0/4000 (0%)]\tLoss: 6.857256\n",
      "Train Epoch: 5 [1280/4000 (32%)]\tLoss: 6.786737\n",
      "Train Epoch: 5 [2560/4000 (64%)]\tLoss: 6.824424\n",
      "Train Epoch: 5 [3840/4000 (96%)]\tLoss: 6.651622\n",
      "====> Epoch: 5 Average loss: 6.6817\n",
      "Train Epoch: 6 [0/4000 (0%)]\tLoss: 6.859520\n",
      "Train Epoch: 6 [1280/4000 (32%)]\tLoss: 6.637350\n",
      "Train Epoch: 6 [2560/4000 (64%)]\tLoss: 6.495406\n",
      "Train Epoch: 6 [3840/4000 (96%)]\tLoss: 6.682866\n",
      "====> Epoch: 6 Average loss: 6.5564\n",
      "Train Epoch: 7 [0/4000 (0%)]\tLoss: 6.771147\n",
      "Train Epoch: 7 [1280/4000 (32%)]\tLoss: 6.233222\n",
      "Train Epoch: 7 [2560/4000 (64%)]\tLoss: 6.268213\n",
      "Train Epoch: 7 [3840/4000 (96%)]\tLoss: 6.640866\n",
      "====> Epoch: 7 Average loss: 6.4723\n",
      "Train Epoch: 8 [0/4000 (0%)]\tLoss: 6.430346\n",
      "Train Epoch: 8 [1280/4000 (32%)]\tLoss: 6.357589\n",
      "Train Epoch: 8 [2560/4000 (64%)]\tLoss: 6.726734\n",
      "Train Epoch: 8 [3840/4000 (96%)]\tLoss: 6.538058\n",
      "====> Epoch: 8 Average loss: 6.4105\n",
      "Train Epoch: 9 [0/4000 (0%)]\tLoss: 6.562922\n",
      "Train Epoch: 9 [1280/4000 (32%)]\tLoss: 6.124368\n",
      "Train Epoch: 9 [2560/4000 (64%)]\tLoss: 6.464025\n",
      "Train Epoch: 9 [3840/4000 (96%)]\tLoss: 6.359977\n",
      "====> Epoch: 9 Average loss: 6.3662\n",
      "Train Epoch: 10 [0/4000 (0%)]\tLoss: 6.223529\n",
      "Train Epoch: 10 [1280/4000 (32%)]\tLoss: 6.356201\n",
      "Train Epoch: 10 [2560/4000 (64%)]\tLoss: 6.627072\n",
      "Train Epoch: 10 [3840/4000 (96%)]\tLoss: 6.538024\n",
      "====> Epoch: 10 Average loss: 6.3298\n",
      "Train Epoch: 11 [0/4000 (0%)]\tLoss: 6.305661\n",
      "Train Epoch: 11 [1280/4000 (32%)]\tLoss: 6.408250\n",
      "Train Epoch: 11 [2560/4000 (64%)]\tLoss: 6.136200\n",
      "Train Epoch: 11 [3840/4000 (96%)]\tLoss: 6.404151\n",
      "====> Epoch: 11 Average loss: 6.2914\n",
      "Train Epoch: 12 [0/4000 (0%)]\tLoss: 6.381619\n",
      "Train Epoch: 12 [1280/4000 (32%)]\tLoss: 6.138576\n",
      "Train Epoch: 12 [2560/4000 (64%)]\tLoss: 6.090304\n",
      "Train Epoch: 12 [3840/4000 (96%)]\tLoss: 6.296544\n",
      "====> Epoch: 12 Average loss: 6.2588\n",
      "Train Epoch: 13 [0/4000 (0%)]\tLoss: 6.110491\n",
      "Train Epoch: 13 [1280/4000 (32%)]\tLoss: 6.255518\n",
      "Train Epoch: 13 [2560/4000 (64%)]\tLoss: 6.236282\n",
      "Train Epoch: 13 [3840/4000 (96%)]\tLoss: 6.213105\n",
      "====> Epoch: 13 Average loss: 6.2250\n",
      "Train Epoch: 14 [0/4000 (0%)]\tLoss: 6.014791\n",
      "Train Epoch: 14 [1280/4000 (32%)]\tLoss: 6.115994\n",
      "Train Epoch: 14 [2560/4000 (64%)]\tLoss: 6.258443\n",
      "Train Epoch: 14 [3840/4000 (96%)]\tLoss: 6.082945\n",
      "====> Epoch: 14 Average loss: 6.1802\n",
      "Train Epoch: 15 [0/4000 (0%)]\tLoss: 6.299628\n",
      "Train Epoch: 15 [1280/4000 (32%)]\tLoss: 6.350101\n",
      "Train Epoch: 15 [2560/4000 (64%)]\tLoss: 6.099058\n",
      "Train Epoch: 15 [3840/4000 (96%)]\tLoss: 5.668539\n",
      "====> Epoch: 15 Average loss: 6.1430\n",
      "Train Epoch: 16 [0/4000 (0%)]\tLoss: 5.836771\n",
      "Train Epoch: 16 [1280/4000 (32%)]\tLoss: 5.925813\n",
      "Train Epoch: 16 [2560/4000 (64%)]\tLoss: 5.928542\n",
      "Train Epoch: 16 [3840/4000 (96%)]\tLoss: 5.798559\n",
      "====> Epoch: 16 Average loss: 6.1034\n",
      "Train Epoch: 17 [0/4000 (0%)]\tLoss: 6.372008\n",
      "Train Epoch: 17 [1280/4000 (32%)]\tLoss: 6.434513\n",
      "Train Epoch: 17 [2560/4000 (64%)]\tLoss: 6.138675\n",
      "Train Epoch: 17 [3840/4000 (96%)]\tLoss: 5.914778\n",
      "====> Epoch: 17 Average loss: 6.0613\n",
      "Train Epoch: 18 [0/4000 (0%)]\tLoss: 5.953073\n",
      "Train Epoch: 18 [1280/4000 (32%)]\tLoss: 6.230177\n",
      "Train Epoch: 18 [2560/4000 (64%)]\tLoss: 6.005121\n",
      "Train Epoch: 18 [3840/4000 (96%)]\tLoss: 5.967504\n",
      "====> Epoch: 18 Average loss: 6.0213\n",
      "Train Epoch: 19 [0/4000 (0%)]\tLoss: 5.696188\n",
      "Train Epoch: 19 [1280/4000 (32%)]\tLoss: 5.850424\n",
      "Train Epoch: 19 [2560/4000 (64%)]\tLoss: 5.802876\n",
      "Train Epoch: 19 [3840/4000 (96%)]\tLoss: 6.036732\n",
      "====> Epoch: 19 Average loss: 5.9659\n",
      "Train Epoch: 20 [0/4000 (0%)]\tLoss: 5.760205\n",
      "Train Epoch: 20 [1280/4000 (32%)]\tLoss: 5.672626\n",
      "Train Epoch: 20 [2560/4000 (64%)]\tLoss: 6.474115\n",
      "Train Epoch: 20 [3840/4000 (96%)]\tLoss: 5.778039\n",
      "====> Epoch: 20 Average loss: 5.9388\n",
      "Train Epoch: 21 [0/4000 (0%)]\tLoss: 6.026989\n",
      "Train Epoch: 21 [1280/4000 (32%)]\tLoss: 6.102548\n",
      "Train Epoch: 21 [2560/4000 (64%)]\tLoss: 6.055316\n",
      "Train Epoch: 21 [3840/4000 (96%)]\tLoss: 5.815887\n",
      "====> Epoch: 21 Average loss: 5.9038\n",
      "Train Epoch: 22 [0/4000 (0%)]\tLoss: 5.948910\n",
      "Train Epoch: 22 [1280/4000 (32%)]\tLoss: 5.955664\n",
      "Train Epoch: 22 [2560/4000 (64%)]\tLoss: 5.988616\n",
      "Train Epoch: 22 [3840/4000 (96%)]\tLoss: 5.846624\n",
      "====> Epoch: 22 Average loss: 5.8791\n",
      "Train Epoch: 23 [0/4000 (0%)]\tLoss: 5.768395\n",
      "Train Epoch: 23 [1280/4000 (32%)]\tLoss: 5.712748\n",
      "Train Epoch: 23 [2560/4000 (64%)]\tLoss: 5.904595\n",
      "Train Epoch: 23 [3840/4000 (96%)]\tLoss: 5.831045\n",
      "====> Epoch: 23 Average loss: 5.8464\n",
      "Train Epoch: 24 [0/4000 (0%)]\tLoss: 5.762330\n",
      "Train Epoch: 24 [1280/4000 (32%)]\tLoss: 5.903497\n",
      "Train Epoch: 24 [2560/4000 (64%)]\tLoss: 5.574430\n",
      "Train Epoch: 24 [3840/4000 (96%)]\tLoss: 5.852001\n",
      "====> Epoch: 24 Average loss: 5.8264\n",
      "Train Epoch: 25 [0/4000 (0%)]\tLoss: 5.609874\n",
      "Train Epoch: 25 [1280/4000 (32%)]\tLoss: 5.689902\n",
      "Train Epoch: 25 [2560/4000 (64%)]\tLoss: 5.670323\n",
      "Train Epoch: 25 [3840/4000 (96%)]\tLoss: 5.860718\n",
      "====> Epoch: 25 Average loss: 5.8097\n",
      "Train Epoch: 26 [0/4000 (0%)]\tLoss: 6.087860\n",
      "Train Epoch: 26 [1280/4000 (32%)]\tLoss: 6.003590\n",
      "Train Epoch: 26 [2560/4000 (64%)]\tLoss: 5.616100\n",
      "Train Epoch: 26 [3840/4000 (96%)]\tLoss: 5.966833\n",
      "====> Epoch: 26 Average loss: 5.8621\n",
      "Train Epoch: 27 [0/4000 (0%)]\tLoss: 5.860048\n",
      "Train Epoch: 27 [1280/4000 (32%)]\tLoss: 6.032932\n",
      "Train Epoch: 27 [2560/4000 (64%)]\tLoss: 5.488644\n",
      "Train Epoch: 27 [3840/4000 (96%)]\tLoss: 6.088270\n",
      "====> Epoch: 27 Average loss: 5.8326\n",
      "Train Epoch: 28 [0/4000 (0%)]\tLoss: 5.778141\n",
      "Train Epoch: 28 [1280/4000 (32%)]\tLoss: 5.848700\n",
      "Train Epoch: 28 [2560/4000 (64%)]\tLoss: 5.702628\n",
      "Train Epoch: 28 [3840/4000 (96%)]\tLoss: 6.175907\n",
      "====> Epoch: 28 Average loss: 5.8243\n",
      "Train Epoch: 29 [0/4000 (0%)]\tLoss: 5.595336\n",
      "Train Epoch: 29 [1280/4000 (32%)]\tLoss: 5.727520\n",
      "Train Epoch: 29 [2560/4000 (64%)]\tLoss: 5.676854\n",
      "Train Epoch: 29 [3840/4000 (96%)]\tLoss: 5.933356\n",
      "====> Epoch: 29 Average loss: 5.8207\n",
      "Train Epoch: 30 [0/4000 (0%)]\tLoss: 5.671106\n",
      "Train Epoch: 30 [1280/4000 (32%)]\tLoss: 5.757607\n",
      "Train Epoch: 30 [2560/4000 (64%)]\tLoss: 6.179248\n",
      "Train Epoch: 30 [3840/4000 (96%)]\tLoss: 5.900011\n",
      "====> Epoch: 30 Average loss: 5.8175\n",
      "Train Epoch: 31 [0/4000 (0%)]\tLoss: 5.693435\n",
      "Train Epoch: 31 [1280/4000 (32%)]\tLoss: 5.781838\n",
      "Train Epoch: 31 [2560/4000 (64%)]\tLoss: 5.791560\n",
      "Train Epoch: 31 [3840/4000 (96%)]\tLoss: 5.850998\n",
      "====> Epoch: 31 Average loss: 5.7689\n",
      "Train Epoch: 32 [0/4000 (0%)]\tLoss: 5.826593\n",
      "Train Epoch: 32 [1280/4000 (32%)]\tLoss: 5.963367\n",
      "Train Epoch: 32 [2560/4000 (64%)]\tLoss: 5.857240\n",
      "Train Epoch: 32 [3840/4000 (96%)]\tLoss: 5.987889\n",
      "====> Epoch: 32 Average loss: 5.7963\n",
      "Train Epoch: 33 [0/4000 (0%)]\tLoss: 5.461493\n",
      "Train Epoch: 33 [1280/4000 (32%)]\tLoss: 5.944098\n",
      "Train Epoch: 33 [2560/4000 (64%)]\tLoss: 5.986348\n",
      "Train Epoch: 33 [3840/4000 (96%)]\tLoss: 5.587734\n",
      "====> Epoch: 33 Average loss: 5.7639\n",
      "Train Epoch: 34 [0/4000 (0%)]\tLoss: 5.996019\n",
      "Train Epoch: 34 [1280/4000 (32%)]\tLoss: 5.901867\n",
      "Train Epoch: 34 [2560/4000 (64%)]\tLoss: 5.754312\n",
      "Train Epoch: 34 [3840/4000 (96%)]\tLoss: 6.002717\n",
      "====> Epoch: 34 Average loss: 5.7521\n",
      "Train Epoch: 35 [0/4000 (0%)]\tLoss: 5.830230\n",
      "Train Epoch: 35 [1280/4000 (32%)]\tLoss: 5.659659\n",
      "Train Epoch: 35 [2560/4000 (64%)]\tLoss: 5.864442\n",
      "Train Epoch: 35 [3840/4000 (96%)]\tLoss: 5.728093\n",
      "====> Epoch: 35 Average loss: 5.7524\n",
      "Train Epoch: 36 [0/4000 (0%)]\tLoss: 5.681391\n",
      "Train Epoch: 36 [1280/4000 (32%)]\tLoss: 6.185158\n",
      "Train Epoch: 36 [2560/4000 (64%)]\tLoss: 5.697398\n",
      "Train Epoch: 36 [3840/4000 (96%)]\tLoss: 6.014288\n",
      "====> Epoch: 36 Average loss: 5.7420\n",
      "Train Epoch: 37 [0/4000 (0%)]\tLoss: 5.918644\n"
     ]
    },
    {
     "name": "stdout",
     "output_type": "stream",
     "text": [
      "Train Epoch: 37 [1280/4000 (32%)]\tLoss: 5.806136\n",
      "Train Epoch: 37 [2560/4000 (64%)]\tLoss: 5.430903\n",
      "Train Epoch: 37 [3840/4000 (96%)]\tLoss: 5.786016\n",
      "====> Epoch: 37 Average loss: 5.7294\n",
      "Train Epoch: 38 [0/4000 (0%)]\tLoss: 5.870984\n",
      "Train Epoch: 38 [1280/4000 (32%)]\tLoss: 5.877920\n",
      "Train Epoch: 38 [2560/4000 (64%)]\tLoss: 6.049587\n",
      "Train Epoch: 38 [3840/4000 (96%)]\tLoss: 5.562053\n",
      "====> Epoch: 38 Average loss: 5.7009\n",
      "Train Epoch: 39 [0/4000 (0%)]\tLoss: 5.618323\n",
      "Train Epoch: 39 [1280/4000 (32%)]\tLoss: 5.704149\n",
      "Train Epoch: 39 [2560/4000 (64%)]\tLoss: 5.811220\n",
      "Train Epoch: 39 [3840/4000 (96%)]\tLoss: 5.576554\n",
      "====> Epoch: 39 Average loss: 5.6886\n",
      "Train Epoch: 40 [0/4000 (0%)]\tLoss: 5.687874\n",
      "Train Epoch: 40 [1280/4000 (32%)]\tLoss: 5.467231\n",
      "Train Epoch: 40 [2560/4000 (64%)]\tLoss: 5.677130\n",
      "Train Epoch: 40 [3840/4000 (96%)]\tLoss: 5.808716\n",
      "====> Epoch: 40 Average loss: 5.6727\n",
      "Train Epoch: 41 [0/4000 (0%)]\tLoss: 5.898568\n",
      "Train Epoch: 41 [1280/4000 (32%)]\tLoss: 5.530208\n",
      "Train Epoch: 41 [2560/4000 (64%)]\tLoss: 5.510057\n",
      "Train Epoch: 41 [3840/4000 (96%)]\tLoss: 5.709003\n",
      "====> Epoch: 41 Average loss: 5.6401\n",
      "Train Epoch: 42 [0/4000 (0%)]\tLoss: 5.497170\n",
      "Train Epoch: 42 [1280/4000 (32%)]\tLoss: 5.722100\n",
      "Train Epoch: 42 [2560/4000 (64%)]\tLoss: 5.538572\n",
      "Train Epoch: 42 [3840/4000 (96%)]\tLoss: 5.641568\n",
      "====> Epoch: 42 Average loss: 5.6453\n",
      "Train Epoch: 43 [0/4000 (0%)]\tLoss: 5.877107\n",
      "Train Epoch: 43 [1280/4000 (32%)]\tLoss: 5.588198\n",
      "Train Epoch: 43 [2560/4000 (64%)]\tLoss: 5.608784\n",
      "Train Epoch: 43 [3840/4000 (96%)]\tLoss: 5.751894\n",
      "====> Epoch: 43 Average loss: 5.6316\n",
      "Train Epoch: 44 [0/4000 (0%)]\tLoss: 5.675623\n",
      "Train Epoch: 44 [1280/4000 (32%)]\tLoss: 5.932177\n",
      "Train Epoch: 44 [2560/4000 (64%)]\tLoss: 5.622461\n",
      "Train Epoch: 44 [3840/4000 (96%)]\tLoss: 5.487255\n",
      "====> Epoch: 44 Average loss: 5.6336\n",
      "Train Epoch: 45 [0/4000 (0%)]\tLoss: 5.554090\n",
      "Train Epoch: 45 [1280/4000 (32%)]\tLoss: 5.748192\n",
      "Train Epoch: 45 [2560/4000 (64%)]\tLoss: 5.542190\n",
      "Train Epoch: 45 [3840/4000 (96%)]\tLoss: 5.740394\n",
      "====> Epoch: 45 Average loss: 5.6021\n",
      "Train Epoch: 46 [0/4000 (0%)]\tLoss: 5.517824\n",
      "Train Epoch: 46 [1280/4000 (32%)]\tLoss: 5.620074\n",
      "Train Epoch: 46 [2560/4000 (64%)]\tLoss: 5.707850\n",
      "Train Epoch: 46 [3840/4000 (96%)]\tLoss: 5.501037\n",
      "====> Epoch: 46 Average loss: 5.5939\n",
      "Train Epoch: 47 [0/4000 (0%)]\tLoss: 5.447303\n",
      "Train Epoch: 47 [1280/4000 (32%)]\tLoss: 5.431699\n",
      "Train Epoch: 47 [2560/4000 (64%)]\tLoss: 5.707150\n",
      "Train Epoch: 47 [3840/4000 (96%)]\tLoss: 5.477630\n",
      "====> Epoch: 47 Average loss: 5.6087\n",
      "Train Epoch: 48 [0/4000 (0%)]\tLoss: 5.468312\n",
      "Train Epoch: 48 [1280/4000 (32%)]\tLoss: 5.273629\n",
      "Train Epoch: 48 [2560/4000 (64%)]\tLoss: 5.369854\n",
      "Train Epoch: 48 [3840/4000 (96%)]\tLoss: 5.423659\n",
      "====> Epoch: 48 Average loss: 5.5818\n",
      "Train Epoch: 49 [0/4000 (0%)]\tLoss: 5.591486\n",
      "Train Epoch: 49 [1280/4000 (32%)]\tLoss: 5.638317\n",
      "Train Epoch: 49 [2560/4000 (64%)]\tLoss: 5.625645\n",
      "Train Epoch: 49 [3840/4000 (96%)]\tLoss: 5.331255\n",
      "====> Epoch: 49 Average loss: 5.5846\n",
      "Train Epoch: 50 [0/4000 (0%)]\tLoss: 5.354067\n",
      "Train Epoch: 50 [1280/4000 (32%)]\tLoss: 5.722264\n",
      "Train Epoch: 50 [2560/4000 (64%)]\tLoss: 5.616681\n",
      "Train Epoch: 50 [3840/4000 (96%)]\tLoss: 5.358110\n",
      "====> Epoch: 50 Average loss: 5.5910\n"
     ]
    }
   ],
   "source": [
    "gradients_before_burnin = torch.zeros(train_data.shape[1]).to(device)\n",
    "gradient_post_burn_in = torch.zeros(train_data.shape[1]).to(device)\n",
    "\n",
    "for epoch in range(1, n_epochs+1):\n",
    "    grads=train_truncated_with_gradients(train_data, vae_gumbel_truncated, \n",
    "                                                      vae_gumbel_trunc_optimizer, \n",
    "                                                      epoch, \n",
    "                                                      batch_size, \n",
    "                                                      Dim = int(D/2))\n",
    "    if epoch > 5 and epoch <25:\n",
    "        gradients_before_burnin += grads\n",
    "    if epoch == 25:\n",
    "        with torch.no_grad():\n",
    "            # collect a version of the select keys at this point\n",
    "            w = vae_gumbel_truncated.weight_creator(test_data[0:10, :])\n",
    "            subset_indices_before_burnin = sample_subset(w, k=3*z_size, t=0.01).cpu()\n",
    "        \n",
    "        vae_gumbel_truncated.t /= 10\n",
    "    if epoch > 24:\n",
    "        gradient_post_burn_in += grads\n",
    "        \n",
    "with torch.no_grad():\n",
    "    w = vae_gumbel_truncated.weight_creator(test_data[0:10, :])\n",
    "    subset_indices_post_burnin = sample_subset(w, k=3*z_size, t=0.01).cpu()"
   ]
  },
  {
   "cell_type": "code",
   "execution_count": 10,
   "metadata": {},
   "outputs": [
    {
     "name": "stdout",
     "output_type": "stream",
     "text": [
      "tensor(8834.4951, device='cuda:0')\n",
      "tensor(4798.3896, device='cuda:0')\n"
     ]
    },
    {
     "data": {
      "text/plain": [
       "<matplotlib.axes._subplots.AxesSubplot at 0x7f4138058550>"
      ]
     },
     "execution_count": 10,
     "metadata": {},
     "output_type": "execute_result"
    },
    {
     "data": {
      "image/png": "[encoded data removed]",
      "text/plain": [
       "<Figure size 432x288 with 2 Axes>"
      ]
     },
     "metadata": {
      "needs_background": "light"
     },
     "output_type": "display_data"
    }
   ],
   "source": [
    "print(gradients_before_burnin[:(D//2)].mean())\n",
    "print(gradients_before_burnin[(D//2):].mean())\n",
    "sns.heatmap(gradients_before_burnin.clone().detach().cpu().numpy()[:, np.newaxis])\n"
   ]
  },
  {
   "cell_type": "code",
   "execution_count": 11,
   "metadata": {},
   "outputs": [
    {
     "name": "stdout",
     "output_type": "stream",
     "text": [
      "tensor(26189.5840, device='cuda:0')\n",
      "tensor(11740.6943, device='cuda:0')\n"
     ]
    },
    {
     "data": {
      "text/plain": [
       "<matplotlib.axes._subplots.AxesSubplot at 0x7f4131515f50>"
      ]
     },
     "execution_count": 11,
     "metadata": {},
     "output_type": "execute_result"
    },
    {
     "data": {
      "image/png": "[encoded data removed]",
      "text/plain": [
       "<Figure size 432x288 with 2 Axes>"
      ]
     },
     "metadata": {
      "needs_background": "light"
     },
     "output_type": "display_data"
    }
   ],
   "source": [
    "print(gradient_post_burn_in[:(D//2)].mean())\n",
    "print(gradient_post_burn_in[(D//2):].mean())\n",
    "sns.heatmap(gradient_post_burn_in.clone().detach().cpu().numpy()[:, np.newaxis])"
   ]
  },
  {
   "cell_type": "code",
   "execution_count": 12,
   "metadata": {},
   "outputs": [
    {
     "name": "stdout",
     "output_type": "stream",
     "text": [
      "tensor(5.5734)\n",
      "tensor(4.4266)\n"
     ]
    },
    {
     "data": {
      "text/plain": [
       "<matplotlib.axes._subplots.AxesSubplot at 0x7f413142b790>"
      ]
     },
     "execution_count": 12,
     "metadata": {},
     "output_type": "execute_result"
    },
    {
     "data": {
      "image/png": "[encoded data removed]",
      "text/plain": [
       "<Figure size 432x288 with 2 Axes>"
      ]
     },
     "metadata": {
      "needs_background": "light"
     },
     "output_type": "display_data"
    }
   ],
   "source": [
    "print(subset_indices_before_burnin.sum(dim = 0)[:(D//2)].mean())\n",
    "print(subset_indices_before_burnin.sum(dim = 0)[(D//2):].mean())\n",
    "sns.heatmap(subset_indices_before_burnin.sum(dim = 0).clone().detach().cpu().numpy()[:, np.newaxis])"
   ]
  },
  {
   "cell_type": "code",
   "execution_count": 13,
   "metadata": {},
   "outputs": [
    {
     "name": "stdout",
     "output_type": "stream",
     "text": [
      "tensor(5.7758)\n",
      "tensor(4.2242)\n"
     ]
    },
    {
     "data": {
      "text/plain": [
       "<matplotlib.axes._subplots.AxesSubplot at 0x7f4131374050>"
      ]
     },
     "execution_count": 13,
     "metadata": {},
     "output_type": "execute_result"
    },
    {
     "data": {
      "image/png": "[encoded data removed]",
      "text/plain": [
       "<Figure size 432x288 with 2 Axes>"
      ]
     },
     "metadata": {
      "needs_background": "light"
     },
     "output_type": "display_data"
    }
   ],
   "source": [
    "print(subset_indices_post_burnin.sum(dim = 0)[:(D//2)].mean())\n",
    "print(subset_indices_post_burnin.sum(dim = 0)[(D//2):].mean())\n",
    "sns.heatmap(subset_indices_post_burnin.sum(dim = 0).clone().detach().cpu().numpy()[:, np.newaxis])"
   ]
  },
  {
   "cell_type": "code",
   "execution_count": 14,
   "metadata": {},
   "outputs": [
    {
     "data": {
      "text/plain": [
       "tensor(23.2755)"
      ]
     },
     "execution_count": 14,
     "metadata": {},
     "output_type": "execute_result"
    }
   ],
   "source": [
    "subset_indices_post_burnin.sum(dim = 0)[:(D//2)].sum() - subset_indices_post_burnin.sum(dim = 0)[(D//2):].sum()"
   ]
  },
  {
   "cell_type": "markdown",
   "metadata": {},
   "source": [
    "The new model\n"
   ]
  },
  {
   "cell_type": "code",
   "execution_count": 27,
   "metadata": {},
   "outputs": [],
   "source": [
    "logits_changed_loss_lambda = 5\n",
    "alpha = 0.99"
   ]
  },
  {
   "cell_type": "code",
   "execution_count": 28,
   "metadata": {},
   "outputs": [],
   "source": [
    "vae_gumbel_truncated = VAE_Gumbel_NInstaState(D, 100, 20, k = 3*z_size, t = global_t, alpha = alpha)\n",
    "vae_gumbel_truncated.to(device)\n",
    "vae_gumbel_trunc_optimizer = torch.optim.Adam(vae_gumbel_truncated.parameters(), \n",
    "                                                lr=lr, \n",
    "                                                betas = (b1,b2))\n",
    "\n"
   ]
  },
  {
   "cell_type": "code",
   "execution_count": 29,
   "metadata": {},
   "outputs": [
    {
     "name": "stdout",
     "output_type": "stream",
     "text": [
      "Train Epoch: 1 [0/4000 (0%)]\tLoss: 10.623770\n",
      "Train Epoch: 1 [1280/4000 (32%)]\tLoss: 39.467003\n",
      "Train Epoch: 1 [2560/4000 (64%)]\tLoss: 104.211182\n",
      "Train Epoch: 1 [3840/4000 (96%)]\tLoss: 189.626465\n",
      "====> Epoch: 1 Average loss: 84.3974\n",
      "Train Epoch: 2 [0/4000 (0%)]\tLoss: 201.423218\n",
      "Train Epoch: 2 [1280/4000 (32%)]\tLoss: 284.658203\n",
      "Train Epoch: 2 [2560/4000 (64%)]\tLoss: 366.962280\n",
      "Loss tensor(509.5094, device='cuda:0', grad_fn=<AddBackward0>)Logits Loss tensor(5341.9512, device='cuda:0', grad_fn=<MseLossBackward>)\n",
      "Train Epoch: 2 [3840/4000 (96%)]\tLoss: 442.345276\n",
      "====> Epoch: 2 Average loss: 330.9676\n",
      "Train Epoch: 3 [0/4000 (0%)]\tLoss: 453.206390\n",
      "Train Epoch: 3 [1280/4000 (32%)]\tLoss: 517.777832\n",
      "Train Epoch: 3 [2560/4000 (64%)]\tLoss: 586.978394\n",
      "Train Epoch: 3 [3840/4000 (96%)]\tLoss: 652.714783\n",
      "====> Epoch: 3 Average loss: 559.6708\n",
      "Train Epoch: 4 [0/4000 (0%)]\tLoss: 653.955811\n",
      "Train Epoch: 4 [1280/4000 (32%)]\tLoss: 678.346069\n",
      "Train Epoch: 4 [2560/4000 (64%)]\tLoss: 708.906067\n",
      "Loss tensor(434.1060, device='cuda:0', grad_fn=<AddBackward0>)Logits Loss tensor(9024.5674, device='cuda:0', grad_fn=<MseLossBackward>)\n",
      "Train Epoch: 4 [3840/4000 (96%)]\tLoss: 763.842773\n",
      "====> Epoch: 4 Average loss: 703.0314\n",
      "Train Epoch: 5 [0/4000 (0%)]\tLoss: 757.420959\n",
      "Loss tensor(439.2444, device='cuda:0', grad_fn=<AddBackward0>)Logits Loss tensor(9763.3193, device='cuda:0', grad_fn=<MseLossBackward>)\n",
      "Train Epoch: 5 [1280/4000 (32%)]\tLoss: 766.173462\n",
      "Loss tensor(444.6794, device='cuda:0', grad_fn=<AddBackward0>)Logits Loss tensor(9768.6689, device='cuda:0', grad_fn=<MseLossBackward>)\n",
      "Train Epoch: 5 [2560/4000 (64%)]\tLoss: 808.530823\n",
      "Train Epoch: 5 [3840/4000 (96%)]\tLoss: 807.260742\n",
      "====> Epoch: 5 Average loss: 796.6569\n",
      "Train Epoch: 6 [0/4000 (0%)]\tLoss: 809.168396\n",
      "Train Epoch: 6 [1280/4000 (32%)]\tLoss: 796.787781\n",
      "Train Epoch: 6 [2560/4000 (64%)]\tLoss: 803.942505\n",
      "Train Epoch: 6 [3840/4000 (96%)]\tLoss: 777.243774\n",
      "====> Epoch: 6 Average loss: 802.1176\n",
      "Train Epoch: 7 [0/4000 (0%)]\tLoss: 780.921326\n",
      "Train Epoch: 7 [1280/4000 (32%)]\tLoss: 781.046265\n",
      "Train Epoch: 7 [2560/4000 (64%)]\tLoss: 805.575378\n",
      "Train Epoch: 7 [3840/4000 (96%)]\tLoss: 807.874512\n",
      "====> Epoch: 7 Average loss: 799.9575\n",
      "Train Epoch: 8 [0/4000 (0%)]\tLoss: 810.525696\n",
      "Loss tensor(410.5331, device='cuda:0', grad_fn=<AddBackward0>)Logits Loss tensor(10295.2715, device='cuda:0', grad_fn=<MseLossBackward>)\n",
      "Train Epoch: 8 [1280/4000 (32%)]\tLoss: 808.900757\n",
      "Train Epoch: 8 [2560/4000 (64%)]\tLoss: 802.489929\n",
      "Train Epoch: 8 [3840/4000 (96%)]\tLoss: 762.641113\n",
      "====> Epoch: 8 Average loss: 804.9073\n",
      "Train Epoch: 9 [0/4000 (0%)]\tLoss: 765.889038\n",
      "Train Epoch: 9 [1280/4000 (32%)]\tLoss: 733.194885\n",
      "Train Epoch: 9 [2560/4000 (64%)]\tLoss: 718.987183\n",
      "Train Epoch: 9 [3840/4000 (96%)]\tLoss: 703.866028\n",
      "====> Epoch: 9 Average loss: 737.1030\n",
      "Train Epoch: 10 [0/4000 (0%)]\tLoss: 704.591858\n",
      "Train Epoch: 10 [1280/4000 (32%)]\tLoss: 682.505432\n",
      "Loss tensor(408.2573, device='cuda:0', grad_fn=<AddBackward0>)Logits Loss tensor(8573.9717, device='cuda:0', grad_fn=<MseLossBackward>)\n",
      "Train Epoch: 10 [2560/4000 (64%)]\tLoss: 650.513916\n",
      "Train Epoch: 10 [3840/4000 (96%)]\tLoss: 671.358948\n",
      "====> Epoch: 10 Average loss: 677.3634\n",
      "Train Epoch: 11 [0/4000 (0%)]\tLoss: 678.237427\n",
      "Train Epoch: 11 [1280/4000 (32%)]\tLoss: 672.045105\n",
      "Loss tensor(398.7649, device='cuda:0', grad_fn=<AddBackward0>)Logits Loss tensor(8602.6738, device='cuda:0', grad_fn=<MseLossBackward>)\n",
      "Train Epoch: 11 [2560/4000 (64%)]\tLoss: 645.144836\n",
      "Loss tensor(410.8864, device='cuda:0', grad_fn=<AddBackward0>)Logits Loss tensor(7859.7432, device='cuda:0', grad_fn=<MseLossBackward>)\n",
      "Loss tensor(402.3436, device='cuda:0', grad_fn=<AddBackward0>)Logits Loss tensor(7919.0161, device='cuda:0', grad_fn=<MseLossBackward>)\n",
      "Train Epoch: 11 [3840/4000 (96%)]\tLoss: 624.959778\n",
      "====> Epoch: 11 Average loss: 654.5250\n",
      "Train Epoch: 12 [0/4000 (0%)]\tLoss: 624.849731\n",
      "Train Epoch: 12 [1280/4000 (32%)]\tLoss: 611.512878\n",
      "Train Epoch: 12 [2560/4000 (64%)]\tLoss: 580.251770\n",
      "Train Epoch: 12 [3840/4000 (96%)]\tLoss: 575.102295\n",
      "====> Epoch: 12 Average loss: 602.3022\n",
      "Train Epoch: 13 [0/4000 (0%)]\tLoss: 564.479065\n",
      "Train Epoch: 13 [1280/4000 (32%)]\tLoss: 525.608459\n",
      "Train Epoch: 13 [2560/4000 (64%)]\tLoss: 518.047363\n",
      "Train Epoch: 13 [3840/4000 (96%)]\tLoss: 470.078644\n",
      "====> Epoch: 13 Average loss: 524.1840\n",
      "Train Epoch: 14 [0/4000 (0%)]\tLoss: 466.126831\n",
      "Loss tensor(398.4283, device='cuda:0', grad_fn=<AddBackward0>)Logits Loss tensor(5792.5713, device='cuda:0', grad_fn=<MseLossBackward>)\n",
      "Train Epoch: 14 [1280/4000 (32%)]\tLoss: 422.442932\n",
      "Train Epoch: 14 [2560/4000 (64%)]\tLoss: 430.395538\n",
      "Train Epoch: 14 [3840/4000 (96%)]\tLoss: 402.561890\n",
      "====> Epoch: 14 Average loss: 432.0185\n",
      "Train Epoch: 15 [0/4000 (0%)]\tLoss: 393.598297\n",
      "Train Epoch: 15 [1280/4000 (32%)]\tLoss: 364.198029\n",
      "Train Epoch: 15 [2560/4000 (64%)]\tLoss: 356.946625\n",
      "Train Epoch: 15 [3840/4000 (96%)]\tLoss: 331.153687\n",
      "====> Epoch: 15 Average loss: 364.9213\n",
      "Train Epoch: 16 [0/4000 (0%)]\tLoss: 349.947418\n",
      "Train Epoch: 16 [1280/4000 (32%)]\tLoss: 321.585693\n",
      "Train Epoch: 16 [2560/4000 (64%)]\tLoss: 311.677216\n",
      "Train Epoch: 16 [3840/4000 (96%)]\tLoss: 307.215942\n",
      "====> Epoch: 16 Average loss: 315.1803\n",
      "Train Epoch: 17 [0/4000 (0%)]\tLoss: 292.024048\n",
      "Train Epoch: 17 [1280/4000 (32%)]\tLoss: 276.663483\n",
      "Train Epoch: 17 [2560/4000 (64%)]\tLoss: 255.908264\n",
      "Train Epoch: 17 [3840/4000 (96%)]\tLoss: 234.643585\n",
      "====> Epoch: 17 Average loss: 262.6557\n",
      "Train Epoch: 18 [0/4000 (0%)]\tLoss: 216.193253\n",
      "Train Epoch: 18 [1280/4000 (32%)]\tLoss: 222.243210\n",
      "Train Epoch: 18 [2560/4000 (64%)]\tLoss: 189.777863\n",
      "Loss tensor(401.1489, device='cuda:0', grad_fn=<AddBackward0>)Logits Loss tensor(2295.7214, device='cuda:0', grad_fn=<MseLossBackward>)\n",
      "Train Epoch: 18 [3840/4000 (96%)]\tLoss: 180.785370\n",
      "====> Epoch: 18 Average loss: 201.3944\n",
      "Train Epoch: 19 [0/4000 (0%)]\tLoss: 167.948120\n",
      "Train Epoch: 19 [1280/4000 (32%)]\tLoss: 182.448624\n",
      "Loss tensor(397.7804, device='cuda:0', grad_fn=<AddBackward0>)Logits Loss tensor(2129.8359, device='cuda:0', grad_fn=<MseLossBackward>)\n",
      "Train Epoch: 19 [2560/4000 (64%)]\tLoss: 165.378967\n",
      "Train Epoch: 19 [3840/4000 (96%)]\tLoss: 157.965775\n",
      "====> Epoch: 19 Average loss: 169.5124\n",
      "Train Epoch: 20 [0/4000 (0%)]\tLoss: 152.671158\n",
      "Train Epoch: 20 [1280/4000 (32%)]\tLoss: 152.012970\n",
      "Loss tensor(391.9334, device='cuda:0', grad_fn=<AddBackward0>)Logits Loss tensor(1714.2158, device='cuda:0', grad_fn=<MseLossBackward>)\n",
      "Train Epoch: 20 [2560/4000 (64%)]\tLoss: 136.186508\n",
      "Train Epoch: 20 [3840/4000 (96%)]\tLoss: 140.217163\n",
      "====> Epoch: 20 Average loss: 145.3702\n",
      "Train Epoch: 21 [0/4000 (0%)]\tLoss: 143.345474\n",
      "Train Epoch: 21 [1280/4000 (32%)]\tLoss: 131.881851\n",
      "Train Epoch: 21 [2560/4000 (64%)]\tLoss: 131.976257\n",
      "Train Epoch: 21 [3840/4000 (96%)]\tLoss: 119.400208\n",
      "====> Epoch: 21 Average loss: 132.6399\n",
      "Train Epoch: 22 [0/4000 (0%)]\tLoss: 121.468552\n",
      "Train Epoch: 22 [1280/4000 (32%)]\tLoss: 118.697227\n",
      "Loss tensor(380.6151, device='cuda:0', grad_fn=<AddBackward0>)Logits Loss tensor(1408.9240, device='cuda:0', grad_fn=<MseLossBackward>)\n",
      "Train Epoch: 22 [2560/4000 (64%)]\tLoss: 116.396301\n",
      "Train Epoch: 22 [3840/4000 (96%)]\tLoss: 114.092102\n",
      "====> Epoch: 22 Average loss: 116.7496\n",
      "Train Epoch: 23 [0/4000 (0%)]\tLoss: 114.072227\n",
      "Train Epoch: 23 [1280/4000 (32%)]\tLoss: 106.178162\n",
      "Loss tensor(386.1339, device='cuda:0', grad_fn=<AddBackward0>)Logits Loss tensor(1279.5901, device='cuda:0', grad_fn=<MseLossBackward>)\n",
      "Train Epoch: 23 [2560/4000 (64%)]\tLoss: 105.669296\n",
      "Train Epoch: 23 [3840/4000 (96%)]\tLoss: 102.065514\n",
      "====> Epoch: 23 Average loss: 107.2129\n",
      "Train Epoch: 24 [0/4000 (0%)]\tLoss: 100.649887\n",
      "Train Epoch: 24 [1280/4000 (32%)]\tLoss: 101.314667\n",
      "Train Epoch: 24 [2560/4000 (64%)]\tLoss: 95.110359\n",
      "Train Epoch: 24 [3840/4000 (96%)]\tLoss: 90.780388\n",
      "====> Epoch: 24 Average loss: 97.6911\n",
      "Train Epoch: 25 [0/4000 (0%)]\tLoss: 88.822144\n",
      "Train Epoch: 25 [1280/4000 (32%)]\tLoss: 87.028656\n",
      "Train Epoch: 25 [2560/4000 (64%)]\tLoss: 86.689255\n",
      "Train Epoch: 25 [3840/4000 (96%)]\tLoss: 81.554527\n",
      "====> Epoch: 25 Average loss: 87.0725\n",
      "GUMBEL DEBUG\n",
      "BURN IN DEBUG\n",
      "Going post burn in\n",
      "Train Epoch: 26 [0/4000 (0%)]\tLoss: 6.105556\n",
      "Train Epoch: 26 [1280/4000 (32%)]\tLoss: 6.002088\n",
      "Train Epoch: 26 [2560/4000 (64%)]\tLoss: 6.132434\n",
      "Train Epoch: 26 [3840/4000 (96%)]\tLoss: 5.928894\n",
      "====> Epoch: 26 Average loss: 6.0741\n",
      "Train Epoch: 27 [0/4000 (0%)]\tLoss: 5.915270\n"
     ]
    },
    {
     "name": "stdout",
     "output_type": "stream",
     "text": [
      "Train Epoch: 27 [1280/4000 (32%)]\tLoss: 6.034740\n",
      "Train Epoch: 27 [2560/4000 (64%)]\tLoss: 6.061625\n",
      "Train Epoch: 27 [3840/4000 (96%)]\tLoss: 5.791340\n",
      "====> Epoch: 27 Average loss: 6.0410\n",
      "Train Epoch: 28 [0/4000 (0%)]\tLoss: 6.002451\n",
      "Train Epoch: 28 [1280/4000 (32%)]\tLoss: 5.887885\n",
      "Train Epoch: 28 [2560/4000 (64%)]\tLoss: 5.956537\n",
      "Loss tensor(381.2927, device='cuda:0', grad_fn=<AddBackward0>)Logits Loss 0\n",
      "Train Epoch: 28 [3840/4000 (96%)]\tLoss: 5.984483\n",
      "====> Epoch: 28 Average loss: 5.9996\n",
      "Train Epoch: 29 [0/4000 (0%)]\tLoss: 5.984958\n",
      "Train Epoch: 29 [1280/4000 (32%)]\tLoss: 5.820328\n",
      "Train Epoch: 29 [2560/4000 (64%)]\tLoss: 5.938360\n",
      "Train Epoch: 29 [3840/4000 (96%)]\tLoss: 5.949363\n",
      "====> Epoch: 29 Average loss: 5.9724\n",
      "Train Epoch: 30 [0/4000 (0%)]\tLoss: 5.840473\n",
      "Train Epoch: 30 [1280/4000 (32%)]\tLoss: 5.824463\n",
      "Loss tensor(374.1205, device='cuda:0', grad_fn=<AddBackward0>)Logits Loss 0\n",
      "Train Epoch: 30 [2560/4000 (64%)]\tLoss: 6.229754\n",
      "Train Epoch: 30 [3840/4000 (96%)]\tLoss: 5.879240\n",
      "====> Epoch: 30 Average loss: 5.9465\n",
      "Train Epoch: 31 [0/4000 (0%)]\tLoss: 5.838137\n",
      "Train Epoch: 31 [1280/4000 (32%)]\tLoss: 5.800423\n",
      "Train Epoch: 31 [2560/4000 (64%)]\tLoss: 5.735348\n",
      "Train Epoch: 31 [3840/4000 (96%)]\tLoss: 5.865056\n",
      "====> Epoch: 31 Average loss: 5.8969\n",
      "Train Epoch: 32 [0/4000 (0%)]\tLoss: 5.896727\n",
      "Train Epoch: 32 [1280/4000 (32%)]\tLoss: 5.628603\n",
      "Train Epoch: 32 [2560/4000 (64%)]\tLoss: 6.024848\n",
      "Train Epoch: 32 [3840/4000 (96%)]\tLoss: 5.978158\n",
      "====> Epoch: 32 Average loss: 5.9253\n",
      "Train Epoch: 33 [0/4000 (0%)]\tLoss: 6.078834\n",
      "Train Epoch: 33 [1280/4000 (32%)]\tLoss: 6.005120\n",
      "Train Epoch: 33 [2560/4000 (64%)]\tLoss: 5.837127\n",
      "Train Epoch: 33 [3840/4000 (96%)]\tLoss: 6.163177\n",
      "====> Epoch: 33 Average loss: 5.9114\n",
      "Train Epoch: 34 [0/4000 (0%)]\tLoss: 5.925790\n",
      "Train Epoch: 34 [1280/4000 (32%)]\tLoss: 6.008588\n",
      "Train Epoch: 34 [2560/4000 (64%)]\tLoss: 6.109120\n",
      "Train Epoch: 34 [3840/4000 (96%)]\tLoss: 6.082612\n",
      "====> Epoch: 34 Average loss: 5.9186\n",
      "Train Epoch: 35 [0/4000 (0%)]\tLoss: 5.807579\n",
      "Train Epoch: 35 [1280/4000 (32%)]\tLoss: 6.220266\n",
      "Train Epoch: 35 [2560/4000 (64%)]\tLoss: 5.759626\n",
      "Loss tensor(384.5941, device='cuda:0', grad_fn=<AddBackward0>)Logits Loss 0\n",
      "Train Epoch: 35 [3840/4000 (96%)]\tLoss: 5.682213\n",
      "====> Epoch: 35 Average loss: 5.9114\n",
      "Train Epoch: 36 [0/4000 (0%)]\tLoss: 5.981263\n",
      "Train Epoch: 36 [1280/4000 (32%)]\tLoss: 6.060559\n",
      "Train Epoch: 36 [2560/4000 (64%)]\tLoss: 5.774541\n",
      "Train Epoch: 36 [3840/4000 (96%)]\tLoss: 5.778710\n",
      "====> Epoch: 36 Average loss: 5.8862\n",
      "Loss tensor(362.0024, device='cuda:0', grad_fn=<AddBackward0>)Logits Loss 0\n",
      "Train Epoch: 37 [0/4000 (0%)]\tLoss: 5.656288\n",
      "Train Epoch: 37 [1280/4000 (32%)]\tLoss: 6.020312\n",
      "Train Epoch: 37 [2560/4000 (64%)]\tLoss: 5.675609\n",
      "Train Epoch: 37 [3840/4000 (96%)]\tLoss: 5.894111\n",
      "====> Epoch: 37 Average loss: 5.8888\n",
      "Train Epoch: 38 [0/4000 (0%)]\tLoss: 6.074308\n",
      "Train Epoch: 38 [1280/4000 (32%)]\tLoss: 5.533852\n",
      "Loss tensor(381.6229, device='cuda:0', grad_fn=<AddBackward0>)Logits Loss 0\n",
      "Train Epoch: 38 [2560/4000 (64%)]\tLoss: 5.962857\n",
      "Loss tensor(370.6599, device='cuda:0', grad_fn=<AddBackward0>)Logits Loss 0\n",
      "Loss tensor(382.5321, device='cuda:0', grad_fn=<AddBackward0>)Logits Loss 0\n",
      "Train Epoch: 38 [3840/4000 (96%)]\tLoss: 5.832479\n",
      "====> Epoch: 38 Average loss: 5.8803\n",
      "Train Epoch: 39 [0/4000 (0%)]\tLoss: 5.763437\n",
      "Train Epoch: 39 [1280/4000 (32%)]\tLoss: 5.898173\n",
      "Train Epoch: 39 [2560/4000 (64%)]\tLoss: 5.960306\n",
      "Loss tensor(359.0927, device='cuda:0', grad_fn=<AddBackward0>)Logits Loss 0\n",
      "Train Epoch: 39 [3840/4000 (96%)]\tLoss: 5.621212\n",
      "====> Epoch: 39 Average loss: 5.8548\n",
      "Train Epoch: 40 [0/4000 (0%)]\tLoss: 6.108077\n",
      "Loss tensor(375.8193, device='cuda:0', grad_fn=<AddBackward0>)Logits Loss 0\n",
      "Train Epoch: 40 [1280/4000 (32%)]\tLoss: 5.816287\n",
      "Train Epoch: 40 [2560/4000 (64%)]\tLoss: 5.671758\n",
      "Loss tensor(364.3995, device='cuda:0', grad_fn=<AddBackward0>)Logits Loss 0\n",
      "Train Epoch: 40 [3840/4000 (96%)]\tLoss: 5.876946\n",
      "====> Epoch: 40 Average loss: 5.8606\n",
      "Train Epoch: 41 [0/4000 (0%)]\tLoss: 5.905621\n",
      "Train Epoch: 41 [1280/4000 (32%)]\tLoss: 6.050333\n",
      "Train Epoch: 41 [2560/4000 (64%)]\tLoss: 5.829917\n",
      "Train Epoch: 41 [3840/4000 (96%)]\tLoss: 5.700575\n",
      "====> Epoch: 41 Average loss: 5.8290\n",
      "Train Epoch: 42 [0/4000 (0%)]\tLoss: 6.193145\n",
      "Loss tensor(375.6482, device='cuda:0', grad_fn=<AddBackward0>)Logits Loss 0\n",
      "Train Epoch: 42 [1280/4000 (32%)]\tLoss: 5.781226\n",
      "Train Epoch: 42 [2560/4000 (64%)]\tLoss: 5.772705\n",
      "Train Epoch: 42 [3840/4000 (96%)]\tLoss: 5.880664\n",
      "====> Epoch: 42 Average loss: 5.8556\n",
      "Train Epoch: 43 [0/4000 (0%)]\tLoss: 5.799653\n",
      "Train Epoch: 43 [1280/4000 (32%)]\tLoss: 5.633113\n",
      "Train Epoch: 43 [2560/4000 (64%)]\tLoss: 5.587780\n",
      "Train Epoch: 43 [3840/4000 (96%)]\tLoss: 5.722600\n",
      "====> Epoch: 43 Average loss: 5.8561\n",
      "Train Epoch: 44 [0/4000 (0%)]\tLoss: 6.025675\n",
      "Loss tensor(375.3234, device='cuda:0', grad_fn=<AddBackward0>)Logits Loss 0\n",
      "Train Epoch: 44 [1280/4000 (32%)]\tLoss: 5.689648\n",
      "Train Epoch: 44 [2560/4000 (64%)]\tLoss: 6.020674\n",
      "Train Epoch: 44 [3840/4000 (96%)]\tLoss: 5.803514\n",
      "====> Epoch: 44 Average loss: 5.8347\n",
      "Train Epoch: 45 [0/4000 (0%)]\tLoss: 5.486379\n",
      "Loss tensor(379.2031, device='cuda:0', grad_fn=<AddBackward0>)Logits Loss 0\n",
      "Train Epoch: 45 [1280/4000 (32%)]\tLoss: 5.894462\n",
      "Train Epoch: 45 [2560/4000 (64%)]\tLoss: 5.789212\n",
      "Loss tensor(358.4657, device='cuda:0', grad_fn=<AddBackward0>)Logits Loss 0\n",
      "Train Epoch: 45 [3840/4000 (96%)]\tLoss: 6.022979\n",
      "====> Epoch: 45 Average loss: 5.8199\n",
      "Train Epoch: 46 [0/4000 (0%)]\tLoss: 5.836264\n",
      "Train Epoch: 46 [1280/4000 (32%)]\tLoss: 6.123116\n",
      "Train Epoch: 46 [2560/4000 (64%)]\tLoss: 5.866716\n",
      "Train Epoch: 46 [3840/4000 (96%)]\tLoss: 6.016835\n",
      "====> Epoch: 46 Average loss: 5.8418\n",
      "Train Epoch: 47 [0/4000 (0%)]\tLoss: 6.137121\n",
      "Train Epoch: 47 [1280/4000 (32%)]\tLoss: 5.678690\n",
      "Train Epoch: 47 [2560/4000 (64%)]\tLoss: 5.790427\n",
      "Train Epoch: 47 [3840/4000 (96%)]\tLoss: 5.281241\n",
      "====> Epoch: 47 Average loss: 5.8315\n",
      "Train Epoch: 48 [0/4000 (0%)]\tLoss: 5.410159\n",
      "Train Epoch: 48 [1280/4000 (32%)]\tLoss: 5.370586\n",
      "Train Epoch: 48 [2560/4000 (64%)]\tLoss: 5.846733\n",
      "Train Epoch: 48 [3840/4000 (96%)]\tLoss: 5.420547\n",
      "====> Epoch: 48 Average loss: 5.7877\n",
      "Train Epoch: 49 [0/4000 (0%)]\tLoss: 5.724412\n",
      "Loss tensor(363.0113, device='cuda:0', grad_fn=<AddBackward0>)Logits Loss 0\n",
      "Train Epoch: 49 [1280/4000 (32%)]\tLoss: 5.949181\n",
      "Train Epoch: 49 [2560/4000 (64%)]\tLoss: 5.684617\n",
      "Train Epoch: 49 [3840/4000 (96%)]\tLoss: 5.687809\n",
      "====> Epoch: 49 Average loss: 5.8387\n",
      "Train Epoch: 50 [0/4000 (0%)]\tLoss: 5.861104\n",
      "Train Epoch: 50 [1280/4000 (32%)]\tLoss: 5.660714\n",
      "Train Epoch: 50 [2560/4000 (64%)]\tLoss: 5.858316\n",
      "Train Epoch: 50 [3840/4000 (96%)]\tLoss: 5.921735\n",
      "====> Epoch: 50 Average loss: 5.7822\n"
     ]
    }
   ],
   "source": [
    "gradients_before_burnin = torch.zeros(train_data.shape[1]).to(device)\n",
    "gradient_post_burn_in = torch.zeros(train_data.shape[1]).to(device)\n",
    "\n",
    "for epoch in range(1, n_epochs+1):\n",
    "    grads=train_truncated_with_gradients_gumbel_state(train_data, vae_gumbel_truncated, \n",
    "                                                      vae_gumbel_trunc_optimizer, \n",
    "                                                      epoch, \n",
    "                                                      batch_size, \n",
    "                                                      Dim = int(D/2),\n",
    "                                                      logits_changed_loss_lambda=logits_changed_loss_lambda,\n",
    "                                                      DEBUG = True)\n",
    "    if epoch > 5 and epoch <25:\n",
    "        gradients_before_burnin += grads\n",
    "    if epoch == 25:\n",
    "        with torch.no_grad():\n",
    "            # collect a version of the select keys at this point\n",
    "            print(\"GUMBEL DEBUG\")\n",
    "            w = vae_gumbel_truncated.weight_creator(test_data[0:10, :])\n",
    "            subset_indices_before_burnin = sample_subset(w, k=3*z_size, t=0.01).cpu()\n",
    "        \n",
    "        print(\"BURN IN DEBUG\")\n",
    "        vae_gumbel_truncated.set_burned_in()\n",
    "        #vae_gumbel_truncated.t /= 10\n",
    "        print(\"Going post burn in\")\n",
    "    if epoch > 24:\n",
    "        gradient_post_burn_in += grads\n",
    "        \n",
    "with torch.no_grad():\n",
    "    w = vae_gumbel_truncated.weight_creator(test_data[0:10, :])\n",
    "    subset_indices_post_burnin = sample_subset(w, k=3*z_size, t=0.01).cpu()"
   ]
  },
  {
   "cell_type": "code",
   "execution_count": 30,
   "metadata": {},
   "outputs": [
    {
     "name": "stdout",
     "output_type": "stream",
     "text": [
      "tensor(1655545.8750, device='cuda:0')\n",
      "tensor(1543199.1250, device='cuda:0')\n"
     ]
    },
    {
     "data": {
      "text/plain": [
       "<matplotlib.axes._subplots.AxesSubplot at 0x7f4130202150>"
      ]
     },
     "execution_count": 30,
     "metadata": {},
     "output_type": "execute_result"
    },
    {
     "data": {
      "image/png": "[encoded data removed]",
      "text/plain": [
       "<Figure size 432x288 with 2 Axes>"
      ]
     },
     "metadata": {
      "needs_background": "light"
     },
     "output_type": "display_data"
    }
   ],
   "source": [
    "print(gradients_before_burnin[:(D//2)].mean())\n",
    "print(gradients_before_burnin[(D//2):].mean())\n",
    "sns.heatmap(gradients_before_burnin.clone().detach().cpu().numpy()[:, np.newaxis])\n"
   ]
  },
  {
   "cell_type": "code",
   "execution_count": 31,
   "metadata": {},
   "outputs": [
    {
     "name": "stdout",
     "output_type": "stream",
     "text": [
      "tensor(30415.0176, device='cuda:0')\n",
      "tensor(22756.5898, device='cuda:0')\n"
     ]
    },
    {
     "data": {
      "text/plain": [
       "<matplotlib.axes._subplots.AxesSubplot at 0x7f41301ab510>"
      ]
     },
     "execution_count": 31,
     "metadata": {},
     "output_type": "execute_result"
    },
    {
     "data": {
      "image/png": "[encoded data removed]",
      "text/plain": [
       "<Figure size 432x288 with 2 Axes>"
      ]
     },
     "metadata": {
      "needs_background": "light"
     },
     "output_type": "display_data"
    }
   ],
   "source": [
    "print(gradient_post_burn_in[:(D//2)].mean())\n",
    "print(gradient_post_burn_in[(D//2):].mean())\n",
    "sns.heatmap(gradient_post_burn_in.clone().detach().cpu().numpy()[:, np.newaxis])"
   ]
  },
  {
   "cell_type": "code",
   "execution_count": 32,
   "metadata": {},
   "outputs": [
    {
     "name": "stdout",
     "output_type": "stream",
     "text": [
      "tensor(5.9114)\n",
      "tensor(4.0886)\n"
     ]
    },
    {
     "data": {
      "text/plain": [
       "<matplotlib.axes._subplots.AxesSubplot at 0x7f4130021f90>"
      ]
     },
     "execution_count": 32,
     "metadata": {},
     "output_type": "execute_result"
    },
    {
     "data": {
      "image/png": "[encoded data removed]",
      "text/plain": [
       "<Figure size 432x288 with 2 Axes>"
      ]
     },
     "metadata": {
      "needs_background": "light"
     },
     "output_type": "display_data"
    }
   ],
   "source": [
    "print(subset_indices_before_burnin.sum(dim = 0)[:(D//2)].mean())\n",
    "print(subset_indices_before_burnin.sum(dim = 0)[(D//2):].mean())\n",
    "sns.heatmap(subset_indices_before_burnin.sum(dim = 0).clone().detach().cpu().numpy()[:, np.newaxis])"
   ]
  },
  {
   "cell_type": "code",
   "execution_count": 33,
   "metadata": {},
   "outputs": [
    {
     "name": "stdout",
     "output_type": "stream",
     "text": [
      "tensor(6.2770)\n",
      "tensor(3.7230)\n"
     ]
    },
    {
     "data": {
      "text/plain": [
       "<matplotlib.axes._subplots.AxesSubplot at 0x7f411d768b10>"
      ]
     },
     "execution_count": 33,
     "metadata": {},
     "output_type": "execute_result"
    },
    {
     "data": {
      "image/png": "[encoded data removed]",
      "text/plain": [
       "<Figure size 432x288 with 2 Axes>"
      ]
     },
     "metadata": {
      "needs_background": "light"
     },
     "output_type": "display_data"
    }
   ],
   "source": [
    "print(subset_indices_post_burnin.sum(dim = 0)[:(D//2)].mean())\n",
    "print(subset_indices_post_burnin.sum(dim = 0)[(D//2):].mean())\n",
    "sns.heatmap(subset_indices_post_burnin.sum(dim = 0).clone().detach().cpu().numpy()[:, np.newaxis])"
   ]
  },
  {
   "cell_type": "code",
   "execution_count": 34,
   "metadata": {},
   "outputs": [
    {
     "data": {
      "text/plain": [
       "tensor(11)"
      ]
     },
     "execution_count": 34,
     "metadata": {},
     "output_type": "execute_result"
    }
   ],
   "source": [
    "(subset_indices_post_burnin.sum(dim = 0)[:(D//2)] > 0).sum()"
   ]
  },
  {
   "cell_type": "code",
   "execution_count": 35,
   "metadata": {},
   "outputs": [
    {
     "data": {
      "text/plain": [
       "tensor(8)"
      ]
     },
     "execution_count": 35,
     "metadata": {},
     "output_type": "execute_result"
    }
   ],
   "source": [
    "(subset_indices_post_burnin.sum(dim = 0)[(D//2):] > 0).sum()"
   ]
  },
  {
   "cell_type": "code",
   "execution_count": 36,
   "metadata": {},
   "outputs": [
    {
     "data": {
      "text/plain": [
       "tensor([11.0880,  0.0000, 10.3270,  0.0000,  9.9989,  0.0000,  7.9473,  8.8751,\n",
       "         0.0000,  7.9791,  4.8129,  8.3647, 10.3226,  7.0781,  7.3608])"
      ]
     },
     "execution_count": 36,
     "metadata": {},
     "output_type": "execute_result"
    }
   ],
   "source": [
    "subset_indices_post_burnin.sum(dim = 0)[:(D//2)]"
   ]
  },
  {
   "cell_type": "code",
   "execution_count": 37,
   "metadata": {},
   "outputs": [
    {
     "data": {
      "text/plain": [
       "tensor([0.0000, 8.8294, 0.0000, 9.4481, 5.9344, 9.0839, 0.0000, 0.0000, 0.0000,\n",
       "        0.0000, 8.7959, 3.0003, 0.0000, 8.8450, 1.9086])"
      ]
     },
     "execution_count": 37,
     "metadata": {},
     "output_type": "execute_result"
    }
   ],
   "source": [
    "subset_indices_post_burnin.sum(dim = 0)[(D//2):]"
   ]
  },
  {
   "cell_type": "code",
   "execution_count": 38,
   "metadata": {},
   "outputs": [
    {
     "data": {
      "text/plain": [
       "tensor(38.3089)"
      ]
     },
     "execution_count": 38,
     "metadata": {},
     "output_type": "execute_result"
    }
   ],
   "source": [
    "subset_indices_post_burnin.sum(dim = 0)[:(D//2)].sum() - subset_indices_post_burnin.sum(dim = 0)[(D//2):].sum()"
   ]
  },
  {
   "cell_type": "code",
   "execution_count": null,
   "metadata": {},
   "outputs": [],
   "source": []
  },
  {
   "cell_type": "code",
   "execution_count": null,
   "metadata": {},
   "outputs": [],
   "source": []
  }
 ],
 "metadata": {
  "kernelspec": {
   "display_name": "Python [conda env:nyu] *",
   "language": "python",
   "name": "conda-env-nyu-py"
  },
  "language_info": {
   "codemirror_mode": {
    "name": "ipython",
    "version": 3
   },
   "file_extension": ".py",
   "mimetype": "text/x-python",
   "name": "python",
   "nbconvert_exporter": "python",
   "pygments_lexer": "ipython3",
   "version": "3.7.6"
  }
 },
 "nbformat": 4,
 "nbformat_minor": 4
}
