{
 "cells": [
  {
   "cell_type": "markdown",
   "metadata": {},
   "source": [
    "So we know that Gumbel selects things relatively well. Its effects of Zeisel though are a bit muddled because of reconstruction. Let's do a simple synethetic dataset. Half the features are real. Half the features at noise."
   ]
  },
  {
   "cell_type": "code",
   "execution_count": 1,
   "metadata": {},
   "outputs": [],
   "source": [
    "import torch\n",
    "\n",
    "\n",
    "from torch import nn\n",
    "from torch.autograd import Variable\n",
    "from torch.nn import functional as F\n",
    "\n",
    "import numpy as np\n",
    "\n",
    "import matplotlib.pyplot as plt\n",
    "#from sklearn.manifold import TSNE\n",
    "\n",
    "#import math\n",
    "\n",
    "#import gc\n",
    "\n",
    "from utils import *\n",
    "\n",
    "from sklearn.preprocessing import MinMaxScaler\n",
    "\n",
    "from scipy.stats import pearsonr"
   ]
  },
  {
   "cell_type": "code",
   "execution_count": 2,
   "metadata": {},
   "outputs": [],
   "source": [
    "torch.manual_seed(0)\n",
    "np.random.seed(0)"
   ]
  },
  {
   "cell_type": "code",
   "execution_count": 3,
   "metadata": {},
   "outputs": [],
   "source": [
    "#BASE_PATH_DATA = '../data/'\n",
    "BASE_PATH_DATA = '/scratch/ns3429/sparse-subset/data/'"
   ]
  },
  {
   "cell_type": "code",
   "execution_count": 4,
   "metadata": {},
   "outputs": [],
   "source": [
    "# really good results for vanilla VAE on synthetic data with EPOCHS set to 50, \n",
    "# but when running locally set to 10 for reasonable run times\n",
    "n_epochs = 10\n",
    "#n_epochs = 20\n",
    "batch_size = 64\n",
    "lr = 0.0001\n",
    "b1 = 0.9\n",
    "b2 = 0.999\n",
    "\n",
    "\n",
    "# from running\n",
    "# EPSILON = np.finfo(tf.float32.as_numpy_dtype).tiny\n",
    "#EPSILON = 1.1754944e-38\n",
    "EPSILON = 1e-10"
   ]
  },
  {
   "cell_type": "code",
   "execution_count": 5,
   "metadata": {},
   "outputs": [],
   "source": [
    "cuda = True if torch.cuda.is_available() else False\n",
    "\n",
    "Tensor = torch.cuda.FloatTensor if cuda else torch.FloatTensor\n",
    "\n",
    "device = torch.device(\"cuda:0\" if cuda else \"cpu\")\n",
    "#device = 'cpu'"
   ]
  },
  {
   "cell_type": "code",
   "execution_count": 6,
   "metadata": {},
   "outputs": [
    {
     "name": "stdout",
     "output_type": "stream",
     "text": [
      "Device\n",
      "cuda:0\n"
     ]
    }
   ],
   "source": [
    "print(\"Device\")\n",
    "print(device)"
   ]
  },
  {
   "cell_type": "markdown",
   "metadata": {},
   "source": [
    "Create the data"
   ]
  },
  {
   "cell_type": "code",
   "execution_count": 7,
   "metadata": {},
   "outputs": [],
   "source": [
    "D = 30\n",
    "N = 5000\n",
    "z_size = 5"
   ]
  },
  {
   "cell_type": "code",
   "execution_count": 8,
   "metadata": {},
   "outputs": [],
   "source": [
    "latent_data = np.random.normal(loc=0.0, scale=1.0, size=N*z_size).reshape(N, z_size)"
   ]
  },
  {
   "cell_type": "code",
   "execution_count": 9,
   "metadata": {},
   "outputs": [
    {
     "data": {
      "text/plain": [
       "Sequential(\n",
       "  (0): Linear(in_features=5, out_features=10, bias=False)\n",
       "  (1): Tanh()\n",
       "  (2): Linear(in_features=10, out_features=30, bias=True)\n",
       "  (3): ReLU()\n",
       ")"
      ]
     },
     "execution_count": 9,
     "metadata": {},
     "output_type": "execute_result"
    }
   ],
   "source": [
    "data_mapper = nn.Sequential(\n",
    "    nn.Linear(z_size, 2 * z_size, bias=False),\n",
    "    nn.Tanh(),\n",
    "    nn.Linear(2 * z_size, D, bias = True),\n",
    "    nn.ReLU()\n",
    ").to(device)\n",
    "\n",
    "data_mapper.requires_grad_(False)"
   ]
  },
  {
   "cell_type": "code",
   "execution_count": 10,
   "metadata": {},
   "outputs": [
    {
     "data": {
      "text/plain": [
       "tensor([[ 1.7641,  0.4002,  0.9787,  2.2409,  1.8676],\n",
       "        [-0.9773,  0.9501, -0.1514, -0.1032,  0.4106],\n",
       "        [ 0.1440,  1.4543,  0.7610,  0.1217,  0.4439],\n",
       "        ...,\n",
       "        [ 0.2501, -1.0168,  0.0459,  0.5006,  1.2243],\n",
       "        [-0.5595,  1.5234, -0.5857,  0.8466, -0.1063],\n",
       "        [ 0.7700,  0.7508, -0.5606, -1.7603,  0.4371]], device='cuda:0')"
      ]
     },
     "execution_count": 10,
     "metadata": {},
     "output_type": "execute_result"
    }
   ],
   "source": [
    "latent_data = Tensor(latent_data)\n",
    "latent_data.requires_grad_(False)"
   ]
  },
  {
   "cell_type": "code",
   "execution_count": 11,
   "metadata": {},
   "outputs": [],
   "source": [
    "actual_data = data_mapper(latent_data)"
   ]
  },
  {
   "cell_type": "code",
   "execution_count": 12,
   "metadata": {},
   "outputs": [
    {
     "name": "stdout",
     "output_type": "stream",
     "text": [
      "tensor(19, device='cuda:0')\n",
      "tensor(12, device='cuda:0')\n",
      "tensor(18, device='cuda:0')\n",
      "tensor(14, device='cuda:0')\n",
      "tensor(14, device='cuda:0')\n"
     ]
    }
   ],
   "source": [
    "for i in range(5):\n",
    "    print(torch.sum(actual_data[i,:] != 0))"
   ]
  },
  {
   "cell_type": "markdown",
   "metadata": {},
   "source": [
    "For each sample, half the data is non zero, whereas in zeisel, about 25% if non zero. Easier than Zeisel good."
   ]
  },
  {
   "cell_type": "code",
   "execution_count": 13,
   "metadata": {},
   "outputs": [
    {
     "data": {
      "text/plain": [
       "tensor([[-1.0921e-02, -6.1085e-04, -1.4928e-02,  ..., -1.4309e-02,\n",
       "          1.6859e-02, -1.2177e-02],\n",
       "        [ 7.6496e-03,  1.1971e-02, -2.2414e-02,  ...,  1.0256e-02,\n",
       "         -5.5957e-03,  4.3434e-03],\n",
       "        [ 2.7566e-03,  1.0969e-03,  3.5942e-03,  ...,  6.0039e-03,\n",
       "          8.7524e-04,  7.0365e-03],\n",
       "        ...,\n",
       "        [ 1.8449e-02,  8.3797e-04, -8.9499e-03,  ...,  8.9735e-04,\n",
       "         -1.6982e-03,  7.8153e-03],\n",
       "        [-1.0649e-02, -9.6204e-03, -8.1562e-03,  ..., -2.2612e-04,\n",
       "         -1.4104e-02, -8.2127e-03],\n",
       "        [ 2.1183e-02, -1.1416e-02,  1.8769e-03,  ..., -1.3100e-02,\n",
       "         -6.2333e-03, -4.3646e-05]], device='cuda:0')"
      ]
     },
     "execution_count": 13,
     "metadata": {},
     "output_type": "execute_result"
    }
   ],
   "source": [
    "noise_features = torch.empty(N * D).normal_(mean=0,std=0.01).reshape(N, D).to(device)\n",
    "noise_features.requires_grad_(False)"
   ]
  },
  {
   "cell_type": "code",
   "execution_count": 14,
   "metadata": {},
   "outputs": [],
   "source": [
    "actual_data = torch.cat([actual_data, noise_features], dim = 1)"
   ]
  },
  {
   "cell_type": "code",
   "execution_count": 15,
   "metadata": {},
   "outputs": [
    {
     "data": {
      "text/plain": [
       "torch.Size([5000, 60])"
      ]
     },
     "execution_count": 15,
     "metadata": {},
     "output_type": "execute_result"
    }
   ],
   "source": [
    "actual_data.shape"
   ]
  },
  {
   "cell_type": "code",
   "execution_count": 16,
   "metadata": {},
   "outputs": [],
   "source": [
    "actual_data = actual_data.cpu().numpy()\n",
    "scaler = MinMaxScaler()\n",
    "actual_data = scaler.fit_transform(actual_data)\n",
    "\n",
    "actual_data = Tensor(actual_data)"
   ]
  },
  {
   "cell_type": "code",
   "execution_count": 17,
   "metadata": {},
   "outputs": [
    {
     "data": {
      "text/plain": [
       "tensor([0.1866, 0.2313, 0.2054, 0.2209, 0.2323, 0.1899, 0.1801, 0.1969, 0.1133,\n",
       "        0.2353, 0.0925, 0.1310, 0.1725, 0.1902, 0.2294, 0.2275, 0.2082, 0.0530,\n",
       "        0.0980, 0.1738, 0.1728, 0.2156, 0.0460, 0.0932, 0.0255, 0.1816, 0.1587,\n",
       "        0.2263, 0.2125, 0.2393, 0.1326, 0.1439, 0.1281, 0.1421, 0.1297, 0.1413,\n",
       "        0.1492, 0.1272, 0.1233, 0.1420, 0.1422, 0.1363, 0.1256, 0.1288, 0.1377,\n",
       "        0.1438, 0.1337, 0.1331, 0.1258, 0.1346, 0.1507, 0.1223, 0.1429, 0.1343,\n",
       "        0.1348, 0.1361, 0.1388, 0.1391, 0.1426, 0.1383], device='cuda:0')"
      ]
     },
     "execution_count": 17,
     "metadata": {},
     "output_type": "execute_result"
    }
   ],
   "source": [
    "actual_data.std(dim = 0)"
   ]
  },
  {
   "cell_type": "markdown",
   "metadata": {},
   "source": [
    "Standard deviatiosn are comparable."
   ]
  },
  {
   "cell_type": "code",
   "execution_count": 18,
   "metadata": {},
   "outputs": [
    {
     "data": {
      "text/plain": [
       "torch.return_types.max(\n",
       "values=tensor([1.0000, 1.0000, 1.0000, 1.0000, 1.0000, 1.0000, 1.0000, 1.0000, 1.0000,\n",
       "        1.0000, 1.0000, 1.0000, 1.0000, 1.0000, 1.0000, 1.0000, 1.0000, 1.0000,\n",
       "        1.0000, 1.0000, 1.0000, 1.0000, 1.0000, 1.0000, 1.0000, 1.0000, 1.0000,\n",
       "        1.0000, 1.0000, 1.0000, 1.0000, 1.0000, 1.0000, 1.0000, 1.0000, 1.0000,\n",
       "        1.0000, 1.0000, 1.0000, 1.0000, 1.0000, 1.0000, 1.0000, 1.0000, 1.0000,\n",
       "        1.0000, 1.0000, 1.0000, 1.0000, 1.0000, 1.0000, 1.0000, 1.0000, 1.0000,\n",
       "        1.0000, 1.0000, 1.0000, 1.0000, 1.0000, 1.0000], device='cuda:0'),\n",
       "indices=tensor([ 738, 4262, 1553, 1484, 2220, 1316, 3892, 1316, 3121, 3883, 1838,  623,\n",
       "        1004, 4856,  689, 2033, 2038, 1316, 4515, 4562, 4668,  616,  894, 4515,\n",
       "        1885, 3892, 4615,  819, 4397, 4293,  713, 2220, 3813, 4659, 4389, 3659,\n",
       "         309, 1804,  495, 4790, 3110, 4671,   36,    0, 1215,  148, 4008, 1317,\n",
       "        2503, 1402, 1580, 2684, 4078, 3334, 1376, 2499, 1301, 3114, 4203, 3183],\n",
       "       device='cuda:0'))"
      ]
     },
     "execution_count": 18,
     "metadata": {},
     "output_type": "execute_result"
    }
   ],
   "source": [
    "actual_data.max(dim = 0)"
   ]
  },
  {
   "cell_type": "code",
   "execution_count": 19,
   "metadata": {},
   "outputs": [
    {
     "data": {
      "text/plain": [
       "torch.return_types.min(\n",
       "values=tensor([0., 0., 0., 0., 0., 0., 0., 0., 0., 0., 0., 0., 0., 0., 0., 0., 0., 0., 0., 0., 0., 0., 0., 0.,\n",
       "        0., 0., 0., 0., 0., 0., 0., 0., 0., 0., 0., 0., 0., 0., 0., 0., 0., 0., 0., 0., 0., 0., 0., 0.,\n",
       "        0., 0., 0., 0., 0., 0., 0., 0., 0., 0., 0., 0.], device='cuda:0'),\n",
       "indices=tensor([   1,    8,    0,    1,    0,    5,    1,    1,    1,    0,    1,    1,\n",
       "           0,   13,    3,    3,    1,    0,    0,    1,    1,    8,    0,    0,\n",
       "           0,    1,  254,    4,    0,    0,  454, 3677, 1909, 3750, 3638, 4476,\n",
       "         553, 4105,  289, 1150, 2707, 1846, 3579, 3101,  299, 1324, 3277, 4318,\n",
       "        3023,  967, 2932, 3588,  919, 1190,  271, 2937, 3428, 3955, 2719,  198],\n",
       "       device='cuda:0'))"
      ]
     },
     "execution_count": 19,
     "metadata": {},
     "output_type": "execute_result"
    }
   ],
   "source": [
    "actual_data.min(dim = 0)"
   ]
  },
  {
   "cell_type": "code",
   "execution_count": 20,
   "metadata": {},
   "outputs": [
    {
     "name": "stdout",
     "output_type": "stream",
     "text": [
      "tensor(49, device='cuda:0')\n",
      "tensor(42, device='cuda:0')\n",
      "tensor(48, device='cuda:0')\n",
      "tensor(44, device='cuda:0')\n",
      "tensor(44, device='cuda:0')\n"
     ]
    }
   ],
   "source": [
    "for i in range(5):\n",
    "    print(torch.sum(actual_data[i,:] != 0))"
   ]
  },
  {
   "cell_type": "code",
   "execution_count": 21,
   "metadata": {},
   "outputs": [],
   "source": [
    "slices = np.random.permutation(np.arange(actual_data.shape[0]))\n",
    "upto = int(.8 * len(actual_data))\n",
    "\n",
    "train_data = actual_data[slices[:upto]]\n",
    "test_data = actual_data[slices[upto:]]"
   ]
  },
  {
   "cell_type": "code",
   "execution_count": 22,
   "metadata": {},
   "outputs": [
    {
     "data": {
      "text/plain": [
       "torch.Size([4000, 60])"
      ]
     },
     "execution_count": 22,
     "metadata": {},
     "output_type": "execute_result"
    }
   ],
   "source": [
    "train_data.shape"
   ]
  },
  {
   "cell_type": "code",
   "execution_count": 23,
   "metadata": {},
   "outputs": [
    {
     "data": {
      "text/plain": [
       "torch.Size([1000, 60])"
      ]
     },
     "execution_count": 23,
     "metadata": {},
     "output_type": "execute_result"
    }
   ],
   "source": [
    "test_data.shape"
   ]
  },
  {
   "cell_type": "markdown",
   "metadata": {},
   "source": [
    "Look at correlations"
   ]
  },
  {
   "cell_type": "code",
   "execution_count": 24,
   "metadata": {},
   "outputs": [],
   "source": [
    "def pairwise_correlations(dataset):\n",
    "    cor_df = np.zeros((dataset.shape[1], dataset.shape[1]))\n",
    "    for row in np.arange(dataset.shape[1]):\n",
    "        for col in np.arange(dataset.shape[1]):\n",
    "            cor_df[row, col] = pearsonr(dataset[row], dataset[col])[0]\n",
    "    return cor_df"
   ]
  },
  {
   "cell_type": "code",
   "execution_count": 25,
   "metadata": {},
   "outputs": [
    {
     "name": "stdout",
     "output_type": "stream",
     "text": [
      "16\n",
      "2\n"
     ]
    },
    {
     "data": {
      "image/png": "[encoded data removed]",
      "text/plain": [
       "<Figure size 432x288 with 2 Axes>"
      ]
     },
     "metadata": {
      "needs_background": "light"
     },
     "output_type": "display_data"
    }
   ],
   "source": [
    "actual_data_clone = actual_data.clone().detach().cpu().numpy()\n",
    "\n",
    "pairwise_cor_df = pairwise_correlations(actual_data_clone)\n",
    "\n",
    "import seaborn as sns\n",
    "\n",
    "sns.heatmap(pairwise_cor_df)\n",
    "\n",
    "correlates = []\n",
    "for i in range(2 * D):\n",
    "    one = np.sum(np.abs(pairwise_cor_df[i, :D]))\n",
    "    two = np.sum(np.abs(pairwise_cor_df[i, D:2*D]))\n",
    "    #correlates.append([one, two])\n",
    "    correlates.append(one > two)\n",
    "    \n",
    "# correlation of that feature with the first 30 features and the second 30 features\n",
    "print(np.sum(correlates[:D]))\n",
    "\n",
    "print(np.sum(correlates[D:2*D]))"
   ]
  },
  {
   "cell_type": "markdown",
   "metadata": {},
   "source": [
    "# Now run all of the notebook or just the last part focusing on gumbel vs gradients on truncated (or not) losses"
   ]
  },
  {
   "cell_type": "markdown",
   "metadata": {},
   "source": [
    "Data is all ready. Now time to feed into into a pretraining-matching Gumbel and joint training Gumbel."
   ]
  },
  {
   "cell_type": "markdown",
   "metadata": {},
   "source": [
    "Pre train VAE First"
   ]
  },
  {
   "cell_type": "code",
   "execution_count": 51,
   "metadata": {},
   "outputs": [],
   "source": [
    "pretrain_vae = VAE(2*D, 100, 20)\n",
    "\n",
    "pretrain_vae.to(device)\n",
    "pretrain_vae_optimizer = torch.optim.Adam(pretrain_vae.parameters(), \n",
    "                                            lr=lr,\n",
    "                                            betas = (b1,b2))\n",
    "\n",
    "#pretrain_vae_optimizer = torch.optim.SGD(pretrain_vae.parameters(), \n",
    "#                                            lr=lr, momentum = 0.9)"
   ]
  },
  {
   "cell_type": "code",
   "execution_count": 52,
   "metadata": {},
   "outputs": [
    {
     "name": "stdout",
     "output_type": "stream",
     "text": [
      "Train Epoch: 1 [0/4000 (0%)]\tLoss: 42.017113\n",
      "Train Epoch: 1 [1280/4000 (32%)]\tLoss: 40.903053\n",
      "Train Epoch: 1 [2560/4000 (64%)]\tLoss: 39.910145\n",
      "Train Epoch: 1 [3840/4000 (96%)]\tLoss: 39.210461\n",
      "====> Epoch: 1 Average loss: 40.4244\n",
      "====> Test set loss: 38.9524\n",
      "Train Epoch: 2 [0/4000 (0%)]\tLoss: 38.888924\n",
      "Train Epoch: 2 [1280/4000 (32%)]\tLoss: 38.212513\n",
      "Train Epoch: 2 [2560/4000 (64%)]\tLoss: 36.419609\n",
      "Train Epoch: 2 [3840/4000 (96%)]\tLoss: 35.664536\n",
      "====> Epoch: 2 Average loss: 37.3049\n",
      "====> Test set loss: 35.4656\n",
      "Train Epoch: 3 [0/4000 (0%)]\tLoss: 35.430317\n",
      "Train Epoch: 3 [1280/4000 (32%)]\tLoss: 34.606815\n",
      "Train Epoch: 3 [2560/4000 (64%)]\tLoss: 34.577702\n",
      "Train Epoch: 3 [3840/4000 (96%)]\tLoss: 34.209206\n",
      "====> Epoch: 3 Average loss: 34.6850\n",
      "====> Test set loss: 34.1042\n",
      "Train Epoch: 4 [0/4000 (0%)]\tLoss: 34.345818\n",
      "Train Epoch: 4 [1280/4000 (32%)]\tLoss: 34.207222\n",
      "Train Epoch: 4 [2560/4000 (64%)]\tLoss: 33.563995\n",
      "Train Epoch: 4 [3840/4000 (96%)]\tLoss: 33.908337\n",
      "====> Epoch: 4 Average loss: 33.8812\n",
      "====> Test set loss: 33.6500\n",
      "Train Epoch: 5 [0/4000 (0%)]\tLoss: 33.996525\n",
      "Train Epoch: 5 [1280/4000 (32%)]\tLoss: 33.835045\n",
      "Train Epoch: 5 [2560/4000 (64%)]\tLoss: 33.518723\n",
      "Train Epoch: 5 [3840/4000 (96%)]\tLoss: 33.168392\n",
      "====> Epoch: 5 Average loss: 33.5430\n",
      "====> Test set loss: 33.3353\n",
      "Train Epoch: 6 [0/4000 (0%)]\tLoss: 33.442101\n",
      "Train Epoch: 6 [1280/4000 (32%)]\tLoss: 33.615280\n",
      "Train Epoch: 6 [2560/4000 (64%)]\tLoss: 33.352787\n",
      "Train Epoch: 6 [3840/4000 (96%)]\tLoss: 33.062305\n",
      "====> Epoch: 6 Average loss: 33.3164\n",
      "====> Test set loss: 33.1817\n",
      "Train Epoch: 7 [0/4000 (0%)]\tLoss: 33.309429\n",
      "Train Epoch: 7 [1280/4000 (32%)]\tLoss: 33.084484\n",
      "Train Epoch: 7 [2560/4000 (64%)]\tLoss: 33.366402\n",
      "Train Epoch: 7 [3840/4000 (96%)]\tLoss: 33.056320\n",
      "====> Epoch: 7 Average loss: 33.1319\n",
      "====> Test set loss: 33.0265\n",
      "Train Epoch: 8 [0/4000 (0%)]\tLoss: 33.327454\n",
      "Train Epoch: 8 [1280/4000 (32%)]\tLoss: 33.176674\n",
      "Train Epoch: 8 [2560/4000 (64%)]\tLoss: 33.073765\n",
      "Train Epoch: 8 [3840/4000 (96%)]\tLoss: 32.693161\n",
      "====> Epoch: 8 Average loss: 33.0185\n",
      "====> Test set loss: 32.9396\n",
      "Train Epoch: 9 [0/4000 (0%)]\tLoss: 32.457218\n",
      "Train Epoch: 9 [1280/4000 (32%)]\tLoss: 32.928253\n",
      "Train Epoch: 9 [2560/4000 (64%)]\tLoss: 32.993736\n",
      "Train Epoch: 9 [3840/4000 (96%)]\tLoss: 32.937096\n",
      "====> Epoch: 9 Average loss: 32.9161\n",
      "====> Test set loss: 32.8299\n",
      "Train Epoch: 10 [0/4000 (0%)]\tLoss: 32.924587\n",
      "Train Epoch: 10 [1280/4000 (32%)]\tLoss: 32.558769\n",
      "Train Epoch: 10 [2560/4000 (64%)]\tLoss: 32.684296\n",
      "Train Epoch: 10 [3840/4000 (96%)]\tLoss: 33.207237\n",
      "====> Epoch: 10 Average loss: 32.8035\n",
      "====> Test set loss: 32.6680\n"
     ]
    }
   ],
   "source": [
    "for epoch in range(1, n_epochs + 1):\n",
    "    train(train_data, pretrain_vae, pretrain_vae_optimizer, epoch, batch_size)\n",
    "    test(test_data, pretrain_vae, epoch, batch_size)"
   ]
  },
  {
   "cell_type": "code",
   "execution_count": 53,
   "metadata": {},
   "outputs": [
    {
     "name": "stdout",
     "output_type": "stream",
     "text": [
      "Test Loss\n",
      "tensor(0.5371, device='cuda:0')\n"
     ]
    }
   ],
   "source": [
    "with torch.no_grad():\n",
    "    print(\"Test Loss\")\n",
    "    print(F.binary_cross_entropy(pretrain_vae(test_data)[0], test_data))"
   ]
  },
  {
   "cell_type": "markdown",
   "metadata": {},
   "source": [
    "Actually pretty good! %35 percent off when wrong\n",
    "\n",
    "Get 0.49 when nepochs is 50.\n",
    "Get 0.54 when nepochs is 10."
   ]
  },
  {
   "cell_type": "markdown",
   "metadata": {},
   "source": [
    "As a note, if the final layer of the data mapper is not ReLU, this reconstruction is usually on point. When some of the features can be sparse, then this becomes troublesome."
   ]
  },
  {
   "cell_type": "markdown",
   "metadata": {},
   "source": [
    "Compare means"
   ]
  },
  {
   "cell_type": "code",
   "execution_count": 54,
   "metadata": {},
   "outputs": [
    {
     "data": {
      "text/plain": [
       "tensor([0.0931, 0.3051, 0.1384, 0.2096, 0.2092, 0.2112, 0.1042, 0.2325, 0.0347,\n",
       "        0.2014, 0.0244, 0.0502, 0.0919, 0.2735, 0.2254, 0.3294, 0.2786, 0.0084,\n",
       "        0.0338, 0.1001, 0.0849, 0.2512, 0.0048, 0.0257, 0.0015, 0.0874, 0.4764,\n",
       "        0.3270, 0.2107, 0.2899], device='cuda:0')"
      ]
     },
     "execution_count": 54,
     "metadata": {},
     "output_type": "execute_result"
    }
   ],
   "source": [
    "train_data.mean(dim = 0)[:D]"
   ]
  },
  {
   "cell_type": "code",
   "execution_count": 55,
   "metadata": {},
   "outputs": [
    {
     "data": {
      "text/plain": [
       "tensor([0.0978, 0.3031, 0.1394, 0.2099, 0.2063, 0.2098, 0.1076, 0.2316, 0.0298,\n",
       "        0.1968, 0.0261, 0.0561, 0.0848, 0.2727, 0.2320, 0.3355, 0.2739, 0.0056,\n",
       "        0.0301, 0.0953, 0.0889, 0.2483, 0.0063, 0.0231, 0.0009, 0.0924, 0.4782,\n",
       "        0.3251, 0.2092, 0.2881], device='cuda:0')"
      ]
     },
     "execution_count": 55,
     "metadata": {},
     "output_type": "execute_result"
    }
   ],
   "source": [
    "test_data.mean(dim = 0)[:D]"
   ]
  },
  {
   "cell_type": "code",
   "execution_count": 56,
   "metadata": {},
   "outputs": [
    {
     "data": {
      "text/plain": [
       "tensor([0.0908, 0.3028, 0.1420, 0.2037, 0.2054, 0.1995, 0.0929, 0.2195, 0.0451,\n",
       "        0.2090, 0.0452, 0.0758, 0.0977, 0.2881, 0.2152, 0.3182, 0.2690, 0.0362,\n",
       "        0.0545, 0.0943, 0.0869, 0.2433, 0.0329, 0.0432, 0.0287, 0.0824, 0.4680,\n",
       "        0.3353, 0.2242, 0.3056], device='cuda:0', grad_fn=<SliceBackward>)"
      ]
     },
     "execution_count": 56,
     "metadata": {},
     "output_type": "execute_result"
    }
   ],
   "source": [
    "pretrain_vae(test_data)[0].mean(dim = 0)[:D]"
   ]
  },
  {
   "cell_type": "markdown",
   "metadata": {},
   "source": [
    "Compare standard deviations"
   ]
  },
  {
   "cell_type": "code",
   "execution_count": 57,
   "metadata": {},
   "outputs": [
    {
     "data": {
      "text/plain": [
       "tensor([0.1913, 0.2338, 0.2076, 0.2199, 0.2306, 0.1890, 0.1805, 0.1945, 0.1051,\n",
       "        0.2321, 0.0976, 0.1389, 0.1652, 0.1922, 0.2341, 0.2330, 0.2048, 0.0390,\n",
       "        0.0929, 0.1692, 0.1755, 0.2236, 0.0499, 0.0923, 0.0152, 0.1863, 0.1593,\n",
       "        0.2244, 0.2096, 0.2350], device='cuda:0')"
      ]
     },
     "execution_count": 57,
     "metadata": {},
     "output_type": "execute_result"
    }
   ],
   "source": [
    "test_data.std(dim = 0)[:D]"
   ]
  },
  {
   "cell_type": "code",
   "execution_count": 58,
   "metadata": {},
   "outputs": [
    {
     "data": {
      "text/plain": [
       "tensor([0.0511, 0.0425, 0.0579, 0.0826, 0.0531, 0.0612, 0.0585, 0.0769, 0.0445,\n",
       "        0.0565, 0.0429, 0.0661, 0.0559, 0.0466, 0.0819, 0.0599, 0.0610, 0.0445,\n",
       "        0.0506, 0.0552, 0.0604, 0.0814, 0.0368, 0.0407, 0.0333, 0.0639, 0.0274,\n",
       "        0.0448, 0.0572, 0.0524], device='cuda:0', grad_fn=<SliceBackward>)"
      ]
     },
     "execution_count": 58,
     "metadata": {},
     "output_type": "execute_result"
    }
   ],
   "source": [
    "pretrain_vae(test_data)[0].std(dim = 0)[:D]"
   ]
  },
  {
   "cell_type": "code",
   "execution_count": 59,
   "metadata": {},
   "outputs": [
    {
     "data": {
      "text/plain": [
       "tensor([0.0258, 0.0224, 0.0220, 0.0211, 0.0209, 0.0197, 0.0212, 0.0261, 0.0275,\n",
       "        0.0209, 0.0215, 0.0206, 0.0221, 0.0222, 0.0201, 0.0218, 0.0185, 0.0206,\n",
       "        0.0206, 0.0207, 0.0223, 0.0241, 0.0222, 0.0233, 0.0185, 0.0219, 0.0201,\n",
       "        0.0244, 0.0202, 0.0212], device='cuda:0', grad_fn=<SliceBackward>)"
      ]
     },
     "execution_count": 59,
     "metadata": {},
     "output_type": "execute_result"
    }
   ],
   "source": [
    "pretrain_vae(test_data)[0].std(dim = 0)[D:2*D]"
   ]
  },
  {
   "cell_type": "code",
   "execution_count": 60,
   "metadata": {},
   "outputs": [],
   "source": [
    "average_std = pretrain_vae(test_data)[0].std(dim = 0)[:D] / test_data.std(dim = 0)[:D]"
   ]
  },
  {
   "cell_type": "code",
   "execution_count": 61,
   "metadata": {},
   "outputs": [
    {
     "name": "stdout",
     "output_type": "stream",
     "text": [
      "tensor([0.2619, 0.1723, 0.2832, 0.3759, 0.2315, 0.3217, 0.3184, 0.3969, 0.4278,\n",
      "        0.2500, 0.4480, 0.4793, 0.3413, 0.2330, 0.3427, 0.2593, 0.2840, 1.1526,\n",
      "        0.5259, 0.3186, 0.3528, 0.3536, 0.7277, 0.4432, 2.2260, 0.3402, 0.1694,\n",
      "        0.1951, 0.2686, 0.2173], device='cuda:0', grad_fn=<DivBackward0>)\n",
      "0.4239330589771271\n"
     ]
    }
   ],
   "source": [
    "print(average_std)\n",
    "print(average_std.mean().item())"
   ]
  },
  {
   "cell_type": "markdown",
   "metadata": {},
   "source": [
    "Get .8 as the mean when nepoch is 50. Get 0.43 as the mean when nepochs is 10."
   ]
  },
  {
   "cell_type": "markdown",
   "metadata": {},
   "source": [
    "Compare values"
   ]
  },
  {
   "cell_type": "code",
   "execution_count": 62,
   "metadata": {},
   "outputs": [],
   "source": [
    "samp = 45"
   ]
  },
  {
   "cell_type": "code",
   "execution_count": 63,
   "metadata": {},
   "outputs": [
    {
     "data": {
      "text/plain": [
       "tensor([0.0000, 0.5286, 0.0000, 0.0231, 0.6963, 0.3966, 0.0103, 0.2939, 0.0000,\n",
       "        0.3152, 0.0000, 0.0000, 0.0000, 0.0617, 0.4150, 0.6262, 0.2110, 0.0000,\n",
       "        0.0000, 0.0000, 0.0000, 0.6829, 0.0000, 0.0000, 0.0000, 0.0000, 0.3516,\n",
       "        0.0000, 0.6491, 0.4560], device='cuda:0')"
      ]
     },
     "execution_count": 63,
     "metadata": {},
     "output_type": "execute_result"
    }
   ],
   "source": [
    "test_data[samp,:D]"
   ]
  },
  {
   "cell_type": "code",
   "execution_count": 64,
   "metadata": {},
   "outputs": [
    {
     "data": {
      "text/plain": [
       "tensor([0.0427, 0.2685, 0.0914, 0.1420, 0.1793, 0.1437, 0.0416, 0.1626, 0.0145,\n",
       "        0.1706, 0.0122, 0.0227, 0.0351, 0.2458, 0.1958, 0.2595, 0.1965, 0.0051,\n",
       "        0.0129, 0.0453, 0.0373, 0.1502, 0.0066, 0.0143, 0.0065, 0.0323, 0.4923,\n",
       "        0.3206, 0.1736, 0.2875], device='cuda:0', grad_fn=<SliceBackward>)"
      ]
     },
     "execution_count": 64,
     "metadata": {},
     "output_type": "execute_result"
    }
   ],
   "source": [
    "pretrain_vae(test_data)[0][samp, :D]"
   ]
  },
  {
   "cell_type": "code",
   "execution_count": 65,
   "metadata": {},
   "outputs": [
    {
     "data": {
      "text/plain": [
       "tensor(0.1399, device='cuda:0', grad_fn=<MeanBackward0>)"
      ]
     },
     "execution_count": 65,
     "metadata": {},
     "output_type": "execute_result"
    }
   ],
   "source": [
    "torch.abs(test_data[samp,:D] - pretrain_vae(test_data)[0][samp, :D]).mean()"
   ]
  },
  {
   "cell_type": "code",
   "execution_count": 66,
   "metadata": {},
   "outputs": [
    {
     "data": {
      "text/plain": [
       "tensor(-0.1136, device='cuda:0', grad_fn=<MeanBackward0>)"
      ]
     },
     "execution_count": 66,
     "metadata": {},
     "output_type": "execute_result"
    }
   ],
   "source": [
    "pretrain_vae(test_data)[1][:, :D].mean()"
   ]
  },
  {
   "cell_type": "code",
   "execution_count": 67,
   "metadata": {},
   "outputs": [
    {
     "data": {
      "text/plain": [
       "tensor(0.8901, device='cuda:0', grad_fn=<MeanBackward0>)"
      ]
     },
     "execution_count": 67,
     "metadata": {},
     "output_type": "execute_result"
    }
   ],
   "source": [
    "torch.exp(pretrain_vae(test_data)[2][:, :D]).mean()"
   ]
  },
  {
   "cell_type": "code",
   "execution_count": 68,
   "metadata": {},
   "outputs": [
    {
     "data": {
      "text/plain": [
       "VAE(\n",
       "  (encoder): Sequential(\n",
       "    (0): Linear(in_features=60, out_features=200, bias=True)\n",
       "    (1): LeakyReLU(negative_slope=0.01)\n",
       "    (2): Linear(in_features=200, out_features=100, bias=True)\n",
       "    (3): LeakyReLU(negative_slope=0.01)\n",
       "    (4): Linear(in_features=100, out_features=100, bias=True)\n",
       "    (5): LeakyReLU(negative_slope=0.01)\n",
       "    (6): Linear(in_features=100, out_features=100, bias=True)\n",
       "    (7): LeakyReLU(negative_slope=0.01)\n",
       "  )\n",
       "  (enc_mean): Linear(in_features=100, out_features=20, bias=True)\n",
       "  (enc_logvar): Linear(in_features=100, out_features=20, bias=True)\n",
       "  (decoder): Sequential(\n",
       "    (0): Linear(in_features=20, out_features=200, bias=True)\n",
       "    (1): LeakyReLU(negative_slope=0.01)\n",
       "    (2): Linear(in_features=200, out_features=60, bias=True)\n",
       "    (3): Sigmoid()\n",
       "  )\n",
       ")"
      ]
     },
     "execution_count": 68,
     "metadata": {},
     "output_type": "execute_result"
    }
   ],
   "source": [
    "pretrain_vae.requires_grad_(False)"
   ]
  },
  {
   "cell_type": "markdown",
   "metadata": {},
   "source": [
    "This looks pretty good.\n",
    "\n",
    "**Gumbel matching pretrained VAE next**"
   ]
  },
  {
   "cell_type": "code",
   "execution_count": 69,
   "metadata": {},
   "outputs": [],
   "source": [
    "# let's see how it does here\n",
    "vae_gumbel_with_pre = VAE_Gumbel(2*D, 100, 20, k = 3*z_size)\n",
    "vae_gumbel_with_pre.to(device)\n",
    "vae_gumbel_with_pre_optimizer = torch.optim.Adam(vae_gumbel_with_pre.parameters(), \n",
    "                                                lr=lr, \n",
    "                                                betas = (b1,b2))"
   ]
  },
  {
   "cell_type": "code",
   "execution_count": 70,
   "metadata": {},
   "outputs": [
    {
     "name": "stdout",
     "output_type": "stream",
     "text": [
      "Train Epoch: 1 [0/4000 (0%)]\tLoss: 131.549118\n",
      "Train Epoch: 1 [1280/4000 (32%)]\tLoss: 124.330681\n",
      "Train Epoch: 1 [2560/4000 (64%)]\tLoss: 135.005920\n",
      "Train Epoch: 1 [3840/4000 (96%)]\tLoss: 113.650055\n",
      "====> Epoch: 1 Average loss: 127.3878\n",
      "====> Test set loss: 39.3864\n",
      "Train Epoch: 2 [0/4000 (0%)]\tLoss: 118.468437\n",
      "Train Epoch: 2 [1280/4000 (32%)]\tLoss: 102.895699\n",
      "Train Epoch: 2 [2560/4000 (64%)]\tLoss: 89.528763\n",
      "Train Epoch: 2 [3840/4000 (96%)]\tLoss: 63.037422\n",
      "====> Epoch: 2 Average loss: 93.6599\n",
      "====> Test set loss: 36.7838\n",
      "Train Epoch: 3 [0/4000 (0%)]\tLoss: 58.546532\n",
      "Train Epoch: 3 [1280/4000 (32%)]\tLoss: 55.447140\n",
      "Train Epoch: 3 [2560/4000 (64%)]\tLoss: 52.860619\n",
      "Train Epoch: 3 [3840/4000 (96%)]\tLoss: 52.858582\n",
      "====> Epoch: 3 Average loss: 54.7357\n",
      "====> Test set loss: 34.8553\n",
      "Train Epoch: 4 [0/4000 (0%)]\tLoss: 52.165733\n",
      "Train Epoch: 4 [1280/4000 (32%)]\tLoss: 51.336662\n",
      "Train Epoch: 4 [2560/4000 (64%)]\tLoss: 54.353249\n",
      "Train Epoch: 4 [3840/4000 (96%)]\tLoss: 49.435875\n",
      "====> Epoch: 4 Average loss: 51.2050\n",
      "====> Test set loss: 33.9991\n",
      "Train Epoch: 5 [0/4000 (0%)]\tLoss: 52.890106\n",
      "Train Epoch: 5 [1280/4000 (32%)]\tLoss: 47.368004\n",
      "Train Epoch: 5 [2560/4000 (64%)]\tLoss: 52.468666\n",
      "Train Epoch: 5 [3840/4000 (96%)]\tLoss: 46.865860\n",
      "====> Epoch: 5 Average loss: 50.0456\n",
      "====> Test set loss: 33.6222\n",
      "Train Epoch: 6 [0/4000 (0%)]\tLoss: 51.254303\n",
      "Train Epoch: 6 [1280/4000 (32%)]\tLoss: 50.040718\n",
      "Train Epoch: 6 [2560/4000 (64%)]\tLoss: 45.350574\n",
      "Train Epoch: 6 [3840/4000 (96%)]\tLoss: 45.420868\n",
      "====> Epoch: 6 Average loss: 49.3805\n",
      "====> Test set loss: 33.3538\n",
      "Train Epoch: 7 [0/4000 (0%)]\tLoss: 44.963558\n",
      "Train Epoch: 7 [1280/4000 (32%)]\tLoss: 46.864262\n",
      "Train Epoch: 7 [2560/4000 (64%)]\tLoss: 44.551815\n",
      "Train Epoch: 7 [3840/4000 (96%)]\tLoss: 49.530521\n",
      "====> Epoch: 7 Average loss: 48.7781\n",
      "====> Test set loss: 33.2253\n",
      "Train Epoch: 8 [0/4000 (0%)]\tLoss: 48.606457\n",
      "Train Epoch: 8 [1280/4000 (32%)]\tLoss: 46.324478\n",
      "Train Epoch: 8 [2560/4000 (64%)]\tLoss: 50.191059\n",
      "Train Epoch: 8 [3840/4000 (96%)]\tLoss: 45.292091\n",
      "====> Epoch: 8 Average loss: 48.3794\n",
      "====> Test set loss: 33.1441\n",
      "Train Epoch: 9 [0/4000 (0%)]\tLoss: 48.463879\n",
      "Train Epoch: 9 [1280/4000 (32%)]\tLoss: 47.223667\n",
      "Train Epoch: 9 [2560/4000 (64%)]\tLoss: 50.197624\n",
      "Train Epoch: 9 [3840/4000 (96%)]\tLoss: 46.697472\n",
      "====> Epoch: 9 Average loss: 47.7204\n",
      "====> Test set loss: 33.0215\n",
      "Train Epoch: 10 [0/4000 (0%)]\tLoss: 49.136162\n",
      "Train Epoch: 10 [1280/4000 (32%)]\tLoss: 44.512428\n",
      "Train Epoch: 10 [2560/4000 (64%)]\tLoss: 46.887108\n",
      "Train Epoch: 10 [3840/4000 (96%)]\tLoss: 45.664383\n",
      "====> Epoch: 10 Average loss: 46.8161\n",
      "====> Test set loss: 33.0297\n"
     ]
    }
   ],
   "source": [
    "for epoch in range(1, n_epochs + 1):\n",
    "    train_pre_trained(train_data, vae_gumbel_with_pre, vae_gumbel_with_pre_optimizer, \n",
    "                      epoch, pretrain_vae, batch_size)\n",
    "    test(test_data, vae_gumbel_with_pre, epoch, batch_size)"
   ]
  },
  {
   "cell_type": "code",
   "execution_count": 71,
   "metadata": {},
   "outputs": [
    {
     "name": "stdout",
     "output_type": "stream",
     "text": [
      "Test Loss\n",
      "tensor(0.5440, device='cuda:0')\n"
     ]
    }
   ],
   "source": [
    "with torch.no_grad():\n",
    "    print(\"Test Loss\")\n",
    "    print(F.binary_cross_entropy(vae_gumbel_with_pre(test_data)[0], test_data))"
   ]
  },
  {
   "cell_type": "markdown",
   "metadata": {},
   "source": [
    "Means"
   ]
  },
  {
   "cell_type": "code",
   "execution_count": 72,
   "metadata": {},
   "outputs": [
    {
     "data": {
      "text/plain": [
       "tensor([0.0978, 0.3031, 0.1394, 0.2099, 0.2063, 0.2098, 0.1076, 0.2316, 0.0298,\n",
       "        0.1968, 0.0261, 0.0561, 0.0848, 0.2727, 0.2320, 0.3355, 0.2739, 0.0056,\n",
       "        0.0301, 0.0953, 0.0889, 0.2483, 0.0063, 0.0231, 0.0009, 0.0924, 0.4782,\n",
       "        0.3251, 0.2092, 0.2881], device='cuda:0')"
      ]
     },
     "execution_count": 72,
     "metadata": {},
     "output_type": "execute_result"
    }
   ],
   "source": [
    "test_data.mean(dim = 0)[:D]"
   ]
  },
  {
   "cell_type": "code",
   "execution_count": 73,
   "metadata": {},
   "outputs": [
    {
     "data": {
      "text/plain": [
       "tensor([0.1020, 0.3086, 0.1487, 0.2077, 0.2110, 0.2140, 0.1047, 0.2268, 0.0470,\n",
       "        0.2091, 0.0436, 0.0541, 0.1006, 0.2838, 0.2204, 0.3191, 0.2790, 0.0341,\n",
       "        0.0603, 0.1043, 0.0903, 0.2499, 0.0395, 0.0505, 0.0315, 0.0923, 0.4770,\n",
       "        0.3366, 0.2215, 0.3029], device='cuda:0', grad_fn=<SliceBackward>)"
      ]
     },
     "execution_count": 73,
     "metadata": {},
     "output_type": "execute_result"
    }
   ],
   "source": [
    "vae_gumbel_with_pre(test_data)[0].mean(dim = 0)[:D]"
   ]
  },
  {
   "cell_type": "markdown",
   "metadata": {},
   "source": [
    "Deviations"
   ]
  },
  {
   "cell_type": "code",
   "execution_count": 74,
   "metadata": {},
   "outputs": [
    {
     "data": {
      "text/plain": [
       "tensor([0.1913, 0.2338, 0.2076, 0.2199, 0.2306, 0.1890, 0.1805, 0.1945, 0.1051,\n",
       "        0.2321, 0.0976, 0.1389, 0.1652, 0.1922, 0.2341, 0.2330, 0.2048, 0.0390,\n",
       "        0.0929, 0.1692, 0.1755, 0.2236, 0.0499, 0.0923, 0.0152, 0.1863, 0.1593,\n",
       "        0.2244, 0.2096, 0.2350], device='cuda:0')"
      ]
     },
     "execution_count": 74,
     "metadata": {},
     "output_type": "execute_result"
    }
   ],
   "source": [
    "test_data.std(dim = 0)[:D]"
   ]
  },
  {
   "cell_type": "code",
   "execution_count": 75,
   "metadata": {},
   "outputs": [
    {
     "data": {
      "text/plain": [
       "tensor([0.0499, 0.0412, 0.0443, 0.0528, 0.0465, 0.0524, 0.0480, 0.0475, 0.0349,\n",
       "        0.0512, 0.0343, 0.0373, 0.0440, 0.0378, 0.0499, 0.0425, 0.0462, 0.0311,\n",
       "        0.0426, 0.0485, 0.0475, 0.0410, 0.0337, 0.0418, 0.0296, 0.0469, 0.0205,\n",
       "        0.0327, 0.0509, 0.0435], device='cuda:0', grad_fn=<SliceBackward>)"
      ]
     },
     "execution_count": 75,
     "metadata": {},
     "output_type": "execute_result"
    }
   ],
   "source": [
    "vae_gumbel_with_pre(test_data)[0].std(dim = 0)[:D]"
   ]
  },
  {
   "cell_type": "markdown",
   "metadata": {},
   "source": [
    "Values"
   ]
  },
  {
   "cell_type": "code",
   "execution_count": 76,
   "metadata": {},
   "outputs": [
    {
     "data": {
      "text/plain": [
       "tensor([0.0000, 0.5286, 0.0000, 0.0231, 0.6963, 0.3966, 0.0103, 0.2939, 0.0000,\n",
       "        0.3152, 0.0000, 0.0000, 0.0000, 0.0617, 0.4150, 0.6262, 0.2110, 0.0000,\n",
       "        0.0000, 0.0000, 0.0000, 0.6829, 0.0000, 0.0000, 0.0000, 0.0000, 0.3516,\n",
       "        0.0000, 0.6491, 0.4560], device='cuda:0')"
      ]
     },
     "execution_count": 76,
     "metadata": {},
     "output_type": "execute_result"
    }
   ],
   "source": [
    "test_data[samp,:D]"
   ]
  },
  {
   "cell_type": "code",
   "execution_count": 77,
   "metadata": {},
   "outputs": [
    {
     "data": {
      "text/plain": [
       "tensor([0.0532, 0.3002, 0.1230, 0.1623, 0.1887, 0.1692, 0.0662, 0.2270, 0.0348,\n",
       "        0.2394, 0.0198, 0.0278, 0.0650, 0.2875, 0.1846, 0.3385, 0.2906, 0.0103,\n",
       "        0.0278, 0.0720, 0.0610, 0.2667, 0.0161, 0.0205, 0.0125, 0.0544, 0.4583,\n",
       "        0.3579, 0.2046, 0.3175], device='cuda:0', grad_fn=<SliceBackward>)"
      ]
     },
     "execution_count": 77,
     "metadata": {},
     "output_type": "execute_result"
    }
   ],
   "source": [
    "vae_gumbel_with_pre(test_data)[0][samp, :D]"
   ]
  },
  {
   "cell_type": "code",
   "execution_count": 78,
   "metadata": {},
   "outputs": [],
   "source": [
    "with torch.no_grad():\n",
    "    w = vae_gumbel_with_pre.weight_creator(test_data[0:2, :])\n",
    "    subset_indices = sample_subset(w, k=3*z_size, t=0.1).cpu()"
   ]
  },
  {
   "cell_type": "code",
   "execution_count": 79,
   "metadata": {},
   "outputs": [
    {
     "data": {
      "text/plain": [
       "tensor([[ 4, 22, 53, 44, 21, 45, 30, 13, 28, 47, 23, 59, 11, 20,  5],\n",
       "        [ 7, 33, 19, 43, 31,  8, 45, 14, 54, 40, 17,  6, 46, 52, 20]])"
      ]
     },
     "execution_count": 79,
     "metadata": {},
     "output_type": "execute_result"
    }
   ],
   "source": [
    "# as long as feature index is lesss than 30, then it isn't picking noise\n",
    "torch.argsort(subset_indices, dim = 1, descending = True)[:, :3 * z_size]"
   ]
  },
  {
   "cell_type": "markdown",
   "metadata": {},
   "source": [
    "**Joint Train**"
   ]
  },
  {
   "cell_type": "code",
   "execution_count": 80,
   "metadata": {},
   "outputs": [],
   "source": [
    "joint_vanilla_vae = VAE(2*D, 100, 20)\n",
    "joint_vanilla_vae.to(device)\n",
    "\n",
    "joint_vae_gumbel = VAE_Gumbel(2*D, 100, 20, k = 3*z_size)\n",
    "joint_vae_gumbel.to(device)\n",
    "\n",
    "joint_optimizer = torch.optim.Adam(list(joint_vanilla_vae.parameters()) + list(joint_vae_gumbel.parameters()), \n",
    "                                                lr=lr, \n",
    "                                                betas = (b1,b2))"
   ]
  },
  {
   "cell_type": "code",
   "execution_count": 81,
   "metadata": {},
   "outputs": [
    {
     "name": "stdout",
     "output_type": "stream",
     "text": [
      "Train Epoch: 1 [0/4000 (0%)]\tLoss: 85.017433\n",
      "Train Epoch: 1 [1280/4000 (32%)]\tLoss: 82.511650\n",
      "Train Epoch: 1 [2560/4000 (64%)]\tLoss: 80.430176\n",
      "Train Epoch: 1 [3840/4000 (96%)]\tLoss: 78.637581\n",
      "====> Epoch: 1 Average loss: 81.5080\n",
      "====> Test set loss: 79.5400\n",
      "Train Epoch: 2 [0/4000 (0%)]\tLoss: 78.483932\n",
      "Train Epoch: 2 [1280/4000 (32%)]\tLoss: 77.283844\n",
      "Train Epoch: 2 [2560/4000 (64%)]\tLoss: 75.860748\n",
      "Train Epoch: 2 [3840/4000 (96%)]\tLoss: 74.166321\n",
      "====> Epoch: 2 Average loss: 76.4011\n",
      "====> Test set loss: 75.6151\n",
      "Train Epoch: 3 [0/4000 (0%)]\tLoss: 74.307861\n",
      "Train Epoch: 3 [1280/4000 (32%)]\tLoss: 72.738884\n",
      "Train Epoch: 3 [2560/4000 (64%)]\tLoss: 71.166466\n",
      "Train Epoch: 3 [3840/4000 (96%)]\tLoss: 69.820045\n",
      "====> Epoch: 3 Average loss: 72.1045\n",
      "====> Test set loss: 79.0084\n",
      "Train Epoch: 4 [0/4000 (0%)]\tLoss: 69.653114\n",
      "Train Epoch: 4 [1280/4000 (32%)]\tLoss: 68.887741\n",
      "Train Epoch: 4 [2560/4000 (64%)]\tLoss: 68.468018\n",
      "Train Epoch: 4 [3840/4000 (96%)]\tLoss: 68.222870\n",
      "====> Epoch: 4 Average loss: 69.0949\n",
      "====> Test set loss: 78.0646\n",
      "Train Epoch: 5 [0/4000 (0%)]\tLoss: 68.388832\n",
      "Train Epoch: 5 [1280/4000 (32%)]\tLoss: 67.785591\n",
      "Train Epoch: 5 [2560/4000 (64%)]\tLoss: 67.644531\n",
      "Train Epoch: 5 [3840/4000 (96%)]\tLoss: 66.736946\n",
      "====> Epoch: 5 Average loss: 67.8141\n",
      "====> Test set loss: 76.1645\n",
      "Train Epoch: 6 [0/4000 (0%)]\tLoss: 68.024712\n",
      "Train Epoch: 6 [1280/4000 (32%)]\tLoss: 66.861305\n",
      "Train Epoch: 6 [2560/4000 (64%)]\tLoss: 67.153069\n",
      "Train Epoch: 6 [3840/4000 (96%)]\tLoss: 66.664459\n",
      "====> Epoch: 6 Average loss: 67.0632\n",
      "====> Test set loss: 73.6239\n",
      "Train Epoch: 7 [0/4000 (0%)]\tLoss: 66.467865\n",
      "Train Epoch: 7 [1280/4000 (32%)]\tLoss: 67.121536\n",
      "Train Epoch: 7 [2560/4000 (64%)]\tLoss: 66.637772\n",
      "Train Epoch: 7 [3840/4000 (96%)]\tLoss: 66.970680\n",
      "====> Epoch: 7 Average loss: 66.6601\n",
      "====> Test set loss: 72.6405\n",
      "Train Epoch: 8 [0/4000 (0%)]\tLoss: 66.370132\n",
      "Train Epoch: 8 [1280/4000 (32%)]\tLoss: 66.146095\n",
      "Train Epoch: 8 [2560/4000 (64%)]\tLoss: 65.637314\n",
      "Train Epoch: 8 [3840/4000 (96%)]\tLoss: 66.221634\n",
      "====> Epoch: 8 Average loss: 66.3669\n",
      "====> Test set loss: 72.0062\n",
      "Train Epoch: 9 [0/4000 (0%)]\tLoss: 66.211128\n",
      "Train Epoch: 9 [1280/4000 (32%)]\tLoss: 66.651390\n",
      "Train Epoch: 9 [2560/4000 (64%)]\tLoss: 65.663879\n",
      "Train Epoch: 9 [3840/4000 (96%)]\tLoss: 66.490601\n",
      "====> Epoch: 9 Average loss: 66.1956\n",
      "====> Test set loss: 70.9366\n",
      "Train Epoch: 10 [0/4000 (0%)]\tLoss: 66.648575\n",
      "Train Epoch: 10 [1280/4000 (32%)]\tLoss: 66.939850\n",
      "Train Epoch: 10 [2560/4000 (64%)]\tLoss: 65.463875\n",
      "Train Epoch: 10 [3840/4000 (96%)]\tLoss: 65.452766\n",
      "====> Epoch: 10 Average loss: 66.0864\n",
      "====> Test set loss: 70.6289\n"
     ]
    }
   ],
   "source": [
    "for epoch in range(1, n_epochs + 1):\n",
    "    train_joint(train_data, joint_vanilla_vae, joint_vae_gumbel, joint_optimizer, epoch, batch_size)\n",
    "    test_joint(test_data, joint_vanilla_vae, joint_vae_gumbel, epoch, batch_size)"
   ]
  },
  {
   "cell_type": "code",
   "execution_count": 82,
   "metadata": {},
   "outputs": [
    {
     "name": "stdout",
     "output_type": "stream",
     "text": [
      "Test Loss\n",
      "tensor(0.5452, device='cuda:0')\n"
     ]
    }
   ],
   "source": [
    "with torch.no_grad():\n",
    "    print(\"Test Loss\")\n",
    "    print(F.binary_cross_entropy(joint_vae_gumbel(test_data)[0], test_data))"
   ]
  },
  {
   "cell_type": "markdown",
   "metadata": {},
   "source": [
    "Means"
   ]
  },
  {
   "cell_type": "code",
   "execution_count": 83,
   "metadata": {},
   "outputs": [
    {
     "data": {
      "text/plain": [
       "tensor([0.0978, 0.3031, 0.1394, 0.2099, 0.2063, 0.2098, 0.1076, 0.2316, 0.0298,\n",
       "        0.1968, 0.0261, 0.0561, 0.0848, 0.2727, 0.2320, 0.3355, 0.2739, 0.0056,\n",
       "        0.0301, 0.0953, 0.0889, 0.2483, 0.0063, 0.0231, 0.0009, 0.0924, 0.4782,\n",
       "        0.3251, 0.2092, 0.2881], device='cuda:0')"
      ]
     },
     "execution_count": 83,
     "metadata": {},
     "output_type": "execute_result"
    }
   ],
   "source": [
    "test_data.mean(dim = 0)[:D]"
   ]
  },
  {
   "cell_type": "code",
   "execution_count": 84,
   "metadata": {},
   "outputs": [
    {
     "data": {
      "text/plain": [
       "tensor([0.1084, 0.3106, 0.1507, 0.2148, 0.2177, 0.2183, 0.1170, 0.2396, 0.0622,\n",
       "        0.2163, 0.0685, 0.0665, 0.1088, 0.2834, 0.2307, 0.3339, 0.2838, 0.0418,\n",
       "        0.0633, 0.1103, 0.0987, 0.2576, 0.0514, 0.0603, 0.0389, 0.1036, 0.4746,\n",
       "        0.3356, 0.2194, 0.3010], device='cuda:0', grad_fn=<SliceBackward>)"
      ]
     },
     "execution_count": 84,
     "metadata": {},
     "output_type": "execute_result"
    }
   ],
   "source": [
    "joint_vae_gumbel(test_data)[0].mean(dim = 0)[:D]"
   ]
  },
  {
   "cell_type": "markdown",
   "metadata": {},
   "source": [
    "Deviations"
   ]
  },
  {
   "cell_type": "code",
   "execution_count": 85,
   "metadata": {},
   "outputs": [
    {
     "data": {
      "text/plain": [
       "tensor([0.1913, 0.2338, 0.2076, 0.2199, 0.2306, 0.1890, 0.1805, 0.1945, 0.1051,\n",
       "        0.2321, 0.0976, 0.1389, 0.1652, 0.1922, 0.2341, 0.2330, 0.2048, 0.0390,\n",
       "        0.0929, 0.1692, 0.1755, 0.2236, 0.0499, 0.0923, 0.0152, 0.1863, 0.1593,\n",
       "        0.2244, 0.2096, 0.2350], device='cuda:0')"
      ]
     },
     "execution_count": 85,
     "metadata": {},
     "output_type": "execute_result"
    }
   ],
   "source": [
    "test_data.std(dim = 0)[:D]"
   ]
  },
  {
   "cell_type": "code",
   "execution_count": 86,
   "metadata": {},
   "outputs": [
    {
     "data": {
      "text/plain": [
       "tensor([0.0464, 0.0338, 0.0517, 0.0409, 0.0508, 0.0430, 0.0502, 0.0492, 0.0442,\n",
       "        0.0529, 0.0419, 0.0377, 0.0517, 0.0395, 0.0452, 0.0471, 0.0373, 0.0313,\n",
       "        0.0455, 0.0476, 0.0481, 0.0447, 0.0376, 0.0406, 0.0316, 0.0512, 0.0257,\n",
       "        0.0347, 0.0461, 0.0375], device='cuda:0', grad_fn=<SliceBackward>)"
      ]
     },
     "execution_count": 86,
     "metadata": {},
     "output_type": "execute_result"
    }
   ],
   "source": [
    "joint_vae_gumbel(test_data)[0].std(dim = 0)[:D]"
   ]
  },
  {
   "cell_type": "markdown",
   "metadata": {},
   "source": [
    "Values"
   ]
  },
  {
   "cell_type": "code",
   "execution_count": 87,
   "metadata": {},
   "outputs": [
    {
     "data": {
      "text/plain": [
       "tensor([0.0000, 0.5286, 0.0000, 0.0231, 0.6963, 0.3966, 0.0103, 0.2939, 0.0000,\n",
       "        0.3152, 0.0000, 0.0000, 0.0000, 0.0617, 0.4150, 0.6262, 0.2110, 0.0000,\n",
       "        0.0000, 0.0000, 0.0000, 0.6829, 0.0000, 0.0000, 0.0000, 0.0000, 0.3516,\n",
       "        0.0000, 0.6491, 0.4560], device='cuda:0')"
      ]
     },
     "execution_count": 87,
     "metadata": {},
     "output_type": "execute_result"
    }
   ],
   "source": [
    "test_data[samp,:D]"
   ]
  },
  {
   "cell_type": "code",
   "execution_count": 88,
   "metadata": {},
   "outputs": [
    {
     "data": {
      "text/plain": [
       "tensor([0.1196, 0.3358, 0.1544, 0.1924, 0.2309, 0.2041, 0.1051, 0.2145, 0.0631,\n",
       "        0.2132, 0.0806, 0.0751, 0.1094, 0.3025, 0.2385, 0.3398, 0.2990, 0.0374,\n",
       "        0.0522, 0.0936, 0.0918, 0.2571, 0.0353, 0.0578, 0.0360, 0.0880, 0.4327,\n",
       "        0.3242, 0.2402, 0.2735], device='cuda:0', grad_fn=<SliceBackward>)"
      ]
     },
     "execution_count": 88,
     "metadata": {},
     "output_type": "execute_result"
    }
   ],
   "source": [
    "joint_vae_gumbel(test_data)[0][samp, :D]"
   ]
  },
  {
   "cell_type": "code",
   "execution_count": 89,
   "metadata": {},
   "outputs": [],
   "source": [
    "with torch.no_grad():\n",
    "    w = joint_vae_gumbel.weight_creator(test_data[0:2, :])\n",
    "    subset_indices = sample_subset(w, k=3*z_size, t=0.1).cpu()"
   ]
  },
  {
   "cell_type": "code",
   "execution_count": 90,
   "metadata": {},
   "outputs": [
    {
     "data": {
      "text/plain": [
       "tensor([[41, 15, 47, 53, 56, 27, 59, 52, 34, 44, 40, 17,  5, 25, 58],\n",
       "        [55, 54, 58,  3, 44, 39, 11,  9, 26, 14,  6,  4, 17,  2, 20]])"
      ]
     },
     "execution_count": 90,
     "metadata": {},
     "output_type": "execute_result"
    }
   ],
   "source": [
    "torch.argsort(subset_indices, dim = 1, descending = True)[:, :3 * z_size]"
   ]
  },
  {
   "cell_type": "markdown",
   "metadata": {},
   "source": [
    "Joint Training while selecting exactly z_size. Why does it pick the noise variables?"
   ]
  },
  {
   "cell_type": "code",
   "execution_count": 91,
   "metadata": {},
   "outputs": [],
   "source": [
    "joint_vanilla_vae = VAE(2*D, 100, 20)\n",
    "joint_vanilla_vae.to(device)\n",
    "\n",
    "joint_vae_gumbel = VAE_Gumbel(2*D, 100, 20, k = z_size)\n",
    "joint_vae_gumbel.to(device)\n",
    "\n",
    "joint_optimizer = torch.optim.Adam(list(joint_vanilla_vae.parameters()) + list(joint_vae_gumbel.parameters()), \n",
    "                                                lr=lr, \n",
    "                                                betas = (b1,b2))"
   ]
  },
  {
   "cell_type": "code",
   "execution_count": 92,
   "metadata": {},
   "outputs": [
    {
     "name": "stdout",
     "output_type": "stream",
     "text": [
      "Train Epoch: 1 [0/4000 (0%)]\tLoss: 85.132713\n",
      "Train Epoch: 1 [1280/4000 (32%)]\tLoss: 82.747704\n",
      "Train Epoch: 1 [2560/4000 (64%)]\tLoss: 80.820213\n",
      "Train Epoch: 1 [3840/4000 (96%)]\tLoss: 79.032799\n",
      "====> Epoch: 1 Average loss: 81.7773\n",
      "====> Test set loss: 79.3204\n",
      "Train Epoch: 2 [0/4000 (0%)]\tLoss: 78.711441\n",
      "Train Epoch: 2 [1280/4000 (32%)]\tLoss: 77.595573\n",
      "Train Epoch: 2 [2560/4000 (64%)]\tLoss: 76.076454\n",
      "Train Epoch: 2 [3840/4000 (96%)]\tLoss: 74.498436\n",
      "====> Epoch: 2 Average loss: 76.7089\n",
      "====> Test set loss: 75.7804\n",
      "Train Epoch: 3 [0/4000 (0%)]\tLoss: 74.584831\n",
      "Train Epoch: 3 [1280/4000 (32%)]\tLoss: 72.626198\n",
      "Train Epoch: 3 [2560/4000 (64%)]\tLoss: 71.710274\n",
      "Train Epoch: 3 [3840/4000 (96%)]\tLoss: 71.147865\n",
      "====> Epoch: 3 Average loss: 72.1947\n",
      "====> Test set loss: 79.4896\n",
      "Train Epoch: 4 [0/4000 (0%)]\tLoss: 69.542427\n"
     ]
    },
    {
     "ename": "KeyboardInterrupt",
     "evalue": "",
     "output_type": "error",
     "traceback": [
      "\u001b[0;31m---------------------------------------------------------------------------\u001b[0m",
      "\u001b[0;31mKeyboardInterrupt\u001b[0m                         Traceback (most recent call last)",
      "\u001b[0;32m<ipython-input-92-a14b7b4cbb7d>\u001b[0m in \u001b[0;36m<module>\u001b[0;34m\u001b[0m\n\u001b[1;32m      1\u001b[0m \u001b[0;32mfor\u001b[0m \u001b[0mepoch\u001b[0m \u001b[0;32min\u001b[0m \u001b[0mrange\u001b[0m\u001b[0;34m(\u001b[0m\u001b[0;36m1\u001b[0m\u001b[0;34m,\u001b[0m \u001b[0mn_epochs\u001b[0m \u001b[0;34m+\u001b[0m \u001b[0;36m1\u001b[0m\u001b[0;34m)\u001b[0m\u001b[0;34m:\u001b[0m\u001b[0;34m\u001b[0m\u001b[0;34m\u001b[0m\u001b[0m\n\u001b[0;32m----> 2\u001b[0;31m     \u001b[0mtrain_joint\u001b[0m\u001b[0;34m(\u001b[0m\u001b[0mtrain_data\u001b[0m\u001b[0;34m,\u001b[0m \u001b[0mjoint_vanilla_vae\u001b[0m\u001b[0;34m,\u001b[0m \u001b[0mjoint_vae_gumbel\u001b[0m\u001b[0;34m,\u001b[0m \u001b[0mjoint_optimizer\u001b[0m\u001b[0;34m,\u001b[0m \u001b[0mepoch\u001b[0m\u001b[0;34m,\u001b[0m \u001b[0mbatch_size\u001b[0m\u001b[0;34m)\u001b[0m\u001b[0;34m\u001b[0m\u001b[0;34m\u001b[0m\u001b[0m\n\u001b[0m\u001b[1;32m      3\u001b[0m     \u001b[0mtest_joint\u001b[0m\u001b[0;34m(\u001b[0m\u001b[0mtest_data\u001b[0m\u001b[0;34m,\u001b[0m \u001b[0mjoint_vanilla_vae\u001b[0m\u001b[0;34m,\u001b[0m \u001b[0mjoint_vae_gumbel\u001b[0m\u001b[0;34m,\u001b[0m \u001b[0mepoch\u001b[0m\u001b[0;34m,\u001b[0m \u001b[0mbatch_size\u001b[0m\u001b[0;34m)\u001b[0m\u001b[0;34m\u001b[0m\u001b[0;34m\u001b[0m\u001b[0m\n",
      "\u001b[0;32m~/Documents/NYU/SecondYear/SecondSemester/Differentiable-Sparse-Subset-Selection/notebooks/utils.py\u001b[0m in \u001b[0;36mtrain_joint\u001b[0;34m(df, model1, model2, optimizer, epoch, batch_size)\u001b[0m\n\u001b[1;32m    316\u001b[0m         \u001b[0mloss_vae_1\u001b[0m\u001b[0;34m,\u001b[0m \u001b[0mloss_vae_2\u001b[0m\u001b[0;34m,\u001b[0m \u001b[0mjoint_kld_loss\u001b[0m \u001b[0;34m=\u001b[0m \u001b[0mloss_function_joint\u001b[0m\u001b[0;34m(\u001b[0m\u001b[0mbatch_data\u001b[0m\u001b[0;34m,\u001b[0m \u001b[0mmodel1\u001b[0m\u001b[0;34m,\u001b[0m \u001b[0mmodel2\u001b[0m\u001b[0;34m)\u001b[0m\u001b[0;34m\u001b[0m\u001b[0;34m\u001b[0m\u001b[0m\n\u001b[1;32m    317\u001b[0m         \u001b[0mloss\u001b[0m \u001b[0;34m=\u001b[0m \u001b[0;34m(\u001b[0m\u001b[0mloss_vae_1\u001b[0m \u001b[0;34m+\u001b[0m \u001b[0mloss_vae_2\u001b[0m \u001b[0;34m+\u001b[0m \u001b[0;36m10\u001b[0m \u001b[0;34m*\u001b[0m \u001b[0mjoint_kld_loss\u001b[0m\u001b[0;34m)\u001b[0m\u001b[0;34m\u001b[0m\u001b[0;34m\u001b[0m\u001b[0m\n\u001b[0;32m--> 318\u001b[0;31m         \u001b[0mloss\u001b[0m\u001b[0;34m.\u001b[0m\u001b[0mbackward\u001b[0m\u001b[0;34m(\u001b[0m\u001b[0;34m)\u001b[0m\u001b[0;34m\u001b[0m\u001b[0;34m\u001b[0m\u001b[0m\n\u001b[0m\u001b[1;32m    319\u001b[0m \u001b[0;34m\u001b[0m\u001b[0m\n\u001b[1;32m    320\u001b[0m         \u001b[0mtrain_loss\u001b[0m \u001b[0;34m+=\u001b[0m \u001b[0mloss\u001b[0m\u001b[0;34m.\u001b[0m\u001b[0mitem\u001b[0m\u001b[0;34m(\u001b[0m\u001b[0;34m)\u001b[0m\u001b[0;34m\u001b[0m\u001b[0;34m\u001b[0m\u001b[0m\n",
      "\u001b[0;32m~/anaconda3/envs/nyu/lib/python3.7/site-packages/torch/tensor.py\u001b[0m in \u001b[0;36mbackward\u001b[0;34m(self, gradient, retain_graph, create_graph)\u001b[0m\n\u001b[1;32m    193\u001b[0m                 \u001b[0mproducts\u001b[0m\u001b[0;34m.\u001b[0m \u001b[0mDefaults\u001b[0m \u001b[0mto\u001b[0m\u001b[0;31m \u001b[0m\u001b[0;31m`\u001b[0m\u001b[0;31m`\u001b[0m\u001b[0;32mFalse\u001b[0m\u001b[0;31m`\u001b[0m\u001b[0;31m`\u001b[0m\u001b[0;34m.\u001b[0m\u001b[0;34m\u001b[0m\u001b[0;34m\u001b[0m\u001b[0m\n\u001b[1;32m    194\u001b[0m         \"\"\"\n\u001b[0;32m--> 195\u001b[0;31m         \u001b[0mtorch\u001b[0m\u001b[0;34m.\u001b[0m\u001b[0mautograd\u001b[0m\u001b[0;34m.\u001b[0m\u001b[0mbackward\u001b[0m\u001b[0;34m(\u001b[0m\u001b[0mself\u001b[0m\u001b[0;34m,\u001b[0m \u001b[0mgradient\u001b[0m\u001b[0;34m,\u001b[0m \u001b[0mretain_graph\u001b[0m\u001b[0;34m,\u001b[0m \u001b[0mcreate_graph\u001b[0m\u001b[0;34m)\u001b[0m\u001b[0;34m\u001b[0m\u001b[0;34m\u001b[0m\u001b[0m\n\u001b[0m\u001b[1;32m    196\u001b[0m \u001b[0;34m\u001b[0m\u001b[0m\n\u001b[1;32m    197\u001b[0m     \u001b[0;32mdef\u001b[0m \u001b[0mregister_hook\u001b[0m\u001b[0;34m(\u001b[0m\u001b[0mself\u001b[0m\u001b[0;34m,\u001b[0m \u001b[0mhook\u001b[0m\u001b[0;34m)\u001b[0m\u001b[0;34m:\u001b[0m\u001b[0;34m\u001b[0m\u001b[0;34m\u001b[0m\u001b[0m\n",
      "\u001b[0;32m~/anaconda3/envs/nyu/lib/python3.7/site-packages/torch/autograd/__init__.py\u001b[0m in \u001b[0;36mbackward\u001b[0;34m(tensors, grad_tensors, retain_graph, create_graph, grad_variables)\u001b[0m\n\u001b[1;32m     97\u001b[0m     Variable._execution_engine.run_backward(\n\u001b[1;32m     98\u001b[0m         \u001b[0mtensors\u001b[0m\u001b[0;34m,\u001b[0m \u001b[0mgrad_tensors\u001b[0m\u001b[0;34m,\u001b[0m \u001b[0mretain_graph\u001b[0m\u001b[0;34m,\u001b[0m \u001b[0mcreate_graph\u001b[0m\u001b[0;34m,\u001b[0m\u001b[0;34m\u001b[0m\u001b[0;34m\u001b[0m\u001b[0m\n\u001b[0;32m---> 99\u001b[0;31m         allow_unreachable=True)  # allow_unreachable flag\n\u001b[0m\u001b[1;32m    100\u001b[0m \u001b[0;34m\u001b[0m\u001b[0m\n\u001b[1;32m    101\u001b[0m \u001b[0;34m\u001b[0m\u001b[0m\n",
      "\u001b[0;31mKeyboardInterrupt\u001b[0m: "
     ]
    }
   ],
   "source": [
    "for epoch in range(1, n_epochs + 1):\n",
    "    train_joint(train_data, joint_vanilla_vae, joint_vae_gumbel, joint_optimizer, epoch, batch_size)\n",
    "    test_joint(test_data, joint_vanilla_vae, joint_vae_gumbel, epoch, batch_size)"
   ]
  },
  {
   "cell_type": "code",
   "execution_count": null,
   "metadata": {},
   "outputs": [],
   "source": [
    "with torch.no_grad():\n",
    "    print(\"Test Loss\")\n",
    "    print(F.binary_cross_entropy(joint_vae_gumbel(test_data)[0], test_data))"
   ]
  },
  {
   "cell_type": "markdown",
   "metadata": {},
   "source": [
    "Means"
   ]
  },
  {
   "cell_type": "code",
   "execution_count": null,
   "metadata": {},
   "outputs": [],
   "source": [
    "test_data.mean(dim = 0)[:D]"
   ]
  },
  {
   "cell_type": "code",
   "execution_count": null,
   "metadata": {},
   "outputs": [],
   "source": [
    "joint_vae_gumbel(test_data)[0].mean(dim = 0)[:D]"
   ]
  },
  {
   "cell_type": "markdown",
   "metadata": {},
   "source": [
    "Deviations"
   ]
  },
  {
   "cell_type": "code",
   "execution_count": null,
   "metadata": {},
   "outputs": [],
   "source": [
    "test_data.std(dim = 0)[:D]"
   ]
  },
  {
   "cell_type": "code",
   "execution_count": null,
   "metadata": {},
   "outputs": [],
   "source": [
    "joint_vae_gumbel(test_data)[0].std(dim = 0)[:D]"
   ]
  },
  {
   "cell_type": "markdown",
   "metadata": {},
   "source": [
    "Values"
   ]
  },
  {
   "cell_type": "code",
   "execution_count": null,
   "metadata": {},
   "outputs": [],
   "source": [
    "test_data[samp,:D]"
   ]
  },
  {
   "cell_type": "code",
   "execution_count": null,
   "metadata": {},
   "outputs": [],
   "source": [
    "joint_vae_gumbel(test_data)[0][samp, :D]"
   ]
  },
  {
   "cell_type": "code",
   "execution_count": null,
   "metadata": {},
   "outputs": [],
   "source": [
    "with torch.no_grad():\n",
    "    w = joint_vae_gumbel.weight_creator(test_data[0:10, :])\n",
    "    subset_indices = sample_subset(w, k=z_size, t=0.1).cpu()"
   ]
  },
  {
   "cell_type": "code",
   "execution_count": null,
   "metadata": {},
   "outputs": [],
   "source": [
    "torch.argsort(subset_indices, dim = 1, descending = True)[:, :z_size]"
   ]
  },
  {
   "cell_type": "markdown",
   "metadata": {},
   "source": [
    "Matching pre trained is actually better here than joint training.\n",
    "The gumbel trick greatly reduces the ability to make predictions. \n",
    "Notice that the standard deviations are not as high as in the original data. Not being able to use a model looking at the full data as an anchor definitely hurts."
   ]
  },
  {
   "cell_type": "code",
   "execution_count": null,
   "metadata": {},
   "outputs": [],
   "source": []
  },
  {
   "cell_type": "markdown",
   "metadata": {},
   "source": [
    "# Calculation of Loss only over select features\n",
    "What happens if we limit the calculation of the loss to just the first few non-noisy stuff?\n",
    "\n",
    "Not doing joint training here because the calculation of loss is hidden inside utils and cannot modify the indexing so easily."
   ]
  },
  {
   "cell_type": "code",
   "execution_count": 26,
   "metadata": {},
   "outputs": [],
   "source": [
    "def train_truncated_with_gradients(df, model, optimizer, epoch, batch_size, Dim):\n",
    "    model.train()\n",
    "    train_loss = 0\n",
    "    permutations = torch.randperm(df.shape[0])\n",
    "    gradients = torch.zeros(df.shape[1]).to(device)\n",
    "    for i in range(math.ceil(len(df)/batch_size)):\n",
    "        batch_ind = permutations[i * batch_size : (i+1) * batch_size]\n",
    "        batch_data = df[batch_ind, :].clone().to(device)\n",
    "        \n",
    "        \n",
    "        # need to do this twice because deriative with respect to input not implemented in BCE\n",
    "        # so need to switch them up\n",
    "        optimizer.zero_grad()\n",
    "        batch_data.requires_grad_(True)\n",
    "        mu_x, mu_latent, logvar_latent = model(batch_data)\n",
    "        # why clone detach here?\n",
    "        # still want gradient with respect to input, but BCE gradient with respect to target is not defined\n",
    "        # plus we only want to see how input affects mu_x, not the target\n",
    "        loss = loss_function_per_autoencoder(batch_data[:, :Dim].clone().detach(), mu_x[:, :Dim], \n",
    "                                             mu_latent, logvar_latent) \n",
    "        loss.backward(retain_graph=True)\n",
    "\n",
    "        with torch.no_grad():\n",
    "            gradients += torch.sqrt(batch_data.grad ** 2).sum(dim = 0)\n",
    "        # no step\n",
    "        \n",
    "        optimizer.zero_grad()\n",
    "        # do not calculate with respect to \n",
    "        batch_data.requires_grad_(False)\n",
    "        mu_x.requires_grad_(True)\n",
    "        loss = loss_function_per_autoencoder(batch_data[:, :Dim], mu_x[:, :Dim], mu_latent, logvar_latent) \n",
    "        loss.backward()\n",
    "        train_loss += loss.item()\n",
    "        optimizer.step()\n",
    "        \n",
    "        \n",
    "        \n",
    "        if i % log_interval == 0:\n",
    "            print('Train Epoch: {} [{}/{} ({:.0f}%)]\\tLoss: {:.6f}'.format(\n",
    "                epoch, i * len(batch_data), len(df),\n",
    "                100. * i * len(batch_data)/ len(df),\n",
    "                loss.item() / len(batch_data)))\n",
    "\n",
    "    print('====> Epoch: {} Average loss: {:.4f}'.format(\n",
    "          epoch, train_loss / len(df)))\n",
    "    \n",
    "    return gradients\n",
    "    \n",
    "# match pre trained model\n",
    "def train_pre_trained_truncated(df, model, optimizer, epoch, pretrained_model, batch_size, D):\n",
    "    model.train()\n",
    "    train_loss = 0\n",
    "    permutations = torch.randperm(df.shape[0])\n",
    "    for i in range(math.ceil(len(df)/batch_size)):\n",
    "        batch_ind = permutations[i * batch_size : (i+1) * batch_size]\n",
    "        batch_data = df[batch_ind, :].clone()\n",
    "        \n",
    "        batch_data.requires_grad_(True)\n",
    "        \n",
    "        optimizer.zero_grad()\n",
    "        mu_x, mu_latent, logvar_latent = model(batch_data)\n",
    "        with torch.no_grad():\n",
    "            _, mu_latent_2, logvar_latent_2 = pretrained_model(batch_data)\n",
    "        \n",
    "        loss = loss_function_per_autoencoder(batch_data[:, :D], mu_x[:, :D], mu_latent, logvar_latent)\n",
    "        loss += 10*F.mse_loss(mu_latent, mu_latent_2, reduction = 'sum')\n",
    "        loss.backward()\n",
    "        train_loss += loss.item()\n",
    "        optimizer.step()\n",
    "        \n",
    "        if i % log_interval == 0:\n",
    "            print('Train Epoch: {} [{}/{} ({:.0f}%)]\\tLoss: {:.6f}'.format(\n",
    "                epoch, i * len(batch_data), len(df),\n",
    "                100. * i * len(batch_data)/ len(df),\n",
    "                loss.item() / len(batch_data)))\n",
    "\n",
    "    print('====> Epoch: {} Average loss: {:.4f}'.format(\n",
    "          epoch, train_loss / len(df)))"
   ]
  },
  {
   "cell_type": "code",
   "execution_count": 27,
   "metadata": {},
   "outputs": [],
   "source": [
    "global_t = 0.1"
   ]
  },
  {
   "cell_type": "code",
   "execution_count": 28,
   "metadata": {},
   "outputs": [],
   "source": [
    "# let's see how it does here\n",
    "vae_gumbel_truncated = VAE_Gumbel(2*D, 100, 20, k = 3*z_size, t = global_t)\n",
    "vae_gumbel_truncated.to(device)\n",
    "vae_gumbel_trunc_optimizer = torch.optim.Adam(vae_gumbel_truncated.parameters(), \n",
    "                                                lr=lr, \n",
    "                                                betas = (b1,b2))"
   ]
  },
  {
   "cell_type": "markdown",
   "metadata": {},
   "source": [
    "Just train a gumbel without matching or joint training to see"
   ]
  },
  {
   "cell_type": "code",
   "execution_count": 29,
   "metadata": {},
   "outputs": [
    {
     "name": "stdout",
     "output_type": "stream",
     "text": [
      "Train Epoch: 1 [0/4000 (0%)]\tLoss: 20.898441\n",
      "Train Epoch: 1 [1280/4000 (32%)]\tLoss: 19.929052\n",
      "Train Epoch: 1 [2560/4000 (64%)]\tLoss: 19.049362\n",
      "Train Epoch: 1 [3840/4000 (96%)]\tLoss: 18.291462\n",
      "====> Epoch: 1 Average loss: 19.4544\n",
      "====> Test set loss: 39.1701\n",
      "Train Epoch: 2 [0/4000 (0%)]\tLoss: 18.125553\n",
      "Train Epoch: 2 [1280/4000 (32%)]\tLoss: 17.404770\n",
      "Train Epoch: 2 [2560/4000 (64%)]\tLoss: 16.031334\n",
      "Train Epoch: 2 [3840/4000 (96%)]\tLoss: 14.981299\n",
      "====> Epoch: 2 Average loss: 16.6327\n",
      "====> Test set loss: 36.2604\n",
      "Train Epoch: 3 [0/4000 (0%)]\tLoss: 14.851833\n",
      "Train Epoch: 3 [1280/4000 (32%)]\tLoss: 14.128507\n",
      "Train Epoch: 3 [2560/4000 (64%)]\tLoss: 13.441300\n",
      "Train Epoch: 3 [3840/4000 (96%)]\tLoss: 13.490116\n",
      "====> Epoch: 3 Average loss: 13.9315\n",
      "====> Test set loss: 35.0234\n",
      "Train Epoch: 4 [0/4000 (0%)]\tLoss: 13.256734\n",
      "Train Epoch: 4 [1280/4000 (32%)]\tLoss: 12.881170\n",
      "Train Epoch: 4 [2560/4000 (64%)]\tLoss: 13.161507\n",
      "Train Epoch: 4 [3840/4000 (96%)]\tLoss: 12.863948\n",
      "====> Epoch: 4 Average loss: 13.1037\n",
      "====> Test set loss: 34.5335\n",
      "Train Epoch: 5 [0/4000 (0%)]\tLoss: 13.125577\n",
      "Train Epoch: 5 [1280/4000 (32%)]\tLoss: 12.703611\n",
      "Train Epoch: 5 [2560/4000 (64%)]\tLoss: 13.050133\n",
      "Train Epoch: 5 [3840/4000 (96%)]\tLoss: 12.470640\n",
      "====> Epoch: 5 Average loss: 12.7765\n",
      "====> Test set loss: 34.2858\n",
      "Train Epoch: 6 [0/4000 (0%)]\tLoss: 12.695858\n",
      "Train Epoch: 6 [1280/4000 (32%)]\tLoss: 12.237222\n",
      "Train Epoch: 6 [2560/4000 (64%)]\tLoss: 12.815621\n",
      "Train Epoch: 6 [3840/4000 (96%)]\tLoss: 12.339153\n",
      "====> Epoch: 6 Average loss: 12.5808\n",
      "====> Test set loss: 34.0997\n",
      "Train Epoch: 7 [0/4000 (0%)]\tLoss: 12.766034\n",
      "Train Epoch: 7 [1280/4000 (32%)]\tLoss: 12.896040\n",
      "Train Epoch: 7 [2560/4000 (64%)]\tLoss: 12.127904\n",
      "Train Epoch: 7 [3840/4000 (96%)]\tLoss: 12.418222\n",
      "====> Epoch: 7 Average loss: 12.4826\n",
      "====> Test set loss: 33.9990\n",
      "Train Epoch: 8 [0/4000 (0%)]\tLoss: 12.530415\n",
      "Train Epoch: 8 [1280/4000 (32%)]\tLoss: 12.663566\n",
      "Train Epoch: 8 [2560/4000 (64%)]\tLoss: 12.160059\n",
      "Train Epoch: 8 [3840/4000 (96%)]\tLoss: 12.389906\n",
      "====> Epoch: 8 Average loss: 12.4005\n",
      "====> Test set loss: 33.9065\n",
      "Train Epoch: 9 [0/4000 (0%)]\tLoss: 12.580257\n",
      "Train Epoch: 9 [1280/4000 (32%)]\tLoss: 12.361035\n",
      "Train Epoch: 9 [2560/4000 (64%)]\tLoss: 12.036654\n",
      "Train Epoch: 9 [3840/4000 (96%)]\tLoss: 12.662950\n",
      "====> Epoch: 9 Average loss: 12.3238\n",
      "====> Test set loss: 33.8681\n",
      "Train Epoch: 10 [0/4000 (0%)]\tLoss: 12.372227\n",
      "Train Epoch: 10 [1280/4000 (32%)]\tLoss: 12.242439\n",
      "Train Epoch: 10 [2560/4000 (64%)]\tLoss: 11.740647\n",
      "Train Epoch: 10 [3840/4000 (96%)]\tLoss: 12.318810\n",
      "====> Epoch: 10 Average loss: 12.2810\n",
      "====> Test set loss: 33.7913\n"
     ]
    }
   ],
   "source": [
    "gradients = torch.zeros(train_data.shape[1]).to(device)\n",
    "for epoch in range(1, n_epochs+1):\n",
    "    grads=train_truncated_with_gradients(train_data, vae_gumbel_truncated, \n",
    "                                         vae_gumbel_trunc_optimizer, epoch, batch_size, Dim = D)\n",
    "    if epoch > 5:\n",
    "        gradients += grads\n",
    "    test(test_data, vae_gumbel_truncated, epoch, batch_size)\n",
    "    \n",
    "gradients = gradients"
   ]
  },
  {
   "cell_type": "code",
   "execution_count": 30,
   "metadata": {},
   "outputs": [
    {
     "data": {
      "text/plain": [
       "<matplotlib.axes._subplots.AxesSubplot at 0x7f623d3918d0>"
      ]
     },
     "execution_count": 30,
     "metadata": {},
     "output_type": "execute_result"
    },
    {
     "data": {
      "image/png": "[encoded data removed]",
      "text/plain": [
       "<Figure size 432x288 with 2 Axes>"
      ]
     },
     "metadata": {
      "needs_background": "light"
     },
     "output_type": "display_data"
    }
   ],
   "source": [
    "sns.heatmap(gradients.clone().detach().cpu().numpy()[:, np.newaxis])"
   ]
  },
  {
   "cell_type": "code",
   "execution_count": 31,
   "metadata": {},
   "outputs": [
    {
     "data": {
      "text/plain": [
       "tensor([0.0978, 0.3031, 0.1394, 0.2099, 0.2063, 0.2098, 0.1076, 0.2316, 0.0298,\n",
       "        0.1968, 0.0261, 0.0561, 0.0848, 0.2727, 0.2320, 0.3355, 0.2739, 0.0056,\n",
       "        0.0301, 0.0953, 0.0889, 0.2483, 0.0063, 0.0231, 0.0009, 0.0924, 0.4782,\n",
       "        0.3251, 0.2092, 0.2881], device='cuda:0')"
      ]
     },
     "execution_count": 31,
     "metadata": {},
     "output_type": "execute_result"
    }
   ],
   "source": [
    "test_data.mean(dim = 0)[:D]"
   ]
  },
  {
   "cell_type": "code",
   "execution_count": 32,
   "metadata": {},
   "outputs": [
    {
     "data": {
      "text/plain": [
       "tensor([0.1094, 0.3099, 0.1595, 0.2242, 0.2202, 0.2233, 0.1150, 0.2411, 0.0545,\n",
       "        0.2240, 0.0513, 0.0797, 0.1111, 0.2914, 0.2270, 0.3305, 0.2916, 0.0391,\n",
       "        0.0630, 0.1157, 0.1026, 0.2577, 0.0369, 0.0494, 0.0344, 0.1018, 0.4733,\n",
       "        0.3381, 0.2324, 0.3088], device='cuda:0', grad_fn=<SliceBackward>)"
      ]
     },
     "execution_count": 32,
     "metadata": {},
     "output_type": "execute_result"
    }
   ],
   "source": [
    "vae_gumbel_truncated(test_data)[0].mean(dim = 0)[:D]"
   ]
  },
  {
   "cell_type": "code",
   "execution_count": 33,
   "metadata": {},
   "outputs": [
    {
     "data": {
      "text/plain": [
       "tensor([0.1913, 0.2338, 0.2076, 0.2199, 0.2306, 0.1890, 0.1805, 0.1945, 0.1051,\n",
       "        0.2321, 0.0976, 0.1389, 0.1652, 0.1922, 0.2341, 0.2330, 0.2048, 0.0390,\n",
       "        0.0929, 0.1692, 0.1755, 0.2236, 0.0499, 0.0923, 0.0152, 0.1863, 0.1593,\n",
       "        0.2244, 0.2096, 0.2350], device='cuda:0')"
      ]
     },
     "execution_count": 33,
     "metadata": {},
     "output_type": "execute_result"
    }
   ],
   "source": [
    "test_data.std(dim = 0)[:D]"
   ]
  },
  {
   "cell_type": "code",
   "execution_count": 34,
   "metadata": {},
   "outputs": [
    {
     "data": {
      "text/plain": [
       "tensor([0.0472, 0.0383, 0.0518, 0.0632, 0.0462, 0.0493, 0.0488, 0.0508, 0.0407,\n",
       "        0.0565, 0.0388, 0.0513, 0.0501, 0.0371, 0.0457, 0.0417, 0.0485, 0.0370,\n",
       "        0.0453, 0.0480, 0.0506, 0.0511, 0.0311, 0.0370, 0.0307, 0.0505, 0.0220,\n",
       "        0.0295, 0.0536, 0.0392], device='cuda:0', grad_fn=<SliceBackward>)"
      ]
     },
     "execution_count": 34,
     "metadata": {},
     "output_type": "execute_result"
    }
   ],
   "source": [
    "vae_gumbel_truncated(test_data)[0].std(dim = 0)[:D]"
   ]
  },
  {
   "cell_type": "code",
   "execution_count": 35,
   "metadata": {},
   "outputs": [],
   "source": [
    "with torch.no_grad():\n",
    "    w = vae_gumbel_truncated.weight_creator(test_data[0:10, :])\n",
    "    subset_indices = sample_subset(w, k=3*z_size, t=global_t).cpu()"
   ]
  },
  {
   "cell_type": "code",
   "execution_count": 36,
   "metadata": {},
   "outputs": [
    {
     "data": {
      "text/plain": [
       "<matplotlib.axes._subplots.AxesSubplot at 0x7f623d26d090>"
      ]
     },
     "execution_count": 36,
     "metadata": {},
     "output_type": "execute_result"
    },
    {
     "data": {
      "image/png": "[encoded data removed]",
      "text/plain": [
       "<Figure size 432x288 with 2 Axes>"
      ]
     },
     "metadata": {
      "needs_background": "light"
     },
     "output_type": "display_data"
    }
   ],
   "source": [
    "sns.heatmap(subset_indices.sum(dim = 0).clone().detach().cpu().numpy()[:, np.newaxis])"
   ]
  },
  {
   "cell_type": "code",
   "execution_count": 37,
   "metadata": {},
   "outputs": [
    {
     "data": {
      "text/plain": [
       "tensor([[1.2073e+00, 3.2807e-13, 1.1279e-07, 2.0914e-14, 1.0591e+00, 2.0168e-02,\n",
       "         4.4754e-02, 1.5503e-11, 1.1230e-02, 1.5795e-03, 1.2229e+00, 1.3357e-01,\n",
       "         4.0079e-01, 9.6859e-03, 9.1085e-01, 1.1801e-01, 2.0279e-13, 2.4304e-06,\n",
       "         6.5710e-11, 3.4164e-02, 7.7772e-06, 5.5612e-09, 6.5886e-03, 2.9501e-22,\n",
       "         1.0092e+00, 1.4680e-11, 1.1070e-03, 4.7849e-01, 1.3470e-01, 2.1976e-01,\n",
       "         4.1120e-19, 1.9168e-02, 7.0067e-03, 8.0012e-01, 2.1593e-01, 5.3310e-01,\n",
       "         5.1648e-01, 6.2148e-04, 8.0084e-08, 2.8428e-01, 3.0011e-10, 5.3358e-04,\n",
       "         8.6128e-02, 1.0150e-01, 5.6036e-01, 7.3053e-02, 9.5651e-01, 2.2387e-09,\n",
       "         1.3241e-04, 9.4546e-01, 2.3364e-09, 4.3497e-03, 1.0594e-02, 8.2895e-01,\n",
       "         9.1975e-01, 1.0711e-12, 1.5108e-03, 1.9452e-01, 1.0070e-12, 9.1586e-01],\n",
       "        [2.4008e-11, 1.1754e-06, 1.6352e-02, 5.3941e-09, 6.6906e-02, 2.8629e-01,\n",
       "         1.5480e-09, 2.2657e-02, 3.6519e-02, 5.4530e-07, 7.3120e-01, 1.8552e-01,\n",
       "         9.1524e-01, 1.0864e+00, 9.0540e-01, 2.4588e-01, 4.3130e-06, 1.5269e-05,\n",
       "         4.5551e-03, 1.4108e-08, 9.2016e-01, 1.1006e+00, 2.3911e-01, 2.8561e-01,\n",
       "         1.0506e-07, 5.3672e-01, 6.6346e-05, 3.0585e-04, 9.0856e-01, 1.1755e-01,\n",
       "         1.6834e-06, 1.0222e-06, 3.2478e-01, 1.8060e-08, 1.0957e-10, 6.0591e-01,\n",
       "         3.2671e-04, 2.2025e-01, 4.0448e-08, 1.9861e-02, 4.1401e-03, 3.1638e-15,\n",
       "         1.3665e-02, 3.6211e-16, 3.1232e-14, 1.9636e-09, 6.5487e-01, 6.5664e-06,\n",
       "         9.8067e-01, 1.0792e-09, 5.4180e-01, 5.4263e-09, 1.0136e+00, 1.7103e-03,\n",
       "         8.9413e-01, 5.9384e-01, 9.1164e-07, 1.3247e-01, 3.8633e-01, 1.5948e-08],\n",
       "        [1.1885e-18, 4.0078e-02, 5.4566e-10, 1.6897e-14, 6.3028e-11, 4.4846e-05,\n",
       "         9.6655e-01, 9.0625e-05, 6.2158e-01, 6.1149e-01, 6.1782e-19, 2.6021e-01,\n",
       "         7.1501e-01, 1.2080e-02, 1.0417e+00, 2.2955e-05, 3.3638e-01, 5.5344e-01,\n",
       "         2.3954e-03, 3.4155e-02, 4.0548e-06, 1.5403e-01, 2.3084e-02, 2.8581e-02,\n",
       "         3.5154e-01, 5.8851e-04, 4.6711e-02, 4.7414e-02, 5.9341e-10, 1.4860e-15,\n",
       "         4.3827e-11, 7.9513e-01, 6.0631e-08, 9.3182e-01, 2.9256e-03, 1.9557e-05,\n",
       "         9.4710e-01, 1.2079e+00, 9.6434e-09, 2.5254e-01, 6.1564e-12, 1.5180e-09,\n",
       "         2.4994e-03, 2.0772e-01, 4.0947e-08, 9.2222e-09, 1.0377e-06, 2.8579e-03,\n",
       "         1.2311e+00, 6.8569e-08, 3.3625e-02, 7.9661e-06, 8.8437e-01, 7.0974e-04,\n",
       "         6.6100e-02, 1.0557e+00, 6.5981e-01, 4.5423e-11, 3.9457e-10, 8.7082e-01],\n",
       "        [5.3943e-01, 2.2000e-03, 3.4696e-22, 1.0442e-18, 1.8745e-03, 1.6760e-02,\n",
       "         2.1769e-04, 5.3103e-04, 4.0035e-01, 1.9495e-15, 5.6964e-09, 3.8137e-21,\n",
       "         7.1113e-01, 1.5858e-06, 3.2790e-01, 8.1544e-17, 3.4862e-03, 5.6108e-10,\n",
       "         1.2765e-03, 5.1380e-06, 4.8633e-10, 3.4111e-09, 5.6914e-15, 5.8352e-01,\n",
       "         2.4024e-01, 2.5776e-11, 4.4512e-05, 4.6715e-08, 6.9081e-01, 1.5698e-04,\n",
       "         5.0769e-08, 8.7562e-15, 1.0445e-17, 8.5490e-02, 1.0524e-03, 1.0643e+00,\n",
       "         7.1019e-02, 1.4466e-07, 4.0773e-04, 7.4651e-02, 9.2920e-02, 8.6133e-01,\n",
       "         3.0326e-01, 1.3000e+00, 4.2407e-01, 3.7757e-17, 5.2394e-15, 4.7368e-01,\n",
       "         1.2812e-05, 1.0759e+00, 1.8800e-08, 3.1374e-07, 2.8601e-01, 8.6891e-01,\n",
       "         1.2423e+00, 7.2005e-01, 9.6552e-01, 8.2711e-01, 7.4211e-01, 1.4011e-10],\n",
       "        [1.2130e-03, 6.6746e-07, 7.1358e-01, 1.9605e-04, 9.7179e-09, 9.3097e-03,\n",
       "         4.7217e-04, 4.9178e-01, 9.4718e-01, 4.6234e-01, 6.5791e-02, 2.4989e-08,\n",
       "         3.0170e-01, 6.6298e-05, 2.7178e-01, 3.5395e-01, 5.8404e-04, 1.5311e-05,\n",
       "         3.7913e-01, 3.6735e-01, 4.7136e-01, 1.1849e+00, 6.2912e-03, 3.6462e-23,\n",
       "         8.8505e-02, 5.2190e-09, 1.2066e-02, 6.1775e-01, 3.9494e-01, 4.6705e-10,\n",
       "         5.1638e-01, 5.1832e-04, 5.3738e-06, 3.8735e-01, 2.2646e-16, 1.4711e-06,\n",
       "         9.6694e-21, 2.2205e-02, 2.3986e-07, 1.5202e-10, 6.0194e-01, 2.3336e-16,\n",
       "         5.1228e-02, 5.0750e-01, 8.7580e-08, 3.7693e-13, 9.5351e-01, 4.5610e-03,\n",
       "         8.0194e-08, 7.0701e-02, 3.7066e-03, 5.6720e-11, 1.2017e-01, 1.0542e+00,\n",
       "         9.3113e-01, 1.4411e-08, 7.3632e-12, 2.4310e-01, 1.1917e+00, 1.1978e+00],\n",
       "        [5.2677e-06, 1.0313e-14, 1.1719e-01, 2.1977e-05, 3.0895e-07, 3.1137e-06,\n",
       "         8.4517e-11, 5.4345e-09, 1.0082e+00, 8.9132e-05, 5.1553e-01, 4.1274e-01,\n",
       "         1.4997e-10, 3.8901e-12, 9.4427e-02, 1.3181e-02, 2.1578e-14, 5.8496e-04,\n",
       "         4.2601e-02, 1.6743e-03, 2.4715e-06, 4.0733e-10, 8.3132e-01, 7.5612e-06,\n",
       "         6.0195e-17, 5.2335e-01, 4.6256e-13, 6.7282e-01, 5.7233e-01, 1.8149e-03,\n",
       "         1.1746e+00, 4.1643e-07, 9.4461e-03, 1.3527e-04, 1.4803e-09, 2.7778e-01,\n",
       "         1.8465e-01, 1.6226e-01, 4.5816e-04, 1.1782e+00, 4.8502e-01, 5.8084e-12,\n",
       "         6.1565e-01, 1.2217e-10, 2.0470e-08, 3.8202e-03, 3.1216e-02, 3.5946e-02,\n",
       "         5.2442e-01, 1.1974e+00, 9.1110e-07, 2.7539e-22, 3.9192e-08, 5.1267e-01,\n",
       "         1.0393e+00, 1.5965e-09, 9.6051e-01, 9.3248e-01, 8.6613e-01, 5.8922e-20],\n",
       "        [1.0133e+00, 9.6494e-12, 1.5623e-07, 1.3512e-11, 2.3191e-05, 2.8231e-01,\n",
       "         1.2432e+00, 2.9025e-07, 9.2636e-01, 3.7097e-14, 6.7947e-06, 2.7810e-09,\n",
       "         7.8177e-15, 6.7347e-04, 1.1710e-01, 8.2283e-03, 9.2326e-03, 2.1050e-07,\n",
       "         5.1821e-01, 7.8285e-01, 4.3975e-07, 7.8903e-01, 3.3260e-05, 4.4289e-01,\n",
       "         5.0610e-01, 2.5020e-02, 1.5017e-02, 1.4387e+00, 2.9356e-01, 5.5094e-05,\n",
       "         1.8451e-12, 1.4805e-06, 8.7242e-13, 3.6001e-06, 3.3155e-03, 9.0676e-07,\n",
       "         8.0247e-01, 1.0663e+00, 3.2702e-09, 2.2854e-10, 3.9462e-03, 3.4990e-03,\n",
       "         3.8574e-11, 2.9784e-09, 2.6990e-01, 4.3424e-04, 1.3411e-01, 1.0098e+00,\n",
       "         2.0049e-05, 9.3909e-18, 3.4854e-03, 1.5090e-08, 3.4087e-01, 1.3833e+00,\n",
       "         9.3877e-01, 2.3107e-07, 4.5645e-01, 1.6065e-01, 8.7791e-11, 1.0770e-02],\n",
       "        [3.2626e-07, 8.9523e-02, 1.7251e-01, 3.4275e-02, 2.4014e-03, 1.0427e-24,\n",
       "         1.0218e-02, 1.0581e+00, 2.5358e-01, 8.4726e-01, 2.1723e-04, 1.0782e-08,\n",
       "         1.3399e-03, 4.4782e-04, 4.4031e-01, 1.0634e+00, 1.5933e-01, 5.3066e-12,\n",
       "         1.9778e-10, 1.1665e+00, 7.0327e-07, 4.1438e-05, 1.6530e-13, 3.1350e-03,\n",
       "         2.1202e-03, 2.6791e-06, 1.6985e-04, 9.4190e-01, 1.8479e-02, 1.1841e-05,\n",
       "         6.0666e-01, 6.1428e-10, 6.1300e-01, 8.9740e-01, 8.1938e-13, 4.1147e-01,\n",
       "         8.9813e-21, 8.4754e-01, 2.0967e-01, 6.2503e-01, 2.1654e-01, 1.1370e-13,\n",
       "         6.7712e-03, 4.6787e-03, 6.8952e-01, 9.5738e-01, 5.5990e-06, 1.0953e-10,\n",
       "         3.7702e-05, 6.3882e-02, 2.7303e-01, 1.1652e+00, 1.9414e-03, 3.3497e-01,\n",
       "         2.3791e-01, 5.3492e-01, 1.0760e-03, 3.6046e-02, 3.2073e-08, 1.6905e-05],\n",
       "        [3.1060e-11, 8.9846e-03, 4.8698e-01, 9.5103e-13, 1.2932e+00, 5.0596e-03,\n",
       "         8.0594e-09, 5.9376e-04, 4.8972e-06, 6.9773e-04, 9.7877e-09, 4.1538e-01,\n",
       "         2.6851e-03, 3.5950e-06, 1.5339e-09, 1.6751e-17, 8.7654e-05, 1.5860e-09,\n",
       "         8.3994e-08, 8.7162e-04, 7.6652e-13, 3.0437e-08, 7.0392e-01, 6.1327e-01,\n",
       "         4.1464e-01, 1.0648e+00, 2.5024e-02, 7.3913e-01, 6.1936e-09, 2.0044e-01,\n",
       "         5.3315e-06, 9.2493e-01, 1.3393e-06, 1.1800e+00, 7.1061e-08, 1.8293e-03,\n",
       "         3.9503e-09, 4.7830e-06, 5.8819e-02, 1.2836e+00, 1.6816e-09, 1.8809e-02,\n",
       "         1.4219e-03, 4.3729e-08, 3.3200e-10, 5.1072e-05, 8.0815e-03, 9.4087e-07,\n",
       "         1.0661e-01, 8.2567e-01, 3.9047e-02, 1.2292e+00, 5.5055e-01, 3.2869e-02,\n",
       "         7.8342e-01, 1.2673e+00, 2.6344e-27, 7.7539e-02, 1.4986e-01, 4.8450e-01],\n",
       "        [6.4946e-01, 8.5500e-05, 4.8201e-07, 4.5448e-14, 1.2397e-05, 4.3331e-09,\n",
       "         6.0825e-09, 3.9764e-06, 1.3638e+00, 2.3936e-07, 5.7221e-16, 9.3878e-06,\n",
       "         9.3442e-01, 1.3376e-13, 1.1938e-07, 1.8632e-01, 5.7515e-01, 1.0041e-04,\n",
       "         5.9498e-03, 1.3682e-07, 2.7947e-05, 2.9249e-05, 6.3403e-02, 7.1510e-02,\n",
       "         4.5877e-07, 9.4502e-01, 7.6913e-01, 5.1212e-03, 8.5996e-03, 5.0270e-01,\n",
       "         1.1921e-01, 1.2604e+00, 5.2833e-01, 2.4101e-25, 4.1348e-03, 5.0929e-01,\n",
       "         5.5261e-01, 6.1316e-04, 1.2065e-05, 5.2054e-16, 3.9968e-02, 3.2325e-01,\n",
       "         2.7418e-07, 6.5635e-08, 2.9724e-07, 3.8134e-01, 7.0814e-01, 6.6907e-01,\n",
       "         8.3853e-01, 1.7507e-03, 6.3691e-01, 4.4273e-03, 3.2918e-01, 9.3404e-04,\n",
       "         4.6610e-06, 8.2190e-01, 4.7006e-08, 5.6205e-01, 9.0681e-02, 5.3648e-01]])"
      ]
     },
     "execution_count": 37,
     "metadata": {},
     "output_type": "execute_result"
    }
   ],
   "source": [
    "subset_indices"
   ]
  },
  {
   "cell_type": "code",
   "execution_count": 38,
   "metadata": {},
   "outputs": [
    {
     "data": {
      "text/plain": [
       "tensor([[10,  0,  4, 24, 46, 49, 54, 59, 14, 53, 33, 44, 35, 36, 27],\n",
       "        [21, 13, 52, 48, 20, 12, 28, 14, 54, 10, 46, 35, 55, 50, 25],\n",
       "        [48, 37, 55, 14,  6, 36, 33, 52, 59, 31, 12, 56,  8,  9, 17],\n",
       "        [43, 54, 49, 35, 56, 53, 41, 57, 58, 55, 12, 28, 23,  0, 47],\n",
       "        [59, 58, 21, 53, 46,  8, 54,  2, 27, 40, 30, 43,  7, 20,  9],\n",
       "        [49, 39, 30, 54,  8, 56, 57, 58, 22, 27, 42, 28, 48, 25, 10],\n",
       "        [27, 53,  6, 37,  0, 47, 54,  8, 36, 21, 19, 18, 24, 56, 23],\n",
       "        [19, 51, 15,  7, 45, 27, 33, 37,  9, 44, 39, 32, 30, 55, 14],\n",
       "        [ 4, 39, 55, 51, 33, 25, 31, 49, 54, 27, 22, 23, 52,  2, 59],\n",
       "        [ 8, 31, 25, 12, 48, 55, 26, 46, 47,  0, 50, 16, 57, 36, 59]])"
      ]
     },
     "execution_count": 38,
     "metadata": {},
     "output_type": "execute_result"
    }
   ],
   "source": [
    "torch.argsort(subset_indices, dim = 1, descending = True)[:, :3*z_size]"
   ]
  },
  {
   "cell_type": "code",
   "execution_count": 39,
   "metadata": {},
   "outputs": [
    {
     "name": "stdout",
     "output_type": "stream",
     "text": [
      "tensor(63.6868)\n",
      "tensor(86.3132)\n"
     ]
    }
   ],
   "source": [
    "print(subset_indices[:, :D].sum())\n",
    "\n",
    "print(subset_indices[:, D:2*D].sum())"
   ]
  },
  {
   "cell_type": "code",
   "execution_count": 40,
   "metadata": {},
   "outputs": [
    {
     "data": {
      "text/plain": [
       "tensor(67, device='cuda:0')"
      ]
     },
     "execution_count": 40,
     "metadata": {},
     "output_type": "execute_result"
    }
   ],
   "source": [
    "torch.sum(w.argsort(descending= True)[:, :3*z_size] < 30)"
   ]
  },
  {
   "cell_type": "markdown",
   "metadata": {},
   "source": [
    "What happens if you run it on all the data? And not truncate the loss to the first D features?"
   ]
  },
  {
   "cell_type": "code",
   "execution_count": 41,
   "metadata": {},
   "outputs": [],
   "source": [
    "# let's see how it does here\n",
    "vae_gumbel_truncated = VAE_Gumbel(2*D, 100, 20, k = 3*z_size, t = global_t)\n",
    "vae_gumbel_truncated.to(device)\n",
    "vae_gumbel_trunc_optimizer = torch.optim.Adam(vae_gumbel_truncated.parameters(), \n",
    "                                                lr=lr, \n",
    "                                                betas = (b1,b2))"
   ]
  },
  {
   "cell_type": "code",
   "execution_count": 42,
   "metadata": {},
   "outputs": [
    {
     "name": "stdout",
     "output_type": "stream",
     "text": [
      "Train Epoch: 1 [0/4000 (0%)]\tLoss: 42.028629\n",
      "Train Epoch: 1 [1280/4000 (32%)]\tLoss: 40.915264\n",
      "Train Epoch: 1 [2560/4000 (64%)]\tLoss: 39.910995\n",
      "Train Epoch: 1 [3840/4000 (96%)]\tLoss: 39.396061\n",
      "====> Epoch: 1 Average loss: 40.4697\n",
      "====> Test set loss: 39.0664\n",
      "Train Epoch: 2 [0/4000 (0%)]\tLoss: 39.090374\n",
      "Train Epoch: 2 [1280/4000 (32%)]\tLoss: 38.245132\n",
      "Train Epoch: 2 [2560/4000 (64%)]\tLoss: 37.067886\n",
      "Train Epoch: 2 [3840/4000 (96%)]\tLoss: 35.996540\n",
      "====> Epoch: 2 Average loss: 37.6958\n",
      "====> Test set loss: 35.8635\n",
      "Train Epoch: 3 [0/4000 (0%)]\tLoss: 35.921787\n",
      "Train Epoch: 3 [1280/4000 (32%)]\tLoss: 34.902534\n",
      "Train Epoch: 3 [2560/4000 (64%)]\tLoss: 34.827450\n",
      "Train Epoch: 3 [3840/4000 (96%)]\tLoss: 34.321831\n",
      "====> Epoch: 3 Average loss: 34.8971\n",
      "====> Test set loss: 34.1408\n",
      "Train Epoch: 4 [0/4000 (0%)]\tLoss: 34.248451\n",
      "Train Epoch: 4 [1280/4000 (32%)]\tLoss: 34.243980\n",
      "Train Epoch: 4 [2560/4000 (64%)]\tLoss: 33.460762\n",
      "Train Epoch: 4 [3840/4000 (96%)]\tLoss: 33.485729\n",
      "====> Epoch: 4 Average loss: 33.9387\n",
      "====> Test set loss: 33.6819\n",
      "Train Epoch: 5 [0/4000 (0%)]\tLoss: 33.534557\n",
      "Train Epoch: 5 [1280/4000 (32%)]\tLoss: 33.390530\n",
      "Train Epoch: 5 [2560/4000 (64%)]\tLoss: 33.613308\n",
      "Train Epoch: 5 [3840/4000 (96%)]\tLoss: 33.624912\n",
      "====> Epoch: 5 Average loss: 33.5486\n",
      "====> Test set loss: 33.4610\n",
      "Train Epoch: 6 [0/4000 (0%)]\tLoss: 33.477726\n",
      "Train Epoch: 6 [1280/4000 (32%)]\tLoss: 33.572842\n",
      "Train Epoch: 6 [2560/4000 (64%)]\tLoss: 33.096832\n",
      "Train Epoch: 6 [3840/4000 (96%)]\tLoss: 33.260303\n",
      "====> Epoch: 6 Average loss: 33.3781\n",
      "====> Test set loss: 33.3010\n",
      "Train Epoch: 7 [0/4000 (0%)]\tLoss: 32.988102\n",
      "Train Epoch: 7 [1280/4000 (32%)]\tLoss: 33.270157\n",
      "Train Epoch: 7 [2560/4000 (64%)]\tLoss: 33.369640\n",
      "Train Epoch: 7 [3840/4000 (96%)]\tLoss: 32.972324\n",
      "====> Epoch: 7 Average loss: 33.2563\n",
      "====> Test set loss: 33.1926\n",
      "Train Epoch: 8 [0/4000 (0%)]\tLoss: 33.018768\n",
      "Train Epoch: 8 [1280/4000 (32%)]\tLoss: 33.350258\n",
      "Train Epoch: 8 [2560/4000 (64%)]\tLoss: 32.979244\n",
      "Train Epoch: 8 [3840/4000 (96%)]\tLoss: 33.223293\n",
      "====> Epoch: 8 Average loss: 33.1429\n",
      "====> Test set loss: 33.0544\n",
      "Train Epoch: 9 [0/4000 (0%)]\tLoss: 32.864590\n",
      "Train Epoch: 9 [1280/4000 (32%)]\tLoss: 33.100220\n",
      "Train Epoch: 9 [2560/4000 (64%)]\tLoss: 33.167206\n",
      "Train Epoch: 9 [3840/4000 (96%)]\tLoss: 33.121712\n",
      "====> Epoch: 9 Average loss: 33.0823\n",
      "====> Test set loss: 33.0354\n",
      "Train Epoch: 10 [0/4000 (0%)]\tLoss: 33.002995\n",
      "Train Epoch: 10 [1280/4000 (32%)]\tLoss: 33.571770\n",
      "Train Epoch: 10 [2560/4000 (64%)]\tLoss: 33.199017\n",
      "Train Epoch: 10 [3840/4000 (96%)]\tLoss: 32.826889\n",
      "====> Epoch: 10 Average loss: 33.0339\n",
      "====> Test set loss: 32.9485\n"
     ]
    }
   ],
   "source": [
    "gradients = torch.zeros(train_data.shape[1]).to(device)\n",
    "for epoch in range(1, n_epochs+1):\n",
    "    grads=train_truncated_with_gradients(train_data, vae_gumbel_truncated, \n",
    "                                         vae_gumbel_trunc_optimizer, epoch, batch_size, Dim = 2*D)\n",
    "    if epoch > 5:\n",
    "        gradients += grads\n",
    "    test(test_data, vae_gumbel_truncated, epoch, batch_size)"
   ]
  },
  {
   "cell_type": "code",
   "execution_count": 43,
   "metadata": {},
   "outputs": [
    {
     "data": {
      "text/plain": [
       "<matplotlib.axes._subplots.AxesSubplot at 0x7f623d360950>"
      ]
     },
     "execution_count": 43,
     "metadata": {},
     "output_type": "execute_result"
    },
    {
     "data": {
      "image/png": "[encoded data removed]",
      "text/plain": [
       "<Figure size 432x288 with 2 Axes>"
      ]
     },
     "metadata": {
      "needs_background": "light"
     },
     "output_type": "display_data"
    }
   ],
   "source": [
    "sns.heatmap(gradients.clone().detach().cpu().numpy()[:, np.newaxis])"
   ]
  },
  {
   "cell_type": "code",
   "execution_count": 44,
   "metadata": {},
   "outputs": [
    {
     "data": {
      "text/plain": [
       "tensor([0.0978, 0.3031, 0.1394, 0.2099, 0.2063, 0.2098, 0.1076, 0.2316, 0.0298,\n",
       "        0.1968, 0.0261, 0.0561, 0.0848, 0.2727, 0.2320, 0.3355, 0.2739, 0.0056,\n",
       "        0.0301, 0.0953, 0.0889, 0.2483, 0.0063, 0.0231, 0.0009, 0.0924, 0.4782,\n",
       "        0.3251, 0.2092, 0.2881], device='cuda:0')"
      ]
     },
     "execution_count": 44,
     "metadata": {},
     "output_type": "execute_result"
    }
   ],
   "source": [
    "test_data.mean(dim = 0)[:D]"
   ]
  },
  {
   "cell_type": "code",
   "execution_count": 45,
   "metadata": {},
   "outputs": [
    {
     "data": {
      "text/plain": [
       "tensor([0.1128, 0.3126, 0.1563, 0.2201, 0.2256, 0.2234, 0.1158, 0.2386, 0.0613,\n",
       "        0.2244, 0.0492, 0.0723, 0.1101, 0.2892, 0.2301, 0.3305, 0.2922, 0.0411,\n",
       "        0.0572, 0.1169, 0.0987, 0.2532, 0.0364, 0.0629, 0.0377, 0.1005, 0.4759,\n",
       "        0.3359, 0.2267, 0.3067], device='cuda:0', grad_fn=<SliceBackward>)"
      ]
     },
     "execution_count": 45,
     "metadata": {},
     "output_type": "execute_result"
    }
   ],
   "source": [
    "vae_gumbel_truncated(test_data)[0].mean(dim = 0)[:D]"
   ]
  },
  {
   "cell_type": "code",
   "execution_count": 46,
   "metadata": {},
   "outputs": [
    {
     "data": {
      "text/plain": [
       "tensor([0.1913, 0.2338, 0.2076, 0.2199, 0.2306, 0.1890, 0.1805, 0.1945, 0.1051,\n",
       "        0.2321, 0.0976, 0.1389, 0.1652, 0.1922, 0.2341, 0.2330, 0.2048, 0.0390,\n",
       "        0.0929, 0.1692, 0.1755, 0.2236, 0.0499, 0.0923, 0.0152, 0.1863, 0.1593,\n",
       "        0.2244, 0.2096, 0.2350], device='cuda:0')"
      ]
     },
     "execution_count": 46,
     "metadata": {},
     "output_type": "execute_result"
    }
   ],
   "source": [
    "test_data.std(dim = 0)[:D]"
   ]
  },
  {
   "cell_type": "code",
   "execution_count": 47,
   "metadata": {},
   "outputs": [
    {
     "data": {
      "text/plain": [
       "tensor([0.0515, 0.0448, 0.0505, 0.0543, 0.0515, 0.0467, 0.0494, 0.0444, 0.0400,\n",
       "        0.0549, 0.0406, 0.0453, 0.0496, 0.0389, 0.0453, 0.0384, 0.0452, 0.0353,\n",
       "        0.0422, 0.0499, 0.0493, 0.0392, 0.0348, 0.0451, 0.0340, 0.0514, 0.0218,\n",
       "        0.0349, 0.0471, 0.0357], device='cuda:0', grad_fn=<SliceBackward>)"
      ]
     },
     "execution_count": 47,
     "metadata": {},
     "output_type": "execute_result"
    }
   ],
   "source": [
    "vae_gumbel_truncated(test_data)[0].std(dim = 0)[:D]"
   ]
  },
  {
   "cell_type": "code",
   "execution_count": 48,
   "metadata": {},
   "outputs": [],
   "source": [
    "with torch.no_grad():\n",
    "    w = vae_gumbel_truncated.weight_creator(test_data[0:10, :])\n",
    "    subset_indices = sample_subset(w, k=3*z_size, t=global_t).cpu()"
   ]
  },
  {
   "cell_type": "code",
   "execution_count": 49,
   "metadata": {},
   "outputs": [
    {
     "data": {
      "text/plain": [
       "<matplotlib.axes._subplots.AxesSubplot at 0x7f623d4b1e50>"
      ]
     },
     "execution_count": 49,
     "metadata": {},
     "output_type": "execute_result"
    },
    {
     "data": {
      "image/png": "[encoded data removed]",
      "text/plain": [
       "<Figure size 432x288 with 2 Axes>"
      ]
     },
     "metadata": {
      "needs_background": "light"
     },
     "output_type": "display_data"
    }
   ],
   "source": [
    "sns.heatmap(subset_indices.sum(dim = 0).clone().detach().cpu().numpy()[:, np.newaxis])"
   ]
  },
  {
   "cell_type": "code",
   "execution_count": 50,
   "metadata": {},
   "outputs": [
    {
     "data": {
      "text/plain": [
       "tensor([[7.5401e-01, 6.9169e-01, 1.3911e-01, 9.9240e-01, 4.7788e-01, 1.1182e-10,\n",
       "         1.9965e-01, 1.5265e-06, 1.4241e-06, 4.8416e-01, 9.2352e-01, 9.8128e-01,\n",
       "         2.6658e-04, 2.1182e-01, 1.4289e-08, 1.0497e-02, 1.0621e-11, 7.0780e-02,\n",
       "         8.5574e-01, 2.0755e-13, 1.0968e-01, 4.4676e-01, 1.7134e-02, 5.4778e-12,\n",
       "         1.5547e-04, 4.0107e-05, 6.8918e-22, 4.3006e-01, 9.8791e-02, 2.0574e-02,\n",
       "         7.8771e-01, 9.5241e-01, 1.1409e-01, 7.1239e-04, 5.5171e-01, 1.0608e+00,\n",
       "         4.1189e-01, 1.5422e-02, 2.7922e-03, 2.6900e-01, 4.3977e-01, 3.9764e-01,\n",
       "         5.6803e-01, 5.0028e-10, 4.5282e-01, 5.0114e-11, 3.1899e-23, 1.3292e-09,\n",
       "         4.6096e-02, 1.1469e-10, 7.6779e-18, 2.1113e-09, 4.6958e-02, 9.3070e-03,\n",
       "         3.6092e-01, 1.3228e-03, 3.8032e-07, 6.7817e-07, 1.7488e-05, 5.9459e-01],\n",
       "        [9.9876e-09, 2.1482e-02, 2.8550e-01, 1.4806e-01, 1.1864e+00, 1.1023e-01,\n",
       "         1.8090e-01, 5.4524e-02, 6.5852e-04, 1.2846e-02, 3.8906e-04, 1.4067e-01,\n",
       "         9.9303e-01, 4.5735e-01, 7.8132e-01, 1.2269e-01, 1.7503e-03, 2.5794e-05,\n",
       "         4.4590e-04, 5.4610e-01, 7.3797e-01, 1.1725e-06, 2.9883e-19, 1.0101e+00,\n",
       "         1.0563e-09, 3.5986e-04, 4.1957e-05, 1.4613e-25, 2.7547e-10, 1.1564e-01,\n",
       "         3.2384e-04, 5.3653e-01, 7.2873e-18, 7.8418e-01, 1.4446e-04, 1.7653e-10,\n",
       "         5.7028e-02, 2.1662e-04, 7.3612e-10, 6.9645e-01, 4.0791e-03, 6.9479e-01,\n",
       "         3.9485e-02, 3.8031e-01, 3.8739e-06, 9.2537e-04, 9.7209e-01, 9.8540e-01,\n",
       "         3.3096e-07, 1.2473e-13, 3.1457e-07, 3.4045e-01, 7.6146e-01, 7.6709e-05,\n",
       "         9.6102e-01, 6.3568e-07, 1.0517e-09, 6.4097e-01, 1.8029e-01, 5.5264e-02],\n",
       "        [3.6402e-04, 7.4724e-07, 7.4470e-01, 6.2195e-03, 6.9062e-03, 1.6802e-05,\n",
       "         9.1253e-04, 7.4003e-01, 3.7895e-04, 5.0776e-01, 5.5540e-01, 3.9992e-01,\n",
       "         1.2647e-02, 9.3704e-07, 1.8602e-04, 1.2108e-04, 2.4287e-16, 4.8788e-02,\n",
       "         2.0613e-01, 5.1240e-01, 8.4153e-08, 1.9183e-09, 5.8548e-02, 7.8422e-01,\n",
       "         5.3242e-01, 6.0181e-13, 5.9612e-01, 1.1359e+00, 7.0717e-04, 3.8053e-09,\n",
       "         2.4228e-02, 2.5215e-08, 7.7638e-02, 1.0940e+00, 9.4254e-05, 1.0820e-07,\n",
       "         7.6410e-10, 7.7042e-05, 1.0060e-04, 1.5029e+00, 4.4507e-01, 7.5049e-11,\n",
       "         8.9341e-01, 1.3501e-14, 2.7298e-17, 1.9688e-01, 3.2024e-01, 1.4836e-03,\n",
       "         4.3866e-03, 3.1507e-12, 4.1869e-01, 1.7165e+00, 8.2105e-13, 1.3237e+00,\n",
       "         3.4368e-06, 1.6533e-05, 7.0409e-15, 4.7978e-02, 8.1838e-02, 7.6775e-17],\n",
       "        [1.0968e-15, 1.3886e-07, 1.5221e-06, 2.2556e-03, 3.4792e-07, 1.1049e-06,\n",
       "         4.1699e-07, 3.8527e-01, 5.4904e-14, 1.6020e-06, 3.5992e-10, 8.2036e-01,\n",
       "         5.8334e-01, 8.2200e-04, 1.0858e+00, 6.2637e-05, 2.1497e-01, 2.0359e-04,\n",
       "         7.8070e-01, 5.6388e-12, 9.6589e-01, 8.6328e-08, 6.6639e-01, 4.3857e-06,\n",
       "         2.0625e-12, 3.1843e-08, 6.2152e-06, 1.2214e+00, 6.6516e-15, 4.3601e-08,\n",
       "         3.4154e-14, 1.8017e-02, 3.7786e-07, 3.1326e-13, 1.5277e-01, 2.0961e-06,\n",
       "         1.4294e+00, 9.3194e-01, 2.4934e-12, 1.6381e-03, 7.6633e-01, 6.3300e-01,\n",
       "         4.6126e-01, 1.8011e-13, 3.0055e-11, 5.6963e-09, 2.8492e-23, 3.5833e-11,\n",
       "         1.1866e-05, 6.9110e-03, 6.5668e-01, 1.0501e+00, 1.0395e-13, 9.3354e-01,\n",
       "         2.0967e-08, 1.4753e-11, 7.8897e-01, 5.5031e-08, 4.4201e-01, 2.0056e-05],\n",
       "        [3.9490e-05, 8.2266e-04, 7.7675e-06, 1.6537e-06, 6.7956e-01, 1.4205e-05,\n",
       "         1.4660e-03, 8.2260e-04, 7.8982e-02, 9.2377e-08, 1.8533e-13, 1.1397e+00,\n",
       "         1.4667e-01, 1.0436e-05, 1.2120e+00, 3.3811e-01, 3.8068e-10, 1.0448e+00,\n",
       "         6.9722e-01, 2.8266e-09, 4.9175e-01, 6.5390e-01, 1.1603e-03, 1.6607e-01,\n",
       "         3.8368e-06, 1.1411e+00, 8.0384e-04, 6.1180e-01, 5.3091e-02, 1.4026e-01,\n",
       "         7.1724e-01, 4.9980e-01, 1.1977e-02, 6.6136e-01, 2.2923e-09, 4.7479e-01,\n",
       "         1.2159e-09, 3.4103e-03, 6.6712e-02, 4.2491e-04, 9.0021e-01, 9.4110e-07,\n",
       "         1.3217e+00, 2.3760e-04, 4.9454e-03, 2.5375e-03, 1.1316e-04, 7.6062e-09,\n",
       "         1.7277e-02, 2.7740e-08, 2.9467e-17, 6.7941e-01, 2.2979e-03, 1.0680e-01,\n",
       "         1.8504e-04, 8.1484e-09, 1.8621e-17, 6.7941e-01, 8.3044e-11, 2.4897e-01],\n",
       "        [7.3605e-10, 8.8689e-03, 9.3229e-01, 1.3427e+00, 8.2153e-01, 2.8299e-01,\n",
       "         7.7439e-01, 9.2556e-01, 3.1202e-13, 1.2790e-01, 1.3256e-01, 2.3896e-01,\n",
       "         1.2908e-01, 9.0392e-08, 2.7685e-06, 2.9046e-02, 8.1146e-02, 6.4745e-03,\n",
       "         3.1659e-04, 1.9581e-03, 4.2898e-08, 1.0697e-06, 2.5806e-13, 2.3188e-25,\n",
       "         2.4194e-13, 3.6715e-07, 2.0080e-06, 8.1760e-07, 3.6614e-01, 4.6265e-18,\n",
       "         1.2917e-02, 4.5640e-13, 1.3437e+00, 3.7736e-02, 1.0453e-07, 1.3432e-01,\n",
       "         4.6360e-01, 1.0823e+00, 2.8888e-06, 6.6629e-02, 1.3913e-01, 3.3001e-05,\n",
       "         5.6079e-09, 1.3389e-08, 2.0791e-06, 6.3622e-07, 4.9829e-25, 1.0191e-03,\n",
       "         1.4706e-03, 4.1469e-03, 8.9886e-01, 9.7847e-02, 1.4255e-11, 4.3505e-03,\n",
       "         1.0742e+00, 1.3430e+00, 1.0419e-11, 1.2072e+00, 8.8565e-01, 2.8410e-05],\n",
       "        [4.9217e-01, 4.8678e-03, 5.5485e-21, 1.2798e-02, 3.5541e-01, 2.2262e-02,\n",
       "         4.8319e-01, 1.7035e-04, 1.6001e-05, 6.4460e-09, 1.3416e-04, 9.2850e-01,\n",
       "         5.7127e-14, 4.1254e-02, 9.2319e-01, 5.7868e-02, 1.2163e-08, 3.4158e-06,\n",
       "         1.0208e+00, 8.0635e-01, 2.0042e-10, 3.0068e-01, 1.1407e-02, 4.0784e-01,\n",
       "         5.8560e-12, 2.5122e-01, 2.9415e-07, 2.5671e-01, 1.2721e+00, 4.9507e-11,\n",
       "         6.6193e-01, 1.2488e-02, 6.5546e-01, 1.0203e+00, 3.3178e-04, 2.7140e-01,\n",
       "         8.7242e-10, 8.0145e-05, 6.5762e-05, 2.5365e-30, 6.1557e-07, 1.3792e+00,\n",
       "         1.0200e-09, 3.9747e-04, 1.2515e-16, 5.5060e-01, 2.3457e-03, 7.0404e-05,\n",
       "         3.6933e-02, 2.9980e-06, 2.5216e-05, 4.5886e-01, 2.8026e-07, 2.0119e-13,\n",
       "         1.4547e-02, 3.8770e-03, 1.9612e-01, 9.6106e-01, 1.1250e+00, 7.0815e-07],\n",
       "        [1.4708e-12, 2.9864e-07, 2.5174e-01, 2.6812e-02, 1.2561e-01, 2.1417e-04,\n",
       "         1.5650e-01, 3.0244e-08, 3.9655e-01, 3.5032e-12, 6.6261e-01, 8.1713e-05,\n",
       "         1.6480e-01, 1.6664e-04, 6.9925e-05, 9.1818e-05, 7.0734e-01, 1.0973e-03,\n",
       "         1.5736e-02, 8.8952e-02, 3.2893e-03, 4.7535e-01, 1.6232e+00, 1.7967e-05,\n",
       "         1.6789e-20, 6.1320e-01, 2.2484e-03, 2.0572e-08, 8.6294e-01, 1.1612e-07,\n",
       "         1.0566e-03, 7.5095e-01, 1.4665e-02, 1.0680e+00, 2.6494e-01, 9.2975e-18,\n",
       "         1.1775e+00, 2.1939e-03, 5.6876e-08, 1.3734e+00, 6.8391e-02, 1.8764e-11,\n",
       "         1.0181e-04, 6.2679e-12, 3.5145e-10, 3.2892e-06, 2.6694e-01, 1.9813e-01,\n",
       "         1.5840e-05, 1.7180e+00, 9.6090e-06, 7.3702e-02, 7.6469e-01, 1.2693e-02,\n",
       "         5.3304e-01, 1.9754e-04, 8.4869e-03, 1.6112e-05, 5.2428e-01, 4.1307e-12],\n",
       "        [2.3690e-01, 1.7416e-01, 9.2544e-01, 6.5845e-01, 1.1778e+00, 2.2890e-01,\n",
       "         2.3243e-03, 1.4595e+00, 8.0589e-16, 4.2543e-07, 1.7835e-02, 2.0999e-21,\n",
       "         9.2474e-01, 8.4398e-01, 1.0303e-07, 1.4165e-07, 4.3256e-06, 2.0518e-05,\n",
       "         5.1046e-18, 3.7386e-04, 5.2215e-01, 5.0498e-03, 1.1264e-14, 8.7036e-09,\n",
       "         7.4695e-01, 4.8606e-01, 6.6563e-03, 1.4954e-09, 5.6730e-05, 7.0098e-01,\n",
       "         3.3477e-02, 4.6983e-11, 7.9386e-01, 1.3386e-15, 4.1094e-01, 5.3498e-01,\n",
       "         2.9478e-03, 6.1679e-04, 2.6326e-08, 1.7538e-01, 9.6833e-08, 2.2293e-01,\n",
       "         6.4060e-01, 2.4487e-05, 4.3676e-14, 5.1880e-02, 3.9007e-01, 2.9255e-12,\n",
       "         1.6690e-02, 1.1995e+00, 9.6182e-02, 6.7276e-01, 6.5981e-09, 4.9923e-01,\n",
       "         7.5151e-02, 5.5305e-20, 5.4968e-11, 9.1521e-04, 4.5283e-03, 5.8975e-02],\n",
       "        [3.3026e-03, 4.0040e-01, 9.2692e-01, 6.1351e-03, 6.4507e-01, 4.1210e-03,\n",
       "         5.7880e-13, 3.3993e-11, 4.6238e-08, 1.1099e-02, 2.4947e-12, 2.9177e-04,\n",
       "         5.8221e-04, 2.7211e-01, 1.5357e-04, 1.7142e-01, 9.9681e-01, 2.5895e-07,\n",
       "         6.1675e-01, 6.5726e-01, 1.0057e+00, 1.1362e-09, 1.2819e-02, 1.2187e-01,\n",
       "         2.7067e-01, 6.4829e-01, 5.6682e-03, 8.0447e-03, 1.6260e-02, 5.8248e-09,\n",
       "         2.2601e-01, 1.4849e-03, 5.1298e-05, 9.7704e-02, 1.3725e-03, 6.6356e-01,\n",
       "         9.6948e-01, 8.1875e-01, 1.6271e-28, 7.0820e-01, 1.2567e-04, 3.2214e-05,\n",
       "         9.0489e-01, 1.6029e-06, 1.4662e-09, 1.0567e-08, 1.8172e-05, 1.9190e-01,\n",
       "         2.1834e-01, 5.9691e-01, 6.0742e-06, 1.2542e-09, 6.8643e-01, 2.2932e-09,\n",
       "         2.2920e-07, 1.4953e-19, 1.4577e-02, 1.8856e-01, 1.0930e+00, 8.1683e-01]])"
      ]
     },
     "execution_count": 50,
     "metadata": {},
     "output_type": "execute_result"
    }
   ],
   "source": [
    "subset_indices"
   ]
  },
  {
   "cell_type": "code",
   "execution_count": 51,
   "metadata": {},
   "outputs": [
    {
     "data": {
      "text/plain": [
       "tensor([[35,  3, 11, 31, 10, 18, 30,  0,  1, 59, 42, 34,  9,  4, 44],\n",
       "        [ 4, 23, 12, 47, 46, 54, 33, 14, 52, 20, 39, 41, 57, 19, 31],\n",
       "        [51, 39, 53, 27, 33, 42, 23,  2,  7, 26, 10, 24, 19,  9, 40],\n",
       "        [36, 27, 14, 51, 20, 53, 37, 11, 56, 18, 40, 22, 50, 41, 12],\n",
       "        [42, 14, 25, 11, 17, 40, 30, 18,  4, 57, 51, 33, 21, 27, 31],\n",
       "        [32, 55,  3, 57, 37, 54,  2,  7, 50, 58,  4,  6, 36, 28,  5],\n",
       "        [41, 28, 58, 18, 33, 57, 11, 14, 19, 30, 32, 45,  0,  6, 51],\n",
       "        [49, 22, 39, 36, 33, 28, 52, 31, 16, 10, 25, 54, 58, 21,  8],\n",
       "        [ 7, 49,  4,  2, 12, 13, 32, 24, 29, 51,  3, 42, 35, 20, 53],\n",
       "        [58, 20, 16, 36,  2, 42, 37, 59, 39, 52, 35, 19, 25,  4, 18]])"
      ]
     },
     "execution_count": 51,
     "metadata": {},
     "output_type": "execute_result"
    }
   ],
   "source": [
    "torch.argsort(subset_indices, dim = 1, descending = True)[:, :3*z_size]"
   ]
  },
  {
   "cell_type": "code",
   "execution_count": 52,
   "metadata": {},
   "outputs": [
    {
     "name": "stdout",
     "output_type": "stream",
     "text": [
      "tensor(72.9525)\n",
      "tensor(77.0474)\n"
     ]
    }
   ],
   "source": [
    "print(subset_indices[:, :D].sum())\n",
    "\n",
    "print(subset_indices[:, D:2*D].sum())"
   ]
  },
  {
   "cell_type": "code",
   "execution_count": 53,
   "metadata": {},
   "outputs": [
    {
     "data": {
      "text/plain": [
       "tensor(76, device='cuda:0')"
      ]
     },
     "execution_count": 53,
     "metadata": {},
     "output_type": "execute_result"
    }
   ],
   "source": [
    "torch.sum(w.argsort(descending= True)[:, :3*z_size] < 30)"
   ]
  },
  {
   "cell_type": "markdown",
   "metadata": {},
   "source": [
    "# How does a normal VAE do?"
   ]
  },
  {
   "cell_type": "markdown",
   "metadata": {},
   "source": [
    "Trying to reconstruct first 30 features only"
   ]
  },
  {
   "cell_type": "code",
   "execution_count": 54,
   "metadata": {},
   "outputs": [],
   "source": [
    "vanilla_vae = VAE(2*D, 100, 20)\n",
    "\n",
    "vanilla_vae.to(device)\n",
    "vanilla_vae_optimizer = torch.optim.Adam(vanilla_vae.parameters(), \n",
    "                                            lr=lr,\n",
    "                                            betas = (b1,b2))"
   ]
  },
  {
   "cell_type": "code",
   "execution_count": 55,
   "metadata": {},
   "outputs": [
    {
     "name": "stdout",
     "output_type": "stream",
     "text": [
      "Train Epoch: 1 [0/4000 (0%)]\tLoss: 21.213346\n",
      "Train Epoch: 1 [1280/4000 (32%)]\tLoss: 20.276854\n",
      "Train Epoch: 1 [2560/4000 (64%)]\tLoss: 19.344076\n",
      "Train Epoch: 1 [3840/4000 (96%)]\tLoss: 18.498720\n",
      "====> Epoch: 1 Average loss: 19.7915\n",
      "====> Test set loss: 39.3484\n",
      "Train Epoch: 2 [0/4000 (0%)]\tLoss: 18.456263\n",
      "Train Epoch: 2 [1280/4000 (32%)]\tLoss: 17.164484\n",
      "Train Epoch: 2 [2560/4000 (64%)]\tLoss: 15.890133\n",
      "Train Epoch: 2 [3840/4000 (96%)]\tLoss: 14.501512\n",
      "====> Epoch: 2 Average loss: 16.4995\n",
      "====> Test set loss: 36.2507\n",
      "Train Epoch: 3 [0/4000 (0%)]\tLoss: 14.773250\n",
      "Train Epoch: 3 [1280/4000 (32%)]\tLoss: 13.784710\n",
      "Train Epoch: 3 [2560/4000 (64%)]\tLoss: 13.811372\n",
      "Train Epoch: 3 [3840/4000 (96%)]\tLoss: 13.806759\n",
      "====> Epoch: 3 Average loss: 13.9482\n",
      "====> Test set loss: 35.1174\n",
      "Train Epoch: 4 [0/4000 (0%)]\tLoss: 13.142475\n",
      "Train Epoch: 4 [1280/4000 (32%)]\tLoss: 13.138114\n",
      "Train Epoch: 4 [2560/4000 (64%)]\tLoss: 12.924956\n",
      "Train Epoch: 4 [3840/4000 (96%)]\tLoss: 12.976542\n",
      "====> Epoch: 4 Average loss: 13.1579\n",
      "====> Test set loss: 34.6179\n",
      "Train Epoch: 5 [0/4000 (0%)]\tLoss: 12.756412\n",
      "Train Epoch: 5 [1280/4000 (32%)]\tLoss: 12.345743\n",
      "Train Epoch: 5 [2560/4000 (64%)]\tLoss: 13.026613\n",
      "Train Epoch: 5 [3840/4000 (96%)]\tLoss: 12.524945\n",
      "====> Epoch: 5 Average loss: 12.7881\n",
      "====> Test set loss: 34.2605\n",
      "Train Epoch: 6 [0/4000 (0%)]\tLoss: 12.716744\n",
      "Train Epoch: 6 [1280/4000 (32%)]\tLoss: 12.429401\n",
      "Train Epoch: 6 [2560/4000 (64%)]\tLoss: 12.454115\n",
      "Train Epoch: 6 [3840/4000 (96%)]\tLoss: 12.009907\n",
      "====> Epoch: 6 Average loss: 12.5590\n",
      "====> Test set loss: 34.1010\n",
      "Train Epoch: 7 [0/4000 (0%)]\tLoss: 12.698843\n",
      "Train Epoch: 7 [1280/4000 (32%)]\tLoss: 12.421752\n",
      "Train Epoch: 7 [2560/4000 (64%)]\tLoss: 12.483682\n",
      "Train Epoch: 7 [3840/4000 (96%)]\tLoss: 11.963717\n",
      "====> Epoch: 7 Average loss: 12.3879\n",
      "====> Test set loss: 33.8407\n",
      "Train Epoch: 8 [0/4000 (0%)]\tLoss: 12.339183\n",
      "Train Epoch: 8 [1280/4000 (32%)]\tLoss: 12.550796\n",
      "Train Epoch: 8 [2560/4000 (64%)]\tLoss: 12.321168\n",
      "Train Epoch: 8 [3840/4000 (96%)]\tLoss: 12.450256\n",
      "====> Epoch: 8 Average loss: 12.2676\n",
      "====> Test set loss: 33.7756\n",
      "Train Epoch: 9 [0/4000 (0%)]\tLoss: 12.633069\n",
      "Train Epoch: 9 [1280/4000 (32%)]\tLoss: 12.031480\n",
      "Train Epoch: 9 [2560/4000 (64%)]\tLoss: 11.850620\n",
      "Train Epoch: 9 [3840/4000 (96%)]\tLoss: 12.413431\n",
      "====> Epoch: 9 Average loss: 12.1889\n",
      "====> Test set loss: 33.6582\n",
      "Train Epoch: 10 [0/4000 (0%)]\tLoss: 12.027069\n",
      "Train Epoch: 10 [1280/4000 (32%)]\tLoss: 11.862024\n",
      "Train Epoch: 10 [2560/4000 (64%)]\tLoss: 12.223186\n",
      "Train Epoch: 10 [3840/4000 (96%)]\tLoss: 11.617983\n",
      "====> Epoch: 10 Average loss: 12.0970\n",
      "====> Test set loss: 33.5823\n"
     ]
    }
   ],
   "source": [
    "gradients = torch.zeros(train_data.shape[1]).to(device)\n",
    "for epoch in range(1, n_epochs+1):\n",
    "    grads=train_truncated_with_gradients(train_data, vanilla_vae, \n",
    "                                         vanilla_vae_optimizer, epoch, batch_size, Dim = D)\n",
    "    if epoch > 5:\n",
    "        gradients += grads\n",
    "    test(test_data, vanilla_vae, epoch, batch_size)"
   ]
  },
  {
   "cell_type": "code",
   "execution_count": 56,
   "metadata": {},
   "outputs": [
    {
     "data": {
      "text/plain": [
       "<matplotlib.axes._subplots.AxesSubplot at 0x7f623d0b7910>"
      ]
     },
     "execution_count": 56,
     "metadata": {},
     "output_type": "execute_result"
    },
    {
     "data": {
      "image/png": "[encoded data removed]",
      "text/plain": [
       "<Figure size 432x288 with 2 Axes>"
      ]
     },
     "metadata": {
      "needs_background": "light"
     },
     "output_type": "display_data"
    }
   ],
   "source": [
    "sns.heatmap(gradients.clone().detach().cpu().numpy()[:, np.newaxis])"
   ]
  },
  {
   "cell_type": "code",
   "execution_count": 57,
   "metadata": {},
   "outputs": [
    {
     "data": {
      "text/plain": [
       "tensor([0.0978, 0.3031, 0.1394, 0.2099, 0.2063, 0.2098, 0.1076, 0.2316, 0.0298,\n",
       "        0.1968, 0.0261, 0.0561, 0.0848, 0.2727, 0.2320, 0.3355, 0.2739, 0.0056,\n",
       "        0.0301, 0.0953, 0.0889, 0.2483, 0.0063, 0.0231, 0.0009, 0.0924, 0.4782,\n",
       "        0.3251, 0.2092, 0.2881], device='cuda:0')"
      ]
     },
     "execution_count": 57,
     "metadata": {},
     "output_type": "execute_result"
    }
   ],
   "source": [
    "test_data.mean(dim = 0)[:D]"
   ]
  },
  {
   "cell_type": "code",
   "execution_count": 58,
   "metadata": {},
   "outputs": [
    {
     "data": {
      "text/plain": [
       "tensor([0.1093, 0.3065, 0.1559, 0.2122, 0.2189, 0.2161, 0.1051, 0.2298, 0.0646,\n",
       "        0.2223, 0.0487, 0.0725, 0.1107, 0.2994, 0.2200, 0.3288, 0.2781, 0.0436,\n",
       "        0.0481, 0.1081, 0.0969, 0.2486, 0.0358, 0.0561, 0.0365, 0.0938, 0.4796,\n",
       "        0.3421, 0.2245, 0.3166], device='cuda:0', grad_fn=<SliceBackward>)"
      ]
     },
     "execution_count": 58,
     "metadata": {},
     "output_type": "execute_result"
    }
   ],
   "source": [
    "vanilla_vae(test_data)[0].mean(dim = 0)[:D]"
   ]
  },
  {
   "cell_type": "code",
   "execution_count": 59,
   "metadata": {},
   "outputs": [
    {
     "data": {
      "text/plain": [
       "tensor([0.1913, 0.2338, 0.2076, 0.2199, 0.2306, 0.1890, 0.1805, 0.1945, 0.1051,\n",
       "        0.2321, 0.0976, 0.1389, 0.1652, 0.1922, 0.2341, 0.2330, 0.2048, 0.0390,\n",
       "        0.0929, 0.1692, 0.1755, 0.2236, 0.0499, 0.0923, 0.0152, 0.1863, 0.1593,\n",
       "        0.2244, 0.2096, 0.2350], device='cuda:0')"
      ]
     },
     "execution_count": 59,
     "metadata": {},
     "output_type": "execute_result"
    }
   ],
   "source": [
    "test_data.std(dim = 0)[:D]"
   ]
  },
  {
   "cell_type": "code",
   "execution_count": 60,
   "metadata": {},
   "outputs": [
    {
     "data": {
      "text/plain": [
       "tensor([0.0733, 0.0475, 0.0694, 0.0722, 0.0665, 0.0721, 0.0719, 0.0769, 0.0611,\n",
       "        0.0558, 0.0497, 0.0675, 0.0667, 0.0465, 0.0771, 0.0640, 0.0520, 0.0466,\n",
       "        0.0468, 0.0687, 0.0650, 0.0743, 0.0426, 0.0530, 0.0434, 0.0701, 0.0274,\n",
       "        0.0452, 0.0483, 0.0362], device='cuda:0', grad_fn=<SliceBackward>)"
      ]
     },
     "execution_count": 60,
     "metadata": {},
     "output_type": "execute_result"
    }
   ],
   "source": [
    "vanilla_vae(test_data)[0].std(dim = 0)[:D]"
   ]
  },
  {
   "cell_type": "markdown",
   "metadata": {},
   "source": [
    "Looking at all dimensions"
   ]
  },
  {
   "cell_type": "code",
   "execution_count": 61,
   "metadata": {},
   "outputs": [],
   "source": [
    "vanilla_vae = VAE(2*D, 100, 20)\n",
    "\n",
    "vanilla_vae.to(device)\n",
    "vanilla_vae_optimizer = torch.optim.Adam(vanilla_vae.parameters(), \n",
    "                                            lr=lr,\n",
    "                                            betas = (b1,b2))"
   ]
  },
  {
   "cell_type": "code",
   "execution_count": 62,
   "metadata": {},
   "outputs": [
    {
     "name": "stdout",
     "output_type": "stream",
     "text": [
      "Train Epoch: 1 [0/4000 (0%)]\tLoss: 41.973228\n",
      "Train Epoch: 1 [1280/4000 (32%)]\tLoss: 41.085449\n",
      "Train Epoch: 1 [2560/4000 (64%)]\tLoss: 40.187717\n",
      "Train Epoch: 1 [3840/4000 (96%)]\tLoss: 39.287830\n",
      "====> Epoch: 1 Average loss: 40.5867\n",
      "====> Test set loss: 39.2181\n",
      "Train Epoch: 2 [0/4000 (0%)]\tLoss: 39.292076\n",
      "Train Epoch: 2 [1280/4000 (32%)]\tLoss: 38.425259\n",
      "Train Epoch: 2 [2560/4000 (64%)]\tLoss: 37.164680\n",
      "Train Epoch: 2 [3840/4000 (96%)]\tLoss: 36.029900\n",
      "====> Epoch: 2 Average loss: 37.7599\n",
      "====> Test set loss: 36.0856\n",
      "Train Epoch: 3 [0/4000 (0%)]\tLoss: 36.332581\n",
      "Train Epoch: 3 [1280/4000 (32%)]\tLoss: 35.325539\n",
      "Train Epoch: 3 [2560/4000 (64%)]\tLoss: 34.929386\n",
      "Train Epoch: 3 [3840/4000 (96%)]\tLoss: 34.419472\n",
      "====> Epoch: 3 Average loss: 35.1425\n",
      "====> Test set loss: 34.4717\n",
      "Train Epoch: 4 [0/4000 (0%)]\tLoss: 34.692886\n",
      "Train Epoch: 4 [1280/4000 (32%)]\tLoss: 34.117592\n",
      "Train Epoch: 4 [2560/4000 (64%)]\tLoss: 33.713638\n",
      "Train Epoch: 4 [3840/4000 (96%)]\tLoss: 33.654694\n",
      "====> Epoch: 4 Average loss: 34.0944\n",
      "====> Test set loss: 33.8044\n",
      "Train Epoch: 5 [0/4000 (0%)]\tLoss: 33.901157\n",
      "Train Epoch: 5 [1280/4000 (32%)]\tLoss: 33.830902\n",
      "Train Epoch: 5 [2560/4000 (64%)]\tLoss: 33.720039\n",
      "Train Epoch: 5 [3840/4000 (96%)]\tLoss: 33.133400\n",
      "====> Epoch: 5 Average loss: 33.6367\n",
      "====> Test set loss: 33.4560\n",
      "Train Epoch: 6 [0/4000 (0%)]\tLoss: 33.693241\n",
      "Train Epoch: 6 [1280/4000 (32%)]\tLoss: 33.343418\n",
      "Train Epoch: 6 [2560/4000 (64%)]\tLoss: 33.421474\n",
      "Train Epoch: 6 [3840/4000 (96%)]\tLoss: 33.178448\n",
      "====> Epoch: 6 Average loss: 33.3628\n",
      "====> Test set loss: 33.2471\n",
      "Train Epoch: 7 [0/4000 (0%)]\tLoss: 33.007824\n",
      "Train Epoch: 7 [1280/4000 (32%)]\tLoss: 33.203304\n",
      "Train Epoch: 7 [2560/4000 (64%)]\tLoss: 32.846340\n",
      "Train Epoch: 7 [3840/4000 (96%)]\tLoss: 33.542393\n",
      "====> Epoch: 7 Average loss: 33.1676\n",
      "====> Test set loss: 33.0630\n",
      "Train Epoch: 8 [0/4000 (0%)]\tLoss: 33.325821\n",
      "Train Epoch: 8 [1280/4000 (32%)]\tLoss: 32.398952\n",
      "Train Epoch: 8 [2560/4000 (64%)]\tLoss: 33.350544\n",
      "Train Epoch: 8 [3840/4000 (96%)]\tLoss: 33.014492\n",
      "====> Epoch: 8 Average loss: 33.0612\n",
      "====> Test set loss: 32.9765\n",
      "Train Epoch: 9 [0/4000 (0%)]\tLoss: 32.790531\n",
      "Train Epoch: 9 [1280/4000 (32%)]\tLoss: 32.727760\n",
      "Train Epoch: 9 [2560/4000 (64%)]\tLoss: 33.234215\n",
      "Train Epoch: 9 [3840/4000 (96%)]\tLoss: 32.502037\n",
      "====> Epoch: 9 Average loss: 32.9719\n",
      "====> Test set loss: 32.8750\n",
      "Train Epoch: 10 [0/4000 (0%)]\tLoss: 32.742924\n",
      "Train Epoch: 10 [1280/4000 (32%)]\tLoss: 32.846191\n",
      "Train Epoch: 10 [2560/4000 (64%)]\tLoss: 33.125343\n",
      "Train Epoch: 10 [3840/4000 (96%)]\tLoss: 32.853436\n",
      "====> Epoch: 10 Average loss: 32.8908\n",
      "====> Test set loss: 32.8300\n"
     ]
    }
   ],
   "source": [
    "gradients = torch.zeros(train_data.shape[1]).to(device)\n",
    "for epoch in range(1, n_epochs+1):\n",
    "    grads=train_truncated_with_gradients(train_data, vanilla_vae, \n",
    "                                         vanilla_vae_optimizer, epoch, batch_size, Dim = 2*D)\n",
    "    if epoch > 5:\n",
    "        gradients += grads\n",
    "    test(test_data, vanilla_vae, epoch, batch_size)"
   ]
  },
  {
   "cell_type": "code",
   "execution_count": 63,
   "metadata": {},
   "outputs": [
    {
     "data": {
      "text/plain": [
       "<matplotlib.axes._subplots.AxesSubplot at 0x7f623d0cfa90>"
      ]
     },
     "execution_count": 63,
     "metadata": {},
     "output_type": "execute_result"
    },
    {
     "data": {
      "image/png": "[encoded data removed]",
      "text/plain": [
       "<Figure size 432x288 with 2 Axes>"
      ]
     },
     "metadata": {
      "needs_background": "light"
     },
     "output_type": "display_data"
    }
   ],
   "source": [
    "sns.heatmap(gradients.clone().detach().cpu().numpy()[:, np.newaxis])"
   ]
  },
  {
   "cell_type": "code",
   "execution_count": 64,
   "metadata": {},
   "outputs": [
    {
     "data": {
      "text/plain": [
       "tensor([0.0978, 0.3031, 0.1394, 0.2099, 0.2063, 0.2098, 0.1076, 0.2316, 0.0298,\n",
       "        0.1968, 0.0261, 0.0561, 0.0848, 0.2727, 0.2320, 0.3355, 0.2739, 0.0056,\n",
       "        0.0301, 0.0953, 0.0889, 0.2483, 0.0063, 0.0231, 0.0009, 0.0924, 0.4782,\n",
       "        0.3251, 0.2092, 0.2881], device='cuda:0')"
      ]
     },
     "execution_count": 64,
     "metadata": {},
     "output_type": "execute_result"
    }
   ],
   "source": [
    "test_data.mean(dim = 0)[:D]"
   ]
  },
  {
   "cell_type": "code",
   "execution_count": 65,
   "metadata": {},
   "outputs": [
    {
     "data": {
      "text/plain": [
       "tensor([0.1091, 0.3042, 0.1509, 0.2060, 0.2198, 0.2101, 0.1092, 0.2246, 0.0496,\n",
       "        0.2215, 0.0523, 0.0658, 0.1053, 0.2918, 0.2162, 0.3244, 0.2777, 0.0364,\n",
       "        0.0611, 0.1036, 0.0885, 0.2473, 0.0406, 0.0635, 0.0381, 0.0854, 0.4745,\n",
       "        0.3367, 0.2317, 0.3168], device='cuda:0', grad_fn=<SliceBackward>)"
      ]
     },
     "execution_count": 65,
     "metadata": {},
     "output_type": "execute_result"
    }
   ],
   "source": [
    "vanilla_vae(test_data)[0].mean(dim = 0)[:D]"
   ]
  },
  {
   "cell_type": "code",
   "execution_count": 66,
   "metadata": {},
   "outputs": [
    {
     "data": {
      "text/plain": [
       "tensor([0.1913, 0.2338, 0.2076, 0.2199, 0.2306, 0.1890, 0.1805, 0.1945, 0.1051,\n",
       "        0.2321, 0.0976, 0.1389, 0.1652, 0.1922, 0.2341, 0.2330, 0.2048, 0.0390,\n",
       "        0.0929, 0.1692, 0.1755, 0.2236, 0.0499, 0.0923, 0.0152, 0.1863, 0.1593,\n",
       "        0.2244, 0.2096, 0.2350], device='cuda:0')"
      ]
     },
     "execution_count": 66,
     "metadata": {},
     "output_type": "execute_result"
    }
   ],
   "source": [
    "test_data.std(dim = 0)[:D]"
   ]
  },
  {
   "cell_type": "code",
   "execution_count": 67,
   "metadata": {},
   "outputs": [
    {
     "data": {
      "text/plain": [
       "tensor([0.0736, 0.0476, 0.0689, 0.0689, 0.0612, 0.0657, 0.0744, 0.0722, 0.0609,\n",
       "        0.0672, 0.0495, 0.0546, 0.0617, 0.0408, 0.0722, 0.0540, 0.0538, 0.0410,\n",
       "        0.0621, 0.0677, 0.0719, 0.0687, 0.0469, 0.0589, 0.0429, 0.0712, 0.0297,\n",
       "        0.0361, 0.0523, 0.0437], device='cuda:0', grad_fn=<SliceBackward>)"
      ]
     },
     "execution_count": 67,
     "metadata": {},
     "output_type": "execute_result"
    }
   ],
   "source": [
    "vanilla_vae(test_data)[0].std(dim = 0)[:D]"
   ]
  },
  {
   "cell_type": "code",
   "execution_count": null,
   "metadata": {},
   "outputs": [],
   "source": []
  },
  {
   "cell_type": "markdown",
   "metadata": {},
   "source": [
    "The gradients are a few epochs are good for selecting of features as the Gumbel trick. Maybe even better.\n",
    "In fact, a Vanilla VAE is just as good."
   ]
  },
  {
   "cell_type": "code",
   "execution_count": null,
   "metadata": {},
   "outputs": [],
   "source": []
  }
 ],
 "metadata": {
  "kernelspec": {
   "display_name": "Python [conda env:nyu] *",
   "language": "python",
   "name": "conda-env-nyu-py"
  },
  "language_info": {
   "codemirror_mode": {
    "name": "ipython",
    "version": 3
   },
   "file_extension": ".py",
   "mimetype": "text/x-python",
   "name": "python",
   "nbconvert_exporter": "python",
   "pygments_lexer": "ipython3",
   "version": "3.7.6"
  }
 },
 "nbformat": 4,
 "nbformat_minor": 4
}
