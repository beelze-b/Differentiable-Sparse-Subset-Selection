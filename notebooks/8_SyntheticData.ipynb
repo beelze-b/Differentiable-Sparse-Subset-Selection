{
 "cells": [
  {
   "cell_type": "markdown",
   "metadata": {},
   "source": [
    "So we know that Gumbel selects things relatively well. Its effects of Zeisel though are a bit muddled because of reconstruction. Let's do a simple synethetic dataset. Half the features are real. Half the features at noise."
   ]
  },
  {
   "cell_type": "code",
   "execution_count": 1,
   "metadata": {},
   "outputs": [],
   "source": [
    "import torch\n",
    "\n",
    "\n",
    "from torch import nn\n",
    "from torch.autograd import Variable\n",
    "from torch.nn import functional as F\n",
    "\n",
    "import numpy as np\n",
    "\n",
    "import matplotlib.pyplot as plt\n",
    "#from sklearn.manifold import TSNE\n",
    "\n",
    "#import math\n",
    "\n",
    "#import gc\n",
    "\n",
    "from utils import *\n",
    "\n",
    "from sklearn.preprocessing import MinMaxScaler\n",
    "\n",
    "from scipy.stats import pearsonr"
   ]
  },
  {
   "cell_type": "code",
   "execution_count": 2,
   "metadata": {},
   "outputs": [],
   "source": [
    "torch.manual_seed(0)\n",
    "np.random.seed(0)"
   ]
  },
  {
   "cell_type": "code",
   "execution_count": 3,
   "metadata": {},
   "outputs": [],
   "source": [
    "#BASE_PATH_DATA = '../data/'\n",
    "BASE_PATH_DATA = '/scratch/ns3429/sparse-subset/data/'"
   ]
  },
  {
   "cell_type": "code",
   "execution_count": 4,
   "metadata": {},
   "outputs": [],
   "source": [
    "# really good results for vanilla VAE on synthetic data with EPOCHS set to 50, \n",
    "# but when running locally set to 10 for reasonable run times\n",
    "n_epochs = 10\n",
    "#n_epochs = 20\n",
    "batch_size = 64\n",
    "lr = 0.0001\n",
    "b1 = 0.9\n",
    "b2 = 0.999\n",
    "\n",
    "\n",
    "# from running\n",
    "# EPSILON = np.finfo(tf.float32.as_numpy_dtype).tiny\n",
    "#EPSILON = 1.1754944e-38\n",
    "EPSILON = 1e-10"
   ]
  },
  {
   "cell_type": "code",
   "execution_count": 5,
   "metadata": {},
   "outputs": [],
   "source": [
    "cuda = True if torch.cuda.is_available() else False\n",
    "\n",
    "Tensor = torch.cuda.FloatTensor if cuda else torch.FloatTensor\n",
    "\n",
    "device = torch.device(\"cuda:0\" if cuda else \"cpu\")\n",
    "#device = 'cpu'"
   ]
  },
  {
   "cell_type": "code",
   "execution_count": 6,
   "metadata": {},
   "outputs": [
    {
     "name": "stdout",
     "output_type": "stream",
     "text": [
      "Device\n",
      "cuda:0\n"
     ]
    }
   ],
   "source": [
    "print(\"Device\")\n",
    "print(device)"
   ]
  },
  {
   "cell_type": "markdown",
   "metadata": {},
   "source": [
    "Create the data"
   ]
  },
  {
   "cell_type": "code",
   "execution_count": 7,
   "metadata": {},
   "outputs": [],
   "source": [
    "D = 30\n",
    "N = 5000\n",
    "z_size = 5"
   ]
  },
  {
   "cell_type": "code",
   "execution_count": 8,
   "metadata": {},
   "outputs": [],
   "source": [
    "latent_data = np.random.normal(loc=0.0, scale=1.0, size=N*z_size).reshape(N, z_size)"
   ]
  },
  {
   "cell_type": "code",
   "execution_count": 9,
   "metadata": {},
   "outputs": [
    {
     "data": {
      "text/plain": [
       "Sequential(\n",
       "  (0): Linear(in_features=5, out_features=10, bias=False)\n",
       "  (1): Tanh()\n",
       "  (2): Linear(in_features=10, out_features=30, bias=True)\n",
       "  (3): ReLU()\n",
       ")"
      ]
     },
     "execution_count": 9,
     "metadata": {},
     "output_type": "execute_result"
    }
   ],
   "source": [
    "data_mapper = nn.Sequential(\n",
    "    nn.Linear(z_size, 2 * z_size, bias=False),\n",
    "    nn.Tanh(),\n",
    "    nn.Linear(2 * z_size, D, bias = True),\n",
    "    nn.ReLU()\n",
    ").to(device)\n",
    "\n",
    "data_mapper.requires_grad_(False)"
   ]
  },
  {
   "cell_type": "code",
   "execution_count": 10,
   "metadata": {},
   "outputs": [
    {
     "data": {
      "text/plain": [
       "tensor([[ 1.7641,  0.4002,  0.9787,  2.2409,  1.8676],\n",
       "        [-0.9773,  0.9501, -0.1514, -0.1032,  0.4106],\n",
       "        [ 0.1440,  1.4543,  0.7610,  0.1217,  0.4439],\n",
       "        ...,\n",
       "        [ 0.2501, -1.0168,  0.0459,  0.5006,  1.2243],\n",
       "        [-0.5595,  1.5234, -0.5857,  0.8466, -0.1063],\n",
       "        [ 0.7700,  0.7508, -0.5606, -1.7603,  0.4371]], device='cuda:0')"
      ]
     },
     "execution_count": 10,
     "metadata": {},
     "output_type": "execute_result"
    }
   ],
   "source": [
    "latent_data = Tensor(latent_data)\n",
    "latent_data.requires_grad_(False)"
   ]
  },
  {
   "cell_type": "code",
   "execution_count": 11,
   "metadata": {},
   "outputs": [],
   "source": [
    "actual_data = data_mapper(latent_data)"
   ]
  },
  {
   "cell_type": "code",
   "execution_count": 12,
   "metadata": {},
   "outputs": [
    {
     "name": "stdout",
     "output_type": "stream",
     "text": [
      "tensor(19, device='cuda:0')\n",
      "tensor(12, device='cuda:0')\n",
      "tensor(18, device='cuda:0')\n",
      "tensor(14, device='cuda:0')\n",
      "tensor(14, device='cuda:0')\n"
     ]
    }
   ],
   "source": [
    "for i in range(5):\n",
    "    print(torch.sum(actual_data[i,:] != 0))"
   ]
  },
  {
   "cell_type": "markdown",
   "metadata": {},
   "source": [
    "For each sample, half the data is non zero, whereas in zeisel, about 25% if non zero. Easier than Zeisel good."
   ]
  },
  {
   "cell_type": "code",
   "execution_count": 13,
   "metadata": {},
   "outputs": [
    {
     "data": {
      "text/plain": [
       "tensor([[-1.0921e-02, -6.1085e-04, -1.4928e-02,  ..., -1.4309e-02,\n",
       "          1.6859e-02, -1.2177e-02],\n",
       "        [ 7.6496e-03,  1.1971e-02, -2.2414e-02,  ...,  1.0256e-02,\n",
       "         -5.5957e-03,  4.3434e-03],\n",
       "        [ 2.7566e-03,  1.0969e-03,  3.5942e-03,  ...,  6.0039e-03,\n",
       "          8.7524e-04,  7.0365e-03],\n",
       "        ...,\n",
       "        [ 1.8449e-02,  8.3797e-04, -8.9499e-03,  ...,  8.9735e-04,\n",
       "         -1.6982e-03,  7.8153e-03],\n",
       "        [-1.0649e-02, -9.6204e-03, -8.1562e-03,  ..., -2.2612e-04,\n",
       "         -1.4104e-02, -8.2127e-03],\n",
       "        [ 2.1183e-02, -1.1416e-02,  1.8769e-03,  ..., -1.3100e-02,\n",
       "         -6.2333e-03, -4.3646e-05]], device='cuda:0')"
      ]
     },
     "execution_count": 13,
     "metadata": {},
     "output_type": "execute_result"
    }
   ],
   "source": [
    "noise_features = torch.empty(N * D).normal_(mean=0,std=0.01).reshape(N, D).to(device)\n",
    "noise_features.requires_grad_(False)"
   ]
  },
  {
   "cell_type": "code",
   "execution_count": 14,
   "metadata": {},
   "outputs": [],
   "source": [
    "actual_data = torch.cat([actual_data, noise_features], dim = 1)"
   ]
  },
  {
   "cell_type": "code",
   "execution_count": 15,
   "metadata": {},
   "outputs": [
    {
     "data": {
      "text/plain": [
       "torch.Size([5000, 60])"
      ]
     },
     "execution_count": 15,
     "metadata": {},
     "output_type": "execute_result"
    }
   ],
   "source": [
    "actual_data.shape"
   ]
  },
  {
   "cell_type": "code",
   "execution_count": 16,
   "metadata": {},
   "outputs": [],
   "source": [
    "actual_data = actual_data.cpu().numpy()\n",
    "scaler = MinMaxScaler()\n",
    "actual_data = scaler.fit_transform(actual_data)\n",
    "\n",
    "actual_data = Tensor(actual_data)"
   ]
  },
  {
   "cell_type": "code",
   "execution_count": 17,
   "metadata": {},
   "outputs": [
    {
     "data": {
      "text/plain": [
       "tensor([0.1866, 0.2313, 0.2054, 0.2209, 0.2323, 0.1899, 0.1801, 0.1969, 0.1133,\n",
       "        0.2353, 0.0925, 0.1310, 0.1725, 0.1902, 0.2294, 0.2275, 0.2082, 0.0530,\n",
       "        0.0980, 0.1738, 0.1728, 0.2156, 0.0460, 0.0932, 0.0255, 0.1816, 0.1587,\n",
       "        0.2263, 0.2125, 0.2393, 0.1326, 0.1439, 0.1281, 0.1421, 0.1297, 0.1413,\n",
       "        0.1492, 0.1272, 0.1233, 0.1420, 0.1422, 0.1363, 0.1256, 0.1288, 0.1377,\n",
       "        0.1438, 0.1337, 0.1331, 0.1258, 0.1346, 0.1507, 0.1223, 0.1429, 0.1343,\n",
       "        0.1348, 0.1361, 0.1388, 0.1391, 0.1426, 0.1383], device='cuda:0')"
      ]
     },
     "execution_count": 17,
     "metadata": {},
     "output_type": "execute_result"
    }
   ],
   "source": [
    "actual_data.std(dim = 0)"
   ]
  },
  {
   "cell_type": "markdown",
   "metadata": {},
   "source": [
    "Standard deviatiosn are comparable."
   ]
  },
  {
   "cell_type": "code",
   "execution_count": 18,
   "metadata": {},
   "outputs": [
    {
     "data": {
      "text/plain": [
       "torch.return_types.max(\n",
       "values=tensor([1.0000, 1.0000, 1.0000, 1.0000, 1.0000, 1.0000, 1.0000, 1.0000, 1.0000,\n",
       "        1.0000, 1.0000, 1.0000, 1.0000, 1.0000, 1.0000, 1.0000, 1.0000, 1.0000,\n",
       "        1.0000, 1.0000, 1.0000, 1.0000, 1.0000, 1.0000, 1.0000, 1.0000, 1.0000,\n",
       "        1.0000, 1.0000, 1.0000, 1.0000, 1.0000, 1.0000, 1.0000, 1.0000, 1.0000,\n",
       "        1.0000, 1.0000, 1.0000, 1.0000, 1.0000, 1.0000, 1.0000, 1.0000, 1.0000,\n",
       "        1.0000, 1.0000, 1.0000, 1.0000, 1.0000, 1.0000, 1.0000, 1.0000, 1.0000,\n",
       "        1.0000, 1.0000, 1.0000, 1.0000, 1.0000, 1.0000], device='cuda:0'),\n",
       "indices=tensor([ 738, 4262, 1553, 1484, 2220, 1316, 3892, 1316, 3121, 3883, 1838,  623,\n",
       "        1004, 4856,  689, 2033, 2038, 1316, 4515, 4562, 4668,  616,  894, 4515,\n",
       "        1885, 3892, 4615,  819, 4397, 4293,  713, 2220, 3813, 4659, 4389, 3659,\n",
       "         309, 1804,  495, 4790, 3110, 4671,   36,    0, 1215,  148, 4008, 1317,\n",
       "        2503, 1402, 1580, 2684, 4078, 3334, 1376, 2499, 1301, 3114, 4203, 3183],\n",
       "       device='cuda:0'))"
      ]
     },
     "execution_count": 18,
     "metadata": {},
     "output_type": "execute_result"
    }
   ],
   "source": [
    "actual_data.max(dim = 0)"
   ]
  },
  {
   "cell_type": "code",
   "execution_count": 19,
   "metadata": {},
   "outputs": [
    {
     "data": {
      "text/plain": [
       "torch.return_types.min(\n",
       "values=tensor([0., 0., 0., 0., 0., 0., 0., 0., 0., 0., 0., 0., 0., 0., 0., 0., 0., 0., 0., 0., 0., 0., 0., 0.,\n",
       "        0., 0., 0., 0., 0., 0., 0., 0., 0., 0., 0., 0., 0., 0., 0., 0., 0., 0., 0., 0., 0., 0., 0., 0.,\n",
       "        0., 0., 0., 0., 0., 0., 0., 0., 0., 0., 0., 0.], device='cuda:0'),\n",
       "indices=tensor([   1,    8,    0,    1,    0,    5,    1,    1,    1,    0,    1,    1,\n",
       "           0,   13,    3,    3,    1,    0,    0,    1,    1,    8,    0,    0,\n",
       "           0,    1,  254,    4,    0,    0,  454, 3677, 1909, 3750, 3638, 4476,\n",
       "         553, 4105,  289, 1150, 2707, 1846, 3579, 3101,  299, 1324, 3277, 4318,\n",
       "        3023,  967, 2932, 3588,  919, 1190,  271, 2937, 3428, 3955, 2719,  198],\n",
       "       device='cuda:0'))"
      ]
     },
     "execution_count": 19,
     "metadata": {},
     "output_type": "execute_result"
    }
   ],
   "source": [
    "actual_data.min(dim = 0)"
   ]
  },
  {
   "cell_type": "code",
   "execution_count": 20,
   "metadata": {},
   "outputs": [
    {
     "name": "stdout",
     "output_type": "stream",
     "text": [
      "tensor(49, device='cuda:0')\n",
      "tensor(42, device='cuda:0')\n",
      "tensor(48, device='cuda:0')\n",
      "tensor(44, device='cuda:0')\n",
      "tensor(44, device='cuda:0')\n"
     ]
    }
   ],
   "source": [
    "for i in range(5):\n",
    "    print(torch.sum(actual_data[i,:] != 0))"
   ]
  },
  {
   "cell_type": "code",
   "execution_count": 21,
   "metadata": {},
   "outputs": [],
   "source": [
    "slices = np.random.permutation(np.arange(actual_data.shape[0]))\n",
    "upto = int(.8 * len(actual_data))\n",
    "\n",
    "train_data = actual_data[slices[:upto]]\n",
    "test_data = actual_data[slices[upto:]]"
   ]
  },
  {
   "cell_type": "code",
   "execution_count": 22,
   "metadata": {},
   "outputs": [
    {
     "data": {
      "text/plain": [
       "torch.Size([4000, 60])"
      ]
     },
     "execution_count": 22,
     "metadata": {},
     "output_type": "execute_result"
    }
   ],
   "source": [
    "train_data.shape"
   ]
  },
  {
   "cell_type": "code",
   "execution_count": 23,
   "metadata": {},
   "outputs": [
    {
     "data": {
      "text/plain": [
       "torch.Size([1000, 60])"
      ]
     },
     "execution_count": 23,
     "metadata": {},
     "output_type": "execute_result"
    }
   ],
   "source": [
    "test_data.shape"
   ]
  },
  {
   "cell_type": "markdown",
   "metadata": {},
   "source": [
    "Look at correlations"
   ]
  },
  {
   "cell_type": "code",
   "execution_count": 24,
   "metadata": {},
   "outputs": [],
   "source": [
    "def pairwise_correlations(dataset):\n",
    "    cor_df = np.zeros((dataset.shape[1], dataset.shape[1]))\n",
    "    for row in np.arange(dataset.shape[1]):\n",
    "        for col in np.arange(dataset.shape[1]):\n",
    "            cor_df[row, col] = pearsonr(dataset[row], dataset[col])[0]\n",
    "    return cor_df"
   ]
  },
  {
   "cell_type": "code",
   "execution_count": 25,
   "metadata": {},
   "outputs": [
    {
     "name": "stdout",
     "output_type": "stream",
     "text": [
      "16\n",
      "2\n"
     ]
    },
    {
     "data": {
      "image/png": "[encoded data removed]",
      "text/plain": [
       "<Figure size 432x288 with 2 Axes>"
      ]
     },
     "metadata": {
      "needs_background": "light"
     },
     "output_type": "display_data"
    }
   ],
   "source": [
    "actual_data_clone = actual_data.clone().detach().cpu().numpy()\n",
    "\n",
    "pairwise_cor_df = pairwise_correlations(actual_data_clone)\n",
    "\n",
    "import seaborn as sns\n",
    "\n",
    "sns.heatmap(pairwise_cor_df)\n",
    "\n",
    "correlates = []\n",
    "for i in range(2 * D):\n",
    "    one = np.sum(np.abs(pairwise_cor_df[i, :D]))\n",
    "    two = np.sum(np.abs(pairwise_cor_df[i, D:2*D]))\n",
    "    #correlates.append([one, two])\n",
    "    correlates.append(one > two)\n",
    "    \n",
    "# correlation of that feature with the first 30 features and the second 30 features\n",
    "print(np.sum(correlates[:D]))\n",
    "\n",
    "print(np.sum(correlates[D:2*D]))"
   ]
  },
  {
   "cell_type": "markdown",
   "metadata": {},
   "source": [
    "# Now run all of the notebook or just the last part focusing on gumbel vs gradients on truncated (or not) losses"
   ]
  },
  {
   "cell_type": "markdown",
   "metadata": {},
   "source": [
    "Data is all ready. Now time to feed into into a pretraining-matching Gumbel and joint training Gumbel."
   ]
  },
  {
   "cell_type": "markdown",
   "metadata": {},
   "source": [
    "Pre train VAE First"
   ]
  },
  {
   "cell_type": "code",
   "execution_count": 24,
   "metadata": {},
   "outputs": [],
   "source": [
    "pretrain_vae = VAE(2*D, 100, 20)\n",
    "\n",
    "pretrain_vae.to(device)\n",
    "pretrain_vae_optimizer = torch.optim.Adam(pretrain_vae.parameters(), \n",
    "                                            lr=lr,\n",
    "                                            betas = (b1,b2))\n",
    "\n",
    "#pretrain_vae_optimizer = torch.optim.SGD(pretrain_vae.parameters(), \n",
    "#                                            lr=lr, momentum = 0.9)"
   ]
  },
  {
   "cell_type": "code",
   "execution_count": 25,
   "metadata": {},
   "outputs": [
    {
     "name": "stdout",
     "output_type": "stream",
     "text": [
      "Train Epoch: 1 [0/4000 (0%)]\tLoss: 42.017113\n",
      "Train Epoch: 1 [1280/4000 (32%)]\tLoss: 40.903053\n",
      "Train Epoch: 1 [2560/4000 (64%)]\tLoss: 39.910145\n",
      "Train Epoch: 1 [3840/4000 (96%)]\tLoss: 39.210461\n",
      "====> Epoch: 1 Average loss: 40.4244\n",
      "====> Test set loss: 38.9524\n",
      "Train Epoch: 2 [0/4000 (0%)]\tLoss: 38.888924\n",
      "Train Epoch: 2 [1280/4000 (32%)]\tLoss: 38.212513\n",
      "Train Epoch: 2 [2560/4000 (64%)]\tLoss: 36.419609\n",
      "Train Epoch: 2 [3840/4000 (96%)]\tLoss: 35.664536\n",
      "====> Epoch: 2 Average loss: 37.3049\n",
      "====> Test set loss: 35.4656\n",
      "Train Epoch: 3 [0/4000 (0%)]\tLoss: 35.430317\n",
      "Train Epoch: 3 [1280/4000 (32%)]\tLoss: 34.606815\n",
      "Train Epoch: 3 [2560/4000 (64%)]\tLoss: 34.577702\n",
      "Train Epoch: 3 [3840/4000 (96%)]\tLoss: 34.209206\n",
      "====> Epoch: 3 Average loss: 34.6850\n",
      "====> Test set loss: 34.1042\n",
      "Train Epoch: 4 [0/4000 (0%)]\tLoss: 34.345818\n",
      "Train Epoch: 4 [1280/4000 (32%)]\tLoss: 34.207222\n",
      "Train Epoch: 4 [2560/4000 (64%)]\tLoss: 33.563995\n",
      "Train Epoch: 4 [3840/4000 (96%)]\tLoss: 33.908337\n",
      "====> Epoch: 4 Average loss: 33.8812\n",
      "====> Test set loss: 33.6500\n",
      "Train Epoch: 5 [0/4000 (0%)]\tLoss: 33.996525\n",
      "Train Epoch: 5 [1280/4000 (32%)]\tLoss: 33.835045\n",
      "Train Epoch: 5 [2560/4000 (64%)]\tLoss: 33.518723\n",
      "Train Epoch: 5 [3840/4000 (96%)]\tLoss: 33.168392\n",
      "====> Epoch: 5 Average loss: 33.5430\n",
      "====> Test set loss: 33.3353\n",
      "Train Epoch: 6 [0/4000 (0%)]\tLoss: 33.442101\n",
      "Train Epoch: 6 [1280/4000 (32%)]\tLoss: 33.615280\n",
      "Train Epoch: 6 [2560/4000 (64%)]\tLoss: 33.352787\n",
      "Train Epoch: 6 [3840/4000 (96%)]\tLoss: 33.062305\n",
      "====> Epoch: 6 Average loss: 33.3164\n",
      "====> Test set loss: 33.1817\n",
      "Train Epoch: 7 [0/4000 (0%)]\tLoss: 33.309429\n",
      "Train Epoch: 7 [1280/4000 (32%)]\tLoss: 33.084484\n",
      "Train Epoch: 7 [2560/4000 (64%)]\tLoss: 33.366402\n",
      "Train Epoch: 7 [3840/4000 (96%)]\tLoss: 33.056320\n",
      "====> Epoch: 7 Average loss: 33.1319\n",
      "====> Test set loss: 33.0265\n",
      "Train Epoch: 8 [0/4000 (0%)]\tLoss: 33.327454\n",
      "Train Epoch: 8 [1280/4000 (32%)]\tLoss: 33.176674\n",
      "Train Epoch: 8 [2560/4000 (64%)]\tLoss: 33.073765\n",
      "Train Epoch: 8 [3840/4000 (96%)]\tLoss: 32.693161\n",
      "====> Epoch: 8 Average loss: 33.0185\n",
      "====> Test set loss: 32.9396\n",
      "Train Epoch: 9 [0/4000 (0%)]\tLoss: 32.457218\n",
      "Train Epoch: 9 [1280/4000 (32%)]\tLoss: 32.928253\n",
      "Train Epoch: 9 [2560/4000 (64%)]\tLoss: 32.993736\n",
      "Train Epoch: 9 [3840/4000 (96%)]\tLoss: 32.937096\n",
      "====> Epoch: 9 Average loss: 32.9161\n",
      "====> Test set loss: 32.8299\n",
      "Train Epoch: 10 [0/4000 (0%)]\tLoss: 32.924587\n",
      "Train Epoch: 10 [1280/4000 (32%)]\tLoss: 32.558769\n",
      "Train Epoch: 10 [2560/4000 (64%)]\tLoss: 32.684296\n",
      "Train Epoch: 10 [3840/4000 (96%)]\tLoss: 33.207237\n",
      "====> Epoch: 10 Average loss: 32.8035\n",
      "====> Test set loss: 32.6680\n",
      "Train Epoch: 11 [0/4000 (0%)]\tLoss: 32.653099\n",
      "Train Epoch: 11 [1280/4000 (32%)]\tLoss: 32.831394\n",
      "Train Epoch: 11 [2560/4000 (64%)]\tLoss: 32.375183\n",
      "Train Epoch: 11 [3840/4000 (96%)]\tLoss: 32.626377\n",
      "====> Epoch: 11 Average loss: 32.5824\n",
      "====> Test set loss: 32.3997\n",
      "Train Epoch: 12 [0/4000 (0%)]\tLoss: 32.514385\n",
      "Train Epoch: 12 [1280/4000 (32%)]\tLoss: 32.200542\n",
      "Train Epoch: 12 [2560/4000 (64%)]\tLoss: 32.589878\n",
      "Train Epoch: 12 [3840/4000 (96%)]\tLoss: 32.178410\n",
      "====> Epoch: 12 Average loss: 32.3290\n",
      "====> Test set loss: 32.1813\n",
      "Train Epoch: 13 [0/4000 (0%)]\tLoss: 32.289268\n",
      "Train Epoch: 13 [1280/4000 (32%)]\tLoss: 32.206417\n",
      "Train Epoch: 13 [2560/4000 (64%)]\tLoss: 32.278069\n",
      "Train Epoch: 13 [3840/4000 (96%)]\tLoss: 32.369549\n",
      "====> Epoch: 13 Average loss: 32.1558\n",
      "====> Test set loss: 32.0547\n",
      "Train Epoch: 14 [0/4000 (0%)]\tLoss: 31.900909\n",
      "Train Epoch: 14 [1280/4000 (32%)]\tLoss: 32.196495\n",
      "Train Epoch: 14 [2560/4000 (64%)]\tLoss: 32.229164\n",
      "Train Epoch: 14 [3840/4000 (96%)]\tLoss: 32.197395\n",
      "====> Epoch: 14 Average loss: 32.0321\n",
      "====> Test set loss: 31.9535\n",
      "Train Epoch: 15 [0/4000 (0%)]\tLoss: 31.856623\n",
      "Train Epoch: 15 [1280/4000 (32%)]\tLoss: 31.696789\n",
      "Train Epoch: 15 [2560/4000 (64%)]\tLoss: 31.695568\n",
      "Train Epoch: 15 [3840/4000 (96%)]\tLoss: 31.998665\n",
      "====> Epoch: 15 Average loss: 31.9635\n",
      "====> Test set loss: 31.8698\n",
      "Train Epoch: 16 [0/4000 (0%)]\tLoss: 31.955343\n",
      "Train Epoch: 16 [1280/4000 (32%)]\tLoss: 31.983461\n",
      "Train Epoch: 16 [2560/4000 (64%)]\tLoss: 32.110096\n",
      "Train Epoch: 16 [3840/4000 (96%)]\tLoss: 32.054447\n",
      "====> Epoch: 16 Average loss: 31.9013\n",
      "====> Test set loss: 31.8082\n",
      "Train Epoch: 17 [0/4000 (0%)]\tLoss: 31.771000\n",
      "Train Epoch: 17 [1280/4000 (32%)]\tLoss: 32.020573\n",
      "Train Epoch: 17 [2560/4000 (64%)]\tLoss: 31.843025\n",
      "Train Epoch: 17 [3840/4000 (96%)]\tLoss: 31.751513\n",
      "====> Epoch: 17 Average loss: 31.8380\n",
      "====> Test set loss: 31.7816\n",
      "Train Epoch: 18 [0/4000 (0%)]\tLoss: 31.683304\n",
      "Train Epoch: 18 [1280/4000 (32%)]\tLoss: 31.588379\n",
      "Train Epoch: 18 [2560/4000 (64%)]\tLoss: 31.705652\n",
      "Train Epoch: 18 [3840/4000 (96%)]\tLoss: 31.933746\n",
      "====> Epoch: 18 Average loss: 31.7766\n",
      "====> Test set loss: 31.6849\n",
      "Train Epoch: 19 [0/4000 (0%)]\tLoss: 32.360500\n",
      "Train Epoch: 19 [1280/4000 (32%)]\tLoss: 31.724262\n",
      "Train Epoch: 19 [2560/4000 (64%)]\tLoss: 31.859814\n",
      "Train Epoch: 19 [3840/4000 (96%)]\tLoss: 31.709867\n",
      "====> Epoch: 19 Average loss: 31.7122\n",
      "====> Test set loss: 31.6376\n",
      "Train Epoch: 20 [0/4000 (0%)]\tLoss: 31.779974\n",
      "Train Epoch: 20 [1280/4000 (32%)]\tLoss: 31.284533\n",
      "Train Epoch: 20 [2560/4000 (64%)]\tLoss: 31.391958\n",
      "Train Epoch: 20 [3840/4000 (96%)]\tLoss: 31.349340\n",
      "====> Epoch: 20 Average loss: 31.6303\n",
      "====> Test set loss: 31.5404\n",
      "Train Epoch: 21 [0/4000 (0%)]\tLoss: 31.590551\n",
      "Train Epoch: 21 [1280/4000 (32%)]\tLoss: 31.640583\n",
      "Train Epoch: 21 [2560/4000 (64%)]\tLoss: 31.818018\n",
      "Train Epoch: 21 [3840/4000 (96%)]\tLoss: 31.553604\n",
      "====> Epoch: 21 Average loss: 31.5221\n",
      "====> Test set loss: 31.4279\n",
      "Train Epoch: 22 [0/4000 (0%)]\tLoss: 31.209724\n",
      "Train Epoch: 22 [1280/4000 (32%)]\tLoss: 31.501251\n",
      "Train Epoch: 22 [2560/4000 (64%)]\tLoss: 31.478521\n",
      "Train Epoch: 22 [3840/4000 (96%)]\tLoss: 31.363119\n",
      "====> Epoch: 22 Average loss: 31.3792\n",
      "====> Test set loss: 31.2837\n",
      "Train Epoch: 23 [0/4000 (0%)]\tLoss: 31.283752\n",
      "Train Epoch: 23 [1280/4000 (32%)]\tLoss: 31.079319\n",
      "Train Epoch: 23 [2560/4000 (64%)]\tLoss: 31.267811\n",
      "Train Epoch: 23 [3840/4000 (96%)]\tLoss: 31.373390\n",
      "====> Epoch: 23 Average loss: 31.2691\n",
      "====> Test set loss: 31.2361\n",
      "Train Epoch: 24 [0/4000 (0%)]\tLoss: 31.072739\n",
      "Train Epoch: 24 [1280/4000 (32%)]\tLoss: 31.460453\n",
      "Train Epoch: 24 [2560/4000 (64%)]\tLoss: 31.270405\n",
      "Train Epoch: 24 [3840/4000 (96%)]\tLoss: 30.968897\n",
      "====> Epoch: 24 Average loss: 31.1697\n",
      "====> Test set loss: 31.1025\n",
      "Train Epoch: 25 [0/4000 (0%)]\tLoss: 31.283909\n",
      "Train Epoch: 25 [1280/4000 (32%)]\tLoss: 31.004129\n",
      "Train Epoch: 25 [2560/4000 (64%)]\tLoss: 31.003883\n",
      "Train Epoch: 25 [3840/4000 (96%)]\tLoss: 31.388237\n",
      "====> Epoch: 25 Average loss: 31.0785\n",
      "====> Test set loss: 30.9833\n",
      "Train Epoch: 26 [0/4000 (0%)]\tLoss: 30.887918\n",
      "Train Epoch: 26 [1280/4000 (32%)]\tLoss: 30.966131\n",
      "Train Epoch: 26 [2560/4000 (64%)]\tLoss: 30.969601\n",
      "Train Epoch: 26 [3840/4000 (96%)]\tLoss: 30.970596\n",
      "====> Epoch: 26 Average loss: 30.9724\n",
      "====> Test set loss: 30.9033\n",
      "Train Epoch: 27 [0/4000 (0%)]\tLoss: 30.640602\n",
      "Train Epoch: 27 [1280/4000 (32%)]\tLoss: 30.771666\n",
      "Train Epoch: 27 [2560/4000 (64%)]\tLoss: 31.104567\n",
      "Train Epoch: 27 [3840/4000 (96%)]\tLoss: 30.618370\n",
      "====> Epoch: 27 Average loss: 30.9081\n",
      "====> Test set loss: 30.8173\n",
      "Train Epoch: 28 [0/4000 (0%)]\tLoss: 30.784786\n",
      "Train Epoch: 28 [1280/4000 (32%)]\tLoss: 30.941294\n",
      "Train Epoch: 28 [2560/4000 (64%)]\tLoss: 30.863577\n",
      "Train Epoch: 28 [3840/4000 (96%)]\tLoss: 30.868454\n",
      "====> Epoch: 28 Average loss: 30.8511\n",
      "====> Test set loss: 30.7931\n",
      "Train Epoch: 29 [0/4000 (0%)]\tLoss: 30.984713\n",
      "Train Epoch: 29 [1280/4000 (32%)]\tLoss: 30.895269\n",
      "Train Epoch: 29 [2560/4000 (64%)]\tLoss: 30.978951\n",
      "Train Epoch: 29 [3840/4000 (96%)]\tLoss: 30.716114\n",
      "====> Epoch: 29 Average loss: 30.8103\n",
      "====> Test set loss: 30.7490\n",
      "Train Epoch: 30 [0/4000 (0%)]\tLoss: 31.057421\n",
      "Train Epoch: 30 [1280/4000 (32%)]\tLoss: 30.876495\n",
      "Train Epoch: 30 [2560/4000 (64%)]\tLoss: 30.588932\n",
      "Train Epoch: 30 [3840/4000 (96%)]\tLoss: 30.662325\n",
      "====> Epoch: 30 Average loss: 30.7786\n",
      "====> Test set loss: 30.7362\n",
      "Train Epoch: 31 [0/4000 (0%)]\tLoss: 30.691622\n",
      "Train Epoch: 31 [1280/4000 (32%)]\tLoss: 30.873983\n",
      "Train Epoch: 31 [2560/4000 (64%)]\tLoss: 30.858854\n",
      "Train Epoch: 31 [3840/4000 (96%)]\tLoss: 30.906868\n",
      "====> Epoch: 31 Average loss: 30.7436\n",
      "====> Test set loss: 30.6999\n",
      "Train Epoch: 32 [0/4000 (0%)]\tLoss: 30.614374\n",
      "Train Epoch: 32 [1280/4000 (32%)]\tLoss: 30.584618\n",
      "Train Epoch: 32 [2560/4000 (64%)]\tLoss: 30.891748\n",
      "Train Epoch: 32 [3840/4000 (96%)]\tLoss: 30.780199\n",
      "====> Epoch: 32 Average loss: 30.7141\n"
     ]
    },
    {
     "name": "stdout",
     "output_type": "stream",
     "text": [
      "====> Test set loss: 30.6768\n",
      "Train Epoch: 33 [0/4000 (0%)]\tLoss: 30.802919\n",
      "Train Epoch: 33 [1280/4000 (32%)]\tLoss: 30.749544\n",
      "Train Epoch: 33 [2560/4000 (64%)]\tLoss: 30.829163\n",
      "Train Epoch: 33 [3840/4000 (96%)]\tLoss: 30.446085\n",
      "====> Epoch: 33 Average loss: 30.6890\n",
      "====> Test set loss: 30.6682\n",
      "Train Epoch: 34 [0/4000 (0%)]\tLoss: 30.434799\n",
      "Train Epoch: 34 [1280/4000 (32%)]\tLoss: 30.970924\n",
      "Train Epoch: 34 [2560/4000 (64%)]\tLoss: 30.403496\n",
      "Train Epoch: 34 [3840/4000 (96%)]\tLoss: 30.874573\n",
      "====> Epoch: 34 Average loss: 30.6707\n",
      "====> Test set loss: 30.6344\n",
      "Train Epoch: 35 [0/4000 (0%)]\tLoss: 30.790586\n",
      "Train Epoch: 35 [1280/4000 (32%)]\tLoss: 30.480667\n",
      "Train Epoch: 35 [2560/4000 (64%)]\tLoss: 30.827261\n",
      "Train Epoch: 35 [3840/4000 (96%)]\tLoss: 30.903517\n",
      "====> Epoch: 35 Average loss: 30.6488\n",
      "====> Test set loss: 30.6218\n",
      "Train Epoch: 36 [0/4000 (0%)]\tLoss: 31.043398\n",
      "Train Epoch: 36 [1280/4000 (32%)]\tLoss: 30.573771\n",
      "Train Epoch: 36 [2560/4000 (64%)]\tLoss: 30.547482\n",
      "Train Epoch: 36 [3840/4000 (96%)]\tLoss: 30.535990\n",
      "====> Epoch: 36 Average loss: 30.6306\n",
      "====> Test set loss: 30.6092\n",
      "Train Epoch: 37 [0/4000 (0%)]\tLoss: 30.713840\n",
      "Train Epoch: 37 [1280/4000 (32%)]\tLoss: 31.007141\n",
      "Train Epoch: 37 [2560/4000 (64%)]\tLoss: 30.307425\n",
      "Train Epoch: 37 [3840/4000 (96%)]\tLoss: 30.344015\n",
      "====> Epoch: 37 Average loss: 30.6262\n",
      "====> Test set loss: 30.5888\n",
      "Train Epoch: 38 [0/4000 (0%)]\tLoss: 30.955111\n",
      "Train Epoch: 38 [1280/4000 (32%)]\tLoss: 30.717663\n",
      "Train Epoch: 38 [2560/4000 (64%)]\tLoss: 30.759192\n",
      "Train Epoch: 38 [3840/4000 (96%)]\tLoss: 30.585281\n",
      "====> Epoch: 38 Average loss: 30.5836\n",
      "====> Test set loss: 30.5827\n",
      "Train Epoch: 39 [0/4000 (0%)]\tLoss: 30.699099\n",
      "Train Epoch: 39 [1280/4000 (32%)]\tLoss: 30.553802\n",
      "Train Epoch: 39 [2560/4000 (64%)]\tLoss: 30.305653\n",
      "Train Epoch: 39 [3840/4000 (96%)]\tLoss: 30.460131\n",
      "====> Epoch: 39 Average loss: 30.5795\n",
      "====> Test set loss: 30.5595\n",
      "Train Epoch: 40 [0/4000 (0%)]\tLoss: 30.779570\n",
      "Train Epoch: 40 [1280/4000 (32%)]\tLoss: 30.416681\n",
      "Train Epoch: 40 [2560/4000 (64%)]\tLoss: 30.851614\n",
      "Train Epoch: 40 [3840/4000 (96%)]\tLoss: 30.504482\n",
      "====> Epoch: 40 Average loss: 30.5620\n",
      "====> Test set loss: 30.5409\n",
      "Train Epoch: 41 [0/4000 (0%)]\tLoss: 30.623724\n",
      "Train Epoch: 41 [1280/4000 (32%)]\tLoss: 30.480110\n",
      "Train Epoch: 41 [2560/4000 (64%)]\tLoss: 30.459265\n",
      "Train Epoch: 41 [3840/4000 (96%)]\tLoss: 30.428608\n",
      "====> Epoch: 41 Average loss: 30.5471\n",
      "====> Test set loss: 30.5488\n",
      "Train Epoch: 42 [0/4000 (0%)]\tLoss: 30.495504\n",
      "Train Epoch: 42 [1280/4000 (32%)]\tLoss: 30.636826\n",
      "Train Epoch: 42 [2560/4000 (64%)]\tLoss: 30.621056\n",
      "Train Epoch: 42 [3840/4000 (96%)]\tLoss: 30.647179\n",
      "====> Epoch: 42 Average loss: 30.5442\n",
      "====> Test set loss: 30.4980\n",
      "Train Epoch: 43 [0/4000 (0%)]\tLoss: 30.441555\n",
      "Train Epoch: 43 [1280/4000 (32%)]\tLoss: 30.395248\n",
      "Train Epoch: 43 [2560/4000 (64%)]\tLoss: 30.599918\n",
      "Train Epoch: 43 [3840/4000 (96%)]\tLoss: 30.662346\n",
      "====> Epoch: 43 Average loss: 30.5185\n",
      "====> Test set loss: 30.5054\n",
      "Train Epoch: 44 [0/4000 (0%)]\tLoss: 30.723736\n",
      "Train Epoch: 44 [1280/4000 (32%)]\tLoss: 30.521111\n",
      "Train Epoch: 44 [2560/4000 (64%)]\tLoss: 30.387514\n",
      "Train Epoch: 44 [3840/4000 (96%)]\tLoss: 30.585745\n",
      "====> Epoch: 44 Average loss: 30.5106\n",
      "====> Test set loss: 30.4933\n",
      "Train Epoch: 45 [0/4000 (0%)]\tLoss: 30.558941\n",
      "Train Epoch: 45 [1280/4000 (32%)]\tLoss: 30.572298\n",
      "Train Epoch: 45 [2560/4000 (64%)]\tLoss: 30.252615\n",
      "Train Epoch: 45 [3840/4000 (96%)]\tLoss: 30.509411\n",
      "====> Epoch: 45 Average loss: 30.5017\n",
      "====> Test set loss: 30.4653\n",
      "Train Epoch: 46 [0/4000 (0%)]\tLoss: 30.593023\n",
      "Train Epoch: 46 [1280/4000 (32%)]\tLoss: 30.848335\n",
      "Train Epoch: 46 [2560/4000 (64%)]\tLoss: 30.790195\n",
      "Train Epoch: 46 [3840/4000 (96%)]\tLoss: 30.339924\n",
      "====> Epoch: 46 Average loss: 30.4843\n",
      "====> Test set loss: 30.4524\n",
      "Train Epoch: 47 [0/4000 (0%)]\tLoss: 30.619297\n",
      "Train Epoch: 47 [1280/4000 (32%)]\tLoss: 30.143131\n",
      "Train Epoch: 47 [2560/4000 (64%)]\tLoss: 30.599688\n",
      "Train Epoch: 47 [3840/4000 (96%)]\tLoss: 30.458723\n",
      "====> Epoch: 47 Average loss: 30.4707\n",
      "====> Test set loss: 30.4806\n",
      "Train Epoch: 48 [0/4000 (0%)]\tLoss: 30.644178\n",
      "Train Epoch: 48 [1280/4000 (32%)]\tLoss: 30.505157\n",
      "Train Epoch: 48 [2560/4000 (64%)]\tLoss: 30.275278\n",
      "Train Epoch: 48 [3840/4000 (96%)]\tLoss: 30.209518\n",
      "====> Epoch: 48 Average loss: 30.4628\n",
      "====> Test set loss: 30.4370\n",
      "Train Epoch: 49 [0/4000 (0%)]\tLoss: 30.555466\n",
      "Train Epoch: 49 [1280/4000 (32%)]\tLoss: 30.528658\n",
      "Train Epoch: 49 [2560/4000 (64%)]\tLoss: 30.316772\n",
      "Train Epoch: 49 [3840/4000 (96%)]\tLoss: 30.543491\n",
      "====> Epoch: 49 Average loss: 30.4437\n",
      "====> Test set loss: 30.4201\n",
      "Train Epoch: 50 [0/4000 (0%)]\tLoss: 30.503532\n",
      "Train Epoch: 50 [1280/4000 (32%)]\tLoss: 30.464394\n",
      "Train Epoch: 50 [2560/4000 (64%)]\tLoss: 30.484758\n",
      "Train Epoch: 50 [3840/4000 (96%)]\tLoss: 30.143312\n",
      "====> Epoch: 50 Average loss: 30.4296\n",
      "====> Test set loss: 30.3976\n"
     ]
    }
   ],
   "source": [
    "for epoch in range(1, n_epochs + 1):\n",
    "    train(train_data, pretrain_vae, pretrain_vae_optimizer, epoch, batch_size)\n",
    "    test(test_data, pretrain_vae, epoch, batch_size)"
   ]
  },
  {
   "cell_type": "code",
   "execution_count": 26,
   "metadata": {},
   "outputs": [
    {
     "name": "stdout",
     "output_type": "stream",
     "text": [
      "Test Loss\n",
      "tensor(0.4964, device='cuda:0')\n"
     ]
    }
   ],
   "source": [
    "with torch.no_grad():\n",
    "    print(\"Test Loss\")\n",
    "    print(F.binary_cross_entropy(pretrain_vae(test_data)[0], test_data))"
   ]
  },
  {
   "cell_type": "markdown",
   "metadata": {},
   "source": [
    "Actually pretty good! %35 percent off when wrong\n",
    "\n",
    "Get 0.49 when nepochs is 50.\n",
    "Get 0.54 when nepochs is 10."
   ]
  },
  {
   "cell_type": "markdown",
   "metadata": {},
   "source": [
    "As a note, if the final layer of the data mapper is not ReLU, this reconstruction is usually on point. When some of the features can be sparse, then this becomes troublesome."
   ]
  },
  {
   "cell_type": "markdown",
   "metadata": {},
   "source": [
    "Compare means"
   ]
  },
  {
   "cell_type": "code",
   "execution_count": 27,
   "metadata": {},
   "outputs": [
    {
     "data": {
      "text/plain": [
       "tensor([0.0931, 0.3051, 0.1384, 0.2096, 0.2092, 0.2112, 0.1042, 0.2325, 0.0347,\n",
       "        0.2014, 0.0244, 0.0502, 0.0919, 0.2735, 0.2254, 0.3294, 0.2786, 0.0084,\n",
       "        0.0338, 0.1001, 0.0849, 0.2512, 0.0048, 0.0257, 0.0015, 0.0874, 0.4764,\n",
       "        0.3270, 0.2107, 0.2899], device='cuda:0')"
      ]
     },
     "execution_count": 27,
     "metadata": {},
     "output_type": "execute_result"
    }
   ],
   "source": [
    "train_data.mean(dim = 0)[:D]"
   ]
  },
  {
   "cell_type": "code",
   "execution_count": 28,
   "metadata": {},
   "outputs": [
    {
     "data": {
      "text/plain": [
       "tensor([0.0978, 0.3031, 0.1394, 0.2099, 0.2063, 0.2098, 0.1076, 0.2316, 0.0298,\n",
       "        0.1968, 0.0261, 0.0561, 0.0848, 0.2727, 0.2320, 0.3355, 0.2739, 0.0056,\n",
       "        0.0301, 0.0953, 0.0889, 0.2483, 0.0063, 0.0231, 0.0009, 0.0924, 0.4782,\n",
       "        0.3251, 0.2092, 0.2881], device='cuda:0')"
      ]
     },
     "execution_count": 28,
     "metadata": {},
     "output_type": "execute_result"
    }
   ],
   "source": [
    "test_data.mean(dim = 0)[:D]"
   ]
  },
  {
   "cell_type": "code",
   "execution_count": 29,
   "metadata": {},
   "outputs": [
    {
     "data": {
      "text/plain": [
       "tensor([0.1014, 0.3082, 0.1481, 0.2059, 0.2035, 0.2026, 0.1036, 0.2276, 0.0334,\n",
       "        0.1933, 0.0268, 0.0544, 0.0878, 0.2829, 0.2261, 0.3300, 0.2708, 0.0094,\n",
       "        0.0353, 0.0994, 0.0870, 0.2518, 0.0070, 0.0294, 0.0036, 0.0922, 0.4750,\n",
       "        0.3314, 0.2135, 0.2963], device='cuda:0', grad_fn=<SliceBackward>)"
      ]
     },
     "execution_count": 29,
     "metadata": {},
     "output_type": "execute_result"
    }
   ],
   "source": [
    "pretrain_vae(test_data)[0].mean(dim = 0)[:D]"
   ]
  },
  {
   "cell_type": "markdown",
   "metadata": {},
   "source": [
    "Compare standard deviations"
   ]
  },
  {
   "cell_type": "code",
   "execution_count": 30,
   "metadata": {},
   "outputs": [
    {
     "data": {
      "text/plain": [
       "tensor([0.1913, 0.2338, 0.2076, 0.2199, 0.2306, 0.1890, 0.1805, 0.1945, 0.1051,\n",
       "        0.2321, 0.0976, 0.1389, 0.1652, 0.1922, 0.2341, 0.2330, 0.2048, 0.0390,\n",
       "        0.0929, 0.1692, 0.1755, 0.2236, 0.0499, 0.0923, 0.0152, 0.1863, 0.1593,\n",
       "        0.2244, 0.2096, 0.2350], device='cuda:0')"
      ]
     },
     "execution_count": 30,
     "metadata": {},
     "output_type": "execute_result"
    }
   ],
   "source": [
    "test_data.std(dim = 0)[:D]"
   ]
  },
  {
   "cell_type": "code",
   "execution_count": 31,
   "metadata": {},
   "outputs": [
    {
     "data": {
      "text/plain": [
       "tensor([0.1635, 0.2089, 0.1991, 0.1973, 0.2046, 0.0988, 0.1592, 0.1667, 0.0784,\n",
       "        0.2134, 0.0471, 0.0845, 0.1464, 0.1706, 0.2144, 0.2154, 0.1740, 0.0129,\n",
       "        0.0778, 0.1471, 0.1372, 0.1853, 0.0119, 0.0618, 0.0055, 0.1587, 0.1384,\n",
       "        0.2182, 0.1869, 0.2146], device='cuda:0', grad_fn=<SliceBackward>)"
      ]
     },
     "execution_count": 31,
     "metadata": {},
     "output_type": "execute_result"
    }
   ],
   "source": [
    "pretrain_vae(test_data)[0].std(dim = 0)[:D]"
   ]
  },
  {
   "cell_type": "code",
   "execution_count": 32,
   "metadata": {},
   "outputs": [
    {
     "data": {
      "text/plain": [
       "tensor([0.0192, 0.0166, 0.0169, 0.0182, 0.0186, 0.0176, 0.0177, 0.0193, 0.0181,\n",
       "        0.0182, 0.0176, 0.0181, 0.0175, 0.0176, 0.0170, 0.0169, 0.0160, 0.0168,\n",
       "        0.0176, 0.0168, 0.0176, 0.0161, 0.0185, 0.0188, 0.0188, 0.0182, 0.0179,\n",
       "        0.0173, 0.0182, 0.0180], device='cuda:0', grad_fn=<SliceBackward>)"
      ]
     },
     "execution_count": 32,
     "metadata": {},
     "output_type": "execute_result"
    }
   ],
   "source": [
    "pretrain_vae(test_data)[0].std(dim = 0)[D:2*D]"
   ]
  },
  {
   "cell_type": "code",
   "execution_count": 33,
   "metadata": {},
   "outputs": [],
   "source": [
    "average_std = pretrain_vae(test_data)[0].std(dim = 0)[:D] / test_data.std(dim = 0)[:D]"
   ]
  },
  {
   "cell_type": "code",
   "execution_count": 34,
   "metadata": {},
   "outputs": [
    {
     "name": "stdout",
     "output_type": "stream",
     "text": [
      "tensor([0.8577, 0.8759, 0.9402, 0.8815, 0.8857, 0.5150, 0.8801, 0.8438, 0.7950,\n",
      "        0.9072, 0.5083, 0.6143, 0.8757, 0.8771, 0.9157, 0.9198, 0.8350, 0.3095,\n",
      "        0.8366, 0.8784, 0.7831, 0.8066, 0.2013, 0.6737, 0.3344, 0.8627, 0.8543,\n",
      "        0.9643, 0.8786, 0.9155], device='cuda:0', grad_fn=<DivBackward0>)\n",
      "0.7742371559143066\n"
     ]
    }
   ],
   "source": [
    "print(average_std)\n",
    "print(average_std.mean().item())"
   ]
  },
  {
   "cell_type": "markdown",
   "metadata": {},
   "source": [
    "Get .8 as the mean when nepoch is 50. Get 0.43 as the mean when nepochs is 10."
   ]
  },
  {
   "cell_type": "markdown",
   "metadata": {},
   "source": [
    "Compare values"
   ]
  },
  {
   "cell_type": "code",
   "execution_count": 35,
   "metadata": {},
   "outputs": [],
   "source": [
    "samp = 45"
   ]
  },
  {
   "cell_type": "code",
   "execution_count": 36,
   "metadata": {},
   "outputs": [
    {
     "data": {
      "text/plain": [
       "tensor([0.0000, 0.5286, 0.0000, 0.0231, 0.6963, 0.3966, 0.0103, 0.2939, 0.0000,\n",
       "        0.3152, 0.0000, 0.0000, 0.0000, 0.0617, 0.4150, 0.6262, 0.2110, 0.0000,\n",
       "        0.0000, 0.0000, 0.0000, 0.6829, 0.0000, 0.0000, 0.0000, 0.0000, 0.3516,\n",
       "        0.0000, 0.6491, 0.4560], device='cuda:0')"
      ]
     },
     "execution_count": 36,
     "metadata": {},
     "output_type": "execute_result"
    }
   ],
   "source": [
    "test_data[samp,:D]"
   ]
  },
  {
   "cell_type": "code",
   "execution_count": 37,
   "metadata": {},
   "outputs": [
    {
     "data": {
      "text/plain": [
       "tensor([0.0007, 0.4000, 0.0045, 0.1049, 0.6208, 0.3453, 0.0412, 0.3219, 0.0022,\n",
       "        0.2507, 0.0014, 0.0100, 0.0417, 0.0886, 0.3184, 0.5396, 0.2331, 0.0083,\n",
       "        0.0024, 0.0026, 0.0709, 0.5700, 0.0041, 0.0025, 0.0013, 0.0598, 0.3389,\n",
       "        0.0866, 0.5517, 0.3539], device='cuda:0', grad_fn=<SliceBackward>)"
      ]
     },
     "execution_count": 37,
     "metadata": {},
     "output_type": "execute_result"
    }
   ],
   "source": [
    "pretrain_vae(test_data)[0][samp, :D]"
   ]
  },
  {
   "cell_type": "code",
   "execution_count": 38,
   "metadata": {},
   "outputs": [
    {
     "data": {
      "text/plain": [
       "tensor(0.0902, device='cuda:0', grad_fn=<MeanBackward0>)"
      ]
     },
     "execution_count": 38,
     "metadata": {},
     "output_type": "execute_result"
    }
   ],
   "source": [
    "torch.abs(test_data[samp,:D] - pretrain_vae(test_data)[0][samp, :D]).mean()"
   ]
  },
  {
   "cell_type": "code",
   "execution_count": 39,
   "metadata": {},
   "outputs": [
    {
     "data": {
      "text/plain": [
       "tensor(-0.0107, device='cuda:0', grad_fn=<MeanBackward0>)"
      ]
     },
     "execution_count": 39,
     "metadata": {},
     "output_type": "execute_result"
    }
   ],
   "source": [
    "pretrain_vae(test_data)[1][:, :D].mean()"
   ]
  },
  {
   "cell_type": "code",
   "execution_count": 40,
   "metadata": {},
   "outputs": [
    {
     "data": {
      "text/plain": [
       "tensor(0.6380, device='cuda:0', grad_fn=<MeanBackward0>)"
      ]
     },
     "execution_count": 40,
     "metadata": {},
     "output_type": "execute_result"
    }
   ],
   "source": [
    "torch.exp(pretrain_vae(test_data)[2][:, :D]).mean()"
   ]
  },
  {
   "cell_type": "code",
   "execution_count": 41,
   "metadata": {},
   "outputs": [
    {
     "data": {
      "text/plain": [
       "VAE(\n",
       "  (encoder): Sequential(\n",
       "    (0): Linear(in_features=60, out_features=200, bias=True)\n",
       "    (1): LeakyReLU(negative_slope=0.01)\n",
       "    (2): Linear(in_features=200, out_features=100, bias=True)\n",
       "    (3): LeakyReLU(negative_slope=0.01)\n",
       "    (4): Linear(in_features=100, out_features=100, bias=True)\n",
       "    (5): LeakyReLU(negative_slope=0.01)\n",
       "    (6): Linear(in_features=100, out_features=100, bias=True)\n",
       "    (7): LeakyReLU(negative_slope=0.01)\n",
       "  )\n",
       "  (enc_mean): Linear(in_features=100, out_features=20, bias=True)\n",
       "  (enc_logvar): Linear(in_features=100, out_features=20, bias=True)\n",
       "  (decoder): Sequential(\n",
       "    (0): Linear(in_features=20, out_features=200, bias=True)\n",
       "    (1): LeakyReLU(negative_slope=0.01)\n",
       "    (2): Linear(in_features=200, out_features=60, bias=True)\n",
       "    (3): Sigmoid()\n",
       "  )\n",
       ")"
      ]
     },
     "execution_count": 41,
     "metadata": {},
     "output_type": "execute_result"
    }
   ],
   "source": [
    "pretrain_vae.requires_grad_(False)"
   ]
  },
  {
   "cell_type": "markdown",
   "metadata": {},
   "source": [
    "This looks pretty good.\n",
    "\n",
    "**Gumbel matching pretrained VAE next**"
   ]
  },
  {
   "cell_type": "code",
   "execution_count": 42,
   "metadata": {},
   "outputs": [],
   "source": [
    "# let's see how it does here\n",
    "vae_gumbel_with_pre = VAE_Gumbel(2*D, 100, 20, k = 3*z_size)\n",
    "vae_gumbel_with_pre.to(device)\n",
    "vae_gumbel_with_pre_optimizer = torch.optim.Adam(vae_gumbel_with_pre.parameters(), \n",
    "                                                lr=lr, \n",
    "                                                betas = (b1,b2))"
   ]
  },
  {
   "cell_type": "code",
   "execution_count": 43,
   "metadata": {},
   "outputs": [
    {
     "name": "stdout",
     "output_type": "stream",
     "text": [
      "Train Epoch: 1 [0/4000 (0%)]\tLoss: 135.722412\n",
      "Train Epoch: 1 [1280/4000 (32%)]\tLoss: 126.609497\n",
      "Train Epoch: 1 [2560/4000 (64%)]\tLoss: 121.512253\n",
      "Train Epoch: 1 [3840/4000 (96%)]\tLoss: 116.164474\n",
      "====> Epoch: 1 Average loss: 125.7550\n",
      "====> Test set loss: 39.4420\n",
      "Train Epoch: 2 [0/4000 (0%)]\tLoss: 118.806061\n",
      "Train Epoch: 2 [1280/4000 (32%)]\tLoss: 115.479691\n",
      "Train Epoch: 2 [2560/4000 (64%)]\tLoss: 123.038879\n",
      "Train Epoch: 2 [3840/4000 (96%)]\tLoss: 118.022873\n",
      "====> Epoch: 2 Average loss: 120.1893\n",
      "====> Test set loss: 37.3728\n",
      "Train Epoch: 3 [0/4000 (0%)]\tLoss: 109.040268\n",
      "Train Epoch: 3 [1280/4000 (32%)]\tLoss: 116.864220\n",
      "Train Epoch: 3 [2560/4000 (64%)]\tLoss: 106.289795\n",
      "Train Epoch: 3 [3840/4000 (96%)]\tLoss: 99.098221\n",
      "====> Epoch: 3 Average loss: 106.5753\n",
      "====> Test set loss: 35.5293\n",
      "Train Epoch: 4 [0/4000 (0%)]\tLoss: 92.867889\n",
      "Train Epoch: 4 [1280/4000 (32%)]\tLoss: 92.626755\n",
      "Train Epoch: 4 [2560/4000 (64%)]\tLoss: 90.445953\n",
      "Train Epoch: 4 [3840/4000 (96%)]\tLoss: 83.077820\n",
      "====> Epoch: 4 Average loss: 92.0391\n",
      "====> Test set loss: 34.4310\n",
      "Train Epoch: 5 [0/4000 (0%)]\tLoss: 94.296074\n",
      "Train Epoch: 5 [1280/4000 (32%)]\tLoss: 77.714569\n",
      "Train Epoch: 5 [2560/4000 (64%)]\tLoss: 81.084869\n",
      "Train Epoch: 5 [3840/4000 (96%)]\tLoss: 74.171280\n",
      "====> Epoch: 5 Average loss: 82.9036\n",
      "====> Test set loss: 33.8310\n",
      "Train Epoch: 6 [0/4000 (0%)]\tLoss: 78.075912\n",
      "Train Epoch: 6 [1280/4000 (32%)]\tLoss: 70.341141\n",
      "Train Epoch: 6 [2560/4000 (64%)]\tLoss: 63.874229\n",
      "Train Epoch: 6 [3840/4000 (96%)]\tLoss: 61.171684\n",
      "====> Epoch: 6 Average loss: 65.8625\n",
      "====> Test set loss: 33.4171\n",
      "Train Epoch: 7 [0/4000 (0%)]\tLoss: 57.562172\n",
      "Train Epoch: 7 [1280/4000 (32%)]\tLoss: 58.226929\n",
      "Train Epoch: 7 [2560/4000 (64%)]\tLoss: 54.463192\n",
      "Train Epoch: 7 [3840/4000 (96%)]\tLoss: 50.588814\n",
      "====> Epoch: 7 Average loss: 55.8087\n",
      "====> Test set loss: 33.0276\n",
      "Train Epoch: 8 [0/4000 (0%)]\tLoss: 55.725613\n",
      "Train Epoch: 8 [1280/4000 (32%)]\tLoss: 51.121552\n",
      "Train Epoch: 8 [2560/4000 (64%)]\tLoss: 50.626991\n",
      "Train Epoch: 8 [3840/4000 (96%)]\tLoss: 49.758743\n",
      "====> Epoch: 8 Average loss: 52.0710\n",
      "====> Test set loss: 32.7353\n",
      "Train Epoch: 9 [0/4000 (0%)]\tLoss: 50.725620\n",
      "Train Epoch: 9 [1280/4000 (32%)]\tLoss: 50.645775\n",
      "Train Epoch: 9 [2560/4000 (64%)]\tLoss: 48.536812\n",
      "Train Epoch: 9 [3840/4000 (96%)]\tLoss: 50.556717\n",
      "====> Epoch: 9 Average loss: 49.6258\n",
      "====> Test set loss: 32.4263\n",
      "Train Epoch: 10 [0/4000 (0%)]\tLoss: 47.926109\n",
      "Train Epoch: 10 [1280/4000 (32%)]\tLoss: 47.804886\n",
      "Train Epoch: 10 [2560/4000 (64%)]\tLoss: 47.524033\n",
      "Train Epoch: 10 [3840/4000 (96%)]\tLoss: 45.503014\n",
      "====> Epoch: 10 Average loss: 47.7907\n",
      "====> Test set loss: 32.1936\n",
      "Train Epoch: 11 [0/4000 (0%)]\tLoss: 46.048843\n",
      "Train Epoch: 11 [1280/4000 (32%)]\tLoss: 46.897743\n",
      "Train Epoch: 11 [2560/4000 (64%)]\tLoss: 44.097408\n",
      "Train Epoch: 11 [3840/4000 (96%)]\tLoss: 43.540649\n",
      "====> Epoch: 11 Average loss: 46.2466\n",
      "====> Test set loss: 31.9357\n",
      "Train Epoch: 12 [0/4000 (0%)]\tLoss: 45.598862\n",
      "Train Epoch: 12 [1280/4000 (32%)]\tLoss: 46.120262\n",
      "Train Epoch: 12 [2560/4000 (64%)]\tLoss: 44.730377\n",
      "Train Epoch: 12 [3840/4000 (96%)]\tLoss: 44.540695\n",
      "====> Epoch: 12 Average loss: 45.0687\n",
      "====> Test set loss: 31.8322\n",
      "Train Epoch: 13 [0/4000 (0%)]\tLoss: 45.227455\n",
      "Train Epoch: 13 [1280/4000 (32%)]\tLoss: 45.561817\n",
      "Train Epoch: 13 [2560/4000 (64%)]\tLoss: 42.888672\n",
      "Train Epoch: 13 [3840/4000 (96%)]\tLoss: 42.212193\n",
      "====> Epoch: 13 Average loss: 44.2510\n",
      "====> Test set loss: 31.6805\n",
      "Train Epoch: 14 [0/4000 (0%)]\tLoss: 44.285442\n",
      "Train Epoch: 14 [1280/4000 (32%)]\tLoss: 42.699551\n",
      "Train Epoch: 14 [2560/4000 (64%)]\tLoss: 44.450256\n",
      "Train Epoch: 14 [3840/4000 (96%)]\tLoss: 42.885391\n",
      "====> Epoch: 14 Average loss: 43.4981\n",
      "====> Test set loss: 31.5295\n",
      "Train Epoch: 15 [0/4000 (0%)]\tLoss: 43.120880\n",
      "Train Epoch: 15 [1280/4000 (32%)]\tLoss: 43.721817\n",
      "Train Epoch: 15 [2560/4000 (64%)]\tLoss: 41.357368\n",
      "Train Epoch: 15 [3840/4000 (96%)]\tLoss: 41.464832\n",
      "====> Epoch: 15 Average loss: 42.7544\n",
      "====> Test set loss: 31.4147\n",
      "Train Epoch: 16 [0/4000 (0%)]\tLoss: 40.528797\n",
      "Train Epoch: 16 [1280/4000 (32%)]\tLoss: 43.701683\n",
      "Train Epoch: 16 [2560/4000 (64%)]\tLoss: 44.578201\n",
      "Train Epoch: 16 [3840/4000 (96%)]\tLoss: 41.733902\n",
      "====> Epoch: 16 Average loss: 42.2686\n",
      "====> Test set loss: 31.3458\n",
      "Train Epoch: 17 [0/4000 (0%)]\tLoss: 42.929054\n",
      "Train Epoch: 17 [1280/4000 (32%)]\tLoss: 42.429470\n",
      "Train Epoch: 17 [2560/4000 (64%)]\tLoss: 42.658516\n",
      "Train Epoch: 17 [3840/4000 (96%)]\tLoss: 40.454048\n",
      "====> Epoch: 17 Average loss: 42.0751\n",
      "====> Test set loss: 31.2650\n",
      "Train Epoch: 18 [0/4000 (0%)]\tLoss: 41.296978\n",
      "Train Epoch: 18 [1280/4000 (32%)]\tLoss: 41.057640\n",
      "Train Epoch: 18 [2560/4000 (64%)]\tLoss: 40.952259\n",
      "Train Epoch: 18 [3840/4000 (96%)]\tLoss: 41.607834\n",
      "====> Epoch: 18 Average loss: 41.6210\n",
      "====> Test set loss: 31.1831\n",
      "Train Epoch: 19 [0/4000 (0%)]\tLoss: 40.142597\n",
      "Train Epoch: 19 [1280/4000 (32%)]\tLoss: 40.493942\n",
      "Train Epoch: 19 [2560/4000 (64%)]\tLoss: 41.663361\n",
      "Train Epoch: 19 [3840/4000 (96%)]\tLoss: 40.313290\n",
      "====> Epoch: 19 Average loss: 41.1337\n",
      "====> Test set loss: 31.1396\n",
      "Train Epoch: 20 [0/4000 (0%)]\tLoss: 38.343391\n",
      "Train Epoch: 20 [1280/4000 (32%)]\tLoss: 43.186989\n",
      "Train Epoch: 20 [2560/4000 (64%)]\tLoss: 38.848911\n",
      "Train Epoch: 20 [3840/4000 (96%)]\tLoss: 40.579254\n",
      "====> Epoch: 20 Average loss: 40.6926\n",
      "====> Test set loss: 31.0904\n",
      "Train Epoch: 21 [0/4000 (0%)]\tLoss: 39.104298\n",
      "Train Epoch: 21 [1280/4000 (32%)]\tLoss: 40.035809\n",
      "Train Epoch: 21 [2560/4000 (64%)]\tLoss: 41.526787\n",
      "Train Epoch: 21 [3840/4000 (96%)]\tLoss: 39.590034\n",
      "====> Epoch: 21 Average loss: 40.5537\n",
      "====> Test set loss: 31.0424\n",
      "Train Epoch: 22 [0/4000 (0%)]\tLoss: 39.277164\n",
      "Train Epoch: 22 [1280/4000 (32%)]\tLoss: 41.596649\n",
      "Train Epoch: 22 [2560/4000 (64%)]\tLoss: 39.822006\n",
      "Train Epoch: 22 [3840/4000 (96%)]\tLoss: 38.502644\n",
      "====> Epoch: 22 Average loss: 40.3633\n",
      "====> Test set loss: 30.9810\n",
      "Train Epoch: 23 [0/4000 (0%)]\tLoss: 41.492134\n",
      "Train Epoch: 23 [1280/4000 (32%)]\tLoss: 39.686409\n",
      "Train Epoch: 23 [2560/4000 (64%)]\tLoss: 39.374912\n",
      "Train Epoch: 23 [3840/4000 (96%)]\tLoss: 39.570984\n",
      "====> Epoch: 23 Average loss: 40.0200\n",
      "====> Test set loss: 30.9478\n",
      "Train Epoch: 24 [0/4000 (0%)]\tLoss: 41.066231\n",
      "Train Epoch: 24 [1280/4000 (32%)]\tLoss: 39.722153\n",
      "Train Epoch: 24 [2560/4000 (64%)]\tLoss: 39.362839\n",
      "Train Epoch: 24 [3840/4000 (96%)]\tLoss: 41.070858\n",
      "====> Epoch: 24 Average loss: 40.0437\n",
      "====> Test set loss: 30.9370\n",
      "Train Epoch: 25 [0/4000 (0%)]\tLoss: 39.159885\n",
      "Train Epoch: 25 [1280/4000 (32%)]\tLoss: 38.207764\n",
      "Train Epoch: 25 [2560/4000 (64%)]\tLoss: 38.474796\n",
      "Train Epoch: 25 [3840/4000 (96%)]\tLoss: 41.347359\n",
      "====> Epoch: 25 Average loss: 39.6715\n",
      "====> Test set loss: 30.8875\n",
      "Train Epoch: 26 [0/4000 (0%)]\tLoss: 39.023853\n",
      "Train Epoch: 26 [1280/4000 (32%)]\tLoss: 39.097809\n",
      "Train Epoch: 26 [2560/4000 (64%)]\tLoss: 41.555843\n",
      "Train Epoch: 26 [3840/4000 (96%)]\tLoss: 37.815792\n",
      "====> Epoch: 26 Average loss: 39.3586\n",
      "====> Test set loss: 30.8734\n",
      "Train Epoch: 27 [0/4000 (0%)]\tLoss: 39.684742\n",
      "Train Epoch: 27 [1280/4000 (32%)]\tLoss: 37.628872\n",
      "Train Epoch: 27 [2560/4000 (64%)]\tLoss: 39.488312\n",
      "Train Epoch: 27 [3840/4000 (96%)]\tLoss: 38.496597\n",
      "====> Epoch: 27 Average loss: 39.3501\n",
      "====> Test set loss: 30.8401\n",
      "Train Epoch: 28 [0/4000 (0%)]\tLoss: 38.156860\n",
      "Train Epoch: 28 [1280/4000 (32%)]\tLoss: 38.214558\n",
      "Train Epoch: 28 [2560/4000 (64%)]\tLoss: 38.184345\n",
      "Train Epoch: 28 [3840/4000 (96%)]\tLoss: 39.237236\n",
      "====> Epoch: 28 Average loss: 39.0730\n",
      "====> Test set loss: 30.7946\n",
      "Train Epoch: 29 [0/4000 (0%)]\tLoss: 38.855862\n",
      "Train Epoch: 29 [1280/4000 (32%)]\tLoss: 39.434158\n",
      "Train Epoch: 29 [2560/4000 (64%)]\tLoss: 39.349262\n",
      "Train Epoch: 29 [3840/4000 (96%)]\tLoss: 38.685936\n",
      "====> Epoch: 29 Average loss: 38.8034\n",
      "====> Test set loss: 30.7809\n",
      "Train Epoch: 30 [0/4000 (0%)]\tLoss: 38.423027\n",
      "Train Epoch: 30 [1280/4000 (32%)]\tLoss: 38.675560\n",
      "Train Epoch: 30 [2560/4000 (64%)]\tLoss: 38.860107\n",
      "Train Epoch: 30 [3840/4000 (96%)]\tLoss: 38.933361\n",
      "====> Epoch: 30 Average loss: 38.9031\n",
      "====> Test set loss: 30.7613\n",
      "Train Epoch: 31 [0/4000 (0%)]\tLoss: 38.892719\n",
      "Train Epoch: 31 [1280/4000 (32%)]\tLoss: 37.938801\n",
      "Train Epoch: 31 [2560/4000 (64%)]\tLoss: 38.100388\n",
      "Train Epoch: 31 [3840/4000 (96%)]\tLoss: 39.568184\n",
      "====> Epoch: 31 Average loss: 38.6412\n",
      "====> Test set loss: 30.7411\n",
      "Train Epoch: 32 [0/4000 (0%)]\tLoss: 38.578812\n",
      "Train Epoch: 32 [1280/4000 (32%)]\tLoss: 37.562054\n"
     ]
    },
    {
     "name": "stdout",
     "output_type": "stream",
     "text": [
      "Train Epoch: 32 [2560/4000 (64%)]\tLoss: 38.562012\n",
      "Train Epoch: 32 [3840/4000 (96%)]\tLoss: 38.535431\n",
      "====> Epoch: 32 Average loss: 38.7111\n",
      "====> Test set loss: 30.7497\n",
      "Train Epoch: 33 [0/4000 (0%)]\tLoss: 39.352974\n",
      "Train Epoch: 33 [1280/4000 (32%)]\tLoss: 38.365799\n",
      "Train Epoch: 33 [2560/4000 (64%)]\tLoss: 40.016819\n",
      "Train Epoch: 33 [3840/4000 (96%)]\tLoss: 36.582668\n",
      "====> Epoch: 33 Average loss: 38.2257\n",
      "====> Test set loss: 30.7124\n",
      "Train Epoch: 34 [0/4000 (0%)]\tLoss: 36.885632\n",
      "Train Epoch: 34 [1280/4000 (32%)]\tLoss: 38.281082\n",
      "Train Epoch: 34 [2560/4000 (64%)]\tLoss: 38.087807\n",
      "Train Epoch: 34 [3840/4000 (96%)]\tLoss: 37.061802\n",
      "====> Epoch: 34 Average loss: 38.1512\n",
      "====> Test set loss: 30.7391\n",
      "Train Epoch: 35 [0/4000 (0%)]\tLoss: 37.405006\n",
      "Train Epoch: 35 [1280/4000 (32%)]\tLoss: 36.905785\n",
      "Train Epoch: 35 [2560/4000 (64%)]\tLoss: 37.311352\n",
      "Train Epoch: 35 [3840/4000 (96%)]\tLoss: 38.416206\n",
      "====> Epoch: 35 Average loss: 38.2980\n",
      "====> Test set loss: 30.6733\n",
      "Train Epoch: 36 [0/4000 (0%)]\tLoss: 39.994431\n",
      "Train Epoch: 36 [1280/4000 (32%)]\tLoss: 39.165375\n",
      "Train Epoch: 36 [2560/4000 (64%)]\tLoss: 38.501377\n",
      "Train Epoch: 36 [3840/4000 (96%)]\tLoss: 36.666950\n",
      "====> Epoch: 36 Average loss: 38.2152\n",
      "====> Test set loss: 30.6773\n",
      "Train Epoch: 37 [0/4000 (0%)]\tLoss: 37.391823\n",
      "Train Epoch: 37 [1280/4000 (32%)]\tLoss: 37.541138\n",
      "Train Epoch: 37 [2560/4000 (64%)]\tLoss: 38.123650\n",
      "Train Epoch: 37 [3840/4000 (96%)]\tLoss: 37.897511\n",
      "====> Epoch: 37 Average loss: 37.9125\n",
      "====> Test set loss: 30.6877\n",
      "Train Epoch: 38 [0/4000 (0%)]\tLoss: 37.122612\n",
      "Train Epoch: 38 [1280/4000 (32%)]\tLoss: 37.899662\n",
      "Train Epoch: 38 [2560/4000 (64%)]\tLoss: 37.728035\n",
      "Train Epoch: 38 [3840/4000 (96%)]\tLoss: 37.005970\n",
      "====> Epoch: 38 Average loss: 37.7708\n",
      "====> Test set loss: 30.6447\n",
      "Train Epoch: 39 [0/4000 (0%)]\tLoss: 38.822205\n",
      "Train Epoch: 39 [1280/4000 (32%)]\tLoss: 36.942570\n",
      "Train Epoch: 39 [2560/4000 (64%)]\tLoss: 36.673691\n",
      "Train Epoch: 39 [3840/4000 (96%)]\tLoss: 37.845844\n",
      "====> Epoch: 39 Average loss: 37.6848\n",
      "====> Test set loss: 30.6441\n",
      "Train Epoch: 40 [0/4000 (0%)]\tLoss: 36.944633\n",
      "Train Epoch: 40 [1280/4000 (32%)]\tLoss: 38.330536\n",
      "Train Epoch: 40 [2560/4000 (64%)]\tLoss: 37.176762\n",
      "Train Epoch: 40 [3840/4000 (96%)]\tLoss: 37.522594\n",
      "====> Epoch: 40 Average loss: 37.7043\n",
      "====> Test set loss: 30.6297\n",
      "Train Epoch: 41 [0/4000 (0%)]\tLoss: 38.149426\n",
      "Train Epoch: 41 [1280/4000 (32%)]\tLoss: 36.964828\n",
      "Train Epoch: 41 [2560/4000 (64%)]\tLoss: 38.864342\n",
      "Train Epoch: 41 [3840/4000 (96%)]\tLoss: 38.696426\n",
      "====> Epoch: 41 Average loss: 37.6811\n",
      "====> Test set loss: 30.6402\n",
      "Train Epoch: 42 [0/4000 (0%)]\tLoss: 37.739174\n",
      "Train Epoch: 42 [1280/4000 (32%)]\tLoss: 38.629017\n",
      "Train Epoch: 42 [2560/4000 (64%)]\tLoss: 38.088554\n",
      "Train Epoch: 42 [3840/4000 (96%)]\tLoss: 37.424843\n",
      "====> Epoch: 42 Average loss: 37.4285\n",
      "====> Test set loss: 30.6431\n",
      "Train Epoch: 43 [0/4000 (0%)]\tLoss: 36.234150\n",
      "Train Epoch: 43 [1280/4000 (32%)]\tLoss: 36.521694\n",
      "Train Epoch: 43 [2560/4000 (64%)]\tLoss: 38.001583\n",
      "Train Epoch: 43 [3840/4000 (96%)]\tLoss: 36.447544\n",
      "====> Epoch: 43 Average loss: 37.5232\n",
      "====> Test set loss: 30.5873\n",
      "Train Epoch: 44 [0/4000 (0%)]\tLoss: 35.822144\n",
      "Train Epoch: 44 [1280/4000 (32%)]\tLoss: 36.768387\n",
      "Train Epoch: 44 [2560/4000 (64%)]\tLoss: 37.996017\n",
      "Train Epoch: 44 [3840/4000 (96%)]\tLoss: 36.809685\n",
      "====> Epoch: 44 Average loss: 37.3715\n",
      "====> Test set loss: 30.5720\n",
      "Train Epoch: 45 [0/4000 (0%)]\tLoss: 37.069199\n",
      "Train Epoch: 45 [1280/4000 (32%)]\tLoss: 36.494930\n",
      "Train Epoch: 45 [2560/4000 (64%)]\tLoss: 36.162689\n",
      "Train Epoch: 45 [3840/4000 (96%)]\tLoss: 36.900597\n",
      "====> Epoch: 45 Average loss: 37.1270\n",
      "====> Test set loss: 30.5939\n",
      "Train Epoch: 46 [0/4000 (0%)]\tLoss: 37.495930\n",
      "Train Epoch: 46 [1280/4000 (32%)]\tLoss: 36.550056\n",
      "Train Epoch: 46 [2560/4000 (64%)]\tLoss: 36.974342\n",
      "Train Epoch: 46 [3840/4000 (96%)]\tLoss: 37.575371\n",
      "====> Epoch: 46 Average loss: 37.2622\n",
      "====> Test set loss: 30.5732\n",
      "Train Epoch: 47 [0/4000 (0%)]\tLoss: 37.007774\n",
      "Train Epoch: 47 [1280/4000 (32%)]\tLoss: 37.243793\n",
      "Train Epoch: 47 [2560/4000 (64%)]\tLoss: 37.070442\n",
      "Train Epoch: 47 [3840/4000 (96%)]\tLoss: 36.741886\n",
      "====> Epoch: 47 Average loss: 37.1619\n",
      "====> Test set loss: 30.5707\n",
      "Train Epoch: 48 [0/4000 (0%)]\tLoss: 37.652676\n",
      "Train Epoch: 48 [1280/4000 (32%)]\tLoss: 38.723778\n",
      "Train Epoch: 48 [2560/4000 (64%)]\tLoss: 37.901093\n",
      "Train Epoch: 48 [3840/4000 (96%)]\tLoss: 36.425674\n",
      "====> Epoch: 48 Average loss: 37.1602\n",
      "====> Test set loss: 30.5591\n",
      "Train Epoch: 49 [0/4000 (0%)]\tLoss: 37.737724\n",
      "Train Epoch: 49 [1280/4000 (32%)]\tLoss: 37.379749\n",
      "Train Epoch: 49 [2560/4000 (64%)]\tLoss: 35.841042\n",
      "Train Epoch: 49 [3840/4000 (96%)]\tLoss: 37.430756\n",
      "====> Epoch: 49 Average loss: 36.9142\n",
      "====> Test set loss: 30.5727\n",
      "Train Epoch: 50 [0/4000 (0%)]\tLoss: 37.110191\n",
      "Train Epoch: 50 [1280/4000 (32%)]\tLoss: 37.940578\n",
      "Train Epoch: 50 [2560/4000 (64%)]\tLoss: 37.048847\n",
      "Train Epoch: 50 [3840/4000 (96%)]\tLoss: 37.101440\n",
      "====> Epoch: 50 Average loss: 37.0909\n",
      "====> Test set loss: 30.5599\n"
     ]
    }
   ],
   "source": [
    "for epoch in range(1, n_epochs + 1):\n",
    "    train_pre_trained(train_data, vae_gumbel_with_pre, vae_gumbel_with_pre_optimizer, \n",
    "                      epoch, pretrain_vae, batch_size)\n",
    "    test(test_data, vae_gumbel_with_pre, epoch, batch_size)"
   ]
  },
  {
   "cell_type": "code",
   "execution_count": 44,
   "metadata": {},
   "outputs": [
    {
     "name": "stdout",
     "output_type": "stream",
     "text": [
      "Test Loss\n",
      "tensor(0.4989, device='cuda:0')\n"
     ]
    }
   ],
   "source": [
    "with torch.no_grad():\n",
    "    print(\"Test Loss\")\n",
    "    print(F.binary_cross_entropy(vae_gumbel_with_pre(test_data)[0], test_data))"
   ]
  },
  {
   "cell_type": "markdown",
   "metadata": {},
   "source": [
    "Means"
   ]
  },
  {
   "cell_type": "code",
   "execution_count": 45,
   "metadata": {},
   "outputs": [
    {
     "data": {
      "text/plain": [
       "tensor([0.0978, 0.3031, 0.1394, 0.2099, 0.2063, 0.2098, 0.1076, 0.2316, 0.0298,\n",
       "        0.1968, 0.0261, 0.0561, 0.0848, 0.2727, 0.2320, 0.3355, 0.2739, 0.0056,\n",
       "        0.0301, 0.0953, 0.0889, 0.2483, 0.0063, 0.0231, 0.0009, 0.0924, 0.4782,\n",
       "        0.3251, 0.2092, 0.2881], device='cuda:0')"
      ]
     },
     "execution_count": 45,
     "metadata": {},
     "output_type": "execute_result"
    }
   ],
   "source": [
    "test_data.mean(dim = 0)[:D]"
   ]
  },
  {
   "cell_type": "code",
   "execution_count": 46,
   "metadata": {},
   "outputs": [
    {
     "data": {
      "text/plain": [
       "tensor([0.0952, 0.2989, 0.1417, 0.2104, 0.2064, 0.2060, 0.0998, 0.2277, 0.0326,\n",
       "        0.2021, 0.0250, 0.0541, 0.0915, 0.2805, 0.2235, 0.3298, 0.2769, 0.0084,\n",
       "        0.0316, 0.0938, 0.0890, 0.2452, 0.0058, 0.0260, 0.0032, 0.0875, 0.4759,\n",
       "        0.3291, 0.2102, 0.2966], device='cuda:0', grad_fn=<SliceBackward>)"
      ]
     },
     "execution_count": 46,
     "metadata": {},
     "output_type": "execute_result"
    }
   ],
   "source": [
    "vae_gumbel_with_pre(test_data)[0].mean(dim = 0)[:D]"
   ]
  },
  {
   "cell_type": "markdown",
   "metadata": {},
   "source": [
    "Deviations"
   ]
  },
  {
   "cell_type": "code",
   "execution_count": 47,
   "metadata": {},
   "outputs": [
    {
     "data": {
      "text/plain": [
       "tensor([0.1913, 0.2338, 0.2076, 0.2199, 0.2306, 0.1890, 0.1805, 0.1945, 0.1051,\n",
       "        0.2321, 0.0976, 0.1389, 0.1652, 0.1922, 0.2341, 0.2330, 0.2048, 0.0390,\n",
       "        0.0929, 0.1692, 0.1755, 0.2236, 0.0499, 0.0923, 0.0152, 0.1863, 0.1593,\n",
       "        0.2244, 0.2096, 0.2350], device='cuda:0')"
      ]
     },
     "execution_count": 47,
     "metadata": {},
     "output_type": "execute_result"
    }
   ],
   "source": [
    "test_data.std(dim = 0)[:D]"
   ]
  },
  {
   "cell_type": "code",
   "execution_count": 48,
   "metadata": {},
   "outputs": [
    {
     "data": {
      "text/plain": [
       "tensor([0.1582, 0.1962, 0.1938, 0.1979, 0.1960, 0.0950, 0.1551, 0.1640, 0.0684,\n",
       "        0.2129, 0.0405, 0.0839, 0.1462, 0.1689, 0.2100, 0.2093, 0.1674, 0.0097,\n",
       "        0.0663, 0.1370, 0.1413, 0.1723, 0.0072, 0.0467, 0.0036, 0.1531, 0.1370,\n",
       "        0.2105, 0.1771, 0.2142], device='cuda:0', grad_fn=<SliceBackward>)"
      ]
     },
     "execution_count": 48,
     "metadata": {},
     "output_type": "execute_result"
    }
   ],
   "source": [
    "vae_gumbel_with_pre(test_data)[0].std(dim = 0)[:D]"
   ]
  },
  {
   "cell_type": "markdown",
   "metadata": {},
   "source": [
    "Values"
   ]
  },
  {
   "cell_type": "code",
   "execution_count": 49,
   "metadata": {},
   "outputs": [
    {
     "data": {
      "text/plain": [
       "tensor([0.0000, 0.5286, 0.0000, 0.0231, 0.6963, 0.3966, 0.0103, 0.2939, 0.0000,\n",
       "        0.3152, 0.0000, 0.0000, 0.0000, 0.0617, 0.4150, 0.6262, 0.2110, 0.0000,\n",
       "        0.0000, 0.0000, 0.0000, 0.6829, 0.0000, 0.0000, 0.0000, 0.0000, 0.3516,\n",
       "        0.0000, 0.6491, 0.4560], device='cuda:0')"
      ]
     },
     "execution_count": 49,
     "metadata": {},
     "output_type": "execute_result"
    }
   ],
   "source": [
    "test_data[samp,:D]"
   ]
  },
  {
   "cell_type": "code",
   "execution_count": 50,
   "metadata": {},
   "outputs": [
    {
     "data": {
      "text/plain": [
       "tensor([0.0036, 0.3848, 0.0125, 0.0872, 0.4108, 0.2515, 0.0508, 0.2489, 0.0047,\n",
       "        0.1727, 0.0030, 0.0104, 0.0376, 0.1713, 0.3161, 0.4981, 0.2082, 0.0111,\n",
       "        0.0056, 0.0140, 0.0380, 0.4384, 0.0068, 0.0056, 0.0024, 0.0459, 0.3856,\n",
       "        0.1690, 0.3979, 0.3343], device='cuda:0', grad_fn=<SliceBackward>)"
      ]
     },
     "execution_count": 50,
     "metadata": {},
     "output_type": "execute_result"
    }
   ],
   "source": [
    "vae_gumbel_with_pre(test_data)[0][samp, :D]"
   ]
  },
  {
   "cell_type": "code",
   "execution_count": 51,
   "metadata": {},
   "outputs": [],
   "source": [
    "with torch.no_grad():\n",
    "    w = vae_gumbel_with_pre.weight_creator(test_data[0:2, :])\n",
    "    subset_indices = sample_subset(w, k=3*z_size, t=0.1).cpu()"
   ]
  },
  {
   "cell_type": "code",
   "execution_count": 52,
   "metadata": {},
   "outputs": [
    {
     "data": {
      "text/plain": [
       "tensor([[ 4, 10, 54,  3,  1, 19,  7, 28, 58, 30, 20, 27, 23, 53, 21],\n",
       "        [31, 54, 14,  4, 25, 28,  6,  1,  3, 32,  7, 46, 21, 16, 27]])"
      ]
     },
     "execution_count": 52,
     "metadata": {},
     "output_type": "execute_result"
    }
   ],
   "source": [
    "# as long as feature index is lesss than 30, then it isn't picking noise\n",
    "torch.argsort(subset_indices, dim = 1, descending = True)[:, :3 * z_size]"
   ]
  },
  {
   "cell_type": "markdown",
   "metadata": {},
   "source": [
    "**Joint Train**"
   ]
  },
  {
   "cell_type": "code",
   "execution_count": 53,
   "metadata": {},
   "outputs": [],
   "source": [
    "joint_vanilla_vae = VAE(2*D, 100, 20)\n",
    "joint_vanilla_vae.to(device)\n",
    "\n",
    "joint_vae_gumbel = VAE_Gumbel(2*D, 100, 20, k = 3*z_size)\n",
    "joint_vae_gumbel.to(device)\n",
    "\n",
    "joint_optimizer = torch.optim.Adam(list(joint_vanilla_vae.parameters()) + list(joint_vae_gumbel.parameters()), \n",
    "                                                lr=lr, \n",
    "                                                betas = (b1,b2))"
   ]
  },
  {
   "cell_type": "code",
   "execution_count": 54,
   "metadata": {},
   "outputs": [
    {
     "name": "stdout",
     "output_type": "stream",
     "text": [
      "Train Epoch: 1 [0/4000 (0%)]\tLoss: 85.120331\n",
      "Train Epoch: 1 [1280/4000 (32%)]\tLoss: 83.020958\n",
      "Train Epoch: 1 [2560/4000 (64%)]\tLoss: 80.954147\n",
      "Train Epoch: 1 [3840/4000 (96%)]\tLoss: 79.361855\n",
      "====> Epoch: 1 Average loss: 81.9689\n",
      "====> Test set loss: 79.4539\n",
      "Train Epoch: 2 [0/4000 (0%)]\tLoss: 79.080437\n",
      "Train Epoch: 2 [1280/4000 (32%)]\tLoss: 77.663467\n",
      "Train Epoch: 2 [2560/4000 (64%)]\tLoss: 76.020126\n",
      "Train Epoch: 2 [3840/4000 (96%)]\tLoss: 74.630486\n",
      "====> Epoch: 2 Average loss: 76.8986\n",
      "====> Test set loss: 75.8125\n",
      "Train Epoch: 3 [0/4000 (0%)]\tLoss: 74.629433\n",
      "Train Epoch: 3 [1280/4000 (32%)]\tLoss: 73.278839\n",
      "Train Epoch: 3 [2560/4000 (64%)]\tLoss: 70.789421\n",
      "Train Epoch: 3 [3840/4000 (96%)]\tLoss: 70.161156\n",
      "====> Epoch: 3 Average loss: 72.2921\n",
      "====> Test set loss: 77.5574\n",
      "Train Epoch: 4 [0/4000 (0%)]\tLoss: 70.520943\n",
      "Train Epoch: 4 [1280/4000 (32%)]\tLoss: 69.573349\n",
      "Train Epoch: 4 [2560/4000 (64%)]\tLoss: 68.896667\n",
      "Train Epoch: 4 [3840/4000 (96%)]\tLoss: 68.662308\n",
      "====> Epoch: 4 Average loss: 69.1299\n",
      "====> Test set loss: 76.7028\n",
      "Train Epoch: 5 [0/4000 (0%)]\tLoss: 68.870155\n",
      "Train Epoch: 5 [1280/4000 (32%)]\tLoss: 67.649879\n",
      "Train Epoch: 5 [2560/4000 (64%)]\tLoss: 68.348282\n",
      "Train Epoch: 5 [3840/4000 (96%)]\tLoss: 67.160683\n",
      "====> Epoch: 5 Average loss: 67.7588\n",
      "====> Test set loss: 75.5308\n",
      "Train Epoch: 6 [0/4000 (0%)]\tLoss: 67.019279\n",
      "Train Epoch: 6 [1280/4000 (32%)]\tLoss: 67.460571\n",
      "Train Epoch: 6 [2560/4000 (64%)]\tLoss: 67.243752\n",
      "Train Epoch: 6 [3840/4000 (96%)]\tLoss: 66.848442\n",
      "====> Epoch: 6 Average loss: 67.0532\n",
      "====> Test set loss: 74.2383\n",
      "Train Epoch: 7 [0/4000 (0%)]\tLoss: 67.079002\n",
      "Train Epoch: 7 [1280/4000 (32%)]\tLoss: 66.801254\n",
      "Train Epoch: 7 [2560/4000 (64%)]\tLoss: 66.463577\n",
      "Train Epoch: 7 [3840/4000 (96%)]\tLoss: 66.573029\n",
      "====> Epoch: 7 Average loss: 66.6890\n",
      "====> Test set loss: 73.8677\n",
      "Train Epoch: 8 [0/4000 (0%)]\tLoss: 66.033325\n",
      "Train Epoch: 8 [1280/4000 (32%)]\tLoss: 67.008614\n",
      "Train Epoch: 8 [2560/4000 (64%)]\tLoss: 67.191246\n",
      "Train Epoch: 8 [3840/4000 (96%)]\tLoss: 66.821388\n",
      "====> Epoch: 8 Average loss: 66.4315\n",
      "====> Test set loss: 71.9676\n",
      "Train Epoch: 9 [0/4000 (0%)]\tLoss: 67.077827\n",
      "Train Epoch: 9 [1280/4000 (32%)]\tLoss: 66.302277\n",
      "Train Epoch: 9 [2560/4000 (64%)]\tLoss: 65.598946\n",
      "Train Epoch: 9 [3840/4000 (96%)]\tLoss: 66.065842\n",
      "====> Epoch: 9 Average loss: 66.2325\n",
      "====> Test set loss: 70.7316\n",
      "Train Epoch: 10 [0/4000 (0%)]\tLoss: 65.642868\n",
      "Train Epoch: 10 [1280/4000 (32%)]\tLoss: 65.643806\n",
      "Train Epoch: 10 [2560/4000 (64%)]\tLoss: 65.742523\n",
      "Train Epoch: 10 [3840/4000 (96%)]\tLoss: 65.993820\n",
      "====> Epoch: 10 Average loss: 66.1159\n",
      "====> Test set loss: 70.4100\n",
      "Train Epoch: 11 [0/4000 (0%)]\tLoss: 66.209656\n",
      "Train Epoch: 11 [1280/4000 (32%)]\tLoss: 64.953316\n",
      "Train Epoch: 11 [2560/4000 (64%)]\tLoss: 65.943794\n",
      "Train Epoch: 11 [3840/4000 (96%)]\tLoss: 66.302399\n",
      "====> Epoch: 11 Average loss: 66.0022\n",
      "====> Test set loss: 70.3888\n",
      "Train Epoch: 12 [0/4000 (0%)]\tLoss: 66.858665\n",
      "Train Epoch: 12 [1280/4000 (32%)]\tLoss: 65.585823\n",
      "Train Epoch: 12 [2560/4000 (64%)]\tLoss: 66.158653\n",
      "Train Epoch: 12 [3840/4000 (96%)]\tLoss: 65.960205\n",
      "====> Epoch: 12 Average loss: 65.9310\n",
      "====> Test set loss: 70.8123\n",
      "Train Epoch: 13 [0/4000 (0%)]\tLoss: 65.825790\n",
      "Train Epoch: 13 [1280/4000 (32%)]\tLoss: 66.025703\n",
      "Train Epoch: 13 [2560/4000 (64%)]\tLoss: 65.350441\n",
      "Train Epoch: 13 [3840/4000 (96%)]\tLoss: 65.198959\n",
      "====> Epoch: 13 Average loss: 65.8425\n",
      "====> Test set loss: 69.6681\n",
      "Train Epoch: 14 [0/4000 (0%)]\tLoss: 65.330353\n",
      "Train Epoch: 14 [1280/4000 (32%)]\tLoss: 66.463913\n",
      "Train Epoch: 14 [2560/4000 (64%)]\tLoss: 65.913666\n",
      "Train Epoch: 14 [3840/4000 (96%)]\tLoss: 64.938507\n",
      "====> Epoch: 14 Average loss: 65.7635\n",
      "====> Test set loss: 70.0538\n",
      "Train Epoch: 15 [0/4000 (0%)]\tLoss: 65.412621\n",
      "Train Epoch: 15 [1280/4000 (32%)]\tLoss: 65.030045\n",
      "Train Epoch: 15 [2560/4000 (64%)]\tLoss: 66.328560\n",
      "Train Epoch: 15 [3840/4000 (96%)]\tLoss: 65.469902\n",
      "====> Epoch: 15 Average loss: 65.7169\n",
      "====> Test set loss: 69.6493\n",
      "Train Epoch: 16 [0/4000 (0%)]\tLoss: 65.872261\n",
      "Train Epoch: 16 [1280/4000 (32%)]\tLoss: 66.430664\n",
      "Train Epoch: 16 [2560/4000 (64%)]\tLoss: 65.589653\n",
      "Train Epoch: 16 [3840/4000 (96%)]\tLoss: 66.154572\n",
      "====> Epoch: 16 Average loss: 65.6784\n",
      "====> Test set loss: 70.0340\n",
      "Train Epoch: 17 [0/4000 (0%)]\tLoss: 65.568878\n",
      "Train Epoch: 17 [1280/4000 (32%)]\tLoss: 64.930687\n",
      "Train Epoch: 17 [2560/4000 (64%)]\tLoss: 65.702370\n",
      "Train Epoch: 17 [3840/4000 (96%)]\tLoss: 66.113861\n",
      "====> Epoch: 17 Average loss: 65.6184\n",
      "====> Test set loss: 70.4173\n",
      "Train Epoch: 18 [0/4000 (0%)]\tLoss: 65.870804\n",
      "Train Epoch: 18 [1280/4000 (32%)]\tLoss: 65.819801\n",
      "Train Epoch: 18 [2560/4000 (64%)]\tLoss: 64.452682\n",
      "Train Epoch: 18 [3840/4000 (96%)]\tLoss: 65.038269\n",
      "====> Epoch: 18 Average loss: 65.5786\n",
      "====> Test set loss: 70.6464\n",
      "Train Epoch: 19 [0/4000 (0%)]\tLoss: 65.427666\n",
      "Train Epoch: 19 [1280/4000 (32%)]\tLoss: 66.409622\n",
      "Train Epoch: 19 [2560/4000 (64%)]\tLoss: 65.421684\n",
      "Train Epoch: 19 [3840/4000 (96%)]\tLoss: 65.626007\n",
      "====> Epoch: 19 Average loss: 65.4993\n",
      "====> Test set loss: 71.7177\n",
      "Train Epoch: 20 [0/4000 (0%)]\tLoss: 65.730927\n",
      "Train Epoch: 20 [1280/4000 (32%)]\tLoss: 66.581512\n",
      "Train Epoch: 20 [2560/4000 (64%)]\tLoss: 65.286354\n",
      "Train Epoch: 20 [3840/4000 (96%)]\tLoss: 65.407127\n",
      "====> Epoch: 20 Average loss: 65.4497\n",
      "====> Test set loss: 70.9496\n",
      "Train Epoch: 21 [0/4000 (0%)]\tLoss: 65.244766\n",
      "Train Epoch: 21 [1280/4000 (32%)]\tLoss: 65.323105\n",
      "Train Epoch: 21 [2560/4000 (64%)]\tLoss: 66.003639\n",
      "Train Epoch: 21 [3840/4000 (96%)]\tLoss: 65.625351\n",
      "====> Epoch: 21 Average loss: 65.4036\n",
      "====> Test set loss: 70.9505\n",
      "Train Epoch: 22 [0/4000 (0%)]\tLoss: 64.755600\n",
      "Train Epoch: 22 [1280/4000 (32%)]\tLoss: 65.410507\n",
      "Train Epoch: 22 [2560/4000 (64%)]\tLoss: 64.434845\n",
      "Train Epoch: 22 [3840/4000 (96%)]\tLoss: 64.885323\n",
      "====> Epoch: 22 Average loss: 65.3242\n",
      "====> Test set loss: 75.2253\n",
      "Train Epoch: 23 [0/4000 (0%)]\tLoss: 65.269173\n",
      "Train Epoch: 23 [1280/4000 (32%)]\tLoss: 66.075523\n",
      "Train Epoch: 23 [2560/4000 (64%)]\tLoss: 65.243851\n",
      "Train Epoch: 23 [3840/4000 (96%)]\tLoss: 65.600380\n",
      "====> Epoch: 23 Average loss: 65.2668\n",
      "====> Test set loss: 73.9586\n",
      "Train Epoch: 24 [0/4000 (0%)]\tLoss: 65.012154\n",
      "Train Epoch: 24 [1280/4000 (32%)]\tLoss: 66.047707\n",
      "Train Epoch: 24 [2560/4000 (64%)]\tLoss: 64.880890\n",
      "Train Epoch: 24 [3840/4000 (96%)]\tLoss: 64.166130\n",
      "====> Epoch: 24 Average loss: 65.2261\n",
      "====> Test set loss: 73.5859\n",
      "Train Epoch: 25 [0/4000 (0%)]\tLoss: 64.968445\n",
      "Train Epoch: 25 [1280/4000 (32%)]\tLoss: 65.726173\n",
      "Train Epoch: 25 [2560/4000 (64%)]\tLoss: 65.008385\n",
      "Train Epoch: 25 [3840/4000 (96%)]\tLoss: 65.235855\n",
      "====> Epoch: 25 Average loss: 65.1555\n",
      "====> Test set loss: 73.8823\n",
      "Train Epoch: 26 [0/4000 (0%)]\tLoss: 65.461761\n",
      "Train Epoch: 26 [1280/4000 (32%)]\tLoss: 65.247643\n",
      "Train Epoch: 26 [2560/4000 (64%)]\tLoss: 66.449425\n",
      "Train Epoch: 26 [3840/4000 (96%)]\tLoss: 65.314026\n",
      "====> Epoch: 26 Average loss: 65.1168\n",
      "====> Test set loss: 77.4398\n",
      "Train Epoch: 27 [0/4000 (0%)]\tLoss: 65.809090\n",
      "Train Epoch: 27 [1280/4000 (32%)]\tLoss: 65.458664\n",
      "Train Epoch: 27 [2560/4000 (64%)]\tLoss: 66.002693\n",
      "Train Epoch: 27 [3840/4000 (96%)]\tLoss: 64.983391\n",
      "====> Epoch: 27 Average loss: 65.0553\n",
      "====> Test set loss: 72.7579\n",
      "Train Epoch: 28 [0/4000 (0%)]\tLoss: 65.870384\n",
      "Train Epoch: 28 [1280/4000 (32%)]\tLoss: 64.665024\n",
      "Train Epoch: 28 [2560/4000 (64%)]\tLoss: 65.199409\n",
      "Train Epoch: 28 [3840/4000 (96%)]\tLoss: 64.315048\n",
      "====> Epoch: 28 Average loss: 64.9983\n",
      "====> Test set loss: 73.8617\n",
      "Train Epoch: 29 [0/4000 (0%)]\tLoss: 65.110031\n",
      "Train Epoch: 29 [1280/4000 (32%)]\tLoss: 65.458908\n",
      "Train Epoch: 29 [2560/4000 (64%)]\tLoss: 66.157150\n",
      "Train Epoch: 29 [3840/4000 (96%)]\tLoss: 64.014267\n",
      "====> Epoch: 29 Average loss: 64.9655\n",
      "====> Test set loss: 74.9844\n",
      "Train Epoch: 30 [0/4000 (0%)]\tLoss: 64.800980\n",
      "Train Epoch: 30 [1280/4000 (32%)]\tLoss: 64.387314\n",
      "Train Epoch: 30 [2560/4000 (64%)]\tLoss: 64.484421\n",
      "Train Epoch: 30 [3840/4000 (96%)]\tLoss: 64.682220\n",
      "====> Epoch: 30 Average loss: 64.8800\n",
      "====> Test set loss: 76.2075\n",
      "Train Epoch: 31 [0/4000 (0%)]\tLoss: 65.204781\n",
      "Train Epoch: 31 [1280/4000 (32%)]\tLoss: 65.658867\n",
      "Train Epoch: 31 [2560/4000 (64%)]\tLoss: 63.803402\n",
      "Train Epoch: 31 [3840/4000 (96%)]\tLoss: 64.515213\n",
      "====> Epoch: 31 Average loss: 64.8072\n",
      "====> Test set loss: 78.8404\n",
      "Train Epoch: 32 [0/4000 (0%)]\tLoss: 65.716110\n",
      "Train Epoch: 32 [1280/4000 (32%)]\tLoss: 64.623779\n"
     ]
    },
    {
     "name": "stdout",
     "output_type": "stream",
     "text": [
      "Train Epoch: 32 [2560/4000 (64%)]\tLoss: 64.888695\n",
      "Train Epoch: 32 [3840/4000 (96%)]\tLoss: 64.616302\n",
      "====> Epoch: 32 Average loss: 64.7184\n",
      "====> Test set loss: 80.2254\n",
      "Train Epoch: 33 [0/4000 (0%)]\tLoss: 65.033531\n",
      "Train Epoch: 33 [1280/4000 (32%)]\tLoss: 64.216110\n",
      "Train Epoch: 33 [2560/4000 (64%)]\tLoss: 65.966454\n",
      "Train Epoch: 33 [3840/4000 (96%)]\tLoss: 64.526108\n",
      "====> Epoch: 33 Average loss: 64.6671\n",
      "====> Test set loss: 78.1952\n",
      "Train Epoch: 34 [0/4000 (0%)]\tLoss: 64.402298\n",
      "Train Epoch: 34 [1280/4000 (32%)]\tLoss: 64.677193\n",
      "Train Epoch: 34 [2560/4000 (64%)]\tLoss: 65.303062\n",
      "Train Epoch: 34 [3840/4000 (96%)]\tLoss: 65.423096\n",
      "====> Epoch: 34 Average loss: 64.5143\n",
      "====> Test set loss: 83.8939\n",
      "Train Epoch: 35 [0/4000 (0%)]\tLoss: 64.876678\n",
      "Train Epoch: 35 [1280/4000 (32%)]\tLoss: 65.037285\n",
      "Train Epoch: 35 [2560/4000 (64%)]\tLoss: 64.742767\n",
      "Train Epoch: 35 [3840/4000 (96%)]\tLoss: 64.346825\n",
      "====> Epoch: 35 Average loss: 64.4184\n",
      "====> Test set loss: 91.9585\n",
      "Train Epoch: 36 [0/4000 (0%)]\tLoss: 64.564316\n",
      "Train Epoch: 36 [1280/4000 (32%)]\tLoss: 64.665680\n",
      "Train Epoch: 36 [2560/4000 (64%)]\tLoss: 64.275558\n",
      "Train Epoch: 36 [3840/4000 (96%)]\tLoss: 64.832420\n",
      "====> Epoch: 36 Average loss: 64.3278\n",
      "====> Test set loss: 85.7973\n",
      "Train Epoch: 37 [0/4000 (0%)]\tLoss: 64.367378\n",
      "Train Epoch: 37 [1280/4000 (32%)]\tLoss: 64.693970\n",
      "Train Epoch: 37 [2560/4000 (64%)]\tLoss: 64.921509\n",
      "Train Epoch: 37 [3840/4000 (96%)]\tLoss: 63.906216\n",
      "====> Epoch: 37 Average loss: 64.2733\n",
      "====> Test set loss: 88.1185\n",
      "Train Epoch: 38 [0/4000 (0%)]\tLoss: 64.951561\n",
      "Train Epoch: 38 [1280/4000 (32%)]\tLoss: 63.682293\n",
      "Train Epoch: 38 [2560/4000 (64%)]\tLoss: 64.466873\n",
      "Train Epoch: 38 [3840/4000 (96%)]\tLoss: 64.627014\n",
      "====> Epoch: 38 Average loss: 64.2021\n",
      "====> Test set loss: 85.9474\n",
      "Train Epoch: 39 [0/4000 (0%)]\tLoss: 64.832993\n",
      "Train Epoch: 39 [1280/4000 (32%)]\tLoss: 63.775391\n",
      "Train Epoch: 39 [2560/4000 (64%)]\tLoss: 64.050255\n",
      "Train Epoch: 39 [3840/4000 (96%)]\tLoss: 64.514023\n",
      "====> Epoch: 39 Average loss: 64.1281\n",
      "====> Test set loss: 86.8896\n",
      "Train Epoch: 40 [0/4000 (0%)]\tLoss: 63.587822\n",
      "Train Epoch: 40 [1280/4000 (32%)]\tLoss: 64.476250\n",
      "Train Epoch: 40 [2560/4000 (64%)]\tLoss: 63.999409\n",
      "Train Epoch: 40 [3840/4000 (96%)]\tLoss: 63.912823\n",
      "====> Epoch: 40 Average loss: 64.0640\n",
      "====> Test set loss: 84.7211\n",
      "Train Epoch: 41 [0/4000 (0%)]\tLoss: 63.294216\n",
      "Train Epoch: 41 [1280/4000 (32%)]\tLoss: 63.779594\n",
      "Train Epoch: 41 [2560/4000 (64%)]\tLoss: 63.684685\n",
      "Train Epoch: 41 [3840/4000 (96%)]\tLoss: 63.488869\n",
      "====> Epoch: 41 Average loss: 64.0101\n",
      "====> Test set loss: 83.2684\n",
      "Train Epoch: 42 [0/4000 (0%)]\tLoss: 63.409225\n",
      "Train Epoch: 42 [1280/4000 (32%)]\tLoss: 63.597775\n",
      "Train Epoch: 42 [2560/4000 (64%)]\tLoss: 63.812870\n",
      "Train Epoch: 42 [3840/4000 (96%)]\tLoss: 63.821693\n",
      "====> Epoch: 42 Average loss: 63.9834\n",
      "====> Test set loss: 90.7477\n",
      "Train Epoch: 43 [0/4000 (0%)]\tLoss: 63.088356\n",
      "Train Epoch: 43 [1280/4000 (32%)]\tLoss: 63.797413\n",
      "Train Epoch: 43 [2560/4000 (64%)]\tLoss: 62.764374\n",
      "Train Epoch: 43 [3840/4000 (96%)]\tLoss: 63.860630\n",
      "====> Epoch: 43 Average loss: 63.9208\n",
      "====> Test set loss: 84.8181\n",
      "Train Epoch: 44 [0/4000 (0%)]\tLoss: 63.711357\n",
      "Train Epoch: 44 [1280/4000 (32%)]\tLoss: 64.113892\n",
      "Train Epoch: 44 [2560/4000 (64%)]\tLoss: 63.317085\n",
      "Train Epoch: 44 [3840/4000 (96%)]\tLoss: 63.268475\n",
      "====> Epoch: 44 Average loss: 63.8979\n",
      "====> Test set loss: 86.8267\n",
      "Train Epoch: 45 [0/4000 (0%)]\tLoss: 63.329037\n",
      "Train Epoch: 45 [1280/4000 (32%)]\tLoss: 64.768196\n",
      "Train Epoch: 45 [2560/4000 (64%)]\tLoss: 63.941944\n",
      "Train Epoch: 45 [3840/4000 (96%)]\tLoss: 63.889118\n",
      "====> Epoch: 45 Average loss: 63.9246\n",
      "====> Test set loss: 85.3709\n",
      "Train Epoch: 46 [0/4000 (0%)]\tLoss: 64.034927\n",
      "Train Epoch: 46 [1280/4000 (32%)]\tLoss: 64.065956\n",
      "Train Epoch: 46 [2560/4000 (64%)]\tLoss: 63.607323\n",
      "Train Epoch: 46 [3840/4000 (96%)]\tLoss: 64.095634\n",
      "====> Epoch: 46 Average loss: 63.8591\n",
      "====> Test set loss: 85.2010\n",
      "Train Epoch: 47 [0/4000 (0%)]\tLoss: 63.148525\n",
      "Train Epoch: 47 [1280/4000 (32%)]\tLoss: 63.351086\n",
      "Train Epoch: 47 [2560/4000 (64%)]\tLoss: 63.889854\n",
      "Train Epoch: 47 [3840/4000 (96%)]\tLoss: 63.952694\n",
      "====> Epoch: 47 Average loss: 63.8268\n",
      "====> Test set loss: 85.2323\n",
      "Train Epoch: 48 [0/4000 (0%)]\tLoss: 64.006744\n",
      "Train Epoch: 48 [1280/4000 (32%)]\tLoss: 62.834538\n",
      "Train Epoch: 48 [2560/4000 (64%)]\tLoss: 63.809444\n",
      "Train Epoch: 48 [3840/4000 (96%)]\tLoss: 63.265884\n",
      "====> Epoch: 48 Average loss: 63.8268\n",
      "====> Test set loss: 86.3727\n",
      "Train Epoch: 49 [0/4000 (0%)]\tLoss: 63.999229\n",
      "Train Epoch: 49 [1280/4000 (32%)]\tLoss: 64.446915\n",
      "Train Epoch: 49 [2560/4000 (64%)]\tLoss: 63.765244\n",
      "Train Epoch: 49 [3840/4000 (96%)]\tLoss: 63.517433\n",
      "====> Epoch: 49 Average loss: 63.7913\n",
      "====> Test set loss: 83.5573\n",
      "Train Epoch: 50 [0/4000 (0%)]\tLoss: 64.116997\n",
      "Train Epoch: 50 [1280/4000 (32%)]\tLoss: 64.088387\n",
      "Train Epoch: 50 [2560/4000 (64%)]\tLoss: 64.132721\n",
      "Train Epoch: 50 [3840/4000 (96%)]\tLoss: 64.036415\n",
      "====> Epoch: 50 Average loss: 63.7846\n",
      "====> Test set loss: 82.7646\n"
     ]
    }
   ],
   "source": [
    "for epoch in range(1, n_epochs + 1):\n",
    "    train_joint(train_data, joint_vanilla_vae, joint_vae_gumbel, joint_optimizer, epoch, batch_size)\n",
    "    test_joint(test_data, joint_vanilla_vae, joint_vae_gumbel, epoch, batch_size)"
   ]
  },
  {
   "cell_type": "code",
   "execution_count": 55,
   "metadata": {},
   "outputs": [
    {
     "name": "stdout",
     "output_type": "stream",
     "text": [
      "Test Loss\n",
      "tensor(0.5260, device='cuda:0')\n"
     ]
    }
   ],
   "source": [
    "with torch.no_grad():\n",
    "    print(\"Test Loss\")\n",
    "    print(F.binary_cross_entropy(joint_vae_gumbel(test_data)[0], test_data))"
   ]
  },
  {
   "cell_type": "markdown",
   "metadata": {},
   "source": [
    "Means"
   ]
  },
  {
   "cell_type": "code",
   "execution_count": 56,
   "metadata": {},
   "outputs": [
    {
     "data": {
      "text/plain": [
       "tensor([0.0978, 0.3031, 0.1394, 0.2099, 0.2063, 0.2098, 0.1076, 0.2316, 0.0298,\n",
       "        0.1968, 0.0261, 0.0561, 0.0848, 0.2727, 0.2320, 0.3355, 0.2739, 0.0056,\n",
       "        0.0301, 0.0953, 0.0889, 0.2483, 0.0063, 0.0231, 0.0009, 0.0924, 0.4782,\n",
       "        0.3251, 0.2092, 0.2881], device='cuda:0')"
      ]
     },
     "execution_count": 56,
     "metadata": {},
     "output_type": "execute_result"
    }
   ],
   "source": [
    "test_data.mean(dim = 0)[:D]"
   ]
  },
  {
   "cell_type": "code",
   "execution_count": 57,
   "metadata": {},
   "outputs": [
    {
     "data": {
      "text/plain": [
       "tensor([0.0967, 0.3074, 0.1439, 0.2103, 0.2154, 0.2160, 0.1038, 0.2318, 0.0368,\n",
       "        0.2081, 0.0256, 0.0530, 0.0988, 0.2806, 0.2221, 0.3266, 0.2796, 0.0111,\n",
       "        0.0358, 0.1023, 0.0869, 0.2511, 0.0086, 0.0275, 0.0058, 0.0881, 0.4742,\n",
       "        0.3314, 0.2171, 0.2956], device='cuda:0', grad_fn=<SliceBackward>)"
      ]
     },
     "execution_count": 57,
     "metadata": {},
     "output_type": "execute_result"
    }
   ],
   "source": [
    "joint_vae_gumbel(test_data)[0].mean(dim = 0)[:D]"
   ]
  },
  {
   "cell_type": "markdown",
   "metadata": {},
   "source": [
    "Deviations"
   ]
  },
  {
   "cell_type": "code",
   "execution_count": 58,
   "metadata": {},
   "outputs": [
    {
     "data": {
      "text/plain": [
       "tensor([0.1913, 0.2338, 0.2076, 0.2199, 0.2306, 0.1890, 0.1805, 0.1945, 0.1051,\n",
       "        0.2321, 0.0976, 0.1389, 0.1652, 0.1922, 0.2341, 0.2330, 0.2048, 0.0390,\n",
       "        0.0929, 0.1692, 0.1755, 0.2236, 0.0499, 0.0923, 0.0152, 0.1863, 0.1593,\n",
       "        0.2244, 0.2096, 0.2350], device='cuda:0')"
      ]
     },
     "execution_count": 58,
     "metadata": {},
     "output_type": "execute_result"
    }
   ],
   "source": [
    "test_data.std(dim = 0)[:D]"
   ]
  },
  {
   "cell_type": "code",
   "execution_count": 59,
   "metadata": {},
   "outputs": [
    {
     "data": {
      "text/plain": [
       "tensor([0.0352, 0.0423, 0.0907, 0.1022, 0.0288, 0.0402, 0.1274, 0.1182, 0.0396,\n",
       "        0.1329, 0.0187, 0.0539, 0.0739, 0.1255, 0.1855, 0.1602, 0.0281, 0.0109,\n",
       "        0.0186, 0.0299, 0.0880, 0.1090, 0.0096, 0.0145, 0.0059, 0.1265, 0.0483,\n",
       "        0.1183, 0.0780, 0.1779], device='cuda:0', grad_fn=<SliceBackward>)"
      ]
     },
     "execution_count": 59,
     "metadata": {},
     "output_type": "execute_result"
    }
   ],
   "source": [
    "joint_vae_gumbel(test_data)[0].std(dim = 0)[:D]"
   ]
  },
  {
   "cell_type": "markdown",
   "metadata": {},
   "source": [
    "Values"
   ]
  },
  {
   "cell_type": "code",
   "execution_count": 60,
   "metadata": {},
   "outputs": [
    {
     "data": {
      "text/plain": [
       "tensor([0.0000, 0.5286, 0.0000, 0.0231, 0.6963, 0.3966, 0.0103, 0.2939, 0.0000,\n",
       "        0.3152, 0.0000, 0.0000, 0.0000, 0.0617, 0.4150, 0.6262, 0.2110, 0.0000,\n",
       "        0.0000, 0.0000, 0.0000, 0.6829, 0.0000, 0.0000, 0.0000, 0.0000, 0.3516,\n",
       "        0.0000, 0.6491, 0.4560], device='cuda:0')"
      ]
     },
     "execution_count": 60,
     "metadata": {},
     "output_type": "execute_result"
    }
   ],
   "source": [
    "test_data[samp,:D]"
   ]
  },
  {
   "cell_type": "code",
   "execution_count": 61,
   "metadata": {},
   "outputs": [
    {
     "data": {
      "text/plain": [
       "tensor([0.1005, 0.3697, 0.0888, 0.2939, 0.2604, 0.2632, 0.1520, 0.3305, 0.0683,\n",
       "        0.1272, 0.0525, 0.1012, 0.0634, 0.2336, 0.3295, 0.4207, 0.3195, 0.0291,\n",
       "        0.0738, 0.1620, 0.1530, 0.3479, 0.0185, 0.0526, 0.0151, 0.1193, 0.4787,\n",
       "        0.2654, 0.1946, 0.1838], device='cuda:0', grad_fn=<SliceBackward>)"
      ]
     },
     "execution_count": 61,
     "metadata": {},
     "output_type": "execute_result"
    }
   ],
   "source": [
    "joint_vae_gumbel(test_data)[0][samp, :D]"
   ]
  },
  {
   "cell_type": "code",
   "execution_count": 62,
   "metadata": {},
   "outputs": [],
   "source": [
    "with torch.no_grad():\n",
    "    w = joint_vae_gumbel.weight_creator(test_data[0:2, :])\n",
    "    subset_indices = sample_subset(w, k=3*z_size, t=0.1).cpu()"
   ]
  },
  {
   "cell_type": "code",
   "execution_count": 63,
   "metadata": {},
   "outputs": [
    {
     "data": {
      "text/plain": [
       "tensor([[57, 56, 40,  8, 13, 10,  7,  6, 24, 37, 50, 20, 42,  9, 25],\n",
       "        [ 7, 21, 25, 20, 15, 11,  3,  1,  6, 50, 13,  8, 10, 39, 33]])"
      ]
     },
     "execution_count": 63,
     "metadata": {},
     "output_type": "execute_result"
    }
   ],
   "source": [
    "torch.argsort(subset_indices, dim = 1, descending = True)[:, :3 * z_size]"
   ]
  },
  {
   "cell_type": "markdown",
   "metadata": {},
   "source": [
    "Joint Training while selecting exactly z_size. Why does it pick the noise variables?"
   ]
  },
  {
   "cell_type": "code",
   "execution_count": 64,
   "metadata": {},
   "outputs": [],
   "source": [
    "joint_vanilla_vae = VAE(2*D, 100, 20)\n",
    "joint_vanilla_vae.to(device)\n",
    "\n",
    "joint_vae_gumbel = VAE_Gumbel(2*D, 100, 20, k = z_size)\n",
    "joint_vae_gumbel.to(device)\n",
    "\n",
    "joint_optimizer = torch.optim.Adam(list(joint_vanilla_vae.parameters()) + list(joint_vae_gumbel.parameters()), \n",
    "                                                lr=lr, \n",
    "                                                betas = (b1,b2))"
   ]
  },
  {
   "cell_type": "code",
   "execution_count": 65,
   "metadata": {},
   "outputs": [
    {
     "name": "stdout",
     "output_type": "stream",
     "text": [
      "Train Epoch: 1 [0/4000 (0%)]\tLoss: 84.478943\n",
      "Train Epoch: 1 [1280/4000 (32%)]\tLoss: 81.877838\n",
      "Train Epoch: 1 [2560/4000 (64%)]\tLoss: 79.880386\n",
      "Train Epoch: 1 [3840/4000 (96%)]\tLoss: 78.186386\n",
      "====> Epoch: 1 Average loss: 80.9338\n",
      "====> Test set loss: 78.4697\n",
      "Train Epoch: 2 [0/4000 (0%)]\tLoss: 78.088425\n",
      "Train Epoch: 2 [1280/4000 (32%)]\tLoss: 76.408539\n",
      "Train Epoch: 2 [2560/4000 (64%)]\tLoss: 74.774490\n",
      "Train Epoch: 2 [3840/4000 (96%)]\tLoss: 74.107933\n",
      "====> Epoch: 2 Average loss: 75.8456\n",
      "====> Test set loss: 74.7870\n",
      "Train Epoch: 3 [0/4000 (0%)]\tLoss: 73.678490\n",
      "Train Epoch: 3 [1280/4000 (32%)]\tLoss: 72.635223\n",
      "Train Epoch: 3 [2560/4000 (64%)]\tLoss: 70.574219\n",
      "Train Epoch: 3 [3840/4000 (96%)]\tLoss: 69.879906\n",
      "====> Epoch: 3 Average loss: 71.5512\n",
      "====> Test set loss: 74.8424\n",
      "Train Epoch: 4 [0/4000 (0%)]\tLoss: 69.224770\n",
      "Train Epoch: 4 [1280/4000 (32%)]\tLoss: 68.924301\n",
      "Train Epoch: 4 [2560/4000 (64%)]\tLoss: 68.320763\n",
      "Train Epoch: 4 [3840/4000 (96%)]\tLoss: 68.044418\n",
      "====> Epoch: 4 Average loss: 68.7043\n",
      "====> Test set loss: 72.9656\n",
      "Train Epoch: 5 [0/4000 (0%)]\tLoss: 67.914696\n",
      "Train Epoch: 5 [1280/4000 (32%)]\tLoss: 67.806984\n",
      "Train Epoch: 5 [2560/4000 (64%)]\tLoss: 67.002571\n",
      "Train Epoch: 5 [3840/4000 (96%)]\tLoss: 67.578979\n",
      "====> Epoch: 5 Average loss: 67.4974\n",
      "====> Test set loss: 71.4309\n",
      "Train Epoch: 6 [0/4000 (0%)]\tLoss: 67.280563\n",
      "Train Epoch: 6 [1280/4000 (32%)]\tLoss: 67.348824\n",
      "Train Epoch: 6 [2560/4000 (64%)]\tLoss: 66.944008\n",
      "Train Epoch: 6 [3840/4000 (96%)]\tLoss: 67.180283\n",
      "====> Epoch: 6 Average loss: 66.9083\n",
      "====> Test set loss: 70.7739\n",
      "Train Epoch: 7 [0/4000 (0%)]\tLoss: 65.981758\n",
      "Train Epoch: 7 [1280/4000 (32%)]\tLoss: 66.341148\n",
      "Train Epoch: 7 [2560/4000 (64%)]\tLoss: 66.138199\n",
      "Train Epoch: 7 [3840/4000 (96%)]\tLoss: 66.812286\n",
      "====> Epoch: 7 Average loss: 66.5465\n",
      "====> Test set loss: 70.2124\n",
      "Train Epoch: 8 [0/4000 (0%)]\tLoss: 66.022270\n",
      "Train Epoch: 8 [1280/4000 (32%)]\tLoss: 67.211060\n",
      "Train Epoch: 8 [2560/4000 (64%)]\tLoss: 66.227013\n",
      "Train Epoch: 8 [3840/4000 (96%)]\tLoss: 66.185097\n",
      "====> Epoch: 8 Average loss: 66.3118\n",
      "====> Test set loss: 69.6274\n",
      "Train Epoch: 9 [0/4000 (0%)]\tLoss: 65.742493\n",
      "Train Epoch: 9 [1280/4000 (32%)]\tLoss: 66.378281\n",
      "Train Epoch: 9 [2560/4000 (64%)]\tLoss: 65.968155\n",
      "Train Epoch: 9 [3840/4000 (96%)]\tLoss: 65.922966\n",
      "====> Epoch: 9 Average loss: 66.1446\n",
      "====> Test set loss: 69.2217\n",
      "Train Epoch: 10 [0/4000 (0%)]\tLoss: 65.379486\n",
      "Train Epoch: 10 [1280/4000 (32%)]\tLoss: 65.609177\n",
      "Train Epoch: 10 [2560/4000 (64%)]\tLoss: 67.131668\n",
      "Train Epoch: 10 [3840/4000 (96%)]\tLoss: 65.232025\n",
      "====> Epoch: 10 Average loss: 66.0487\n",
      "====> Test set loss: 69.0091\n",
      "Train Epoch: 11 [0/4000 (0%)]\tLoss: 67.432198\n",
      "Train Epoch: 11 [1280/4000 (32%)]\tLoss: 64.827316\n",
      "Train Epoch: 11 [2560/4000 (64%)]\tLoss: 65.900887\n",
      "Train Epoch: 11 [3840/4000 (96%)]\tLoss: 65.574120\n",
      "====> Epoch: 11 Average loss: 65.9425\n",
      "====> Test set loss: 68.6901\n",
      "Train Epoch: 12 [0/4000 (0%)]\tLoss: 65.381592\n",
      "Train Epoch: 12 [1280/4000 (32%)]\tLoss: 64.768715\n",
      "Train Epoch: 12 [2560/4000 (64%)]\tLoss: 65.140259\n",
      "Train Epoch: 12 [3840/4000 (96%)]\tLoss: 65.357735\n",
      "====> Epoch: 12 Average loss: 65.8417\n",
      "====> Test set loss: 68.3949\n",
      "Train Epoch: 13 [0/4000 (0%)]\tLoss: 65.972977\n",
      "Train Epoch: 13 [1280/4000 (32%)]\tLoss: 65.717117\n",
      "Train Epoch: 13 [2560/4000 (64%)]\tLoss: 65.733727\n",
      "Train Epoch: 13 [3840/4000 (96%)]\tLoss: 65.015907\n",
      "====> Epoch: 13 Average loss: 65.7615\n",
      "====> Test set loss: 68.9049\n",
      "Train Epoch: 14 [0/4000 (0%)]\tLoss: 65.773338\n",
      "Train Epoch: 14 [1280/4000 (32%)]\tLoss: 65.938942\n",
      "Train Epoch: 14 [2560/4000 (64%)]\tLoss: 65.851608\n",
      "Train Epoch: 14 [3840/4000 (96%)]\tLoss: 65.518074\n",
      "====> Epoch: 14 Average loss: 65.6976\n",
      "====> Test set loss: 68.5675\n",
      "Train Epoch: 15 [0/4000 (0%)]\tLoss: 66.120232\n",
      "Train Epoch: 15 [1280/4000 (32%)]\tLoss: 65.523125\n",
      "Train Epoch: 15 [2560/4000 (64%)]\tLoss: 65.932838\n",
      "Train Epoch: 15 [3840/4000 (96%)]\tLoss: 65.209900\n",
      "====> Epoch: 15 Average loss: 65.6352\n",
      "====> Test set loss: 68.2836\n",
      "Train Epoch: 16 [0/4000 (0%)]\tLoss: 65.543846\n",
      "Train Epoch: 16 [1280/4000 (32%)]\tLoss: 66.358543\n",
      "Train Epoch: 16 [2560/4000 (64%)]\tLoss: 64.224350\n",
      "Train Epoch: 16 [3840/4000 (96%)]\tLoss: 65.815659\n",
      "====> Epoch: 16 Average loss: 65.5707\n",
      "====> Test set loss: 68.5546\n",
      "Train Epoch: 17 [0/4000 (0%)]\tLoss: 65.528656\n",
      "Train Epoch: 17 [1280/4000 (32%)]\tLoss: 66.203041\n",
      "Train Epoch: 17 [2560/4000 (64%)]\tLoss: 65.456360\n",
      "Train Epoch: 17 [3840/4000 (96%)]\tLoss: 64.610939\n",
      "====> Epoch: 17 Average loss: 65.5175\n",
      "====> Test set loss: 68.3558\n",
      "Train Epoch: 18 [0/4000 (0%)]\tLoss: 64.985321\n",
      "Train Epoch: 18 [1280/4000 (32%)]\tLoss: 64.965126\n",
      "Train Epoch: 18 [2560/4000 (64%)]\tLoss: 65.162666\n",
      "Train Epoch: 18 [3840/4000 (96%)]\tLoss: 65.465118\n",
      "====> Epoch: 18 Average loss: 65.4510\n",
      "====> Test set loss: 68.4074\n",
      "Train Epoch: 19 [0/4000 (0%)]\tLoss: 65.648163\n",
      "Train Epoch: 19 [1280/4000 (32%)]\tLoss: 64.753036\n",
      "Train Epoch: 19 [2560/4000 (64%)]\tLoss: 64.667885\n",
      "Train Epoch: 19 [3840/4000 (96%)]\tLoss: 65.555771\n",
      "====> Epoch: 19 Average loss: 65.3893\n",
      "====> Test set loss: 67.8695\n",
      "Train Epoch: 20 [0/4000 (0%)]\tLoss: 65.501755\n",
      "Train Epoch: 20 [1280/4000 (32%)]\tLoss: 65.051888\n",
      "Train Epoch: 20 [2560/4000 (64%)]\tLoss: 65.106125\n",
      "Train Epoch: 20 [3840/4000 (96%)]\tLoss: 66.933014\n",
      "====> Epoch: 20 Average loss: 65.3504\n",
      "====> Test set loss: 67.7665\n",
      "Train Epoch: 21 [0/4000 (0%)]\tLoss: 65.529152\n",
      "Train Epoch: 21 [1280/4000 (32%)]\tLoss: 65.201950\n",
      "Train Epoch: 21 [2560/4000 (64%)]\tLoss: 65.250946\n",
      "Train Epoch: 21 [3840/4000 (96%)]\tLoss: 65.862167\n",
      "====> Epoch: 21 Average loss: 65.3273\n",
      "====> Test set loss: 67.5446\n",
      "Train Epoch: 22 [0/4000 (0%)]\tLoss: 64.886925\n",
      "Train Epoch: 22 [1280/4000 (32%)]\tLoss: 66.026924\n",
      "Train Epoch: 22 [2560/4000 (64%)]\tLoss: 65.426308\n",
      "Train Epoch: 22 [3840/4000 (96%)]\tLoss: 65.249657\n",
      "====> Epoch: 22 Average loss: 65.2664\n",
      "====> Test set loss: 67.7729\n",
      "Train Epoch: 23 [0/4000 (0%)]\tLoss: 65.796982\n",
      "Train Epoch: 23 [1280/4000 (32%)]\tLoss: 65.205658\n",
      "Train Epoch: 23 [2560/4000 (64%)]\tLoss: 64.447769\n",
      "Train Epoch: 23 [3840/4000 (96%)]\tLoss: 65.636322\n",
      "====> Epoch: 23 Average loss: 65.2285\n",
      "====> Test set loss: 67.4143\n",
      "Train Epoch: 24 [0/4000 (0%)]\tLoss: 64.102974\n",
      "Train Epoch: 24 [1280/4000 (32%)]\tLoss: 65.561470\n",
      "Train Epoch: 24 [2560/4000 (64%)]\tLoss: 65.507790\n",
      "Train Epoch: 24 [3840/4000 (96%)]\tLoss: 65.357574\n",
      "====> Epoch: 24 Average loss: 65.1740\n",
      "====> Test set loss: 67.2423\n",
      "Train Epoch: 25 [0/4000 (0%)]\tLoss: 64.595322\n",
      "Train Epoch: 25 [1280/4000 (32%)]\tLoss: 64.666801\n",
      "Train Epoch: 25 [2560/4000 (64%)]\tLoss: 65.735298\n",
      "Train Epoch: 25 [3840/4000 (96%)]\tLoss: 63.946606\n",
      "====> Epoch: 25 Average loss: 65.1500\n",
      "====> Test set loss: 67.4877\n",
      "Train Epoch: 26 [0/4000 (0%)]\tLoss: 65.474503\n",
      "Train Epoch: 26 [1280/4000 (32%)]\tLoss: 65.126686\n",
      "Train Epoch: 26 [2560/4000 (64%)]\tLoss: 65.470306\n",
      "Train Epoch: 26 [3840/4000 (96%)]\tLoss: 64.871918\n",
      "====> Epoch: 26 Average loss: 65.1288\n",
      "====> Test set loss: 67.6765\n",
      "Train Epoch: 27 [0/4000 (0%)]\tLoss: 64.271362\n",
      "Train Epoch: 27 [1280/4000 (32%)]\tLoss: 65.913055\n",
      "Train Epoch: 27 [2560/4000 (64%)]\tLoss: 65.243416\n",
      "Train Epoch: 27 [3840/4000 (96%)]\tLoss: 64.288712\n",
      "====> Epoch: 27 Average loss: 65.0853\n",
      "====> Test set loss: 67.5824\n",
      "Train Epoch: 28 [0/4000 (0%)]\tLoss: 64.796532\n",
      "Train Epoch: 28 [1280/4000 (32%)]\tLoss: 64.478195\n",
      "Train Epoch: 28 [2560/4000 (64%)]\tLoss: 65.644585\n",
      "Train Epoch: 28 [3840/4000 (96%)]\tLoss: 64.471390\n",
      "====> Epoch: 28 Average loss: 65.0546\n",
      "====> Test set loss: 67.2934\n",
      "Train Epoch: 29 [0/4000 (0%)]\tLoss: 65.218544\n",
      "Train Epoch: 29 [1280/4000 (32%)]\tLoss: 64.529701\n",
      "Train Epoch: 29 [2560/4000 (64%)]\tLoss: 65.150551\n",
      "Train Epoch: 29 [3840/4000 (96%)]\tLoss: 65.310928\n",
      "====> Epoch: 29 Average loss: 65.0296\n",
      "====> Test set loss: 67.7171\n",
      "Train Epoch: 30 [0/4000 (0%)]\tLoss: 64.929924\n",
      "Train Epoch: 30 [1280/4000 (32%)]\tLoss: 65.032532\n",
      "Train Epoch: 30 [2560/4000 (64%)]\tLoss: 65.912483\n",
      "Train Epoch: 30 [3840/4000 (96%)]\tLoss: 65.904732\n",
      "====> Epoch: 30 Average loss: 64.9711\n",
      "====> Test set loss: 67.3148\n",
      "Train Epoch: 31 [0/4000 (0%)]\tLoss: 64.569695\n",
      "Train Epoch: 31 [1280/4000 (32%)]\tLoss: 64.725883\n",
      "Train Epoch: 31 [2560/4000 (64%)]\tLoss: 64.408600\n",
      "Train Epoch: 31 [3840/4000 (96%)]\tLoss: 64.970154\n",
      "====> Epoch: 31 Average loss: 64.9526\n",
      "====> Test set loss: 67.9725\n",
      "Train Epoch: 32 [0/4000 (0%)]\tLoss: 65.791122\n",
      "Train Epoch: 32 [1280/4000 (32%)]\tLoss: 64.368843\n"
     ]
    },
    {
     "name": "stdout",
     "output_type": "stream",
     "text": [
      "Train Epoch: 32 [2560/4000 (64%)]\tLoss: 64.756683\n",
      "Train Epoch: 32 [3840/4000 (96%)]\tLoss: 64.941551\n",
      "====> Epoch: 32 Average loss: 64.9359\n",
      "====> Test set loss: 67.5003\n",
      "Train Epoch: 33 [0/4000 (0%)]\tLoss: 65.290535\n",
      "Train Epoch: 33 [1280/4000 (32%)]\tLoss: 65.672798\n",
      "Train Epoch: 33 [2560/4000 (64%)]\tLoss: 64.623581\n",
      "Train Epoch: 33 [3840/4000 (96%)]\tLoss: 63.564552\n",
      "====> Epoch: 33 Average loss: 64.8824\n",
      "====> Test set loss: 67.2242\n",
      "Train Epoch: 34 [0/4000 (0%)]\tLoss: 64.408577\n",
      "Train Epoch: 34 [1280/4000 (32%)]\tLoss: 65.233421\n",
      "Train Epoch: 34 [2560/4000 (64%)]\tLoss: 64.797005\n",
      "Train Epoch: 34 [3840/4000 (96%)]\tLoss: 65.064407\n",
      "====> Epoch: 34 Average loss: 64.8511\n",
      "====> Test set loss: 67.1424\n",
      "Train Epoch: 35 [0/4000 (0%)]\tLoss: 64.721779\n",
      "Train Epoch: 35 [1280/4000 (32%)]\tLoss: 64.455750\n",
      "Train Epoch: 35 [2560/4000 (64%)]\tLoss: 64.802505\n",
      "Train Epoch: 35 [3840/4000 (96%)]\tLoss: 64.632957\n",
      "====> Epoch: 35 Average loss: 64.8258\n",
      "====> Test set loss: 67.1752\n",
      "Train Epoch: 36 [0/4000 (0%)]\tLoss: 64.781677\n",
      "Train Epoch: 36 [1280/4000 (32%)]\tLoss: 64.585129\n",
      "Train Epoch: 36 [2560/4000 (64%)]\tLoss: 64.589554\n",
      "Train Epoch: 36 [3840/4000 (96%)]\tLoss: 64.417587\n",
      "====> Epoch: 36 Average loss: 64.8135\n",
      "====> Test set loss: 67.0715\n",
      "Train Epoch: 37 [0/4000 (0%)]\tLoss: 64.745354\n",
      "Train Epoch: 37 [1280/4000 (32%)]\tLoss: 65.094963\n",
      "Train Epoch: 37 [2560/4000 (64%)]\tLoss: 64.356293\n",
      "Train Epoch: 37 [3840/4000 (96%)]\tLoss: 64.338692\n",
      "====> Epoch: 37 Average loss: 64.7941\n",
      "====> Test set loss: 67.1288\n",
      "Train Epoch: 38 [0/4000 (0%)]\tLoss: 65.894745\n",
      "Train Epoch: 38 [1280/4000 (32%)]\tLoss: 64.607933\n",
      "Train Epoch: 38 [2560/4000 (64%)]\tLoss: 64.172043\n",
      "Train Epoch: 38 [3840/4000 (96%)]\tLoss: 65.162254\n",
      "====> Epoch: 38 Average loss: 64.7812\n",
      "====> Test set loss: 67.0610\n",
      "Train Epoch: 39 [0/4000 (0%)]\tLoss: 64.631165\n",
      "Train Epoch: 39 [1280/4000 (32%)]\tLoss: 64.150810\n",
      "Train Epoch: 39 [2560/4000 (64%)]\tLoss: 63.933880\n",
      "Train Epoch: 39 [3840/4000 (96%)]\tLoss: 64.382927\n",
      "====> Epoch: 39 Average loss: 64.7655\n",
      "====> Test set loss: 67.1198\n",
      "Train Epoch: 40 [0/4000 (0%)]\tLoss: 64.140305\n",
      "Train Epoch: 40 [1280/4000 (32%)]\tLoss: 63.624210\n",
      "Train Epoch: 40 [2560/4000 (64%)]\tLoss: 64.744072\n",
      "Train Epoch: 40 [3840/4000 (96%)]\tLoss: 64.182205\n",
      "====> Epoch: 40 Average loss: 64.7381\n",
      "====> Test set loss: 67.5884\n",
      "Train Epoch: 41 [0/4000 (0%)]\tLoss: 64.358002\n",
      "Train Epoch: 41 [1280/4000 (32%)]\tLoss: 63.901726\n",
      "Train Epoch: 41 [2560/4000 (64%)]\tLoss: 64.144417\n",
      "Train Epoch: 41 [3840/4000 (96%)]\tLoss: 64.553474\n",
      "====> Epoch: 41 Average loss: 64.7302\n",
      "====> Test set loss: 66.8312\n",
      "Train Epoch: 42 [0/4000 (0%)]\tLoss: 64.351852\n",
      "Train Epoch: 42 [1280/4000 (32%)]\tLoss: 64.564690\n",
      "Train Epoch: 42 [2560/4000 (64%)]\tLoss: 64.992592\n",
      "Train Epoch: 42 [3840/4000 (96%)]\tLoss: 64.746719\n",
      "====> Epoch: 42 Average loss: 64.7273\n",
      "====> Test set loss: 67.1401\n",
      "Train Epoch: 43 [0/4000 (0%)]\tLoss: 64.520912\n",
      "Train Epoch: 43 [1280/4000 (32%)]\tLoss: 64.396019\n",
      "Train Epoch: 43 [2560/4000 (64%)]\tLoss: 64.618958\n",
      "Train Epoch: 43 [3840/4000 (96%)]\tLoss: 64.277046\n",
      "====> Epoch: 43 Average loss: 64.7092\n",
      "====> Test set loss: 67.3040\n",
      "Train Epoch: 44 [0/4000 (0%)]\tLoss: 64.174622\n",
      "Train Epoch: 44 [1280/4000 (32%)]\tLoss: 64.628265\n",
      "Train Epoch: 44 [2560/4000 (64%)]\tLoss: 64.204422\n",
      "Train Epoch: 44 [3840/4000 (96%)]\tLoss: 65.086990\n",
      "====> Epoch: 44 Average loss: 64.6874\n",
      "====> Test set loss: 67.5176\n",
      "Train Epoch: 45 [0/4000 (0%)]\tLoss: 65.388062\n",
      "Train Epoch: 45 [1280/4000 (32%)]\tLoss: 63.921562\n",
      "Train Epoch: 45 [2560/4000 (64%)]\tLoss: 64.596359\n",
      "Train Epoch: 45 [3840/4000 (96%)]\tLoss: 63.833035\n",
      "====> Epoch: 45 Average loss: 64.6876\n",
      "====> Test set loss: 67.4682\n",
      "Train Epoch: 46 [0/4000 (0%)]\tLoss: 64.628731\n",
      "Train Epoch: 46 [1280/4000 (32%)]\tLoss: 64.001060\n",
      "Train Epoch: 46 [2560/4000 (64%)]\tLoss: 64.416573\n",
      "Train Epoch: 46 [3840/4000 (96%)]\tLoss: 64.865402\n",
      "====> Epoch: 46 Average loss: 64.6696\n",
      "====> Test set loss: 68.3524\n",
      "Train Epoch: 47 [0/4000 (0%)]\tLoss: 65.166176\n",
      "Train Epoch: 47 [1280/4000 (32%)]\tLoss: 65.174835\n",
      "Train Epoch: 47 [2560/4000 (64%)]\tLoss: 64.427483\n",
      "Train Epoch: 47 [3840/4000 (96%)]\tLoss: 64.784927\n",
      "====> Epoch: 47 Average loss: 64.6618\n",
      "====> Test set loss: 68.8743\n",
      "Train Epoch: 48 [0/4000 (0%)]\tLoss: 65.083313\n",
      "Train Epoch: 48 [1280/4000 (32%)]\tLoss: 64.402618\n",
      "Train Epoch: 48 [2560/4000 (64%)]\tLoss: 64.252785\n",
      "Train Epoch: 48 [3840/4000 (96%)]\tLoss: 65.795982\n",
      "====> Epoch: 48 Average loss: 64.6425\n",
      "====> Test set loss: 68.9186\n",
      "Train Epoch: 49 [0/4000 (0%)]\tLoss: 64.413895\n",
      "Train Epoch: 49 [1280/4000 (32%)]\tLoss: 65.418488\n",
      "Train Epoch: 49 [2560/4000 (64%)]\tLoss: 64.650650\n",
      "Train Epoch: 49 [3840/4000 (96%)]\tLoss: 64.624695\n",
      "====> Epoch: 49 Average loss: 64.6217\n",
      "====> Test set loss: 69.6174\n",
      "Train Epoch: 50 [0/4000 (0%)]\tLoss: 65.455841\n",
      "Train Epoch: 50 [1280/4000 (32%)]\tLoss: 64.447174\n",
      "Train Epoch: 50 [2560/4000 (64%)]\tLoss: 65.077614\n",
      "Train Epoch: 50 [3840/4000 (96%)]\tLoss: 64.651657\n",
      "====> Epoch: 50 Average loss: 64.6142\n",
      "====> Test set loss: 70.3460\n"
     ]
    }
   ],
   "source": [
    "for epoch in range(1, n_epochs + 1):\n",
    "    train_joint(train_data, joint_vanilla_vae, joint_vae_gumbel, joint_optimizer, epoch, batch_size)\n",
    "    test_joint(test_data, joint_vanilla_vae, joint_vae_gumbel, epoch, batch_size)"
   ]
  },
  {
   "cell_type": "code",
   "execution_count": 66,
   "metadata": {},
   "outputs": [
    {
     "name": "stdout",
     "output_type": "stream",
     "text": [
      "Test Loss\n",
      "tensor(0.5364, device='cuda:0')\n"
     ]
    }
   ],
   "source": [
    "with torch.no_grad():\n",
    "    print(\"Test Loss\")\n",
    "    print(F.binary_cross_entropy(joint_vae_gumbel(test_data)[0], test_data))"
   ]
  },
  {
   "cell_type": "markdown",
   "metadata": {},
   "source": [
    "Means"
   ]
  },
  {
   "cell_type": "code",
   "execution_count": 67,
   "metadata": {},
   "outputs": [
    {
     "data": {
      "text/plain": [
       "tensor([0.0978, 0.3031, 0.1394, 0.2099, 0.2063, 0.2098, 0.1076, 0.2316, 0.0298,\n",
       "        0.1968, 0.0261, 0.0561, 0.0848, 0.2727, 0.2320, 0.3355, 0.2739, 0.0056,\n",
       "        0.0301, 0.0953, 0.0889, 0.2483, 0.0063, 0.0231, 0.0009, 0.0924, 0.4782,\n",
       "        0.3251, 0.2092, 0.2881], device='cuda:0')"
      ]
     },
     "execution_count": 67,
     "metadata": {},
     "output_type": "execute_result"
    }
   ],
   "source": [
    "test_data.mean(dim = 0)[:D]"
   ]
  },
  {
   "cell_type": "code",
   "execution_count": 68,
   "metadata": {},
   "outputs": [
    {
     "data": {
      "text/plain": [
       "tensor([0.0975, 0.3006, 0.1469, 0.2061, 0.2143, 0.2091, 0.0950, 0.2251, 0.0322,\n",
       "        0.2164, 0.0268, 0.0494, 0.0996, 0.2896, 0.2137, 0.3202, 0.2812, 0.0122,\n",
       "        0.0336, 0.1001, 0.0814, 0.2440, 0.0090, 0.0279, 0.0081, 0.0785, 0.4761,\n",
       "        0.3386, 0.2208, 0.3097], device='cuda:0', grad_fn=<SliceBackward>)"
      ]
     },
     "execution_count": 68,
     "metadata": {},
     "output_type": "execute_result"
    }
   ],
   "source": [
    "joint_vae_gumbel(test_data)[0].mean(dim = 0)[:D]"
   ]
  },
  {
   "cell_type": "markdown",
   "metadata": {},
   "source": [
    "Deviations"
   ]
  },
  {
   "cell_type": "code",
   "execution_count": 69,
   "metadata": {},
   "outputs": [
    {
     "data": {
      "text/plain": [
       "tensor([0.1913, 0.2338, 0.2076, 0.2199, 0.2306, 0.1890, 0.1805, 0.1945, 0.1051,\n",
       "        0.2321, 0.0976, 0.1389, 0.1652, 0.1922, 0.2341, 0.2330, 0.2048, 0.0390,\n",
       "        0.0929, 0.1692, 0.1755, 0.2236, 0.0499, 0.0923, 0.0152, 0.1863, 0.1593,\n",
       "        0.2244, 0.2096, 0.2350], device='cuda:0')"
      ]
     },
     "execution_count": 69,
     "metadata": {},
     "output_type": "execute_result"
    }
   ],
   "source": [
    "test_data.std(dim = 0)[:D]"
   ]
  },
  {
   "cell_type": "code",
   "execution_count": 70,
   "metadata": {},
   "outputs": [
    {
     "data": {
      "text/plain": [
       "tensor([0.0321, 0.0408, 0.0346, 0.0405, 0.0356, 0.0378, 0.0496, 0.0487, 0.0248,\n",
       "        0.0397, 0.0207, 0.0279, 0.0306, 0.0362, 0.0594, 0.0502, 0.0309, 0.0132,\n",
       "        0.0227, 0.0398, 0.0363, 0.0528, 0.0102, 0.0206, 0.0090, 0.0450, 0.0176,\n",
       "        0.0300, 0.0341, 0.0467], device='cuda:0', grad_fn=<SliceBackward>)"
      ]
     },
     "execution_count": 70,
     "metadata": {},
     "output_type": "execute_result"
    }
   ],
   "source": [
    "joint_vae_gumbel(test_data)[0].std(dim = 0)[:D]"
   ]
  },
  {
   "cell_type": "markdown",
   "metadata": {},
   "source": [
    "Values"
   ]
  },
  {
   "cell_type": "code",
   "execution_count": 71,
   "metadata": {},
   "outputs": [
    {
     "data": {
      "text/plain": [
       "tensor([0.0000, 0.5286, 0.0000, 0.0231, 0.6963, 0.3966, 0.0103, 0.2939, 0.0000,\n",
       "        0.3152, 0.0000, 0.0000, 0.0000, 0.0617, 0.4150, 0.6262, 0.2110, 0.0000,\n",
       "        0.0000, 0.0000, 0.0000, 0.6829, 0.0000, 0.0000, 0.0000, 0.0000, 0.3516,\n",
       "        0.0000, 0.6491, 0.4560], device='cuda:0')"
      ]
     },
     "execution_count": 71,
     "metadata": {},
     "output_type": "execute_result"
    }
   ],
   "source": [
    "test_data[samp,:D]"
   ]
  },
  {
   "cell_type": "code",
   "execution_count": 72,
   "metadata": {},
   "outputs": [
    {
     "data": {
      "text/plain": [
       "tensor([0.0759, 0.3064, 0.1190, 0.1617, 0.1704, 0.1844, 0.0581, 0.2103, 0.0106,\n",
       "        0.2191, 0.0066, 0.0216, 0.0811, 0.2912, 0.1632, 0.2801, 0.2655, 0.0029,\n",
       "        0.0134, 0.0689, 0.0450, 0.1810, 0.0010, 0.0119, 0.0015, 0.0405, 0.4814,\n",
       "        0.3562, 0.1910, 0.3094], device='cuda:0', grad_fn=<SliceBackward>)"
      ]
     },
     "execution_count": 72,
     "metadata": {},
     "output_type": "execute_result"
    }
   ],
   "source": [
    "joint_vae_gumbel(test_data)[0][samp, :D]"
   ]
  },
  {
   "cell_type": "code",
   "execution_count": 73,
   "metadata": {},
   "outputs": [],
   "source": [
    "with torch.no_grad():\n",
    "    w = joint_vae_gumbel.weight_creator(test_data[0:10, :])\n",
    "    subset_indices = sample_subset(w, k=z_size, t=0.1).cpu()"
   ]
  },
  {
   "cell_type": "code",
   "execution_count": 74,
   "metadata": {},
   "outputs": [
    {
     "data": {
      "text/plain": [
       "tensor([[57, 35, 40, 55,  6],\n",
       "        [ 8, 59,  5,  6, 38],\n",
       "        [50, 43,  6, 41, 54],\n",
       "        [59,  6, 25, 21, 50],\n",
       "        [30, 25,  8,  3, 11],\n",
       "        [13, 57, 55, 49, 34],\n",
       "        [52, 50, 33, 55, 44],\n",
       "        [57, 13, 50, 17,  2],\n",
       "        [46, 31, 35, 13, 49],\n",
       "        [ 6,  8, 38, 26, 59]])"
      ]
     },
     "execution_count": 74,
     "metadata": {},
     "output_type": "execute_result"
    }
   ],
   "source": [
    "torch.argsort(subset_indices, dim = 1, descending = True)[:, :z_size]"
   ]
  },
  {
   "cell_type": "markdown",
   "metadata": {},
   "source": [
    "Matching pre trained is actually better here than joint training.\n",
    "The gumbel trick greatly reduces the ability to make predictions. \n",
    "Notice that the standard deviations are not as high as in the original data. Not being able to use a model looking at the full data as an anchor definitely hurts."
   ]
  },
  {
   "cell_type": "code",
   "execution_count": 77,
   "metadata": {},
   "outputs": [],
   "source": []
  },
  {
   "cell_type": "markdown",
   "metadata": {},
   "source": [
    "# Calculation of Loss only over select features\n",
    "What happens if we limit the calculation of the loss to just the first few non-noisy stuff?\n",
    "\n",
    "Not doing joint training here because the calculation of loss is hidden inside utils and cannot modify the indexing so easily."
   ]
  },
  {
   "cell_type": "code",
   "execution_count": 26,
   "metadata": {},
   "outputs": [],
   "source": [
    "def train_truncated_with_gradients(df, model, optimizer, epoch, batch_size, Dim):\n",
    "    model.train()\n",
    "    train_loss = 0\n",
    "    permutations = torch.randperm(df.shape[0])\n",
    "    gradients = torch.zeros(df.shape[1]).to(device)\n",
    "    for i in range(math.ceil(len(df)/batch_size)):\n",
    "        batch_ind = permutations[i * batch_size : (i+1) * batch_size]\n",
    "        batch_data = df[batch_ind, :].clone().to(device)\n",
    "        \n",
    "        \n",
    "        # need to do this twice because deriative with respect to input not implemented in BCE\n",
    "        # so need to switch them up\n",
    "        optimizer.zero_grad()\n",
    "        batch_data.requires_grad_(True)\n",
    "        mu_x, mu_latent, logvar_latent = model(batch_data)\n",
    "        # why clone detach here?\n",
    "        # still want gradient with respect to input, but BCE gradient with respect to target is not defined\n",
    "        # plus we only want to see how input affects mu_x, not the target\n",
    "        loss = loss_function_per_autoencoder(batch_data[:, :Dim].clone().detach(), mu_x[:, :Dim], \n",
    "                                             mu_latent, logvar_latent) \n",
    "        loss.backward(retain_graph=True)\n",
    "\n",
    "        with torch.no_grad():\n",
    "            gradients += torch.sqrt(batch_data.grad ** 2).sum(dim = 0)\n",
    "        # no step\n",
    "        \n",
    "        optimizer.zero_grad()\n",
    "        # do not calculate with respect to \n",
    "        batch_data.requires_grad_(False)\n",
    "        mu_x.requires_grad_(True)\n",
    "        loss = loss_function_per_autoencoder(batch_data[:, :Dim], mu_x[:, :Dim], mu_latent, logvar_latent) \n",
    "        loss.backward()\n",
    "        train_loss += loss.item()\n",
    "        optimizer.step()\n",
    "        \n",
    "        \n",
    "        \n",
    "        if i % log_interval == 0:\n",
    "            print('Train Epoch: {} [{}/{} ({:.0f}%)]\\tLoss: {:.6f}'.format(\n",
    "                epoch, i * len(batch_data), len(df),\n",
    "                100. * i * len(batch_data)/ len(df),\n",
    "                loss.item() / len(batch_data)))\n",
    "\n",
    "    print('====> Epoch: {} Average loss: {:.4f}'.format(\n",
    "          epoch, train_loss / len(df)))\n",
    "    \n",
    "    return gradients\n",
    "    \n",
    "# match pre trained model\n",
    "def train_pre_trained_truncated(df, model, optimizer, epoch, pretrained_model, batch_size, D):\n",
    "    model.train()\n",
    "    train_loss = 0\n",
    "    permutations = torch.randperm(df.shape[0])\n",
    "    for i in range(math.ceil(len(df)/batch_size)):\n",
    "        batch_ind = permutations[i * batch_size : (i+1) * batch_size]\n",
    "        batch_data = df[batch_ind, :].clone()\n",
    "        \n",
    "        batch_data.requires_grad_(True)\n",
    "        \n",
    "        optimizer.zero_grad()\n",
    "        mu_x, mu_latent, logvar_latent = model(batch_data)\n",
    "        with torch.no_grad():\n",
    "            _, mu_latent_2, logvar_latent_2 = pretrained_model(batch_data)\n",
    "        \n",
    "        loss = loss_function_per_autoencoder(batch_data[:, :D], mu_x[:, :D], mu_latent, logvar_latent)\n",
    "        loss += 10*F.mse_loss(mu_latent, mu_latent_2, reduction = 'sum')\n",
    "        loss.backward()\n",
    "        train_loss += loss.item()\n",
    "        optimizer.step()\n",
    "        \n",
    "        if i % log_interval == 0:\n",
    "            print('Train Epoch: {} [{}/{} ({:.0f}%)]\\tLoss: {:.6f}'.format(\n",
    "                epoch, i * len(batch_data), len(df),\n",
    "                100. * i * len(batch_data)/ len(df),\n",
    "                loss.item() / len(batch_data)))\n",
    "\n",
    "    print('====> Epoch: {} Average loss: {:.4f}'.format(\n",
    "          epoch, train_loss / len(df)))"
   ]
  },
  {
   "cell_type": "code",
   "execution_count": 27,
   "metadata": {},
   "outputs": [],
   "source": [
    "# let's see how it does here\n",
    "vae_gumbel_truncated = VAE_Gumbel(2*D, 100, 20, k = 3*z_size)\n",
    "vae_gumbel_truncated.to(device)\n",
    "vae_gumbel_trunc_optimizer = torch.optim.Adam(vae_gumbel_truncated.parameters(), \n",
    "                                                lr=lr, \n",
    "                                                betas = (b1,b2))"
   ]
  },
  {
   "cell_type": "markdown",
   "metadata": {},
   "source": [
    "Just train a gumbel without matching or joint training to see"
   ]
  },
  {
   "cell_type": "code",
   "execution_count": 28,
   "metadata": {},
   "outputs": [
    {
     "name": "stdout",
     "output_type": "stream",
     "text": [
      "Train Epoch: 1 [0/4000 (0%)]\tLoss: 20.898481\n",
      "Train Epoch: 1 [1280/4000 (32%)]\tLoss: 19.928968\n",
      "Train Epoch: 1 [2560/4000 (64%)]\tLoss: 19.049250\n",
      "Train Epoch: 1 [3840/4000 (96%)]\tLoss: 18.290642\n",
      "====> Epoch: 1 Average loss: 19.4542\n",
      "====> Test set loss: 39.1692\n",
      "Train Epoch: 2 [0/4000 (0%)]\tLoss: 18.124523\n",
      "Train Epoch: 2 [1280/4000 (32%)]\tLoss: 17.402191\n",
      "Train Epoch: 2 [2560/4000 (64%)]\tLoss: 16.026787\n",
      "Train Epoch: 2 [3840/4000 (96%)]\tLoss: 15.008844\n",
      "====> Epoch: 2 Average loss: 16.6336\n",
      "====> Test set loss: 36.2676\n",
      "Train Epoch: 3 [0/4000 (0%)]\tLoss: 14.873109\n",
      "Train Epoch: 3 [1280/4000 (32%)]\tLoss: 14.141089\n",
      "Train Epoch: 3 [2560/4000 (64%)]\tLoss: 13.461892\n",
      "Train Epoch: 3 [3840/4000 (96%)]\tLoss: 13.495072\n",
      "====> Epoch: 3 Average loss: 13.9418\n",
      "====> Test set loss: 35.0281\n",
      "Train Epoch: 4 [0/4000 (0%)]\tLoss: 13.267741\n",
      "Train Epoch: 4 [1280/4000 (32%)]\tLoss: 12.905434\n",
      "Train Epoch: 4 [2560/4000 (64%)]\tLoss: 13.171424\n",
      "Train Epoch: 4 [3840/4000 (96%)]\tLoss: 12.867325\n",
      "====> Epoch: 4 Average loss: 13.1130\n",
      "====> Test set loss: 34.5379\n",
      "Train Epoch: 5 [0/4000 (0%)]\tLoss: 13.128362\n",
      "Train Epoch: 5 [1280/4000 (32%)]\tLoss: 12.697511\n",
      "Train Epoch: 5 [2560/4000 (64%)]\tLoss: 13.054204\n",
      "Train Epoch: 5 [3840/4000 (96%)]\tLoss: 12.477242\n",
      "====> Epoch: 5 Average loss: 12.7828\n",
      "====> Test set loss: 34.2909\n",
      "Train Epoch: 6 [0/4000 (0%)]\tLoss: 12.706622\n",
      "Train Epoch: 6 [1280/4000 (32%)]\tLoss: 12.238554\n",
      "Train Epoch: 6 [2560/4000 (64%)]\tLoss: 12.837653\n",
      "Train Epoch: 6 [3840/4000 (96%)]\tLoss: 12.341600\n",
      "====> Epoch: 6 Average loss: 12.5861\n",
      "====> Test set loss: 34.0988\n",
      "Train Epoch: 7 [0/4000 (0%)]\tLoss: 12.763276\n",
      "Train Epoch: 7 [1280/4000 (32%)]\tLoss: 12.913714\n",
      "Train Epoch: 7 [2560/4000 (64%)]\tLoss: 12.146635\n",
      "Train Epoch: 7 [3840/4000 (96%)]\tLoss: 12.417777\n",
      "====> Epoch: 7 Average loss: 12.4853\n",
      "====> Test set loss: 33.9990\n",
      "Train Epoch: 8 [0/4000 (0%)]\tLoss: 12.525644\n",
      "Train Epoch: 8 [1280/4000 (32%)]\tLoss: 12.667449\n",
      "Train Epoch: 8 [2560/4000 (64%)]\tLoss: 12.169458\n",
      "Train Epoch: 8 [3840/4000 (96%)]\tLoss: 12.394552\n",
      "====> Epoch: 8 Average loss: 12.4046\n",
      "====> Test set loss: 33.9118\n",
      "Train Epoch: 9 [0/4000 (0%)]\tLoss: 12.584126\n",
      "Train Epoch: 9 [1280/4000 (32%)]\tLoss: 12.377527\n",
      "Train Epoch: 9 [2560/4000 (64%)]\tLoss: 12.044291\n",
      "Train Epoch: 9 [3840/4000 (96%)]\tLoss: 12.676594\n",
      "====> Epoch: 9 Average loss: 12.3281\n",
      "====> Test set loss: 33.8716\n",
      "Train Epoch: 10 [0/4000 (0%)]\tLoss: 12.375000\n",
      "Train Epoch: 10 [1280/4000 (32%)]\tLoss: 12.248496\n",
      "Train Epoch: 10 [2560/4000 (64%)]\tLoss: 11.752567\n",
      "Train Epoch: 10 [3840/4000 (96%)]\tLoss: 12.320887\n",
      "====> Epoch: 10 Average loss: 12.2886\n",
      "====> Test set loss: 33.7976\n"
     ]
    }
   ],
   "source": [
    "gradients = torch.zeros(train_data.shape[1]).to(device)\n",
    "for epoch in range(1, n_epochs+1):\n",
    "    grads=train_truncated_with_gradients(train_data, vae_gumbel_truncated, \n",
    "                                         vae_gumbel_trunc_optimizer, epoch, batch_size, Dim = D)\n",
    "    if epoch > 5:\n",
    "        gradients += grads\n",
    "    test(test_data, vae_gumbel_truncated, epoch, batch_size)\n",
    "    \n",
    "gradients = gradients"
   ]
  },
  {
   "cell_type": "code",
   "execution_count": 29,
   "metadata": {},
   "outputs": [
    {
     "data": {
      "text/plain": [
       "<matplotlib.axes._subplots.AxesSubplot at 0x7f5c74fb5550>"
      ]
     },
     "execution_count": 29,
     "metadata": {},
     "output_type": "execute_result"
    },
    {
     "data": {
      "image/png": "[encoded data removed]",
      "text/plain": [
       "<Figure size 432x288 with 2 Axes>"
      ]
     },
     "metadata": {
      "needs_background": "light"
     },
     "output_type": "display_data"
    }
   ],
   "source": [
    "sns.heatmap(gradients.clone().detach().cpu().numpy()[:, np.newaxis])"
   ]
  },
  {
   "cell_type": "code",
   "execution_count": 30,
   "metadata": {},
   "outputs": [
    {
     "data": {
      "text/plain": [
       "tensor([0.0978, 0.3031, 0.1394, 0.2099, 0.2063, 0.2098, 0.1076, 0.2316, 0.0298,\n",
       "        0.1968, 0.0261, 0.0561, 0.0848, 0.2727, 0.2320, 0.3355, 0.2739, 0.0056,\n",
       "        0.0301, 0.0953, 0.0889, 0.2483, 0.0063, 0.0231, 0.0009, 0.0924, 0.4782,\n",
       "        0.3251, 0.2092, 0.2881], device='cuda:0')"
      ]
     },
     "execution_count": 30,
     "metadata": {},
     "output_type": "execute_result"
    }
   ],
   "source": [
    "test_data.mean(dim = 0)[:D]"
   ]
  },
  {
   "cell_type": "code",
   "execution_count": 31,
   "metadata": {},
   "outputs": [
    {
     "data": {
      "text/plain": [
       "tensor([0.1092, 0.3102, 0.1590, 0.2244, 0.2203, 0.2235, 0.1158, 0.2418, 0.0548,\n",
       "        0.2233, 0.0514, 0.0799, 0.1109, 0.2903, 0.2281, 0.3313, 0.2916, 0.0392,\n",
       "        0.0631, 0.1157, 0.1028, 0.2585, 0.0370, 0.0495, 0.0345, 0.1025, 0.4735,\n",
       "        0.3372, 0.2318, 0.3076], device='cuda:0', grad_fn=<SliceBackward>)"
      ]
     },
     "execution_count": 31,
     "metadata": {},
     "output_type": "execute_result"
    }
   ],
   "source": [
    "vae_gumbel_truncated(test_data)[0].mean(dim = 0)[:D]"
   ]
  },
  {
   "cell_type": "code",
   "execution_count": 32,
   "metadata": {},
   "outputs": [
    {
     "data": {
      "text/plain": [
       "tensor([0.1913, 0.2338, 0.2076, 0.2199, 0.2306, 0.1890, 0.1805, 0.1945, 0.1051,\n",
       "        0.2321, 0.0976, 0.1389, 0.1652, 0.1922, 0.2341, 0.2330, 0.2048, 0.0390,\n",
       "        0.0929, 0.1692, 0.1755, 0.2236, 0.0499, 0.0923, 0.0152, 0.1863, 0.1593,\n",
       "        0.2244, 0.2096, 0.2350], device='cuda:0')"
      ]
     },
     "execution_count": 32,
     "metadata": {},
     "output_type": "execute_result"
    }
   ],
   "source": [
    "test_data.std(dim = 0)[:D]"
   ]
  },
  {
   "cell_type": "code",
   "execution_count": 33,
   "metadata": {},
   "outputs": [
    {
     "data": {
      "text/plain": [
       "tensor([0.0473, 0.0384, 0.0520, 0.0631, 0.0463, 0.0494, 0.0489, 0.0506, 0.0409,\n",
       "        0.0569, 0.0389, 0.0513, 0.0500, 0.0375, 0.0457, 0.0416, 0.0484, 0.0369,\n",
       "        0.0451, 0.0478, 0.0505, 0.0509, 0.0311, 0.0371, 0.0308, 0.0505, 0.0220,\n",
       "        0.0297, 0.0537, 0.0394], device='cuda:0', grad_fn=<SliceBackward>)"
      ]
     },
     "execution_count": 33,
     "metadata": {},
     "output_type": "execute_result"
    }
   ],
   "source": [
    "vae_gumbel_truncated(test_data)[0].std(dim = 0)[:D]"
   ]
  },
  {
   "cell_type": "code",
   "execution_count": 34,
   "metadata": {},
   "outputs": [],
   "source": [
    "with torch.no_grad():\n",
    "    w = vae_gumbel_truncated.weight_creator(test_data[0:10, :])\n",
    "    subset_indices = sample_subset(w, k=3*z_size, t=0.0001).cpu()"
   ]
  },
  {
   "cell_type": "code",
   "execution_count": 35,
   "metadata": {},
   "outputs": [
    {
     "data": {
      "text/plain": [
       "<matplotlib.axes._subplots.AxesSubplot at 0x7f5c48488650>"
      ]
     },
     "execution_count": 35,
     "metadata": {},
     "output_type": "execute_result"
    },
    {
     "data": {
      "image/png": "[encoded data removed]",
      "text/plain": [
       "<Figure size 432x288 with 2 Axes>"
      ]
     },
     "metadata": {
      "needs_background": "light"
     },
     "output_type": "display_data"
    }
   ],
   "source": [
    "sns.heatmap(subset_indices.sum(dim = 0).clone().detach().cpu().numpy()[:, np.newaxis])"
   ]
  },
  {
   "cell_type": "code",
   "execution_count": 36,
   "metadata": {},
   "outputs": [
    {
     "data": {
      "text/plain": [
       "tensor([[44, 46, 27, 33, 36, 14, 59, 49, 53, 54, 24,  0, 12, 10,  4],\n",
       "        [48, 10, 20, 46, 25, 14, 13, 12, 50, 22, 21, 28, 54, 32, 52],\n",
       "        [12, 16, 36, 31, 37, 24, 48, 17, 59, 14, 33,  6, 55, 52,  9],\n",
       "        [49, 41, 42, 43, 44,  0, 47, 12, 23, 56, 54, 28, 53, 58, 57],\n",
       "        [40,  9, 54, 20, 46, 59, 28, 53, 21, 58,  8,  7,  2, 30, 27],\n",
       "        [10, 22, 40, 25, 39, 49, 27, 28, 42, 58, 30,  8, 56, 57, 11],\n",
       "        [36, 28, 19, 18, 23,  0, 47, 24, 27, 21,  8,  6, 37, 53, 54],\n",
       "        [33,  9, 44, 15, 14, 40, 51, 39, 45,  7, 30, 32, 27, 37, 19],\n",
       "        [25, 39, 27, 11, 52, 33, 55, 22, 24, 31,  4, 23,  2, 49, 51],\n",
       "        [ 0, 46, 31, 32, 36, 25, 45, 48, 50, 55, 26, 29, 12,  8, 16]])"
      ]
     },
     "execution_count": 36,
     "metadata": {},
     "output_type": "execute_result"
    }
   ],
   "source": [
    "torch.argsort(subset_indices, dim = 1, descending = True)[:, :3*z_size]"
   ]
  },
  {
   "cell_type": "code",
   "execution_count": 37,
   "metadata": {},
   "outputs": [
    {
     "name": "stdout",
     "output_type": "stream",
     "text": [
      "tensor(72.9997)\n",
      "tensor(77.0003)\n"
     ]
    }
   ],
   "source": [
    "print(subset_indices[:, :D].sum())\n",
    "\n",
    "print(subset_indices[:, D:2*D].sum())"
   ]
  },
  {
   "cell_type": "code",
   "execution_count": 38,
   "metadata": {},
   "outputs": [
    {
     "data": {
      "text/plain": [
       "tensor(72, device='cuda:0')"
      ]
     },
     "execution_count": 38,
     "metadata": {},
     "output_type": "execute_result"
    }
   ],
   "source": [
    "torch.sum(w.argsort(descending= True)[:, :3*z_size] < 30)"
   ]
  },
  {
   "cell_type": "markdown",
   "metadata": {},
   "source": [
    "What happens if you run it on all the data? And not truncate the loss to the first D features?"
   ]
  },
  {
   "cell_type": "code",
   "execution_count": 39,
   "metadata": {},
   "outputs": [],
   "source": [
    "# let's see how it does here\n",
    "vae_gumbel_truncated = VAE_Gumbel(2*D, 100, 20, k = 3*z_size)\n",
    "vae_gumbel_truncated.to(device)\n",
    "vae_gumbel_trunc_optimizer = torch.optim.Adam(vae_gumbel_truncated.parameters(), \n",
    "                                                lr=lr, \n",
    "                                                betas = (b1,b2))"
   ]
  },
  {
   "cell_type": "code",
   "execution_count": 40,
   "metadata": {},
   "outputs": [
    {
     "name": "stdout",
     "output_type": "stream",
     "text": [
      "Train Epoch: 1 [0/4000 (0%)]\tLoss: 42.028778\n",
      "Train Epoch: 1 [1280/4000 (32%)]\tLoss: 40.915230\n",
      "Train Epoch: 1 [2560/4000 (64%)]\tLoss: 39.910862\n",
      "Train Epoch: 1 [3840/4000 (96%)]\tLoss: 39.394970\n",
      "====> Epoch: 1 Average loss: 40.4695\n",
      "====> Test set loss: 39.0649\n",
      "Train Epoch: 2 [0/4000 (0%)]\tLoss: 39.088829\n",
      "Train Epoch: 2 [1280/4000 (32%)]\tLoss: 38.240669\n",
      "Train Epoch: 2 [2560/4000 (64%)]\tLoss: 37.056469\n",
      "Train Epoch: 2 [3840/4000 (96%)]\tLoss: 35.996536\n",
      "====> Epoch: 2 Average loss: 37.6893\n",
      "====> Test set loss: 35.8604\n",
      "Train Epoch: 3 [0/4000 (0%)]\tLoss: 35.930138\n",
      "Train Epoch: 3 [1280/4000 (32%)]\tLoss: 34.903442\n",
      "Train Epoch: 3 [2560/4000 (64%)]\tLoss: 34.834145\n",
      "Train Epoch: 3 [3840/4000 (96%)]\tLoss: 34.325855\n",
      "====> Epoch: 3 Average loss: 34.9034\n",
      "====> Test set loss: 34.1504\n",
      "Train Epoch: 4 [0/4000 (0%)]\tLoss: 34.267342\n",
      "Train Epoch: 4 [1280/4000 (32%)]\tLoss: 34.246933\n",
      "Train Epoch: 4 [2560/4000 (64%)]\tLoss: 33.465240\n",
      "Train Epoch: 4 [3840/4000 (96%)]\tLoss: 33.505730\n",
      "====> Epoch: 4 Average loss: 33.9496\n",
      "====> Test set loss: 33.6882\n",
      "Train Epoch: 5 [0/4000 (0%)]\tLoss: 33.564644\n",
      "Train Epoch: 5 [1280/4000 (32%)]\tLoss: 33.386166\n",
      "Train Epoch: 5 [2560/4000 (64%)]\tLoss: 33.632290\n",
      "Train Epoch: 5 [3840/4000 (96%)]\tLoss: 33.638016\n",
      "====> Epoch: 5 Average loss: 33.5579\n",
      "====> Test set loss: 33.4723\n",
      "Train Epoch: 6 [0/4000 (0%)]\tLoss: 33.485138\n",
      "Train Epoch: 6 [1280/4000 (32%)]\tLoss: 33.585220\n",
      "Train Epoch: 6 [2560/4000 (64%)]\tLoss: 33.102207\n",
      "Train Epoch: 6 [3840/4000 (96%)]\tLoss: 33.257530\n",
      "====> Epoch: 6 Average loss: 33.3877\n",
      "====> Test set loss: 33.3086\n",
      "Train Epoch: 7 [0/4000 (0%)]\tLoss: 33.015835\n",
      "Train Epoch: 7 [1280/4000 (32%)]\tLoss: 33.281929\n",
      "Train Epoch: 7 [2560/4000 (64%)]\tLoss: 33.381119\n",
      "Train Epoch: 7 [3840/4000 (96%)]\tLoss: 32.970177\n",
      "====> Epoch: 7 Average loss: 33.2691\n",
      "====> Test set loss: 33.2034\n",
      "Train Epoch: 8 [0/4000 (0%)]\tLoss: 33.040359\n",
      "Train Epoch: 8 [1280/4000 (32%)]\tLoss: 33.359299\n",
      "Train Epoch: 8 [2560/4000 (64%)]\tLoss: 32.975746\n",
      "Train Epoch: 8 [3840/4000 (96%)]\tLoss: 33.223404\n",
      "====> Epoch: 8 Average loss: 33.1554\n",
      "====> Test set loss: 33.0677\n",
      "Train Epoch: 9 [0/4000 (0%)]\tLoss: 32.876152\n",
      "Train Epoch: 9 [1280/4000 (32%)]\tLoss: 33.120911\n",
      "Train Epoch: 9 [2560/4000 (64%)]\tLoss: 33.185116\n",
      "Train Epoch: 9 [3840/4000 (96%)]\tLoss: 33.158360\n",
      "====> Epoch: 9 Average loss: 33.0980\n",
      "====> Test set loss: 33.0538\n",
      "Train Epoch: 10 [0/4000 (0%)]\tLoss: 33.006538\n",
      "Train Epoch: 10 [1280/4000 (32%)]\tLoss: 33.618176\n",
      "Train Epoch: 10 [2560/4000 (64%)]\tLoss: 33.208805\n",
      "Train Epoch: 10 [3840/4000 (96%)]\tLoss: 32.846165\n",
      "====> Epoch: 10 Average loss: 33.0552\n",
      "====> Test set loss: 32.9834\n"
     ]
    }
   ],
   "source": [
    "gradients = torch.zeros(train_data.shape[1]).to(device)\n",
    "for epoch in range(1, n_epochs+1):\n",
    "    grads=train_truncated_with_gradients(train_data, vae_gumbel_truncated, \n",
    "                                         vae_gumbel_trunc_optimizer, epoch, batch_size, Dim = 2*D)\n",
    "    if epoch > 5:\n",
    "        gradients += grads\n",
    "    test(test_data, vae_gumbel_truncated, epoch, batch_size)"
   ]
  },
  {
   "cell_type": "code",
   "execution_count": 41,
   "metadata": {},
   "outputs": [
    {
     "data": {
      "text/plain": [
       "<matplotlib.axes._subplots.AxesSubplot at 0x7f5c48355f10>"
      ]
     },
     "execution_count": 41,
     "metadata": {},
     "output_type": "execute_result"
    },
    {
     "data": {
      "image/png": "[encoded data removed]",
      "text/plain": [
       "<Figure size 432x288 with 2 Axes>"
      ]
     },
     "metadata": {
      "needs_background": "light"
     },
     "output_type": "display_data"
    }
   ],
   "source": [
    "sns.heatmap(gradients.clone().detach().cpu().numpy()[:, np.newaxis])"
   ]
  },
  {
   "cell_type": "code",
   "execution_count": 42,
   "metadata": {},
   "outputs": [
    {
     "data": {
      "text/plain": [
       "tensor([0.0978, 0.3031, 0.1394, 0.2099, 0.2063, 0.2098, 0.1076, 0.2316, 0.0298,\n",
       "        0.1968, 0.0261, 0.0561, 0.0848, 0.2727, 0.2320, 0.3355, 0.2739, 0.0056,\n",
       "        0.0301, 0.0953, 0.0889, 0.2483, 0.0063, 0.0231, 0.0009, 0.0924, 0.4782,\n",
       "        0.3251, 0.2092, 0.2881], device='cuda:0')"
      ]
     },
     "execution_count": 42,
     "metadata": {},
     "output_type": "execute_result"
    }
   ],
   "source": [
    "test_data.mean(dim = 0)[:D]"
   ]
  },
  {
   "cell_type": "code",
   "execution_count": 43,
   "metadata": {},
   "outputs": [
    {
     "data": {
      "text/plain": [
       "tensor([0.1117, 0.3124, 0.1546, 0.2224, 0.2263, 0.2244, 0.1178, 0.2419, 0.0613,\n",
       "        0.2224, 0.0488, 0.0724, 0.1090, 0.2857, 0.2340, 0.3341, 0.2930, 0.0407,\n",
       "        0.0566, 0.1165, 0.1001, 0.2556, 0.0359, 0.0624, 0.0372, 0.1026, 0.4772,\n",
       "        0.3331, 0.2251, 0.3030], device='cuda:0', grad_fn=<SliceBackward>)"
      ]
     },
     "execution_count": 43,
     "metadata": {},
     "output_type": "execute_result"
    }
   ],
   "source": [
    "vae_gumbel_truncated(test_data)[0].mean(dim = 0)[:D]"
   ]
  },
  {
   "cell_type": "code",
   "execution_count": 44,
   "metadata": {},
   "outputs": [
    {
     "data": {
      "text/plain": [
       "tensor([0.1913, 0.2338, 0.2076, 0.2199, 0.2306, 0.1890, 0.1805, 0.1945, 0.1051,\n",
       "        0.2321, 0.0976, 0.1389, 0.1652, 0.1922, 0.2341, 0.2330, 0.2048, 0.0390,\n",
       "        0.0929, 0.1692, 0.1755, 0.2236, 0.0499, 0.0923, 0.0152, 0.1863, 0.1593,\n",
       "        0.2244, 0.2096, 0.2350], device='cuda:0')"
      ]
     },
     "execution_count": 44,
     "metadata": {},
     "output_type": "execute_result"
    }
   ],
   "source": [
    "test_data.std(dim = 0)[:D]"
   ]
  },
  {
   "cell_type": "code",
   "execution_count": 45,
   "metadata": {},
   "outputs": [
    {
     "data": {
      "text/plain": [
       "tensor([0.0505, 0.0445, 0.0496, 0.0526, 0.0504, 0.0454, 0.0481, 0.0426, 0.0387,\n",
       "        0.0542, 0.0390, 0.0442, 0.0484, 0.0392, 0.0436, 0.0365, 0.0444, 0.0337,\n",
       "        0.0407, 0.0490, 0.0481, 0.0379, 0.0336, 0.0435, 0.0325, 0.0502, 0.0217,\n",
       "        0.0353, 0.0468, 0.0361], device='cuda:0', grad_fn=<SliceBackward>)"
      ]
     },
     "execution_count": 45,
     "metadata": {},
     "output_type": "execute_result"
    }
   ],
   "source": [
    "vae_gumbel_truncated(test_data)[0].std(dim = 0)[:D]"
   ]
  },
  {
   "cell_type": "code",
   "execution_count": 46,
   "metadata": {},
   "outputs": [],
   "source": [
    "with torch.no_grad():\n",
    "    w = vae_gumbel_truncated.weight_creator(test_data[0:10, :])\n",
    "    subset_indices = sample_subset(w, k=3*z_size, t=0.0001).cpu()"
   ]
  },
  {
   "cell_type": "code",
   "execution_count": 47,
   "metadata": {},
   "outputs": [
    {
     "data": {
      "text/plain": [
       "<matplotlib.axes._subplots.AxesSubplot at 0x7f5c48485790>"
      ]
     },
     "execution_count": 47,
     "metadata": {},
     "output_type": "execute_result"
    },
    {
     "data": {
      "image/png": "[encoded data removed]",
      "text/plain": [
       "<Figure size 432x288 with 2 Axes>"
      ]
     },
     "metadata": {
      "needs_background": "light"
     },
     "output_type": "display_data"
    }
   ],
   "source": [
    "sns.heatmap(subset_indices.sum(dim = 0).clone().detach().cpu().numpy()[:, np.newaxis])"
   ]
  },
  {
   "cell_type": "code",
   "execution_count": 48,
   "metadata": {},
   "outputs": [
    {
     "data": {
      "text/plain": [
       "tensor([[35, 18, 59, 44, 40, 31, 30,  1, 21,  0, 10,  9,  4,  3, 11],\n",
       "        [12, 31, 39, 23, 41, 43, 46, 47, 14, 33, 51, 52, 54, 57,  4],\n",
       "        [10,  9, 23, 24, 42, 26, 51, 27, 53, 19, 33,  7, 40, 39,  2],\n",
       "        [50, 51, 18, 42, 14, 40, 12, 11, 20, 27, 56, 36, 37, 22, 53],\n",
       "        [17, 51, 18, 42, 15, 14, 27, 11, 21, 40, 57,  4, 31, 33, 30],\n",
       "        [57, 50, 37, 28, 40, 54, 55, 32, 58,  3,  2,  6,  5,  7,  4],\n",
       "        [33, 51, 19, 18,  0, 41, 14, 11, 23, 28,  4, 45, 58, 57, 30],\n",
       "        [22, 28, 46, 16, 49, 12, 52, 36, 10, 33, 21,  2,  8, 31, 39],\n",
       "        [12, 29, 53, 51, 49, 46, 42, 32, 24, 13,  0,  2,  7,  3,  4],\n",
       "        [16, 19, 18, 59, 24, 49, 42, 52, 20, 58,  4,  2, 39, 36, 37]])"
      ]
     },
     "execution_count": 48,
     "metadata": {},
     "output_type": "execute_result"
    }
   ],
   "source": [
    "torch.argsort(subset_indices, dim = 1, descending = True)[:, :3*z_size]"
   ]
  },
  {
   "cell_type": "code",
   "execution_count": 49,
   "metadata": {},
   "outputs": [
    {
     "name": "stdout",
     "output_type": "stream",
     "text": [
      "tensor(75.9792)\n",
      "tensor(74.0208)\n"
     ]
    }
   ],
   "source": [
    "print(subset_indices[:, :D].sum())\n",
    "\n",
    "print(subset_indices[:, D:2*D].sum())"
   ]
  },
  {
   "cell_type": "code",
   "execution_count": 50,
   "metadata": {},
   "outputs": [
    {
     "data": {
      "text/plain": [
       "tensor(80, device='cuda:0')"
      ]
     },
     "execution_count": 50,
     "metadata": {},
     "output_type": "execute_result"
    }
   ],
   "source": [
    "torch.sum(w.argsort(descending= True)[:, :3*z_size] < 30)"
   ]
  },
  {
   "cell_type": "markdown",
   "metadata": {},
   "source": [
    "# How does a normal VAE do?"
   ]
  },
  {
   "cell_type": "markdown",
   "metadata": {},
   "source": [
    "Trying to reconstruct first 30 features only"
   ]
  },
  {
   "cell_type": "code",
   "execution_count": 51,
   "metadata": {},
   "outputs": [],
   "source": [
    "vanilla_vae = VAE(2*D, 100, 20)\n",
    "\n",
    "vanilla_vae.to(device)\n",
    "vanilla_vae_optimizer = torch.optim.Adam(vanilla_vae.parameters(), \n",
    "                                            lr=lr,\n",
    "                                            betas = (b1,b2))"
   ]
  },
  {
   "cell_type": "code",
   "execution_count": 52,
   "metadata": {},
   "outputs": [
    {
     "name": "stdout",
     "output_type": "stream",
     "text": [
      "Train Epoch: 1 [0/4000 (0%)]\tLoss: 21.213346\n",
      "Train Epoch: 1 [1280/4000 (32%)]\tLoss: 20.276854\n",
      "Train Epoch: 1 [2560/4000 (64%)]\tLoss: 19.344076\n",
      "Train Epoch: 1 [3840/4000 (96%)]\tLoss: 18.498720\n",
      "====> Epoch: 1 Average loss: 19.7915\n",
      "====> Test set loss: 39.3484\n",
      "Train Epoch: 2 [0/4000 (0%)]\tLoss: 18.456263\n",
      "Train Epoch: 2 [1280/4000 (32%)]\tLoss: 17.164484\n",
      "Train Epoch: 2 [2560/4000 (64%)]\tLoss: 15.890133\n",
      "Train Epoch: 2 [3840/4000 (96%)]\tLoss: 14.501512\n",
      "====> Epoch: 2 Average loss: 16.4995\n",
      "====> Test set loss: 36.2507\n",
      "Train Epoch: 3 [0/4000 (0%)]\tLoss: 14.773250\n",
      "Train Epoch: 3 [1280/4000 (32%)]\tLoss: 13.784710\n",
      "Train Epoch: 3 [2560/4000 (64%)]\tLoss: 13.811372\n",
      "Train Epoch: 3 [3840/4000 (96%)]\tLoss: 13.806759\n",
      "====> Epoch: 3 Average loss: 13.9482\n",
      "====> Test set loss: 35.1174\n",
      "Train Epoch: 4 [0/4000 (0%)]\tLoss: 13.142475\n",
      "Train Epoch: 4 [1280/4000 (32%)]\tLoss: 13.138114\n",
      "Train Epoch: 4 [2560/4000 (64%)]\tLoss: 12.924956\n",
      "Train Epoch: 4 [3840/4000 (96%)]\tLoss: 12.976542\n",
      "====> Epoch: 4 Average loss: 13.1579\n",
      "====> Test set loss: 34.6179\n",
      "Train Epoch: 5 [0/4000 (0%)]\tLoss: 12.756412\n",
      "Train Epoch: 5 [1280/4000 (32%)]\tLoss: 12.345743\n",
      "Train Epoch: 5 [2560/4000 (64%)]\tLoss: 13.026613\n",
      "Train Epoch: 5 [3840/4000 (96%)]\tLoss: 12.524945\n",
      "====> Epoch: 5 Average loss: 12.7881\n",
      "====> Test set loss: 34.2605\n",
      "Train Epoch: 6 [0/4000 (0%)]\tLoss: 12.716744\n",
      "Train Epoch: 6 [1280/4000 (32%)]\tLoss: 12.429401\n",
      "Train Epoch: 6 [2560/4000 (64%)]\tLoss: 12.454115\n",
      "Train Epoch: 6 [3840/4000 (96%)]\tLoss: 12.009907\n",
      "====> Epoch: 6 Average loss: 12.5590\n",
      "====> Test set loss: 34.1010\n",
      "Train Epoch: 7 [0/4000 (0%)]\tLoss: 12.698843\n",
      "Train Epoch: 7 [1280/4000 (32%)]\tLoss: 12.421752\n",
      "Train Epoch: 7 [2560/4000 (64%)]\tLoss: 12.483682\n",
      "Train Epoch: 7 [3840/4000 (96%)]\tLoss: 11.963717\n",
      "====> Epoch: 7 Average loss: 12.3879\n",
      "====> Test set loss: 33.8407\n",
      "Train Epoch: 8 [0/4000 (0%)]\tLoss: 12.339183\n",
      "Train Epoch: 8 [1280/4000 (32%)]\tLoss: 12.550796\n",
      "Train Epoch: 8 [2560/4000 (64%)]\tLoss: 12.321168\n",
      "Train Epoch: 8 [3840/4000 (96%)]\tLoss: 12.450256\n",
      "====> Epoch: 8 Average loss: 12.2676\n",
      "====> Test set loss: 33.7756\n",
      "Train Epoch: 9 [0/4000 (0%)]\tLoss: 12.633069\n",
      "Train Epoch: 9 [1280/4000 (32%)]\tLoss: 12.031480\n",
      "Train Epoch: 9 [2560/4000 (64%)]\tLoss: 11.850620\n",
      "Train Epoch: 9 [3840/4000 (96%)]\tLoss: 12.413431\n",
      "====> Epoch: 9 Average loss: 12.1889\n",
      "====> Test set loss: 33.6582\n",
      "Train Epoch: 10 [0/4000 (0%)]\tLoss: 12.027069\n",
      "Train Epoch: 10 [1280/4000 (32%)]\tLoss: 11.862024\n",
      "Train Epoch: 10 [2560/4000 (64%)]\tLoss: 12.223186\n",
      "Train Epoch: 10 [3840/4000 (96%)]\tLoss: 11.617983\n",
      "====> Epoch: 10 Average loss: 12.0970\n",
      "====> Test set loss: 33.5823\n"
     ]
    }
   ],
   "source": [
    "gradients = torch.zeros(train_data.shape[1]).to(device)\n",
    "for epoch in range(1, n_epochs+1):\n",
    "    grads=train_truncated_with_gradients(train_data, vanilla_vae, \n",
    "                                         vanilla_vae_optimizer, epoch, batch_size, Dim = D)\n",
    "    if epoch > 5:\n",
    "        gradients += grads\n",
    "    test(test_data, vanilla_vae, epoch, batch_size)"
   ]
  },
  {
   "cell_type": "code",
   "execution_count": 53,
   "metadata": {},
   "outputs": [
    {
     "data": {
      "text/plain": [
       "<matplotlib.axes._subplots.AxesSubplot at 0x7f5c482e0750>"
      ]
     },
     "execution_count": 53,
     "metadata": {},
     "output_type": "execute_result"
    },
    {
     "data": {
      "image/png": "[encoded data removed]",
      "text/plain": [
       "<Figure size 432x288 with 2 Axes>"
      ]
     },
     "metadata": {
      "needs_background": "light"
     },
     "output_type": "display_data"
    }
   ],
   "source": [
    "sns.heatmap(gradients.clone().detach().cpu().numpy()[:, np.newaxis])"
   ]
  },
  {
   "cell_type": "code",
   "execution_count": 54,
   "metadata": {},
   "outputs": [
    {
     "data": {
      "text/plain": [
       "tensor([0.0978, 0.3031, 0.1394, 0.2099, 0.2063, 0.2098, 0.1076, 0.2316, 0.0298,\n",
       "        0.1968, 0.0261, 0.0561, 0.0848, 0.2727, 0.2320, 0.3355, 0.2739, 0.0056,\n",
       "        0.0301, 0.0953, 0.0889, 0.2483, 0.0063, 0.0231, 0.0009, 0.0924, 0.4782,\n",
       "        0.3251, 0.2092, 0.2881], device='cuda:0')"
      ]
     },
     "execution_count": 54,
     "metadata": {},
     "output_type": "execute_result"
    }
   ],
   "source": [
    "test_data.mean(dim = 0)[:D]"
   ]
  },
  {
   "cell_type": "code",
   "execution_count": 55,
   "metadata": {},
   "outputs": [
    {
     "data": {
      "text/plain": [
       "tensor([0.1093, 0.3065, 0.1559, 0.2122, 0.2189, 0.2161, 0.1051, 0.2298, 0.0646,\n",
       "        0.2223, 0.0487, 0.0725, 0.1107, 0.2994, 0.2200, 0.3288, 0.2781, 0.0436,\n",
       "        0.0481, 0.1081, 0.0969, 0.2486, 0.0358, 0.0561, 0.0365, 0.0938, 0.4796,\n",
       "        0.3421, 0.2245, 0.3166], device='cuda:0', grad_fn=<SliceBackward>)"
      ]
     },
     "execution_count": 55,
     "metadata": {},
     "output_type": "execute_result"
    }
   ],
   "source": [
    "vanilla_vae(test_data)[0].mean(dim = 0)[:D]"
   ]
  },
  {
   "cell_type": "code",
   "execution_count": 56,
   "metadata": {},
   "outputs": [
    {
     "data": {
      "text/plain": [
       "tensor([0.1913, 0.2338, 0.2076, 0.2199, 0.2306, 0.1890, 0.1805, 0.1945, 0.1051,\n",
       "        0.2321, 0.0976, 0.1389, 0.1652, 0.1922, 0.2341, 0.2330, 0.2048, 0.0390,\n",
       "        0.0929, 0.1692, 0.1755, 0.2236, 0.0499, 0.0923, 0.0152, 0.1863, 0.1593,\n",
       "        0.2244, 0.2096, 0.2350], device='cuda:0')"
      ]
     },
     "execution_count": 56,
     "metadata": {},
     "output_type": "execute_result"
    }
   ],
   "source": [
    "test_data.std(dim = 0)[:D]"
   ]
  },
  {
   "cell_type": "code",
   "execution_count": 57,
   "metadata": {},
   "outputs": [
    {
     "data": {
      "text/plain": [
       "tensor([0.0733, 0.0475, 0.0694, 0.0722, 0.0665, 0.0721, 0.0719, 0.0769, 0.0611,\n",
       "        0.0558, 0.0497, 0.0675, 0.0667, 0.0465, 0.0771, 0.0640, 0.0520, 0.0466,\n",
       "        0.0468, 0.0687, 0.0650, 0.0743, 0.0426, 0.0530, 0.0434, 0.0701, 0.0274,\n",
       "        0.0452, 0.0483, 0.0362], device='cuda:0', grad_fn=<SliceBackward>)"
      ]
     },
     "execution_count": 57,
     "metadata": {},
     "output_type": "execute_result"
    }
   ],
   "source": [
    "vanilla_vae(test_data)[0].std(dim = 0)[:D]"
   ]
  },
  {
   "cell_type": "markdown",
   "metadata": {},
   "source": [
    "Looking at all dimensions"
   ]
  },
  {
   "cell_type": "code",
   "execution_count": 58,
   "metadata": {},
   "outputs": [],
   "source": [
    "vanilla_vae = VAE(2*D, 100, 20)\n",
    "\n",
    "vanilla_vae.to(device)\n",
    "vanilla_vae_optimizer = torch.optim.Adam(vanilla_vae.parameters(), \n",
    "                                            lr=lr,\n",
    "                                            betas = (b1,b2))"
   ]
  },
  {
   "cell_type": "code",
   "execution_count": 59,
   "metadata": {},
   "outputs": [
    {
     "name": "stdout",
     "output_type": "stream",
     "text": [
      "Train Epoch: 1 [0/4000 (0%)]\tLoss: 41.973228\n",
      "Train Epoch: 1 [1280/4000 (32%)]\tLoss: 41.085449\n",
      "Train Epoch: 1 [2560/4000 (64%)]\tLoss: 40.187717\n",
      "Train Epoch: 1 [3840/4000 (96%)]\tLoss: 39.287830\n",
      "====> Epoch: 1 Average loss: 40.5867\n",
      "====> Test set loss: 39.2181\n",
      "Train Epoch: 2 [0/4000 (0%)]\tLoss: 39.292076\n",
      "Train Epoch: 2 [1280/4000 (32%)]\tLoss: 38.425259\n",
      "Train Epoch: 2 [2560/4000 (64%)]\tLoss: 37.164680\n",
      "Train Epoch: 2 [3840/4000 (96%)]\tLoss: 36.029900\n",
      "====> Epoch: 2 Average loss: 37.7599\n",
      "====> Test set loss: 36.0856\n",
      "Train Epoch: 3 [0/4000 (0%)]\tLoss: 36.332581\n",
      "Train Epoch: 3 [1280/4000 (32%)]\tLoss: 35.325539\n",
      "Train Epoch: 3 [2560/4000 (64%)]\tLoss: 34.929386\n",
      "Train Epoch: 3 [3840/4000 (96%)]\tLoss: 34.419472\n",
      "====> Epoch: 3 Average loss: 35.1425\n",
      "====> Test set loss: 34.4717\n",
      "Train Epoch: 4 [0/4000 (0%)]\tLoss: 34.692886\n",
      "Train Epoch: 4 [1280/4000 (32%)]\tLoss: 34.117592\n",
      "Train Epoch: 4 [2560/4000 (64%)]\tLoss: 33.713638\n",
      "Train Epoch: 4 [3840/4000 (96%)]\tLoss: 33.654694\n",
      "====> Epoch: 4 Average loss: 34.0944\n",
      "====> Test set loss: 33.8044\n",
      "Train Epoch: 5 [0/4000 (0%)]\tLoss: 33.901157\n",
      "Train Epoch: 5 [1280/4000 (32%)]\tLoss: 33.830902\n",
      "Train Epoch: 5 [2560/4000 (64%)]\tLoss: 33.720039\n",
      "Train Epoch: 5 [3840/4000 (96%)]\tLoss: 33.133400\n",
      "====> Epoch: 5 Average loss: 33.6367\n",
      "====> Test set loss: 33.4560\n",
      "Train Epoch: 6 [0/4000 (0%)]\tLoss: 33.693241\n",
      "Train Epoch: 6 [1280/4000 (32%)]\tLoss: 33.343418\n",
      "Train Epoch: 6 [2560/4000 (64%)]\tLoss: 33.421474\n",
      "Train Epoch: 6 [3840/4000 (96%)]\tLoss: 33.178448\n",
      "====> Epoch: 6 Average loss: 33.3628\n",
      "====> Test set loss: 33.2471\n",
      "Train Epoch: 7 [0/4000 (0%)]\tLoss: 33.007824\n",
      "Train Epoch: 7 [1280/4000 (32%)]\tLoss: 33.203304\n",
      "Train Epoch: 7 [2560/4000 (64%)]\tLoss: 32.846340\n",
      "Train Epoch: 7 [3840/4000 (96%)]\tLoss: 33.542393\n",
      "====> Epoch: 7 Average loss: 33.1676\n",
      "====> Test set loss: 33.0630\n",
      "Train Epoch: 8 [0/4000 (0%)]\tLoss: 33.325821\n",
      "Train Epoch: 8 [1280/4000 (32%)]\tLoss: 32.398952\n",
      "Train Epoch: 8 [2560/4000 (64%)]\tLoss: 33.350544\n",
      "Train Epoch: 8 [3840/4000 (96%)]\tLoss: 33.014492\n",
      "====> Epoch: 8 Average loss: 33.0612\n",
      "====> Test set loss: 32.9765\n",
      "Train Epoch: 9 [0/4000 (0%)]\tLoss: 32.790531\n",
      "Train Epoch: 9 [1280/4000 (32%)]\tLoss: 32.727760\n",
      "Train Epoch: 9 [2560/4000 (64%)]\tLoss: 33.234215\n",
      "Train Epoch: 9 [3840/4000 (96%)]\tLoss: 32.502037\n",
      "====> Epoch: 9 Average loss: 32.9719\n",
      "====> Test set loss: 32.8750\n",
      "Train Epoch: 10 [0/4000 (0%)]\tLoss: 32.742924\n",
      "Train Epoch: 10 [1280/4000 (32%)]\tLoss: 32.846191\n",
      "Train Epoch: 10 [2560/4000 (64%)]\tLoss: 33.125343\n",
      "Train Epoch: 10 [3840/4000 (96%)]\tLoss: 32.853436\n",
      "====> Epoch: 10 Average loss: 32.8908\n",
      "====> Test set loss: 32.8300\n"
     ]
    }
   ],
   "source": [
    "gradients = torch.zeros(train_data.shape[1]).to(device)\n",
    "for epoch in range(1, n_epochs+1):\n",
    "    grads=train_truncated_with_gradients(train_data, vanilla_vae, \n",
    "                                         vanilla_vae_optimizer, epoch, batch_size, Dim = 2*D)\n",
    "    if epoch > 5:\n",
    "        gradients += grads\n",
    "    test(test_data, vanilla_vae, epoch, batch_size)"
   ]
  },
  {
   "cell_type": "code",
   "execution_count": 60,
   "metadata": {},
   "outputs": [
    {
     "data": {
      "text/plain": [
       "<matplotlib.axes._subplots.AxesSubplot at 0x7f5c481df590>"
      ]
     },
     "execution_count": 60,
     "metadata": {},
     "output_type": "execute_result"
    },
    {
     "data": {
      "image/png": "[encoded data removed]",
      "text/plain": [
       "<Figure size 432x288 with 2 Axes>"
      ]
     },
     "metadata": {
      "needs_background": "light"
     },
     "output_type": "display_data"
    }
   ],
   "source": [
    "sns.heatmap(gradients.clone().detach().cpu().numpy()[:, np.newaxis])"
   ]
  },
  {
   "cell_type": "code",
   "execution_count": 61,
   "metadata": {},
   "outputs": [
    {
     "data": {
      "text/plain": [
       "tensor([0.0978, 0.3031, 0.1394, 0.2099, 0.2063, 0.2098, 0.1076, 0.2316, 0.0298,\n",
       "        0.1968, 0.0261, 0.0561, 0.0848, 0.2727, 0.2320, 0.3355, 0.2739, 0.0056,\n",
       "        0.0301, 0.0953, 0.0889, 0.2483, 0.0063, 0.0231, 0.0009, 0.0924, 0.4782,\n",
       "        0.3251, 0.2092, 0.2881], device='cuda:0')"
      ]
     },
     "execution_count": 61,
     "metadata": {},
     "output_type": "execute_result"
    }
   ],
   "source": [
    "test_data.mean(dim = 0)[:D]"
   ]
  },
  {
   "cell_type": "code",
   "execution_count": 62,
   "metadata": {},
   "outputs": [
    {
     "data": {
      "text/plain": [
       "tensor([0.1091, 0.3042, 0.1509, 0.2060, 0.2198, 0.2101, 0.1092, 0.2246, 0.0496,\n",
       "        0.2215, 0.0523, 0.0658, 0.1053, 0.2918, 0.2162, 0.3244, 0.2777, 0.0364,\n",
       "        0.0611, 0.1036, 0.0885, 0.2473, 0.0406, 0.0635, 0.0381, 0.0854, 0.4745,\n",
       "        0.3367, 0.2317, 0.3168], device='cuda:0', grad_fn=<SliceBackward>)"
      ]
     },
     "execution_count": 62,
     "metadata": {},
     "output_type": "execute_result"
    }
   ],
   "source": [
    "vanilla_vae(test_data)[0].mean(dim = 0)[:D]"
   ]
  },
  {
   "cell_type": "code",
   "execution_count": 63,
   "metadata": {},
   "outputs": [
    {
     "data": {
      "text/plain": [
       "tensor([0.1913, 0.2338, 0.2076, 0.2199, 0.2306, 0.1890, 0.1805, 0.1945, 0.1051,\n",
       "        0.2321, 0.0976, 0.1389, 0.1652, 0.1922, 0.2341, 0.2330, 0.2048, 0.0390,\n",
       "        0.0929, 0.1692, 0.1755, 0.2236, 0.0499, 0.0923, 0.0152, 0.1863, 0.1593,\n",
       "        0.2244, 0.2096, 0.2350], device='cuda:0')"
      ]
     },
     "execution_count": 63,
     "metadata": {},
     "output_type": "execute_result"
    }
   ],
   "source": [
    "test_data.std(dim = 0)[:D]"
   ]
  },
  {
   "cell_type": "code",
   "execution_count": 64,
   "metadata": {},
   "outputs": [
    {
     "data": {
      "text/plain": [
       "tensor([0.0736, 0.0476, 0.0689, 0.0689, 0.0612, 0.0657, 0.0744, 0.0722, 0.0609,\n",
       "        0.0672, 0.0495, 0.0546, 0.0617, 0.0408, 0.0722, 0.0540, 0.0538, 0.0410,\n",
       "        0.0621, 0.0677, 0.0719, 0.0687, 0.0469, 0.0589, 0.0429, 0.0712, 0.0297,\n",
       "        0.0361, 0.0523, 0.0437], device='cuda:0', grad_fn=<SliceBackward>)"
      ]
     },
     "execution_count": 64,
     "metadata": {},
     "output_type": "execute_result"
    }
   ],
   "source": [
    "vanilla_vae(test_data)[0].std(dim = 0)[:D]"
   ]
  },
  {
   "cell_type": "code",
   "execution_count": null,
   "metadata": {},
   "outputs": [],
   "source": []
  },
  {
   "cell_type": "markdown",
   "metadata": {},
   "source": [
    "The gradients are a few epochs are good for selecting of features as the Gumbel trick. Maybe even better.\n",
    "In fact, a Vanilla VAE is just as good."
   ]
  },
  {
   "cell_type": "code",
   "execution_count": null,
   "metadata": {},
   "outputs": [],
   "source": []
  }
 ],
 "metadata": {
  "kernelspec": {
   "display_name": "Python [conda env:nyu] *",
   "language": "python",
   "name": "conda-env-nyu-py"
  },
  "language_info": {
   "codemirror_mode": {
    "name": "ipython",
    "version": 3
   },
   "file_extension": ".py",
   "mimetype": "text/x-python",
   "name": "python",
   "nbconvert_exporter": "python",
   "pygments_lexer": "ipython3",
   "version": "3.7.6"
  }
 },
 "nbformat": 4,
 "nbformat_minor": 4
}
