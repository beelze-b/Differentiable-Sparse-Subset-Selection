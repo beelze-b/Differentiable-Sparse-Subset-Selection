{
 "cells": [
  {
   "cell_type": "markdown",
   "metadata": {},
   "source": [
    "So we know that Gumbel selects things relatively well. Its effects of Zeisel though are a bit muddled because of reconstruction. Let's do a simple synethetic dataset. Half the features are real. Half the features at noise."
   ]
  },
  {
   "cell_type": "code",
   "execution_count": 1,
   "metadata": {},
   "outputs": [],
   "source": [
    "import torch\n",
    "\n",
    "\n",
    "from torch import nn\n",
    "from torch.autograd import Variable\n",
    "from torch.nn import functional as F\n",
    "\n",
    "import numpy as np\n",
    "\n",
    "import matplotlib.pyplot as plt\n",
    "#from sklearn.manifold import TSNE\n",
    "\n",
    "#import math\n",
    "\n",
    "#import gc\n",
    "\n",
    "from utils import *\n",
    "\n",
    "from sklearn.preprocessing import MinMaxScaler\n",
    "\n",
    "from scipy.stats import pearsonr"
   ]
  },
  {
   "cell_type": "code",
   "execution_count": 2,
   "metadata": {},
   "outputs": [],
   "source": [
    "torch.manual_seed(0)\n",
    "np.random.seed(0)"
   ]
  },
  {
   "cell_type": "code",
   "execution_count": 3,
   "metadata": {},
   "outputs": [],
   "source": [
    "#BASE_PATH_DATA = '../data/'\n",
    "BASE_PATH_DATA = '/scratch/ns3429/sparse-subset/data/'"
   ]
  },
  {
   "cell_type": "code",
   "execution_count": 4,
   "metadata": {},
   "outputs": [],
   "source": [
    "# really good results for vanilla VAE on synthetic data with EPOCHS set to 50, \n",
    "# but when running locally set to 10 for reasonable run times\n",
    "n_epochs = 10\n",
    "#n_epochs = 20\n",
    "batch_size = 64\n",
    "lr = 0.0001\n",
    "b1 = 0.9\n",
    "b2 = 0.999\n",
    "\n",
    "\n",
    "# from running\n",
    "# EPSILON = np.finfo(tf.float32.as_numpy_dtype).tiny\n",
    "#EPSILON = 1.1754944e-38\n",
    "EPSILON = 1e-10"
   ]
  },
  {
   "cell_type": "code",
   "execution_count": 5,
   "metadata": {},
   "outputs": [],
   "source": [
    "cuda = True if torch.cuda.is_available() else False\n",
    "\n",
    "Tensor = torch.cuda.FloatTensor if cuda else torch.FloatTensor\n",
    "\n",
    "device = torch.device(\"cuda:0\" if cuda else \"cpu\")\n",
    "#device = 'cpu'"
   ]
  },
  {
   "cell_type": "code",
   "execution_count": 6,
   "metadata": {},
   "outputs": [
    {
     "name": "stdout",
     "output_type": "stream",
     "text": [
      "Device\n",
      "cuda:0\n"
     ]
    }
   ],
   "source": [
    "print(\"Device\")\n",
    "print(device)"
   ]
  },
  {
   "cell_type": "markdown",
   "metadata": {},
   "source": [
    "Create the data"
   ]
  },
  {
   "cell_type": "code",
   "execution_count": 7,
   "metadata": {},
   "outputs": [],
   "source": [
    "D = 30\n",
    "N = 5000\n",
    "z_size = 5"
   ]
  },
  {
   "cell_type": "code",
   "execution_count": 8,
   "metadata": {},
   "outputs": [],
   "source": [
    "latent_data = np.random.normal(loc=0.0, scale=1.0, size=N*z_size).reshape(N, z_size)"
   ]
  },
  {
   "cell_type": "code",
   "execution_count": 9,
   "metadata": {},
   "outputs": [
    {
     "data": {
      "text/plain": [
       "Sequential(\n",
       "  (0): Linear(in_features=5, out_features=10, bias=False)\n",
       "  (1): Tanh()\n",
       "  (2): Linear(in_features=10, out_features=30, bias=True)\n",
       "  (3): ReLU()\n",
       ")"
      ]
     },
     "execution_count": 9,
     "metadata": {},
     "output_type": "execute_result"
    }
   ],
   "source": [
    "data_mapper = nn.Sequential(\n",
    "    nn.Linear(z_size, 2 * z_size, bias=False),\n",
    "    nn.Tanh(),\n",
    "    nn.Linear(2 * z_size, D, bias = True),\n",
    "    nn.ReLU()\n",
    ").to(device)\n",
    "\n",
    "data_mapper.requires_grad_(False)"
   ]
  },
  {
   "cell_type": "code",
   "execution_count": 10,
   "metadata": {},
   "outputs": [
    {
     "data": {
      "text/plain": [
       "tensor([[ 1.7641,  0.4002,  0.9787,  2.2409,  1.8676],\n",
       "        [-0.9773,  0.9501, -0.1514, -0.1032,  0.4106],\n",
       "        [ 0.1440,  1.4543,  0.7610,  0.1217,  0.4439],\n",
       "        ...,\n",
       "        [ 0.2501, -1.0168,  0.0459,  0.5006,  1.2243],\n",
       "        [-0.5595,  1.5234, -0.5857,  0.8466, -0.1063],\n",
       "        [ 0.7700,  0.7508, -0.5606, -1.7603,  0.4371]], device='cuda:0')"
      ]
     },
     "execution_count": 10,
     "metadata": {},
     "output_type": "execute_result"
    }
   ],
   "source": [
    "latent_data = Tensor(latent_data)\n",
    "latent_data.requires_grad_(False)"
   ]
  },
  {
   "cell_type": "code",
   "execution_count": 11,
   "metadata": {},
   "outputs": [],
   "source": [
    "actual_data = data_mapper(latent_data)"
   ]
  },
  {
   "cell_type": "code",
   "execution_count": 12,
   "metadata": {},
   "outputs": [
    {
     "name": "stdout",
     "output_type": "stream",
     "text": [
      "tensor(19, device='cuda:0')\n",
      "tensor(12, device='cuda:0')\n",
      "tensor(18, device='cuda:0')\n",
      "tensor(14, device='cuda:0')\n",
      "tensor(14, device='cuda:0')\n"
     ]
    }
   ],
   "source": [
    "for i in range(5):\n",
    "    print(torch.sum(actual_data[i,:] != 0))"
   ]
  },
  {
   "cell_type": "markdown",
   "metadata": {},
   "source": [
    "For each sample, half the data is non zero, whereas in zeisel, about 25% if non zero. Easier than Zeisel good."
   ]
  },
  {
   "cell_type": "code",
   "execution_count": 13,
   "metadata": {},
   "outputs": [
    {
     "data": {
      "text/plain": [
       "tensor([[-1.0921e-02, -6.1085e-04, -1.4928e-02,  ..., -1.4309e-02,\n",
       "          1.6859e-02, -1.2177e-02],\n",
       "        [ 7.6496e-03,  1.1971e-02, -2.2414e-02,  ...,  1.0256e-02,\n",
       "         -5.5957e-03,  4.3434e-03],\n",
       "        [ 2.7566e-03,  1.0969e-03,  3.5942e-03,  ...,  6.0039e-03,\n",
       "          8.7524e-04,  7.0365e-03],\n",
       "        ...,\n",
       "        [ 1.8449e-02,  8.3797e-04, -8.9499e-03,  ...,  8.9735e-04,\n",
       "         -1.6982e-03,  7.8153e-03],\n",
       "        [-1.0649e-02, -9.6204e-03, -8.1562e-03,  ..., -2.2612e-04,\n",
       "         -1.4104e-02, -8.2127e-03],\n",
       "        [ 2.1183e-02, -1.1416e-02,  1.8769e-03,  ..., -1.3100e-02,\n",
       "         -6.2333e-03, -4.3646e-05]], device='cuda:0')"
      ]
     },
     "execution_count": 13,
     "metadata": {},
     "output_type": "execute_result"
    }
   ],
   "source": [
    "noise_features = torch.empty(N * D).normal_(mean=0,std=0.01).reshape(N, D).to(device)\n",
    "noise_features.requires_grad_(False)"
   ]
  },
  {
   "cell_type": "code",
   "execution_count": 14,
   "metadata": {},
   "outputs": [],
   "source": [
    "actual_data = torch.cat([actual_data, noise_features], dim = 1)"
   ]
  },
  {
   "cell_type": "code",
   "execution_count": 15,
   "metadata": {},
   "outputs": [
    {
     "data": {
      "text/plain": [
       "torch.Size([5000, 60])"
      ]
     },
     "execution_count": 15,
     "metadata": {},
     "output_type": "execute_result"
    }
   ],
   "source": [
    "actual_data.shape"
   ]
  },
  {
   "cell_type": "code",
   "execution_count": 16,
   "metadata": {},
   "outputs": [],
   "source": [
    "actual_data = actual_data.cpu().numpy()\n",
    "scaler = MinMaxScaler()\n",
    "actual_data = scaler.fit_transform(actual_data)\n",
    "\n",
    "actual_data = Tensor(actual_data)"
   ]
  },
  {
   "cell_type": "code",
   "execution_count": 17,
   "metadata": {},
   "outputs": [
    {
     "data": {
      "text/plain": [
       "tensor([0.1866, 0.2313, 0.2054, 0.2209, 0.2323, 0.1899, 0.1801, 0.1969, 0.1133,\n",
       "        0.2353, 0.0925, 0.1310, 0.1725, 0.1902, 0.2294, 0.2275, 0.2082, 0.0530,\n",
       "        0.0980, 0.1738, 0.1728, 0.2156, 0.0460, 0.0932, 0.0255, 0.1816, 0.1587,\n",
       "        0.2263, 0.2125, 0.2393, 0.1326, 0.1439, 0.1281, 0.1421, 0.1297, 0.1413,\n",
       "        0.1492, 0.1272, 0.1233, 0.1420, 0.1422, 0.1363, 0.1256, 0.1288, 0.1377,\n",
       "        0.1438, 0.1337, 0.1331, 0.1258, 0.1346, 0.1507, 0.1223, 0.1429, 0.1343,\n",
       "        0.1348, 0.1361, 0.1388, 0.1391, 0.1426, 0.1383], device='cuda:0')"
      ]
     },
     "execution_count": 17,
     "metadata": {},
     "output_type": "execute_result"
    }
   ],
   "source": [
    "actual_data.std(dim = 0)"
   ]
  },
  {
   "cell_type": "markdown",
   "metadata": {},
   "source": [
    "Standard deviatiosn are comparable."
   ]
  },
  {
   "cell_type": "code",
   "execution_count": 18,
   "metadata": {},
   "outputs": [
    {
     "data": {
      "text/plain": [
       "torch.return_types.max(\n",
       "values=tensor([1.0000, 1.0000, 1.0000, 1.0000, 1.0000, 1.0000, 1.0000, 1.0000, 1.0000,\n",
       "        1.0000, 1.0000, 1.0000, 1.0000, 1.0000, 1.0000, 1.0000, 1.0000, 1.0000,\n",
       "        1.0000, 1.0000, 1.0000, 1.0000, 1.0000, 1.0000, 1.0000, 1.0000, 1.0000,\n",
       "        1.0000, 1.0000, 1.0000, 1.0000, 1.0000, 1.0000, 1.0000, 1.0000, 1.0000,\n",
       "        1.0000, 1.0000, 1.0000, 1.0000, 1.0000, 1.0000, 1.0000, 1.0000, 1.0000,\n",
       "        1.0000, 1.0000, 1.0000, 1.0000, 1.0000, 1.0000, 1.0000, 1.0000, 1.0000,\n",
       "        1.0000, 1.0000, 1.0000, 1.0000, 1.0000, 1.0000], device='cuda:0'),\n",
       "indices=tensor([ 738, 4262, 1553, 1484, 2220, 1316, 3892, 1316, 3121, 3883, 1838,  623,\n",
       "        1004, 4856,  689, 2033, 2038, 1316, 4515, 4562, 4668,  616,  894, 4515,\n",
       "        1885, 3892, 4615,  819, 4397, 4293,  713, 2220, 3813, 4659, 4389, 3659,\n",
       "         309, 1804,  495, 4790, 3110, 4671,   36,    0, 1215,  148, 4008, 1317,\n",
       "        2503, 1402, 1580, 2684, 4078, 3334, 1376, 2499, 1301, 3114, 4203, 3183],\n",
       "       device='cuda:0'))"
      ]
     },
     "execution_count": 18,
     "metadata": {},
     "output_type": "execute_result"
    }
   ],
   "source": [
    "actual_data.max(dim = 0)"
   ]
  },
  {
   "cell_type": "code",
   "execution_count": 19,
   "metadata": {},
   "outputs": [
    {
     "data": {
      "text/plain": [
       "torch.return_types.min(\n",
       "values=tensor([0., 0., 0., 0., 0., 0., 0., 0., 0., 0., 0., 0., 0., 0., 0., 0., 0., 0., 0., 0., 0., 0., 0., 0.,\n",
       "        0., 0., 0., 0., 0., 0., 0., 0., 0., 0., 0., 0., 0., 0., 0., 0., 0., 0., 0., 0., 0., 0., 0., 0.,\n",
       "        0., 0., 0., 0., 0., 0., 0., 0., 0., 0., 0., 0.], device='cuda:0'),\n",
       "indices=tensor([   1,    8,    0,    1,    0,    5,    1,    1,    1,    0,    1,    1,\n",
       "           0,   13,    3,    3,    1,    0,    0,    1,    1,    8,    0,    0,\n",
       "           0,    1,  254,    4,    0,    0,  454, 3677, 1909, 3750, 3638, 4476,\n",
       "         553, 4105,  289, 1150, 2707, 1846, 3579, 3101,  299, 1324, 3277, 4318,\n",
       "        3023,  967, 2932, 3588,  919, 1190,  271, 2937, 3428, 3955, 2719,  198],\n",
       "       device='cuda:0'))"
      ]
     },
     "execution_count": 19,
     "metadata": {},
     "output_type": "execute_result"
    }
   ],
   "source": [
    "actual_data.min(dim = 0)"
   ]
  },
  {
   "cell_type": "code",
   "execution_count": 20,
   "metadata": {},
   "outputs": [
    {
     "name": "stdout",
     "output_type": "stream",
     "text": [
      "tensor(49, device='cuda:0')\n",
      "tensor(42, device='cuda:0')\n",
      "tensor(48, device='cuda:0')\n",
      "tensor(44, device='cuda:0')\n",
      "tensor(44, device='cuda:0')\n"
     ]
    }
   ],
   "source": [
    "for i in range(5):\n",
    "    print(torch.sum(actual_data[i,:] != 0))"
   ]
  },
  {
   "cell_type": "code",
   "execution_count": 21,
   "metadata": {},
   "outputs": [],
   "source": [
    "slices = np.random.permutation(np.arange(actual_data.shape[0]))\n",
    "upto = int(.8 * len(actual_data))\n",
    "\n",
    "train_data = actual_data[slices[:upto]]\n",
    "test_data = actual_data[slices[upto:]]"
   ]
  },
  {
   "cell_type": "code",
   "execution_count": 22,
   "metadata": {},
   "outputs": [
    {
     "data": {
      "text/plain": [
       "torch.Size([4000, 60])"
      ]
     },
     "execution_count": 22,
     "metadata": {},
     "output_type": "execute_result"
    }
   ],
   "source": [
    "train_data.shape"
   ]
  },
  {
   "cell_type": "code",
   "execution_count": 23,
   "metadata": {},
   "outputs": [
    {
     "data": {
      "text/plain": [
       "torch.Size([1000, 60])"
      ]
     },
     "execution_count": 23,
     "metadata": {},
     "output_type": "execute_result"
    }
   ],
   "source": [
    "test_data.shape"
   ]
  },
  {
   "cell_type": "markdown",
   "metadata": {},
   "source": [
    "Look at correlations"
   ]
  },
  {
   "cell_type": "code",
   "execution_count": 24,
   "metadata": {},
   "outputs": [],
   "source": [
    "def pairwise_correlations(dataset):\n",
    "    cor_df = np.zeros((dataset.shape[1], dataset.shape[1]))\n",
    "    for row in np.arange(dataset.shape[1]):\n",
    "        for col in np.arange(dataset.shape[1]):\n",
    "            cor_df[row, col] = pearsonr(dataset[row], dataset[col])[0]\n",
    "    return cor_df"
   ]
  },
  {
   "cell_type": "code",
   "execution_count": 25,
   "metadata": {},
   "outputs": [
    {
     "name": "stdout",
     "output_type": "stream",
     "text": [
      "16\n",
      "2\n"
     ]
    },
    {
     "data": {
      "image/png": "[encoded data removed]",
      "text/plain": [
       "<Figure size 432x288 with 2 Axes>"
      ]
     },
     "metadata": {
      "needs_background": "light"
     },
     "output_type": "display_data"
    }
   ],
   "source": [
    "actual_data_clone = actual_data.clone().detach().cpu().numpy()\n",
    "\n",
    "pairwise_cor_df = pairwise_correlations(actual_data_clone)\n",
    "\n",
    "import seaborn as sns\n",
    "\n",
    "sns.heatmap(pairwise_cor_df)\n",
    "\n",
    "correlates = []\n",
    "for i in range(2 * D):\n",
    "    one = np.sum(np.abs(pairwise_cor_df[i, :D]))\n",
    "    two = np.sum(np.abs(pairwise_cor_df[i, D:2*D]))\n",
    "    #correlates.append([one, two])\n",
    "    correlates.append(one > two)\n",
    "    \n",
    "# correlation of that feature with the first 30 features and the second 30 features\n",
    "print(np.sum(correlates[:D]))\n",
    "\n",
    "print(np.sum(correlates[D:2*D]))"
   ]
  },
  {
   "cell_type": "markdown",
   "metadata": {},
   "source": [
    "# Now run all of the notebook or just the last part focusing on gumbel vs gradients on truncated (or not) losses"
   ]
  },
  {
   "cell_type": "markdown",
   "metadata": {},
   "source": [
    "Data is all ready. Now time to feed into into a pretraining-matching Gumbel and joint training Gumbel."
   ]
  },
  {
   "cell_type": "markdown",
   "metadata": {},
   "source": [
    "Pre train VAE First"
   ]
  },
  {
   "cell_type": "code",
   "execution_count": 26,
   "metadata": {},
   "outputs": [],
   "source": [
    "pretrain_vae = VAE(2*D, 100, 20)\n",
    "\n",
    "pretrain_vae.to(device)\n",
    "pretrain_vae_optimizer = torch.optim.Adam(pretrain_vae.parameters(), \n",
    "                                            lr=lr,\n",
    "                                            betas = (b1,b2))\n",
    "\n",
    "#pretrain_vae_optimizer = torch.optim.SGD(pretrain_vae.parameters(), \n",
    "#                                            lr=lr, momentum = 0.9)"
   ]
  },
  {
   "cell_type": "code",
   "execution_count": 27,
   "metadata": {},
   "outputs": [
    {
     "name": "stdout",
     "output_type": "stream",
     "text": [
      "Train Epoch: 1 [0/4000 (0%)]\tLoss: 42.017113\n",
      "Train Epoch: 1 [1280/4000 (32%)]\tLoss: 40.903053\n",
      "Train Epoch: 1 [2560/4000 (64%)]\tLoss: 39.910145\n",
      "Train Epoch: 1 [3840/4000 (96%)]\tLoss: 39.210461\n",
      "====> Epoch: 1 Average loss: 40.4244\n",
      "====> Test set loss: 38.9524\n",
      "Train Epoch: 2 [0/4000 (0%)]\tLoss: 38.888924\n",
      "Train Epoch: 2 [1280/4000 (32%)]\tLoss: 38.212513\n",
      "Train Epoch: 2 [2560/4000 (64%)]\tLoss: 36.419609\n",
      "Train Epoch: 2 [3840/4000 (96%)]\tLoss: 35.664536\n",
      "====> Epoch: 2 Average loss: 37.3049\n",
      "====> Test set loss: 35.4656\n",
      "Train Epoch: 3 [0/4000 (0%)]\tLoss: 35.430317\n",
      "Train Epoch: 3 [1280/4000 (32%)]\tLoss: 34.606815\n",
      "Train Epoch: 3 [2560/4000 (64%)]\tLoss: 34.577702\n",
      "Train Epoch: 3 [3840/4000 (96%)]\tLoss: 34.209206\n",
      "====> Epoch: 3 Average loss: 34.6850\n",
      "====> Test set loss: 34.1042\n",
      "Train Epoch: 4 [0/4000 (0%)]\tLoss: 34.345818\n",
      "Train Epoch: 4 [1280/4000 (32%)]\tLoss: 34.207222\n",
      "Train Epoch: 4 [2560/4000 (64%)]\tLoss: 33.563995\n",
      "Train Epoch: 4 [3840/4000 (96%)]\tLoss: 33.908337\n",
      "====> Epoch: 4 Average loss: 33.8812\n",
      "====> Test set loss: 33.6500\n",
      "Train Epoch: 5 [0/4000 (0%)]\tLoss: 33.996525\n",
      "Train Epoch: 5 [1280/4000 (32%)]\tLoss: 33.835045\n",
      "Train Epoch: 5 [2560/4000 (64%)]\tLoss: 33.518723\n",
      "Train Epoch: 5 [3840/4000 (96%)]\tLoss: 33.168392\n",
      "====> Epoch: 5 Average loss: 33.5430\n",
      "====> Test set loss: 33.3353\n",
      "Train Epoch: 6 [0/4000 (0%)]\tLoss: 33.442101\n",
      "Train Epoch: 6 [1280/4000 (32%)]\tLoss: 33.615280\n",
      "Train Epoch: 6 [2560/4000 (64%)]\tLoss: 33.352787\n",
      "Train Epoch: 6 [3840/4000 (96%)]\tLoss: 33.062305\n",
      "====> Epoch: 6 Average loss: 33.3164\n",
      "====> Test set loss: 33.1817\n",
      "Train Epoch: 7 [0/4000 (0%)]\tLoss: 33.309429\n",
      "Train Epoch: 7 [1280/4000 (32%)]\tLoss: 33.084484\n",
      "Train Epoch: 7 [2560/4000 (64%)]\tLoss: 33.366402\n",
      "Train Epoch: 7 [3840/4000 (96%)]\tLoss: 33.056320\n",
      "====> Epoch: 7 Average loss: 33.1319\n",
      "====> Test set loss: 33.0265\n",
      "Train Epoch: 8 [0/4000 (0%)]\tLoss: 33.327454\n",
      "Train Epoch: 8 [1280/4000 (32%)]\tLoss: 33.176674\n",
      "Train Epoch: 8 [2560/4000 (64%)]\tLoss: 33.073765\n",
      "Train Epoch: 8 [3840/4000 (96%)]\tLoss: 32.693161\n",
      "====> Epoch: 8 Average loss: 33.0185\n",
      "====> Test set loss: 32.9396\n",
      "Train Epoch: 9 [0/4000 (0%)]\tLoss: 32.457218\n",
      "Train Epoch: 9 [1280/4000 (32%)]\tLoss: 32.928253\n",
      "Train Epoch: 9 [2560/4000 (64%)]\tLoss: 32.993736\n",
      "Train Epoch: 9 [3840/4000 (96%)]\tLoss: 32.937096\n",
      "====> Epoch: 9 Average loss: 32.9161\n",
      "====> Test set loss: 32.8299\n",
      "Train Epoch: 10 [0/4000 (0%)]\tLoss: 32.924587\n",
      "Train Epoch: 10 [1280/4000 (32%)]\tLoss: 32.558769\n",
      "Train Epoch: 10 [2560/4000 (64%)]\tLoss: 32.684296\n",
      "Train Epoch: 10 [3840/4000 (96%)]\tLoss: 33.207237\n",
      "====> Epoch: 10 Average loss: 32.8035\n",
      "====> Test set loss: 32.6680\n"
     ]
    }
   ],
   "source": [
    "for epoch in range(1, n_epochs + 1):\n",
    "    train(train_data, pretrain_vae, pretrain_vae_optimizer, epoch, batch_size)\n",
    "    test(test_data, pretrain_vae, epoch, batch_size)"
   ]
  },
  {
   "cell_type": "code",
   "execution_count": 28,
   "metadata": {},
   "outputs": [
    {
     "name": "stdout",
     "output_type": "stream",
     "text": [
      "Test Loss\n",
      "tensor(0.5371, device='cuda:0')\n"
     ]
    }
   ],
   "source": [
    "with torch.no_grad():\n",
    "    print(\"Test Loss\")\n",
    "    print(F.binary_cross_entropy(pretrain_vae(test_data)[0], test_data))"
   ]
  },
  {
   "cell_type": "markdown",
   "metadata": {},
   "source": [
    "Actually pretty good! %35 percent off when wrong\n",
    "\n",
    "Get 0.49 when nepochs is 50.\n",
    "Get 0.54 when nepochs is 10."
   ]
  },
  {
   "cell_type": "markdown",
   "metadata": {},
   "source": [
    "As a note, if the final layer of the data mapper is not ReLU, this reconstruction is usually on point. When some of the features can be sparse, then this becomes troublesome."
   ]
  },
  {
   "cell_type": "markdown",
   "metadata": {},
   "source": [
    "Compare means"
   ]
  },
  {
   "cell_type": "code",
   "execution_count": 29,
   "metadata": {},
   "outputs": [
    {
     "data": {
      "text/plain": [
       "tensor([0.0931, 0.3051, 0.1384, 0.2096, 0.2092, 0.2112, 0.1042, 0.2325, 0.0347,\n",
       "        0.2014, 0.0244, 0.0502, 0.0919, 0.2735, 0.2254, 0.3294, 0.2786, 0.0084,\n",
       "        0.0338, 0.1001, 0.0849, 0.2512, 0.0048, 0.0257, 0.0015, 0.0874, 0.4764,\n",
       "        0.3270, 0.2107, 0.2899], device='cuda:0')"
      ]
     },
     "execution_count": 29,
     "metadata": {},
     "output_type": "execute_result"
    }
   ],
   "source": [
    "train_data.mean(dim = 0)[:D]"
   ]
  },
  {
   "cell_type": "code",
   "execution_count": 30,
   "metadata": {},
   "outputs": [
    {
     "data": {
      "text/plain": [
       "tensor([0.0978, 0.3031, 0.1394, 0.2099, 0.2063, 0.2098, 0.1076, 0.2316, 0.0298,\n",
       "        0.1968, 0.0261, 0.0561, 0.0848, 0.2727, 0.2320, 0.3355, 0.2739, 0.0056,\n",
       "        0.0301, 0.0953, 0.0889, 0.2483, 0.0063, 0.0231, 0.0009, 0.0924, 0.4782,\n",
       "        0.3251, 0.2092, 0.2881], device='cuda:0')"
      ]
     },
     "execution_count": 30,
     "metadata": {},
     "output_type": "execute_result"
    }
   ],
   "source": [
    "test_data.mean(dim = 0)[:D]"
   ]
  },
  {
   "cell_type": "code",
   "execution_count": 31,
   "metadata": {},
   "outputs": [
    {
     "data": {
      "text/plain": [
       "tensor([0.0908, 0.3028, 0.1420, 0.2037, 0.2054, 0.1995, 0.0929, 0.2195, 0.0451,\n",
       "        0.2090, 0.0452, 0.0758, 0.0977, 0.2881, 0.2152, 0.3182, 0.2690, 0.0362,\n",
       "        0.0545, 0.0943, 0.0869, 0.2433, 0.0329, 0.0432, 0.0287, 0.0824, 0.4680,\n",
       "        0.3353, 0.2242, 0.3056], device='cuda:0', grad_fn=<SliceBackward>)"
      ]
     },
     "execution_count": 31,
     "metadata": {},
     "output_type": "execute_result"
    }
   ],
   "source": [
    "pretrain_vae(test_data)[0].mean(dim = 0)[:D]"
   ]
  },
  {
   "cell_type": "markdown",
   "metadata": {},
   "source": [
    "Compare standard deviations"
   ]
  },
  {
   "cell_type": "code",
   "execution_count": 32,
   "metadata": {},
   "outputs": [
    {
     "data": {
      "text/plain": [
       "tensor([0.1913, 0.2338, 0.2076, 0.2199, 0.2306, 0.1890, 0.1805, 0.1945, 0.1051,\n",
       "        0.2321, 0.0976, 0.1389, 0.1652, 0.1922, 0.2341, 0.2330, 0.2048, 0.0390,\n",
       "        0.0929, 0.1692, 0.1755, 0.2236, 0.0499, 0.0923, 0.0152, 0.1863, 0.1593,\n",
       "        0.2244, 0.2096, 0.2350], device='cuda:0')"
      ]
     },
     "execution_count": 32,
     "metadata": {},
     "output_type": "execute_result"
    }
   ],
   "source": [
    "test_data.std(dim = 0)[:D]"
   ]
  },
  {
   "cell_type": "code",
   "execution_count": 33,
   "metadata": {},
   "outputs": [
    {
     "data": {
      "text/plain": [
       "tensor([0.0511, 0.0425, 0.0579, 0.0826, 0.0531, 0.0612, 0.0585, 0.0769, 0.0445,\n",
       "        0.0565, 0.0429, 0.0661, 0.0559, 0.0466, 0.0819, 0.0599, 0.0610, 0.0445,\n",
       "        0.0506, 0.0552, 0.0604, 0.0814, 0.0368, 0.0407, 0.0333, 0.0639, 0.0274,\n",
       "        0.0448, 0.0572, 0.0524], device='cuda:0', grad_fn=<SliceBackward>)"
      ]
     },
     "execution_count": 33,
     "metadata": {},
     "output_type": "execute_result"
    }
   ],
   "source": [
    "pretrain_vae(test_data)[0].std(dim = 0)[:D]"
   ]
  },
  {
   "cell_type": "code",
   "execution_count": 34,
   "metadata": {},
   "outputs": [
    {
     "data": {
      "text/plain": [
       "tensor([0.0258, 0.0224, 0.0220, 0.0211, 0.0209, 0.0197, 0.0212, 0.0261, 0.0275,\n",
       "        0.0209, 0.0215, 0.0206, 0.0221, 0.0222, 0.0201, 0.0218, 0.0185, 0.0206,\n",
       "        0.0206, 0.0207, 0.0223, 0.0241, 0.0222, 0.0233, 0.0185, 0.0219, 0.0201,\n",
       "        0.0244, 0.0202, 0.0212], device='cuda:0', grad_fn=<SliceBackward>)"
      ]
     },
     "execution_count": 34,
     "metadata": {},
     "output_type": "execute_result"
    }
   ],
   "source": [
    "pretrain_vae(test_data)[0].std(dim = 0)[D:2*D]"
   ]
  },
  {
   "cell_type": "code",
   "execution_count": 35,
   "metadata": {},
   "outputs": [],
   "source": [
    "average_std = pretrain_vae(test_data)[0].std(dim = 0)[:D] / test_data.std(dim = 0)[:D]"
   ]
  },
  {
   "cell_type": "code",
   "execution_count": 36,
   "metadata": {},
   "outputs": [
    {
     "name": "stdout",
     "output_type": "stream",
     "text": [
      "tensor([0.2619, 0.1723, 0.2832, 0.3759, 0.2315, 0.3217, 0.3184, 0.3969, 0.4278,\n",
      "        0.2500, 0.4480, 0.4793, 0.3413, 0.2330, 0.3427, 0.2593, 0.2840, 1.1526,\n",
      "        0.5259, 0.3186, 0.3528, 0.3536, 0.7277, 0.4432, 2.2260, 0.3402, 0.1694,\n",
      "        0.1951, 0.2686, 0.2173], device='cuda:0', grad_fn=<DivBackward0>)\n",
      "0.4239330589771271\n"
     ]
    }
   ],
   "source": [
    "print(average_std)\n",
    "print(average_std.mean().item())"
   ]
  },
  {
   "cell_type": "markdown",
   "metadata": {},
   "source": [
    "Get .8 as the mean when nepoch is 50. Get 0.43 as the mean when nepochs is 10."
   ]
  },
  {
   "cell_type": "markdown",
   "metadata": {},
   "source": [
    "Compare values"
   ]
  },
  {
   "cell_type": "code",
   "execution_count": 37,
   "metadata": {},
   "outputs": [],
   "source": [
    "samp = 45"
   ]
  },
  {
   "cell_type": "code",
   "execution_count": 38,
   "metadata": {},
   "outputs": [
    {
     "data": {
      "text/plain": [
       "tensor([0.0000, 0.5286, 0.0000, 0.0231, 0.6963, 0.3966, 0.0103, 0.2939, 0.0000,\n",
       "        0.3152, 0.0000, 0.0000, 0.0000, 0.0617, 0.4150, 0.6262, 0.2110, 0.0000,\n",
       "        0.0000, 0.0000, 0.0000, 0.6829, 0.0000, 0.0000, 0.0000, 0.0000, 0.3516,\n",
       "        0.0000, 0.6491, 0.4560], device='cuda:0')"
      ]
     },
     "execution_count": 38,
     "metadata": {},
     "output_type": "execute_result"
    }
   ],
   "source": [
    "test_data[samp,:D]"
   ]
  },
  {
   "cell_type": "code",
   "execution_count": 39,
   "metadata": {},
   "outputs": [
    {
     "data": {
      "text/plain": [
       "tensor([0.0427, 0.2685, 0.0914, 0.1420, 0.1793, 0.1437, 0.0416, 0.1626, 0.0145,\n",
       "        0.1706, 0.0122, 0.0227, 0.0351, 0.2458, 0.1958, 0.2595, 0.1965, 0.0051,\n",
       "        0.0129, 0.0453, 0.0373, 0.1502, 0.0066, 0.0143, 0.0065, 0.0323, 0.4923,\n",
       "        0.3206, 0.1736, 0.2875], device='cuda:0', grad_fn=<SliceBackward>)"
      ]
     },
     "execution_count": 39,
     "metadata": {},
     "output_type": "execute_result"
    }
   ],
   "source": [
    "pretrain_vae(test_data)[0][samp, :D]"
   ]
  },
  {
   "cell_type": "code",
   "execution_count": 40,
   "metadata": {},
   "outputs": [
    {
     "data": {
      "text/plain": [
       "tensor(0.1399, device='cuda:0', grad_fn=<MeanBackward0>)"
      ]
     },
     "execution_count": 40,
     "metadata": {},
     "output_type": "execute_result"
    }
   ],
   "source": [
    "torch.abs(test_data[samp,:D] - pretrain_vae(test_data)[0][samp, :D]).mean()"
   ]
  },
  {
   "cell_type": "code",
   "execution_count": 41,
   "metadata": {},
   "outputs": [
    {
     "data": {
      "text/plain": [
       "tensor(-0.1136, device='cuda:0', grad_fn=<MeanBackward0>)"
      ]
     },
     "execution_count": 41,
     "metadata": {},
     "output_type": "execute_result"
    }
   ],
   "source": [
    "pretrain_vae(test_data)[1][:, :D].mean()"
   ]
  },
  {
   "cell_type": "code",
   "execution_count": 42,
   "metadata": {},
   "outputs": [
    {
     "data": {
      "text/plain": [
       "tensor(0.8901, device='cuda:0', grad_fn=<MeanBackward0>)"
      ]
     },
     "execution_count": 42,
     "metadata": {},
     "output_type": "execute_result"
    }
   ],
   "source": [
    "torch.exp(pretrain_vae(test_data)[2][:, :D]).mean()"
   ]
  },
  {
   "cell_type": "code",
   "execution_count": 43,
   "metadata": {},
   "outputs": [
    {
     "data": {
      "text/plain": [
       "VAE(\n",
       "  (encoder): Sequential(\n",
       "    (0): Linear(in_features=60, out_features=200, bias=True)\n",
       "    (1): LeakyReLU(negative_slope=0.01)\n",
       "    (2): Linear(in_features=200, out_features=100, bias=True)\n",
       "    (3): LeakyReLU(negative_slope=0.01)\n",
       "    (4): Linear(in_features=100, out_features=100, bias=True)\n",
       "    (5): LeakyReLU(negative_slope=0.01)\n",
       "    (6): Linear(in_features=100, out_features=100, bias=True)\n",
       "    (7): LeakyReLU(negative_slope=0.01)\n",
       "  )\n",
       "  (enc_mean): Linear(in_features=100, out_features=20, bias=True)\n",
       "  (enc_logvar): Linear(in_features=100, out_features=20, bias=True)\n",
       "  (decoder): Sequential(\n",
       "    (0): Linear(in_features=20, out_features=200, bias=True)\n",
       "    (1): LeakyReLU(negative_slope=0.01)\n",
       "    (2): Linear(in_features=200, out_features=60, bias=True)\n",
       "    (3): Sigmoid()\n",
       "  )\n",
       ")"
      ]
     },
     "execution_count": 43,
     "metadata": {},
     "output_type": "execute_result"
    }
   ],
   "source": [
    "pretrain_vae.requires_grad_(False)"
   ]
  },
  {
   "cell_type": "markdown",
   "metadata": {},
   "source": [
    "This looks pretty good.\n",
    "\n",
    "**Gumbel matching pretrained VAE next**"
   ]
  },
  {
   "cell_type": "code",
   "execution_count": 44,
   "metadata": {},
   "outputs": [],
   "source": [
    "# let's see how it does here\n",
    "vae_gumbel_with_pre = VAE_Gumbel(2*D, 100, 20, k = 3*z_size)\n",
    "vae_gumbel_with_pre.to(device)\n",
    "vae_gumbel_with_pre_optimizer = torch.optim.Adam(vae_gumbel_with_pre.parameters(), \n",
    "                                                lr=lr, \n",
    "                                                betas = (b1,b2))"
   ]
  },
  {
   "cell_type": "code",
   "execution_count": 45,
   "metadata": {},
   "outputs": [
    {
     "name": "stdout",
     "output_type": "stream",
     "text": [
      "Train Epoch: 1 [0/4000 (0%)]\tLoss: 131.549118\n",
      "Train Epoch: 1 [1280/4000 (32%)]\tLoss: 124.330681\n",
      "Train Epoch: 1 [2560/4000 (64%)]\tLoss: 135.005920\n",
      "Train Epoch: 1 [3840/4000 (96%)]\tLoss: 113.650055\n",
      "====> Epoch: 1 Average loss: 127.3878\n",
      "====> Test set loss: 39.3864\n",
      "Train Epoch: 2 [0/4000 (0%)]\tLoss: 118.468437\n",
      "Train Epoch: 2 [1280/4000 (32%)]\tLoss: 102.895699\n",
      "Train Epoch: 2 [2560/4000 (64%)]\tLoss: 89.528763\n",
      "Train Epoch: 2 [3840/4000 (96%)]\tLoss: 63.037422\n",
      "====> Epoch: 2 Average loss: 93.6599\n",
      "====> Test set loss: 36.7838\n",
      "Train Epoch: 3 [0/4000 (0%)]\tLoss: 58.546532\n",
      "Train Epoch: 3 [1280/4000 (32%)]\tLoss: 55.447140\n",
      "Train Epoch: 3 [2560/4000 (64%)]\tLoss: 52.860619\n",
      "Train Epoch: 3 [3840/4000 (96%)]\tLoss: 52.858582\n",
      "====> Epoch: 3 Average loss: 54.7357\n",
      "====> Test set loss: 34.8553\n",
      "Train Epoch: 4 [0/4000 (0%)]\tLoss: 52.165733\n",
      "Train Epoch: 4 [1280/4000 (32%)]\tLoss: 51.336662\n",
      "Train Epoch: 4 [2560/4000 (64%)]\tLoss: 54.353249\n",
      "Train Epoch: 4 [3840/4000 (96%)]\tLoss: 49.435875\n",
      "====> Epoch: 4 Average loss: 51.2050\n",
      "====> Test set loss: 33.9991\n",
      "Train Epoch: 5 [0/4000 (0%)]\tLoss: 52.890106\n",
      "Train Epoch: 5 [1280/4000 (32%)]\tLoss: 47.368004\n",
      "Train Epoch: 5 [2560/4000 (64%)]\tLoss: 52.468666\n",
      "Train Epoch: 5 [3840/4000 (96%)]\tLoss: 46.865860\n",
      "====> Epoch: 5 Average loss: 50.0456\n",
      "====> Test set loss: 33.6222\n",
      "Train Epoch: 6 [0/4000 (0%)]\tLoss: 51.254303\n",
      "Train Epoch: 6 [1280/4000 (32%)]\tLoss: 50.040718\n",
      "Train Epoch: 6 [2560/4000 (64%)]\tLoss: 45.350574\n",
      "Train Epoch: 6 [3840/4000 (96%)]\tLoss: 45.420868\n",
      "====> Epoch: 6 Average loss: 49.3805\n",
      "====> Test set loss: 33.3538\n",
      "Train Epoch: 7 [0/4000 (0%)]\tLoss: 44.963558\n",
      "Train Epoch: 7 [1280/4000 (32%)]\tLoss: 46.864262\n",
      "Train Epoch: 7 [2560/4000 (64%)]\tLoss: 44.551815\n",
      "Train Epoch: 7 [3840/4000 (96%)]\tLoss: 49.530521\n",
      "====> Epoch: 7 Average loss: 48.7781\n",
      "====> Test set loss: 33.2253\n",
      "Train Epoch: 8 [0/4000 (0%)]\tLoss: 48.606457\n",
      "Train Epoch: 8 [1280/4000 (32%)]\tLoss: 46.324478\n",
      "Train Epoch: 8 [2560/4000 (64%)]\tLoss: 50.191059\n",
      "Train Epoch: 8 [3840/4000 (96%)]\tLoss: 45.292091\n",
      "====> Epoch: 8 Average loss: 48.3794\n",
      "====> Test set loss: 33.1441\n",
      "Train Epoch: 9 [0/4000 (0%)]\tLoss: 48.463879\n",
      "Train Epoch: 9 [1280/4000 (32%)]\tLoss: 47.223667\n",
      "Train Epoch: 9 [2560/4000 (64%)]\tLoss: 50.197624\n",
      "Train Epoch: 9 [3840/4000 (96%)]\tLoss: 46.697472\n",
      "====> Epoch: 9 Average loss: 47.7204\n",
      "====> Test set loss: 33.0215\n",
      "Train Epoch: 10 [0/4000 (0%)]\tLoss: 49.136162\n",
      "Train Epoch: 10 [1280/4000 (32%)]\tLoss: 44.512428\n",
      "Train Epoch: 10 [2560/4000 (64%)]\tLoss: 46.887108\n",
      "Train Epoch: 10 [3840/4000 (96%)]\tLoss: 45.664383\n",
      "====> Epoch: 10 Average loss: 46.8161\n",
      "====> Test set loss: 33.0297\n"
     ]
    }
   ],
   "source": [
    "for epoch in range(1, n_epochs + 1):\n",
    "    train_pre_trained(train_data, vae_gumbel_with_pre, vae_gumbel_with_pre_optimizer, \n",
    "                      epoch, pretrain_vae, batch_size)\n",
    "    test(test_data, vae_gumbel_with_pre, epoch, batch_size)"
   ]
  },
  {
   "cell_type": "code",
   "execution_count": 46,
   "metadata": {},
   "outputs": [
    {
     "name": "stdout",
     "output_type": "stream",
     "text": [
      "Test Loss\n",
      "tensor(0.5440, device='cuda:0')\n"
     ]
    }
   ],
   "source": [
    "with torch.no_grad():\n",
    "    print(\"Test Loss\")\n",
    "    print(F.binary_cross_entropy(vae_gumbel_with_pre(test_data)[0], test_data))"
   ]
  },
  {
   "cell_type": "markdown",
   "metadata": {},
   "source": [
    "Means"
   ]
  },
  {
   "cell_type": "code",
   "execution_count": 47,
   "metadata": {},
   "outputs": [
    {
     "data": {
      "text/plain": [
       "tensor([0.0978, 0.3031, 0.1394, 0.2099, 0.2063, 0.2098, 0.1076, 0.2316, 0.0298,\n",
       "        0.1968, 0.0261, 0.0561, 0.0848, 0.2727, 0.2320, 0.3355, 0.2739, 0.0056,\n",
       "        0.0301, 0.0953, 0.0889, 0.2483, 0.0063, 0.0231, 0.0009, 0.0924, 0.4782,\n",
       "        0.3251, 0.2092, 0.2881], device='cuda:0')"
      ]
     },
     "execution_count": 47,
     "metadata": {},
     "output_type": "execute_result"
    }
   ],
   "source": [
    "test_data.mean(dim = 0)[:D]"
   ]
  },
  {
   "cell_type": "code",
   "execution_count": 48,
   "metadata": {},
   "outputs": [
    {
     "data": {
      "text/plain": [
       "tensor([0.1020, 0.3086, 0.1487, 0.2077, 0.2110, 0.2140, 0.1047, 0.2268, 0.0470,\n",
       "        0.2091, 0.0436, 0.0541, 0.1006, 0.2838, 0.2204, 0.3191, 0.2790, 0.0341,\n",
       "        0.0603, 0.1043, 0.0903, 0.2499, 0.0395, 0.0505, 0.0315, 0.0923, 0.4770,\n",
       "        0.3366, 0.2215, 0.3029], device='cuda:0', grad_fn=<SliceBackward>)"
      ]
     },
     "execution_count": 48,
     "metadata": {},
     "output_type": "execute_result"
    }
   ],
   "source": [
    "vae_gumbel_with_pre(test_data)[0].mean(dim = 0)[:D]"
   ]
  },
  {
   "cell_type": "markdown",
   "metadata": {},
   "source": [
    "Deviations"
   ]
  },
  {
   "cell_type": "code",
   "execution_count": 49,
   "metadata": {},
   "outputs": [
    {
     "data": {
      "text/plain": [
       "tensor([0.1913, 0.2338, 0.2076, 0.2199, 0.2306, 0.1890, 0.1805, 0.1945, 0.1051,\n",
       "        0.2321, 0.0976, 0.1389, 0.1652, 0.1922, 0.2341, 0.2330, 0.2048, 0.0390,\n",
       "        0.0929, 0.1692, 0.1755, 0.2236, 0.0499, 0.0923, 0.0152, 0.1863, 0.1593,\n",
       "        0.2244, 0.2096, 0.2350], device='cuda:0')"
      ]
     },
     "execution_count": 49,
     "metadata": {},
     "output_type": "execute_result"
    }
   ],
   "source": [
    "test_data.std(dim = 0)[:D]"
   ]
  },
  {
   "cell_type": "code",
   "execution_count": 50,
   "metadata": {},
   "outputs": [
    {
     "data": {
      "text/plain": [
       "tensor([0.0499, 0.0412, 0.0443, 0.0528, 0.0465, 0.0524, 0.0480, 0.0475, 0.0349,\n",
       "        0.0512, 0.0343, 0.0373, 0.0440, 0.0378, 0.0499, 0.0425, 0.0462, 0.0311,\n",
       "        0.0426, 0.0485, 0.0475, 0.0410, 0.0337, 0.0418, 0.0296, 0.0469, 0.0205,\n",
       "        0.0327, 0.0509, 0.0435], device='cuda:0', grad_fn=<SliceBackward>)"
      ]
     },
     "execution_count": 50,
     "metadata": {},
     "output_type": "execute_result"
    }
   ],
   "source": [
    "vae_gumbel_with_pre(test_data)[0].std(dim = 0)[:D]"
   ]
  },
  {
   "cell_type": "markdown",
   "metadata": {},
   "source": [
    "Values"
   ]
  },
  {
   "cell_type": "code",
   "execution_count": 51,
   "metadata": {},
   "outputs": [
    {
     "data": {
      "text/plain": [
       "tensor([0.0000, 0.5286, 0.0000, 0.0231, 0.6963, 0.3966, 0.0103, 0.2939, 0.0000,\n",
       "        0.3152, 0.0000, 0.0000, 0.0000, 0.0617, 0.4150, 0.6262, 0.2110, 0.0000,\n",
       "        0.0000, 0.0000, 0.0000, 0.6829, 0.0000, 0.0000, 0.0000, 0.0000, 0.3516,\n",
       "        0.0000, 0.6491, 0.4560], device='cuda:0')"
      ]
     },
     "execution_count": 51,
     "metadata": {},
     "output_type": "execute_result"
    }
   ],
   "source": [
    "test_data[samp,:D]"
   ]
  },
  {
   "cell_type": "code",
   "execution_count": 52,
   "metadata": {},
   "outputs": [
    {
     "data": {
      "text/plain": [
       "tensor([0.0532, 0.3002, 0.1230, 0.1623, 0.1887, 0.1692, 0.0662, 0.2270, 0.0348,\n",
       "        0.2394, 0.0198, 0.0278, 0.0650, 0.2875, 0.1846, 0.3385, 0.2906, 0.0103,\n",
       "        0.0278, 0.0720, 0.0610, 0.2667, 0.0161, 0.0205, 0.0125, 0.0544, 0.4583,\n",
       "        0.3579, 0.2046, 0.3175], device='cuda:0', grad_fn=<SliceBackward>)"
      ]
     },
     "execution_count": 52,
     "metadata": {},
     "output_type": "execute_result"
    }
   ],
   "source": [
    "vae_gumbel_with_pre(test_data)[0][samp, :D]"
   ]
  },
  {
   "cell_type": "code",
   "execution_count": 53,
   "metadata": {},
   "outputs": [],
   "source": [
    "with torch.no_grad():\n",
    "    w = vae_gumbel_with_pre.weight_creator(test_data[0:2, :])\n",
    "    subset_indices = sample_subset(w, k=3*z_size, t=0.1).cpu()"
   ]
  },
  {
   "cell_type": "code",
   "execution_count": 54,
   "metadata": {},
   "outputs": [
    {
     "data": {
      "text/plain": [
       "tensor([[ 4, 22, 53, 44, 21, 45, 30, 13, 28, 47, 23, 59, 11, 20,  5],\n",
       "        [ 7, 33, 19, 43, 31,  8, 45, 14, 54, 40, 17,  6, 46, 52, 20]])"
      ]
     },
     "execution_count": 54,
     "metadata": {},
     "output_type": "execute_result"
    }
   ],
   "source": [
    "# as long as feature index is lesss than 30, then it isn't picking noise\n",
    "torch.argsort(subset_indices, dim = 1, descending = True)[:, :3 * z_size]"
   ]
  },
  {
   "cell_type": "markdown",
   "metadata": {},
   "source": [
    "**Joint Train**"
   ]
  },
  {
   "cell_type": "code",
   "execution_count": 55,
   "metadata": {},
   "outputs": [],
   "source": [
    "joint_vanilla_vae = VAE(2*D, 100, 20)\n",
    "joint_vanilla_vae.to(device)\n",
    "\n",
    "joint_vae_gumbel = VAE_Gumbel(2*D, 100, 20, k = 3*z_size)\n",
    "joint_vae_gumbel.to(device)\n",
    "\n",
    "joint_optimizer = torch.optim.Adam(list(joint_vanilla_vae.parameters()) + list(joint_vae_gumbel.parameters()), \n",
    "                                                lr=lr, \n",
    "                                                betas = (b1,b2))"
   ]
  },
  {
   "cell_type": "code",
   "execution_count": 56,
   "metadata": {},
   "outputs": [
    {
     "name": "stdout",
     "output_type": "stream",
     "text": [
      "Train Epoch: 1 [0/4000 (0%)]\tLoss: 85.017433\n",
      "Train Epoch: 1 [1280/4000 (32%)]\tLoss: 82.511650\n",
      "Train Epoch: 1 [2560/4000 (64%)]\tLoss: 80.430176\n",
      "Train Epoch: 1 [3840/4000 (96%)]\tLoss: 78.637581\n",
      "====> Epoch: 1 Average loss: 81.5080\n",
      "====> Test set loss: 79.5400\n",
      "Train Epoch: 2 [0/4000 (0%)]\tLoss: 78.483932\n",
      "Train Epoch: 2 [1280/4000 (32%)]\tLoss: 77.283844\n",
      "Train Epoch: 2 [2560/4000 (64%)]\tLoss: 75.860748\n",
      "Train Epoch: 2 [3840/4000 (96%)]\tLoss: 74.166321\n",
      "====> Epoch: 2 Average loss: 76.4011\n",
      "====> Test set loss: 75.6151\n",
      "Train Epoch: 3 [0/4000 (0%)]\tLoss: 74.307861\n",
      "Train Epoch: 3 [1280/4000 (32%)]\tLoss: 72.738884\n",
      "Train Epoch: 3 [2560/4000 (64%)]\tLoss: 71.166466\n",
      "Train Epoch: 3 [3840/4000 (96%)]\tLoss: 69.820045\n",
      "====> Epoch: 3 Average loss: 72.1045\n",
      "====> Test set loss: 79.0084\n",
      "Train Epoch: 4 [0/4000 (0%)]\tLoss: 69.653114\n",
      "Train Epoch: 4 [1280/4000 (32%)]\tLoss: 68.887741\n",
      "Train Epoch: 4 [2560/4000 (64%)]\tLoss: 68.468018\n",
      "Train Epoch: 4 [3840/4000 (96%)]\tLoss: 68.222870\n",
      "====> Epoch: 4 Average loss: 69.0949\n",
      "====> Test set loss: 78.0646\n",
      "Train Epoch: 5 [0/4000 (0%)]\tLoss: 68.388832\n",
      "Train Epoch: 5 [1280/4000 (32%)]\tLoss: 67.785591\n",
      "Train Epoch: 5 [2560/4000 (64%)]\tLoss: 67.644531\n",
      "Train Epoch: 5 [3840/4000 (96%)]\tLoss: 66.736946\n",
      "====> Epoch: 5 Average loss: 67.8141\n",
      "====> Test set loss: 76.1645\n",
      "Train Epoch: 6 [0/4000 (0%)]\tLoss: 68.024712\n",
      "Train Epoch: 6 [1280/4000 (32%)]\tLoss: 66.861305\n",
      "Train Epoch: 6 [2560/4000 (64%)]\tLoss: 67.153069\n",
      "Train Epoch: 6 [3840/4000 (96%)]\tLoss: 66.664459\n",
      "====> Epoch: 6 Average loss: 67.0632\n",
      "====> Test set loss: 73.6239\n",
      "Train Epoch: 7 [0/4000 (0%)]\tLoss: 66.467865\n",
      "Train Epoch: 7 [1280/4000 (32%)]\tLoss: 67.121536\n",
      "Train Epoch: 7 [2560/4000 (64%)]\tLoss: 66.637772\n",
      "Train Epoch: 7 [3840/4000 (96%)]\tLoss: 66.970680\n",
      "====> Epoch: 7 Average loss: 66.6601\n",
      "====> Test set loss: 72.6405\n",
      "Train Epoch: 8 [0/4000 (0%)]\tLoss: 66.370132\n",
      "Train Epoch: 8 [1280/4000 (32%)]\tLoss: 66.146095\n",
      "Train Epoch: 8 [2560/4000 (64%)]\tLoss: 65.637314\n",
      "Train Epoch: 8 [3840/4000 (96%)]\tLoss: 66.221634\n",
      "====> Epoch: 8 Average loss: 66.3669\n",
      "====> Test set loss: 72.0062\n",
      "Train Epoch: 9 [0/4000 (0%)]\tLoss: 66.211128\n",
      "Train Epoch: 9 [1280/4000 (32%)]\tLoss: 66.651390\n",
      "Train Epoch: 9 [2560/4000 (64%)]\tLoss: 65.663879\n",
      "Train Epoch: 9 [3840/4000 (96%)]\tLoss: 66.490601\n",
      "====> Epoch: 9 Average loss: 66.1956\n",
      "====> Test set loss: 70.9366\n",
      "Train Epoch: 10 [0/4000 (0%)]\tLoss: 66.648575\n",
      "Train Epoch: 10 [1280/4000 (32%)]\tLoss: 66.939850\n",
      "Train Epoch: 10 [2560/4000 (64%)]\tLoss: 65.463875\n",
      "Train Epoch: 10 [3840/4000 (96%)]\tLoss: 65.452766\n",
      "====> Epoch: 10 Average loss: 66.0864\n",
      "====> Test set loss: 70.6289\n"
     ]
    }
   ],
   "source": [
    "for epoch in range(1, n_epochs + 1):\n",
    "    train_joint(train_data, joint_vanilla_vae, joint_vae_gumbel, joint_optimizer, epoch, batch_size)\n",
    "    test_joint(test_data, joint_vanilla_vae, joint_vae_gumbel, epoch, batch_size)"
   ]
  },
  {
   "cell_type": "code",
   "execution_count": 57,
   "metadata": {},
   "outputs": [
    {
     "name": "stdout",
     "output_type": "stream",
     "text": [
      "Test Loss\n",
      "tensor(0.5452, device='cuda:0')\n"
     ]
    }
   ],
   "source": [
    "with torch.no_grad():\n",
    "    print(\"Test Loss\")\n",
    "    print(F.binary_cross_entropy(joint_vae_gumbel(test_data)[0], test_data))"
   ]
  },
  {
   "cell_type": "markdown",
   "metadata": {},
   "source": [
    "Means"
   ]
  },
  {
   "cell_type": "code",
   "execution_count": 58,
   "metadata": {},
   "outputs": [
    {
     "data": {
      "text/plain": [
       "tensor([0.0978, 0.3031, 0.1394, 0.2099, 0.2063, 0.2098, 0.1076, 0.2316, 0.0298,\n",
       "        0.1968, 0.0261, 0.0561, 0.0848, 0.2727, 0.2320, 0.3355, 0.2739, 0.0056,\n",
       "        0.0301, 0.0953, 0.0889, 0.2483, 0.0063, 0.0231, 0.0009, 0.0924, 0.4782,\n",
       "        0.3251, 0.2092, 0.2881], device='cuda:0')"
      ]
     },
     "execution_count": 58,
     "metadata": {},
     "output_type": "execute_result"
    }
   ],
   "source": [
    "test_data.mean(dim = 0)[:D]"
   ]
  },
  {
   "cell_type": "code",
   "execution_count": 59,
   "metadata": {},
   "outputs": [
    {
     "data": {
      "text/plain": [
       "tensor([0.1084, 0.3106, 0.1507, 0.2148, 0.2177, 0.2183, 0.1170, 0.2396, 0.0622,\n",
       "        0.2163, 0.0685, 0.0665, 0.1088, 0.2834, 0.2307, 0.3339, 0.2838, 0.0418,\n",
       "        0.0633, 0.1103, 0.0987, 0.2576, 0.0514, 0.0603, 0.0389, 0.1036, 0.4746,\n",
       "        0.3356, 0.2194, 0.3010], device='cuda:0', grad_fn=<SliceBackward>)"
      ]
     },
     "execution_count": 59,
     "metadata": {},
     "output_type": "execute_result"
    }
   ],
   "source": [
    "joint_vae_gumbel(test_data)[0].mean(dim = 0)[:D]"
   ]
  },
  {
   "cell_type": "markdown",
   "metadata": {},
   "source": [
    "Deviations"
   ]
  },
  {
   "cell_type": "code",
   "execution_count": 60,
   "metadata": {},
   "outputs": [
    {
     "data": {
      "text/plain": [
       "tensor([0.1913, 0.2338, 0.2076, 0.2199, 0.2306, 0.1890, 0.1805, 0.1945, 0.1051,\n",
       "        0.2321, 0.0976, 0.1389, 0.1652, 0.1922, 0.2341, 0.2330, 0.2048, 0.0390,\n",
       "        0.0929, 0.1692, 0.1755, 0.2236, 0.0499, 0.0923, 0.0152, 0.1863, 0.1593,\n",
       "        0.2244, 0.2096, 0.2350], device='cuda:0')"
      ]
     },
     "execution_count": 60,
     "metadata": {},
     "output_type": "execute_result"
    }
   ],
   "source": [
    "test_data.std(dim = 0)[:D]"
   ]
  },
  {
   "cell_type": "code",
   "execution_count": 61,
   "metadata": {},
   "outputs": [
    {
     "data": {
      "text/plain": [
       "tensor([0.0464, 0.0338, 0.0517, 0.0409, 0.0508, 0.0430, 0.0502, 0.0492, 0.0442,\n",
       "        0.0529, 0.0419, 0.0377, 0.0517, 0.0395, 0.0452, 0.0471, 0.0373, 0.0313,\n",
       "        0.0455, 0.0476, 0.0481, 0.0447, 0.0376, 0.0406, 0.0316, 0.0512, 0.0257,\n",
       "        0.0347, 0.0461, 0.0375], device='cuda:0', grad_fn=<SliceBackward>)"
      ]
     },
     "execution_count": 61,
     "metadata": {},
     "output_type": "execute_result"
    }
   ],
   "source": [
    "joint_vae_gumbel(test_data)[0].std(dim = 0)[:D]"
   ]
  },
  {
   "cell_type": "markdown",
   "metadata": {},
   "source": [
    "Values"
   ]
  },
  {
   "cell_type": "code",
   "execution_count": 62,
   "metadata": {},
   "outputs": [
    {
     "data": {
      "text/plain": [
       "tensor([0.0000, 0.5286, 0.0000, 0.0231, 0.6963, 0.3966, 0.0103, 0.2939, 0.0000,\n",
       "        0.3152, 0.0000, 0.0000, 0.0000, 0.0617, 0.4150, 0.6262, 0.2110, 0.0000,\n",
       "        0.0000, 0.0000, 0.0000, 0.6829, 0.0000, 0.0000, 0.0000, 0.0000, 0.3516,\n",
       "        0.0000, 0.6491, 0.4560], device='cuda:0')"
      ]
     },
     "execution_count": 62,
     "metadata": {},
     "output_type": "execute_result"
    }
   ],
   "source": [
    "test_data[samp,:D]"
   ]
  },
  {
   "cell_type": "code",
   "execution_count": 63,
   "metadata": {},
   "outputs": [
    {
     "data": {
      "text/plain": [
       "tensor([0.1196, 0.3358, 0.1544, 0.1924, 0.2309, 0.2041, 0.1051, 0.2145, 0.0631,\n",
       "        0.2132, 0.0806, 0.0751, 0.1094, 0.3025, 0.2385, 0.3398, 0.2990, 0.0374,\n",
       "        0.0522, 0.0936, 0.0918, 0.2571, 0.0353, 0.0578, 0.0360, 0.0880, 0.4327,\n",
       "        0.3242, 0.2402, 0.2735], device='cuda:0', grad_fn=<SliceBackward>)"
      ]
     },
     "execution_count": 63,
     "metadata": {},
     "output_type": "execute_result"
    }
   ],
   "source": [
    "joint_vae_gumbel(test_data)[0][samp, :D]"
   ]
  },
  {
   "cell_type": "code",
   "execution_count": 64,
   "metadata": {},
   "outputs": [],
   "source": [
    "with torch.no_grad():\n",
    "    w = joint_vae_gumbel.weight_creator(test_data[0:2, :])\n",
    "    subset_indices = sample_subset(w, k=3*z_size, t=0.1).cpu()"
   ]
  },
  {
   "cell_type": "code",
   "execution_count": 65,
   "metadata": {},
   "outputs": [
    {
     "data": {
      "text/plain": [
       "tensor([[41, 15, 47, 53, 56, 27, 59, 52, 34, 44, 40, 17,  5, 25, 58],\n",
       "        [55, 54, 58,  3, 44, 39, 11,  9, 26, 14,  6,  4, 17,  2, 20]])"
      ]
     },
     "execution_count": 65,
     "metadata": {},
     "output_type": "execute_result"
    }
   ],
   "source": [
    "torch.argsort(subset_indices, dim = 1, descending = True)[:, :3 * z_size]"
   ]
  },
  {
   "cell_type": "markdown",
   "metadata": {},
   "source": [
    "Joint Training while selecting exactly z_size. Why does it pick the noise variables?"
   ]
  },
  {
   "cell_type": "code",
   "execution_count": 66,
   "metadata": {},
   "outputs": [],
   "source": [
    "joint_vanilla_vae = VAE(2*D, 100, 20)\n",
    "joint_vanilla_vae.to(device)\n",
    "\n",
    "joint_vae_gumbel = VAE_Gumbel(2*D, 100, 20, k = z_size)\n",
    "joint_vae_gumbel.to(device)\n",
    "\n",
    "joint_optimizer = torch.optim.Adam(list(joint_vanilla_vae.parameters()) + list(joint_vae_gumbel.parameters()), \n",
    "                                                lr=lr, \n",
    "                                                betas = (b1,b2))"
   ]
  },
  {
   "cell_type": "code",
   "execution_count": 67,
   "metadata": {},
   "outputs": [
    {
     "name": "stdout",
     "output_type": "stream",
     "text": [
      "Train Epoch: 1 [0/4000 (0%)]\tLoss: 85.132713\n",
      "Train Epoch: 1 [1280/4000 (32%)]\tLoss: 82.747704\n",
      "Train Epoch: 1 [2560/4000 (64%)]\tLoss: 80.820213\n",
      "Train Epoch: 1 [3840/4000 (96%)]\tLoss: 79.032799\n",
      "====> Epoch: 1 Average loss: 81.7773\n",
      "====> Test set loss: 79.3204\n",
      "Train Epoch: 2 [0/4000 (0%)]\tLoss: 78.711441\n",
      "Train Epoch: 2 [1280/4000 (32%)]\tLoss: 77.595573\n",
      "Train Epoch: 2 [2560/4000 (64%)]\tLoss: 76.076454\n",
      "Train Epoch: 2 [3840/4000 (96%)]\tLoss: 74.498436\n",
      "====> Epoch: 2 Average loss: 76.7089\n",
      "====> Test set loss: 75.7804\n",
      "Train Epoch: 3 [0/4000 (0%)]\tLoss: 74.584831\n",
      "Train Epoch: 3 [1280/4000 (32%)]\tLoss: 72.626198\n",
      "Train Epoch: 3 [2560/4000 (64%)]\tLoss: 71.710274\n",
      "Train Epoch: 3 [3840/4000 (96%)]\tLoss: 71.147865\n",
      "====> Epoch: 3 Average loss: 72.1947\n",
      "====> Test set loss: 79.4896\n",
      "Train Epoch: 4 [0/4000 (0%)]\tLoss: 69.542427\n",
      "Train Epoch: 4 [1280/4000 (32%)]\tLoss: 68.956856\n",
      "Train Epoch: 4 [2560/4000 (64%)]\tLoss: 68.700424\n",
      "Train Epoch: 4 [3840/4000 (96%)]\tLoss: 68.567574\n",
      "====> Epoch: 4 Average loss: 69.0679\n",
      "====> Test set loss: 74.6836\n",
      "Train Epoch: 5 [0/4000 (0%)]\tLoss: 67.970520\n",
      "Train Epoch: 5 [1280/4000 (32%)]\tLoss: 68.256470\n",
      "Train Epoch: 5 [2560/4000 (64%)]\tLoss: 67.772995\n",
      "Train Epoch: 5 [3840/4000 (96%)]\tLoss: 66.383095\n",
      "====> Epoch: 5 Average loss: 67.7074\n",
      "====> Test set loss: 72.5945\n",
      "Train Epoch: 6 [0/4000 (0%)]\tLoss: 66.960281\n",
      "Train Epoch: 6 [1280/4000 (32%)]\tLoss: 67.368523\n",
      "Train Epoch: 6 [2560/4000 (64%)]\tLoss: 66.959320\n",
      "Train Epoch: 6 [3840/4000 (96%)]\tLoss: 67.639313\n",
      "====> Epoch: 6 Average loss: 67.0422\n",
      "====> Test set loss: 71.6635\n",
      "Train Epoch: 7 [0/4000 (0%)]\tLoss: 66.123055\n",
      "Train Epoch: 7 [1280/4000 (32%)]\tLoss: 67.050957\n",
      "Train Epoch: 7 [2560/4000 (64%)]\tLoss: 65.849945\n",
      "Train Epoch: 7 [3840/4000 (96%)]\tLoss: 66.508781\n",
      "====> Epoch: 7 Average loss: 66.6337\n",
      "====> Test set loss: 70.3313\n",
      "Train Epoch: 8 [0/4000 (0%)]\tLoss: 66.478767\n",
      "Train Epoch: 8 [1280/4000 (32%)]\tLoss: 66.875092\n",
      "Train Epoch: 8 [2560/4000 (64%)]\tLoss: 66.153496\n",
      "Train Epoch: 8 [3840/4000 (96%)]\tLoss: 66.941269\n",
      "====> Epoch: 8 Average loss: 66.3856\n",
      "====> Test set loss: 70.1085\n",
      "Train Epoch: 9 [0/4000 (0%)]\tLoss: 65.600761\n",
      "Train Epoch: 9 [1280/4000 (32%)]\tLoss: 67.418243\n",
      "Train Epoch: 9 [2560/4000 (64%)]\tLoss: 65.758018\n",
      "Train Epoch: 9 [3840/4000 (96%)]\tLoss: 66.167526\n",
      "====> Epoch: 9 Average loss: 66.2590\n",
      "====> Test set loss: 69.9542\n",
      "Train Epoch: 10 [0/4000 (0%)]\tLoss: 66.533028\n",
      "Train Epoch: 10 [1280/4000 (32%)]\tLoss: 66.550789\n",
      "Train Epoch: 10 [2560/4000 (64%)]\tLoss: 65.192116\n",
      "Train Epoch: 10 [3840/4000 (96%)]\tLoss: 65.112160\n",
      "====> Epoch: 10 Average loss: 66.1191\n",
      "====> Test set loss: 69.4984\n"
     ]
    }
   ],
   "source": [
    "for epoch in range(1, n_epochs + 1):\n",
    "    train_joint(train_data, joint_vanilla_vae, joint_vae_gumbel, joint_optimizer, epoch, batch_size)\n",
    "    test_joint(test_data, joint_vanilla_vae, joint_vae_gumbel, epoch, batch_size)"
   ]
  },
  {
   "cell_type": "code",
   "execution_count": 68,
   "metadata": {},
   "outputs": [
    {
     "name": "stdout",
     "output_type": "stream",
     "text": [
      "Test Loss\n",
      "tensor(0.5457, device='cuda:0')\n"
     ]
    }
   ],
   "source": [
    "with torch.no_grad():\n",
    "    print(\"Test Loss\")\n",
    "    print(F.binary_cross_entropy(joint_vae_gumbel(test_data)[0], test_data))"
   ]
  },
  {
   "cell_type": "markdown",
   "metadata": {},
   "source": [
    "Means"
   ]
  },
  {
   "cell_type": "code",
   "execution_count": 69,
   "metadata": {},
   "outputs": [
    {
     "data": {
      "text/plain": [
       "tensor([0.0978, 0.3031, 0.1394, 0.2099, 0.2063, 0.2098, 0.1076, 0.2316, 0.0298,\n",
       "        0.1968, 0.0261, 0.0561, 0.0848, 0.2727, 0.2320, 0.3355, 0.2739, 0.0056,\n",
       "        0.0301, 0.0953, 0.0889, 0.2483, 0.0063, 0.0231, 0.0009, 0.0924, 0.4782,\n",
       "        0.3251, 0.2092, 0.2881], device='cuda:0')"
      ]
     },
     "execution_count": 69,
     "metadata": {},
     "output_type": "execute_result"
    }
   ],
   "source": [
    "test_data.mean(dim = 0)[:D]"
   ]
  },
  {
   "cell_type": "code",
   "execution_count": 70,
   "metadata": {},
   "outputs": [
    {
     "data": {
      "text/plain": [
       "tensor([0.1085, 0.3148, 0.1535, 0.2221, 0.2227, 0.2211, 0.1210, 0.2454, 0.0646,\n",
       "        0.2156, 0.0598, 0.0761, 0.1110, 0.2805, 0.2432, 0.3426, 0.2877, 0.0537,\n",
       "        0.0605, 0.1161, 0.1068, 0.2657, 0.0438, 0.0600, 0.0423, 0.1058, 0.4768,\n",
       "        0.3289, 0.2236, 0.2947], device='cuda:0', grad_fn=<SliceBackward>)"
      ]
     },
     "execution_count": 70,
     "metadata": {},
     "output_type": "execute_result"
    }
   ],
   "source": [
    "joint_vae_gumbel(test_data)[0].mean(dim = 0)[:D]"
   ]
  },
  {
   "cell_type": "markdown",
   "metadata": {},
   "source": [
    "Deviations"
   ]
  },
  {
   "cell_type": "code",
   "execution_count": 71,
   "metadata": {},
   "outputs": [
    {
     "data": {
      "text/plain": [
       "tensor([0.1913, 0.2338, 0.2076, 0.2199, 0.2306, 0.1890, 0.1805, 0.1945, 0.1051,\n",
       "        0.2321, 0.0976, 0.1389, 0.1652, 0.1922, 0.2341, 0.2330, 0.2048, 0.0390,\n",
       "        0.0929, 0.1692, 0.1755, 0.2236, 0.0499, 0.0923, 0.0152, 0.1863, 0.1593,\n",
       "        0.2244, 0.2096, 0.2350], device='cuda:0')"
      ]
     },
     "execution_count": 71,
     "metadata": {},
     "output_type": "execute_result"
    }
   ],
   "source": [
    "test_data.std(dim = 0)[:D]"
   ]
  },
  {
   "cell_type": "code",
   "execution_count": 72,
   "metadata": {},
   "outputs": [
    {
     "data": {
      "text/plain": [
       "tensor([0.0516, 0.0436, 0.0529, 0.0474, 0.0487, 0.0477, 0.0530, 0.0501, 0.0412,\n",
       "        0.0549, 0.0431, 0.0489, 0.0586, 0.0425, 0.0525, 0.0381, 0.0485, 0.0412,\n",
       "        0.0398, 0.0498, 0.0487, 0.0516, 0.0370, 0.0408, 0.0372, 0.0462, 0.0228,\n",
       "        0.0315, 0.0514, 0.0380], device='cuda:0', grad_fn=<SliceBackward>)"
      ]
     },
     "execution_count": 72,
     "metadata": {},
     "output_type": "execute_result"
    }
   ],
   "source": [
    "joint_vae_gumbel(test_data)[0].std(dim = 0)[:D]"
   ]
  },
  {
   "cell_type": "markdown",
   "metadata": {},
   "source": [
    "Values"
   ]
  },
  {
   "cell_type": "code",
   "execution_count": 73,
   "metadata": {},
   "outputs": [
    {
     "data": {
      "text/plain": [
       "tensor([0.0000, 0.5286, 0.0000, 0.0231, 0.6963, 0.3966, 0.0103, 0.2939, 0.0000,\n",
       "        0.3152, 0.0000, 0.0000, 0.0000, 0.0617, 0.4150, 0.6262, 0.2110, 0.0000,\n",
       "        0.0000, 0.0000, 0.0000, 0.6829, 0.0000, 0.0000, 0.0000, 0.0000, 0.3516,\n",
       "        0.0000, 0.6491, 0.4560], device='cuda:0')"
      ]
     },
     "execution_count": 73,
     "metadata": {},
     "output_type": "execute_result"
    }
   ],
   "source": [
    "test_data[samp,:D]"
   ]
  },
  {
   "cell_type": "code",
   "execution_count": 74,
   "metadata": {},
   "outputs": [
    {
     "data": {
      "text/plain": [
       "tensor([0.0646, 0.3793, 0.1757, 0.1760, 0.2028, 0.2190, 0.1176, 0.2173, 0.0418,\n",
       "        0.2300, 0.0466, 0.0532, 0.1153, 0.2583, 0.2227, 0.3207, 0.2624, 0.0559,\n",
       "        0.0566, 0.1064, 0.0933, 0.2606, 0.0267, 0.0469, 0.0340, 0.0968, 0.4922,\n",
       "        0.3316, 0.2492, 0.3012], device='cuda:0', grad_fn=<SliceBackward>)"
      ]
     },
     "execution_count": 74,
     "metadata": {},
     "output_type": "execute_result"
    }
   ],
   "source": [
    "joint_vae_gumbel(test_data)[0][samp, :D]"
   ]
  },
  {
   "cell_type": "code",
   "execution_count": 75,
   "metadata": {},
   "outputs": [],
   "source": [
    "with torch.no_grad():\n",
    "    w = joint_vae_gumbel.weight_creator(test_data[0:10, :])\n",
    "    subset_indices = sample_subset(w, k=z_size, t=0.1).cpu()"
   ]
  },
  {
   "cell_type": "code",
   "execution_count": 76,
   "metadata": {},
   "outputs": [
    {
     "data": {
      "text/plain": [
       "tensor([[57, 43, 34, 23, 20],\n",
       "        [14, 58, 10, 31, 16],\n",
       "        [18, 27, 36, 58, 53],\n",
       "        [33, 55, 29, 14, 18],\n",
       "        [14,  4, 19, 22, 54],\n",
       "        [11,  9, 57,  1, 48],\n",
       "        [ 8,  9, 28, 49, 27],\n",
       "        [16, 52, 21,  7, 22],\n",
       "        [20,  4,  6, 16, 14],\n",
       "        [54,  4, 13, 33, 38]])"
      ]
     },
     "execution_count": 76,
     "metadata": {},
     "output_type": "execute_result"
    }
   ],
   "source": [
    "torch.argsort(subset_indices, dim = 1, descending = True)[:, :z_size]"
   ]
  },
  {
   "cell_type": "markdown",
   "metadata": {},
   "source": [
    "Matching pre trained is actually better here than joint training.\n",
    "The gumbel trick greatly reduces the ability to make predictions. \n",
    "Notice that the standard deviations are not as high as in the original data. Not being able to use a model looking at the full data as an anchor definitely hurts."
   ]
  },
  {
   "cell_type": "code",
   "execution_count": null,
   "metadata": {},
   "outputs": [],
   "source": []
  },
  {
   "cell_type": "markdown",
   "metadata": {},
   "source": [
    "# Calculation of Loss only over select features\n",
    "What happens if we limit the calculation of the loss to just the first few non-noisy stuff?\n",
    "\n",
    "Not doing joint training here because the calculation of loss is hidden inside utils and cannot modify the indexing so easily."
   ]
  },
  {
   "cell_type": "code",
   "execution_count": 77,
   "metadata": {},
   "outputs": [],
   "source": [
    "def train_truncated_with_gradients(df, model, optimizer, epoch, batch_size, Dim):\n",
    "    model.train()\n",
    "    train_loss = 0\n",
    "    permutations = torch.randperm(df.shape[0])\n",
    "    gradients = torch.zeros(df.shape[1]).to(device)\n",
    "    for i in range(math.ceil(len(df)/batch_size)):\n",
    "        batch_ind = permutations[i * batch_size : (i+1) * batch_size]\n",
    "        batch_data = df[batch_ind, :].clone().to(device)\n",
    "        \n",
    "        \n",
    "        # need to do this twice because deriative with respect to input not implemented in BCE\n",
    "        # so need to switch them up\n",
    "        optimizer.zero_grad()\n",
    "        batch_data.requires_grad_(True)\n",
    "        mu_x, mu_latent, logvar_latent = model(batch_data)\n",
    "        # why clone detach here?\n",
    "        # still want gradient with respect to input, but BCE gradient with respect to target is not defined\n",
    "        # plus we only want to see how input affects mu_x, not the target\n",
    "        loss = loss_function_per_autoencoder(batch_data[:, :Dim].clone().detach(), mu_x[:, :Dim], \n",
    "                                             mu_latent, logvar_latent) \n",
    "        loss.backward(retain_graph=True)\n",
    "\n",
    "        with torch.no_grad():\n",
    "            gradients += torch.sqrt(batch_data.grad ** 2).sum(dim = 0)\n",
    "        # no step\n",
    "        \n",
    "        optimizer.zero_grad()\n",
    "        # do not calculate with respect to \n",
    "        batch_data.requires_grad_(False)\n",
    "        mu_x.requires_grad_(True)\n",
    "        loss = loss_function_per_autoencoder(batch_data[:, :Dim], mu_x[:, :Dim], mu_latent, logvar_latent) \n",
    "        loss.backward()\n",
    "        train_loss += loss.item()\n",
    "        optimizer.step()\n",
    "        \n",
    "        \n",
    "        \n",
    "        if i % log_interval == 0:\n",
    "            print('Train Epoch: {} [{}/{} ({:.0f}%)]\\tLoss: {:.6f}'.format(\n",
    "                epoch, i * len(batch_data), len(df),\n",
    "                100. * i * len(batch_data)/ len(df),\n",
    "                loss.item() / len(batch_data)))\n",
    "\n",
    "    print('====> Epoch: {} Average loss: {:.4f}'.format(\n",
    "          epoch, train_loss / len(df)))\n",
    "    \n",
    "    return gradients\n",
    "    \n",
    "# match pre trained model\n",
    "def train_pre_trained_truncated(df, model, optimizer, epoch, pretrained_model, batch_size, D):\n",
    "    model.train()\n",
    "    train_loss = 0\n",
    "    permutations = torch.randperm(df.shape[0])\n",
    "    for i in range(math.ceil(len(df)/batch_size)):\n",
    "        batch_ind = permutations[i * batch_size : (i+1) * batch_size]\n",
    "        batch_data = df[batch_ind, :].clone()\n",
    "        \n",
    "        batch_data.requires_grad_(True)\n",
    "        \n",
    "        optimizer.zero_grad()\n",
    "        mu_x, mu_latent, logvar_latent = model(batch_data)\n",
    "        with torch.no_grad():\n",
    "            _, mu_latent_2, logvar_latent_2 = pretrained_model(batch_data)\n",
    "        \n",
    "        loss = loss_function_per_autoencoder(batch_data[:, :D], mu_x[:, :D], mu_latent, logvar_latent)\n",
    "        loss += 10*F.mse_loss(mu_latent, mu_latent_2, reduction = 'sum')\n",
    "        loss.backward()\n",
    "        train_loss += loss.item()\n",
    "        optimizer.step()\n",
    "        \n",
    "        if i % log_interval == 0:\n",
    "            print('Train Epoch: {} [{}/{} ({:.0f}%)]\\tLoss: {:.6f}'.format(\n",
    "                epoch, i * len(batch_data), len(df),\n",
    "                100. * i * len(batch_data)/ len(df),\n",
    "                loss.item() / len(batch_data)))\n",
    "\n",
    "    print('====> Epoch: {} Average loss: {:.4f}'.format(\n",
    "          epoch, train_loss / len(df)))"
   ]
  },
  {
   "cell_type": "code",
   "execution_count": 78,
   "metadata": {},
   "outputs": [],
   "source": [
    "global_t = 0.1"
   ]
  },
  {
   "cell_type": "code",
   "execution_count": 79,
   "metadata": {},
   "outputs": [],
   "source": [
    "# let's see how it does here\n",
    "vae_gumbel_truncated = VAE_Gumbel(2*D, 100, 20, k = 3*z_size, t = global_t)\n",
    "vae_gumbel_truncated.to(device)\n",
    "vae_gumbel_trunc_optimizer = torch.optim.Adam(vae_gumbel_truncated.parameters(), \n",
    "                                                lr=lr, \n",
    "                                                betas = (b1,b2))"
   ]
  },
  {
   "cell_type": "markdown",
   "metadata": {},
   "source": [
    "Just train a gumbel without matching or joint training to see"
   ]
  },
  {
   "cell_type": "code",
   "execution_count": 80,
   "metadata": {},
   "outputs": [
    {
     "name": "stdout",
     "output_type": "stream",
     "text": [
      "Train Epoch: 1 [0/4000 (0%)]\tLoss: 20.603951\n",
      "Train Epoch: 1 [1280/4000 (32%)]\tLoss: 19.685429\n",
      "Train Epoch: 1 [2560/4000 (64%)]\tLoss: 18.728348\n",
      "Train Epoch: 1 [3840/4000 (96%)]\tLoss: 18.104939\n",
      "====> Epoch: 1 Average loss: 19.2062\n",
      "====> Test set loss: 38.8664\n",
      "Train Epoch: 2 [0/4000 (0%)]\tLoss: 17.837116\n",
      "Train Epoch: 2 [1280/4000 (32%)]\tLoss: 16.836750\n",
      "Train Epoch: 2 [2560/4000 (64%)]\tLoss: 15.432273\n",
      "Train Epoch: 2 [3840/4000 (96%)]\tLoss: 14.460063\n",
      "====> Epoch: 2 Average loss: 16.1168\n",
      "====> Test set loss: 36.0047\n",
      "Train Epoch: 3 [0/4000 (0%)]\tLoss: 14.345492\n",
      "Train Epoch: 3 [1280/4000 (32%)]\tLoss: 13.826084\n",
      "Train Epoch: 3 [2560/4000 (64%)]\tLoss: 13.376080\n",
      "Train Epoch: 3 [3840/4000 (96%)]\tLoss: 13.494702\n",
      "====> Epoch: 3 Average loss: 13.7539\n",
      "====> Test set loss: 34.7974\n",
      "Train Epoch: 4 [0/4000 (0%)]\tLoss: 13.203712\n",
      "Train Epoch: 4 [1280/4000 (32%)]\tLoss: 12.809281\n",
      "Train Epoch: 4 [2560/4000 (64%)]\tLoss: 12.940740\n",
      "Train Epoch: 4 [3840/4000 (96%)]\tLoss: 13.150167\n",
      "====> Epoch: 4 Average loss: 13.0482\n",
      "====> Test set loss: 34.3484\n",
      "Train Epoch: 5 [0/4000 (0%)]\tLoss: 12.822335\n",
      "Train Epoch: 5 [1280/4000 (32%)]\tLoss: 12.987049\n",
      "Train Epoch: 5 [2560/4000 (64%)]\tLoss: 12.661539\n",
      "Train Epoch: 5 [3840/4000 (96%)]\tLoss: 12.405385\n",
      "====> Epoch: 5 Average loss: 12.7528\n",
      "====> Test set loss: 34.1124\n",
      "Train Epoch: 6 [0/4000 (0%)]\tLoss: 12.291835\n",
      "Train Epoch: 6 [1280/4000 (32%)]\tLoss: 12.717616\n",
      "Train Epoch: 6 [2560/4000 (64%)]\tLoss: 12.062459\n",
      "Train Epoch: 6 [3840/4000 (96%)]\tLoss: 12.293030\n",
      "====> Epoch: 6 Average loss: 12.5873\n",
      "====> Test set loss: 33.9798\n",
      "Train Epoch: 7 [0/4000 (0%)]\tLoss: 12.191112\n",
      "Train Epoch: 7 [1280/4000 (32%)]\tLoss: 12.227197\n",
      "Train Epoch: 7 [2560/4000 (64%)]\tLoss: 12.050475\n",
      "Train Epoch: 7 [3840/4000 (96%)]\tLoss: 12.458878\n",
      "====> Epoch: 7 Average loss: 12.4749\n",
      "====> Test set loss: 33.8608\n",
      "Train Epoch: 8 [0/4000 (0%)]\tLoss: 12.865963\n",
      "Train Epoch: 8 [1280/4000 (32%)]\tLoss: 12.375381\n",
      "Train Epoch: 8 [2560/4000 (64%)]\tLoss: 12.542953\n",
      "Train Epoch: 8 [3840/4000 (96%)]\tLoss: 12.233922\n",
      "====> Epoch: 8 Average loss: 12.3880\n",
      "====> Test set loss: 33.8064\n",
      "Train Epoch: 9 [0/4000 (0%)]\tLoss: 11.848983\n",
      "Train Epoch: 9 [1280/4000 (32%)]\tLoss: 12.434288\n",
      "Train Epoch: 9 [2560/4000 (64%)]\tLoss: 12.696182\n",
      "Train Epoch: 9 [3840/4000 (96%)]\tLoss: 12.547795\n",
      "====> Epoch: 9 Average loss: 12.3172\n",
      "====> Test set loss: 33.7378\n",
      "Train Epoch: 10 [0/4000 (0%)]\tLoss: 12.339724\n",
      "Train Epoch: 10 [1280/4000 (32%)]\tLoss: 12.563098\n",
      "Train Epoch: 10 [2560/4000 (64%)]\tLoss: 11.801852\n",
      "Train Epoch: 10 [3840/4000 (96%)]\tLoss: 12.122522\n",
      "====> Epoch: 10 Average loss: 12.2728\n",
      "====> Test set loss: 33.6453\n"
     ]
    }
   ],
   "source": [
    "gradients = torch.zeros(train_data.shape[1]).to(device)\n",
    "for epoch in range(1, n_epochs+1):\n",
    "    grads=train_truncated_with_gradients(train_data, vae_gumbel_truncated, \n",
    "                                         vae_gumbel_trunc_optimizer, epoch, batch_size, Dim = D)\n",
    "    if epoch > 5:\n",
    "        gradients += grads\n",
    "    test(test_data, vae_gumbel_truncated, epoch, batch_size)\n",
    "    \n",
    "gradients = gradients"
   ]
  },
  {
   "cell_type": "code",
   "execution_count": 81,
   "metadata": {},
   "outputs": [
    {
     "data": {
      "text/plain": [
       "<matplotlib.axes._subplots.AxesSubplot at 0x7f3d5f8421d0>"
      ]
     },
     "execution_count": 81,
     "metadata": {},
     "output_type": "execute_result"
    },
    {
     "data": {
      "image/png": "[encoded data removed]",
      "text/plain": [
       "<Figure size 432x288 with 2 Axes>"
      ]
     },
     "metadata": {
      "needs_background": "light"
     },
     "output_type": "display_data"
    }
   ],
   "source": [
    "sns.heatmap(gradients.clone().detach().cpu().numpy()[:, np.newaxis])"
   ]
  },
  {
   "cell_type": "code",
   "execution_count": 82,
   "metadata": {},
   "outputs": [
    {
     "data": {
      "text/plain": [
       "tensor([0.0978, 0.3031, 0.1394, 0.2099, 0.2063, 0.2098, 0.1076, 0.2316, 0.0298,\n",
       "        0.1968, 0.0261, 0.0561, 0.0848, 0.2727, 0.2320, 0.3355, 0.2739, 0.0056,\n",
       "        0.0301, 0.0953, 0.0889, 0.2483, 0.0063, 0.0231, 0.0009, 0.0924, 0.4782,\n",
       "        0.3251, 0.2092, 0.2881], device='cuda:0')"
      ]
     },
     "execution_count": 82,
     "metadata": {},
     "output_type": "execute_result"
    }
   ],
   "source": [
    "test_data.mean(dim = 0)[:D]"
   ]
  },
  {
   "cell_type": "code",
   "execution_count": 83,
   "metadata": {},
   "outputs": [
    {
     "data": {
      "text/plain": [
       "tensor([0.1197, 0.3199, 0.1576, 0.2190, 0.2233, 0.2228, 0.1175, 0.2402, 0.0606,\n",
       "        0.2235, 0.0555, 0.0650, 0.1165, 0.2942, 0.2304, 0.3309, 0.2863, 0.0494,\n",
       "        0.0591, 0.1237, 0.1024, 0.2569, 0.0356, 0.0550, 0.0368, 0.1075, 0.4738,\n",
       "        0.3436, 0.2326, 0.3095], device='cuda:0', grad_fn=<SliceBackward>)"
      ]
     },
     "execution_count": 83,
     "metadata": {},
     "output_type": "execute_result"
    }
   ],
   "source": [
    "vae_gumbel_truncated(test_data)[0].mean(dim = 0)[:D]"
   ]
  },
  {
   "cell_type": "code",
   "execution_count": 84,
   "metadata": {},
   "outputs": [
    {
     "data": {
      "text/plain": [
       "tensor([0.1913, 0.2338, 0.2076, 0.2199, 0.2306, 0.1890, 0.1805, 0.1945, 0.1051,\n",
       "        0.2321, 0.0976, 0.1389, 0.1652, 0.1922, 0.2341, 0.2330, 0.2048, 0.0390,\n",
       "        0.0929, 0.1692, 0.1755, 0.2236, 0.0499, 0.0923, 0.0152, 0.1863, 0.1593,\n",
       "        0.2244, 0.2096, 0.2350], device='cuda:0')"
      ]
     },
     "execution_count": 84,
     "metadata": {},
     "output_type": "execute_result"
    }
   ],
   "source": [
    "test_data.std(dim = 0)[:D]"
   ]
  },
  {
   "cell_type": "code",
   "execution_count": 85,
   "metadata": {},
   "outputs": [
    {
     "data": {
      "text/plain": [
       "tensor([0.0592, 0.0476, 0.0446, 0.0566, 0.0534, 0.0496, 0.0506, 0.0513, 0.0431,\n",
       "        0.0470, 0.0440, 0.0414, 0.0523, 0.0468, 0.0503, 0.0449, 0.0419, 0.0393,\n",
       "        0.0394, 0.0610, 0.0555, 0.0465, 0.0278, 0.0389, 0.0334, 0.0551, 0.0219,\n",
       "        0.0348, 0.0503, 0.0382], device='cuda:0', grad_fn=<SliceBackward>)"
      ]
     },
     "execution_count": 85,
     "metadata": {},
     "output_type": "execute_result"
    }
   ],
   "source": [
    "vae_gumbel_truncated(test_data)[0].std(dim = 0)[:D]"
   ]
  },
  {
   "cell_type": "code",
   "execution_count": 86,
   "metadata": {},
   "outputs": [],
   "source": [
    "with torch.no_grad():\n",
    "    w = vae_gumbel_truncated.weight_creator(test_data[0:10, :])\n",
    "    subset_indices = sample_subset(w, k=3*z_size, t=global_t).cpu()"
   ]
  },
  {
   "cell_type": "code",
   "execution_count": 87,
   "metadata": {},
   "outputs": [
    {
     "data": {
      "text/plain": [
       "<matplotlib.axes._subplots.AxesSubplot at 0x7f3d30b59850>"
      ]
     },
     "execution_count": 87,
     "metadata": {},
     "output_type": "execute_result"
    },
    {
     "data": {
      "image/png": "[encoded data removed]",
      "text/plain": [
       "<Figure size 432x288 with 2 Axes>"
      ]
     },
     "metadata": {
      "needs_background": "light"
     },
     "output_type": "display_data"
    }
   ],
   "source": [
    "sns.heatmap(subset_indices.sum(dim = 0).clone().detach().cpu().numpy()[:, np.newaxis])"
   ]
  },
  {
   "cell_type": "code",
   "execution_count": 88,
   "metadata": {},
   "outputs": [
    {
     "data": {
      "text/plain": [
       "tensor([[2.2033e-10, 4.1385e-06, 7.8867e-05, 5.0184e-01, 6.0649e-01, 3.1646e-05,\n",
       "         1.5820e-09, 8.3187e-04, 3.8480e-01, 4.2356e-07, 2.3095e-06, 5.2126e-01,\n",
       "         3.0055e-14, 8.4843e-01, 9.5906e-04, 5.5669e-12, 2.2515e-05, 1.2489e-01,\n",
       "         2.5157e-01, 3.3648e-04, 2.0704e-01, 3.6579e-02, 1.0065e+00, 2.6060e-07,\n",
       "         6.3274e-01, 2.6728e-02, 9.9013e-05, 1.3258e-03, 1.8280e-01, 9.9984e-01,\n",
       "         3.4750e-01, 3.2942e-01, 5.6898e-06, 7.7961e-01, 1.7808e-09, 2.0934e-05,\n",
       "         9.0837e-01, 1.6714e-05, 1.1975e+00, 1.7126e-03, 1.6156e-18, 5.2887e-01,\n",
       "         4.3101e-07, 3.6453e-24, 1.0516e-04, 1.1478e+00, 9.6168e-02, 2.9548e-01,\n",
       "         1.8074e-16, 7.8081e-09, 2.5626e-01, 2.1622e-02, 7.6024e-01, 1.4109e-03,\n",
       "         7.8614e-01, 8.5735e-06, 1.8741e-09, 8.9354e-16, 1.1745e+00, 3.2099e-02],\n",
       "        [1.9353e-08, 1.1223e-03, 1.3260e-04, 1.4142e-08, 3.3147e-05, 8.2445e-08,\n",
       "         3.7810e-03, 3.8130e-01, 4.6551e-02, 5.7176e-06, 6.6600e-01, 2.8194e-04,\n",
       "         8.5353e-01, 8.4648e-01, 9.1934e-03, 1.5914e-02, 5.6570e-06, 2.4011e-09,\n",
       "         1.6947e-07, 7.8698e-11, 1.3424e-04, 1.2000e+00, 1.4991e-07, 5.7060e-01,\n",
       "         1.4115e-15, 6.5513e-05, 3.8321e-01, 1.3319e-04, 5.0540e-01, 9.2704e-01,\n",
       "         4.7660e-06, 7.3618e-10, 1.5099e-07, 2.0480e-01, 1.1200e-09, 5.9326e-01,\n",
       "         5.1567e-04, 6.3131e-05, 2.9260e-04, 7.9789e-03, 1.6809e-01, 1.3044e-04,\n",
       "         1.7768e-01, 1.2498e-08, 5.4945e-02, 5.5395e-01, 7.7161e-02, 1.1951e-08,\n",
       "         6.0263e-01, 1.5742e-06, 4.6873e-08, 1.1343e+00, 5.9872e-01, 1.6342e-21,\n",
       "         7.1013e-01, 7.2938e-01, 4.2998e-01, 2.4740e-02, 1.2856e+00, 1.2347e+00],\n",
       "        [7.8821e-01, 9.2865e-01, 1.2342e-05, 5.1895e-06, 8.3798e-14, 3.3222e-04,\n",
       "         6.0845e-07, 1.8043e-03, 9.7064e-01, 2.5230e-07, 3.5329e-07, 1.9521e-01,\n",
       "         5.0251e-01, 7.8457e-01, 7.7642e-13, 1.9529e-06, 5.1995e-01, 6.0940e-07,\n",
       "         5.1599e-01, 8.7838e-09, 4.5901e-01, 4.0356e-06, 6.3276e-02, 1.4938e-06,\n",
       "         2.2410e-07, 8.2441e-01, 6.2230e-05, 7.8647e-03, 1.5875e-07, 9.9473e-01,\n",
       "         2.5789e-01, 7.4278e-21, 2.0928e-01, 3.5430e-01, 2.9214e-01, 9.9302e-01,\n",
       "         2.8767e-06, 1.0824e+00, 2.2859e-04, 2.0929e-01, 1.8620e-14, 9.6706e-01,\n",
       "         7.6020e-01, 5.9925e-08, 9.6503e-01, 5.6009e-02, 5.0449e-07, 2.9369e-02,\n",
       "         6.5116e-05, 1.3447e-05, 8.0368e-10, 6.4469e-03, 1.0565e-09, 7.1003e-01,\n",
       "         5.4958e-01, 3.8095e-04, 1.3266e-09, 5.7683e-07, 1.7970e-05, 1.7644e-19],\n",
       "        [5.7627e-10, 3.1417e-03, 4.0393e-02, 2.4980e-14, 1.7739e-01, 1.5113e-03,\n",
       "         5.9591e-01, 2.1852e-02, 3.9186e-08, 5.1633e-01, 1.9325e-06, 2.5951e-06,\n",
       "         4.6765e-07, 9.7907e-01, 6.5910e-02, 6.6027e-01, 1.8472e-01, 5.3895e-05,\n",
       "         4.8668e-01, 3.2951e-20, 3.6326e-08, 3.8738e-03, 4.9609e-01, 7.7451e-06,\n",
       "         8.4305e-06, 9.4796e-01, 6.1786e-01, 2.9455e-03, 1.1983e-06, 8.4482e-01,\n",
       "         7.9251e-04, 8.1035e-01, 4.3014e-01, 3.0467e-01, 4.8939e-06, 4.4649e-01,\n",
       "         3.3295e-16, 7.5834e-01, 2.8614e-06, 5.4759e-14, 3.8863e-01, 8.3471e-01,\n",
       "         6.4525e-04, 5.7042e-01, 5.7697e-14, 1.6192e-02, 3.9155e-02, 3.6406e-06,\n",
       "         1.0561e+00, 2.2947e-03, 5.1159e-02, 3.8147e-08, 8.8113e-01, 7.9753e-02,\n",
       "         6.9185e-01, 9.2410e-09, 3.7459e-02, 1.6550e-18, 9.5290e-01, 4.4104e-07],\n",
       "        [2.5276e-11, 3.6218e-06, 3.2091e-02, 5.1631e-01, 3.9320e-09, 1.1236e+00,\n",
       "         5.0782e-01, 1.0299e+00, 5.6913e-09, 4.2880e-10, 8.9247e-02, 3.2406e-10,\n",
       "         2.7654e-19, 6.4702e-10, 7.9989e-01, 5.9668e-05, 6.7161e-05, 3.4591e-05,\n",
       "         2.0053e-04, 9.1182e-05, 3.1020e-01, 1.3487e-09, 2.9513e-02, 1.7406e-07,\n",
       "         1.0605e+00, 4.6732e-07, 6.6882e-14, 3.0719e-01, 3.0708e-01, 9.2163e-01,\n",
       "         1.8666e-08, 8.9088e-05, 1.6661e-05, 7.5266e-08, 7.2871e-01, 1.1494e+00,\n",
       "         6.1750e-02, 5.0892e-01, 1.1091e-09, 1.2951e-14, 2.9734e-02, 4.1574e-07,\n",
       "         4.2801e-01, 1.9840e-03, 6.8581e-02, 1.2664e-02, 1.4273e-08, 2.1967e-01,\n",
       "         2.7217e-09, 1.2232e+00, 1.1973e+00, 1.6841e-01, 8.0466e-01, 2.9603e-04,\n",
       "         8.0310e-05, 2.3113e-07, 9.7859e-02, 8.9495e-08, 5.6339e-01, 6.9979e-01],\n",
       "        [9.3582e-01, 3.4249e-21, 5.9662e-09, 6.1724e-05, 7.3542e-01, 1.9020e-07,\n",
       "         4.2544e-02, 8.4968e-04, 4.4248e-06, 6.9128e-01, 5.6302e-04, 3.4103e-04,\n",
       "         4.4687e-01, 8.0452e-01, 1.7680e-05, 1.2399e-01, 4.6253e-04, 8.7813e-04,\n",
       "         1.0689e-02, 9.4540e-01, 1.0715e-02, 6.7683e-01, 2.8837e-08, 8.5125e-06,\n",
       "         7.7444e-03, 5.6427e-03, 2.3862e-01, 1.2521e-02, 8.0875e-01, 9.9657e-01,\n",
       "         7.0618e-04, 9.8654e-04, 1.4077e+00, 3.9841e-15, 5.4210e-01, 4.0748e-04,\n",
       "         5.2668e-01, 1.6985e-05, 7.6390e-01, 1.2861e-03, 1.0328e+00, 5.5703e-01,\n",
       "         7.6582e-08, 4.9935e-06, 6.3456e-01, 1.5935e-06, 5.2298e-06, 5.6111e-02,\n",
       "         2.8078e-04, 7.7657e-07, 2.4810e-09, 4.0107e-05, 1.1979e+00, 2.5177e-01,\n",
       "         2.6483e-01, 9.9311e-02, 1.6534e-02, 1.3770e-01, 5.8295e-13, 1.0180e-02],\n",
       "        [1.0133e+00, 2.5049e-05, 1.5253e-05, 1.0402e-01, 1.6148e-07, 3.3090e-02,\n",
       "         1.2069e-03, 1.5563e+00, 1.6196e-04, 2.8059e-06, 4.4989e-06, 6.4032e-13,\n",
       "         2.2404e-02, 3.9651e-01, 4.2326e-13, 2.6887e-06, 9.3785e-05, 3.4188e-01,\n",
       "         8.9675e-01, 2.3747e-15, 1.7432e-02, 1.6861e+00, 1.6144e-16, 2.4683e-01,\n",
       "         3.7361e-03, 3.0055e-01, 2.9713e-01, 4.8797e-03, 2.5418e-01, 1.8416e+00,\n",
       "         7.2160e-16, 1.2164e-09, 5.0132e-02, 1.2694e+00, 7.7274e-07, 1.8907e-02,\n",
       "         2.9938e-01, 1.2909e-01, 5.8305e-01, 1.1654e-04, 2.1539e-05, 4.8332e-11,\n",
       "         2.2082e-01, 9.0804e-06, 1.8952e-01, 4.7809e-01, 4.2606e-12, 3.8601e-05,\n",
       "         6.4080e-05, 2.4113e-01, 2.9383e-07, 8.0772e-06, 5.0367e-13, 4.2285e-12,\n",
       "         4.1847e-15, 2.3633e-02, 3.8526e-02, 8.2899e-01, 7.9666e-01, 8.1431e-01],\n",
       "        [6.6938e-05, 1.0440e-03, 1.1341e-15, 1.4475e-15, 1.9293e-03, 6.8749e-04,\n",
       "         2.3008e-07, 1.1098e-04, 8.3317e-08, 1.9817e-01, 1.4917e-02, 1.4186e-06,\n",
       "         1.3292e-14, 1.6827e+00, 1.7044e-20, 5.9303e-01, 1.0954e-13, 3.7217e-01,\n",
       "         0.0000e+00, 8.3155e-17, 5.7923e-09, 2.6967e-09, 2.1282e-16, 1.1645e-01,\n",
       "         1.4572e-01, 1.8736e-01, 1.0135e+00, 1.7195e+00, 5.1899e-01, 1.2891e+00,\n",
       "         3.5469e-06, 9.5016e-03, 1.7446e-06, 3.0688e-01, 1.4960e-03, 1.1163e+00,\n",
       "         6.0464e-13, 1.9639e-02, 3.2883e-02, 9.0162e-07, 1.1082e-07, 8.2292e-01,\n",
       "         4.6885e-10, 3.9918e-17, 2.2212e-11, 1.0753e+00, 1.2567e-03, 1.0210e-06,\n",
       "         5.7705e-02, 1.6157e-07, 5.7156e-01, 5.1247e-03, 2.7354e-05, 2.6349e-02,\n",
       "         4.4544e-01, 1.6030e-05, 8.9489e-01, 9.0426e-01, 8.5308e-01, 7.8020e-07],\n",
       "        [7.4773e-07, 2.1509e-09, 9.3399e-04, 2.0165e-06, 4.1735e-01, 1.4901e-01,\n",
       "         1.6852e-04, 3.9968e-05, 7.9632e-05, 9.9340e-05, 2.2010e-03, 1.1288e-01,\n",
       "         2.1843e-04, 2.5814e-03, 8.6195e-21, 9.8034e-01, 7.7492e-01, 2.0465e-20,\n",
       "         4.8313e-01, 5.2128e-02, 1.3563e-04, 1.2038e-01, 2.7305e-01, 3.9225e-03,\n",
       "         3.7435e-10, 1.3439e-11, 1.1803e+00, 2.6823e-04, 6.6288e-05, 7.3815e-01,\n",
       "         1.5843e-14, 1.3508e+00, 7.5363e-01, 9.9808e-01, 4.1820e-06, 1.2359e+00,\n",
       "         5.3062e-01, 2.7550e-02, 8.0279e-01, 1.0821e+00, 5.1142e-05, 6.8446e-09,\n",
       "         2.6715e-05, 1.5172e-03, 6.3530e-05, 2.7565e-05, 6.9108e-04, 1.2452e-02,\n",
       "         1.2985e+00, 1.6279e-07, 1.5693e-01, 2.3885e-12, 3.7194e-01, 8.3876e-02,\n",
       "         1.0851e-07, 7.7014e-14, 1.1829e-08, 4.3137e-06, 9.9999e-01, 2.6182e-11],\n",
       "        [8.3358e-02, 3.0234e-01, 9.8205e-02, 1.9463e-03, 2.0067e-15, 2.8495e-05,\n",
       "         8.4780e-07, 7.2899e-01, 2.5574e-01, 4.5020e-08, 3.6320e-06, 5.9897e-12,\n",
       "         1.9761e-01, 7.4824e-01, 5.4942e-04, 4.5481e-05, 2.7523e-08, 6.2305e-07,\n",
       "         3.7835e-01, 7.1146e-15, 3.5134e-02, 3.4500e-08, 2.2695e-02, 9.3231e-10,\n",
       "         7.7792e-01, 4.6080e-01, 4.9126e-01, 3.1630e-02, 5.4240e-01, 8.7597e-01,\n",
       "         1.3944e+00, 7.0444e-03, 8.1155e-01, 2.1804e-12, 2.7348e-06, 4.0080e-03,\n",
       "         7.3473e-03, 2.1744e-03, 4.9956e-05, 1.3187e-16, 8.8203e-01, 3.2874e-08,\n",
       "         1.0162e-01, 3.8610e-04, 9.7254e-01, 8.6631e-01, 2.9559e-01, 9.5942e-01,\n",
       "         3.2517e-28, 1.3751e-01, 1.4600e-01, 3.7527e-03, 4.5246e-18, 1.0068e-01,\n",
       "         2.1239e-02, 1.6035e-07, 2.3593e-01, 6.1864e-01, 1.3981e+00, 5.1913e-04]])"
      ]
     },
     "execution_count": 88,
     "metadata": {},
     "output_type": "execute_result"
    }
   ],
   "source": [
    "subset_indices"
   ]
  },
  {
   "cell_type": "code",
   "execution_count": 89,
   "metadata": {},
   "outputs": [
    {
     "data": {
      "text/plain": [
       "tensor([[38, 58, 45, 22, 29, 36, 13, 54, 33, 52, 24,  4, 41, 11,  3],\n",
       "        [58, 59, 21, 51, 29, 12, 13, 55, 54, 10, 48, 52, 35, 23, 45],\n",
       "        [37, 29, 35,  8, 41, 44,  1, 25,  0, 13, 42, 53, 54, 16, 18],\n",
       "        [48, 13, 58, 25, 52, 29, 41, 31, 37, 54, 15, 26,  6, 43,  9],\n",
       "        [49, 50, 35,  5, 24,  7, 29, 52, 14, 34, 59, 58,  3, 37,  6],\n",
       "        [32, 52, 40, 29, 19,  0, 28, 13, 38,  4,  9, 21, 44, 41, 34],\n",
       "        [29, 21,  7, 33,  0, 18, 57, 59, 58, 38, 45, 13, 17, 25, 36],\n",
       "        [27, 13, 29, 35, 45, 26, 57, 56, 58, 41, 15, 50, 28, 54, 17],\n",
       "        [31, 48, 35, 26, 39, 58, 33, 15, 38, 16, 32, 29, 36, 18,  4],\n",
       "        [58, 30, 44, 47, 40, 29, 45, 32, 24, 13,  7, 57, 28, 26, 25]])"
      ]
     },
     "execution_count": 89,
     "metadata": {},
     "output_type": "execute_result"
    }
   ],
   "source": [
    "torch.argsort(subset_indices, dim = 1, descending = True)[:, :3*z_size]"
   ]
  },
  {
   "cell_type": "code",
   "execution_count": 90,
   "metadata": {},
   "outputs": [
    {
     "name": "stdout",
     "output_type": "stream",
     "text": [
      "tensor(69.6819)\n",
      "tensor(80.3181)\n"
     ]
    }
   ],
   "source": [
    "print(subset_indices[:, :D].sum())\n",
    "\n",
    "print(subset_indices[:, D:2*D].sum())"
   ]
  },
  {
   "cell_type": "code",
   "execution_count": 91,
   "metadata": {},
   "outputs": [
    {
     "data": {
      "text/plain": [
       "tensor(72, device='cuda:0')"
      ]
     },
     "execution_count": 91,
     "metadata": {},
     "output_type": "execute_result"
    }
   ],
   "source": [
    "torch.sum(w.argsort(descending= True)[:, :3*z_size] < 30)"
   ]
  },
  {
   "cell_type": "markdown",
   "metadata": {},
   "source": [
    "What happens if you run it on all the data? And not truncate the loss to the first D features?"
   ]
  },
  {
   "cell_type": "code",
   "execution_count": 92,
   "metadata": {},
   "outputs": [],
   "source": [
    "# let's see how it does here\n",
    "vae_gumbel_truncated = VAE_Gumbel(2*D, 100, 20, k = 3*z_size, t = global_t)\n",
    "vae_gumbel_truncated.to(device)\n",
    "vae_gumbel_trunc_optimizer = torch.optim.Adam(vae_gumbel_truncated.parameters(), \n",
    "                                                lr=lr, \n",
    "                                                betas = (b1,b2))"
   ]
  },
  {
   "cell_type": "code",
   "execution_count": 93,
   "metadata": {},
   "outputs": [
    {
     "name": "stdout",
     "output_type": "stream",
     "text": [
      "Train Epoch: 1 [0/4000 (0%)]\tLoss: 42.418247\n",
      "Train Epoch: 1 [1280/4000 (32%)]\tLoss: 41.338345\n",
      "Train Epoch: 1 [2560/4000 (64%)]\tLoss: 40.549778\n",
      "Train Epoch: 1 [3840/4000 (96%)]\tLoss: 39.576008\n",
      "====> Epoch: 1 Average loss: 40.8841\n",
      "====> Test set loss: 39.4801\n",
      "Train Epoch: 2 [0/4000 (0%)]\tLoss: 39.528938\n",
      "Train Epoch: 2 [1280/4000 (32%)]\tLoss: 38.531277\n",
      "Train Epoch: 2 [2560/4000 (64%)]\tLoss: 37.746029\n",
      "Train Epoch: 2 [3840/4000 (96%)]\tLoss: 36.861862\n",
      "====> Epoch: 2 Average loss: 38.1238\n",
      "====> Test set loss: 36.3072\n",
      "Train Epoch: 3 [0/4000 (0%)]\tLoss: 36.407623\n",
      "Train Epoch: 3 [1280/4000 (32%)]\tLoss: 35.568157\n",
      "Train Epoch: 3 [2560/4000 (64%)]\tLoss: 34.785275\n",
      "Train Epoch: 3 [3840/4000 (96%)]\tLoss: 34.594353\n",
      "====> Epoch: 3 Average loss: 35.2023\n",
      "====> Test set loss: 34.3914\n",
      "Train Epoch: 4 [0/4000 (0%)]\tLoss: 34.546940\n",
      "Train Epoch: 4 [1280/4000 (32%)]\tLoss: 34.047134\n",
      "Train Epoch: 4 [2560/4000 (64%)]\tLoss: 33.973038\n",
      "Train Epoch: 4 [3840/4000 (96%)]\tLoss: 33.639668\n",
      "====> Epoch: 4 Average loss: 34.1069\n",
      "====> Test set loss: 33.8441\n",
      "Train Epoch: 5 [0/4000 (0%)]\tLoss: 33.799488\n",
      "Train Epoch: 5 [1280/4000 (32%)]\tLoss: 33.885506\n",
      "Train Epoch: 5 [2560/4000 (64%)]\tLoss: 33.638542\n",
      "Train Epoch: 5 [3840/4000 (96%)]\tLoss: 33.108135\n",
      "====> Epoch: 5 Average loss: 33.6949\n",
      "====> Test set loss: 33.5529\n",
      "Train Epoch: 6 [0/4000 (0%)]\tLoss: 33.589748\n",
      "Train Epoch: 6 [1280/4000 (32%)]\tLoss: 33.680782\n",
      "Train Epoch: 6 [2560/4000 (64%)]\tLoss: 33.645470\n",
      "Train Epoch: 6 [3840/4000 (96%)]\tLoss: 33.254608\n",
      "====> Epoch: 6 Average loss: 33.4826\n",
      "====> Test set loss: 33.3892\n",
      "Train Epoch: 7 [0/4000 (0%)]\tLoss: 33.372345\n",
      "Train Epoch: 7 [1280/4000 (32%)]\tLoss: 33.643135\n",
      "Train Epoch: 7 [2560/4000 (64%)]\tLoss: 33.537914\n",
      "Train Epoch: 7 [3840/4000 (96%)]\tLoss: 32.731743\n",
      "====> Epoch: 7 Average loss: 33.3484\n",
      "====> Test set loss: 33.2615\n",
      "Train Epoch: 8 [0/4000 (0%)]\tLoss: 33.338120\n",
      "Train Epoch: 8 [1280/4000 (32%)]\tLoss: 33.015045\n",
      "Train Epoch: 8 [2560/4000 (64%)]\tLoss: 33.007786\n",
      "Train Epoch: 8 [3840/4000 (96%)]\tLoss: 33.183796\n",
      "====> Epoch: 8 Average loss: 33.2243\n",
      "====> Test set loss: 33.1778\n",
      "Train Epoch: 9 [0/4000 (0%)]\tLoss: 33.272324\n",
      "Train Epoch: 9 [1280/4000 (32%)]\tLoss: 33.140705\n",
      "Train Epoch: 9 [2560/4000 (64%)]\tLoss: 32.966511\n",
      "Train Epoch: 9 [3840/4000 (96%)]\tLoss: 33.077461\n",
      "====> Epoch: 9 Average loss: 33.1606\n",
      "====> Test set loss: 33.0807\n",
      "Train Epoch: 10 [0/4000 (0%)]\tLoss: 32.837872\n",
      "Train Epoch: 10 [1280/4000 (32%)]\tLoss: 33.310787\n",
      "Train Epoch: 10 [2560/4000 (64%)]\tLoss: 33.595654\n",
      "Train Epoch: 10 [3840/4000 (96%)]\tLoss: 32.808311\n",
      "====> Epoch: 10 Average loss: 33.0789\n",
      "====> Test set loss: 33.0500\n"
     ]
    }
   ],
   "source": [
    "gradients = torch.zeros(train_data.shape[1]).to(device)\n",
    "for epoch in range(1, n_epochs+1):\n",
    "    grads=train_truncated_with_gradients(train_data, vae_gumbel_truncated, \n",
    "                                         vae_gumbel_trunc_optimizer, epoch, batch_size, Dim = 2*D)\n",
    "    if epoch > 5:\n",
    "        gradients += grads\n",
    "    test(test_data, vae_gumbel_truncated, epoch, batch_size)"
   ]
  },
  {
   "cell_type": "code",
   "execution_count": 94,
   "metadata": {},
   "outputs": [
    {
     "data": {
      "text/plain": [
       "<matplotlib.axes._subplots.AxesSubplot at 0x7f3d30a59b90>"
      ]
     },
     "execution_count": 94,
     "metadata": {},
     "output_type": "execute_result"
    },
    {
     "data": {
      "image/png": "[encoded data removed]",
      "text/plain": [
       "<Figure size 432x288 with 2 Axes>"
      ]
     },
     "metadata": {
      "needs_background": "light"
     },
     "output_type": "display_data"
    }
   ],
   "source": [
    "sns.heatmap(gradients.clone().detach().cpu().numpy()[:, np.newaxis])"
   ]
  },
  {
   "cell_type": "code",
   "execution_count": 95,
   "metadata": {},
   "outputs": [
    {
     "data": {
      "text/plain": [
       "tensor([0.0978, 0.3031, 0.1394, 0.2099, 0.2063, 0.2098, 0.1076, 0.2316, 0.0298,\n",
       "        0.1968, 0.0261, 0.0561, 0.0848, 0.2727, 0.2320, 0.3355, 0.2739, 0.0056,\n",
       "        0.0301, 0.0953, 0.0889, 0.2483, 0.0063, 0.0231, 0.0009, 0.0924, 0.4782,\n",
       "        0.3251, 0.2092, 0.2881], device='cuda:0')"
      ]
     },
     "execution_count": 95,
     "metadata": {},
     "output_type": "execute_result"
    }
   ],
   "source": [
    "test_data.mean(dim = 0)[:D]"
   ]
  },
  {
   "cell_type": "code",
   "execution_count": 96,
   "metadata": {},
   "outputs": [
    {
     "data": {
      "text/plain": [
       "tensor([0.1031, 0.3013, 0.1440, 0.2081, 0.2162, 0.2130, 0.1098, 0.2335, 0.0582,\n",
       "        0.2091, 0.0413, 0.0709, 0.1091, 0.2866, 0.2203, 0.3276, 0.2797, 0.0362,\n",
       "        0.0529, 0.1051, 0.0938, 0.2499, 0.0342, 0.0509, 0.0344, 0.0915, 0.4767,\n",
       "        0.3331, 0.2205, 0.3030], device='cuda:0', grad_fn=<SliceBackward>)"
      ]
     },
     "execution_count": 96,
     "metadata": {},
     "output_type": "execute_result"
    }
   ],
   "source": [
    "vae_gumbel_truncated(test_data)[0].mean(dim = 0)[:D]"
   ]
  },
  {
   "cell_type": "code",
   "execution_count": 97,
   "metadata": {},
   "outputs": [
    {
     "data": {
      "text/plain": [
       "tensor([0.1913, 0.2338, 0.2076, 0.2199, 0.2306, 0.1890, 0.1805, 0.1945, 0.1051,\n",
       "        0.2321, 0.0976, 0.1389, 0.1652, 0.1922, 0.2341, 0.2330, 0.2048, 0.0390,\n",
       "        0.0929, 0.1692, 0.1755, 0.2236, 0.0499, 0.0923, 0.0152, 0.1863, 0.1593,\n",
       "        0.2244, 0.2096, 0.2350], device='cuda:0')"
      ]
     },
     "execution_count": 97,
     "metadata": {},
     "output_type": "execute_result"
    }
   ],
   "source": [
    "test_data.std(dim = 0)[:D]"
   ]
  },
  {
   "cell_type": "code",
   "execution_count": 98,
   "metadata": {},
   "outputs": [
    {
     "data": {
      "text/plain": [
       "tensor([0.0524, 0.0358, 0.0503, 0.0537, 0.0519, 0.0541, 0.0518, 0.0574, 0.0445,\n",
       "        0.0418, 0.0344, 0.0479, 0.0553, 0.0483, 0.0488, 0.0356, 0.0480, 0.0328,\n",
       "        0.0383, 0.0488, 0.0518, 0.0544, 0.0330, 0.0376, 0.0340, 0.0490, 0.0197,\n",
       "        0.0439, 0.0497, 0.0478], device='cuda:0', grad_fn=<SliceBackward>)"
      ]
     },
     "execution_count": 98,
     "metadata": {},
     "output_type": "execute_result"
    }
   ],
   "source": [
    "vae_gumbel_truncated(test_data)[0].std(dim = 0)[:D]"
   ]
  },
  {
   "cell_type": "code",
   "execution_count": 99,
   "metadata": {},
   "outputs": [],
   "source": [
    "with torch.no_grad():\n",
    "    w = vae_gumbel_truncated.weight_creator(test_data[0:10, :])\n",
    "    subset_indices = sample_subset(w, k=3*z_size, t=global_t).cpu()"
   ]
  },
  {
   "cell_type": "code",
   "execution_count": 100,
   "metadata": {},
   "outputs": [
    {
     "data": {
      "text/plain": [
       "<matplotlib.axes._subplots.AxesSubplot at 0x7f3d31d7ac50>"
      ]
     },
     "execution_count": 100,
     "metadata": {},
     "output_type": "execute_result"
    },
    {
     "data": {
      "image/png": "[encoded data removed]",
      "text/plain": [
       "<Figure size 432x288 with 2 Axes>"
      ]
     },
     "metadata": {
      "needs_background": "light"
     },
     "output_type": "display_data"
    }
   ],
   "source": [
    "sns.heatmap(subset_indices.sum(dim = 0).clone().detach().cpu().numpy()[:, np.newaxis])"
   ]
  },
  {
   "cell_type": "code",
   "execution_count": 101,
   "metadata": {},
   "outputs": [
    {
     "data": {
      "text/plain": [
       "tensor([[2.1957e-03, 4.1217e-08, 1.3116e-07, 5.3050e-01, 2.1658e-01, 6.4857e-13,\n",
       "         9.6019e-05, 1.3639e-01, 3.7742e-18, 5.1030e-07, 2.4047e-08, 2.4734e-02,\n",
       "         1.7548e-06, 6.1487e-04, 8.2126e-11, 9.2167e-01, 8.4010e-16, 1.6186e-03,\n",
       "         1.2535e-13, 1.1427e+00, 7.3616e-09, 5.6328e-01, 2.4434e-04, 6.1465e-14,\n",
       "         1.0250e-04, 2.3740e-03, 6.9621e-01, 9.4910e-07, 7.7099e-02, 1.3132e+00,\n",
       "         7.2230e-08, 2.7760e-09, 7.9652e-01, 2.7674e-03, 2.1156e-01, 1.6934e-01,\n",
       "         8.6480e-05, 2.4194e-02, 1.1694e+00, 8.2971e-01, 5.5229e-04, 4.1136e-01,\n",
       "         1.7791e-07, 1.4301e-02, 1.7501e-06, 1.4520e+00, 1.7154e-01, 2.0627e-03,\n",
       "         1.2279e-06, 9.7056e-01, 2.5661e-01, 9.2322e-04, 5.4273e-04, 3.9920e-03,\n",
       "         3.3534e-05, 4.0421e-03, 9.9279e-01, 1.1448e+00, 2.0802e-09, 7.4062e-01],\n",
       "        [1.0324e-09, 2.8821e-01, 8.9008e-01, 8.3829e-02, 1.4763e-12, 6.7373e-05,\n",
       "         6.5204e-01, 9.5666e-04, 4.2889e-03, 9.9894e-02, 6.9019e-04, 7.6299e-07,\n",
       "         6.6169e-01, 2.8862e-13, 2.4768e-04, 6.8559e-08, 1.5383e-02, 5.1648e-01,\n",
       "         8.4099e-01, 3.1250e-25, 8.8820e-04, 4.4030e-05, 7.4596e-09, 4.6308e-21,\n",
       "         3.6022e-01, 1.4174e+00, 4.6974e-01, 1.5053e-16, 1.2312e+00, 2.8947e-04,\n",
       "         3.3799e-07, 6.5764e-01, 1.8277e-06, 9.1737e-01, 1.4446e-11, 1.6904e-03,\n",
       "         3.1547e-04, 1.5943e-02, 1.5358e+00, 7.5402e-02, 1.5611e-10, 2.3745e-08,\n",
       "         9.6083e-06, 1.1340e+00, 7.7641e-01, 6.3322e-01, 3.1138e-05, 6.3714e-06,\n",
       "         5.2096e-10, 1.8897e-01, 4.5795e-05, 2.5003e-05, 2.4074e-01, 4.1017e-01,\n",
       "         3.1030e-02, 1.2316e-07, 3.9441e-02, 1.3906e-02, 5.6355e-02, 7.3692e-01],\n",
       "        [8.8739e-04, 5.2815e-01, 3.5406e-05, 4.0620e-10, 1.6261e-06, 1.0801e+00,\n",
       "         1.3330e+00, 4.3025e-30, 1.1579e-19, 5.6244e-05, 7.0722e-01, 4.0594e-01,\n",
       "         2.2190e-14, 1.1971e-01, 3.6046e-03, 6.7897e-09, 1.5605e-09, 1.1287e+00,\n",
       "         1.3029e-03, 1.1482e-08, 3.7953e-12, 6.6683e-06, 1.2808e-04, 1.6510e-09,\n",
       "         1.4488e-11, 1.3792e-02, 1.7308e-05, 3.9539e-01, 5.7451e-02, 4.1800e-01,\n",
       "         1.6640e-01, 4.3303e-01, 3.0220e-04, 7.5765e-08, 5.7158e-07, 1.1296e+00,\n",
       "         5.3120e-01, 2.6474e-01, 9.0329e-01, 9.0902e-01, 1.0198e-02, 7.4758e-12,\n",
       "         5.0334e-06, 2.3148e-05, 2.5299e-02, 1.6490e-01, 4.6664e-01, 1.5049e-15,\n",
       "         3.3900e-12, 4.8083e-01, 7.6037e-01, 4.9980e-01, 3.5576e-04, 4.6475e-01,\n",
       "         2.2418e-20, 1.1094e+00, 1.8508e-07, 1.3049e-02, 4.7329e-01, 1.8428e-07],\n",
       "        [1.4117e-09, 6.0618e-02, 5.4532e-02, 4.6417e-10, 2.5565e-02, 1.0479e+00,\n",
       "         1.6133e-12, 1.0328e+00, 9.4519e-09, 2.2478e-03, 9.9865e-01, 2.7233e-12,\n",
       "         5.3154e-08, 1.2643e+00, 3.7691e-08, 7.1492e-06, 1.0562e+00, 1.2155e-01,\n",
       "         1.0532e+00, 1.0886e-06, 1.7029e-02, 1.0662e-03, 1.0519e-06, 1.0437e-09,\n",
       "         3.8218e-01, 5.9643e-01, 2.6261e-09, 5.1385e-02, 4.1368e-17, 7.4945e-02,\n",
       "         6.5152e-10, 4.6228e-09, 6.0745e-05, 3.5968e-02, 1.3017e-04, 4.7108e-01,\n",
       "         1.2604e+00, 8.6509e-01, 1.3082e+00, 9.9907e-13, 1.8685e-01, 4.8434e-01,\n",
       "         1.4834e-12, 5.0893e-02, 4.0371e-02, 1.2259e-03, 2.6482e-13, 7.0941e-05,\n",
       "         3.7742e-07, 2.7190e-01, 8.3515e-11, 8.2605e-02, 2.6574e-03, 9.2101e-09,\n",
       "         5.9400e-01, 4.5499e-02, 2.4068e-05, 4.4898e-02, 3.4164e-04, 1.4129e+00],\n",
       "        [5.2407e-01, 1.9711e-14, 4.9678e-17, 4.0884e-01, 2.2995e-11, 2.8078e-02,\n",
       "         2.4533e-01, 7.4349e-01, 3.1188e-05, 6.1826e-15, 3.2932e-03, 3.3447e-11,\n",
       "         4.0119e-05, 8.2720e-08, 2.9630e-07, 2.2775e-02, 1.7440e-02, 2.5912e-10,\n",
       "         4.6235e-01, 5.4000e-01, 2.2621e-02, 2.5111e-02, 1.0315e+00, 4.0788e-17,\n",
       "         1.0651e-05, 9.4551e-01, 1.3320e-05, 1.3668e-07, 6.6288e-16, 3.8996e-01,\n",
       "         4.6205e-01, 1.0654e-02, 2.0132e-01, 3.5349e-13, 2.0758e-03, 6.9121e-07,\n",
       "         7.5206e-01, 8.9813e-01, 5.0272e-01, 3.3679e-12, 8.6517e-13, 6.9312e-01,\n",
       "         2.5095e-01, 2.9216e-03, 7.3740e-01, 6.8011e-01, 1.2176e-16, 7.1010e-03,\n",
       "         9.9999e-01, 1.0802e+00, 1.0200e+00, 3.5114e-04, 1.6269e-03, 3.8064e-01,\n",
       "         1.2939e-15, 1.7832e-08, 6.8875e-01, 2.1731e-01, 4.4628e-10, 4.1659e-06],\n",
       "        [4.9268e-02, 2.1326e-01, 5.4878e-02, 9.4173e-01, 1.5586e-06, 8.1191e-02,\n",
       "         3.8084e-05, 3.3481e-05, 4.3294e-08, 5.4457e-01, 1.0485e+00, 2.7365e-02,\n",
       "         1.6186e-04, 1.4877e-15, 6.6368e-01, 6.7403e-01, 5.8458e-04, 2.3652e-21,\n",
       "         1.0449e+00, 5.3984e-04, 1.6035e-04, 7.0278e-09, 1.2709e-01, 8.4279e-01,\n",
       "         7.5396e-03, 2.5925e-03, 4.9025e-01, 4.2235e-05, 2.6523e-01, 1.3899e-01,\n",
       "         7.3629e-08, 2.5397e-01, 2.6236e-03, 4.6222e-07, 2.1549e-06, 8.0332e-01,\n",
       "         4.1466e-02, 6.8451e-17, 5.5728e-01, 3.2035e-01, 6.1866e-02, 4.2383e-01,\n",
       "         7.5921e-24, 6.9541e-01, 4.7340e-02, 1.0904e-04, 3.6739e-01, 3.5317e-02,\n",
       "         3.9720e-01, 8.9697e-01, 2.8792e-02, 5.6477e-06, 7.5350e-01, 6.2096e-01,\n",
       "         2.1005e-06, 8.7197e-02, 2.9139e-01, 1.0219e-03, 6.3717e-05, 1.0932e+00],\n",
       "        [2.4625e-09, 1.5966e-07, 3.0524e-08, 3.7560e-07, 3.3697e-10, 8.0920e-03,\n",
       "         5.4029e-09, 8.9080e-09, 7.5660e-01, 1.6404e-05, 8.8315e-11, 1.4258e-04,\n",
       "         2.3765e-03, 2.2855e-01, 8.8593e-02, 7.6049e-01, 2.5483e-09, 1.0450e-09,\n",
       "         4.3004e-01, 4.6872e-06, 6.1988e-22, 1.3344e+00, 6.9400e-05, 1.2809e-06,\n",
       "         1.7976e-13, 7.2379e-04, 1.1216e-03, 9.1590e-17, 3.4443e-10, 4.2917e-02,\n",
       "         9.4665e-01, 1.2865e+00, 2.1170e-06, 6.7630e-01, 4.9945e-01, 3.4793e-09,\n",
       "         6.6584e-01, 5.1295e-03, 1.3277e+00, 2.4532e-07, 4.3791e-01, 1.2830e-02,\n",
       "         2.2291e-05, 5.6194e-05, 5.1420e-06, 1.7721e-01, 8.6137e-02, 2.7590e-01,\n",
       "         1.2807e+00, 1.0540e+00, 5.5831e-03, 4.7782e-01, 1.3082e+00, 2.6789e-25,\n",
       "         4.9932e-03, 5.7007e-17, 6.2526e-02, 1.0988e-02, 7.2114e-01, 2.2363e-02],\n",
       "        [3.1044e-01, 9.9432e-01, 1.0962e-06, 2.0309e-01, 9.2882e-01, 2.9228e-07,\n",
       "         9.6036e-02, 2.5764e-17, 4.8000e-10, 2.1842e-06, 2.9307e-08, 1.5312e-01,\n",
       "         5.4610e-02, 3.0225e-03, 7.4901e-05, 7.1409e-11, 1.1782e-05, 1.7699e-01,\n",
       "         5.1123e-10, 3.6168e-34, 5.4191e-01, 2.0441e-08, 6.3143e-02, 2.1212e-10,\n",
       "         7.8744e-07, 5.1144e-01, 1.7678e-01, 7.7867e-01, 3.7328e-04, 1.3543e+00,\n",
       "         4.4947e-11, 4.7706e-03, 6.6642e-01, 9.3594e-01, 1.6669e-05, 2.7225e-10,\n",
       "         6.7061e-08, 7.0430e-01, 4.8315e-05, 3.6113e-01, 1.8868e-07, 8.5232e-01,\n",
       "         9.2418e-01, 8.3913e-05, 1.8766e-01, 6.7195e-03, 2.1164e-02, 3.5625e-01,\n",
       "         9.8834e-05, 1.0333e+00, 1.0539e-04, 1.0167e-03, 1.4882e-11, 4.7998e-01,\n",
       "         1.1784e-04, 1.4520e+00, 2.4258e-02, 6.4086e-01, 4.5458e-10, 4.5594e-05],\n",
       "        [8.6945e-13, 1.9752e-08, 9.8561e-02, 1.3344e-16, 8.7177e-01, 3.0915e-19,\n",
       "         1.2036e+00, 5.6386e-08, 3.5289e-07, 2.2877e-09, 7.5715e-01, 1.2145e+00,\n",
       "         1.1810e-02, 3.0459e-01, 2.4366e-05, 2.7508e-04, 2.1030e-06, 2.6717e-01,\n",
       "         1.1383e+00, 6.9153e-03, 6.3543e-10, 1.9947e-05, 1.5475e-01, 9.9608e-05,\n",
       "         4.7133e-01, 5.1425e-11, 2.7248e-15, 2.9869e-07, 2.9379e-01, 2.2912e-03,\n",
       "         2.4994e-04, 8.4320e-09, 1.2170e-01, 3.8241e-05, 3.2167e-01, 5.7608e-04,\n",
       "         1.7652e-08, 4.0082e-07, 1.3452e+00, 2.1315e-07, 5.0099e-06, 3.5190e-01,\n",
       "         5.8450e-01, 1.4500e-12, 7.8476e-02, 1.8922e-05, 1.2055e-09, 6.9796e-04,\n",
       "         9.8160e-01, 1.3165e+00, 8.6216e-01, 6.4974e-02, 6.7129e-02, 4.1561e-01,\n",
       "         5.1393e-01, 1.1727e+00, 8.8482e-08, 3.5004e-03, 5.3727e-19, 2.5023e-07],\n",
       "        [8.1592e-02, 1.1219e-02, 1.6430e-09, 1.8156e-06, 4.7809e-04, 1.6188e-07,\n",
       "         1.0201e-09, 5.5427e-01, 3.0938e-07, 9.0176e-11, 1.9060e-02, 3.1287e-09,\n",
       "         2.2273e-01, 1.1661e+00, 8.7238e-15, 9.7619e-12, 4.5474e-07, 6.9214e-01,\n",
       "         2.9378e-04, 1.4562e-01, 7.9812e-04, 3.0335e-01, 1.1436e-07, 2.6593e-04,\n",
       "         9.6616e-10, 5.1543e-05, 1.2842e-10, 6.2932e-07, 2.9150e-03, 6.2426e-01,\n",
       "         2.1820e-11, 9.6231e-02, 3.5345e-01, 6.0562e-03, 1.0052e+00, 9.7089e-01,\n",
       "         7.3464e-01, 4.3287e-01, 9.5583e-01, 9.6551e-01, 1.9339e-02, 8.9028e-01,\n",
       "         1.1637e-01, 9.6650e-02, 4.5608e-14, 5.2120e-01, 6.5731e-12, 3.5358e-13,\n",
       "         3.5744e-01, 1.0386e+00, 9.1346e-01, 6.1154e-12, 4.3493e-05, 2.3775e-01,\n",
       "         4.1505e-01, 5.6058e-01, 8.9460e-05, 4.7412e-01, 7.4805e-24, 1.3129e-02]])"
      ]
     },
     "execution_count": 101,
     "metadata": {},
     "output_type": "execute_result"
    }
   ],
   "source": [
    "subset_indices"
   ]
  },
  {
   "cell_type": "code",
   "execution_count": 102,
   "metadata": {},
   "outputs": [
    {
     "data": {
      "text/plain": [
       "tensor([[45, 29, 38, 57, 19, 56, 49, 15, 39, 32, 59, 26, 21,  3, 41],\n",
       "        [38, 25, 28, 43, 33,  2, 18, 44, 59, 12, 31,  6, 45, 17, 26],\n",
       "        [ 6, 35, 17, 55,  5, 39, 38, 50, 10, 36,  1, 51, 49, 58, 46],\n",
       "        [59, 38, 13, 36, 16, 18,  5,  7, 10, 37, 25, 54, 41, 35, 24],\n",
       "        [49, 22, 50, 48, 25, 37, 36,  7, 44, 41, 56, 45, 19,  0, 38],\n",
       "        [59, 10, 18,  3, 49, 23, 35, 52, 43, 15, 14, 53, 38,  9, 26],\n",
       "        [21, 38, 52, 31, 48, 49, 30, 15,  8, 58, 33, 36, 34, 51, 40],\n",
       "        [55, 29, 49,  1, 33,  4, 42, 41, 27, 37, 32, 57, 20, 25, 53],\n",
       "        [38, 49, 11,  6, 55, 18, 48,  4, 50, 10, 42, 54, 24, 53, 41],\n",
       "        [13, 49, 34, 35, 39, 38, 50, 41, 36, 17, 29, 55,  7, 45, 57]])"
      ]
     },
     "execution_count": 102,
     "metadata": {},
     "output_type": "execute_result"
    }
   ],
   "source": [
    "torch.argsort(subset_indices, dim = 1, descending = True)[:, :3*z_size]"
   ]
  },
  {
   "cell_type": "code",
   "execution_count": 103,
   "metadata": {},
   "outputs": [
    {
     "name": "stdout",
     "output_type": "stream",
     "text": [
      "tensor(60.4515)\n",
      "tensor(89.5485)\n"
     ]
    }
   ],
   "source": [
    "print(subset_indices[:, :D].sum())\n",
    "\n",
    "print(subset_indices[:, D:2*D].sum())"
   ]
  },
  {
   "cell_type": "code",
   "execution_count": 104,
   "metadata": {},
   "outputs": [
    {
     "data": {
      "text/plain": [
       "tensor(59, device='cuda:0')"
      ]
     },
     "execution_count": 104,
     "metadata": {},
     "output_type": "execute_result"
    }
   ],
   "source": [
    "torch.sum(w.argsort(descending= True)[:, :3*z_size] < 30)"
   ]
  },
  {
   "cell_type": "markdown",
   "metadata": {},
   "source": [
    "# How does a normal VAE do?"
   ]
  },
  {
   "cell_type": "markdown",
   "metadata": {},
   "source": [
    "Trying to reconstruct first 30 features only"
   ]
  },
  {
   "cell_type": "code",
   "execution_count": 105,
   "metadata": {},
   "outputs": [],
   "source": [
    "vanilla_vae = VAE(2*D, 100, 20)\n",
    "\n",
    "vanilla_vae.to(device)\n",
    "vanilla_vae_optimizer = torch.optim.Adam(vanilla_vae.parameters(), \n",
    "                                            lr=lr,\n",
    "                                            betas = (b1,b2))"
   ]
  },
  {
   "cell_type": "code",
   "execution_count": 106,
   "metadata": {},
   "outputs": [
    {
     "name": "stdout",
     "output_type": "stream",
     "text": [
      "Train Epoch: 1 [0/4000 (0%)]\tLoss: 21.047403\n",
      "Train Epoch: 1 [1280/4000 (32%)]\tLoss: 20.051741\n",
      "Train Epoch: 1 [2560/4000 (64%)]\tLoss: 19.108959\n",
      "Train Epoch: 1 [3840/4000 (96%)]\tLoss: 18.373169\n",
      "====> Epoch: 1 Average loss: 19.6401\n",
      "====> Test set loss: 39.1637\n",
      "Train Epoch: 2 [0/4000 (0%)]\tLoss: 18.304516\n",
      "Train Epoch: 2 [1280/4000 (32%)]\tLoss: 17.499392\n",
      "Train Epoch: 2 [2560/4000 (64%)]\tLoss: 15.739826\n",
      "Train Epoch: 2 [3840/4000 (96%)]\tLoss: 14.872540\n",
      "====> Epoch: 2 Average loss: 16.4072\n",
      "====> Test set loss: 35.9770\n",
      "Train Epoch: 3 [0/4000 (0%)]\tLoss: 14.670109\n",
      "Train Epoch: 3 [1280/4000 (32%)]\tLoss: 13.483430\n",
      "Train Epoch: 3 [2560/4000 (64%)]\tLoss: 13.659747\n",
      "Train Epoch: 3 [3840/4000 (96%)]\tLoss: 13.333156\n",
      "====> Epoch: 3 Average loss: 13.8732\n",
      "====> Test set loss: 34.7371\n",
      "Train Epoch: 4 [0/4000 (0%)]\tLoss: 13.719816\n",
      "Train Epoch: 4 [1280/4000 (32%)]\tLoss: 13.096689\n",
      "Train Epoch: 4 [2560/4000 (64%)]\tLoss: 12.592405\n",
      "Train Epoch: 4 [3840/4000 (96%)]\tLoss: 12.849434\n",
      "====> Epoch: 4 Average loss: 13.0948\n",
      "====> Test set loss: 34.2126\n",
      "Train Epoch: 5 [0/4000 (0%)]\tLoss: 12.903463\n",
      "Train Epoch: 5 [1280/4000 (32%)]\tLoss: 12.755649\n",
      "Train Epoch: 5 [2560/4000 (64%)]\tLoss: 12.896032\n",
      "Train Epoch: 5 [3840/4000 (96%)]\tLoss: 12.448606\n",
      "====> Epoch: 5 Average loss: 12.7344\n",
      "====> Test set loss: 33.9524\n",
      "Train Epoch: 6 [0/4000 (0%)]\tLoss: 12.789596\n",
      "Train Epoch: 6 [1280/4000 (32%)]\tLoss: 12.557725\n",
      "Train Epoch: 6 [2560/4000 (64%)]\tLoss: 12.166262\n",
      "Train Epoch: 6 [3840/4000 (96%)]\tLoss: 12.605947\n",
      "====> Epoch: 6 Average loss: 12.5230\n",
      "====> Test set loss: 33.7281\n",
      "Train Epoch: 7 [0/4000 (0%)]\tLoss: 12.450810\n",
      "Train Epoch: 7 [1280/4000 (32%)]\tLoss: 12.245777\n",
      "Train Epoch: 7 [2560/4000 (64%)]\tLoss: 12.082699\n",
      "Train Epoch: 7 [3840/4000 (96%)]\tLoss: 12.218714\n",
      "====> Epoch: 7 Average loss: 12.3525\n",
      "====> Test set loss: 33.5755\n",
      "Train Epoch: 8 [0/4000 (0%)]\tLoss: 12.222290\n",
      "Train Epoch: 8 [1280/4000 (32%)]\tLoss: 12.065348\n",
      "Train Epoch: 8 [2560/4000 (64%)]\tLoss: 12.257581\n",
      "Train Epoch: 8 [3840/4000 (96%)]\tLoss: 12.165700\n",
      "====> Epoch: 8 Average loss: 12.2080\n",
      "====> Test set loss: 33.3889\n",
      "Train Epoch: 9 [0/4000 (0%)]\tLoss: 11.726384\n",
      "Train Epoch: 9 [1280/4000 (32%)]\tLoss: 11.932171\n",
      "Train Epoch: 9 [2560/4000 (64%)]\tLoss: 11.969473\n",
      "Train Epoch: 9 [3840/4000 (96%)]\tLoss: 11.923274\n",
      "====> Epoch: 9 Average loss: 12.0186\n",
      "====> Test set loss: 33.1622\n",
      "Train Epoch: 10 [0/4000 (0%)]\tLoss: 12.166360\n",
      "Train Epoch: 10 [1280/4000 (32%)]\tLoss: 11.683027\n",
      "Train Epoch: 10 [2560/4000 (64%)]\tLoss: 11.360206\n",
      "Train Epoch: 10 [3840/4000 (96%)]\tLoss: 11.729026\n",
      "====> Epoch: 10 Average loss: 11.7486\n",
      "====> Test set loss: 32.9182\n"
     ]
    }
   ],
   "source": [
    "gradients = torch.zeros(train_data.shape[1]).to(device)\n",
    "for epoch in range(1, n_epochs+1):\n",
    "    grads=train_truncated_with_gradients(train_data, vanilla_vae, \n",
    "                                         vanilla_vae_optimizer, epoch, batch_size, Dim = D)\n",
    "    if epoch > 5:\n",
    "        gradients += grads\n",
    "    test(test_data, vanilla_vae, epoch, batch_size)"
   ]
  },
  {
   "cell_type": "code",
   "execution_count": 107,
   "metadata": {},
   "outputs": [
    {
     "data": {
      "text/plain": [
       "<matplotlib.axes._subplots.AxesSubplot at 0x7f3d309dcd90>"
      ]
     },
     "execution_count": 107,
     "metadata": {},
     "output_type": "execute_result"
    },
    {
     "data": {
      "image/png": "[encoded data removed]",
      "text/plain": [
       "<Figure size 432x288 with 2 Axes>"
      ]
     },
     "metadata": {
      "needs_background": "light"
     },
     "output_type": "display_data"
    }
   ],
   "source": [
    "sns.heatmap(gradients.clone().detach().cpu().numpy()[:, np.newaxis])"
   ]
  },
  {
   "cell_type": "code",
   "execution_count": 108,
   "metadata": {},
   "outputs": [
    {
     "data": {
      "text/plain": [
       "tensor([0.0978, 0.3031, 0.1394, 0.2099, 0.2063, 0.2098, 0.1076, 0.2316, 0.0298,\n",
       "        0.1968, 0.0261, 0.0561, 0.0848, 0.2727, 0.2320, 0.3355, 0.2739, 0.0056,\n",
       "        0.0301, 0.0953, 0.0889, 0.2483, 0.0063, 0.0231, 0.0009, 0.0924, 0.4782,\n",
       "        0.3251, 0.2092, 0.2881], device='cuda:0')"
      ]
     },
     "execution_count": 108,
     "metadata": {},
     "output_type": "execute_result"
    }
   ],
   "source": [
    "test_data.mean(dim = 0)[:D]"
   ]
  },
  {
   "cell_type": "code",
   "execution_count": 109,
   "metadata": {},
   "outputs": [
    {
     "data": {
      "text/plain": [
       "tensor([0.0907, 0.3023, 0.1410, 0.2149, 0.2137, 0.2062, 0.1085, 0.2327, 0.0502,\n",
       "        0.2035, 0.0400, 0.0680, 0.0983, 0.2818, 0.2356, 0.3361, 0.2778, 0.0358,\n",
       "        0.0495, 0.0993, 0.0958, 0.2498, 0.0346, 0.0419, 0.0339, 0.0942, 0.4815,\n",
       "        0.3253, 0.2162, 0.3015], device='cuda:0', grad_fn=<SliceBackward>)"
      ]
     },
     "execution_count": 109,
     "metadata": {},
     "output_type": "execute_result"
    }
   ],
   "source": [
    "vanilla_vae(test_data)[0].mean(dim = 0)[:D]"
   ]
  },
  {
   "cell_type": "code",
   "execution_count": 110,
   "metadata": {},
   "outputs": [
    {
     "data": {
      "text/plain": [
       "tensor([0.1913, 0.2338, 0.2076, 0.2199, 0.2306, 0.1890, 0.1805, 0.1945, 0.1051,\n",
       "        0.2321, 0.0976, 0.1389, 0.1652, 0.1922, 0.2341, 0.2330, 0.2048, 0.0390,\n",
       "        0.0929, 0.1692, 0.1755, 0.2236, 0.0499, 0.0923, 0.0152, 0.1863, 0.1593,\n",
       "        0.2244, 0.2096, 0.2350], device='cuda:0')"
      ]
     },
     "execution_count": 110,
     "metadata": {},
     "output_type": "execute_result"
    }
   ],
   "source": [
    "test_data.std(dim = 0)[:D]"
   ]
  },
  {
   "cell_type": "code",
   "execution_count": 111,
   "metadata": {},
   "outputs": [
    {
     "data": {
      "text/plain": [
       "tensor([0.0524, 0.0486, 0.0674, 0.0889, 0.0553, 0.0622, 0.0800, 0.1079, 0.0507,\n",
       "        0.0683, 0.0409, 0.0636, 0.0587, 0.1104, 0.1528, 0.1564, 0.0564, 0.0411,\n",
       "        0.0452, 0.0599, 0.0753, 0.1166, 0.0429, 0.0395, 0.0364, 0.0894, 0.0607,\n",
       "        0.1335, 0.0650, 0.1296], device='cuda:0', grad_fn=<SliceBackward>)"
      ]
     },
     "execution_count": 111,
     "metadata": {},
     "output_type": "execute_result"
    }
   ],
   "source": [
    "vanilla_vae(test_data)[0].std(dim = 0)[:D]"
   ]
  },
  {
   "cell_type": "markdown",
   "metadata": {},
   "source": [
    "Looking at all dimensions"
   ]
  },
  {
   "cell_type": "code",
   "execution_count": 112,
   "metadata": {},
   "outputs": [],
   "source": [
    "vanilla_vae = VAE(2*D, 100, 20)\n",
    "\n",
    "vanilla_vae.to(device)\n",
    "vanilla_vae_optimizer = torch.optim.Adam(vanilla_vae.parameters(), \n",
    "                                            lr=lr,\n",
    "                                            betas = (b1,b2))"
   ]
  },
  {
   "cell_type": "code",
   "execution_count": 113,
   "metadata": {},
   "outputs": [
    {
     "name": "stdout",
     "output_type": "stream",
     "text": [
      "Train Epoch: 1 [0/4000 (0%)]\tLoss: 41.617455\n",
      "Train Epoch: 1 [1280/4000 (32%)]\tLoss: 40.671642\n",
      "Train Epoch: 1 [2560/4000 (64%)]\tLoss: 39.780693\n",
      "Train Epoch: 1 [3840/4000 (96%)]\tLoss: 38.756336\n",
      "====> Epoch: 1 Average loss: 40.2093\n",
      "====> Test set loss: 38.7997\n",
      "Train Epoch: 2 [0/4000 (0%)]\tLoss: 38.768871\n",
      "Train Epoch: 2 [1280/4000 (32%)]\tLoss: 37.725109\n",
      "Train Epoch: 2 [2560/4000 (64%)]\tLoss: 36.658443\n",
      "Train Epoch: 2 [3840/4000 (96%)]\tLoss: 35.481888\n",
      "====> Epoch: 2 Average loss: 37.2105\n",
      "====> Test set loss: 35.5368\n",
      "Train Epoch: 3 [0/4000 (0%)]\tLoss: 35.653290\n",
      "Train Epoch: 3 [1280/4000 (32%)]\tLoss: 34.811913\n",
      "Train Epoch: 3 [2560/4000 (64%)]\tLoss: 34.198151\n",
      "Train Epoch: 3 [3840/4000 (96%)]\tLoss: 34.466022\n",
      "====> Epoch: 3 Average loss: 34.7453\n",
      "====> Test set loss: 34.1490\n",
      "Train Epoch: 4 [0/4000 (0%)]\tLoss: 34.484718\n",
      "Train Epoch: 4 [1280/4000 (32%)]\tLoss: 33.795086\n",
      "Train Epoch: 4 [2560/4000 (64%)]\tLoss: 33.455265\n",
      "Train Epoch: 4 [3840/4000 (96%)]\tLoss: 33.601940\n",
      "====> Epoch: 4 Average loss: 33.8988\n",
      "====> Test set loss: 33.6176\n",
      "Train Epoch: 5 [0/4000 (0%)]\tLoss: 33.583588\n",
      "Train Epoch: 5 [1280/4000 (32%)]\tLoss: 33.484783\n",
      "Train Epoch: 5 [2560/4000 (64%)]\tLoss: 34.152168\n",
      "Train Epoch: 5 [3840/4000 (96%)]\tLoss: 33.294060\n",
      "====> Epoch: 5 Average loss: 33.5283\n",
      "====> Test set loss: 33.3677\n",
      "Train Epoch: 6 [0/4000 (0%)]\tLoss: 33.222984\n",
      "Train Epoch: 6 [1280/4000 (32%)]\tLoss: 33.245274\n",
      "Train Epoch: 6 [2560/4000 (64%)]\tLoss: 33.626286\n",
      "Train Epoch: 6 [3840/4000 (96%)]\tLoss: 33.141632\n",
      "====> Epoch: 6 Average loss: 33.2803\n",
      "====> Test set loss: 33.1777\n",
      "Train Epoch: 7 [0/4000 (0%)]\tLoss: 33.332394\n",
      "Train Epoch: 7 [1280/4000 (32%)]\tLoss: 33.564724\n",
      "Train Epoch: 7 [2560/4000 (64%)]\tLoss: 32.602936\n",
      "Train Epoch: 7 [3840/4000 (96%)]\tLoss: 33.281460\n",
      "====> Epoch: 7 Average loss: 33.1425\n",
      "====> Test set loss: 33.0241\n",
      "Train Epoch: 8 [0/4000 (0%)]\tLoss: 32.880573\n",
      "Train Epoch: 8 [1280/4000 (32%)]\tLoss: 32.933273\n",
      "Train Epoch: 8 [2560/4000 (64%)]\tLoss: 33.093483\n",
      "Train Epoch: 8 [3840/4000 (96%)]\tLoss: 33.165462\n",
      "====> Epoch: 8 Average loss: 33.0027\n",
      "====> Test set loss: 32.9383\n",
      "Train Epoch: 9 [0/4000 (0%)]\tLoss: 32.850681\n",
      "Train Epoch: 9 [1280/4000 (32%)]\tLoss: 32.837132\n",
      "Train Epoch: 9 [2560/4000 (64%)]\tLoss: 32.528099\n",
      "Train Epoch: 9 [3840/4000 (96%)]\tLoss: 32.600571\n",
      "====> Epoch: 9 Average loss: 32.8953\n",
      "====> Test set loss: 32.8109\n",
      "Train Epoch: 10 [0/4000 (0%)]\tLoss: 33.274235\n",
      "Train Epoch: 10 [1280/4000 (32%)]\tLoss: 33.366528\n",
      "Train Epoch: 10 [2560/4000 (64%)]\tLoss: 32.603683\n",
      "Train Epoch: 10 [3840/4000 (96%)]\tLoss: 32.599102\n",
      "====> Epoch: 10 Average loss: 32.7466\n",
      "====> Test set loss: 32.5993\n"
     ]
    }
   ],
   "source": [
    "gradients = torch.zeros(train_data.shape[1]).to(device)\n",
    "for epoch in range(1, n_epochs+1):\n",
    "    grads=train_truncated_with_gradients(train_data, vanilla_vae, \n",
    "                                         vanilla_vae_optimizer, epoch, batch_size, Dim = 2*D)\n",
    "    if epoch > 5:\n",
    "        gradients += grads\n",
    "    test(test_data, vanilla_vae, epoch, batch_size)"
   ]
  },
  {
   "cell_type": "code",
   "execution_count": 114,
   "metadata": {},
   "outputs": [
    {
     "data": {
      "text/plain": [
       "<matplotlib.axes._subplots.AxesSubplot at 0x7f3d3096a510>"
      ]
     },
     "execution_count": 114,
     "metadata": {},
     "output_type": "execute_result"
    },
    {
     "data": {
      "image/png": "[encoded data removed]",
      "text/plain": [
       "<Figure size 432x288 with 2 Axes>"
      ]
     },
     "metadata": {
      "needs_background": "light"
     },
     "output_type": "display_data"
    }
   ],
   "source": [
    "sns.heatmap(gradients.clone().detach().cpu().numpy()[:, np.newaxis])"
   ]
  },
  {
   "cell_type": "code",
   "execution_count": 115,
   "metadata": {},
   "outputs": [
    {
     "data": {
      "text/plain": [
       "tensor([0.0978, 0.3031, 0.1394, 0.2099, 0.2063, 0.2098, 0.1076, 0.2316, 0.0298,\n",
       "        0.1968, 0.0261, 0.0561, 0.0848, 0.2727, 0.2320, 0.3355, 0.2739, 0.0056,\n",
       "        0.0301, 0.0953, 0.0889, 0.2483, 0.0063, 0.0231, 0.0009, 0.0924, 0.4782,\n",
       "        0.3251, 0.2092, 0.2881], device='cuda:0')"
      ]
     },
     "execution_count": 115,
     "metadata": {},
     "output_type": "execute_result"
    }
   ],
   "source": [
    "test_data.mean(dim = 0)[:D]"
   ]
  },
  {
   "cell_type": "code",
   "execution_count": 116,
   "metadata": {},
   "outputs": [
    {
     "data": {
      "text/plain": [
       "tensor([0.1032, 0.3043, 0.1522, 0.2151, 0.2293, 0.2127, 0.1030, 0.2354, 0.0451,\n",
       "        0.2218, 0.0566, 0.0798, 0.1089, 0.2916, 0.2219, 0.3349, 0.2817, 0.0399,\n",
       "        0.0551, 0.1105, 0.1000, 0.2476, 0.0449, 0.0612, 0.0362, 0.0924, 0.4787,\n",
       "        0.3333, 0.2307, 0.3121], device='cuda:0', grad_fn=<SliceBackward>)"
      ]
     },
     "execution_count": 116,
     "metadata": {},
     "output_type": "execute_result"
    }
   ],
   "source": [
    "vanilla_vae(test_data)[0].mean(dim = 0)[:D]"
   ]
  },
  {
   "cell_type": "code",
   "execution_count": 117,
   "metadata": {},
   "outputs": [
    {
     "data": {
      "text/plain": [
       "tensor([0.1913, 0.2338, 0.2076, 0.2199, 0.2306, 0.1890, 0.1805, 0.1945, 0.1051,\n",
       "        0.2321, 0.0976, 0.1389, 0.1652, 0.1922, 0.2341, 0.2330, 0.2048, 0.0390,\n",
       "        0.0929, 0.1692, 0.1755, 0.2236, 0.0499, 0.0923, 0.0152, 0.1863, 0.1593,\n",
       "        0.2244, 0.2096, 0.2350], device='cuda:0')"
      ]
     },
     "execution_count": 117,
     "metadata": {},
     "output_type": "execute_result"
    }
   ],
   "source": [
    "test_data.std(dim = 0)[:D]"
   ]
  },
  {
   "cell_type": "code",
   "execution_count": 118,
   "metadata": {},
   "outputs": [
    {
     "data": {
      "text/plain": [
       "tensor([0.0562, 0.0421, 0.0579, 0.0828, 0.0674, 0.0622, 0.0711, 0.0935, 0.0432,\n",
       "        0.0555, 0.0569, 0.0655, 0.0594, 0.0694, 0.0859, 0.0905, 0.0578, 0.0428,\n",
       "        0.0459, 0.0714, 0.0772, 0.0680, 0.0486, 0.0534, 0.0423, 0.0767, 0.0385,\n",
       "        0.0688, 0.0497, 0.0778], device='cuda:0', grad_fn=<SliceBackward>)"
      ]
     },
     "execution_count": 118,
     "metadata": {},
     "output_type": "execute_result"
    }
   ],
   "source": [
    "vanilla_vae(test_data)[0].std(dim = 0)[:D]"
   ]
  },
  {
   "cell_type": "code",
   "execution_count": null,
   "metadata": {},
   "outputs": [],
   "source": []
  },
  {
   "cell_type": "markdown",
   "metadata": {},
   "source": [
    "The gradients are a few epochs are good for selecting of features as the Gumbel trick. Maybe even better.\n",
    "In fact, a Vanilla VAE is just as good."
   ]
  },
  {
   "cell_type": "code",
   "execution_count": null,
   "metadata": {},
   "outputs": [],
   "source": []
  }
 ],
 "metadata": {
  "kernelspec": {
   "display_name": "Python [conda env:nyu] *",
   "language": "python",
   "name": "conda-env-nyu-py"
  },
  "language_info": {
   "codemirror_mode": {
    "name": "ipython",
    "version": 3
   },
   "file_extension": ".py",
   "mimetype": "text/x-python",
   "name": "python",
   "nbconvert_exporter": "python",
   "pygments_lexer": "ipython3",
   "version": "3.7.6"
  }
 },
 "nbformat": 4,
 "nbformat_minor": 4
}
