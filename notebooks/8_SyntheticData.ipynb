{
 "cells": [
  {
   "cell_type": "markdown",
   "metadata": {},
   "source": [
    "So we know that Gumbel selects things relatively well. Its effects of Zeisel though are a bit muddled because of reconstruction. Let's do a simple synethetic dataset. Half the features are real. Half the features at noise."
   ]
  },
  {
   "cell_type": "code",
   "execution_count": 1,
   "metadata": {},
   "outputs": [],
   "source": [
    "import torch\n",
    "\n",
    "\n",
    "from torch import nn\n",
    "from torch.autograd import Variable\n",
    "from torch.nn import functional as F\n",
    "\n",
    "import numpy as np\n",
    "\n",
    "import matplotlib.pyplot as plt\n",
    "#from sklearn.manifold import TSNE\n",
    "\n",
    "#import math\n",
    "\n",
    "#import gc\n",
    "\n",
    "from utils import *\n",
    "\n",
    "from sklearn.preprocessing import MinMaxScaler\n",
    "\n",
    "from scipy.stats import pearsonr"
   ]
  },
  {
   "cell_type": "code",
   "execution_count": 2,
   "metadata": {},
   "outputs": [],
   "source": [
    "torch.manual_seed(0)\n",
    "np.random.seed(0)"
   ]
  },
  {
   "cell_type": "code",
   "execution_count": 3,
   "metadata": {},
   "outputs": [],
   "source": [
    "#BASE_PATH_DATA = '../data/'\n",
    "BASE_PATH_DATA = '/scratch/ns3429/sparse-subset/data/'"
   ]
  },
  {
   "cell_type": "code",
   "execution_count": 4,
   "metadata": {},
   "outputs": [],
   "source": [
    "# really good results for vanilla VAE on synthetic data with EPOCHS set to 50, \n",
    "# but when running locally set to 10 for reasonable run times\n",
    "n_epochs = 20\n",
    "#n_epochs = 20\n",
    "batch_size = 64\n",
    "lr = 0.0001\n",
    "b1 = 0.9\n",
    "b2 = 0.999\n",
    "\n",
    "\n",
    "# from running\n",
    "# EPSILON = np.finfo(tf.float32.as_numpy_dtype).tiny\n",
    "#EPSILON = 1.1754944e-38\n",
    "EPSILON = 1e-10"
   ]
  },
  {
   "cell_type": "code",
   "execution_count": 5,
   "metadata": {},
   "outputs": [],
   "source": [
    "cuda = True if torch.cuda.is_available() else False\n",
    "\n",
    "Tensor = torch.cuda.FloatTensor if cuda else torch.FloatTensor\n",
    "\n",
    "device = torch.device(\"cuda:0\" if cuda else \"cpu\")\n",
    "#device = 'cpu'"
   ]
  },
  {
   "cell_type": "code",
   "execution_count": 6,
   "metadata": {},
   "outputs": [
    {
     "name": "stdout",
     "output_type": "stream",
     "text": [
      "Device\n",
      "cuda:0\n"
     ]
    }
   ],
   "source": [
    "print(\"Device\")\n",
    "print(device)"
   ]
  },
  {
   "cell_type": "markdown",
   "metadata": {},
   "source": [
    "Create the data"
   ]
  },
  {
   "cell_type": "code",
   "execution_count": 7,
   "metadata": {},
   "outputs": [],
   "source": [
    "D = 30\n",
    "N = 5000\n",
    "z_size = 5"
   ]
  },
  {
   "cell_type": "code",
   "execution_count": 8,
   "metadata": {},
   "outputs": [],
   "source": [
    "latent_data = np.random.normal(loc=0.0, scale=1.0, size=N*z_size).reshape(N, z_size)"
   ]
  },
  {
   "cell_type": "code",
   "execution_count": 9,
   "metadata": {},
   "outputs": [
    {
     "data": {
      "text/plain": [
       "Sequential(\n",
       "  (0): Linear(in_features=5, out_features=10, bias=False)\n",
       "  (1): Tanh()\n",
       "  (2): Linear(in_features=10, out_features=30, bias=True)\n",
       "  (3): ReLU()\n",
       ")"
      ]
     },
     "execution_count": 9,
     "metadata": {},
     "output_type": "execute_result"
    }
   ],
   "source": [
    "data_mapper = nn.Sequential(\n",
    "    nn.Linear(z_size, 2 * z_size, bias=False),\n",
    "    nn.Tanh(),\n",
    "    nn.Linear(2 * z_size, D, bias = True),\n",
    "    nn.ReLU()\n",
    ").to(device)\n",
    "\n",
    "data_mapper.requires_grad_(False)"
   ]
  },
  {
   "cell_type": "code",
   "execution_count": 10,
   "metadata": {},
   "outputs": [
    {
     "data": {
      "text/plain": [
       "tensor([[ 1.7641,  0.4002,  0.9787,  2.2409,  1.8676],\n",
       "        [-0.9773,  0.9501, -0.1514, -0.1032,  0.4106],\n",
       "        [ 0.1440,  1.4543,  0.7610,  0.1217,  0.4439],\n",
       "        ...,\n",
       "        [ 0.2501, -1.0168,  0.0459,  0.5006,  1.2243],\n",
       "        [-0.5595,  1.5234, -0.5857,  0.8466, -0.1063],\n",
       "        [ 0.7700,  0.7508, -0.5606, -1.7603,  0.4371]], device='cuda:0')"
      ]
     },
     "execution_count": 10,
     "metadata": {},
     "output_type": "execute_result"
    }
   ],
   "source": [
    "latent_data = Tensor(latent_data)\n",
    "latent_data.requires_grad_(False)"
   ]
  },
  {
   "cell_type": "code",
   "execution_count": 11,
   "metadata": {},
   "outputs": [],
   "source": [
    "actual_data = data_mapper(latent_data)"
   ]
  },
  {
   "cell_type": "code",
   "execution_count": 12,
   "metadata": {},
   "outputs": [
    {
     "name": "stdout",
     "output_type": "stream",
     "text": [
      "tensor(19, device='cuda:0')\n",
      "tensor(12, device='cuda:0')\n",
      "tensor(18, device='cuda:0')\n",
      "tensor(14, device='cuda:0')\n",
      "tensor(14, device='cuda:0')\n"
     ]
    }
   ],
   "source": [
    "for i in range(5):\n",
    "    print(torch.sum(actual_data[i,:] != 0))"
   ]
  },
  {
   "cell_type": "markdown",
   "metadata": {},
   "source": [
    "For each sample, half the data is non zero, whereas in zeisel, about 25% if non zero. Easier than Zeisel good."
   ]
  },
  {
   "cell_type": "code",
   "execution_count": 13,
   "metadata": {},
   "outputs": [
    {
     "data": {
      "text/plain": [
       "tensor([[-1.0921e-02, -6.1085e-04, -1.4928e-02,  ..., -1.4309e-02,\n",
       "          1.6859e-02, -1.2177e-02],\n",
       "        [ 7.6496e-03,  1.1971e-02, -2.2414e-02,  ...,  1.0256e-02,\n",
       "         -5.5957e-03,  4.3434e-03],\n",
       "        [ 2.7566e-03,  1.0969e-03,  3.5942e-03,  ...,  6.0039e-03,\n",
       "          8.7524e-04,  7.0365e-03],\n",
       "        ...,\n",
       "        [ 1.8449e-02,  8.3797e-04, -8.9499e-03,  ...,  8.9735e-04,\n",
       "         -1.6982e-03,  7.8153e-03],\n",
       "        [-1.0649e-02, -9.6204e-03, -8.1562e-03,  ..., -2.2612e-04,\n",
       "         -1.4104e-02, -8.2127e-03],\n",
       "        [ 2.1183e-02, -1.1416e-02,  1.8769e-03,  ..., -1.3100e-02,\n",
       "         -6.2333e-03, -4.3646e-05]], device='cuda:0')"
      ]
     },
     "execution_count": 13,
     "metadata": {},
     "output_type": "execute_result"
    }
   ],
   "source": [
    "noise_features = torch.empty(N * D).normal_(mean=0,std=0.01).reshape(N, D).to(device)\n",
    "noise_features.requires_grad_(False)"
   ]
  },
  {
   "cell_type": "code",
   "execution_count": 14,
   "metadata": {},
   "outputs": [],
   "source": [
    "actual_data = torch.cat([actual_data, noise_features], dim = 1)"
   ]
  },
  {
   "cell_type": "code",
   "execution_count": 15,
   "metadata": {},
   "outputs": [
    {
     "data": {
      "text/plain": [
       "torch.Size([5000, 60])"
      ]
     },
     "execution_count": 15,
     "metadata": {},
     "output_type": "execute_result"
    }
   ],
   "source": [
    "actual_data.shape"
   ]
  },
  {
   "cell_type": "code",
   "execution_count": 16,
   "metadata": {},
   "outputs": [],
   "source": [
    "actual_data = actual_data.cpu().numpy()\n",
    "scaler = MinMaxScaler()\n",
    "actual_data = scaler.fit_transform(actual_data)\n",
    "\n",
    "actual_data = Tensor(actual_data)"
   ]
  },
  {
   "cell_type": "code",
   "execution_count": 17,
   "metadata": {},
   "outputs": [
    {
     "data": {
      "text/plain": [
       "tensor([0.1866, 0.2313, 0.2054, 0.2209, 0.2323, 0.1899, 0.1801, 0.1969, 0.1133,\n",
       "        0.2353, 0.0925, 0.1310, 0.1725, 0.1902, 0.2294, 0.2275, 0.2082, 0.0530,\n",
       "        0.0980, 0.1738, 0.1728, 0.2156, 0.0460, 0.0932, 0.0255, 0.1816, 0.1587,\n",
       "        0.2263, 0.2125, 0.2393, 0.1326, 0.1439, 0.1281, 0.1421, 0.1297, 0.1413,\n",
       "        0.1492, 0.1272, 0.1233, 0.1420, 0.1422, 0.1363, 0.1256, 0.1288, 0.1377,\n",
       "        0.1438, 0.1337, 0.1331, 0.1258, 0.1346, 0.1507, 0.1223, 0.1429, 0.1343,\n",
       "        0.1348, 0.1361, 0.1388, 0.1391, 0.1426, 0.1383], device='cuda:0')"
      ]
     },
     "execution_count": 17,
     "metadata": {},
     "output_type": "execute_result"
    }
   ],
   "source": [
    "actual_data.std(dim = 0)"
   ]
  },
  {
   "cell_type": "markdown",
   "metadata": {},
   "source": [
    "Standard deviatiosn are comparable."
   ]
  },
  {
   "cell_type": "code",
   "execution_count": 18,
   "metadata": {},
   "outputs": [
    {
     "data": {
      "text/plain": [
       "torch.return_types.max(\n",
       "values=tensor([1.0000, 1.0000, 1.0000, 1.0000, 1.0000, 1.0000, 1.0000, 1.0000, 1.0000,\n",
       "        1.0000, 1.0000, 1.0000, 1.0000, 1.0000, 1.0000, 1.0000, 1.0000, 1.0000,\n",
       "        1.0000, 1.0000, 1.0000, 1.0000, 1.0000, 1.0000, 1.0000, 1.0000, 1.0000,\n",
       "        1.0000, 1.0000, 1.0000, 1.0000, 1.0000, 1.0000, 1.0000, 1.0000, 1.0000,\n",
       "        1.0000, 1.0000, 1.0000, 1.0000, 1.0000, 1.0000, 1.0000, 1.0000, 1.0000,\n",
       "        1.0000, 1.0000, 1.0000, 1.0000, 1.0000, 1.0000, 1.0000, 1.0000, 1.0000,\n",
       "        1.0000, 1.0000, 1.0000, 1.0000, 1.0000, 1.0000], device='cuda:0'),\n",
       "indices=tensor([ 738, 4262, 1553, 1484, 2220, 1316, 3892, 1316, 3121, 3883, 1838,  623,\n",
       "        1004, 4856,  689, 2033, 2038, 1316, 4515, 4562, 4668,  616,  894, 4515,\n",
       "        1885, 3892, 4615,  819, 4397, 4293,  713, 2220, 3813, 4659, 4389, 3659,\n",
       "         309, 1804,  495, 4790, 3110, 4671,   36,    0, 1215,  148, 4008, 1317,\n",
       "        2503, 1402, 1580, 2684, 4078, 3334, 1376, 2499, 1301, 3114, 4203, 3183],\n",
       "       device='cuda:0'))"
      ]
     },
     "execution_count": 18,
     "metadata": {},
     "output_type": "execute_result"
    }
   ],
   "source": [
    "actual_data.max(dim = 0)"
   ]
  },
  {
   "cell_type": "code",
   "execution_count": 19,
   "metadata": {},
   "outputs": [
    {
     "data": {
      "text/plain": [
       "torch.return_types.min(\n",
       "values=tensor([0., 0., 0., 0., 0., 0., 0., 0., 0., 0., 0., 0., 0., 0., 0., 0., 0., 0., 0., 0., 0., 0., 0., 0.,\n",
       "        0., 0., 0., 0., 0., 0., 0., 0., 0., 0., 0., 0., 0., 0., 0., 0., 0., 0., 0., 0., 0., 0., 0., 0.,\n",
       "        0., 0., 0., 0., 0., 0., 0., 0., 0., 0., 0., 0.], device='cuda:0'),\n",
       "indices=tensor([   1,    8,    0,    1,    0,    5,    1,    1,    1,    0,    1,    1,\n",
       "           0,   13,    3,    3,    1,    0,    0,    1,    1,    8,    0,    0,\n",
       "           0,    1,  254,    4,    0,    0,  454, 3677, 1909, 3750, 3638, 4476,\n",
       "         553, 4105,  289, 1150, 2707, 1846, 3579, 3101,  299, 1324, 3277, 4318,\n",
       "        3023,  967, 2932, 3588,  919, 1190,  271, 2937, 3428, 3955, 2719,  198],\n",
       "       device='cuda:0'))"
      ]
     },
     "execution_count": 19,
     "metadata": {},
     "output_type": "execute_result"
    }
   ],
   "source": [
    "actual_data.min(dim = 0)"
   ]
  },
  {
   "cell_type": "code",
   "execution_count": 20,
   "metadata": {},
   "outputs": [
    {
     "name": "stdout",
     "output_type": "stream",
     "text": [
      "tensor(49, device='cuda:0')\n",
      "tensor(42, device='cuda:0')\n",
      "tensor(48, device='cuda:0')\n",
      "tensor(44, device='cuda:0')\n",
      "tensor(44, device='cuda:0')\n"
     ]
    }
   ],
   "source": [
    "for i in range(5):\n",
    "    print(torch.sum(actual_data[i,:] != 0))"
   ]
  },
  {
   "cell_type": "code",
   "execution_count": 21,
   "metadata": {},
   "outputs": [],
   "source": [
    "slices = np.random.permutation(np.arange(actual_data.shape[0]))\n",
    "upto = int(.8 * len(actual_data))\n",
    "\n",
    "train_data = actual_data[slices[:upto]]\n",
    "test_data = actual_data[slices[upto:]]"
   ]
  },
  {
   "cell_type": "code",
   "execution_count": 22,
   "metadata": {},
   "outputs": [
    {
     "data": {
      "text/plain": [
       "torch.Size([4000, 60])"
      ]
     },
     "execution_count": 22,
     "metadata": {},
     "output_type": "execute_result"
    }
   ],
   "source": [
    "train_data.shape"
   ]
  },
  {
   "cell_type": "code",
   "execution_count": 23,
   "metadata": {},
   "outputs": [
    {
     "data": {
      "text/plain": [
       "torch.Size([1000, 60])"
      ]
     },
     "execution_count": 23,
     "metadata": {},
     "output_type": "execute_result"
    }
   ],
   "source": [
    "test_data.shape"
   ]
  },
  {
   "cell_type": "markdown",
   "metadata": {},
   "source": [
    "Look at correlations"
   ]
  },
  {
   "cell_type": "code",
   "execution_count": 24,
   "metadata": {},
   "outputs": [],
   "source": [
    "def pairwise_correlations(dataset):\n",
    "    cor_df = np.zeros((dataset.shape[1], dataset.shape[1]))\n",
    "    for row in np.arange(dataset.shape[1]):\n",
    "        for col in np.arange(dataset.shape[1]):\n",
    "            cor_df[row, col] = pearsonr(dataset[row], dataset[col])[0]\n",
    "    return cor_df"
   ]
  },
  {
   "cell_type": "code",
   "execution_count": 25,
   "metadata": {},
   "outputs": [
    {
     "name": "stdout",
     "output_type": "stream",
     "text": [
      "16\n",
      "2\n"
     ]
    },
    {
     "data": {
      "image/png": "[encoded data removed]",
      "text/plain": [
       "<Figure size 432x288 with 2 Axes>"
      ]
     },
     "metadata": {
      "needs_background": "light"
     },
     "output_type": "display_data"
    }
   ],
   "source": [
    "actual_data_clone = actual_data.clone().detach().cpu().numpy()\n",
    "\n",
    "pairwise_cor_df = pairwise_correlations(actual_data_clone)\n",
    "\n",
    "import seaborn as sns\n",
    "\n",
    "sns.heatmap(pairwise_cor_df)\n",
    "\n",
    "correlates = []\n",
    "for i in range(2 * D):\n",
    "    one = np.sum(np.abs(pairwise_cor_df[i, :D]))\n",
    "    two = np.sum(np.abs(pairwise_cor_df[i, D:2*D]))\n",
    "    #correlates.append([one, two])\n",
    "    correlates.append(one > two)\n",
    "    \n",
    "# correlation of that feature with the first 30 features and the second 30 features\n",
    "print(np.sum(correlates[:D]))\n",
    "\n",
    "print(np.sum(correlates[D:2*D]))"
   ]
  },
  {
   "cell_type": "markdown",
   "metadata": {},
   "source": [
    "# Now run all of the notebook or just the last part focusing on gumbel vs gradients on truncated (or not) losses"
   ]
  },
  {
   "cell_type": "markdown",
   "metadata": {},
   "source": [
    "Data is all ready. Now time to feed into into a pretraining-matching Gumbel and joint training Gumbel."
   ]
  },
  {
   "cell_type": "markdown",
   "metadata": {},
   "source": [
    "Pre train VAE First"
   ]
  },
  {
   "cell_type": "code",
   "execution_count": 26,
   "metadata": {},
   "outputs": [],
   "source": [
    "pretrain_vae = VAE(2*D, 100, 20)\n",
    "\n",
    "pretrain_vae.to(device)\n",
    "pretrain_vae_optimizer = torch.optim.Adam(pretrain_vae.parameters(), \n",
    "                                            lr=lr,\n",
    "                                            betas = (b1,b2))\n",
    "\n",
    "#pretrain_vae_optimizer = torch.optim.SGD(pretrain_vae.parameters(), \n",
    "#                                            lr=lr, momentum = 0.9)"
   ]
  },
  {
   "cell_type": "code",
   "execution_count": 27,
   "metadata": {},
   "outputs": [
    {
     "name": "stdout",
     "output_type": "stream",
     "text": [
      "Train Epoch: 1 [0/4000 (0%)]\tLoss: 42.040878\n",
      "Train Epoch: 1 [1280/4000 (32%)]\tLoss: 41.438320\n",
      "Train Epoch: 1 [2560/4000 (64%)]\tLoss: 40.925156\n",
      "Train Epoch: 1 [3840/4000 (96%)]\tLoss: 40.317234\n",
      "====> Epoch: 1 Average loss: 41.1614\n",
      "====> Test set loss: 40.2349\n",
      "Train Epoch: 2 [0/4000 (0%)]\tLoss: 40.268456\n",
      "Train Epoch: 2 [1280/4000 (32%)]\tLoss: 39.820087\n",
      "Train Epoch: 2 [2560/4000 (64%)]\tLoss: 39.064011\n",
      "Train Epoch: 2 [3840/4000 (96%)]\tLoss: 38.332138\n",
      "====> Epoch: 2 Average loss: 39.3663\n",
      "====> Test set loss: 38.3062\n",
      "Train Epoch: 3 [0/4000 (0%)]\tLoss: 38.370636\n",
      "Train Epoch: 3 [1280/4000 (32%)]\tLoss: 37.520363\n",
      "Train Epoch: 3 [2560/4000 (64%)]\tLoss: 36.419781\n",
      "Train Epoch: 3 [3840/4000 (96%)]\tLoss: 36.041069\n",
      "====> Epoch: 3 Average loss: 36.9965\n",
      "====> Test set loss: 35.6713\n",
      "Train Epoch: 4 [0/4000 (0%)]\tLoss: 35.697887\n",
      "Train Epoch: 4 [1280/4000 (32%)]\tLoss: 35.314838\n",
      "Train Epoch: 4 [2560/4000 (64%)]\tLoss: 34.737511\n",
      "Train Epoch: 4 [3840/4000 (96%)]\tLoss: 34.284576\n",
      "====> Epoch: 4 Average loss: 35.0459\n",
      "====> Test set loss: 34.5482\n",
      "Train Epoch: 5 [0/4000 (0%)]\tLoss: 34.687443\n",
      "Train Epoch: 5 [1280/4000 (32%)]\tLoss: 34.266811\n",
      "Train Epoch: 5 [2560/4000 (64%)]\tLoss: 34.175262\n",
      "Train Epoch: 5 [3840/4000 (96%)]\tLoss: 34.272411\n",
      "====> Epoch: 5 Average loss: 34.2673\n",
      "====> Test set loss: 34.0695\n",
      "Train Epoch: 6 [0/4000 (0%)]\tLoss: 34.298531\n",
      "Train Epoch: 6 [1280/4000 (32%)]\tLoss: 33.982563\n",
      "Train Epoch: 6 [2560/4000 (64%)]\tLoss: 33.783413\n",
      "Train Epoch: 6 [3840/4000 (96%)]\tLoss: 34.032188\n",
      "====> Epoch: 6 Average loss: 33.9042\n",
      "====> Test set loss: 33.6989\n",
      "Train Epoch: 7 [0/4000 (0%)]\tLoss: 33.484715\n",
      "Train Epoch: 7 [1280/4000 (32%)]\tLoss: 34.202930\n",
      "Train Epoch: 7 [2560/4000 (64%)]\tLoss: 33.637295\n",
      "Train Epoch: 7 [3840/4000 (96%)]\tLoss: 33.302711\n",
      "====> Epoch: 7 Average loss: 33.6397\n",
      "====> Test set loss: 33.5267\n",
      "Train Epoch: 8 [0/4000 (0%)]\tLoss: 33.852386\n",
      "Train Epoch: 8 [1280/4000 (32%)]\tLoss: 33.054916\n",
      "Train Epoch: 8 [2560/4000 (64%)]\tLoss: 33.295441\n",
      "Train Epoch: 8 [3840/4000 (96%)]\tLoss: 33.458359\n",
      "====> Epoch: 8 Average loss: 33.4518\n",
      "====> Test set loss: 33.3338\n",
      "Train Epoch: 9 [0/4000 (0%)]\tLoss: 33.379860\n",
      "Train Epoch: 9 [1280/4000 (32%)]\tLoss: 33.245426\n",
      "Train Epoch: 9 [2560/4000 (64%)]\tLoss: 33.015312\n",
      "Train Epoch: 9 [3840/4000 (96%)]\tLoss: 33.306889\n",
      "====> Epoch: 9 Average loss: 33.3004\n",
      "====> Test set loss: 33.1792\n",
      "Train Epoch: 10 [0/4000 (0%)]\tLoss: 33.196507\n",
      "Train Epoch: 10 [1280/4000 (32%)]\tLoss: 33.492531\n",
      "Train Epoch: 10 [2560/4000 (64%)]\tLoss: 33.017139\n",
      "Train Epoch: 10 [3840/4000 (96%)]\tLoss: 33.179092\n",
      "====> Epoch: 10 Average loss: 33.1650\n",
      "====> Test set loss: 33.0586\n",
      "Train Epoch: 11 [0/4000 (0%)]\tLoss: 33.406693\n",
      "Train Epoch: 11 [1280/4000 (32%)]\tLoss: 32.915253\n",
      "Train Epoch: 11 [2560/4000 (64%)]\tLoss: 33.039219\n",
      "Train Epoch: 11 [3840/4000 (96%)]\tLoss: 32.731422\n",
      "====> Epoch: 11 Average loss: 33.0133\n",
      "====> Test set loss: 32.8865\n",
      "Train Epoch: 12 [0/4000 (0%)]\tLoss: 32.985565\n",
      "Train Epoch: 12 [1280/4000 (32%)]\tLoss: 32.534718\n",
      "Train Epoch: 12 [2560/4000 (64%)]\tLoss: 33.025467\n",
      "Train Epoch: 12 [3840/4000 (96%)]\tLoss: 32.744030\n",
      "====> Epoch: 12 Average loss: 32.8752\n",
      "====> Test set loss: 32.7545\n",
      "Train Epoch: 13 [0/4000 (0%)]\tLoss: 33.050987\n",
      "Train Epoch: 13 [1280/4000 (32%)]\tLoss: 32.862495\n",
      "Train Epoch: 13 [2560/4000 (64%)]\tLoss: 33.030533\n",
      "Train Epoch: 13 [3840/4000 (96%)]\tLoss: 32.523941\n",
      "====> Epoch: 13 Average loss: 32.6995\n",
      "====> Test set loss: 32.5549\n",
      "Train Epoch: 14 [0/4000 (0%)]\tLoss: 32.347900\n",
      "Train Epoch: 14 [1280/4000 (32%)]\tLoss: 32.593693\n",
      "Train Epoch: 14 [2560/4000 (64%)]\tLoss: 32.556351\n",
      "Train Epoch: 14 [3840/4000 (96%)]\tLoss: 32.544231\n",
      "====> Epoch: 14 Average loss: 32.5194\n",
      "====> Test set loss: 32.3930\n",
      "Train Epoch: 15 [0/4000 (0%)]\tLoss: 32.393734\n",
      "Train Epoch: 15 [1280/4000 (32%)]\tLoss: 32.552738\n",
      "Train Epoch: 15 [2560/4000 (64%)]\tLoss: 32.707394\n",
      "Train Epoch: 15 [3840/4000 (96%)]\tLoss: 32.203064\n",
      "====> Epoch: 15 Average loss: 32.3426\n",
      "====> Test set loss: 32.1875\n",
      "Train Epoch: 16 [0/4000 (0%)]\tLoss: 32.645744\n",
      "Train Epoch: 16 [1280/4000 (32%)]\tLoss: 31.644199\n",
      "Train Epoch: 16 [2560/4000 (64%)]\tLoss: 31.811872\n",
      "Train Epoch: 16 [3840/4000 (96%)]\tLoss: 32.148647\n",
      "====> Epoch: 16 Average loss: 32.1739\n",
      "====> Test set loss: 32.0428\n",
      "Train Epoch: 17 [0/4000 (0%)]\tLoss: 32.033478\n",
      "Train Epoch: 17 [1280/4000 (32%)]\tLoss: 32.131413\n",
      "Train Epoch: 17 [2560/4000 (64%)]\tLoss: 32.186337\n",
      "Train Epoch: 17 [3840/4000 (96%)]\tLoss: 31.633179\n",
      "====> Epoch: 17 Average loss: 32.0474\n",
      "====> Test set loss: 31.9304\n",
      "Train Epoch: 18 [0/4000 (0%)]\tLoss: 32.035835\n",
      "Train Epoch: 18 [1280/4000 (32%)]\tLoss: 31.824549\n",
      "Train Epoch: 18 [2560/4000 (64%)]\tLoss: 31.860462\n",
      "Train Epoch: 18 [3840/4000 (96%)]\tLoss: 31.746033\n",
      "====> Epoch: 18 Average loss: 31.9287\n",
      "====> Test set loss: 31.7941\n",
      "Train Epoch: 19 [0/4000 (0%)]\tLoss: 32.093262\n",
      "Train Epoch: 19 [1280/4000 (32%)]\tLoss: 31.827209\n",
      "Train Epoch: 19 [2560/4000 (64%)]\tLoss: 31.592600\n",
      "Train Epoch: 19 [3840/4000 (96%)]\tLoss: 31.730757\n",
      "====> Epoch: 19 Average loss: 31.8326\n",
      "====> Test set loss: 31.7190\n",
      "Train Epoch: 20 [0/4000 (0%)]\tLoss: 31.849550\n",
      "Train Epoch: 20 [1280/4000 (32%)]\tLoss: 31.911125\n",
      "Train Epoch: 20 [2560/4000 (64%)]\tLoss: 31.826286\n",
      "Train Epoch: 20 [3840/4000 (96%)]\tLoss: 31.669199\n",
      "====> Epoch: 20 Average loss: 31.6939\n",
      "====> Test set loss: 31.6303\n"
     ]
    }
   ],
   "source": [
    "for epoch in range(1, n_epochs + 1):\n",
    "    train(train_data, pretrain_vae, pretrain_vae_optimizer, epoch, batch_size)\n",
    "    test(test_data, pretrain_vae, epoch, batch_size)"
   ]
  },
  {
   "cell_type": "code",
   "execution_count": 28,
   "metadata": {},
   "outputs": [
    {
     "name": "stdout",
     "output_type": "stream",
     "text": [
      "Test Loss\n",
      "tensor(0.5149, device='cuda:0')\n"
     ]
    }
   ],
   "source": [
    "with torch.no_grad():\n",
    "    print(\"Test Loss\")\n",
    "    print(F.binary_cross_entropy(pretrain_vae(test_data)[0], test_data))"
   ]
  },
  {
   "cell_type": "markdown",
   "metadata": {},
   "source": [
    "Actually pretty good! %35 percent off when wrong\n",
    "\n",
    "Get 0.49 when nepochs is 50.\n",
    "Get 0.54 when nepochs is 10."
   ]
  },
  {
   "cell_type": "markdown",
   "metadata": {},
   "source": [
    "As a note, if the final layer of the data mapper is not ReLU, this reconstruction is usually on point. When some of the features can be sparse, then this becomes troublesome."
   ]
  },
  {
   "cell_type": "markdown",
   "metadata": {},
   "source": [
    "Compare means"
   ]
  },
  {
   "cell_type": "code",
   "execution_count": 29,
   "metadata": {},
   "outputs": [
    {
     "data": {
      "text/plain": [
       "tensor([0.0931, 0.3051, 0.1384, 0.2096, 0.2092, 0.2112, 0.1042, 0.2325, 0.0347,\n",
       "        0.2014, 0.0244, 0.0502, 0.0919, 0.2735, 0.2254, 0.3294, 0.2786, 0.0084,\n",
       "        0.0338, 0.1001, 0.0849, 0.2512, 0.0048, 0.0257, 0.0015, 0.0874, 0.4764,\n",
       "        0.3270, 0.2107, 0.2899], device='cuda:0')"
      ]
     },
     "execution_count": 29,
     "metadata": {},
     "output_type": "execute_result"
    }
   ],
   "source": [
    "train_data.mean(dim = 0)[:D]"
   ]
  },
  {
   "cell_type": "code",
   "execution_count": 30,
   "metadata": {},
   "outputs": [
    {
     "data": {
      "text/plain": [
       "tensor([0.0978, 0.3031, 0.1394, 0.2099, 0.2063, 0.2098, 0.1076, 0.2316, 0.0298,\n",
       "        0.1968, 0.0261, 0.0561, 0.0848, 0.2727, 0.2320, 0.3355, 0.2739, 0.0056,\n",
       "        0.0301, 0.0953, 0.0889, 0.2483, 0.0063, 0.0231, 0.0009, 0.0924, 0.4782,\n",
       "        0.3251, 0.2092, 0.2881], device='cuda:0')"
      ]
     },
     "execution_count": 30,
     "metadata": {},
     "output_type": "execute_result"
    }
   ],
   "source": [
    "test_data.mean(dim = 0)[:D]"
   ]
  },
  {
   "cell_type": "code",
   "execution_count": 31,
   "metadata": {},
   "outputs": [
    {
     "data": {
      "text/plain": [
       "tensor([0.1002, 0.3100, 0.1476, 0.2128, 0.2175, 0.2078, 0.1165, 0.2329, 0.0379,\n",
       "        0.2061, 0.0331, 0.0601, 0.0990, 0.2806, 0.2365, 0.3387, 0.2734, 0.0217,\n",
       "        0.0397, 0.0952, 0.1013, 0.2564, 0.0201, 0.0326, 0.0182, 0.1010, 0.4756,\n",
       "        0.3285, 0.2208, 0.2978], device='cuda:0', grad_fn=<SliceBackward>)"
      ]
     },
     "execution_count": 31,
     "metadata": {},
     "output_type": "execute_result"
    }
   ],
   "source": [
    "pretrain_vae(test_data)[0].mean(dim = 0)[:D]"
   ]
  },
  {
   "cell_type": "markdown",
   "metadata": {},
   "source": [
    "Compare standard deviations"
   ]
  },
  {
   "cell_type": "code",
   "execution_count": 32,
   "metadata": {},
   "outputs": [
    {
     "data": {
      "text/plain": [
       "tensor([0.1913, 0.2338, 0.2076, 0.2199, 0.2306, 0.1890, 0.1805, 0.1945, 0.1051,\n",
       "        0.2321, 0.0976, 0.1389, 0.1652, 0.1922, 0.2341, 0.2330, 0.2048, 0.0390,\n",
       "        0.0929, 0.1692, 0.1755, 0.2236, 0.0499, 0.0923, 0.0152, 0.1863, 0.1593,\n",
       "        0.2244, 0.2096, 0.2350], device='cuda:0')"
      ]
     },
     "execution_count": 32,
     "metadata": {},
     "output_type": "execute_result"
    }
   ],
   "source": [
    "test_data.std(dim = 0)[:D]"
   ]
  },
  {
   "cell_type": "code",
   "execution_count": 33,
   "metadata": {},
   "outputs": [
    {
     "data": {
      "text/plain": [
       "tensor([0.0867, 0.1243, 0.1361, 0.1189, 0.1213, 0.0693, 0.1257, 0.1406, 0.0439,\n",
       "        0.1372, 0.0388, 0.0622, 0.0814, 0.1616, 0.2062, 0.2019, 0.0923, 0.0244,\n",
       "        0.0393, 0.0729, 0.1034, 0.1457, 0.0285, 0.0343, 0.0240, 0.1338, 0.0751,\n",
       "        0.1946, 0.0811, 0.1522], device='cuda:0', grad_fn=<SliceBackward>)"
      ]
     },
     "execution_count": 33,
     "metadata": {},
     "output_type": "execute_result"
    }
   ],
   "source": [
    "pretrain_vae(test_data)[0].std(dim = 0)[:D]"
   ]
  },
  {
   "cell_type": "code",
   "execution_count": 34,
   "metadata": {},
   "outputs": [
    {
     "data": {
      "text/plain": [
       "tensor([0.0203, 0.0233, 0.0177, 0.0187, 0.0195, 0.0208, 0.0190, 0.0217, 0.0194,\n",
       "        0.0207, 0.0201, 0.0231, 0.0224, 0.0179, 0.0207, 0.0183, 0.0188, 0.0193,\n",
       "        0.0163, 0.0222, 0.0184, 0.0201, 0.0237, 0.0217, 0.0185, 0.0215, 0.0213,\n",
       "        0.0240, 0.0228, 0.0213], device='cuda:0', grad_fn=<SliceBackward>)"
      ]
     },
     "execution_count": 34,
     "metadata": {},
     "output_type": "execute_result"
    }
   ],
   "source": [
    "pretrain_vae(test_data)[0].std(dim = 0)[D:2*D]"
   ]
  },
  {
   "cell_type": "code",
   "execution_count": 35,
   "metadata": {},
   "outputs": [],
   "source": [
    "average_std = pretrain_vae(test_data)[0].std(dim = 0)[:D] / test_data.std(dim = 0)[:D]"
   ]
  },
  {
   "cell_type": "code",
   "execution_count": 36,
   "metadata": {},
   "outputs": [
    {
     "name": "stdout",
     "output_type": "stream",
     "text": [
      "tensor([0.4556, 0.5455, 0.6610, 0.5579, 0.5544, 0.3877, 0.6828, 0.7254, 0.4056,\n",
      "        0.6084, 0.4012, 0.4387, 0.5227, 0.8498, 0.8759, 0.8662, 0.4676, 0.6447,\n",
      "        0.4209, 0.4263, 0.5817, 0.6613, 0.5605, 0.3631, 1.5810, 0.7067, 0.4824,\n",
      "        0.8679, 0.4042, 0.6486], device='cuda:0', grad_fn=<DivBackward0>)\n",
      "0.6118571162223816\n"
     ]
    }
   ],
   "source": [
    "print(average_std)\n",
    "print(average_std.mean().item())"
   ]
  },
  {
   "cell_type": "markdown",
   "metadata": {},
   "source": [
    "Get .8 as the mean when nepoch is 50. Get 0.43 as the mean when nepochs is 10."
   ]
  },
  {
   "cell_type": "markdown",
   "metadata": {},
   "source": [
    "Compare values"
   ]
  },
  {
   "cell_type": "code",
   "execution_count": 37,
   "metadata": {},
   "outputs": [],
   "source": [
    "samp = 45"
   ]
  },
  {
   "cell_type": "code",
   "execution_count": 38,
   "metadata": {},
   "outputs": [
    {
     "data": {
      "text/plain": [
       "tensor([0.0000, 0.5286, 0.0000, 0.0231, 0.6963, 0.3966, 0.0103, 0.2939, 0.0000,\n",
       "        0.3152, 0.0000, 0.0000, 0.0000, 0.0617, 0.4150, 0.6262, 0.2110, 0.0000,\n",
       "        0.0000, 0.0000, 0.0000, 0.6829, 0.0000, 0.0000, 0.0000, 0.0000, 0.3516,\n",
       "        0.0000, 0.6491, 0.4560], device='cuda:0')"
      ]
     },
     "execution_count": 38,
     "metadata": {},
     "output_type": "execute_result"
    }
   ],
   "source": [
    "test_data[samp,:D]"
   ]
  },
  {
   "cell_type": "code",
   "execution_count": 39,
   "metadata": {},
   "outputs": [
    {
     "data": {
      "text/plain": [
       "tensor([0.0299, 0.2970, 0.0424, 0.2183, 0.3280, 0.2362, 0.0718, 0.2682, 0.0160,\n",
       "        0.1803, 0.0128, 0.0275, 0.0890, 0.1758, 0.2215, 0.4475, 0.3044, 0.0163,\n",
       "        0.0146, 0.0327, 0.0654, 0.3431, 0.0064, 0.0179, 0.0116, 0.0558, 0.4317,\n",
       "        0.1594, 0.3265, 0.3046], device='cuda:0', grad_fn=<SliceBackward>)"
      ]
     },
     "execution_count": 39,
     "metadata": {},
     "output_type": "execute_result"
    }
   ],
   "source": [
    "pretrain_vae(test_data)[0][samp, :D]"
   ]
  },
  {
   "cell_type": "code",
   "execution_count": 40,
   "metadata": {},
   "outputs": [
    {
     "data": {
      "text/plain": [
       "tensor(0.1185, device='cuda:0', grad_fn=<MeanBackward0>)"
      ]
     },
     "execution_count": 40,
     "metadata": {},
     "output_type": "execute_result"
    }
   ],
   "source": [
    "torch.abs(test_data[samp,:D] - pretrain_vae(test_data)[0][samp, :D]).mean()"
   ]
  },
  {
   "cell_type": "code",
   "execution_count": 41,
   "metadata": {},
   "outputs": [
    {
     "data": {
      "text/plain": [
       "tensor(0.1146, device='cuda:0', grad_fn=<MeanBackward0>)"
      ]
     },
     "execution_count": 41,
     "metadata": {},
     "output_type": "execute_result"
    }
   ],
   "source": [
    "pretrain_vae(test_data)[1][:, :D].mean()"
   ]
  },
  {
   "cell_type": "code",
   "execution_count": 42,
   "metadata": {},
   "outputs": [
    {
     "data": {
      "text/plain": [
       "tensor(0.6333, device='cuda:0', grad_fn=<MeanBackward0>)"
      ]
     },
     "execution_count": 42,
     "metadata": {},
     "output_type": "execute_result"
    }
   ],
   "source": [
    "torch.exp(pretrain_vae(test_data)[2][:, :D]).mean()"
   ]
  },
  {
   "cell_type": "code",
   "execution_count": 43,
   "metadata": {},
   "outputs": [
    {
     "data": {
      "text/plain": [
       "VAE(\n",
       "  (encoder): Sequential(\n",
       "    (0): Linear(in_features=60, out_features=100, bias=True)\n",
       "    (1): LeakyReLU(negative_slope=0.01)\n",
       "  )\n",
       "  (enc_mean): Linear(in_features=100, out_features=20, bias=True)\n",
       "  (enc_logvar): Linear(in_features=100, out_features=20, bias=True)\n",
       "  (decoder): Sequential(\n",
       "    (0): Linear(in_features=20, out_features=100, bias=True)\n",
       "    (1): LeakyReLU(negative_slope=0.01)\n",
       "    (2): Linear(in_features=100, out_features=60, bias=True)\n",
       "    (3): Sigmoid()\n",
       "  )\n",
       ")"
      ]
     },
     "execution_count": 43,
     "metadata": {},
     "output_type": "execute_result"
    }
   ],
   "source": [
    "pretrain_vae.requires_grad_(False)"
   ]
  },
  {
   "cell_type": "markdown",
   "metadata": {},
   "source": [
    "This looks pretty good.\n",
    "\n",
    "**Gumbel matching pretrained VAE next**"
   ]
  },
  {
   "cell_type": "code",
   "execution_count": 44,
   "metadata": {},
   "outputs": [],
   "source": [
    "# let's see how it does here\n",
    "vae_gumbel_with_pre = VAE_Gumbel(2*D, 100, 20, k = 3*z_size)\n",
    "vae_gumbel_with_pre.to(device)\n",
    "vae_gumbel_with_pre_optimizer = torch.optim.Adam(vae_gumbel_with_pre.parameters(), \n",
    "                                                lr=lr, \n",
    "                                                betas = (b1,b2))"
   ]
  },
  {
   "cell_type": "code",
   "execution_count": 45,
   "metadata": {},
   "outputs": [
    {
     "name": "stdout",
     "output_type": "stream",
     "text": [
      "Train Epoch: 1 [0/4000 (0%)]\tLoss: 168.219208\n",
      "Train Epoch: 1 [1280/4000 (32%)]\tLoss: 155.237366\n",
      "Train Epoch: 1 [2560/4000 (64%)]\tLoss: 161.268143\n",
      "Train Epoch: 1 [3840/4000 (96%)]\tLoss: 151.776031\n",
      "====> Epoch: 1 Average loss: 159.1431\n",
      "====> Test set loss: 40.1893\n",
      "Train Epoch: 2 [0/4000 (0%)]\tLoss: 152.251297\n",
      "Train Epoch: 2 [1280/4000 (32%)]\tLoss: 144.919861\n",
      "Train Epoch: 2 [2560/4000 (64%)]\tLoss: 142.172165\n",
      "Train Epoch: 2 [3840/4000 (96%)]\tLoss: 141.516525\n",
      "====> Epoch: 2 Average loss: 146.5750\n",
      "====> Test set loss: 38.8166\n",
      "Train Epoch: 3 [0/4000 (0%)]\tLoss: 136.122559\n",
      "Train Epoch: 3 [1280/4000 (32%)]\tLoss: 134.785812\n",
      "Train Epoch: 3 [2560/4000 (64%)]\tLoss: 128.904449\n",
      "Train Epoch: 3 [3840/4000 (96%)]\tLoss: 128.727493\n",
      "====> Epoch: 3 Average loss: 132.7747\n",
      "====> Test set loss: 37.5193\n",
      "Train Epoch: 4 [0/4000 (0%)]\tLoss: 126.363541\n",
      "Train Epoch: 4 [1280/4000 (32%)]\tLoss: 121.623680\n",
      "Train Epoch: 4 [2560/4000 (64%)]\tLoss: 123.583015\n",
      "Train Epoch: 4 [3840/4000 (96%)]\tLoss: 113.317459\n",
      "====> Epoch: 4 Average loss: 117.9632\n",
      "====> Test set loss: 36.1340\n",
      "Train Epoch: 5 [0/4000 (0%)]\tLoss: 121.019653\n",
      "Train Epoch: 5 [1280/4000 (32%)]\tLoss: 107.843552\n",
      "Train Epoch: 5 [2560/4000 (64%)]\tLoss: 123.255981\n",
      "Train Epoch: 5 [3840/4000 (96%)]\tLoss: 104.062881\n",
      "====> Epoch: 5 Average loss: 105.9535\n",
      "====> Test set loss: 35.0383\n",
      "Train Epoch: 6 [0/4000 (0%)]\tLoss: 114.577972\n",
      "Train Epoch: 6 [1280/4000 (32%)]\tLoss: 95.154144\n",
      "Train Epoch: 6 [2560/4000 (64%)]\tLoss: 99.411957\n",
      "Train Epoch: 6 [3840/4000 (96%)]\tLoss: 99.447037\n",
      "====> Epoch: 6 Average loss: 99.0487\n",
      "====> Test set loss: 34.3768\n",
      "Train Epoch: 7 [0/4000 (0%)]\tLoss: 89.848465\n",
      "Train Epoch: 7 [1280/4000 (32%)]\tLoss: 111.464226\n",
      "Train Epoch: 7 [2560/4000 (64%)]\tLoss: 94.847122\n",
      "Train Epoch: 7 [3840/4000 (96%)]\tLoss: 95.422577\n",
      "====> Epoch: 7 Average loss: 95.4422\n",
      "====> Test set loss: 33.9716\n",
      "Train Epoch: 8 [0/4000 (0%)]\tLoss: 87.155228\n",
      "Train Epoch: 8 [1280/4000 (32%)]\tLoss: 92.844788\n",
      "Train Epoch: 8 [2560/4000 (64%)]\tLoss: 86.939278\n",
      "Train Epoch: 8 [3840/4000 (96%)]\tLoss: 91.029350\n",
      "====> Epoch: 8 Average loss: 92.9987\n",
      "====> Test set loss: 33.7032\n",
      "Train Epoch: 9 [0/4000 (0%)]\tLoss: 89.398148\n",
      "Train Epoch: 9 [1280/4000 (32%)]\tLoss: 86.722351\n",
      "Train Epoch: 9 [2560/4000 (64%)]\tLoss: 91.572197\n",
      "Train Epoch: 9 [3840/4000 (96%)]\tLoss: 88.299957\n",
      "====> Epoch: 9 Average loss: 91.0074\n",
      "====> Test set loss: 33.5734\n",
      "Train Epoch: 10 [0/4000 (0%)]\tLoss: 96.911133\n",
      "Train Epoch: 10 [1280/4000 (32%)]\tLoss: 89.618439\n",
      "Train Epoch: 10 [2560/4000 (64%)]\tLoss: 89.151108\n",
      "Train Epoch: 10 [3840/4000 (96%)]\tLoss: 84.685150\n",
      "====> Epoch: 10 Average loss: 88.9941\n",
      "====> Test set loss: 33.3807\n",
      "Train Epoch: 11 [0/4000 (0%)]\tLoss: 87.407524\n",
      "Train Epoch: 11 [1280/4000 (32%)]\tLoss: 83.084793\n",
      "Train Epoch: 11 [2560/4000 (64%)]\tLoss: 86.310333\n",
      "Train Epoch: 11 [3840/4000 (96%)]\tLoss: 92.341049\n",
      "====> Epoch: 11 Average loss: 86.4106\n",
      "====> Test set loss: 33.3167\n",
      "Train Epoch: 12 [0/4000 (0%)]\tLoss: 77.887817\n",
      "Train Epoch: 12 [1280/4000 (32%)]\tLoss: 82.757957\n",
      "Train Epoch: 12 [2560/4000 (64%)]\tLoss: 90.265335\n",
      "Train Epoch: 12 [3840/4000 (96%)]\tLoss: 82.165962\n",
      "====> Epoch: 12 Average loss: 84.0156\n",
      "====> Test set loss: 33.2105\n",
      "Train Epoch: 13 [0/4000 (0%)]\tLoss: 88.581284\n",
      "Train Epoch: 13 [1280/4000 (32%)]\tLoss: 73.996948\n",
      "Train Epoch: 13 [2560/4000 (64%)]\tLoss: 84.734604\n",
      "Train Epoch: 13 [3840/4000 (96%)]\tLoss: 78.094383\n",
      "====> Epoch: 13 Average loss: 81.8932\n",
      "====> Test set loss: 33.1282\n",
      "Train Epoch: 14 [0/4000 (0%)]\tLoss: 82.695076\n",
      "Train Epoch: 14 [1280/4000 (32%)]\tLoss: 86.498657\n",
      "Train Epoch: 14 [2560/4000 (64%)]\tLoss: 82.759003\n",
      "Train Epoch: 14 [3840/4000 (96%)]\tLoss: 86.016747\n",
      "====> Epoch: 14 Average loss: 79.5680\n",
      "====> Test set loss: 33.0361\n",
      "Train Epoch: 15 [0/4000 (0%)]\tLoss: 78.468712\n",
      "Train Epoch: 15 [1280/4000 (32%)]\tLoss: 78.981781\n",
      "Train Epoch: 15 [2560/4000 (64%)]\tLoss: 77.727676\n",
      "Train Epoch: 15 [3840/4000 (96%)]\tLoss: 70.248566\n",
      "====> Epoch: 15 Average loss: 77.2533\n",
      "====> Test set loss: 32.9863\n",
      "Train Epoch: 16 [0/4000 (0%)]\tLoss: 74.263962\n",
      "Train Epoch: 16 [1280/4000 (32%)]\tLoss: 66.740082\n",
      "Train Epoch: 16 [2560/4000 (64%)]\tLoss: 74.401947\n",
      "Train Epoch: 16 [3840/4000 (96%)]\tLoss: 68.693985\n",
      "====> Epoch: 16 Average loss: 74.3475\n",
      "====> Test set loss: 32.8832\n",
      "Train Epoch: 17 [0/4000 (0%)]\tLoss: 70.960022\n",
      "Train Epoch: 17 [1280/4000 (32%)]\tLoss: 74.927437\n",
      "Train Epoch: 17 [2560/4000 (64%)]\tLoss: 75.482315\n",
      "Train Epoch: 17 [3840/4000 (96%)]\tLoss: 79.317703\n",
      "====> Epoch: 17 Average loss: 73.3143\n",
      "====> Test set loss: 32.8984\n",
      "Train Epoch: 18 [0/4000 (0%)]\tLoss: 64.642952\n",
      "Train Epoch: 18 [1280/4000 (32%)]\tLoss: 65.832809\n",
      "Train Epoch: 18 [2560/4000 (64%)]\tLoss: 75.723076\n",
      "Train Epoch: 18 [3840/4000 (96%)]\tLoss: 74.250679\n",
      "====> Epoch: 18 Average loss: 70.8904\n",
      "====> Test set loss: 32.8295\n",
      "Train Epoch: 19 [0/4000 (0%)]\tLoss: 75.068069\n",
      "Train Epoch: 19 [1280/4000 (32%)]\tLoss: 67.959747\n",
      "Train Epoch: 19 [2560/4000 (64%)]\tLoss: 72.543663\n",
      "Train Epoch: 19 [3840/4000 (96%)]\tLoss: 64.080811\n",
      "====> Epoch: 19 Average loss: 69.3268\n",
      "====> Test set loss: 32.7610\n",
      "Train Epoch: 20 [0/4000 (0%)]\tLoss: 68.318184\n",
      "Train Epoch: 20 [1280/4000 (32%)]\tLoss: 62.193756\n",
      "Train Epoch: 20 [2560/4000 (64%)]\tLoss: 65.998901\n",
      "Train Epoch: 20 [3840/4000 (96%)]\tLoss: 65.908470\n",
      "====> Epoch: 20 Average loss: 68.6446\n",
      "====> Test set loss: 32.7206\n"
     ]
    }
   ],
   "source": [
    "for epoch in range(1, n_epochs + 1):\n",
    "    train_pre_trained(train_data, vae_gumbel_with_pre, vae_gumbel_with_pre_optimizer, \n",
    "                      epoch, pretrain_vae, batch_size)\n",
    "    test(test_data, vae_gumbel_with_pre, epoch, batch_size)"
   ]
  },
  {
   "cell_type": "code",
   "execution_count": 46,
   "metadata": {},
   "outputs": [
    {
     "name": "stdout",
     "output_type": "stream",
     "text": [
      "Test Loss\n",
      "tensor(0.5389, device='cuda:0')\n"
     ]
    }
   ],
   "source": [
    "with torch.no_grad():\n",
    "    print(\"Test Loss\")\n",
    "    print(F.binary_cross_entropy(vae_gumbel_with_pre(test_data)[0], test_data))"
   ]
  },
  {
   "cell_type": "markdown",
   "metadata": {},
   "source": [
    "Means"
   ]
  },
  {
   "cell_type": "code",
   "execution_count": 47,
   "metadata": {},
   "outputs": [
    {
     "data": {
      "text/plain": [
       "tensor([0.0978, 0.3031, 0.1394, 0.2099, 0.2063, 0.2098, 0.1076, 0.2316, 0.0298,\n",
       "        0.1968, 0.0261, 0.0561, 0.0848, 0.2727, 0.2320, 0.3355, 0.2739, 0.0056,\n",
       "        0.0301, 0.0953, 0.0889, 0.2483, 0.0063, 0.0231, 0.0009, 0.0924, 0.4782,\n",
       "        0.3251, 0.2092, 0.2881], device='cuda:0')"
      ]
     },
     "execution_count": 47,
     "metadata": {},
     "output_type": "execute_result"
    }
   ],
   "source": [
    "test_data.mean(dim = 0)[:D]"
   ]
  },
  {
   "cell_type": "code",
   "execution_count": 48,
   "metadata": {},
   "outputs": [
    {
     "data": {
      "text/plain": [
       "tensor([0.1024, 0.3140, 0.1501, 0.2163, 0.2175, 0.2214, 0.1102, 0.2434, 0.0483,\n",
       "        0.2128, 0.0389, 0.0598, 0.1022, 0.2799, 0.2342, 0.3367, 0.2845, 0.0300,\n",
       "        0.0439, 0.1068, 0.0917, 0.2642, 0.0256, 0.0395, 0.0286, 0.0950, 0.4727,\n",
       "        0.3332, 0.2241, 0.2972], device='cuda:0', grad_fn=<SliceBackward>)"
      ]
     },
     "execution_count": 48,
     "metadata": {},
     "output_type": "execute_result"
    }
   ],
   "source": [
    "vae_gumbel_with_pre(test_data)[0].mean(dim = 0)[:D]"
   ]
  },
  {
   "cell_type": "markdown",
   "metadata": {},
   "source": [
    "Deviations"
   ]
  },
  {
   "cell_type": "code",
   "execution_count": 49,
   "metadata": {},
   "outputs": [
    {
     "data": {
      "text/plain": [
       "tensor([0.1913, 0.2338, 0.2076, 0.2199, 0.2306, 0.1890, 0.1805, 0.1945, 0.1051,\n",
       "        0.2321, 0.0976, 0.1389, 0.1652, 0.1922, 0.2341, 0.2330, 0.2048, 0.0390,\n",
       "        0.0929, 0.1692, 0.1755, 0.2236, 0.0499, 0.0923, 0.0152, 0.1863, 0.1593,\n",
       "        0.2244, 0.2096, 0.2350], device='cuda:0')"
      ]
     },
     "execution_count": 49,
     "metadata": {},
     "output_type": "execute_result"
    }
   ],
   "source": [
    "test_data.std(dim = 0)[:D]"
   ]
  },
  {
   "cell_type": "code",
   "execution_count": 50,
   "metadata": {},
   "outputs": [
    {
     "data": {
      "text/plain": [
       "tensor([0.0489, 0.0382, 0.0722, 0.0661, 0.0476, 0.0494, 0.0542, 0.0756, 0.0369,\n",
       "        0.0635, 0.0307, 0.0383, 0.0466, 0.0789, 0.0941, 0.1072, 0.0429, 0.0276,\n",
       "        0.0320, 0.0490, 0.0490, 0.0699, 0.0238, 0.0289, 0.0273, 0.0518, 0.0419,\n",
       "        0.0966, 0.0474, 0.0831], device='cuda:0', grad_fn=<SliceBackward>)"
      ]
     },
     "execution_count": 50,
     "metadata": {},
     "output_type": "execute_result"
    }
   ],
   "source": [
    "vae_gumbel_with_pre(test_data)[0].std(dim = 0)[:D]"
   ]
  },
  {
   "cell_type": "markdown",
   "metadata": {},
   "source": [
    "Values"
   ]
  },
  {
   "cell_type": "code",
   "execution_count": 51,
   "metadata": {},
   "outputs": [
    {
     "data": {
      "text/plain": [
       "tensor([0.0000, 0.5286, 0.0000, 0.0231, 0.6963, 0.3966, 0.0103, 0.2939, 0.0000,\n",
       "        0.3152, 0.0000, 0.0000, 0.0000, 0.0617, 0.4150, 0.6262, 0.2110, 0.0000,\n",
       "        0.0000, 0.0000, 0.0000, 0.6829, 0.0000, 0.0000, 0.0000, 0.0000, 0.3516,\n",
       "        0.0000, 0.6491, 0.4560], device='cuda:0')"
      ]
     },
     "execution_count": 51,
     "metadata": {},
     "output_type": "execute_result"
    }
   ],
   "source": [
    "test_data[samp,:D]"
   ]
  },
  {
   "cell_type": "code",
   "execution_count": 52,
   "metadata": {},
   "outputs": [
    {
     "data": {
      "text/plain": [
       "tensor([0.1260, 0.3472, 0.1572, 0.3154, 0.2828, 0.2629, 0.1789, 0.3836, 0.0970,\n",
       "        0.1962, 0.0766, 0.1059, 0.1447, 0.2776, 0.4030, 0.4705, 0.3816, 0.0574,\n",
       "        0.0718, 0.1282, 0.2241, 0.3744, 0.0557, 0.0664, 0.0492, 0.1468, 0.5124,\n",
       "        0.2305, 0.2370, 0.2446], device='cuda:0', grad_fn=<SliceBackward>)"
      ]
     },
     "execution_count": 52,
     "metadata": {},
     "output_type": "execute_result"
    }
   ],
   "source": [
    "vae_gumbel_with_pre(test_data)[0][samp, :D]"
   ]
  },
  {
   "cell_type": "code",
   "execution_count": 53,
   "metadata": {},
   "outputs": [],
   "source": [
    "with torch.no_grad():\n",
    "    w = vae_gumbel_with_pre.weight_creator(test_data[0:2, :])\n",
    "    subset_indices = sample_subset(w, k=3*z_size, t=0.1).cpu()"
   ]
  },
  {
   "cell_type": "code",
   "execution_count": 54,
   "metadata": {},
   "outputs": [
    {
     "data": {
      "text/plain": [
       "tensor([[28, 12,  8, 13, 45, 59, 21, 18, 52, 50, 42, 46,  1, 47, 39],\n",
       "        [35, 55, 34, 38, 50, 11, 30, 17, 26, 41, 33,  3, 40,  4, 19]])"
      ]
     },
     "execution_count": 54,
     "metadata": {},
     "output_type": "execute_result"
    }
   ],
   "source": [
    "# as long as feature index is lesss than 30, then it isn't picking noise\n",
    "torch.argsort(subset_indices, dim = 1, descending = True)[:, :3 * z_size]"
   ]
  },
  {
   "cell_type": "markdown",
   "metadata": {},
   "source": [
    "**Joint Train**"
   ]
  },
  {
   "cell_type": "code",
   "execution_count": 55,
   "metadata": {},
   "outputs": [],
   "source": [
    "joint_vanilla_vae = VAE(2*D, 100, 20)\n",
    "joint_vanilla_vae.to(device)\n",
    "\n",
    "joint_vae_gumbel = VAE_Gumbel(2*D, 100, 20, k = 3*z_size)\n",
    "joint_vae_gumbel.to(device)\n",
    "\n",
    "joint_optimizer = torch.optim.Adam(list(joint_vanilla_vae.parameters()) + list(joint_vae_gumbel.parameters()), \n",
    "                                                lr=lr, \n",
    "                                                betas = (b1,b2))"
   ]
  },
  {
   "cell_type": "code",
   "execution_count": 56,
   "metadata": {},
   "outputs": [
    {
     "name": "stdout",
     "output_type": "stream",
     "text": [
      "Train Epoch: 1 [0/4000 (0%)]\tLoss: 86.848480\n",
      "Train Epoch: 1 [1280/4000 (32%)]\tLoss: 84.275276\n",
      "Train Epoch: 1 [2560/4000 (64%)]\tLoss: 82.845856\n",
      "Train Epoch: 1 [3840/4000 (96%)]\tLoss: 81.747147\n",
      "====> Epoch: 1 Average loss: 83.7655\n",
      "====> Test set loss: 106.0535\n",
      "Train Epoch: 2 [0/4000 (0%)]\tLoss: 81.726105\n",
      "Train Epoch: 2 [1280/4000 (32%)]\tLoss: 80.686974\n",
      "Train Epoch: 2 [2560/4000 (64%)]\tLoss: 79.847923\n",
      "Train Epoch: 2 [3840/4000 (96%)]\tLoss: 78.858322\n",
      "====> Epoch: 2 Average loss: 80.2634\n",
      "====> Test set loss: 96.4168\n",
      "Train Epoch: 3 [0/4000 (0%)]\tLoss: 78.898964\n",
      "Train Epoch: 3 [1280/4000 (32%)]\tLoss: 77.950134\n",
      "Train Epoch: 3 [2560/4000 (64%)]\tLoss: 77.212387\n",
      "Train Epoch: 3 [3840/4000 (96%)]\tLoss: 76.307381\n",
      "====> Epoch: 3 Average loss: 77.5121\n",
      "====> Test set loss: 90.1183\n",
      "Train Epoch: 4 [0/4000 (0%)]\tLoss: 76.061302\n",
      "Train Epoch: 4 [1280/4000 (32%)]\tLoss: 75.339722\n",
      "Train Epoch: 4 [2560/4000 (64%)]\tLoss: 74.579987\n",
      "Train Epoch: 4 [3840/4000 (96%)]\tLoss: 73.783607\n",
      "====> Epoch: 4 Average loss: 74.9325\n",
      "====> Test set loss: 84.9218\n",
      "Train Epoch: 5 [0/4000 (0%)]\tLoss: 73.600578\n",
      "Train Epoch: 5 [1280/4000 (32%)]\tLoss: 72.848732\n",
      "Train Epoch: 5 [2560/4000 (64%)]\tLoss: 71.988037\n",
      "Train Epoch: 5 [3840/4000 (96%)]\tLoss: 71.651878\n",
      "====> Epoch: 5 Average loss: 72.5539\n",
      "====> Test set loss: 81.2998\n",
      "Train Epoch: 6 [0/4000 (0%)]\tLoss: 72.001770\n",
      "Train Epoch: 6 [1280/4000 (32%)]\tLoss: 71.080666\n",
      "Train Epoch: 6 [2560/4000 (64%)]\tLoss: 70.471008\n",
      "Train Epoch: 6 [3840/4000 (96%)]\tLoss: 69.611885\n",
      "====> Epoch: 6 Average loss: 70.6304\n",
      "====> Test set loss: 80.2777\n",
      "Train Epoch: 7 [0/4000 (0%)]\tLoss: 70.088272\n",
      "Train Epoch: 7 [1280/4000 (32%)]\tLoss: 69.844101\n",
      "Train Epoch: 7 [2560/4000 (64%)]\tLoss: 68.865982\n",
      "Train Epoch: 7 [3840/4000 (96%)]\tLoss: 69.177872\n",
      "====> Epoch: 7 Average loss: 69.2807\n",
      "====> Test set loss: 81.2399\n",
      "Train Epoch: 8 [0/4000 (0%)]\tLoss: 69.222366\n",
      "Train Epoch: 8 [1280/4000 (32%)]\tLoss: 68.629311\n",
      "Train Epoch: 8 [2560/4000 (64%)]\tLoss: 68.070389\n",
      "Train Epoch: 8 [3840/4000 (96%)]\tLoss: 67.895317\n",
      "====> Epoch: 8 Average loss: 68.3794\n",
      "====> Test set loss: 81.4219\n",
      "Train Epoch: 9 [0/4000 (0%)]\tLoss: 67.219070\n",
      "Train Epoch: 9 [1280/4000 (32%)]\tLoss: 67.514862\n",
      "Train Epoch: 9 [2560/4000 (64%)]\tLoss: 68.793320\n",
      "Train Epoch: 9 [3840/4000 (96%)]\tLoss: 67.605515\n",
      "====> Epoch: 9 Average loss: 67.7423\n",
      "====> Test set loss: 82.2546\n",
      "Train Epoch: 10 [0/4000 (0%)]\tLoss: 67.282814\n",
      "Train Epoch: 10 [1280/4000 (32%)]\tLoss: 67.157021\n",
      "Train Epoch: 10 [2560/4000 (64%)]\tLoss: 68.226913\n",
      "Train Epoch: 10 [3840/4000 (96%)]\tLoss: 66.842773\n",
      "====> Epoch: 10 Average loss: 67.3137\n",
      "====> Test set loss: 82.4574\n",
      "Train Epoch: 11 [0/4000 (0%)]\tLoss: 67.695213\n",
      "Train Epoch: 11 [1280/4000 (32%)]\tLoss: 67.036728\n",
      "Train Epoch: 11 [2560/4000 (64%)]\tLoss: 67.299889\n",
      "Train Epoch: 11 [3840/4000 (96%)]\tLoss: 65.958481\n",
      "====> Epoch: 11 Average loss: 66.9961\n",
      "====> Test set loss: 81.8475\n",
      "Train Epoch: 12 [0/4000 (0%)]\tLoss: 67.063637\n",
      "Train Epoch: 12 [1280/4000 (32%)]\tLoss: 67.606339\n",
      "Train Epoch: 12 [2560/4000 (64%)]\tLoss: 66.349533\n",
      "Train Epoch: 12 [3840/4000 (96%)]\tLoss: 65.410179\n",
      "====> Epoch: 12 Average loss: 66.7330\n",
      "====> Test set loss: 80.4987\n",
      "Train Epoch: 13 [0/4000 (0%)]\tLoss: 65.762306\n",
      "Train Epoch: 13 [1280/4000 (32%)]\tLoss: 66.352005\n",
      "Train Epoch: 13 [2560/4000 (64%)]\tLoss: 65.070778\n",
      "Train Epoch: 13 [3840/4000 (96%)]\tLoss: 67.087051\n",
      "====> Epoch: 13 Average loss: 66.5448\n",
      "====> Test set loss: 79.9782\n",
      "Train Epoch: 14 [0/4000 (0%)]\tLoss: 66.419502\n",
      "Train Epoch: 14 [1280/4000 (32%)]\tLoss: 66.219551\n",
      "Train Epoch: 14 [2560/4000 (64%)]\tLoss: 66.950729\n",
      "Train Epoch: 14 [3840/4000 (96%)]\tLoss: 65.271767\n",
      "====> Epoch: 14 Average loss: 66.4040\n",
      "====> Test set loss: 78.4945\n",
      "Train Epoch: 15 [0/4000 (0%)]\tLoss: 65.347282\n",
      "Train Epoch: 15 [1280/4000 (32%)]\tLoss: 66.935738\n",
      "Train Epoch: 15 [2560/4000 (64%)]\tLoss: 65.862709\n",
      "Train Epoch: 15 [3840/4000 (96%)]\tLoss: 65.579453\n",
      "====> Epoch: 15 Average loss: 66.2589\n",
      "====> Test set loss: 77.7828\n",
      "Train Epoch: 16 [0/4000 (0%)]\tLoss: 66.066132\n",
      "Train Epoch: 16 [1280/4000 (32%)]\tLoss: 66.279053\n",
      "Train Epoch: 16 [2560/4000 (64%)]\tLoss: 64.887611\n",
      "Train Epoch: 16 [3840/4000 (96%)]\tLoss: 66.347336\n",
      "====> Epoch: 16 Average loss: 66.1705\n",
      "====> Test set loss: 76.6704\n",
      "Train Epoch: 17 [0/4000 (0%)]\tLoss: 65.713219\n",
      "Train Epoch: 17 [1280/4000 (32%)]\tLoss: 66.854195\n",
      "Train Epoch: 17 [2560/4000 (64%)]\tLoss: 66.327736\n",
      "Train Epoch: 17 [3840/4000 (96%)]\tLoss: 65.423660\n",
      "====> Epoch: 17 Average loss: 66.0924\n",
      "====> Test set loss: 75.7356\n",
      "Train Epoch: 18 [0/4000 (0%)]\tLoss: 66.506882\n",
      "Train Epoch: 18 [1280/4000 (32%)]\tLoss: 65.499237\n",
      "Train Epoch: 18 [2560/4000 (64%)]\tLoss: 65.736557\n",
      "Train Epoch: 18 [3840/4000 (96%)]\tLoss: 65.392570\n",
      "====> Epoch: 18 Average loss: 65.9874\n",
      "====> Test set loss: 75.0423\n",
      "Train Epoch: 19 [0/4000 (0%)]\tLoss: 66.295898\n",
      "Train Epoch: 19 [1280/4000 (32%)]\tLoss: 66.088173\n",
      "Train Epoch: 19 [2560/4000 (64%)]\tLoss: 64.759743\n",
      "Train Epoch: 19 [3840/4000 (96%)]\tLoss: 65.494583\n",
      "====> Epoch: 19 Average loss: 65.9068\n",
      "====> Test set loss: 74.3719\n",
      "Train Epoch: 20 [0/4000 (0%)]\tLoss: 65.826057\n",
      "Train Epoch: 20 [1280/4000 (32%)]\tLoss: 66.397408\n",
      "Train Epoch: 20 [2560/4000 (64%)]\tLoss: 66.540825\n",
      "Train Epoch: 20 [3840/4000 (96%)]\tLoss: 65.697884\n",
      "====> Epoch: 20 Average loss: 65.8637\n",
      "====> Test set loss: 73.4213\n"
     ]
    }
   ],
   "source": [
    "for epoch in range(1, n_epochs + 1):\n",
    "    train_joint(train_data, joint_vanilla_vae, joint_vae_gumbel, joint_optimizer, epoch, batch_size)\n",
    "    test_joint(test_data, joint_vanilla_vae, joint_vae_gumbel, epoch, batch_size)"
   ]
  },
  {
   "cell_type": "code",
   "execution_count": 57,
   "metadata": {},
   "outputs": [
    {
     "name": "stdout",
     "output_type": "stream",
     "text": [
      "Test Loss\n",
      "tensor(0.5452, device='cuda:0')\n"
     ]
    }
   ],
   "source": [
    "with torch.no_grad():\n",
    "    print(\"Test Loss\")\n",
    "    print(F.binary_cross_entropy(joint_vae_gumbel(test_data)[0], test_data))"
   ]
  },
  {
   "cell_type": "markdown",
   "metadata": {},
   "source": [
    "Means"
   ]
  },
  {
   "cell_type": "code",
   "execution_count": 58,
   "metadata": {},
   "outputs": [
    {
     "data": {
      "text/plain": [
       "tensor([0.0978, 0.3031, 0.1394, 0.2099, 0.2063, 0.2098, 0.1076, 0.2316, 0.0298,\n",
       "        0.1968, 0.0261, 0.0561, 0.0848, 0.2727, 0.2320, 0.3355, 0.2739, 0.0056,\n",
       "        0.0301, 0.0953, 0.0889, 0.2483, 0.0063, 0.0231, 0.0009, 0.0924, 0.4782,\n",
       "        0.3251, 0.2092, 0.2881], device='cuda:0')"
      ]
     },
     "execution_count": 58,
     "metadata": {},
     "output_type": "execute_result"
    }
   ],
   "source": [
    "test_data.mean(dim = 0)[:D]"
   ]
  },
  {
   "cell_type": "code",
   "execution_count": 59,
   "metadata": {},
   "outputs": [
    {
     "data": {
      "text/plain": [
       "tensor([0.1078, 0.3124, 0.1577, 0.2222, 0.2225, 0.2211, 0.1145, 0.2420, 0.0653,\n",
       "        0.2137, 0.0455, 0.0678, 0.1044, 0.2837, 0.2368, 0.3319, 0.2860, 0.0432,\n",
       "        0.0580, 0.1193, 0.0988, 0.2575, 0.0338, 0.0576, 0.0425, 0.1012, 0.4774,\n",
       "        0.3368, 0.2207, 0.2978], device='cuda:0', grad_fn=<SliceBackward>)"
      ]
     },
     "execution_count": 59,
     "metadata": {},
     "output_type": "execute_result"
    }
   ],
   "source": [
    "joint_vae_gumbel(test_data)[0].mean(dim = 0)[:D]"
   ]
  },
  {
   "cell_type": "markdown",
   "metadata": {},
   "source": [
    "Deviations"
   ]
  },
  {
   "cell_type": "code",
   "execution_count": 60,
   "metadata": {},
   "outputs": [
    {
     "data": {
      "text/plain": [
       "tensor([0.1913, 0.2338, 0.2076, 0.2199, 0.2306, 0.1890, 0.1805, 0.1945, 0.1051,\n",
       "        0.2321, 0.0976, 0.1389, 0.1652, 0.1922, 0.2341, 0.2330, 0.2048, 0.0390,\n",
       "        0.0929, 0.1692, 0.1755, 0.2236, 0.0499, 0.0923, 0.0152, 0.1863, 0.1593,\n",
       "        0.2244, 0.2096, 0.2350], device='cuda:0')"
      ]
     },
     "execution_count": 60,
     "metadata": {},
     "output_type": "execute_result"
    }
   ],
   "source": [
    "test_data.std(dim = 0)[:D]"
   ]
  },
  {
   "cell_type": "code",
   "execution_count": 61,
   "metadata": {},
   "outputs": [
    {
     "data": {
      "text/plain": [
       "tensor([0.0452, 0.0416, 0.0576, 0.0502, 0.0535, 0.0399, 0.0450, 0.0479, 0.0390,\n",
       "        0.0504, 0.0335, 0.0421, 0.0419, 0.0363, 0.0495, 0.0332, 0.0363, 0.0307,\n",
       "        0.0351, 0.0520, 0.0463, 0.0400, 0.0276, 0.0389, 0.0311, 0.0454, 0.0236,\n",
       "        0.0383, 0.0481, 0.0447], device='cuda:0', grad_fn=<SliceBackward>)"
      ]
     },
     "execution_count": 61,
     "metadata": {},
     "output_type": "execute_result"
    }
   ],
   "source": [
    "joint_vae_gumbel(test_data)[0].std(dim = 0)[:D]"
   ]
  },
  {
   "cell_type": "markdown",
   "metadata": {},
   "source": [
    "Values"
   ]
  },
  {
   "cell_type": "code",
   "execution_count": 62,
   "metadata": {},
   "outputs": [
    {
     "data": {
      "text/plain": [
       "tensor([0.0000, 0.5286, 0.0000, 0.0231, 0.6963, 0.3966, 0.0103, 0.2939, 0.0000,\n",
       "        0.3152, 0.0000, 0.0000, 0.0000, 0.0617, 0.4150, 0.6262, 0.2110, 0.0000,\n",
       "        0.0000, 0.0000, 0.0000, 0.6829, 0.0000, 0.0000, 0.0000, 0.0000, 0.3516,\n",
       "        0.0000, 0.6491, 0.4560], device='cuda:0')"
      ]
     },
     "execution_count": 62,
     "metadata": {},
     "output_type": "execute_result"
    }
   ],
   "source": [
    "test_data[samp,:D]"
   ]
  },
  {
   "cell_type": "code",
   "execution_count": 63,
   "metadata": {},
   "outputs": [
    {
     "data": {
      "text/plain": [
       "tensor([0.0701, 0.2890, 0.1689, 0.1704, 0.1435, 0.1886, 0.0755, 0.2708, 0.0325,\n",
       "        0.1740, 0.0354, 0.0469, 0.0618, 0.2541, 0.2209, 0.3065, 0.2965, 0.0297,\n",
       "        0.0269, 0.0873, 0.0863, 0.1973, 0.0103, 0.0357, 0.0260, 0.0666, 0.4750,\n",
       "        0.3386, 0.1913, 0.2646], device='cuda:0', grad_fn=<SliceBackward>)"
      ]
     },
     "execution_count": 63,
     "metadata": {},
     "output_type": "execute_result"
    }
   ],
   "source": [
    "joint_vae_gumbel(test_data)[0][samp, :D]"
   ]
  },
  {
   "cell_type": "code",
   "execution_count": 64,
   "metadata": {},
   "outputs": [],
   "source": [
    "with torch.no_grad():\n",
    "    w = joint_vae_gumbel.weight_creator(test_data[0:2, :])\n",
    "    subset_indices = sample_subset(w, k=3*z_size, t=0.1).cpu()"
   ]
  },
  {
   "cell_type": "code",
   "execution_count": 65,
   "metadata": {},
   "outputs": [
    {
     "data": {
      "text/plain": [
       "tensor([[ 6, 45,  5, 47, 46,  7, 26, 19, 16, 42,  8, 31, 50, 36,  4],\n",
       "        [45, 28, 15, 31,  3, 18, 27, 35, 48, 19, 52,  0, 43,  9, 20]])"
      ]
     },
     "execution_count": 65,
     "metadata": {},
     "output_type": "execute_result"
    }
   ],
   "source": [
    "torch.argsort(subset_indices, dim = 1, descending = True)[:, :3 * z_size]"
   ]
  },
  {
   "cell_type": "markdown",
   "metadata": {},
   "source": [
    "Joint Training while selecting exactly z_size. Why does it pick the noise variables?"
   ]
  },
  {
   "cell_type": "code",
   "execution_count": 66,
   "metadata": {},
   "outputs": [],
   "source": [
    "joint_vanilla_vae = VAE(2*D, 100, 20)\n",
    "joint_vanilla_vae.to(device)\n",
    "\n",
    "joint_vae_gumbel = VAE_Gumbel(2*D, 100, 20, k = z_size)\n",
    "joint_vae_gumbel.to(device)\n",
    "\n",
    "joint_optimizer = torch.optim.Adam(list(joint_vanilla_vae.parameters()) + list(joint_vae_gumbel.parameters()), \n",
    "                                                lr=lr, \n",
    "                                                betas = (b1,b2))"
   ]
  },
  {
   "cell_type": "code",
   "execution_count": 67,
   "metadata": {},
   "outputs": [
    {
     "name": "stdout",
     "output_type": "stream",
     "text": [
      "Train Epoch: 1 [0/4000 (0%)]\tLoss: 85.054405\n",
      "Train Epoch: 1 [1280/4000 (32%)]\tLoss: 83.330345\n",
      "Train Epoch: 1 [2560/4000 (64%)]\tLoss: 82.286453\n",
      "Train Epoch: 1 [3840/4000 (96%)]\tLoss: 81.242546\n",
      "====> Epoch: 1 Average loss: 82.9093\n",
      "====> Test set loss: 97.6358\n",
      "Train Epoch: 2 [0/4000 (0%)]\tLoss: 81.174263\n",
      "Train Epoch: 2 [1280/4000 (32%)]\tLoss: 80.213066\n",
      "Train Epoch: 2 [2560/4000 (64%)]\tLoss: 79.237938\n",
      "Train Epoch: 2 [3840/4000 (96%)]\tLoss: 78.435249\n",
      "====> Epoch: 2 Average loss: 79.7377\n",
      "====> Test set loss: 90.1511\n",
      "Train Epoch: 3 [0/4000 (0%)]\tLoss: 78.242432\n",
      "Train Epoch: 3 [1280/4000 (32%)]\tLoss: 77.535652\n",
      "Train Epoch: 3 [2560/4000 (64%)]\tLoss: 76.462410\n",
      "Train Epoch: 3 [3840/4000 (96%)]\tLoss: 75.758675\n",
      "====> Epoch: 3 Average loss: 76.9780\n",
      "====> Test set loss: 84.4369\n",
      "Train Epoch: 4 [0/4000 (0%)]\tLoss: 75.658134\n",
      "Train Epoch: 4 [1280/4000 (32%)]\tLoss: 74.409744\n",
      "Train Epoch: 4 [2560/4000 (64%)]\tLoss: 73.804512\n",
      "Train Epoch: 4 [3840/4000 (96%)]\tLoss: 73.436516\n",
      "====> Epoch: 4 Average loss: 74.3653\n",
      "====> Test set loss: 80.1249\n",
      "Train Epoch: 5 [0/4000 (0%)]\tLoss: 73.001938\n",
      "Train Epoch: 5 [1280/4000 (32%)]\tLoss: 72.321121\n",
      "Train Epoch: 5 [2560/4000 (64%)]\tLoss: 71.671204\n",
      "Train Epoch: 5 [3840/4000 (96%)]\tLoss: 70.518066\n",
      "====> Epoch: 5 Average loss: 72.0869\n",
      "====> Test set loss: 76.8887\n",
      "Train Epoch: 6 [0/4000 (0%)]\tLoss: 71.511497\n",
      "Train Epoch: 6 [1280/4000 (32%)]\tLoss: 70.557800\n",
      "Train Epoch: 6 [2560/4000 (64%)]\tLoss: 70.255165\n",
      "Train Epoch: 6 [3840/4000 (96%)]\tLoss: 69.506134\n",
      "====> Epoch: 6 Average loss: 70.3692\n",
      "====> Test set loss: 75.9245\n",
      "Train Epoch: 7 [0/4000 (0%)]\tLoss: 69.161613\n",
      "Train Epoch: 7 [1280/4000 (32%)]\tLoss: 69.362076\n",
      "Train Epoch: 7 [2560/4000 (64%)]\tLoss: 68.417519\n",
      "Train Epoch: 7 [3840/4000 (96%)]\tLoss: 68.562515\n",
      "====> Epoch: 7 Average loss: 69.0544\n",
      "====> Test set loss: 76.1194\n",
      "Train Epoch: 8 [0/4000 (0%)]\tLoss: 68.841576\n",
      "Train Epoch: 8 [1280/4000 (32%)]\tLoss: 68.105606\n",
      "Train Epoch: 8 [2560/4000 (64%)]\tLoss: 68.260986\n",
      "Train Epoch: 8 [3840/4000 (96%)]\tLoss: 66.914909\n",
      "====> Epoch: 8 Average loss: 68.1871\n",
      "====> Test set loss: 76.8144\n",
      "Train Epoch: 9 [0/4000 (0%)]\tLoss: 66.900124\n",
      "Train Epoch: 9 [1280/4000 (32%)]\tLoss: 67.096031\n",
      "Train Epoch: 9 [2560/4000 (64%)]\tLoss: 67.723618\n",
      "Train Epoch: 9 [3840/4000 (96%)]\tLoss: 66.863815\n",
      "====> Epoch: 9 Average loss: 67.5841\n",
      "====> Test set loss: 76.5656\n",
      "Train Epoch: 10 [0/4000 (0%)]\tLoss: 67.381538\n",
      "Train Epoch: 10 [1280/4000 (32%)]\tLoss: 67.131310\n",
      "Train Epoch: 10 [2560/4000 (64%)]\tLoss: 66.572609\n",
      "Train Epoch: 10 [3840/4000 (96%)]\tLoss: 67.496544\n",
      "====> Epoch: 10 Average loss: 67.1307\n",
      "====> Test set loss: 76.2214\n",
      "Train Epoch: 11 [0/4000 (0%)]\tLoss: 67.650871\n",
      "Train Epoch: 11 [1280/4000 (32%)]\tLoss: 66.728012\n",
      "Train Epoch: 11 [2560/4000 (64%)]\tLoss: 66.405167\n",
      "Train Epoch: 11 [3840/4000 (96%)]\tLoss: 66.475075\n",
      "====> Epoch: 11 Average loss: 66.8618\n",
      "====> Test set loss: 76.0897\n",
      "Train Epoch: 12 [0/4000 (0%)]\tLoss: 67.104019\n",
      "Train Epoch: 12 [1280/4000 (32%)]\tLoss: 66.547707\n",
      "Train Epoch: 12 [2560/4000 (64%)]\tLoss: 66.518517\n",
      "Train Epoch: 12 [3840/4000 (96%)]\tLoss: 65.798126\n",
      "====> Epoch: 12 Average loss: 66.5932\n",
      "====> Test set loss: 74.8316\n",
      "Train Epoch: 13 [0/4000 (0%)]\tLoss: 66.586899\n",
      "Train Epoch: 13 [1280/4000 (32%)]\tLoss: 66.887497\n",
      "Train Epoch: 13 [2560/4000 (64%)]\tLoss: 66.915337\n",
      "Train Epoch: 13 [3840/4000 (96%)]\tLoss: 65.954910\n",
      "====> Epoch: 13 Average loss: 66.3960\n",
      "====> Test set loss: 73.9316\n",
      "Train Epoch: 14 [0/4000 (0%)]\tLoss: 65.937576\n",
      "Train Epoch: 14 [1280/4000 (32%)]\tLoss: 66.952965\n",
      "Train Epoch: 14 [2560/4000 (64%)]\tLoss: 66.059532\n",
      "Train Epoch: 14 [3840/4000 (96%)]\tLoss: 66.444000\n",
      "====> Epoch: 14 Average loss: 66.2594\n",
      "====> Test set loss: 73.3609\n",
      "Train Epoch: 15 [0/4000 (0%)]\tLoss: 66.089500\n",
      "Train Epoch: 15 [1280/4000 (32%)]\tLoss: 65.768318\n",
      "Train Epoch: 15 [2560/4000 (64%)]\tLoss: 66.536316\n",
      "Train Epoch: 15 [3840/4000 (96%)]\tLoss: 65.965714\n",
      "====> Epoch: 15 Average loss: 66.1431\n",
      "====> Test set loss: 72.8876\n",
      "Train Epoch: 16 [0/4000 (0%)]\tLoss: 66.920532\n",
      "Train Epoch: 16 [1280/4000 (32%)]\tLoss: 65.669174\n",
      "Train Epoch: 16 [2560/4000 (64%)]\tLoss: 66.913315\n",
      "Train Epoch: 16 [3840/4000 (96%)]\tLoss: 65.229706\n",
      "====> Epoch: 16 Average loss: 66.0230\n",
      "====> Test set loss: 72.1950\n",
      "Train Epoch: 17 [0/4000 (0%)]\tLoss: 65.723160\n",
      "Train Epoch: 17 [1280/4000 (32%)]\tLoss: 66.050911\n",
      "Train Epoch: 17 [2560/4000 (64%)]\tLoss: 65.900696\n",
      "Train Epoch: 17 [3840/4000 (96%)]\tLoss: 66.078278\n",
      "====> Epoch: 17 Average loss: 65.9425\n",
      "====> Test set loss: 71.1764\n",
      "Train Epoch: 18 [0/4000 (0%)]\tLoss: 65.876816\n",
      "Train Epoch: 18 [1280/4000 (32%)]\tLoss: 65.711258\n",
      "Train Epoch: 18 [2560/4000 (64%)]\tLoss: 65.709244\n",
      "Train Epoch: 18 [3840/4000 (96%)]\tLoss: 65.711220\n",
      "====> Epoch: 18 Average loss: 65.8534\n",
      "====> Test set loss: 70.7656\n",
      "Train Epoch: 19 [0/4000 (0%)]\tLoss: 64.957802\n",
      "Train Epoch: 19 [1280/4000 (32%)]\tLoss: 66.265129\n",
      "Train Epoch: 19 [2560/4000 (64%)]\tLoss: 66.267715\n",
      "Train Epoch: 19 [3840/4000 (96%)]\tLoss: 66.445549\n",
      "====> Epoch: 19 Average loss: 65.8105\n",
      "====> Test set loss: 70.3744\n",
      "Train Epoch: 20 [0/4000 (0%)]\tLoss: 66.267609\n",
      "Train Epoch: 20 [1280/4000 (32%)]\tLoss: 65.636124\n",
      "Train Epoch: 20 [2560/4000 (64%)]\tLoss: 65.811623\n",
      "Train Epoch: 20 [3840/4000 (96%)]\tLoss: 65.308167\n",
      "====> Epoch: 20 Average loss: 65.7116\n",
      "====> Test set loss: 70.0376\n"
     ]
    }
   ],
   "source": [
    "for epoch in range(1, n_epochs + 1):\n",
    "    train_joint(train_data, joint_vanilla_vae, joint_vae_gumbel, joint_optimizer, epoch, batch_size)\n",
    "    test_joint(test_data, joint_vanilla_vae, joint_vae_gumbel, epoch, batch_size)"
   ]
  },
  {
   "cell_type": "code",
   "execution_count": 68,
   "metadata": {},
   "outputs": [
    {
     "name": "stdout",
     "output_type": "stream",
     "text": [
      "Test Loss\n",
      "tensor(0.5454, device='cuda:0')\n"
     ]
    }
   ],
   "source": [
    "with torch.no_grad():\n",
    "    print(\"Test Loss\")\n",
    "    print(F.binary_cross_entropy(joint_vae_gumbel(test_data)[0], test_data))"
   ]
  },
  {
   "cell_type": "markdown",
   "metadata": {},
   "source": [
    "Means"
   ]
  },
  {
   "cell_type": "code",
   "execution_count": 69,
   "metadata": {},
   "outputs": [
    {
     "data": {
      "text/plain": [
       "tensor([0.0978, 0.3031, 0.1394, 0.2099, 0.2063, 0.2098, 0.1076, 0.2316, 0.0298,\n",
       "        0.1968, 0.0261, 0.0561, 0.0848, 0.2727, 0.2320, 0.3355, 0.2739, 0.0056,\n",
       "        0.0301, 0.0953, 0.0889, 0.2483, 0.0063, 0.0231, 0.0009, 0.0924, 0.4782,\n",
       "        0.3251, 0.2092, 0.2881], device='cuda:0')"
      ]
     },
     "execution_count": 69,
     "metadata": {},
     "output_type": "execute_result"
    }
   ],
   "source": [
    "test_data.mean(dim = 0)[:D]"
   ]
  },
  {
   "cell_type": "code",
   "execution_count": 70,
   "metadata": {},
   "outputs": [
    {
     "data": {
      "text/plain": [
       "tensor([0.1080, 0.3095, 0.1499, 0.2192, 0.2195, 0.2185, 0.1156, 0.2413, 0.0600,\n",
       "        0.2146, 0.0606, 0.0694, 0.1076, 0.2810, 0.2337, 0.3362, 0.2855, 0.0416,\n",
       "        0.0580, 0.1115, 0.1001, 0.2579, 0.0355, 0.0471, 0.0343, 0.0980, 0.4774,\n",
       "        0.3319, 0.2198, 0.2976], device='cuda:0', grad_fn=<SliceBackward>)"
      ]
     },
     "execution_count": 70,
     "metadata": {},
     "output_type": "execute_result"
    }
   ],
   "source": [
    "joint_vae_gumbel(test_data)[0].mean(dim = 0)[:D]"
   ]
  },
  {
   "cell_type": "markdown",
   "metadata": {},
   "source": [
    "Deviations"
   ]
  },
  {
   "cell_type": "code",
   "execution_count": 71,
   "metadata": {},
   "outputs": [
    {
     "data": {
      "text/plain": [
       "tensor([0.1913, 0.2338, 0.2076, 0.2199, 0.2306, 0.1890, 0.1805, 0.1945, 0.1051,\n",
       "        0.2321, 0.0976, 0.1389, 0.1652, 0.1922, 0.2341, 0.2330, 0.2048, 0.0390,\n",
       "        0.0929, 0.1692, 0.1755, 0.2236, 0.0499, 0.0923, 0.0152, 0.1863, 0.1593,\n",
       "        0.2244, 0.2096, 0.2350], device='cuda:0')"
      ]
     },
     "execution_count": 71,
     "metadata": {},
     "output_type": "execute_result"
    }
   ],
   "source": [
    "test_data.std(dim = 0)[:D]"
   ]
  },
  {
   "cell_type": "code",
   "execution_count": 72,
   "metadata": {},
   "outputs": [
    {
     "data": {
      "text/plain": [
       "tensor([0.0488, 0.0359, 0.0530, 0.0466, 0.0421, 0.0457, 0.0490, 0.0465, 0.0417,\n",
       "        0.0520, 0.0442, 0.0401, 0.0541, 0.0396, 0.0469, 0.0393, 0.0390, 0.0336,\n",
       "        0.0387, 0.0432, 0.0507, 0.0386, 0.0343, 0.0347, 0.0326, 0.0458, 0.0243,\n",
       "        0.0362, 0.0481, 0.0422], device='cuda:0', grad_fn=<SliceBackward>)"
      ]
     },
     "execution_count": 72,
     "metadata": {},
     "output_type": "execute_result"
    }
   ],
   "source": [
    "joint_vae_gumbel(test_data)[0].std(dim = 0)[:D]"
   ]
  },
  {
   "cell_type": "markdown",
   "metadata": {},
   "source": [
    "Values"
   ]
  },
  {
   "cell_type": "code",
   "execution_count": 73,
   "metadata": {},
   "outputs": [
    {
     "data": {
      "text/plain": [
       "tensor([0.0000, 0.5286, 0.0000, 0.0231, 0.6963, 0.3966, 0.0103, 0.2939, 0.0000,\n",
       "        0.3152, 0.0000, 0.0000, 0.0000, 0.0617, 0.4150, 0.6262, 0.2110, 0.0000,\n",
       "        0.0000, 0.0000, 0.0000, 0.6829, 0.0000, 0.0000, 0.0000, 0.0000, 0.3516,\n",
       "        0.0000, 0.6491, 0.4560], device='cuda:0')"
      ]
     },
     "execution_count": 73,
     "metadata": {},
     "output_type": "execute_result"
    }
   ],
   "source": [
    "test_data[samp,:D]"
   ]
  },
  {
   "cell_type": "code",
   "execution_count": 74,
   "metadata": {},
   "outputs": [
    {
     "data": {
      "text/plain": [
       "tensor([0.0940, 0.3125, 0.1479, 0.2326, 0.2295, 0.2024, 0.0806, 0.2793, 0.0788,\n",
       "        0.2053, 0.0612, 0.0664, 0.0838, 0.2944, 0.2076, 0.3659, 0.2146, 0.0408,\n",
       "        0.0572, 0.0857, 0.1275, 0.2184, 0.0294, 0.0566, 0.0222, 0.0799, 0.4787,\n",
       "        0.3291, 0.2355, 0.2589], device='cuda:0', grad_fn=<SliceBackward>)"
      ]
     },
     "execution_count": 74,
     "metadata": {},
     "output_type": "execute_result"
    }
   ],
   "source": [
    "joint_vae_gumbel(test_data)[0][samp, :D]"
   ]
  },
  {
   "cell_type": "code",
   "execution_count": 75,
   "metadata": {},
   "outputs": [],
   "source": [
    "with torch.no_grad():\n",
    "    w = joint_vae_gumbel.weight_creator(test_data[0:10, :])\n",
    "    subset_indices = sample_subset(w, k=z_size, t=0.1).cpu()"
   ]
  },
  {
   "cell_type": "code",
   "execution_count": 76,
   "metadata": {},
   "outputs": [
    {
     "data": {
      "text/plain": [
       "tensor([[36, 14, 37, 55, 25],\n",
       "        [15, 26,  2, 54, 55],\n",
       "        [46, 37, 44, 13, 15],\n",
       "        [23, 11, 40, 34, 31],\n",
       "        [53,  6, 49, 21, 20],\n",
       "        [38,  8, 29, 48, 28],\n",
       "        [17, 38, 31,  6, 25],\n",
       "        [ 4, 59, 50, 39, 37],\n",
       "        [ 4, 58, 29, 30, 32],\n",
       "        [17, 16,  4,  9,  7]])"
      ]
     },
     "execution_count": 76,
     "metadata": {},
     "output_type": "execute_result"
    }
   ],
   "source": [
    "torch.argsort(subset_indices, dim = 1, descending = True)[:, :z_size]"
   ]
  },
  {
   "cell_type": "markdown",
   "metadata": {},
   "source": [
    "Matching pre trained is actually better here than joint training.\n",
    "The gumbel trick greatly reduces the ability to make predictions. \n",
    "Notice that the standard deviations are not as high as in the original data. Not being able to use a model looking at the full data as an anchor definitely hurts."
   ]
  },
  {
   "cell_type": "code",
   "execution_count": null,
   "metadata": {},
   "outputs": [],
   "source": []
  },
  {
   "cell_type": "markdown",
   "metadata": {},
   "source": [
    "# Calculation of Loss only over select features\n",
    "What happens if we limit the calculation of the loss to just the first few non-noisy stuff?\n",
    "\n",
    "Not doing joint training here because the calculation of loss is hidden inside utils and cannot modify the indexing so easily."
   ]
  },
  {
   "cell_type": "code",
   "execution_count": 77,
   "metadata": {},
   "outputs": [],
   "source": [
    "def train_truncated_with_gradients(df, model, optimizer, epoch, batch_size, Dim):\n",
    "    model.train()\n",
    "    train_loss = 0\n",
    "    permutations = torch.randperm(df.shape[0])\n",
    "    gradients = torch.zeros(df.shape[1]).to(device)\n",
    "    for i in range(math.ceil(len(df)/batch_size)):\n",
    "        batch_ind = permutations[i * batch_size : (i+1) * batch_size]\n",
    "        batch_data = df[batch_ind, :].clone().to(device)\n",
    "        \n",
    "        \n",
    "        # need to do this twice because deriative with respect to input not implemented in BCE\n",
    "        # so need to switch them up\n",
    "        optimizer.zero_grad()\n",
    "        batch_data.requires_grad_(True)\n",
    "        mu_x, mu_latent, logvar_latent = model(batch_data)\n",
    "        # why clone detach here?\n",
    "        # still want gradient with respect to input, but BCE gradient with respect to target is not defined\n",
    "        # plus we only want to see how input affects mu_x, not the target\n",
    "        loss = loss_function_per_autoencoder(batch_data[:, :Dim].clone().detach(), mu_x[:, :Dim], \n",
    "                                             mu_latent, logvar_latent) \n",
    "        loss.backward(retain_graph=True)\n",
    "\n",
    "        with torch.no_grad():\n",
    "            gradients += torch.sqrt(batch_data.grad ** 2).sum(dim = 0)\n",
    "        # no step\n",
    "        \n",
    "        optimizer.zero_grad()\n",
    "        # do not calculate with respect to \n",
    "        batch_data.requires_grad_(False)\n",
    "        mu_x.requires_grad_(True)\n",
    "        loss = loss_function_per_autoencoder(batch_data[:, :Dim], mu_x[:, :Dim], mu_latent, logvar_latent) \n",
    "        loss.backward()\n",
    "        train_loss += loss.item()\n",
    "        optimizer.step()\n",
    "        \n",
    "        \n",
    "        \n",
    "        if i % log_interval == 0:\n",
    "            print('Train Epoch: {} [{}/{} ({:.0f}%)]\\tLoss: {:.6f}'.format(\n",
    "                epoch, i * len(batch_data), len(df),\n",
    "                100. * i * len(batch_data)/ len(df),\n",
    "                loss.item() / len(batch_data)))\n",
    "\n",
    "    print('====> Epoch: {} Average loss: {:.4f}'.format(\n",
    "          epoch, train_loss / len(df)))\n",
    "    \n",
    "    return gradients\n",
    "    \n",
    "# match pre trained model\n",
    "def train_pre_trained_truncated(df, model, optimizer, epoch, pretrained_model, batch_size, D):\n",
    "    model.train()\n",
    "    train_loss = 0\n",
    "    permutations = torch.randperm(df.shape[0])\n",
    "    for i in range(math.ceil(len(df)/batch_size)):\n",
    "        batch_ind = permutations[i * batch_size : (i+1) * batch_size]\n",
    "        batch_data = df[batch_ind, :].clone()\n",
    "        \n",
    "        batch_data.requires_grad_(True)\n",
    "        \n",
    "        optimizer.zero_grad()\n",
    "        mu_x, mu_latent, logvar_latent = model(batch_data)\n",
    "        with torch.no_grad():\n",
    "            _, mu_latent_2, logvar_latent_2 = pretrained_model(batch_data)\n",
    "        \n",
    "        loss = loss_function_per_autoencoder(batch_data[:, :D], mu_x[:, :D], mu_latent, logvar_latent)\n",
    "        loss += 10*F.mse_loss(mu_latent, mu_latent_2, reduction = 'sum')\n",
    "        loss.backward()\n",
    "        train_loss += loss.item()\n",
    "        optimizer.step()\n",
    "        \n",
    "        if i % log_interval == 0:\n",
    "            print('Train Epoch: {} [{}/{} ({:.0f}%)]\\tLoss: {:.6f}'.format(\n",
    "                epoch, i * len(batch_data), len(df),\n",
    "                100. * i * len(batch_data)/ len(df),\n",
    "                loss.item() / len(batch_data)))\n",
    "\n",
    "    print('====> Epoch: {} Average loss: {:.4f}'.format(\n",
    "          epoch, train_loss / len(df)))"
   ]
  },
  {
   "cell_type": "code",
   "execution_count": 78,
   "metadata": {},
   "outputs": [],
   "source": [
    "global_t = 0.1"
   ]
  },
  {
   "cell_type": "code",
   "execution_count": 79,
   "metadata": {},
   "outputs": [],
   "source": [
    "# let's see how it does here\n",
    "vae_gumbel_truncated = VAE_Gumbel(2*D, 100, 20, k = 3*z_size, t = global_t)\n",
    "vae_gumbel_truncated.to(device)\n",
    "vae_gumbel_trunc_optimizer = torch.optim.Adam(vae_gumbel_truncated.parameters(), \n",
    "                                                lr=lr, \n",
    "                                                betas = (b1,b2))"
   ]
  },
  {
   "cell_type": "markdown",
   "metadata": {},
   "source": [
    "Just train a gumbel without matching or joint training to see"
   ]
  },
  {
   "cell_type": "code",
   "execution_count": 80,
   "metadata": {},
   "outputs": [
    {
     "name": "stdout",
     "output_type": "stream",
     "text": [
      "Train Epoch: 1 [0/4000 (0%)]\tLoss: 21.093872\n",
      "Train Epoch: 1 [1280/4000 (32%)]\tLoss: 20.668814\n",
      "Train Epoch: 1 [2560/4000 (64%)]\tLoss: 20.204716\n",
      "Train Epoch: 1 [3840/4000 (96%)]\tLoss: 19.703491\n",
      "====> Epoch: 1 Average loss: 20.3773\n",
      "====> Test set loss: 40.6477\n",
      "Train Epoch: 2 [0/4000 (0%)]\tLoss: 19.545073\n",
      "Train Epoch: 2 [1280/4000 (32%)]\tLoss: 18.960094\n",
      "Train Epoch: 2 [2560/4000 (64%)]\tLoss: 18.473204\n",
      "Train Epoch: 2 [3840/4000 (96%)]\tLoss: 17.832443\n",
      "====> Epoch: 2 Average loss: 18.8130\n",
      "====> Test set loss: 39.1452\n",
      "Train Epoch: 3 [0/4000 (0%)]\tLoss: 18.011776\n",
      "Train Epoch: 3 [1280/4000 (32%)]\tLoss: 17.209455\n",
      "Train Epoch: 3 [2560/4000 (64%)]\tLoss: 16.648760\n",
      "Train Epoch: 3 [3840/4000 (96%)]\tLoss: 16.204090\n",
      "====> Epoch: 3 Average loss: 17.0178\n",
      "====> Test set loss: 37.2402\n",
      "Train Epoch: 4 [0/4000 (0%)]\tLoss: 15.912292\n",
      "Train Epoch: 4 [1280/4000 (32%)]\tLoss: 15.318943\n",
      "Train Epoch: 4 [2560/4000 (64%)]\tLoss: 14.522866\n",
      "Train Epoch: 4 [3840/4000 (96%)]\tLoss: 14.258093\n",
      "====> Epoch: 4 Average loss: 14.8767\n",
      "====> Test set loss: 35.7664\n",
      "Train Epoch: 5 [0/4000 (0%)]\tLoss: 13.513481\n",
      "Train Epoch: 5 [1280/4000 (32%)]\tLoss: 13.976177\n",
      "Train Epoch: 5 [2560/4000 (64%)]\tLoss: 13.978162\n",
      "Train Epoch: 5 [3840/4000 (96%)]\tLoss: 13.444559\n",
      "====> Epoch: 5 Average loss: 13.6680\n",
      "====> Test set loss: 35.1733\n",
      "Train Epoch: 6 [0/4000 (0%)]\tLoss: 13.590062\n",
      "Train Epoch: 6 [1280/4000 (32%)]\tLoss: 13.026291\n",
      "Train Epoch: 6 [2560/4000 (64%)]\tLoss: 13.427503\n",
      "Train Epoch: 6 [3840/4000 (96%)]\tLoss: 12.770412\n",
      "====> Epoch: 6 Average loss: 13.1988\n",
      "====> Test set loss: 34.8731\n",
      "Train Epoch: 7 [0/4000 (0%)]\tLoss: 12.905790\n",
      "Train Epoch: 7 [1280/4000 (32%)]\tLoss: 12.861897\n",
      "Train Epoch: 7 [2560/4000 (64%)]\tLoss: 12.597086\n",
      "Train Epoch: 7 [3840/4000 (96%)]\tLoss: 12.903750\n",
      "====> Epoch: 7 Average loss: 12.9479\n",
      "====> Test set loss: 34.6820\n",
      "Train Epoch: 8 [0/4000 (0%)]\tLoss: 12.455153\n",
      "Train Epoch: 8 [1280/4000 (32%)]\tLoss: 12.988231\n",
      "Train Epoch: 8 [2560/4000 (64%)]\tLoss: 12.636710\n",
      "Train Epoch: 8 [3840/4000 (96%)]\tLoss: 13.061937\n",
      "====> Epoch: 8 Average loss: 12.7696\n",
      "====> Test set loss: 34.5523\n",
      "Train Epoch: 9 [0/4000 (0%)]\tLoss: 12.620515\n",
      "Train Epoch: 9 [1280/4000 (32%)]\tLoss: 12.653770\n",
      "Train Epoch: 9 [2560/4000 (64%)]\tLoss: 12.442379\n",
      "Train Epoch: 9 [3840/4000 (96%)]\tLoss: 12.367250\n",
      "====> Epoch: 9 Average loss: 12.6719\n",
      "====> Test set loss: 34.4880\n",
      "Train Epoch: 10 [0/4000 (0%)]\tLoss: 12.662868\n",
      "Train Epoch: 10 [1280/4000 (32%)]\tLoss: 12.417583\n",
      "Train Epoch: 10 [2560/4000 (64%)]\tLoss: 12.539018\n",
      "Train Epoch: 10 [3840/4000 (96%)]\tLoss: 12.533263\n",
      "====> Epoch: 10 Average loss: 12.5973\n",
      "====> Test set loss: 34.3257\n",
      "Train Epoch: 11 [0/4000 (0%)]\tLoss: 12.492640\n",
      "Train Epoch: 11 [1280/4000 (32%)]\tLoss: 12.507536\n",
      "Train Epoch: 11 [2560/4000 (64%)]\tLoss: 12.489998\n",
      "Train Epoch: 11 [3840/4000 (96%)]\tLoss: 11.996500\n",
      "====> Epoch: 11 Average loss: 12.5262\n",
      "====> Test set loss: 34.2662\n",
      "Train Epoch: 12 [0/4000 (0%)]\tLoss: 12.663660\n",
      "Train Epoch: 12 [1280/4000 (32%)]\tLoss: 12.617934\n",
      "Train Epoch: 12 [2560/4000 (64%)]\tLoss: 12.260232\n",
      "Train Epoch: 12 [3840/4000 (96%)]\tLoss: 12.184900\n",
      "====> Epoch: 12 Average loss: 12.4886\n",
      "====> Test set loss: 34.2097\n",
      "Train Epoch: 13 [0/4000 (0%)]\tLoss: 12.489765\n",
      "Train Epoch: 13 [1280/4000 (32%)]\tLoss: 12.567298\n",
      "Train Epoch: 13 [2560/4000 (64%)]\tLoss: 12.844160\n",
      "Train Epoch: 13 [3840/4000 (96%)]\tLoss: 12.283421\n",
      "====> Epoch: 13 Average loss: 12.4296\n",
      "====> Test set loss: 34.1992\n",
      "Train Epoch: 14 [0/4000 (0%)]\tLoss: 12.040438\n",
      "Train Epoch: 14 [1280/4000 (32%)]\tLoss: 12.598981\n",
      "Train Epoch: 14 [2560/4000 (64%)]\tLoss: 12.309459\n",
      "Train Epoch: 14 [3840/4000 (96%)]\tLoss: 12.302941\n",
      "====> Epoch: 14 Average loss: 12.3907\n",
      "====> Test set loss: 34.1809\n",
      "Train Epoch: 15 [0/4000 (0%)]\tLoss: 12.228034\n",
      "Train Epoch: 15 [1280/4000 (32%)]\tLoss: 12.403411\n",
      "Train Epoch: 15 [2560/4000 (64%)]\tLoss: 12.494342\n",
      "Train Epoch: 15 [3840/4000 (96%)]\tLoss: 12.241016\n",
      "====> Epoch: 15 Average loss: 12.3638\n",
      "====> Test set loss: 34.1174\n",
      "Train Epoch: 16 [0/4000 (0%)]\tLoss: 12.443842\n",
      "Train Epoch: 16 [1280/4000 (32%)]\tLoss: 12.336994\n",
      "Train Epoch: 16 [2560/4000 (64%)]\tLoss: 12.058770\n",
      "Train Epoch: 16 [3840/4000 (96%)]\tLoss: 12.437241\n",
      "====> Epoch: 16 Average loss: 12.3396\n",
      "====> Test set loss: 34.0913\n",
      "Train Epoch: 17 [0/4000 (0%)]\tLoss: 12.213386\n",
      "Train Epoch: 17 [1280/4000 (32%)]\tLoss: 12.206146\n",
      "Train Epoch: 17 [2560/4000 (64%)]\tLoss: 12.400524\n",
      "Train Epoch: 17 [3840/4000 (96%)]\tLoss: 12.649755\n",
      "====> Epoch: 17 Average loss: 12.2992\n",
      "====> Test set loss: 34.0207\n",
      "Train Epoch: 18 [0/4000 (0%)]\tLoss: 12.705919\n",
      "Train Epoch: 18 [1280/4000 (32%)]\tLoss: 12.730947\n",
      "Train Epoch: 18 [2560/4000 (64%)]\tLoss: 12.317395\n",
      "Train Epoch: 18 [3840/4000 (96%)]\tLoss: 12.544685\n",
      "====> Epoch: 18 Average loss: 12.2620\n",
      "====> Test set loss: 33.9921\n",
      "Train Epoch: 19 [0/4000 (0%)]\tLoss: 12.375976\n",
      "Train Epoch: 19 [1280/4000 (32%)]\tLoss: 12.491112\n",
      "Train Epoch: 19 [2560/4000 (64%)]\tLoss: 12.540988\n",
      "Train Epoch: 19 [3840/4000 (96%)]\tLoss: 12.273898\n",
      "====> Epoch: 19 Average loss: 12.2689\n",
      "====> Test set loss: 33.9918\n",
      "Train Epoch: 20 [0/4000 (0%)]\tLoss: 12.389448\n",
      "Train Epoch: 20 [1280/4000 (32%)]\tLoss: 12.353893\n",
      "Train Epoch: 20 [2560/4000 (64%)]\tLoss: 12.198627\n",
      "Train Epoch: 20 [3840/4000 (96%)]\tLoss: 12.307508\n",
      "====> Epoch: 20 Average loss: 12.2464\n",
      "====> Test set loss: 33.9931\n"
     ]
    }
   ],
   "source": [
    "gradients = torch.zeros(train_data.shape[1]).to(device)\n",
    "for epoch in range(1, n_epochs+1):\n",
    "    grads=train_truncated_with_gradients(train_data, vae_gumbel_truncated, \n",
    "                                         vae_gumbel_trunc_optimizer, epoch, batch_size, Dim = D)\n",
    "    if epoch > 5:\n",
    "        gradients += grads\n",
    "    test(test_data, vae_gumbel_truncated, epoch, batch_size)\n",
    "    \n",
    "gradients = gradients"
   ]
  },
  {
   "cell_type": "code",
   "execution_count": 81,
   "metadata": {},
   "outputs": [
    {
     "data": {
      "text/plain": [
       "<matplotlib.axes._subplots.AxesSubplot at 0x7fe76423e290>"
      ]
     },
     "execution_count": 81,
     "metadata": {},
     "output_type": "execute_result"
    },
    {
     "data": {
      "image/png": "[encoded data removed]",
      "text/plain": [
       "<Figure size 432x288 with 2 Axes>"
      ]
     },
     "metadata": {
      "needs_background": "light"
     },
     "output_type": "display_data"
    }
   ],
   "source": [
    "sns.heatmap(gradients.clone().detach().cpu().numpy()[:, np.newaxis])"
   ]
  },
  {
   "cell_type": "code",
   "execution_count": 82,
   "metadata": {},
   "outputs": [
    {
     "data": {
      "text/plain": [
       "tensor([0.0978, 0.3031, 0.1394, 0.2099, 0.2063, 0.2098, 0.1076, 0.2316, 0.0298,\n",
       "        0.1968, 0.0261, 0.0561, 0.0848, 0.2727, 0.2320, 0.3355, 0.2739, 0.0056,\n",
       "        0.0301, 0.0953, 0.0889, 0.2483, 0.0063, 0.0231, 0.0009, 0.0924, 0.4782,\n",
       "        0.3251, 0.2092, 0.2881], device='cuda:0')"
      ]
     },
     "execution_count": 82,
     "metadata": {},
     "output_type": "execute_result"
    }
   ],
   "source": [
    "test_data.mean(dim = 0)[:D]"
   ]
  },
  {
   "cell_type": "code",
   "execution_count": 83,
   "metadata": {},
   "outputs": [
    {
     "data": {
      "text/plain": [
       "tensor([0.1148, 0.3103, 0.1607, 0.2130, 0.2203, 0.2164, 0.1107, 0.2323, 0.0488,\n",
       "        0.2214, 0.0400, 0.0656, 0.1128, 0.2947, 0.2303, 0.3229, 0.2823, 0.0309,\n",
       "        0.0529, 0.1148, 0.0933, 0.2548, 0.0326, 0.0445, 0.0233, 0.0937, 0.4761,\n",
       "        0.3437, 0.2285, 0.3099], device='cuda:0', grad_fn=<SliceBackward>)"
      ]
     },
     "execution_count": 83,
     "metadata": {},
     "output_type": "execute_result"
    }
   ],
   "source": [
    "vae_gumbel_truncated(test_data)[0].mean(dim = 0)[:D]"
   ]
  },
  {
   "cell_type": "code",
   "execution_count": 84,
   "metadata": {},
   "outputs": [
    {
     "data": {
      "text/plain": [
       "tensor([0.1913, 0.2338, 0.2076, 0.2199, 0.2306, 0.1890, 0.1805, 0.1945, 0.1051,\n",
       "        0.2321, 0.0976, 0.1389, 0.1652, 0.1922, 0.2341, 0.2330, 0.2048, 0.0390,\n",
       "        0.0929, 0.1692, 0.1755, 0.2236, 0.0499, 0.0923, 0.0152, 0.1863, 0.1593,\n",
       "        0.2244, 0.2096, 0.2350], device='cuda:0')"
      ]
     },
     "execution_count": 84,
     "metadata": {},
     "output_type": "execute_result"
    }
   ],
   "source": [
    "test_data.std(dim = 0)[:D]"
   ]
  },
  {
   "cell_type": "code",
   "execution_count": 85,
   "metadata": {},
   "outputs": [
    {
     "data": {
      "text/plain": [
       "tensor([0.0556, 0.0347, 0.0505, 0.0569, 0.0638, 0.0486, 0.0499, 0.0591, 0.0438,\n",
       "        0.0514, 0.0384, 0.0493, 0.0548, 0.0377, 0.0710, 0.0368, 0.0384, 0.0319,\n",
       "        0.0425, 0.0477, 0.0551, 0.0525, 0.0342, 0.0383, 0.0272, 0.0547, 0.0251,\n",
       "        0.0359, 0.0535, 0.0358], device='cuda:0', grad_fn=<SliceBackward>)"
      ]
     },
     "execution_count": 85,
     "metadata": {},
     "output_type": "execute_result"
    }
   ],
   "source": [
    "vae_gumbel_truncated(test_data)[0].std(dim = 0)[:D]"
   ]
  },
  {
   "cell_type": "code",
   "execution_count": 86,
   "metadata": {},
   "outputs": [],
   "source": [
    "with torch.no_grad():\n",
    "    w = vae_gumbel_truncated.weight_creator(test_data[0:10, :])\n",
    "    subset_indices = sample_subset(w, k=3*z_size, t=global_t).cpu()"
   ]
  },
  {
   "cell_type": "code",
   "execution_count": 87,
   "metadata": {},
   "outputs": [
    {
     "data": {
      "text/plain": [
       "<matplotlib.axes._subplots.AxesSubplot at 0x7fe76417aa50>"
      ]
     },
     "execution_count": 87,
     "metadata": {},
     "output_type": "execute_result"
    },
    {
     "data": {
      "image/png": "[encoded data removed]",
      "text/plain": [
       "<Figure size 432x288 with 2 Axes>"
      ]
     },
     "metadata": {
      "needs_background": "light"
     },
     "output_type": "display_data"
    }
   ],
   "source": [
    "sns.heatmap(subset_indices.sum(dim = 0).clone().detach().cpu().numpy()[:, np.newaxis])"
   ]
  },
  {
   "cell_type": "code",
   "execution_count": 88,
   "metadata": {},
   "outputs": [
    {
     "data": {
      "text/plain": [
       "tensor([[7.8803e-09, 1.4471e-04, 5.5669e-03, 6.0727e-01, 4.1324e-12, 7.9017e-11,\n",
       "         2.1042e-10, 2.8982e-07, 5.7122e-11, 6.2353e-12, 8.7536e-06, 1.2823e-11,\n",
       "         3.1752e-02, 8.8964e-03, 1.2161e-08, 3.3722e-10, 8.6845e-05, 3.6338e-05,\n",
       "         1.5179e-05, 5.8932e-02, 4.9361e-03, 2.2064e-09, 2.8243e-16, 7.3968e-08,\n",
       "         2.0032e-09, 1.0720e-07, 2.3200e-08, 1.5558e+00, 3.9544e-02, 1.1767e+00,\n",
       "         2.7878e-02, 1.1934e+00, 3.5791e-03, 1.3557e+00, 1.0642e+00, 9.5752e-01,\n",
       "         1.1614e+00, 1.2978e-03, 1.0829e+00, 5.3039e-02, 3.0662e-01, 6.2086e-01,\n",
       "         6.0323e-09, 1.9525e-03, 2.4324e-25, 5.1195e-01, 5.8341e-06, 9.7766e-01,\n",
       "         1.7341e-07, 5.5809e-13, 1.3543e-10, 1.6737e+00, 1.6442e-14, 1.6899e-05,\n",
       "         1.1059e-09, 2.0334e-01, 1.2238e-01, 2.3391e-04, 1.9057e-01, 3.1766e-06],\n",
       "        [2.5827e-04, 1.8095e-06, 1.4449e-10, 1.6598e-09, 1.3464e-22, 5.2488e-13,\n",
       "         2.0511e-05, 6.1863e-14, 2.8131e-11, 5.5801e-07, 3.2731e-09, 7.6450e-13,\n",
       "         1.3932e-21, 9.9730e-01, 9.9782e-09, 3.5134e-01, 2.4753e-06, 3.9091e-07,\n",
       "         5.2938e-04, 6.5182e-27, 2.8585e-14, 1.8811e-04, 1.0694e-08, 2.3071e-13,\n",
       "         2.6172e-06, 1.0108e-15, 7.1548e-02, 7.0653e-01, 1.0190e-06, 1.4724e+00,\n",
       "         1.2625e-13, 3.7025e-01, 8.4269e-01, 4.0852e-01, 1.0087e+00, 1.4050e+00,\n",
       "         5.2639e-01, 9.3101e-05, 1.6639e+00, 1.6410e-04, 5.7916e-01, 1.0455e-06,\n",
       "         9.2076e-08, 4.8124e-12, 1.3526e+00, 2.0402e-06, 1.1172e-13, 1.8045e+00,\n",
       "         1.5382e-10, 2.8147e-07, 7.4384e-09, 8.6323e-01, 4.4462e-26, 3.1312e-09,\n",
       "         2.4104e-20, 2.7503e-01, 4.3214e-08, 1.2428e-13, 2.9964e-01, 9.4145e-09],\n",
       "        [7.5076e-13, 3.4852e-08, 4.2651e-10, 1.7310e-07, 3.2619e-10, 4.0973e-04,\n",
       "         8.5583e-06, 1.2969e-10, 1.0740e-06, 2.2085e-15, 2.9688e-15, 2.3249e-23,\n",
       "         6.1272e-08, 1.5779e+00, 3.1847e-09, 1.9003e-09, 2.1294e-03, 9.5075e-08,\n",
       "         2.2150e-05, 4.6736e-09, 3.8811e-27, 1.0640e-08, 1.9790e-15, 3.6270e-06,\n",
       "         5.5501e-04, 8.2472e-11, 2.4540e-03, 1.5291e+00, 9.6084e-06, 1.0000e+00,\n",
       "         4.9335e-01, 1.3857e-13, 2.5332e-16, 1.6051e+00, 7.0315e-01, 9.4469e-03,\n",
       "         1.0878e+00, 1.3143e-01, 1.4242e+00, 3.9325e-01, 3.0605e-01, 6.1674e-01,\n",
       "         4.9761e-08, 7.3998e-03, 1.0995e+00, 4.9887e-02, 1.3177e-14, 1.0320e+00,\n",
       "         6.3303e-02, 1.6010e-05, 4.4290e-06, 7.6845e-01, 6.7121e-15, 6.8632e-15,\n",
       "         9.1001e-01, 1.6066e-02, 1.3825e-05, 1.4179e-03, 1.6008e-01, 8.6508e-03],\n",
       "        [2.8379e-11, 9.2607e-08, 3.2263e-21, 9.0789e-08, 9.1474e-06, 9.1071e-06,\n",
       "         1.9303e-25, 3.4214e-07, 1.6232e-10, 1.7857e-07, 9.9071e-19, 6.9353e-04,\n",
       "         5.7387e-05, 1.8925e-01, 1.4586e-11, 1.2467e-13, 9.5963e-14, 8.2191e-10,\n",
       "         2.3820e-06, 4.5831e-04, 2.8008e-08, 3.8421e-01, 1.0508e-06, 1.5516e-08,\n",
       "         1.0492e-04, 5.5905e-10, 4.6554e-01, 7.0581e-01, 5.8389e-15, 5.5948e-01,\n",
       "         1.3628e-06, 7.6274e-01, 7.2504e-09, 1.9330e+00, 3.0815e-06, 1.8194e+00,\n",
       "         1.5083e-06, 1.3965e+00, 1.6508e+00, 2.0143e-27, 9.9199e-01, 9.2538e-03,\n",
       "         7.1834e-20, 2.6015e-13, 1.9527e+00, 3.4592e-06, 2.1885e-23, 1.9569e+00,\n",
       "         3.1993e-05, 3.1114e-05, 1.2287e-04, 4.9142e-09, 8.4527e-13, 2.3786e-07,\n",
       "         3.7466e-08, 1.2048e-04, 6.9552e-11, 1.0212e-09, 2.2082e-01, 6.3424e-19],\n",
       "        [6.1006e-09, 3.9790e-09, 1.1153e-12, 5.6017e-22, 4.4783e-21, 1.2284e-07,\n",
       "         1.5524e-14, 5.3348e-05, 1.4927e-08, 4.3151e-14, 1.1801e-08, 8.5475e-11,\n",
       "         4.2892e-07, 1.5839e+00, 1.5518e-13, 4.1415e-14, 2.0755e-12, 3.0525e-08,\n",
       "         5.8996e-11, 8.1946e-10, 5.8438e-09, 5.9066e-14, 5.1053e-11, 1.1438e-09,\n",
       "         2.9766e-07, 2.3811e-04, 2.8913e-01, 2.1738e+00, 1.5424e-11, 6.5107e-01,\n",
       "         1.2209e-01, 1.7981e-02, 2.8051e-01, 1.7743e+00, 2.1123e-01, 9.1023e-01,\n",
       "         1.2627e-12, 8.0388e-01, 2.1115e+00, 6.5842e-06, 7.8077e-01, 3.3832e-01,\n",
       "         6.4900e-19, 3.4475e-13, 4.2619e-01, 1.4840e-07, 5.5414e-04, 9.0251e-01,\n",
       "         3.4252e-20, 3.7541e-05, 8.0601e-07, 6.8303e-05, 1.4225e-18, 4.5683e-05,\n",
       "         5.5544e-08, 4.7403e-04, 4.0232e-08, 1.3044e-13, 1.6211e+00, 1.1780e-13],\n",
       "        [7.5988e-14, 1.0758e-13, 9.9151e-11, 8.6580e-14, 5.4830e-07, 1.6820e-10,\n",
       "         1.9260e-08, 9.0773e-11, 9.2741e-06, 7.3174e-08, 2.0443e-03, 1.5912e-08,\n",
       "         8.5389e-20, 7.2897e-01, 2.1920e-02, 1.0227e-01, 1.4272e-05, 8.4168e-19,\n",
       "         3.7844e-10, 1.0954e-11, 3.2811e-13, 3.6469e-09, 7.4475e-25, 2.7801e-05,\n",
       "         6.6463e-15, 2.3164e-12, 6.2384e-01, 1.3000e+00, 9.2069e-28, 1.2673e+00,\n",
       "         8.6278e-01, 4.6753e-01, 6.4410e-01, 1.0580e-03, 4.3556e-03, 1.1261e+00,\n",
       "         2.4687e-06, 9.0936e-01, 6.0903e-01, 1.1794e+00, 6.2150e-01, 3.2781e-02,\n",
       "         3.3366e-08, 4.0862e-11, 9.6238e-01, 1.0218e-07, 6.9615e-21, 1.0385e+00,\n",
       "         1.0584e-09, 2.7012e-18, 1.9148e-04, 9.1952e-01, 3.4476e-05, 1.3159e-08,\n",
       "         6.5712e-06, 3.2436e-02, 1.1982e-04, 1.7679e-03, 1.5406e+00, 3.2452e-07],\n",
       "        [9.5078e-17, 4.5179e-15, 1.4524e-04, 3.0030e-06, 3.7068e-01, 4.8954e-01,\n",
       "         2.5124e-04, 2.0728e-05, 1.2265e-01, 4.3660e-02, 1.1894e-16, 1.9450e-03,\n",
       "         6.9322e-02, 1.5892e+00, 7.0130e-10, 3.4478e-06, 6.8016e-19, 6.8678e-10,\n",
       "         1.1364e-01, 3.1313e-03, 6.5782e-12, 2.2023e-01, 1.4079e-08, 1.3112e-14,\n",
       "         5.2225e-10, 7.4594e-07, 1.6521e+00, 1.3468e+00, 1.8328e-02, 7.6180e-01,\n",
       "         7.9794e-04, 3.0763e-02, 1.4614e-04, 1.3652e+00, 1.9824e-07, 5.8209e-02,\n",
       "         5.1610e-01, 5.8083e-14, 1.5226e+00, 1.8837e-01, 4.9744e-01, 4.0629e-02,\n",
       "         1.0593e-09, 1.2197e-01, 3.2075e-02, 3.4463e-01, 6.2764e-05, 4.2014e-05,\n",
       "         3.8111e-06, 8.4931e-10, 2.7609e-04, 7.3488e-01, 1.0530e-01, 3.9202e-08,\n",
       "         1.8092e-10, 1.0457e+00, 1.1814e-09, 1.4541e-09, 1.5912e+00, 6.2332e-07],\n",
       "        [6.5916e-09, 3.1243e-05, 9.3991e-02, 1.1655e-03, 1.7154e-07, 4.5081e-11,\n",
       "         1.6768e-10, 2.8789e-16, 5.1329e-16, 1.1539e-03, 2.5478e-11, 6.0959e-04,\n",
       "         4.1298e-11, 1.4663e+00, 1.0235e-07, 1.3227e-09, 2.5913e-08, 2.0547e-13,\n",
       "         7.3880e-15, 1.8512e-13, 5.5184e-05, 4.5305e-15, 5.4987e-12, 8.6716e-10,\n",
       "         5.1485e-11, 2.0810e-12, 5.2801e-11, 1.7708e+00, 6.9849e-16, 1.6293e+00,\n",
       "         5.0721e-05, 1.5200e-17, 1.1657e+00, 1.4329e+00, 1.2377e+00, 1.6589e+00,\n",
       "         4.7790e-01, 1.2586e-10, 3.4489e-01, 2.5788e-03, 1.5523e-07, 3.0382e-01,\n",
       "         1.5302e-11, 1.1054e-15, 9.1421e-02, 1.6257e-07, 1.2069e-09, 1.4564e+00,\n",
       "         1.1197e-14, 1.2257e-09, 2.8003e-08, 1.6662e+00, 1.5254e-10, 1.5971e-11,\n",
       "         1.3119e-04, 1.9669e-01, 2.1291e-08, 1.1364e-24, 1.4351e-03, 8.1047e-16],\n",
       "        [1.4809e-18, 1.9276e-15, 1.0182e-10, 4.1385e-03, 1.9304e-09, 1.3058e-10,\n",
       "         2.0694e-07, 1.0826e-08, 5.6328e-07, 3.1882e-02, 1.3714e-11, 2.6178e-01,\n",
       "         6.2275e-07, 6.0775e-01, 4.9626e-12, 3.1361e-06, 7.7638e-12, 4.1163e-04,\n",
       "         4.8657e-04, 1.2172e-04, 2.1753e-07, 2.2681e-12, 2.2321e-09, 1.0340e-10,\n",
       "         1.4220e-05, 2.0444e-07, 1.3774e+00, 8.0299e-01, 6.2648e-04, 1.0032e+00,\n",
       "         6.6941e-07, 4.0700e-20, 6.3354e-01, 9.5632e-01, 5.2304e-03, 2.2461e-05,\n",
       "         1.5412e+00, 4.7775e-05, 7.9159e-01, 1.2692e-03, 1.7328e-06, 2.2298e-09,\n",
       "         1.0886e-17, 1.4880e-03, 1.5436e+00, 1.9376e-03, 1.2469e-13, 9.9609e-01,\n",
       "         3.3479e-10, 5.7907e-01, 4.7982e-09, 1.5418e+00, 4.0672e-04, 3.4113e-14,\n",
       "         1.5326e-05, 8.4018e-01, 5.5246e-09, 1.0874e-13, 1.4754e+00, 7.5135e-20],\n",
       "        [2.6541e-10, 7.3998e-29, 1.7854e-04, 1.0831e-13, 7.0473e-08, 2.4118e-09,\n",
       "         1.6595e-12, 1.2912e-17, 6.2881e-13, 2.2805e-01, 2.4273e-06, 9.5804e-05,\n",
       "         4.5228e-07, 1.3194e+00, 7.2472e-07, 8.7274e-14, 1.4416e-08, 9.8645e-06,\n",
       "         1.7101e-02, 1.6118e-08, 3.1194e-03, 1.6186e-08, 4.2684e-03, 2.6395e-06,\n",
       "         3.2882e-06, 4.8243e-14, 1.0811e+00, 8.8167e-06, 1.0397e-05, 1.2778e+00,\n",
       "         9.6227e-02, 2.9787e-04, 1.3627e-01, 1.4500e+00, 1.4370e+00, 1.1676e+00,\n",
       "         4.5417e-08, 3.0172e-01, 5.0813e-01, 3.8220e-01, 5.4361e-01, 1.3595e+00,\n",
       "         3.1469e-03, 1.7982e-06, 1.0732e+00, 1.1528e+00, 1.5662e-06, 1.3208e+00,\n",
       "         7.0016e-12, 2.7084e-14, 7.9304e-05, 5.2467e-06, 5.8771e-06, 3.6980e-18,\n",
       "         7.0360e-11, 2.5192e-03, 1.3385e-01, 4.8249e-16, 3.6806e-06, 6.6552e-10]])"
      ]
     },
     "execution_count": 88,
     "metadata": {},
     "output_type": "execute_result"
    }
   ],
   "source": [
    "subset_indices"
   ]
  },
  {
   "cell_type": "code",
   "execution_count": 89,
   "metadata": {},
   "outputs": [
    {
     "data": {
      "text/plain": [
       "tensor([[51, 27, 33, 31, 29, 36, 38, 34, 47, 35, 41,  3, 45, 40, 55],\n",
       "        [47, 38, 29, 35, 44, 34, 13, 51, 32, 27, 40, 36, 33, 31, 15],\n",
       "        [33, 13, 27, 38, 44, 36, 47, 29, 54, 51, 34, 41, 30, 39, 40],\n",
       "        [47, 44, 33, 35, 38, 37, 40, 31, 27, 29, 26, 21, 58, 13, 41],\n",
       "        [27, 38, 33, 58, 13, 35, 47, 37, 40, 29, 44, 41, 26, 32, 34],\n",
       "        [58, 27, 29, 39, 35, 47, 44, 51, 37, 30, 13, 32, 26, 40, 38],\n",
       "        [26, 58, 13, 38, 33, 27, 55, 29, 51, 36, 40,  5,  4, 45, 21],\n",
       "        [27, 51, 35, 29, 13, 47, 33, 34, 32, 36, 38, 41, 55,  2, 44],\n",
       "        [44, 51, 36, 58, 26, 29, 47, 33, 55, 27, 38, 32, 13, 49, 11],\n",
       "        [33, 34, 41, 47, 13, 29, 35, 45, 26, 44, 40, 38, 39, 37,  9]])"
      ]
     },
     "execution_count": 89,
     "metadata": {},
     "output_type": "execute_result"
    }
   ],
   "source": [
    "torch.argsort(subset_indices, dim = 1, descending = True)[:, :3*z_size]"
   ]
  },
  {
   "cell_type": "code",
   "execution_count": 90,
   "metadata": {},
   "outputs": [
    {
     "name": "stdout",
     "output_type": "stream",
     "text": [
      "tensor(42.0417)\n",
      "tensor(107.9584)\n"
     ]
    }
   ],
   "source": [
    "print(subset_indices[:, :D].sum())\n",
    "\n",
    "print(subset_indices[:, D:2*D].sum())"
   ]
  },
  {
   "cell_type": "code",
   "execution_count": 91,
   "metadata": {},
   "outputs": [
    {
     "data": {
      "text/plain": [
       "tensor(37, device='cuda:0')"
      ]
     },
     "execution_count": 91,
     "metadata": {},
     "output_type": "execute_result"
    }
   ],
   "source": [
    "torch.sum(w.argsort(descending= True)[:, :3*z_size] < 30)"
   ]
  },
  {
   "cell_type": "markdown",
   "metadata": {},
   "source": [
    "What happens if you run it on all the data? And not truncate the loss to the first D features?"
   ]
  },
  {
   "cell_type": "code",
   "execution_count": 92,
   "metadata": {},
   "outputs": [],
   "source": [
    "# let's see how it does here\n",
    "vae_gumbel_truncated = VAE_Gumbel(2*D, 100, 20, k = 3*z_size, t = global_t)\n",
    "vae_gumbel_truncated.to(device)\n",
    "vae_gumbel_trunc_optimizer = torch.optim.Adam(vae_gumbel_truncated.parameters(), \n",
    "                                                lr=lr, \n",
    "                                                betas = (b1,b2))"
   ]
  },
  {
   "cell_type": "code",
   "execution_count": 93,
   "metadata": {},
   "outputs": [
    {
     "name": "stdout",
     "output_type": "stream",
     "text": [
      "Train Epoch: 1 [0/4000 (0%)]\tLoss: 42.366001\n",
      "Train Epoch: 1 [1280/4000 (32%)]\tLoss: 41.894085\n",
      "Train Epoch: 1 [2560/4000 (64%)]\tLoss: 41.278465\n",
      "Train Epoch: 1 [3840/4000 (96%)]\tLoss: 40.899498\n",
      "====> Epoch: 1 Average loss: 41.5525\n",
      "====> Test set loss: 40.7214\n",
      "Train Epoch: 2 [0/4000 (0%)]\tLoss: 40.682613\n",
      "Train Epoch: 2 [1280/4000 (32%)]\tLoss: 40.277554\n",
      "Train Epoch: 2 [2560/4000 (64%)]\tLoss: 39.740192\n",
      "Train Epoch: 2 [3840/4000 (96%)]\tLoss: 39.320194\n",
      "====> Epoch: 2 Average loss: 39.9941\n",
      "====> Test set loss: 39.2005\n",
      "Train Epoch: 3 [0/4000 (0%)]\tLoss: 39.060650\n",
      "Train Epoch: 3 [1280/4000 (32%)]\tLoss: 38.825985\n",
      "Train Epoch: 3 [2560/4000 (64%)]\tLoss: 38.163338\n",
      "Train Epoch: 3 [3840/4000 (96%)]\tLoss: 37.594349\n",
      "====> Epoch: 3 Average loss: 38.3954\n",
      "====> Test set loss: 37.3983\n",
      "Train Epoch: 4 [0/4000 (0%)]\tLoss: 37.367794\n",
      "Train Epoch: 4 [1280/4000 (32%)]\tLoss: 36.446602\n",
      "Train Epoch: 4 [2560/4000 (64%)]\tLoss: 35.709530\n",
      "Train Epoch: 4 [3840/4000 (96%)]\tLoss: 35.274986\n",
      "====> Epoch: 4 Average loss: 36.3034\n",
      "====> Test set loss: 35.2631\n",
      "Train Epoch: 5 [0/4000 (0%)]\tLoss: 35.190342\n",
      "Train Epoch: 5 [1280/4000 (32%)]\tLoss: 34.834419\n",
      "Train Epoch: 5 [2560/4000 (64%)]\tLoss: 34.673599\n",
      "Train Epoch: 5 [3840/4000 (96%)]\tLoss: 34.366219\n",
      "====> Epoch: 5 Average loss: 34.7454\n",
      "====> Test set loss: 34.3069\n",
      "Train Epoch: 6 [0/4000 (0%)]\tLoss: 34.382404\n",
      "Train Epoch: 6 [1280/4000 (32%)]\tLoss: 34.387878\n",
      "Train Epoch: 6 [2560/4000 (64%)]\tLoss: 34.132675\n",
      "Train Epoch: 6 [3840/4000 (96%)]\tLoss: 34.299274\n",
      "====> Epoch: 6 Average loss: 34.0793\n",
      "====> Test set loss: 33.8935\n",
      "Train Epoch: 7 [0/4000 (0%)]\tLoss: 33.852005\n",
      "Train Epoch: 7 [1280/4000 (32%)]\tLoss: 33.623058\n",
      "Train Epoch: 7 [2560/4000 (64%)]\tLoss: 34.012257\n",
      "Train Epoch: 7 [3840/4000 (96%)]\tLoss: 33.578018\n",
      "====> Epoch: 7 Average loss: 33.7785\n",
      "====> Test set loss: 33.6099\n",
      "Train Epoch: 8 [0/4000 (0%)]\tLoss: 33.792080\n",
      "Train Epoch: 8 [1280/4000 (32%)]\tLoss: 33.675343\n",
      "Train Epoch: 8 [2560/4000 (64%)]\tLoss: 33.775055\n",
      "Train Epoch: 8 [3840/4000 (96%)]\tLoss: 33.746346\n",
      "====> Epoch: 8 Average loss: 33.5829\n",
      "====> Test set loss: 33.4941\n",
      "Train Epoch: 9 [0/4000 (0%)]\tLoss: 33.672237\n",
      "Train Epoch: 9 [1280/4000 (32%)]\tLoss: 33.422089\n",
      "Train Epoch: 9 [2560/4000 (64%)]\tLoss: 33.379925\n",
      "Train Epoch: 9 [3840/4000 (96%)]\tLoss: 33.265907\n",
      "====> Epoch: 9 Average loss: 33.4594\n",
      "====> Test set loss: 33.3757\n",
      "Train Epoch: 10 [0/4000 (0%)]\tLoss: 33.339733\n",
      "Train Epoch: 10 [1280/4000 (32%)]\tLoss: 33.136345\n",
      "Train Epoch: 10 [2560/4000 (64%)]\tLoss: 33.788853\n",
      "Train Epoch: 10 [3840/4000 (96%)]\tLoss: 33.463074\n",
      "====> Epoch: 10 Average loss: 33.3910\n",
      "====> Test set loss: 33.3170\n",
      "Train Epoch: 11 [0/4000 (0%)]\tLoss: 33.521400\n",
      "Train Epoch: 11 [1280/4000 (32%)]\tLoss: 33.237904\n",
      "Train Epoch: 11 [2560/4000 (64%)]\tLoss: 32.887287\n",
      "Train Epoch: 11 [3840/4000 (96%)]\tLoss: 33.444271\n",
      "====> Epoch: 11 Average loss: 33.3119\n",
      "====> Test set loss: 33.2635\n",
      "Train Epoch: 12 [0/4000 (0%)]\tLoss: 33.026218\n",
      "Train Epoch: 12 [1280/4000 (32%)]\tLoss: 33.090889\n",
      "Train Epoch: 12 [2560/4000 (64%)]\tLoss: 33.572273\n",
      "Train Epoch: 12 [3840/4000 (96%)]\tLoss: 32.982937\n",
      "====> Epoch: 12 Average loss: 33.2426\n",
      "====> Test set loss: 33.2014\n",
      "Train Epoch: 13 [0/4000 (0%)]\tLoss: 33.461472\n",
      "Train Epoch: 13 [1280/4000 (32%)]\tLoss: 32.934235\n",
      "Train Epoch: 13 [2560/4000 (64%)]\tLoss: 33.094650\n",
      "Train Epoch: 13 [3840/4000 (96%)]\tLoss: 33.268742\n",
      "====> Epoch: 13 Average loss: 33.2062\n",
      "====> Test set loss: 33.1797\n",
      "Train Epoch: 14 [0/4000 (0%)]\tLoss: 33.007164\n",
      "Train Epoch: 14 [1280/4000 (32%)]\tLoss: 33.007553\n",
      "Train Epoch: 14 [2560/4000 (64%)]\tLoss: 33.142513\n",
      "Train Epoch: 14 [3840/4000 (96%)]\tLoss: 33.544128\n",
      "====> Epoch: 14 Average loss: 33.1771\n",
      "====> Test set loss: 33.1546\n",
      "Train Epoch: 15 [0/4000 (0%)]\tLoss: 33.386238\n",
      "Train Epoch: 15 [1280/4000 (32%)]\tLoss: 33.292362\n",
      "Train Epoch: 15 [2560/4000 (64%)]\tLoss: 33.311974\n",
      "Train Epoch: 15 [3840/4000 (96%)]\tLoss: 32.850224\n",
      "====> Epoch: 15 Average loss: 33.1378\n",
      "====> Test set loss: 33.1056\n",
      "Train Epoch: 16 [0/4000 (0%)]\tLoss: 32.746498\n",
      "Train Epoch: 16 [1280/4000 (32%)]\tLoss: 32.856152\n",
      "Train Epoch: 16 [2560/4000 (64%)]\tLoss: 33.292179\n",
      "Train Epoch: 16 [3840/4000 (96%)]\tLoss: 33.092487\n",
      "====> Epoch: 16 Average loss: 33.1239\n",
      "====> Test set loss: 33.0570\n",
      "Train Epoch: 17 [0/4000 (0%)]\tLoss: 32.523041\n",
      "Train Epoch: 17 [1280/4000 (32%)]\tLoss: 32.984951\n",
      "Train Epoch: 17 [2560/4000 (64%)]\tLoss: 32.752499\n",
      "Train Epoch: 17 [3840/4000 (96%)]\tLoss: 32.991657\n",
      "====> Epoch: 17 Average loss: 33.0870\n",
      "====> Test set loss: 33.0326\n",
      "Train Epoch: 18 [0/4000 (0%)]\tLoss: 33.595570\n",
      "Train Epoch: 18 [1280/4000 (32%)]\tLoss: 33.054592\n",
      "Train Epoch: 18 [2560/4000 (64%)]\tLoss: 32.936035\n",
      "Train Epoch: 18 [3840/4000 (96%)]\tLoss: 32.889633\n",
      "====> Epoch: 18 Average loss: 33.0801\n",
      "====> Test set loss: 33.0006\n",
      "Train Epoch: 19 [0/4000 (0%)]\tLoss: 33.181126\n",
      "Train Epoch: 19 [1280/4000 (32%)]\tLoss: 32.607975\n",
      "Train Epoch: 19 [2560/4000 (64%)]\tLoss: 33.015804\n",
      "Train Epoch: 19 [3840/4000 (96%)]\tLoss: 32.773071\n",
      "====> Epoch: 19 Average loss: 33.0560\n",
      "====> Test set loss: 33.0339\n",
      "Train Epoch: 20 [0/4000 (0%)]\tLoss: 32.957386\n",
      "Train Epoch: 20 [1280/4000 (32%)]\tLoss: 32.760590\n",
      "Train Epoch: 20 [2560/4000 (64%)]\tLoss: 32.985870\n",
      "Train Epoch: 20 [3840/4000 (96%)]\tLoss: 33.380119\n",
      "====> Epoch: 20 Average loss: 33.0409\n",
      "====> Test set loss: 32.9883\n"
     ]
    }
   ],
   "source": [
    "gradients = torch.zeros(train_data.shape[1]).to(device)\n",
    "for epoch in range(1, n_epochs+1):\n",
    "    grads=train_truncated_with_gradients(train_data, vae_gumbel_truncated, \n",
    "                                         vae_gumbel_trunc_optimizer, epoch, batch_size, Dim = 2*D)\n",
    "    if epoch > 5:\n",
    "        gradients += grads\n",
    "    test(test_data, vae_gumbel_truncated, epoch, batch_size)"
   ]
  },
  {
   "cell_type": "code",
   "execution_count": 94,
   "metadata": {},
   "outputs": [
    {
     "data": {
      "text/plain": [
       "<matplotlib.axes._subplots.AxesSubplot at 0x7fe76407bd90>"
      ]
     },
     "execution_count": 94,
     "metadata": {},
     "output_type": "execute_result"
    },
    {
     "data": {
      "image/png": "[encoded data removed]",
      "text/plain": [
       "<Figure size 432x288 with 2 Axes>"
      ]
     },
     "metadata": {
      "needs_background": "light"
     },
     "output_type": "display_data"
    }
   ],
   "source": [
    "sns.heatmap(gradients.clone().detach().cpu().numpy()[:, np.newaxis])"
   ]
  },
  {
   "cell_type": "code",
   "execution_count": 95,
   "metadata": {},
   "outputs": [
    {
     "data": {
      "text/plain": [
       "tensor([0.0978, 0.3031, 0.1394, 0.2099, 0.2063, 0.2098, 0.1076, 0.2316, 0.0298,\n",
       "        0.1968, 0.0261, 0.0561, 0.0848, 0.2727, 0.2320, 0.3355, 0.2739, 0.0056,\n",
       "        0.0301, 0.0953, 0.0889, 0.2483, 0.0063, 0.0231, 0.0009, 0.0924, 0.4782,\n",
       "        0.3251, 0.2092, 0.2881], device='cuda:0')"
      ]
     },
     "execution_count": 95,
     "metadata": {},
     "output_type": "execute_result"
    }
   ],
   "source": [
    "test_data.mean(dim = 0)[:D]"
   ]
  },
  {
   "cell_type": "code",
   "execution_count": 96,
   "metadata": {},
   "outputs": [
    {
     "data": {
      "text/plain": [
       "tensor([0.1104, 0.3139, 0.1557, 0.2146, 0.2272, 0.2249, 0.1142, 0.2374, 0.0551,\n",
       "        0.2214, 0.0421, 0.0623, 0.1154, 0.2879, 0.2327, 0.3289, 0.2827, 0.0258,\n",
       "        0.0542, 0.1214, 0.0979, 0.2593, 0.0293, 0.0478, 0.0303, 0.1002, 0.4750,\n",
       "        0.3373, 0.2328, 0.3169], device='cuda:0', grad_fn=<SliceBackward>)"
      ]
     },
     "execution_count": 96,
     "metadata": {},
     "output_type": "execute_result"
    }
   ],
   "source": [
    "vae_gumbel_truncated(test_data)[0].mean(dim = 0)[:D]"
   ]
  },
  {
   "cell_type": "code",
   "execution_count": 97,
   "metadata": {},
   "outputs": [
    {
     "data": {
      "text/plain": [
       "tensor([0.1913, 0.2338, 0.2076, 0.2199, 0.2306, 0.1890, 0.1805, 0.1945, 0.1051,\n",
       "        0.2321, 0.0976, 0.1389, 0.1652, 0.1922, 0.2341, 0.2330, 0.2048, 0.0390,\n",
       "        0.0929, 0.1692, 0.1755, 0.2236, 0.0499, 0.0923, 0.0152, 0.1863, 0.1593,\n",
       "        0.2244, 0.2096, 0.2350], device='cuda:0')"
      ]
     },
     "execution_count": 97,
     "metadata": {},
     "output_type": "execute_result"
    }
   ],
   "source": [
    "test_data.std(dim = 0)[:D]"
   ]
  },
  {
   "cell_type": "code",
   "execution_count": 98,
   "metadata": {},
   "outputs": [
    {
     "data": {
      "text/plain": [
       "tensor([0.0501, 0.0326, 0.0511, 0.0527, 0.0521, 0.0503, 0.0500, 0.0543, 0.0409,\n",
       "        0.0507, 0.0335, 0.0402, 0.0560, 0.0382, 0.0569, 0.0347, 0.0369, 0.0242,\n",
       "        0.0387, 0.0613, 0.0464, 0.0418, 0.0283, 0.0363, 0.0296, 0.0466, 0.0253,\n",
       "        0.0410, 0.0482, 0.0477], device='cuda:0', grad_fn=<SliceBackward>)"
      ]
     },
     "execution_count": 98,
     "metadata": {},
     "output_type": "execute_result"
    }
   ],
   "source": [
    "vae_gumbel_truncated(test_data)[0].std(dim = 0)[:D]"
   ]
  },
  {
   "cell_type": "code",
   "execution_count": 99,
   "metadata": {},
   "outputs": [],
   "source": [
    "with torch.no_grad():\n",
    "    w = vae_gumbel_truncated.weight_creator(test_data[0:10, :])\n",
    "    subset_indices = sample_subset(w, k=3*z_size, t=global_t).cpu()"
   ]
  },
  {
   "cell_type": "code",
   "execution_count": 100,
   "metadata": {},
   "outputs": [
    {
     "data": {
      "text/plain": [
       "<matplotlib.axes._subplots.AxesSubplot at 0x7fe764b2a2d0>"
      ]
     },
     "execution_count": 100,
     "metadata": {},
     "output_type": "execute_result"
    },
    {
     "data": {
      "image/png": "[encoded data removed]",
      "text/plain": [
       "<Figure size 432x288 with 2 Axes>"
      ]
     },
     "metadata": {
      "needs_background": "light"
     },
     "output_type": "display_data"
    }
   ],
   "source": [
    "sns.heatmap(subset_indices.sum(dim = 0).clone().detach().cpu().numpy()[:, np.newaxis])"
   ]
  },
  {
   "cell_type": "code",
   "execution_count": 101,
   "metadata": {},
   "outputs": [
    {
     "data": {
      "text/plain": [
       "tensor([[4.3291e-03, 1.4547e-15, 8.7694e-07, 7.6677e-11, 1.0488e-12, 4.5284e-22,\n",
       "         3.1184e-21, 5.8956e-14, 6.1925e-08, 1.7970e-09, 6.9047e-11, 4.2175e-04,\n",
       "         2.8686e-05, 8.6152e-13, 8.6113e-13, 2.2741e-09, 2.4467e-24, 2.5500e-11,\n",
       "         5.0110e-27, 6.7680e-07, 2.3052e-06, 2.8021e-04, 7.4786e-08, 6.5251e-13,\n",
       "         3.3192e-13, 1.1250e-06, 1.0398e-25, 3.2190e-01, 2.7976e-08, 1.6642e+00,\n",
       "         7.0213e-12, 1.4591e-03, 6.1645e-01, 3.0926e-02, 9.8761e-01, 3.0614e-15,\n",
       "         1.1301e+00, 1.9841e-05, 1.8680e+00, 1.8548e+00, 1.7920e+00, 1.6336e+00,\n",
       "         6.2688e-03, 2.5296e-06, 2.1825e-09, 7.6417e-01, 2.1222e-17, 2.6941e-18,\n",
       "         3.5835e-04, 1.0205e-07, 1.4725e-03, 3.5150e-13, 2.5258e-08, 1.1281e-10,\n",
       "         1.8517e+00, 9.7199e-20, 4.6978e-01, 2.1964e-07, 6.8764e-16, 3.5069e-16],\n",
       "        [2.8101e-17, 6.1266e-08, 1.5983e-13, 2.0539e-05, 3.0490e-14, 2.7371e-19,\n",
       "         1.0197e-10, 2.5183e-12, 1.7383e-12, 7.7211e-08, 1.1724e-17, 1.6453e-08,\n",
       "         3.5100e-18, 1.0168e-08, 1.1674e-06, 8.3762e-09, 3.4909e-07, 3.2323e-05,\n",
       "         5.8798e-15, 3.8638e-12, 1.4370e-10, 4.0909e-08, 2.7704e-42, 1.3881e-28,\n",
       "         1.2237e-06, 7.4390e-14, 1.0057e-07, 1.5553e-04, 4.7709e-16, 1.4656e+00,\n",
       "         2.6764e-06, 3.6116e-02, 8.5028e-13, 1.4762e+00, 2.7926e-04, 3.5603e-13,\n",
       "         9.8818e-17, 1.2089e-01, 1.6427e+00, 9.4255e-01, 9.4026e-01, 1.8161e+00,\n",
       "         1.5803e-02, 1.1261e-03, 1.6841e-14, 1.6369e+00, 6.2575e-03, 3.8813e-09,\n",
       "         1.1557e+00, 2.5144e-07, 5.2393e-07, 1.8562e+00, 1.2001e-10, 6.5093e-08,\n",
       "         1.2248e+00, 5.2383e-12, 2.7557e-04, 6.6198e-01, 9.4212e-05, 4.3491e-27],\n",
       "        [1.6306e-07, 2.0805e-14, 1.6375e-04, 7.6444e-09, 4.9977e-21, 5.7411e-09,\n",
       "         9.2374e-10, 2.9110e-09, 1.0202e-09, 1.4436e-14, 1.6474e-09, 1.9085e-09,\n",
       "         1.6225e-10, 8.8326e-12, 6.6796e-05, 5.3661e-17, 8.5474e-26, 6.0723e-07,\n",
       "         4.1811e-21, 1.3770e-02, 1.0137e-06, 1.0144e-11, 1.3132e-02, 1.4114e-10,\n",
       "         9.4500e-18, 3.6763e-13, 1.6914e-11, 1.7107e-04, 3.1675e-09, 1.1698e+00,\n",
       "         6.7472e-08, 1.0610e-10, 1.6012e+00, 4.5235e-01, 6.4817e-01, 1.0400e-09,\n",
       "         1.2761e+00, 4.7384e-02, 1.1117e+00, 3.6368e-05, 1.0000e+00, 1.0458e-03,\n",
       "         1.2780e+00, 1.4850e+00, 4.4738e-08, 4.5621e-01, 2.7731e-11, 1.1380e-09,\n",
       "         1.6992e-01, 1.6338e-07, 9.4578e-15, 1.5617e+00, 8.8846e-16, 1.8459e-04,\n",
       "         1.1987e+00, 2.1891e-12, 7.9749e-01, 7.1774e-01, 1.8871e-06, 1.7405e-09],\n",
       "        [2.6090e-06, 1.0626e-05, 1.1387e-23, 1.3377e-05, 1.7747e-11, 1.8491e-06,\n",
       "         7.3133e-07, 1.1786e-07, 3.3216e-12, 1.2041e-11, 9.9472e-14, 1.2139e-11,\n",
       "         4.4146e-10, 1.1029e-04, 3.9258e-13, 1.0010e-12, 6.1137e-06, 3.3606e-07,\n",
       "         3.0921e-06, 5.5798e-07, 2.0578e-11, 7.3570e-09, 2.0420e-05, 6.4431e-05,\n",
       "         4.3077e-13, 7.8608e-20, 2.5497e-13, 7.0689e-01, 6.7100e-13, 1.8160e+00,\n",
       "         1.4019e-15, 2.4672e-01, 1.2106e+00, 3.8001e-01, 9.9996e-01, 6.6026e-13,\n",
       "         9.7391e-01, 1.6658e-02, 1.2291e+00, 1.3354e+00, 5.6959e-05, 2.4830e-02,\n",
       "         3.2298e-05, 4.2292e-01, 9.0678e-10, 2.7240e-07, 1.0575e-11, 1.3171e-16,\n",
       "         1.3219e+00, 2.5248e-11, 7.0581e-04, 1.7659e+00, 4.5362e-06, 6.3334e-12,\n",
       "         1.0433e+00, 2.7603e-07, 4.4878e-01, 1.0562e+00, 1.1462e-08, 1.8518e-06],\n",
       "        [1.8821e-10, 3.8070e-15, 5.5610e-12, 1.8804e-17, 5.9744e-14, 9.1060e-10,\n",
       "         1.5474e-13, 2.7409e-09, 1.3818e-06, 1.3577e-09, 3.7938e-16, 1.5752e-01,\n",
       "         1.6144e-07, 7.4955e-07, 9.5624e-08, 8.8345e-10, 9.4087e-04, 4.5376e-10,\n",
       "         2.0336e-04, 2.6611e-11, 1.5492e-03, 3.9903e-11, 6.7001e-04, 6.4691e-06,\n",
       "         1.7255e-09, 1.5394e-12, 5.9227e-05, 4.5592e-11, 3.1340e-03, 1.5528e+00,\n",
       "         4.0093e-03, 1.3790e-04, 4.6557e-03, 9.6333e-01, 9.8526e-01, 1.5606e-22,\n",
       "         7.5211e-09, 1.0708e-05, 1.4244e+00, 1.3394e+00, 1.3029e-13, 1.2916e-07,\n",
       "         1.0718e+00, 7.5260e-05, 7.7582e-10, 9.7454e-01, 1.4698e-10, 1.0793e-10,\n",
       "         1.0276e-09, 1.9267e-09, 4.2155e-11, 2.1159e+00, 3.3563e-05, 2.1527e-04,\n",
       "         1.6144e+00, 2.0311e-08, 2.1433e+00, 6.4167e-01, 1.1456e-26, 2.6093e-16],\n",
       "        [6.3507e-09, 6.3974e-18, 2.6109e-17, 3.5873e-06, 1.1995e-01, 2.1749e-13,\n",
       "         1.1587e-02, 2.4072e-06, 1.4291e-16, 7.4340e-08, 5.4851e-07, 5.4794e-05,\n",
       "         7.3356e-13, 6.0835e-04, 2.7961e-02, 1.7087e-04, 5.3594e-14, 3.0722e-03,\n",
       "         2.8349e-18, 4.1089e-08, 9.8992e-08, 1.0755e-13, 1.9683e-07, 6.3845e-03,\n",
       "         1.4719e-06, 4.4583e-07, 1.2289e-22, 1.7807e-02, 1.2731e-12, 2.7321e-07,\n",
       "         4.0089e-10, 6.1512e-02, 1.4667e+00, 3.6302e-01, 2.6884e+00, 1.6955e-05,\n",
       "         1.9378e+00, 3.0993e-01, 1.5196e-03, 1.6363e+00, 1.3583e+00, 1.2468e-20,\n",
       "         3.0735e-10, 3.4761e-22, 3.0426e-11, 1.3858e+00, 1.9575e-14, 9.9488e-23,\n",
       "         2.7973e-01, 5.0922e-09, 2.5691e-02, 2.0216e+00, 5.3880e-12, 7.4116e-11,\n",
       "         5.3632e-09, 4.1988e-07, 5.8626e-07, 1.2760e+00, 1.1165e-06, 9.5632e-09],\n",
       "        [2.9804e-14, 3.2462e-05, 3.0471e-06, 3.9818e-11, 2.3465e-01, 4.5850e-11,\n",
       "         5.7394e-12, 3.6301e-06, 2.7607e-07, 3.5385e-03, 2.8796e-21, 1.6109e-09,\n",
       "         5.7538e-01, 2.9194e-09, 8.2528e-03, 2.7310e-07, 1.8653e-05, 2.1551e-17,\n",
       "         3.7242e-10, 7.3657e-07, 3.0298e-04, 1.5704e-08, 6.2875e-19, 7.2781e-18,\n",
       "         1.5916e-15, 1.1739e-12, 2.1927e-15, 1.6227e-17, 1.0874e-03, 8.0903e-01,\n",
       "         2.5106e-09, 9.9426e-18, 1.1624e+00, 1.5040e+00, 8.3180e-01, 1.7169e-13,\n",
       "         1.7074e-06, 6.1566e-01, 9.9945e-10, 1.0816e+00, 6.8945e-01, 1.2974e+00,\n",
       "         1.6411e+00, 1.0713e-02, 1.5803e-04, 2.6290e-08, 1.9632e-08, 7.0524e-03,\n",
       "         1.6438e+00, 6.6967e-29, 2.7030e-07, 1.6469e+00, 9.8957e-15, 7.8258e-07,\n",
       "         1.9756e-03, 9.8423e-08, 9.9991e-01, 2.0885e-01, 4.1664e-08, 2.4901e-02],\n",
       "        [6.3371e-04, 1.1354e-14, 1.8753e-19, 6.6360e-06, 1.1425e-03, 4.3613e-06,\n",
       "         7.6224e-06, 2.8734e-05, 4.4257e-07, 2.4187e-02, 2.1563e-01, 1.8847e-04,\n",
       "         1.2216e-03, 1.0479e-10, 2.1135e-04, 5.0650e-11, 6.9494e-14, 3.4413e-11,\n",
       "         2.5781e-07, 2.8609e-14, 2.7511e-01, 5.0426e-07, 2.0492e-02, 3.1102e-07,\n",
       "         1.3820e-10, 1.1652e-04, 3.5773e-06, 2.5960e-06, 1.3530e-07, 1.3388e+00,\n",
       "         3.0794e-30, 3.7001e-01, 1.3258e+00, 4.1167e-01, 9.5564e-01, 3.5614e-07,\n",
       "         1.1914e+00, 9.6297e-01, 1.1222e+00, 1.2465e+00, 1.0837e+00, 7.9062e-01,\n",
       "         1.2992e+00, 6.6843e-05, 3.7250e-06, 3.4441e-01, 9.9125e-07, 1.3046e-24,\n",
       "         4.5442e-03, 7.2972e-13, 2.9796e-08, 7.9354e-01, 3.3002e-07, 8.1119e-14,\n",
       "         3.1580e-03, 4.1755e-15, 7.5857e-01, 4.5819e-01, 4.0670e-17, 3.3919e-12],\n",
       "        [1.8121e-04, 6.1351e-07, 7.0210e-08, 1.6885e-06, 4.5929e-15, 8.7776e-15,\n",
       "         2.0627e-12, 1.6229e-05, 1.4571e-17, 8.9898e-03, 5.0242e-02, 4.0503e-17,\n",
       "         2.0194e-10, 2.0301e-07, 1.9194e-19, 9.3783e-21, 4.6281e-06, 1.7192e-17,\n",
       "         1.6949e-02, 1.7937e-11, 2.3902e-03, 7.3231e-05, 8.3105e-11, 8.8810e-04,\n",
       "         3.3968e-05, 7.6953e-07, 1.5699e-07, 1.0059e-15, 5.3727e-07, 1.9861e+00,\n",
       "         2.5731e-08, 2.9286e-01, 2.7711e-02, 1.2105e+00, 1.5963e+00, 5.9519e-14,\n",
       "         1.0084e-14, 1.3540e-07, 9.2108e-01, 2.0050e-11, 1.9881e+00, 6.5777e-01,\n",
       "         3.9462e-24, 7.0983e-01, 5.4091e-23, 1.7833e+00, 2.5120e-19, 2.3775e-07,\n",
       "         1.0039e+00, 7.4454e-15, 1.7890e-04, 6.3224e-01, 6.4256e-06, 5.7528e-11,\n",
       "         5.8901e-03, 3.3963e-10, 8.1952e-01, 1.2850e+00, 7.4336e-09, 3.5534e-07],\n",
       "        [1.8895e-03, 2.3488e-17, 3.6723e-06, 3.8713e-03, 2.1622e-07, 1.0386e-12,\n",
       "         2.6133e-11, 3.7419e-07, 1.3821e-06, 2.4074e-05, 1.3059e-07, 1.0488e-10,\n",
       "         1.2639e-02, 7.5108e-12, 2.7526e-06, 6.2140e-02, 6.9522e-17, 1.3929e-03,\n",
       "         6.6384e-18, 1.5192e-06, 5.5080e-09, 1.2270e-08, 2.3160e-08, 1.3733e-11,\n",
       "         5.2496e-10, 9.0268e-14, 8.1963e-04, 5.9304e-09, 2.0903e-13, 9.9221e-01,\n",
       "         6.0805e-02, 5.8139e-01, 1.2994e+00, 3.3195e-02, 1.0078e+00, 7.5614e-07,\n",
       "         1.3636e+00, 1.3174e+00, 9.8075e-01, 4.9733e-05, 1.8589e-04, 1.2277e+00,\n",
       "         1.2011e+00, 4.4511e-12, 9.0152e-22, 1.4093e+00, 2.1475e-01, 3.3592e-10,\n",
       "         1.0148e+00, 3.0105e-09, 7.2987e-13, 2.2071e-16, 6.0723e-13, 9.3355e-09,\n",
       "         1.0262e+00, 4.0260e-09, 6.4431e-02, 1.1223e+00, 4.9888e-25, 1.5596e-07]])"
      ]
     },
     "execution_count": 101,
     "metadata": {},
     "output_type": "execute_result"
    }
   ],
   "source": [
    "subset_indices"
   ]
  },
  {
   "cell_type": "code",
   "execution_count": 102,
   "metadata": {},
   "outputs": [
    {
     "data": {
      "text/plain": [
       "tensor([[38, 39, 54, 40, 29, 41, 36, 34, 45, 32, 56, 27, 33, 42,  0],\n",
       "        [51, 41, 38, 45, 33, 29, 54, 48, 39, 40, 57, 37, 31, 42, 46],\n",
       "        [32, 51, 43, 42, 36, 54, 29, 38, 40, 56, 57, 34, 45, 33, 48],\n",
       "        [29, 51, 39, 48, 38, 32, 57, 54, 34, 36, 27, 56, 43, 33, 31],\n",
       "        [56, 51, 54, 29, 38, 39, 42, 34, 45, 33, 57, 11, 32, 30, 28],\n",
       "        [34, 51, 36, 39, 32, 45, 40, 57, 33, 37, 48,  4, 31, 14, 50],\n",
       "        [51, 48, 42, 33, 41, 32, 39, 56, 34, 29, 40, 37, 12,  4, 57],\n",
       "        [29, 32, 42, 39, 36, 38, 40, 37, 34, 51, 41, 56, 57, 33, 31],\n",
       "        [40, 29, 45, 34, 57, 33, 48, 38, 56, 43, 41, 51, 31, 10, 32],\n",
       "        [45, 36, 37, 32, 41, 42, 57, 54, 48, 34, 29, 38, 31, 46, 56]])"
      ]
     },
     "execution_count": 102,
     "metadata": {},
     "output_type": "execute_result"
    }
   ],
   "source": [
    "torch.argsort(subset_indices, dim = 1, descending = True)[:, :3*z_size]"
   ]
  },
  {
   "cell_type": "code",
   "execution_count": 103,
   "metadata": {},
   "outputs": [
    {
     "name": "stdout",
     "output_type": "stream",
     "text": [
      "tensor(15.7327)\n",
      "tensor(134.2672)\n"
     ]
    }
   ],
   "source": [
    "print(subset_indices[:, :D].sum())\n",
    "\n",
    "print(subset_indices[:, D:2*D].sum())"
   ]
  },
  {
   "cell_type": "code",
   "execution_count": 104,
   "metadata": {},
   "outputs": [
    {
     "data": {
      "text/plain": [
       "tensor(10, device='cuda:0')"
      ]
     },
     "execution_count": 104,
     "metadata": {},
     "output_type": "execute_result"
    }
   ],
   "source": [
    "torch.sum(w.argsort(descending= True)[:, :3*z_size] < 30)"
   ]
  },
  {
   "cell_type": "markdown",
   "metadata": {},
   "source": [
    "# How does a normal VAE do?"
   ]
  },
  {
   "cell_type": "markdown",
   "metadata": {},
   "source": [
    "Trying to reconstruct first 30 features only"
   ]
  },
  {
   "cell_type": "code",
   "execution_count": 105,
   "metadata": {},
   "outputs": [],
   "source": [
    "vanilla_vae = VAE(2*D, 100, 20)\n",
    "\n",
    "vanilla_vae.to(device)\n",
    "vanilla_vae_optimizer = torch.optim.Adam(vanilla_vae.parameters(), \n",
    "                                            lr=lr,\n",
    "                                            betas = (b1,b2))"
   ]
  },
  {
   "cell_type": "code",
   "execution_count": 106,
   "metadata": {},
   "outputs": [
    {
     "name": "stdout",
     "output_type": "stream",
     "text": [
      "Train Epoch: 1 [0/4000 (0%)]\tLoss: 20.811413\n",
      "Train Epoch: 1 [1280/4000 (32%)]\tLoss: 20.117807\n",
      "Train Epoch: 1 [2560/4000 (64%)]\tLoss: 19.581526\n",
      "Train Epoch: 1 [3840/4000 (96%)]\tLoss: 19.099516\n",
      "====> Epoch: 1 Average loss: 19.9070\n",
      "====> Test set loss: 40.0846\n",
      "Train Epoch: 2 [0/4000 (0%)]\tLoss: 19.055134\n",
      "Train Epoch: 2 [1280/4000 (32%)]\tLoss: 18.440933\n",
      "Train Epoch: 2 [2560/4000 (64%)]\tLoss: 17.732121\n",
      "Train Epoch: 2 [3840/4000 (96%)]\tLoss: 17.247393\n",
      "====> Epoch: 2 Average loss: 18.0550\n",
      "====> Test set loss: 38.0334\n",
      "Train Epoch: 3 [0/4000 (0%)]\tLoss: 16.820208\n",
      "Train Epoch: 3 [1280/4000 (32%)]\tLoss: 15.795731\n",
      "Train Epoch: 3 [2560/4000 (64%)]\tLoss: 15.425953\n",
      "Train Epoch: 3 [3840/4000 (96%)]\tLoss: 15.025915\n",
      "====> Epoch: 3 Average loss: 15.5690\n",
      "====> Test set loss: 36.1794\n",
      "Train Epoch: 4 [0/4000 (0%)]\tLoss: 14.359447\n",
      "Train Epoch: 4 [1280/4000 (32%)]\tLoss: 13.912736\n",
      "Train Epoch: 4 [2560/4000 (64%)]\tLoss: 14.012361\n",
      "Train Epoch: 4 [3840/4000 (96%)]\tLoss: 13.733294\n",
      "====> Epoch: 4 Average loss: 13.8593\n",
      "====> Test set loss: 35.4909\n",
      "Train Epoch: 5 [0/4000 (0%)]\tLoss: 13.429065\n",
      "Train Epoch: 5 [1280/4000 (32%)]\tLoss: 13.251121\n",
      "Train Epoch: 5 [2560/4000 (64%)]\tLoss: 12.818075\n",
      "Train Epoch: 5 [3840/4000 (96%)]\tLoss: 13.156096\n",
      "====> Epoch: 5 Average loss: 13.2502\n",
      "====> Test set loss: 35.1064\n",
      "Train Epoch: 6 [0/4000 (0%)]\tLoss: 13.052223\n",
      "Train Epoch: 6 [1280/4000 (32%)]\tLoss: 13.080382\n",
      "Train Epoch: 6 [2560/4000 (64%)]\tLoss: 12.995548\n",
      "Train Epoch: 6 [3840/4000 (96%)]\tLoss: 12.967505\n",
      "====> Epoch: 6 Average loss: 12.9611\n",
      "====> Test set loss: 34.8209\n",
      "Train Epoch: 7 [0/4000 (0%)]\tLoss: 12.658567\n",
      "Train Epoch: 7 [1280/4000 (32%)]\tLoss: 12.638159\n",
      "Train Epoch: 7 [2560/4000 (64%)]\tLoss: 12.754868\n",
      "Train Epoch: 7 [3840/4000 (96%)]\tLoss: 13.064964\n",
      "====> Epoch: 7 Average loss: 12.7406\n",
      "====> Test set loss: 34.6553\n",
      "Train Epoch: 8 [0/4000 (0%)]\tLoss: 12.741595\n",
      "Train Epoch: 8 [1280/4000 (32%)]\tLoss: 12.784866\n",
      "Train Epoch: 8 [2560/4000 (64%)]\tLoss: 12.253778\n",
      "Train Epoch: 8 [3840/4000 (96%)]\tLoss: 12.060513\n",
      "====> Epoch: 8 Average loss: 12.5933\n",
      "====> Test set loss: 34.4474\n",
      "Train Epoch: 9 [0/4000 (0%)]\tLoss: 12.047246\n",
      "Train Epoch: 9 [1280/4000 (32%)]\tLoss: 12.320334\n",
      "Train Epoch: 9 [2560/4000 (64%)]\tLoss: 12.659516\n",
      "Train Epoch: 9 [3840/4000 (96%)]\tLoss: 12.286519\n",
      "====> Epoch: 9 Average loss: 12.4926\n",
      "====> Test set loss: 34.3596\n",
      "Train Epoch: 10 [0/4000 (0%)]\tLoss: 12.459833\n",
      "Train Epoch: 10 [1280/4000 (32%)]\tLoss: 12.387986\n",
      "Train Epoch: 10 [2560/4000 (64%)]\tLoss: 12.445711\n",
      "Train Epoch: 10 [3840/4000 (96%)]\tLoss: 12.209690\n",
      "====> Epoch: 10 Average loss: 12.3740\n",
      "====> Test set loss: 34.2252\n",
      "Train Epoch: 11 [0/4000 (0%)]\tLoss: 12.193333\n",
      "Train Epoch: 11 [1280/4000 (32%)]\tLoss: 11.944195\n",
      "Train Epoch: 11 [2560/4000 (64%)]\tLoss: 12.180675\n",
      "Train Epoch: 11 [3840/4000 (96%)]\tLoss: 12.330107\n",
      "====> Epoch: 11 Average loss: 12.2346\n",
      "====> Test set loss: 34.0704\n",
      "Train Epoch: 12 [0/4000 (0%)]\tLoss: 11.939956\n",
      "Train Epoch: 12 [1280/4000 (32%)]\tLoss: 11.912784\n",
      "Train Epoch: 12 [2560/4000 (64%)]\tLoss: 12.369015\n",
      "Train Epoch: 12 [3840/4000 (96%)]\tLoss: 11.832901\n",
      "====> Epoch: 12 Average loss: 12.1093\n",
      "====> Test set loss: 33.9149\n",
      "Train Epoch: 13 [0/4000 (0%)]\tLoss: 11.867705\n",
      "Train Epoch: 13 [1280/4000 (32%)]\tLoss: 11.936132\n",
      "Train Epoch: 13 [2560/4000 (64%)]\tLoss: 11.864071\n",
      "Train Epoch: 13 [3840/4000 (96%)]\tLoss: 11.690831\n",
      "====> Epoch: 13 Average loss: 11.9878\n",
      "====> Test set loss: 33.8119\n",
      "Train Epoch: 14 [0/4000 (0%)]\tLoss: 12.333431\n",
      "Train Epoch: 14 [1280/4000 (32%)]\tLoss: 11.722173\n",
      "Train Epoch: 14 [2560/4000 (64%)]\tLoss: 11.642587\n",
      "Train Epoch: 14 [3840/4000 (96%)]\tLoss: 12.001178\n",
      "====> Epoch: 14 Average loss: 11.7956\n",
      "====> Test set loss: 33.5847\n",
      "Train Epoch: 15 [0/4000 (0%)]\tLoss: 11.726013\n",
      "Train Epoch: 15 [1280/4000 (32%)]\tLoss: 11.483834\n",
      "Train Epoch: 15 [2560/4000 (64%)]\tLoss: 11.958052\n",
      "Train Epoch: 15 [3840/4000 (96%)]\tLoss: 11.759382\n",
      "====> Epoch: 15 Average loss: 11.6284\n",
      "====> Test set loss: 33.5229\n",
      "Train Epoch: 16 [0/4000 (0%)]\tLoss: 11.732525\n",
      "Train Epoch: 16 [1280/4000 (32%)]\tLoss: 11.418179\n",
      "Train Epoch: 16 [2560/4000 (64%)]\tLoss: 11.261450\n",
      "Train Epoch: 16 [3840/4000 (96%)]\tLoss: 11.341302\n",
      "====> Epoch: 16 Average loss: 11.5207\n",
      "====> Test set loss: 33.4302\n",
      "Train Epoch: 17 [0/4000 (0%)]\tLoss: 11.256811\n",
      "Train Epoch: 17 [1280/4000 (32%)]\tLoss: 11.560511\n",
      "Train Epoch: 17 [2560/4000 (64%)]\tLoss: 11.444053\n",
      "Train Epoch: 17 [3840/4000 (96%)]\tLoss: 11.189885\n",
      "====> Epoch: 17 Average loss: 11.4202\n",
      "====> Test set loss: 33.3466\n",
      "Train Epoch: 18 [0/4000 (0%)]\tLoss: 11.305147\n",
      "Train Epoch: 18 [1280/4000 (32%)]\tLoss: 11.120952\n",
      "Train Epoch: 18 [2560/4000 (64%)]\tLoss: 11.764889\n",
      "Train Epoch: 18 [3840/4000 (96%)]\tLoss: 11.196559\n",
      "====> Epoch: 18 Average loss: 11.3688\n",
      "====> Test set loss: 33.2598\n",
      "Train Epoch: 19 [0/4000 (0%)]\tLoss: 11.134405\n",
      "Train Epoch: 19 [1280/4000 (32%)]\tLoss: 11.195744\n",
      "Train Epoch: 19 [2560/4000 (64%)]\tLoss: 11.448055\n",
      "Train Epoch: 19 [3840/4000 (96%)]\tLoss: 11.099967\n",
      "====> Epoch: 19 Average loss: 11.3036\n",
      "====> Test set loss: 33.2559\n",
      "Train Epoch: 20 [0/4000 (0%)]\tLoss: 11.517477\n",
      "Train Epoch: 20 [1280/4000 (32%)]\tLoss: 11.305155\n",
      "Train Epoch: 20 [2560/4000 (64%)]\tLoss: 11.059983\n",
      "Train Epoch: 20 [3840/4000 (96%)]\tLoss: 11.152271\n",
      "====> Epoch: 20 Average loss: 11.2555\n",
      "====> Test set loss: 33.1565\n"
     ]
    }
   ],
   "source": [
    "gradients = torch.zeros(train_data.shape[1]).to(device)\n",
    "for epoch in range(1, n_epochs+1):\n",
    "    grads=train_truncated_with_gradients(train_data, vanilla_vae, \n",
    "                                         vanilla_vae_optimizer, epoch, batch_size, Dim = D)\n",
    "    if epoch > 5:\n",
    "        gradients += grads\n",
    "    test(test_data, vanilla_vae, epoch, batch_size)"
   ]
  },
  {
   "cell_type": "code",
   "execution_count": 107,
   "metadata": {},
   "outputs": [
    {
     "data": {
      "text/plain": [
       "<matplotlib.axes._subplots.AxesSubplot at 0x7fe74c9c60d0>"
      ]
     },
     "execution_count": 107,
     "metadata": {},
     "output_type": "execute_result"
    },
    {
     "data": {
      "image/png": "[encoded data removed]",
      "text/plain": [
       "<Figure size 432x288 with 2 Axes>"
      ]
     },
     "metadata": {
      "needs_background": "light"
     },
     "output_type": "display_data"
    }
   ],
   "source": [
    "sns.heatmap(gradients.clone().detach().cpu().numpy()[:, np.newaxis])"
   ]
  },
  {
   "cell_type": "code",
   "execution_count": 108,
   "metadata": {},
   "outputs": [
    {
     "data": {
      "text/plain": [
       "tensor([0.0978, 0.3031, 0.1394, 0.2099, 0.2063, 0.2098, 0.1076, 0.2316, 0.0298,\n",
       "        0.1968, 0.0261, 0.0561, 0.0848, 0.2727, 0.2320, 0.3355, 0.2739, 0.0056,\n",
       "        0.0301, 0.0953, 0.0889, 0.2483, 0.0063, 0.0231, 0.0009, 0.0924, 0.4782,\n",
       "        0.3251, 0.2092, 0.2881], device='cuda:0')"
      ]
     },
     "execution_count": 108,
     "metadata": {},
     "output_type": "execute_result"
    }
   ],
   "source": [
    "test_data.mean(dim = 0)[:D]"
   ]
  },
  {
   "cell_type": "code",
   "execution_count": 109,
   "metadata": {},
   "outputs": [
    {
     "data": {
      "text/plain": [
       "tensor([0.1036, 0.3097, 0.1537, 0.2227, 0.2226, 0.2176, 0.1148, 0.2424, 0.0421,\n",
       "        0.2119, 0.0362, 0.0667, 0.1112, 0.2861, 0.2370, 0.3406, 0.2877, 0.0284,\n",
       "        0.0396, 0.1004, 0.1061, 0.2595, 0.0237, 0.0369, 0.0217, 0.1056, 0.4770,\n",
       "        0.3284, 0.2258, 0.3023], device='cuda:0', grad_fn=<SliceBackward>)"
      ]
     },
     "execution_count": 109,
     "metadata": {},
     "output_type": "execute_result"
    }
   ],
   "source": [
    "vanilla_vae(test_data)[0].mean(dim = 0)[:D]"
   ]
  },
  {
   "cell_type": "code",
   "execution_count": 110,
   "metadata": {},
   "outputs": [
    {
     "data": {
      "text/plain": [
       "tensor([0.1913, 0.2338, 0.2076, 0.2199, 0.2306, 0.1890, 0.1805, 0.1945, 0.1051,\n",
       "        0.2321, 0.0976, 0.1389, 0.1652, 0.1922, 0.2341, 0.2330, 0.2048, 0.0390,\n",
       "        0.0929, 0.1692, 0.1755, 0.2236, 0.0499, 0.0923, 0.0152, 0.1863, 0.1593,\n",
       "        0.2244, 0.2096, 0.2350], device='cuda:0')"
      ]
     },
     "execution_count": 110,
     "metadata": {},
     "output_type": "execute_result"
    }
   ],
   "source": [
    "test_data.std(dim = 0)[:D]"
   ]
  },
  {
   "cell_type": "code",
   "execution_count": 111,
   "metadata": {},
   "outputs": [
    {
     "data": {
      "text/plain": [
       "tensor([0.0777, 0.0582, 0.1372, 0.1327, 0.0643, 0.0709, 0.1264, 0.1545, 0.0461,\n",
       "        0.1284, 0.0444, 0.0733, 0.0907, 0.1657, 0.2094, 0.1932, 0.0638, 0.0405,\n",
       "        0.0433, 0.0668, 0.1062, 0.1279, 0.0356, 0.0440, 0.0329, 0.1379, 0.0646,\n",
       "        0.1776, 0.0763, 0.1769], device='cuda:0', grad_fn=<SliceBackward>)"
      ]
     },
     "execution_count": 111,
     "metadata": {},
     "output_type": "execute_result"
    }
   ],
   "source": [
    "vanilla_vae(test_data)[0].std(dim = 0)[:D]"
   ]
  },
  {
   "cell_type": "markdown",
   "metadata": {},
   "source": [
    "Looking at all dimensions"
   ]
  },
  {
   "cell_type": "code",
   "execution_count": 112,
   "metadata": {},
   "outputs": [],
   "source": [
    "vanilla_vae = VAE(2*D, 100, 20)\n",
    "\n",
    "vanilla_vae.to(device)\n",
    "vanilla_vae_optimizer = torch.optim.Adam(vanilla_vae.parameters(), \n",
    "                                            lr=lr,\n",
    "                                            betas = (b1,b2))"
   ]
  },
  {
   "cell_type": "code",
   "execution_count": 113,
   "metadata": {},
   "outputs": [
    {
     "name": "stdout",
     "output_type": "stream",
     "text": [
      "Train Epoch: 1 [0/4000 (0%)]\tLoss: 42.770042\n",
      "Train Epoch: 1 [1280/4000 (32%)]\tLoss: 42.121311\n",
      "Train Epoch: 1 [2560/4000 (64%)]\tLoss: 41.527489\n",
      "Train Epoch: 1 [3840/4000 (96%)]\tLoss: 41.010853\n",
      "====> Epoch: 1 Average loss: 41.7969\n",
      "====> Test set loss: 40.9561\n",
      "Train Epoch: 2 [0/4000 (0%)]\tLoss: 41.069691\n",
      "Train Epoch: 2 [1280/4000 (32%)]\tLoss: 40.465618\n",
      "Train Epoch: 2 [2560/4000 (64%)]\tLoss: 39.950092\n",
      "Train Epoch: 2 [3840/4000 (96%)]\tLoss: 39.169994\n",
      "====> Epoch: 2 Average loss: 40.1527\n",
      "====> Test set loss: 39.1702\n",
      "Train Epoch: 3 [0/4000 (0%)]\tLoss: 39.259609\n",
      "Train Epoch: 3 [1280/4000 (32%)]\tLoss: 38.488525\n",
      "Train Epoch: 3 [2560/4000 (64%)]\tLoss: 37.705387\n",
      "Train Epoch: 3 [3840/4000 (96%)]\tLoss: 36.736557\n",
      "====> Epoch: 3 Average loss: 37.9552\n",
      "====> Test set loss: 36.4830\n",
      "Train Epoch: 4 [0/4000 (0%)]\tLoss: 36.714951\n",
      "Train Epoch: 4 [1280/4000 (32%)]\tLoss: 35.803600\n",
      "Train Epoch: 4 [2560/4000 (64%)]\tLoss: 35.414822\n",
      "Train Epoch: 4 [3840/4000 (96%)]\tLoss: 35.074821\n",
      "====> Epoch: 4 Average loss: 35.6465\n",
      "====> Test set loss: 35.0146\n",
      "Train Epoch: 5 [0/4000 (0%)]\tLoss: 34.760128\n",
      "Train Epoch: 5 [1280/4000 (32%)]\tLoss: 34.835148\n",
      "Train Epoch: 5 [2560/4000 (64%)]\tLoss: 34.409588\n",
      "Train Epoch: 5 [3840/4000 (96%)]\tLoss: 34.124977\n",
      "====> Epoch: 5 Average loss: 34.6386\n",
      "====> Test set loss: 34.3091\n",
      "Train Epoch: 6 [0/4000 (0%)]\tLoss: 33.895832\n",
      "Train Epoch: 6 [1280/4000 (32%)]\tLoss: 34.191303\n",
      "Train Epoch: 6 [2560/4000 (64%)]\tLoss: 34.028492\n",
      "Train Epoch: 6 [3840/4000 (96%)]\tLoss: 33.953178\n",
      "====> Epoch: 6 Average loss: 34.1608\n",
      "====> Test set loss: 33.9358\n",
      "Train Epoch: 7 [0/4000 (0%)]\tLoss: 34.063324\n",
      "Train Epoch: 7 [1280/4000 (32%)]\tLoss: 34.022747\n",
      "Train Epoch: 7 [2560/4000 (64%)]\tLoss: 33.445869\n",
      "Train Epoch: 7 [3840/4000 (96%)]\tLoss: 33.669788\n",
      "====> Epoch: 7 Average loss: 33.8332\n",
      "====> Test set loss: 33.7133\n",
      "Train Epoch: 8 [0/4000 (0%)]\tLoss: 33.936642\n",
      "Train Epoch: 8 [1280/4000 (32%)]\tLoss: 33.466248\n",
      "Train Epoch: 8 [2560/4000 (64%)]\tLoss: 33.680504\n",
      "Train Epoch: 8 [3840/4000 (96%)]\tLoss: 33.869831\n",
      "====> Epoch: 8 Average loss: 33.6381\n",
      "====> Test set loss: 33.5575\n",
      "Train Epoch: 9 [0/4000 (0%)]\tLoss: 33.603279\n",
      "Train Epoch: 9 [1280/4000 (32%)]\tLoss: 33.632488\n",
      "Train Epoch: 9 [2560/4000 (64%)]\tLoss: 33.034866\n",
      "Train Epoch: 9 [3840/4000 (96%)]\tLoss: 33.482704\n",
      "====> Epoch: 9 Average loss: 33.5015\n",
      "====> Test set loss: 33.3954\n",
      "Train Epoch: 10 [0/4000 (0%)]\tLoss: 33.094482\n",
      "Train Epoch: 10 [1280/4000 (32%)]\tLoss: 33.368462\n",
      "Train Epoch: 10 [2560/4000 (64%)]\tLoss: 33.228592\n",
      "Train Epoch: 10 [3840/4000 (96%)]\tLoss: 33.632771\n",
      "====> Epoch: 10 Average loss: 33.3426\n",
      "====> Test set loss: 33.2763\n",
      "Train Epoch: 11 [0/4000 (0%)]\tLoss: 33.270432\n",
      "Train Epoch: 11 [1280/4000 (32%)]\tLoss: 33.190216\n",
      "Train Epoch: 11 [2560/4000 (64%)]\tLoss: 33.301041\n",
      "Train Epoch: 11 [3840/4000 (96%)]\tLoss: 33.453842\n",
      "====> Epoch: 11 Average loss: 33.2424\n",
      "====> Test set loss: 33.1735\n",
      "Train Epoch: 12 [0/4000 (0%)]\tLoss: 32.941502\n",
      "Train Epoch: 12 [1280/4000 (32%)]\tLoss: 33.647461\n",
      "Train Epoch: 12 [2560/4000 (64%)]\tLoss: 32.992001\n",
      "Train Epoch: 12 [3840/4000 (96%)]\tLoss: 33.124840\n",
      "====> Epoch: 12 Average loss: 33.1682\n",
      "====> Test set loss: 33.0889\n",
      "Train Epoch: 13 [0/4000 (0%)]\tLoss: 33.250591\n",
      "Train Epoch: 13 [1280/4000 (32%)]\tLoss: 32.828533\n",
      "Train Epoch: 13 [2560/4000 (64%)]\tLoss: 33.108677\n",
      "Train Epoch: 13 [3840/4000 (96%)]\tLoss: 32.955158\n",
      "====> Epoch: 13 Average loss: 33.0617\n",
      "====> Test set loss: 32.9888\n",
      "Train Epoch: 14 [0/4000 (0%)]\tLoss: 33.234329\n",
      "Train Epoch: 14 [1280/4000 (32%)]\tLoss: 32.789047\n",
      "Train Epoch: 14 [2560/4000 (64%)]\tLoss: 32.755112\n",
      "Train Epoch: 14 [3840/4000 (96%)]\tLoss: 32.940891\n",
      "====> Epoch: 14 Average loss: 32.9585\n",
      "====> Test set loss: 32.8624\n",
      "Train Epoch: 15 [0/4000 (0%)]\tLoss: 33.330830\n",
      "Train Epoch: 15 [1280/4000 (32%)]\tLoss: 32.301254\n",
      "Train Epoch: 15 [2560/4000 (64%)]\tLoss: 32.986771\n",
      "Train Epoch: 15 [3840/4000 (96%)]\tLoss: 32.720535\n",
      "====> Epoch: 15 Average loss: 32.8315\n",
      "====> Test set loss: 32.7489\n",
      "Train Epoch: 16 [0/4000 (0%)]\tLoss: 32.357544\n",
      "Train Epoch: 16 [1280/4000 (32%)]\tLoss: 32.966717\n",
      "Train Epoch: 16 [2560/4000 (64%)]\tLoss: 32.272823\n",
      "Train Epoch: 16 [3840/4000 (96%)]\tLoss: 32.735611\n",
      "====> Epoch: 16 Average loss: 32.7051\n",
      "====> Test set loss: 32.6025\n",
      "Train Epoch: 17 [0/4000 (0%)]\tLoss: 32.390854\n",
      "Train Epoch: 17 [1280/4000 (32%)]\tLoss: 32.396851\n",
      "Train Epoch: 17 [2560/4000 (64%)]\tLoss: 32.267517\n",
      "Train Epoch: 17 [3840/4000 (96%)]\tLoss: 32.485233\n",
      "====> Epoch: 17 Average loss: 32.5417\n",
      "====> Test set loss: 32.4474\n",
      "Train Epoch: 18 [0/4000 (0%)]\tLoss: 32.378201\n",
      "Train Epoch: 18 [1280/4000 (32%)]\tLoss: 32.825802\n",
      "Train Epoch: 18 [2560/4000 (64%)]\tLoss: 32.225758\n",
      "Train Epoch: 18 [3840/4000 (96%)]\tLoss: 32.292000\n",
      "====> Epoch: 18 Average loss: 32.3699\n",
      "====> Test set loss: 32.2608\n",
      "Train Epoch: 19 [0/4000 (0%)]\tLoss: 32.485447\n",
      "Train Epoch: 19 [1280/4000 (32%)]\tLoss: 32.337795\n",
      "Train Epoch: 19 [2560/4000 (64%)]\tLoss: 32.077522\n",
      "Train Epoch: 19 [3840/4000 (96%)]\tLoss: 32.424332\n",
      "====> Epoch: 19 Average loss: 32.2139\n",
      "====> Test set loss: 32.1162\n",
      "Train Epoch: 20 [0/4000 (0%)]\tLoss: 31.833296\n",
      "Train Epoch: 20 [1280/4000 (32%)]\tLoss: 32.057045\n",
      "Train Epoch: 20 [2560/4000 (64%)]\tLoss: 32.209801\n",
      "Train Epoch: 20 [3840/4000 (96%)]\tLoss: 32.094845\n",
      "====> Epoch: 20 Average loss: 32.0879\n",
      "====> Test set loss: 32.0024\n"
     ]
    }
   ],
   "source": [
    "gradients = torch.zeros(train_data.shape[1]).to(device)\n",
    "for epoch in range(1, n_epochs+1):\n",
    "    grads=train_truncated_with_gradients(train_data, vanilla_vae, \n",
    "                                         vanilla_vae_optimizer, epoch, batch_size, Dim = 2*D)\n",
    "    if epoch > 5:\n",
    "        gradients += grads\n",
    "    test(test_data, vanilla_vae, epoch, batch_size)"
   ]
  },
  {
   "cell_type": "code",
   "execution_count": 114,
   "metadata": {},
   "outputs": [
    {
     "data": {
      "text/plain": [
       "<matplotlib.axes._subplots.AxesSubplot at 0x7fe74c9df690>"
      ]
     },
     "execution_count": 114,
     "metadata": {},
     "output_type": "execute_result"
    },
    {
     "data": {
      "image/png": "[encoded data removed]",
      "text/plain": [
       "<Figure size 432x288 with 2 Axes>"
      ]
     },
     "metadata": {
      "needs_background": "light"
     },
     "output_type": "display_data"
    }
   ],
   "source": [
    "sns.heatmap(gradients.clone().detach().cpu().numpy()[:, np.newaxis])"
   ]
  },
  {
   "cell_type": "code",
   "execution_count": 115,
   "metadata": {},
   "outputs": [
    {
     "data": {
      "text/plain": [
       "tensor([0.0978, 0.3031, 0.1394, 0.2099, 0.2063, 0.2098, 0.1076, 0.2316, 0.0298,\n",
       "        0.1968, 0.0261, 0.0561, 0.0848, 0.2727, 0.2320, 0.3355, 0.2739, 0.0056,\n",
       "        0.0301, 0.0953, 0.0889, 0.2483, 0.0063, 0.0231, 0.0009, 0.0924, 0.4782,\n",
       "        0.3251, 0.2092, 0.2881], device='cuda:0')"
      ]
     },
     "execution_count": 115,
     "metadata": {},
     "output_type": "execute_result"
    }
   ],
   "source": [
    "test_data.mean(dim = 0)[:D]"
   ]
  },
  {
   "cell_type": "code",
   "execution_count": 116,
   "metadata": {},
   "outputs": [
    {
     "data": {
      "text/plain": [
       "tensor([0.1024, 0.3083, 0.1548, 0.2167, 0.2263, 0.2134, 0.1191, 0.2376, 0.0462,\n",
       "        0.2211, 0.0391, 0.0645, 0.1074, 0.2926, 0.2355, 0.3374, 0.2798, 0.0250,\n",
       "        0.0395, 0.1016, 0.1004, 0.2553, 0.0321, 0.0384, 0.0269, 0.1083, 0.4753,\n",
       "        0.3296, 0.2227, 0.3098], device='cuda:0', grad_fn=<SliceBackward>)"
      ]
     },
     "execution_count": 116,
     "metadata": {},
     "output_type": "execute_result"
    }
   ],
   "source": [
    "vanilla_vae(test_data)[0].mean(dim = 0)[:D]"
   ]
  },
  {
   "cell_type": "code",
   "execution_count": 117,
   "metadata": {},
   "outputs": [
    {
     "data": {
      "text/plain": [
       "tensor([0.1913, 0.2338, 0.2076, 0.2199, 0.2306, 0.1890, 0.1805, 0.1945, 0.1051,\n",
       "        0.2321, 0.0976, 0.1389, 0.1652, 0.1922, 0.2341, 0.2330, 0.2048, 0.0390,\n",
       "        0.0929, 0.1692, 0.1755, 0.2236, 0.0499, 0.0923, 0.0152, 0.1863, 0.1593,\n",
       "        0.2244, 0.2096, 0.2350], device='cuda:0')"
      ]
     },
     "execution_count": 117,
     "metadata": {},
     "output_type": "execute_result"
    }
   ],
   "source": [
    "test_data.std(dim = 0)[:D]"
   ]
  },
  {
   "cell_type": "code",
   "execution_count": 118,
   "metadata": {},
   "outputs": [
    {
     "data": {
      "text/plain": [
       "tensor([0.0775, 0.0683, 0.1182, 0.1115, 0.0892, 0.0724, 0.1055, 0.1345, 0.0510,\n",
       "        0.1129, 0.0451, 0.0560, 0.0805, 0.1525, 0.1804, 0.1922, 0.0643, 0.0321,\n",
       "        0.0404, 0.0648, 0.0767, 0.1383, 0.0411, 0.0418, 0.0351, 0.1132, 0.0543,\n",
       "        0.1718, 0.0692, 0.1575], device='cuda:0', grad_fn=<SliceBackward>)"
      ]
     },
     "execution_count": 118,
     "metadata": {},
     "output_type": "execute_result"
    }
   ],
   "source": [
    "vanilla_vae(test_data)[0].std(dim = 0)[:D]"
   ]
  },
  {
   "cell_type": "code",
   "execution_count": null,
   "metadata": {},
   "outputs": [],
   "source": []
  },
  {
   "cell_type": "markdown",
   "metadata": {},
   "source": [
    "The gradients are a few epochs are good for selecting of features as the Gumbel trick. Maybe even better.\n",
    "In fact, a Vanilla VAE is just as good."
   ]
  },
  {
   "cell_type": "code",
   "execution_count": null,
   "metadata": {},
   "outputs": [],
   "source": []
  },
  {
   "cell_type": "code",
   "execution_count": null,
   "metadata": {},
   "outputs": [],
   "source": []
  }
 ],
 "metadata": {
  "kernelspec": {
   "display_name": "Python [conda env:nyu] *",
   "language": "python",
   "name": "conda-env-nyu-py"
  },
  "language_info": {
   "codemirror_mode": {
    "name": "ipython",
    "version": 3
   },
   "file_extension": ".py",
   "mimetype": "text/x-python",
   "name": "python",
   "nbconvert_exporter": "python",
   "pygments_lexer": "ipython3",
   "version": "3.7.6"
  }
 },
 "nbformat": 4,
 "nbformat_minor": 4
}
