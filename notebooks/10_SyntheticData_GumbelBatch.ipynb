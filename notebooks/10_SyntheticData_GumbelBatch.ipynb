{
 "cells": [
  {
   "cell_type": "markdown",
   "metadata": {},
   "source": [
    "Can we have the gumbel trick generate one set of samples for the whole data set? Let's try to do it per batch.\n",
    "\n",
    "In addition, how does work when all the features are real, vs when half the features are real (not pure noise). \n",
    "For this, test when loss is calculated over half or all the features."
   ]
  },
  {
   "cell_type": "code",
   "execution_count": 1,
   "metadata": {},
   "outputs": [],
   "source": [
    "import torch\n",
    "\n",
    "\n",
    "from torch import nn\n",
    "from torch.autograd import Variable\n",
    "from torch.nn import functional as F\n",
    "\n",
    "import numpy as np\n",
    "\n",
    "import matplotlib.pyplot as plt\n",
    "#from sklearn.manifold import TSNE\n",
    "\n",
    "#import math\n",
    "\n",
    "#import gc\n",
    "\n",
    "from utils import *\n",
    "\n",
    "from sklearn.preprocessing import MinMaxScaler\n",
    "\n",
    "from scipy.stats import pearsonr\n",
    "\n",
    "import seaborn as sns"
   ]
  },
  {
   "cell_type": "code",
   "execution_count": 2,
   "metadata": {},
   "outputs": [],
   "source": [
    "torch.manual_seed(0)\n",
    "np.random.seed(0)"
   ]
  },
  {
   "cell_type": "code",
   "execution_count": 3,
   "metadata": {},
   "outputs": [],
   "source": [
    "# really good results for vanilla VAE on synthetic data with EPOCHS set to 50, \n",
    "# but when running locally set to 10 for reasonable run times\n",
    "n_epochs = 50\n",
    "batch_size = 64\n",
    "lr = 0.0001\n",
    "b1 = 0.9\n",
    "b2 = 0.999"
   ]
  },
  {
   "cell_type": "code",
   "execution_count": 4,
   "metadata": {},
   "outputs": [
    {
     "name": "stdout",
     "output_type": "stream",
     "text": [
      "Device\n",
      "cuda:0\n"
     ]
    }
   ],
   "source": [
    "cuda = True if torch.cuda.is_available() else False\n",
    "\n",
    "Tensor = torch.cuda.FloatTensor if cuda else torch.FloatTensor\n",
    "\n",
    "device = torch.device(\"cuda:0\" if cuda else \"cpu\")\n",
    "#device = 'cpu'\n",
    "print(\"Device\")\n",
    "print(device)"
   ]
  },
  {
   "cell_type": "code",
   "execution_count": 5,
   "metadata": {},
   "outputs": [],
   "source": [
    "D = 30\n",
    "N = 5000\n",
    "z_size = 5"
   ]
  },
  {
   "cell_type": "markdown",
   "metadata": {},
   "source": [
    "Modified version of our train function that can calculation the reconstruction loss over a limited version of the features and also calculate the gradients to the features of the input data"
   ]
  },
  {
   "cell_type": "code",
   "execution_count": 6,
   "metadata": {},
   "outputs": [],
   "source": [
    "def train_truncated_with_gradients(df, model, optimizer, epoch, batch_size, Dim):\n",
    "    model.train()\n",
    "    train_loss = 0\n",
    "    permutations = torch.randperm(df.shape[0])\n",
    "    gradients = torch.zeros(df.shape[1]).to(device)\n",
    "    for i in range(math.ceil(len(df)/batch_size)):\n",
    "        batch_ind = permutations[i * batch_size : (i+1) * batch_size]\n",
    "        batch_data = df[batch_ind, :].clone().to(device)\n",
    "        \n",
    "        \n",
    "        # need to do this twice because deriative with respect to input not implemented in BCE\n",
    "        # so need to switch them up\n",
    "        optimizer.zero_grad()\n",
    "        batch_data.requires_grad_(True)\n",
    "        mu_x, mu_latent, logvar_latent = model(batch_data)\n",
    "        # why clone detach here?\n",
    "        # still want gradient with respect to input, but BCE gradient with respect to target is not defined\n",
    "        # plus we only want to see how input affects mu_x, not the target\n",
    "        loss = loss_function_per_autoencoder(batch_data[:, :Dim].clone().detach(), mu_x[:, :Dim], \n",
    "                                             mu_latent, logvar_latent) \n",
    "        loss.backward(retain_graph=True)\n",
    "\n",
    "        with torch.no_grad():\n",
    "            gradients += torch.sqrt(batch_data.grad ** 2).sum(dim = 0)\n",
    "        # no step\n",
    "        \n",
    "        optimizer.zero_grad()\n",
    "        # do not calculate with respect to \n",
    "        batch_data.requires_grad_(False)\n",
    "        mu_x.requires_grad_(True)\n",
    "        loss = loss_function_per_autoencoder(batch_data[:, :Dim], mu_x[:, :Dim], mu_latent, logvar_latent) \n",
    "        loss.backward()\n",
    "        train_loss += loss.item()\n",
    "        optimizer.step()\n",
    "        \n",
    "        \n",
    "        \n",
    "        if i % log_interval == 0:\n",
    "            print('Train Epoch: {} [{}/{} ({:.0f}%)]\\tLoss: {:.6f}'.format(\n",
    "                epoch, i * len(batch_data), len(df),\n",
    "                100. * i * len(batch_data)/ len(df),\n",
    "                loss.item() / len(batch_data)))\n",
    "\n",
    "    print('====> Epoch: {} Average loss: {:.4f}'.format(\n",
    "          epoch, train_loss / len(df)))\n",
    "    \n",
    "    return gradients"
   ]
  },
  {
   "cell_type": "markdown",
   "metadata": {},
   "source": [
    "Do this first on a feature set where all the features are non-noisy."
   ]
  },
  {
   "cell_type": "code",
   "execution_count": 7,
   "metadata": {},
   "outputs": [
    {
     "name": "stdout",
     "output_type": "stream",
     "text": [
      "tensor(19, device='cuda:0')\n",
      "tensor(12, device='cuda:0')\n",
      "tensor(18, device='cuda:0')\n",
      "tensor(14, device='cuda:0')\n",
      "tensor(14, device='cuda:0')\n"
     ]
    }
   ],
   "source": [
    "torch.manual_seed(0)\n",
    "np.random.seed(0)\n",
    "\n",
    "latent_data = np.random.normal(loc=0.0, scale=1.0, size=N*z_size).reshape(N, z_size)\n",
    "\n",
    "data_mapper = nn.Sequential(\n",
    "    nn.Linear(z_size, 2 * z_size, bias=False),\n",
    "    nn.Tanh(),\n",
    "    nn.Linear(2 * z_size, D, bias = True),\n",
    "    nn.ReLU()\n",
    ").to(device)\n",
    "\n",
    "data_mapper.requires_grad_(False)\n",
    "\n",
    "latent_data = Tensor(latent_data)\n",
    "latent_data.requires_grad_(False)\n",
    "\n",
    "actual_data = data_mapper(latent_data)\n",
    "\n",
    "\n",
    "for i in range(5):\n",
    "    print(torch.sum(actual_data[i,:] != 0))\n",
    "    \n",
    "actual_data = actual_data.cpu().numpy()\n",
    "scaler = MinMaxScaler()\n",
    "actual_data = scaler.fit_transform(actual_data)\n",
    "\n",
    "actual_data = Tensor(actual_data)\n",
    "\n",
    "slices = np.random.permutation(np.arange(actual_data.shape[0]))\n",
    "upto = int(.8 * len(actual_data))\n",
    "\n",
    "train_data = actual_data[slices[:upto]]\n",
    "test_data = actual_data[slices[upto:]]"
   ]
  },
  {
   "cell_type": "code",
   "execution_count": 8,
   "metadata": {},
   "outputs": [],
   "source": [
    "global_t = 1"
   ]
  },
  {
   "cell_type": "markdown",
   "metadata": {},
   "source": [
    "Calculate loss on only the first half of features. Here all the features in the data were non-noisy. "
   ]
  },
  {
   "cell_type": "code",
   "execution_count": 9,
   "metadata": {},
   "outputs": [],
   "source": [
    "# let's see how it does here\n",
    "vae_gumbel_truncated = VAE_Gumbel_NInsta(D, 100, 20, k = 3*z_size, t = global_t)\n",
    "vae_gumbel_truncated.to(device)\n",
    "vae_gumbel_trunc_optimizer = torch.optim.Adam(vae_gumbel_truncated.parameters(), \n",
    "                                                lr=lr, \n",
    "                                                betas = (b1,b2))"
   ]
  },
  {
   "cell_type": "code",
   "execution_count": 10,
   "metadata": {},
   "outputs": [
    {
     "name": "stdout",
     "output_type": "stream",
     "text": [
      "Train Epoch: 1 [0/4000 (0%)]\tLoss: 10.297486\n",
      "Train Epoch: 1 [1280/4000 (32%)]\tLoss: 9.840182\n",
      "Train Epoch: 1 [2560/4000 (64%)]\tLoss: 9.418898\n",
      "Train Epoch: 1 [3840/4000 (96%)]\tLoss: 8.914977\n",
      "====> Epoch: 1 Average loss: 9.6234\n",
      "====> Test set loss: 19.3873\n",
      "Train Epoch: 2 [0/4000 (0%)]\tLoss: 8.979761\n",
      "Train Epoch: 2 [1280/4000 (32%)]\tLoss: 8.583446\n",
      "Train Epoch: 2 [2560/4000 (64%)]\tLoss: 8.018302\n",
      "Train Epoch: 2 [3840/4000 (96%)]\tLoss: 7.674096\n",
      "====> Epoch: 2 Average loss: 8.3250\n",
      "====> Test set loss: 18.1919\n",
      "Train Epoch: 3 [0/4000 (0%)]\tLoss: 7.719872\n",
      "Train Epoch: 3 [1280/4000 (32%)]\tLoss: 7.328157\n",
      "Train Epoch: 3 [2560/4000 (64%)]\tLoss: 7.006524\n",
      "Train Epoch: 3 [3840/4000 (96%)]\tLoss: 6.956886\n",
      "====> Epoch: 3 Average loss: 7.2780\n",
      "====> Test set loss: 17.6566\n",
      "Train Epoch: 4 [0/4000 (0%)]\tLoss: 7.096731\n",
      "Train Epoch: 4 [1280/4000 (32%)]\tLoss: 7.008787\n",
      "Train Epoch: 4 [2560/4000 (64%)]\tLoss: 6.874085\n",
      "Train Epoch: 4 [3840/4000 (96%)]\tLoss: 7.034038\n",
      "====> Epoch: 4 Average loss: 6.8751\n",
      "====> Test set loss: 17.4200\n",
      "Train Epoch: 5 [0/4000 (0%)]\tLoss: 6.877703\n",
      "Train Epoch: 5 [1280/4000 (32%)]\tLoss: 6.704479\n",
      "Train Epoch: 5 [2560/4000 (64%)]\tLoss: 6.813527\n",
      "Train Epoch: 5 [3840/4000 (96%)]\tLoss: 6.624295\n",
      "====> Epoch: 5 Average loss: 6.6757\n",
      "====> Test set loss: 17.3038\n",
      "Train Epoch: 6 [0/4000 (0%)]\tLoss: 6.851572\n",
      "Train Epoch: 6 [1280/4000 (32%)]\tLoss: 6.614273\n",
      "Train Epoch: 6 [2560/4000 (64%)]\tLoss: 6.523686\n",
      "Train Epoch: 6 [3840/4000 (96%)]\tLoss: 6.671239\n",
      "====> Epoch: 6 Average loss: 6.5725\n",
      "====> Test set loss: 17.1789\n",
      "Train Epoch: 7 [0/4000 (0%)]\tLoss: 6.698739\n",
      "Train Epoch: 7 [1280/4000 (32%)]\tLoss: 6.248917\n",
      "Train Epoch: 7 [2560/4000 (64%)]\tLoss: 6.258627\n",
      "Train Epoch: 7 [3840/4000 (96%)]\tLoss: 6.645110\n",
      "====> Epoch: 7 Average loss: 6.4732\n",
      "====> Test set loss: 17.0736\n",
      "Train Epoch: 8 [0/4000 (0%)]\tLoss: 6.480068\n",
      "Train Epoch: 8 [1280/4000 (32%)]\tLoss: 6.530424\n",
      "Train Epoch: 8 [2560/4000 (64%)]\tLoss: 6.716979\n",
      "Train Epoch: 8 [3840/4000 (96%)]\tLoss: 6.555336\n",
      "====> Epoch: 8 Average loss: 6.4170\n",
      "====> Test set loss: 17.0281\n",
      "Train Epoch: 9 [0/4000 (0%)]\tLoss: 6.483744\n",
      "Train Epoch: 9 [1280/4000 (32%)]\tLoss: 6.107954\n",
      "Train Epoch: 9 [2560/4000 (64%)]\tLoss: 6.506589\n",
      "Train Epoch: 9 [3840/4000 (96%)]\tLoss: 6.284665\n",
      "====> Epoch: 9 Average loss: 6.3687\n",
      "====> Test set loss: 17.0120\n",
      "Train Epoch: 10 [0/4000 (0%)]\tLoss: 6.265841\n",
      "Train Epoch: 10 [1280/4000 (32%)]\tLoss: 6.416995\n",
      "Train Epoch: 10 [2560/4000 (64%)]\tLoss: 6.627335\n",
      "Train Epoch: 10 [3840/4000 (96%)]\tLoss: 6.455487\n",
      "====> Epoch: 10 Average loss: 6.3264\n",
      "====> Test set loss: 16.9998\n",
      "Train Epoch: 11 [0/4000 (0%)]\tLoss: 6.347841\n",
      "Train Epoch: 11 [1280/4000 (32%)]\tLoss: 6.427380\n",
      "Train Epoch: 11 [2560/4000 (64%)]\tLoss: 6.091283\n",
      "Train Epoch: 11 [3840/4000 (96%)]\tLoss: 6.375041\n",
      "====> Epoch: 11 Average loss: 6.2891\n",
      "====> Test set loss: 16.9127\n",
      "Train Epoch: 12 [0/4000 (0%)]\tLoss: 6.381680\n",
      "Train Epoch: 12 [1280/4000 (32%)]\tLoss: 6.169864\n",
      "Train Epoch: 12 [2560/4000 (64%)]\tLoss: 6.277218\n",
      "Train Epoch: 12 [3840/4000 (96%)]\tLoss: 6.270780\n",
      "====> Epoch: 12 Average loss: 6.2753\n",
      "====> Test set loss: 16.8558\n",
      "Train Epoch: 13 [0/4000 (0%)]\tLoss: 6.127457\n",
      "Train Epoch: 13 [1280/4000 (32%)]\tLoss: 6.213811\n",
      "Train Epoch: 13 [2560/4000 (64%)]\tLoss: 6.266612\n",
      "Train Epoch: 13 [3840/4000 (96%)]\tLoss: 6.226641\n",
      "====> Epoch: 13 Average loss: 6.2369\n",
      "====> Test set loss: 16.8177\n",
      "Train Epoch: 14 [0/4000 (0%)]\tLoss: 6.017147\n",
      "Train Epoch: 14 [1280/4000 (32%)]\tLoss: 6.104245\n",
      "Train Epoch: 14 [2560/4000 (64%)]\tLoss: 6.312294\n",
      "Train Epoch: 14 [3840/4000 (96%)]\tLoss: 6.155954\n",
      "====> Epoch: 14 Average loss: 6.2167\n",
      "====> Test set loss: 16.8007\n",
      "Train Epoch: 15 [0/4000 (0%)]\tLoss: 6.296331\n",
      "Train Epoch: 15 [1280/4000 (32%)]\tLoss: 6.429549\n",
      "Train Epoch: 15 [2560/4000 (64%)]\tLoss: 6.106196\n",
      "Train Epoch: 15 [3840/4000 (96%)]\tLoss: 5.638452\n",
      "====> Epoch: 15 Average loss: 6.1821\n",
      "====> Test set loss: 16.7798\n",
      "Train Epoch: 16 [0/4000 (0%)]\tLoss: 5.784521\n",
      "Train Epoch: 16 [1280/4000 (32%)]\tLoss: 5.886128\n",
      "Train Epoch: 16 [2560/4000 (64%)]\tLoss: 5.970484\n",
      "Train Epoch: 16 [3840/4000 (96%)]\tLoss: 5.834663\n",
      "====> Epoch: 16 Average loss: 6.1496\n",
      "====> Test set loss: 16.7310\n",
      "Train Epoch: 17 [0/4000 (0%)]\tLoss: 6.493556\n",
      "Train Epoch: 17 [1280/4000 (32%)]\tLoss: 6.538465\n",
      "Train Epoch: 17 [2560/4000 (64%)]\tLoss: 6.174248\n",
      "Train Epoch: 17 [3840/4000 (96%)]\tLoss: 5.943320\n",
      "====> Epoch: 17 Average loss: 6.1209\n",
      "====> Test set loss: 16.7487\n",
      "Train Epoch: 18 [0/4000 (0%)]\tLoss: 6.071372\n",
      "Train Epoch: 18 [1280/4000 (32%)]\tLoss: 6.356735\n",
      "Train Epoch: 18 [2560/4000 (64%)]\tLoss: 6.115577\n",
      "Train Epoch: 18 [3840/4000 (96%)]\tLoss: 6.066781\n",
      "====> Epoch: 18 Average loss: 6.0806\n",
      "====> Test set loss: 16.6893\n",
      "Train Epoch: 19 [0/4000 (0%)]\tLoss: 5.695485\n",
      "Train Epoch: 19 [1280/4000 (32%)]\tLoss: 5.847662\n",
      "Train Epoch: 19 [2560/4000 (64%)]\tLoss: 5.881423\n",
      "Train Epoch: 19 [3840/4000 (96%)]\tLoss: 6.140705\n",
      "====> Epoch: 19 Average loss: 6.0403\n",
      "====> Test set loss: 16.6058\n",
      "Train Epoch: 20 [0/4000 (0%)]\tLoss: 5.857124\n",
      "Train Epoch: 20 [1280/4000 (32%)]\tLoss: 5.800861\n",
      "Train Epoch: 20 [2560/4000 (64%)]\tLoss: 6.444478\n",
      "Train Epoch: 20 [3840/4000 (96%)]\tLoss: 5.824520\n",
      "====> Epoch: 20 Average loss: 6.0043\n",
      "====> Test set loss: 16.5566\n",
      "Train Epoch: 21 [0/4000 (0%)]\tLoss: 6.139254\n",
      "Train Epoch: 21 [1280/4000 (32%)]\tLoss: 5.994491\n",
      "Train Epoch: 21 [2560/4000 (64%)]\tLoss: 6.142058\n",
      "Train Epoch: 21 [3840/4000 (96%)]\tLoss: 5.908755\n",
      "====> Epoch: 21 Average loss: 5.9743\n",
      "====> Test set loss: 16.5421\n",
      "Train Epoch: 22 [0/4000 (0%)]\tLoss: 6.043991\n",
      "Train Epoch: 22 [1280/4000 (32%)]\tLoss: 5.945944\n",
      "Train Epoch: 22 [2560/4000 (64%)]\tLoss: 5.941624\n",
      "Train Epoch: 22 [3840/4000 (96%)]\tLoss: 5.866823\n",
      "====> Epoch: 22 Average loss: 5.9325\n",
      "====> Test set loss: 16.5312\n",
      "Train Epoch: 23 [0/4000 (0%)]\tLoss: 5.770072\n",
      "Train Epoch: 23 [1280/4000 (32%)]\tLoss: 5.801189\n",
      "Train Epoch: 23 [2560/4000 (64%)]\tLoss: 5.860751\n",
      "Train Epoch: 23 [3840/4000 (96%)]\tLoss: 5.829428\n",
      "====> Epoch: 23 Average loss: 5.9157\n",
      "====> Test set loss: 16.4681\n",
      "Train Epoch: 24 [0/4000 (0%)]\tLoss: 5.836315\n",
      "Train Epoch: 24 [1280/4000 (32%)]\tLoss: 6.012181\n",
      "Train Epoch: 24 [2560/4000 (64%)]\tLoss: 5.705913\n",
      "Train Epoch: 24 [3840/4000 (96%)]\tLoss: 5.895569\n",
      "====> Epoch: 24 Average loss: 5.9071\n",
      "====> Test set loss: 16.4680\n",
      "Train Epoch: 25 [0/4000 (0%)]\tLoss: 5.629681\n",
      "Train Epoch: 25 [1280/4000 (32%)]\tLoss: 5.753871\n",
      "Train Epoch: 25 [2560/4000 (64%)]\tLoss: 5.792142\n",
      "Train Epoch: 25 [3840/4000 (96%)]\tLoss: 5.959679\n",
      "====> Epoch: 25 Average loss: 5.8739\n",
      "====> Test set loss: 16.4624\n",
      "Train Epoch: 26 [0/4000 (0%)]\tLoss: 5.965430\n",
      "Train Epoch: 26 [1280/4000 (32%)]\tLoss: 5.645813\n",
      "Train Epoch: 26 [2560/4000 (64%)]\tLoss: 5.809639\n",
      "Train Epoch: 26 [3840/4000 (96%)]\tLoss: 6.193795\n",
      "====> Epoch: 26 Average loss: 5.8907\n",
      "====> Test set loss: 16.4433\n",
      "Train Epoch: 27 [0/4000 (0%)]\tLoss: 5.782059\n",
      "Train Epoch: 27 [1280/4000 (32%)]\tLoss: 5.962022\n",
      "Train Epoch: 27 [2560/4000 (64%)]\tLoss: 5.580315\n",
      "Train Epoch: 27 [3840/4000 (96%)]\tLoss: 6.114537\n",
      "====> Epoch: 27 Average loss: 5.8671\n",
      "====> Test set loss: 16.4265\n",
      "Train Epoch: 28 [0/4000 (0%)]\tLoss: 5.676579\n",
      "Train Epoch: 28 [1280/4000 (32%)]\tLoss: 5.945484\n",
      "Train Epoch: 28 [2560/4000 (64%)]\tLoss: 5.765113\n",
      "Train Epoch: 28 [3840/4000 (96%)]\tLoss: 5.908872\n",
      "====> Epoch: 28 Average loss: 5.8550\n",
      "====> Test set loss: 16.4082\n",
      "Train Epoch: 29 [0/4000 (0%)]\tLoss: 5.586582\n",
      "Train Epoch: 29 [1280/4000 (32%)]\tLoss: 5.692275\n",
      "Train Epoch: 29 [2560/4000 (64%)]\tLoss: 5.623438\n",
      "Train Epoch: 29 [3840/4000 (96%)]\tLoss: 5.939415\n",
      "====> Epoch: 29 Average loss: 5.8375\n",
      "====> Test set loss: 16.3758\n",
      "Train Epoch: 30 [0/4000 (0%)]\tLoss: 5.693781\n",
      "Train Epoch: 30 [1280/4000 (32%)]\tLoss: 5.804242\n",
      "Train Epoch: 30 [2560/4000 (64%)]\tLoss: 6.251395\n",
      "Train Epoch: 30 [3840/4000 (96%)]\tLoss: 5.942711\n",
      "====> Epoch: 30 Average loss: 5.8325\n",
      "====> Test set loss: 16.3764\n",
      "Train Epoch: 31 [0/4000 (0%)]\tLoss: 5.768879\n",
      "Train Epoch: 31 [1280/4000 (32%)]\tLoss: 5.860924\n",
      "Train Epoch: 31 [2560/4000 (64%)]\tLoss: 5.943866\n",
      "Train Epoch: 31 [3840/4000 (96%)]\tLoss: 6.002486\n",
      "====> Epoch: 31 Average loss: 5.8058\n",
      "====> Test set loss: 16.4143\n",
      "Train Epoch: 32 [0/4000 (0%)]\tLoss: 5.960031\n",
      "Train Epoch: 32 [1280/4000 (32%)]\tLoss: 6.009021\n",
      "Train Epoch: 32 [2560/4000 (64%)]\tLoss: 5.858872\n",
      "Train Epoch: 32 [3840/4000 (96%)]\tLoss: 5.982724\n",
      "====> Epoch: 32 Average loss: 5.8211\n",
      "====> Test set loss: 16.3386\n",
      "Train Epoch: 33 [0/4000 (0%)]\tLoss: 5.570322\n"
     ]
    },
    {
     "name": "stdout",
     "output_type": "stream",
     "text": [
      "Train Epoch: 33 [1280/4000 (32%)]\tLoss: 5.994228\n",
      "Train Epoch: 33 [2560/4000 (64%)]\tLoss: 6.030520\n",
      "Train Epoch: 33 [3840/4000 (96%)]\tLoss: 5.593287\n",
      "====> Epoch: 33 Average loss: 5.8083\n",
      "====> Test set loss: 16.4088\n",
      "Train Epoch: 34 [0/4000 (0%)]\tLoss: 5.978364\n",
      "Train Epoch: 34 [1280/4000 (32%)]\tLoss: 5.982869\n",
      "Train Epoch: 34 [2560/4000 (64%)]\tLoss: 5.597217\n",
      "Train Epoch: 34 [3840/4000 (96%)]\tLoss: 5.899381\n",
      "====> Epoch: 34 Average loss: 5.7836\n",
      "====> Test set loss: 16.3929\n",
      "Train Epoch: 35 [0/4000 (0%)]\tLoss: 5.783190\n",
      "Train Epoch: 35 [1280/4000 (32%)]\tLoss: 5.598122\n",
      "Train Epoch: 35 [2560/4000 (64%)]\tLoss: 5.911641\n",
      "Train Epoch: 35 [3840/4000 (96%)]\tLoss: 5.798098\n",
      "====> Epoch: 35 Average loss: 5.7979\n",
      "====> Test set loss: 16.3779\n",
      "Train Epoch: 36 [0/4000 (0%)]\tLoss: 5.746149\n",
      "Train Epoch: 36 [1280/4000 (32%)]\tLoss: 5.673071\n",
      "Train Epoch: 36 [2560/4000 (64%)]\tLoss: 5.799855\n",
      "Train Epoch: 36 [3840/4000 (96%)]\tLoss: 6.031126\n",
      "====> Epoch: 36 Average loss: 5.8011\n",
      "====> Test set loss: 16.3575\n",
      "Train Epoch: 37 [0/4000 (0%)]\tLoss: 5.947552\n",
      "Train Epoch: 37 [1280/4000 (32%)]\tLoss: 5.969201\n",
      "Train Epoch: 37 [2560/4000 (64%)]\tLoss: 5.426183\n",
      "Train Epoch: 37 [3840/4000 (96%)]\tLoss: 5.659766\n",
      "====> Epoch: 37 Average loss: 5.7856\n",
      "====> Test set loss: 16.3367\n",
      "Train Epoch: 38 [0/4000 (0%)]\tLoss: 5.907727\n",
      "Train Epoch: 38 [1280/4000 (32%)]\tLoss: 5.859684\n",
      "Train Epoch: 38 [2560/4000 (64%)]\tLoss: 6.215934\n",
      "Train Epoch: 38 [3840/4000 (96%)]\tLoss: 5.786956\n",
      "====> Epoch: 38 Average loss: 5.7835\n",
      "====> Test set loss: 16.3610\n",
      "Train Epoch: 39 [0/4000 (0%)]\tLoss: 5.691721\n",
      "Train Epoch: 39 [1280/4000 (32%)]\tLoss: 5.997086\n",
      "Train Epoch: 39 [2560/4000 (64%)]\tLoss: 5.978383\n",
      "Train Epoch: 39 [3840/4000 (96%)]\tLoss: 5.758012\n",
      "====> Epoch: 39 Average loss: 5.7816\n",
      "====> Test set loss: 16.3283\n",
      "Train Epoch: 40 [0/4000 (0%)]\tLoss: 5.608979\n",
      "Train Epoch: 40 [1280/4000 (32%)]\tLoss: 5.646009\n",
      "Train Epoch: 40 [2560/4000 (64%)]\tLoss: 5.722291\n",
      "Train Epoch: 40 [3840/4000 (96%)]\tLoss: 5.828291\n",
      "====> Epoch: 40 Average loss: 5.7662\n",
      "====> Test set loss: 16.3087\n",
      "Train Epoch: 41 [0/4000 (0%)]\tLoss: 6.036457\n",
      "Train Epoch: 41 [1280/4000 (32%)]\tLoss: 5.640835\n",
      "Train Epoch: 41 [2560/4000 (64%)]\tLoss: 5.629264\n",
      "Train Epoch: 41 [3840/4000 (96%)]\tLoss: 5.872087\n",
      "====> Epoch: 41 Average loss: 5.7371\n",
      "====> Test set loss: 16.2773\n",
      "Train Epoch: 42 [0/4000 (0%)]\tLoss: 5.710727\n",
      "Train Epoch: 42 [1280/4000 (32%)]\tLoss: 5.728333\n",
      "Train Epoch: 42 [2560/4000 (64%)]\tLoss: 5.523361\n",
      "Train Epoch: 42 [3840/4000 (96%)]\tLoss: 5.808943\n",
      "====> Epoch: 42 Average loss: 5.7233\n",
      "====> Test set loss: 16.2373\n",
      "Train Epoch: 43 [0/4000 (0%)]\tLoss: 5.613236\n",
      "Train Epoch: 43 [1280/4000 (32%)]\tLoss: 5.664737\n",
      "Train Epoch: 43 [2560/4000 (64%)]\tLoss: 5.906525\n",
      "Train Epoch: 43 [3840/4000 (96%)]\tLoss: 5.766557\n",
      "====> Epoch: 43 Average loss: 5.7109\n",
      "====> Test set loss: 16.2692\n",
      "Train Epoch: 44 [0/4000 (0%)]\tLoss: 5.667623\n",
      "Train Epoch: 44 [1280/4000 (32%)]\tLoss: 6.007842\n",
      "Train Epoch: 44 [2560/4000 (64%)]\tLoss: 5.727509\n",
      "Train Epoch: 44 [3840/4000 (96%)]\tLoss: 5.684147\n",
      "====> Epoch: 44 Average loss: 5.7226\n",
      "====> Test set loss: 16.2923\n",
      "Train Epoch: 45 [0/4000 (0%)]\tLoss: 5.564205\n",
      "Train Epoch: 45 [1280/4000 (32%)]\tLoss: 5.893180\n",
      "Train Epoch: 45 [2560/4000 (64%)]\tLoss: 5.699396\n",
      "Train Epoch: 45 [3840/4000 (96%)]\tLoss: 5.826172\n",
      "====> Epoch: 45 Average loss: 5.7038\n",
      "====> Test set loss: 16.1816\n",
      "Train Epoch: 46 [0/4000 (0%)]\tLoss: 5.634628\n",
      "Train Epoch: 46 [1280/4000 (32%)]\tLoss: 5.799866\n",
      "Train Epoch: 46 [2560/4000 (64%)]\tLoss: 5.918568\n",
      "Train Epoch: 46 [3840/4000 (96%)]\tLoss: 5.529622\n",
      "====> Epoch: 46 Average loss: 5.6708\n",
      "====> Test set loss: 16.2260\n",
      "Train Epoch: 47 [0/4000 (0%)]\tLoss: 5.653765\n",
      "Train Epoch: 47 [1280/4000 (32%)]\tLoss: 5.283326\n",
      "Train Epoch: 47 [2560/4000 (64%)]\tLoss: 5.661169\n",
      "Train Epoch: 47 [3840/4000 (96%)]\tLoss: 5.710719\n",
      "====> Epoch: 47 Average loss: 5.6786\n",
      "====> Test set loss: 16.1230\n",
      "Train Epoch: 48 [0/4000 (0%)]\tLoss: 5.738130\n",
      "Train Epoch: 48 [1280/4000 (32%)]\tLoss: 5.282795\n",
      "Train Epoch: 48 [2560/4000 (64%)]\tLoss: 5.537126\n",
      "Train Epoch: 48 [3840/4000 (96%)]\tLoss: 5.394859\n",
      "====> Epoch: 48 Average loss: 5.6663\n",
      "====> Test set loss: 16.1449\n",
      "Train Epoch: 49 [0/4000 (0%)]\tLoss: 5.663391\n",
      "Train Epoch: 49 [1280/4000 (32%)]\tLoss: 5.638316\n",
      "Train Epoch: 49 [2560/4000 (64%)]\tLoss: 5.868351\n",
      "Train Epoch: 49 [3840/4000 (96%)]\tLoss: 5.274017\n",
      "====> Epoch: 49 Average loss: 5.6335\n",
      "====> Test set loss: 16.1255\n",
      "Train Epoch: 50 [0/4000 (0%)]\tLoss: 5.337204\n",
      "Train Epoch: 50 [1280/4000 (32%)]\tLoss: 5.790874\n",
      "Train Epoch: 50 [2560/4000 (64%)]\tLoss: 5.530893\n",
      "Train Epoch: 50 [3840/4000 (96%)]\tLoss: 5.327760\n",
      "====> Epoch: 50 Average loss: 5.6221\n",
      "====> Test set loss: 16.1241\n"
     ]
    }
   ],
   "source": [
    "gradients = torch.zeros(train_data.shape[1]).to(device)\n",
    "for epoch in range(1, n_epochs+1):\n",
    "    grads=train_truncated_with_gradients(train_data, vae_gumbel_truncated, \n",
    "                                         vae_gumbel_trunc_optimizer, epoch, batch_size, Dim = int(D/2))\n",
    "    if epoch > 5:\n",
    "        gradients += grads\n",
    "    if epoch > 10:\n",
    "        vae_gumbel_truncated.t = 0.1\n",
    "    test(test_data, vae_gumbel_truncated, epoch, batch_size)\n",
    "    \n",
    "gradients = gradients"
   ]
  },
  {
   "cell_type": "markdown",
   "metadata": {},
   "source": [
    "Visualize the selections"
   ]
  },
  {
   "cell_type": "code",
   "execution_count": 11,
   "metadata": {},
   "outputs": [
    {
     "data": {
      "text/plain": [
       "<matplotlib.axes._subplots.AxesSubplot at 0x7f13792d2590>"
      ]
     },
     "execution_count": 11,
     "metadata": {},
     "output_type": "execute_result"
    },
    {
     "data": {
      "image/png": "[encoded data removed]",
      "text/plain": [
       "<Figure size 432x288 with 2 Axes>"
      ]
     },
     "metadata": {
      "needs_background": "light"
     },
     "output_type": "display_data"
    }
   ],
   "source": [
    "sns.heatmap(gradients.clone().detach().cpu().numpy()[:, np.newaxis])"
   ]
  },
  {
   "cell_type": "code",
   "execution_count": 12,
   "metadata": {},
   "outputs": [],
   "source": [
    "with torch.no_grad():\n",
    "    w = vae_gumbel_truncated.weight_creator(test_data[0:10, :])\n",
    "    subset_indices = sample_subset(w, k=3*z_size, t=0.01).cpu()"
   ]
  },
  {
   "cell_type": "code",
   "execution_count": 13,
   "metadata": {},
   "outputs": [
    {
     "data": {
      "text/plain": [
       "<matplotlib.axes._subplots.AxesSubplot at 0x7f1370190890>"
      ]
     },
     "execution_count": 13,
     "metadata": {},
     "output_type": "execute_result"
    },
    {
     "data": {
      "image/png": "[encoded data removed]",
      "text/plain": [
       "<Figure size 432x288 with 2 Axes>"
      ]
     },
     "metadata": {
      "needs_background": "light"
     },
     "output_type": "display_data"
    }
   ],
   "source": [
    "sns.heatmap(subset_indices.sum(dim = 0).clone().detach().cpu().numpy()[:, np.newaxis])"
   ]
  },
  {
   "cell_type": "markdown",
   "metadata": {},
   "source": [
    "Print out the values to see if our predictions are close."
   ]
  },
  {
   "cell_type": "code",
   "execution_count": 14,
   "metadata": {},
   "outputs": [
    {
     "data": {
      "text/plain": [
       "tensor([0.0978, 0.3031, 0.1394, 0.2099, 0.2063, 0.2098, 0.1076, 0.2316, 0.0298,\n",
       "        0.1968, 0.0261, 0.0561, 0.0848, 0.2727, 0.2320, 0.3355, 0.2739, 0.0056,\n",
       "        0.0301, 0.0953, 0.0889, 0.2483, 0.0063, 0.0231, 0.0009, 0.0924, 0.4782,\n",
       "        0.3251, 0.2092, 0.2881], device='cuda:0')"
      ]
     },
     "execution_count": 14,
     "metadata": {},
     "output_type": "execute_result"
    }
   ],
   "source": [
    "test_data.mean(dim = 0)[:D]"
   ]
  },
  {
   "cell_type": "code",
   "execution_count": 15,
   "metadata": {},
   "outputs": [
    {
     "data": {
      "text/plain": [
       "tensor([0.0723, 0.2725, 0.1108, 0.2433, 0.2462, 0.2292, 0.0998, 0.2706, 0.0307,\n",
       "        0.2064, 0.0224, 0.0537, 0.0900, 0.2398, 0.2477, 0.5886, 0.5253, 0.4511,\n",
       "        0.5892, 0.4499, 0.4474, 0.4963, 0.4496, 0.4943, 0.4809, 0.5092, 0.4741,\n",
       "        0.5025, 0.4630, 0.5358], device='cuda:0', grad_fn=<SliceBackward>)"
      ]
     },
     "execution_count": 15,
     "metadata": {},
     "output_type": "execute_result"
    }
   ],
   "source": [
    "vae_gumbel_truncated(test_data)[0].mean(dim = 0)[:D]"
   ]
  },
  {
   "cell_type": "code",
   "execution_count": 16,
   "metadata": {},
   "outputs": [
    {
     "data": {
      "text/plain": [
       "tensor([0.1913, 0.2338, 0.2076, 0.2199, 0.2306, 0.1890, 0.1805, 0.1945, 0.1051,\n",
       "        0.2321, 0.0976, 0.1389, 0.1652, 0.1922, 0.2341, 0.2330, 0.2048, 0.0390,\n",
       "        0.0929, 0.1692, 0.1755, 0.2236, 0.0499, 0.0923, 0.0152, 0.1863, 0.1593,\n",
       "        0.2244, 0.2096, 0.2350], device='cuda:0')"
      ]
     },
     "execution_count": 16,
     "metadata": {},
     "output_type": "execute_result"
    }
   ],
   "source": [
    "test_data.std(dim = 0)[:D]"
   ]
  },
  {
   "cell_type": "code",
   "execution_count": 17,
   "metadata": {},
   "outputs": [
    {
     "data": {
      "text/plain": [
       "tensor([0.0725, 0.1197, 0.1243, 0.0906, 0.1169, 0.0687, 0.1216, 0.0977, 0.0424,\n",
       "        0.1939, 0.0163, 0.0497, 0.1313, 0.1116, 0.1648, 0.0631, 0.0534, 0.0668,\n",
       "        0.0727, 0.0661, 0.0594, 0.0592, 0.0667, 0.0611, 0.0626, 0.0836, 0.0849,\n",
       "        0.0601, 0.0737, 0.0540], device='cuda:0', grad_fn=<SliceBackward>)"
      ]
     },
     "execution_count": 17,
     "metadata": {},
     "output_type": "execute_result"
    }
   ],
   "source": [
    "vae_gumbel_truncated(test_data)[0].std(dim = 0)[:D]"
   ]
  },
  {
   "cell_type": "markdown",
   "metadata": {},
   "source": [
    "Now do the same when the loss is calculated over all the features. We keep all the features non-noisy."
   ]
  },
  {
   "cell_type": "code",
   "execution_count": 18,
   "metadata": {},
   "outputs": [],
   "source": [
    "# let's see how it does here\n",
    "vae_gumbel_truncated = VAE_Gumbel_NInsta(D, 100, 20, k = 3*z_size, t = global_t)\n",
    "vae_gumbel_truncated.to(device)\n",
    "vae_gumbel_trunc_optimizer = torch.optim.Adam(vae_gumbel_truncated.parameters(), \n",
    "                                                lr=lr, \n",
    "                                                betas = (b1,b2))"
   ]
  },
  {
   "cell_type": "code",
   "execution_count": 19,
   "metadata": {},
   "outputs": [
    {
     "name": "stdout",
     "output_type": "stream",
     "text": [
      "Train Epoch: 1 [0/4000 (0%)]\tLoss: 20.870155\n",
      "Train Epoch: 1 [1280/4000 (32%)]\tLoss: 19.960140\n",
      "Train Epoch: 1 [2560/4000 (64%)]\tLoss: 19.194572\n",
      "Train Epoch: 1 [3840/4000 (96%)]\tLoss: 18.370110\n",
      "====> Epoch: 1 Average loss: 19.5208\n",
      "====> Test set loss: 18.1819\n",
      "Train Epoch: 2 [0/4000 (0%)]\tLoss: 18.204750\n",
      "Train Epoch: 2 [1280/4000 (32%)]\tLoss: 17.318251\n",
      "Train Epoch: 2 [2560/4000 (64%)]\tLoss: 16.435675\n",
      "Train Epoch: 2 [3840/4000 (96%)]\tLoss: 15.259007\n",
      "====> Epoch: 2 Average loss: 16.7961\n",
      "====> Test set loss: 15.0355\n",
      "Train Epoch: 3 [0/4000 (0%)]\tLoss: 15.067239\n",
      "Train Epoch: 3 [1280/4000 (32%)]\tLoss: 14.500895\n",
      "Train Epoch: 3 [2560/4000 (64%)]\tLoss: 13.919978\n",
      "Train Epoch: 3 [3840/4000 (96%)]\tLoss: 13.610239\n",
      "====> Epoch: 3 Average loss: 14.2072\n",
      "====> Test set loss: 13.5598\n",
      "Train Epoch: 4 [0/4000 (0%)]\tLoss: 13.512154\n",
      "Train Epoch: 4 [1280/4000 (32%)]\tLoss: 13.049765\n",
      "Train Epoch: 4 [2560/4000 (64%)]\tLoss: 13.209951\n",
      "Train Epoch: 4 [3840/4000 (96%)]\tLoss: 13.473091\n",
      "====> Epoch: 4 Average loss: 13.2288\n",
      "====> Test set loss: 12.9940\n",
      "Train Epoch: 5 [0/4000 (0%)]\tLoss: 13.231510\n",
      "Train Epoch: 5 [1280/4000 (32%)]\tLoss: 12.680857\n",
      "Train Epoch: 5 [2560/4000 (64%)]\tLoss: 12.607175\n",
      "Train Epoch: 5 [3840/4000 (96%)]\tLoss: 12.534602\n",
      "====> Epoch: 5 Average loss: 12.8280\n",
      "====> Test set loss: 12.6692\n",
      "Train Epoch: 6 [0/4000 (0%)]\tLoss: 12.708134\n",
      "Train Epoch: 6 [1280/4000 (32%)]\tLoss: 12.984596\n",
      "Train Epoch: 6 [2560/4000 (64%)]\tLoss: 12.442845\n",
      "Train Epoch: 6 [3840/4000 (96%)]\tLoss: 12.295327\n",
      "====> Epoch: 6 Average loss: 12.5858\n",
      "====> Test set loss: 12.4760\n",
      "Train Epoch: 7 [0/4000 (0%)]\tLoss: 12.727048\n",
      "Train Epoch: 7 [1280/4000 (32%)]\tLoss: 12.456384\n",
      "Train Epoch: 7 [2560/4000 (64%)]\tLoss: 12.331480\n",
      "Train Epoch: 7 [3840/4000 (96%)]\tLoss: 11.947690\n",
      "====> Epoch: 7 Average loss: 12.4237\n",
      "====> Test set loss: 12.3610\n",
      "Train Epoch: 8 [0/4000 (0%)]\tLoss: 12.304271\n",
      "Train Epoch: 8 [1280/4000 (32%)]\tLoss: 12.253939\n",
      "Train Epoch: 8 [2560/4000 (64%)]\tLoss: 12.458853\n",
      "Train Epoch: 8 [3840/4000 (96%)]\tLoss: 12.236322\n",
      "====> Epoch: 8 Average loss: 12.2924\n",
      "====> Test set loss: 12.2119\n",
      "Train Epoch: 9 [0/4000 (0%)]\tLoss: 12.299989\n",
      "Train Epoch: 9 [1280/4000 (32%)]\tLoss: 12.573852\n",
      "Train Epoch: 9 [2560/4000 (64%)]\tLoss: 12.503789\n",
      "Train Epoch: 9 [3840/4000 (96%)]\tLoss: 12.453973\n",
      "====> Epoch: 9 Average loss: 12.2144\n",
      "====> Test set loss: 12.1665\n",
      "Train Epoch: 10 [0/4000 (0%)]\tLoss: 12.238624\n",
      "Train Epoch: 10 [1280/4000 (32%)]\tLoss: 12.388555\n",
      "Train Epoch: 10 [2560/4000 (64%)]\tLoss: 12.553123\n",
      "Train Epoch: 10 [3840/4000 (96%)]\tLoss: 11.819516\n",
      "====> Epoch: 10 Average loss: 12.1361\n",
      "====> Test set loss: 12.0943\n",
      "Train Epoch: 11 [0/4000 (0%)]\tLoss: 12.154721\n",
      "Train Epoch: 11 [1280/4000 (32%)]\tLoss: 11.977881\n",
      "Train Epoch: 11 [2560/4000 (64%)]\tLoss: 12.186426\n",
      "Train Epoch: 11 [3840/4000 (96%)]\tLoss: 11.953444\n",
      "====> Epoch: 11 Average loss: 12.0838\n",
      "====> Test set loss: 12.0397\n",
      "Train Epoch: 12 [0/4000 (0%)]\tLoss: 12.171670\n",
      "Train Epoch: 12 [1280/4000 (32%)]\tLoss: 12.036248\n",
      "Train Epoch: 12 [2560/4000 (64%)]\tLoss: 11.819390\n",
      "Train Epoch: 12 [3840/4000 (96%)]\tLoss: 12.263078\n",
      "====> Epoch: 12 Average loss: 12.0599\n",
      "====> Test set loss: 12.0372\n",
      "Train Epoch: 13 [0/4000 (0%)]\tLoss: 11.782436\n",
      "Train Epoch: 13 [1280/4000 (32%)]\tLoss: 12.023368\n",
      "Train Epoch: 13 [2560/4000 (64%)]\tLoss: 12.215362\n",
      "Train Epoch: 13 [3840/4000 (96%)]\tLoss: 12.390973\n",
      "====> Epoch: 13 Average loss: 12.0264\n",
      "====> Test set loss: 11.9796\n",
      "Train Epoch: 14 [0/4000 (0%)]\tLoss: 11.808447\n",
      "Train Epoch: 14 [1280/4000 (32%)]\tLoss: 12.549583\n",
      "Train Epoch: 14 [2560/4000 (64%)]\tLoss: 12.089308\n",
      "Train Epoch: 14 [3840/4000 (96%)]\tLoss: 11.889318\n",
      "====> Epoch: 14 Average loss: 11.9624\n",
      "====> Test set loss: 11.9499\n",
      "Train Epoch: 15 [0/4000 (0%)]\tLoss: 12.062263\n",
      "Train Epoch: 15 [1280/4000 (32%)]\tLoss: 11.988182\n",
      "Train Epoch: 15 [2560/4000 (64%)]\tLoss: 12.373759\n",
      "Train Epoch: 15 [3840/4000 (96%)]\tLoss: 11.629896\n",
      "====> Epoch: 15 Average loss: 11.9419\n",
      "====> Test set loss: 11.8872\n",
      "Train Epoch: 16 [0/4000 (0%)]\tLoss: 12.036036\n",
      "Train Epoch: 16 [1280/4000 (32%)]\tLoss: 11.735325\n",
      "Train Epoch: 16 [2560/4000 (64%)]\tLoss: 12.124424\n",
      "Train Epoch: 16 [3840/4000 (96%)]\tLoss: 11.656000\n",
      "====> Epoch: 16 Average loss: 11.8960\n",
      "====> Test set loss: 11.8058\n",
      "Train Epoch: 17 [0/4000 (0%)]\tLoss: 12.057304\n",
      "Train Epoch: 17 [1280/4000 (32%)]\tLoss: 11.970687\n",
      "Train Epoch: 17 [2560/4000 (64%)]\tLoss: 11.308255\n",
      "Train Epoch: 17 [3840/4000 (96%)]\tLoss: 11.388789\n",
      "====> Epoch: 17 Average loss: 11.8199\n",
      "====> Test set loss: 11.7553\n",
      "Train Epoch: 18 [0/4000 (0%)]\tLoss: 11.780087\n",
      "Train Epoch: 18 [1280/4000 (32%)]\tLoss: 11.557651\n",
      "Train Epoch: 18 [2560/4000 (64%)]\tLoss: 11.512178\n",
      "Train Epoch: 18 [3840/4000 (96%)]\tLoss: 11.617936\n",
      "====> Epoch: 18 Average loss: 11.7254\n",
      "====> Test set loss: 11.6342\n",
      "Train Epoch: 19 [0/4000 (0%)]\tLoss: 11.889426\n",
      "Train Epoch: 19 [1280/4000 (32%)]\tLoss: 11.627471\n",
      "Train Epoch: 19 [2560/4000 (64%)]\tLoss: 11.523501\n",
      "Train Epoch: 19 [3840/4000 (96%)]\tLoss: 11.662474\n",
      "====> Epoch: 19 Average loss: 11.6175\n",
      "====> Test set loss: 11.5558\n",
      "Train Epoch: 20 [0/4000 (0%)]\tLoss: 12.136449\n",
      "Train Epoch: 20 [1280/4000 (32%)]\tLoss: 11.476753\n",
      "Train Epoch: 20 [2560/4000 (64%)]\tLoss: 11.525683\n",
      "Train Epoch: 20 [3840/4000 (96%)]\tLoss: 11.720364\n",
      "====> Epoch: 20 Average loss: 11.5277\n",
      "====> Test set loss: 11.4225\n",
      "Train Epoch: 21 [0/4000 (0%)]\tLoss: 11.633521\n",
      "Train Epoch: 21 [1280/4000 (32%)]\tLoss: 11.396595\n",
      "Train Epoch: 21 [2560/4000 (64%)]\tLoss: 11.612123\n",
      "Train Epoch: 21 [3840/4000 (96%)]\tLoss: 11.213796\n",
      "====> Epoch: 21 Average loss: 11.4201\n",
      "====> Test set loss: 11.3120\n",
      "Train Epoch: 22 [0/4000 (0%)]\tLoss: 11.134829\n",
      "Train Epoch: 22 [1280/4000 (32%)]\tLoss: 11.209304\n",
      "Train Epoch: 22 [2560/4000 (64%)]\tLoss: 10.795856\n",
      "Train Epoch: 22 [3840/4000 (96%)]\tLoss: 11.330512\n",
      "====> Epoch: 22 Average loss: 11.3489\n",
      "====> Test set loss: 11.2841\n",
      "Train Epoch: 23 [0/4000 (0%)]\tLoss: 11.587430\n",
      "Train Epoch: 23 [1280/4000 (32%)]\tLoss: 10.928200\n",
      "Train Epoch: 23 [2560/4000 (64%)]\tLoss: 10.996296\n",
      "Train Epoch: 23 [3840/4000 (96%)]\tLoss: 11.223490\n",
      "====> Epoch: 23 Average loss: 11.2716\n",
      "====> Test set loss: 11.2740\n",
      "Train Epoch: 24 [0/4000 (0%)]\tLoss: 11.186312\n",
      "Train Epoch: 24 [1280/4000 (32%)]\tLoss: 11.329554\n",
      "Train Epoch: 24 [2560/4000 (64%)]\tLoss: 11.491168\n",
      "Train Epoch: 24 [3840/4000 (96%)]\tLoss: 11.020967\n",
      "====> Epoch: 24 Average loss: 11.2389\n",
      "====> Test set loss: 11.1327\n",
      "Train Epoch: 25 [0/4000 (0%)]\tLoss: 11.491358\n",
      "Train Epoch: 25 [1280/4000 (32%)]\tLoss: 10.822961\n",
      "Train Epoch: 25 [2560/4000 (64%)]\tLoss: 11.221913\n",
      "Train Epoch: 25 [3840/4000 (96%)]\tLoss: 11.011796\n",
      "====> Epoch: 25 Average loss: 11.1736\n",
      "====> Test set loss: 11.1187\n",
      "Train Epoch: 26 [0/4000 (0%)]\tLoss: 11.294405\n",
      "Train Epoch: 26 [1280/4000 (32%)]\tLoss: 11.077533\n",
      "Train Epoch: 26 [2560/4000 (64%)]\tLoss: 11.038929\n",
      "Train Epoch: 26 [3840/4000 (96%)]\tLoss: 11.061684\n",
      "====> Epoch: 26 Average loss: 11.1449\n",
      "====> Test set loss: 11.0271\n",
      "Train Epoch: 27 [0/4000 (0%)]\tLoss: 11.371720\n",
      "Train Epoch: 27 [1280/4000 (32%)]\tLoss: 11.066154\n",
      "Train Epoch: 27 [2560/4000 (64%)]\tLoss: 11.824573\n",
      "Train Epoch: 27 [3840/4000 (96%)]\tLoss: 11.279622\n",
      "====> Epoch: 27 Average loss: 11.1064\n",
      "====> Test set loss: 11.0629\n",
      "Train Epoch: 28 [0/4000 (0%)]\tLoss: 11.038867\n",
      "Train Epoch: 28 [1280/4000 (32%)]\tLoss: 11.254529\n",
      "Train Epoch: 28 [2560/4000 (64%)]\tLoss: 11.549279\n",
      "Train Epoch: 28 [3840/4000 (96%)]\tLoss: 10.970607\n",
      "====> Epoch: 28 Average loss: 11.0685\n",
      "====> Test set loss: 11.0259\n",
      "Train Epoch: 29 [0/4000 (0%)]\tLoss: 11.463100\n",
      "Train Epoch: 29 [1280/4000 (32%)]\tLoss: 11.172876\n",
      "Train Epoch: 29 [2560/4000 (64%)]\tLoss: 11.071051\n",
      "Train Epoch: 29 [3840/4000 (96%)]\tLoss: 11.024437\n",
      "====> Epoch: 29 Average loss: 11.0459\n",
      "====> Test set loss: 11.0274\n",
      "Train Epoch: 30 [0/4000 (0%)]\tLoss: 10.899508\n",
      "Train Epoch: 30 [1280/4000 (32%)]\tLoss: 11.318254\n",
      "Train Epoch: 30 [2560/4000 (64%)]\tLoss: 10.344438\n",
      "Train Epoch: 30 [3840/4000 (96%)]\tLoss: 11.124943\n",
      "====> Epoch: 30 Average loss: 11.0219\n",
      "====> Test set loss: 10.9797\n",
      "Train Epoch: 31 [0/4000 (0%)]\tLoss: 11.624239\n",
      "Train Epoch: 31 [1280/4000 (32%)]\tLoss: 11.482255\n",
      "Train Epoch: 31 [2560/4000 (64%)]\tLoss: 10.808919\n",
      "Train Epoch: 31 [3840/4000 (96%)]\tLoss: 10.810449\n",
      "====> Epoch: 31 Average loss: 10.9887\n",
      "====> Test set loss: 10.9486\n",
      "Train Epoch: 32 [0/4000 (0%)]\tLoss: 10.969516\n",
      "Train Epoch: 32 [1280/4000 (32%)]\tLoss: 10.950982\n"
     ]
    },
    {
     "name": "stdout",
     "output_type": "stream",
     "text": [
      "Train Epoch: 32 [2560/4000 (64%)]\tLoss: 10.778258\n",
      "Train Epoch: 32 [3840/4000 (96%)]\tLoss: 11.354824\n",
      "====> Epoch: 32 Average loss: 10.9596\n",
      "====> Test set loss: 10.8758\n",
      "Train Epoch: 33 [0/4000 (0%)]\tLoss: 10.881223\n",
      "Train Epoch: 33 [1280/4000 (32%)]\tLoss: 10.923767\n",
      "Train Epoch: 33 [2560/4000 (64%)]\tLoss: 10.985347\n",
      "Train Epoch: 33 [3840/4000 (96%)]\tLoss: 10.736973\n",
      "====> Epoch: 33 Average loss: 10.8941\n",
      "====> Test set loss: 10.8235\n",
      "Train Epoch: 34 [0/4000 (0%)]\tLoss: 10.937256\n",
      "Train Epoch: 34 [1280/4000 (32%)]\tLoss: 11.183161\n",
      "Train Epoch: 34 [2560/4000 (64%)]\tLoss: 10.785748\n",
      "Train Epoch: 34 [3840/4000 (96%)]\tLoss: 10.614501\n",
      "====> Epoch: 34 Average loss: 10.9001\n",
      "====> Test set loss: 10.8384\n",
      "Train Epoch: 35 [0/4000 (0%)]\tLoss: 10.642886\n",
      "Train Epoch: 35 [1280/4000 (32%)]\tLoss: 10.946718\n",
      "Train Epoch: 35 [2560/4000 (64%)]\tLoss: 10.899540\n",
      "Train Epoch: 35 [3840/4000 (96%)]\tLoss: 10.947985\n",
      "====> Epoch: 35 Average loss: 10.8263\n",
      "====> Test set loss: 10.7475\n",
      "Train Epoch: 36 [0/4000 (0%)]\tLoss: 10.709097\n",
      "Train Epoch: 36 [1280/4000 (32%)]\tLoss: 10.847151\n",
      "Train Epoch: 36 [2560/4000 (64%)]\tLoss: 11.274919\n",
      "Train Epoch: 36 [3840/4000 (96%)]\tLoss: 10.497417\n",
      "====> Epoch: 36 Average loss: 10.7999\n",
      "====> Test set loss: 10.8068\n",
      "Train Epoch: 37 [0/4000 (0%)]\tLoss: 10.544708\n",
      "Train Epoch: 37 [1280/4000 (32%)]\tLoss: 10.483947\n",
      "Train Epoch: 37 [2560/4000 (64%)]\tLoss: 10.806014\n",
      "Train Epoch: 37 [3840/4000 (96%)]\tLoss: 10.675930\n",
      "====> Epoch: 37 Average loss: 10.7564\n",
      "====> Test set loss: 10.7165\n",
      "Train Epoch: 38 [0/4000 (0%)]\tLoss: 10.704087\n",
      "Train Epoch: 38 [1280/4000 (32%)]\tLoss: 10.425450\n",
      "Train Epoch: 38 [2560/4000 (64%)]\tLoss: 10.849393\n",
      "Train Epoch: 38 [3840/4000 (96%)]\tLoss: 10.631173\n",
      "====> Epoch: 38 Average loss: 10.7519\n",
      "====> Test set loss: 10.7315\n",
      "Train Epoch: 39 [0/4000 (0%)]\tLoss: 10.614741\n",
      "Train Epoch: 39 [1280/4000 (32%)]\tLoss: 10.756127\n",
      "Train Epoch: 39 [2560/4000 (64%)]\tLoss: 10.437092\n",
      "Train Epoch: 39 [3840/4000 (96%)]\tLoss: 10.409025\n",
      "====> Epoch: 39 Average loss: 10.6743\n",
      "====> Test set loss: 10.6559\n",
      "Train Epoch: 40 [0/4000 (0%)]\tLoss: 10.655912\n",
      "Train Epoch: 40 [1280/4000 (32%)]\tLoss: 10.734360\n",
      "Train Epoch: 40 [2560/4000 (64%)]\tLoss: 10.871384\n",
      "Train Epoch: 40 [3840/4000 (96%)]\tLoss: 11.022768\n",
      "====> Epoch: 40 Average loss: 10.6562\n",
      "====> Test set loss: 10.6020\n",
      "Train Epoch: 41 [0/4000 (0%)]\tLoss: 10.816217\n",
      "Train Epoch: 41 [1280/4000 (32%)]\tLoss: 10.544459\n",
      "Train Epoch: 41 [2560/4000 (64%)]\tLoss: 10.367709\n",
      "Train Epoch: 41 [3840/4000 (96%)]\tLoss: 10.344109\n",
      "====> Epoch: 41 Average loss: 10.6329\n",
      "====> Test set loss: 10.5954\n",
      "Train Epoch: 42 [0/4000 (0%)]\tLoss: 10.536823\n",
      "Train Epoch: 42 [1280/4000 (32%)]\tLoss: 11.029982\n",
      "Train Epoch: 42 [2560/4000 (64%)]\tLoss: 10.557474\n",
      "Train Epoch: 42 [3840/4000 (96%)]\tLoss: 10.475102\n",
      "====> Epoch: 42 Average loss: 10.5963\n",
      "====> Test set loss: 10.5407\n",
      "Train Epoch: 43 [0/4000 (0%)]\tLoss: 10.598855\n",
      "Train Epoch: 43 [1280/4000 (32%)]\tLoss: 10.631427\n",
      "Train Epoch: 43 [2560/4000 (64%)]\tLoss: 10.466350\n",
      "Train Epoch: 43 [3840/4000 (96%)]\tLoss: 10.545608\n",
      "====> Epoch: 43 Average loss: 10.6011\n",
      "====> Test set loss: 10.5869\n",
      "Train Epoch: 44 [0/4000 (0%)]\tLoss: 10.721181\n",
      "Train Epoch: 44 [1280/4000 (32%)]\tLoss: 10.425979\n",
      "Train Epoch: 44 [2560/4000 (64%)]\tLoss: 10.678950\n",
      "Train Epoch: 44 [3840/4000 (96%)]\tLoss: 10.290699\n",
      "====> Epoch: 44 Average loss: 10.5818\n",
      "====> Test set loss: 10.5108\n",
      "Train Epoch: 45 [0/4000 (0%)]\tLoss: 10.585664\n",
      "Train Epoch: 45 [1280/4000 (32%)]\tLoss: 10.458451\n",
      "Train Epoch: 45 [2560/4000 (64%)]\tLoss: 10.169127\n",
      "Train Epoch: 45 [3840/4000 (96%)]\tLoss: 10.323301\n",
      "====> Epoch: 45 Average loss: 10.5440\n",
      "====> Test set loss: 10.5278\n",
      "Train Epoch: 46 [0/4000 (0%)]\tLoss: 10.409440\n",
      "Train Epoch: 46 [1280/4000 (32%)]\tLoss: 10.695813\n",
      "Train Epoch: 46 [2560/4000 (64%)]\tLoss: 10.703066\n",
      "Train Epoch: 46 [3840/4000 (96%)]\tLoss: 10.894125\n",
      "====> Epoch: 46 Average loss: 10.5415\n",
      "====> Test set loss: 10.5064\n",
      "Train Epoch: 47 [0/4000 (0%)]\tLoss: 10.249372\n",
      "Train Epoch: 47 [1280/4000 (32%)]\tLoss: 10.505456\n",
      "Train Epoch: 47 [2560/4000 (64%)]\tLoss: 10.354534\n",
      "Train Epoch: 47 [3840/4000 (96%)]\tLoss: 10.532875\n",
      "====> Epoch: 47 Average loss: 10.5311\n",
      "====> Test set loss: 10.5150\n",
      "Train Epoch: 48 [0/4000 (0%)]\tLoss: 10.377612\n",
      "Train Epoch: 48 [1280/4000 (32%)]\tLoss: 10.789891\n",
      "Train Epoch: 48 [2560/4000 (64%)]\tLoss: 10.422205\n",
      "Train Epoch: 48 [3840/4000 (96%)]\tLoss: 10.689496\n",
      "====> Epoch: 48 Average loss: 10.5154\n",
      "====> Test set loss: 10.4745\n",
      "Train Epoch: 49 [0/4000 (0%)]\tLoss: 10.938197\n",
      "Train Epoch: 49 [1280/4000 (32%)]\tLoss: 10.666235\n",
      "Train Epoch: 49 [2560/4000 (64%)]\tLoss: 10.639854\n",
      "Train Epoch: 49 [3840/4000 (96%)]\tLoss: 10.299567\n",
      "====> Epoch: 49 Average loss: 10.4813\n",
      "====> Test set loss: 10.4675\n",
      "Train Epoch: 50 [0/4000 (0%)]\tLoss: 10.507107\n",
      "Train Epoch: 50 [1280/4000 (32%)]\tLoss: 10.433463\n",
      "Train Epoch: 50 [2560/4000 (64%)]\tLoss: 10.380956\n",
      "Train Epoch: 50 [3840/4000 (96%)]\tLoss: 10.532099\n",
      "====> Epoch: 50 Average loss: 10.4605\n",
      "====> Test set loss: 10.4625\n"
     ]
    }
   ],
   "source": [
    "gradients = torch.zeros(train_data.shape[1]).to(device)\n",
    "for epoch in range(1, n_epochs+1):\n",
    "    grads=train_truncated_with_gradients(train_data, vae_gumbel_truncated, \n",
    "                                         vae_gumbel_trunc_optimizer, epoch, batch_size, Dim = D)\n",
    "    if epoch > 5:\n",
    "        gradients += grads\n",
    "    if epoch > 10:\n",
    "        vae_gumbel_truncated.t = 0.1\n",
    "    test(test_data, vae_gumbel_truncated, epoch, batch_size)\n",
    "    \n",
    "gradients = gradients"
   ]
  },
  {
   "cell_type": "code",
   "execution_count": 20,
   "metadata": {},
   "outputs": [
    {
     "data": {
      "text/plain": [
       "<matplotlib.axes._subplots.AxesSubplot at 0x7f137008ad10>"
      ]
     },
     "execution_count": 20,
     "metadata": {},
     "output_type": "execute_result"
    },
    {
     "data": {
      "image/png": "[encoded data removed]",
      "text/plain": [
       "<Figure size 432x288 with 2 Axes>"
      ]
     },
     "metadata": {
      "needs_background": "light"
     },
     "output_type": "display_data"
    }
   ],
   "source": [
    "sns.heatmap(gradients.clone().detach().cpu().numpy()[:, np.newaxis])"
   ]
  },
  {
   "cell_type": "code",
   "execution_count": 21,
   "metadata": {},
   "outputs": [],
   "source": [
    "with torch.no_grad():\n",
    "    w = vae_gumbel_truncated.weight_creator(test_data[0:10, :])\n",
    "    subset_indices = sample_subset(w, k=3*z_size, t=0.01).cpu()"
   ]
  },
  {
   "cell_type": "code",
   "execution_count": 22,
   "metadata": {},
   "outputs": [
    {
     "data": {
      "text/plain": [
       "<matplotlib.axes._subplots.AxesSubplot at 0x7f135379ecd0>"
      ]
     },
     "execution_count": 22,
     "metadata": {},
     "output_type": "execute_result"
    },
    {
     "data": {
      "image/png": "[encoded data removed]",
      "text/plain": [
       "<Figure size 432x288 with 2 Axes>"
      ]
     },
     "metadata": {
      "needs_background": "light"
     },
     "output_type": "display_data"
    }
   ],
   "source": [
    "sns.heatmap(subset_indices.sum(dim = 0).clone().detach().cpu().numpy()[:, np.newaxis])"
   ]
  },
  {
   "cell_type": "code",
   "execution_count": 23,
   "metadata": {},
   "outputs": [
    {
     "data": {
      "text/plain": [
       "tensor([0.0978, 0.3031, 0.1394, 0.2099, 0.2063, 0.2098, 0.1076, 0.2316, 0.0298,\n",
       "        0.1968, 0.0261, 0.0561, 0.0848, 0.2727, 0.2320, 0.3355, 0.2739, 0.0056,\n",
       "        0.0301, 0.0953, 0.0889, 0.2483, 0.0063, 0.0231, 0.0009, 0.0924, 0.4782,\n",
       "        0.3251, 0.2092, 0.2881], device='cuda:0')"
      ]
     },
     "execution_count": 23,
     "metadata": {},
     "output_type": "execute_result"
    }
   ],
   "source": [
    "test_data.mean(dim = 0)[:D]"
   ]
  },
  {
   "cell_type": "code",
   "execution_count": 24,
   "metadata": {},
   "outputs": [
    {
     "data": {
      "text/plain": [
       "tensor([0.0944, 0.3144, 0.1389, 0.2100, 0.2027, 0.2134, 0.1227, 0.2354, 0.0400,\n",
       "        0.2087, 0.0254, 0.0560, 0.1008, 0.2734, 0.2338, 0.3331, 0.2775, 0.0097,\n",
       "        0.0353, 0.1003, 0.0863, 0.2600, 0.0072, 0.0267, 0.0039, 0.1069, 0.4745,\n",
       "        0.3264, 0.2125, 0.2919], device='cuda:0', grad_fn=<SliceBackward>)"
      ]
     },
     "execution_count": 24,
     "metadata": {},
     "output_type": "execute_result"
    }
   ],
   "source": [
    "vae_gumbel_truncated(test_data)[0].mean(dim = 0)[:D]"
   ]
  },
  {
   "cell_type": "markdown",
   "metadata": {},
   "source": [
    "Now do it on data where half of the features are just noise."
   ]
  },
  {
   "cell_type": "code",
   "execution_count": 25,
   "metadata": {},
   "outputs": [],
   "source": [
    "torch.manual_seed(0)\n",
    "np.random.seed(0)"
   ]
  },
  {
   "cell_type": "code",
   "execution_count": 26,
   "metadata": {},
   "outputs": [
    {
     "name": "stdout",
     "output_type": "stream",
     "text": [
      "tensor(49, device='cuda:0')\n",
      "tensor(42, device='cuda:0')\n",
      "tensor(48, device='cuda:0')\n",
      "tensor(44, device='cuda:0')\n",
      "tensor(44, device='cuda:0')\n"
     ]
    }
   ],
   "source": [
    "torch.manual_seed(0)\n",
    "np.random.seed(0)\n",
    "\n",
    "latent_data = np.random.normal(loc=0.0, scale=1.0, size=N*z_size).reshape(N, z_size)\n",
    "\n",
    "data_mapper = nn.Sequential(\n",
    "    nn.Linear(z_size, 2 * z_size, bias=False),\n",
    "    nn.Tanh(),\n",
    "    nn.Linear(2 * z_size, D, bias = True),\n",
    "    nn.ReLU()\n",
    ").to(device)\n",
    "\n",
    "data_mapper.requires_grad_(False)\n",
    "\n",
    "latent_data = Tensor(latent_data)\n",
    "latent_data.requires_grad_(False)\n",
    "\n",
    "actual_data = data_mapper(latent_data)\n",
    "\n",
    "\n",
    "noise_features = torch.empty(N * D).normal_(mean=0,std=0.01).reshape(N, D).to(device)\n",
    "noise_features.requires_grad_(False)\n",
    "\n",
    "actual_data = torch.cat([actual_data, noise_features], dim = 1)\n",
    "\n",
    "for i in range(5):\n",
    "    print(torch.sum(actual_data[i,:] != 0))\n",
    "    \n",
    "actual_data = actual_data.cpu().numpy()\n",
    "scaler = MinMaxScaler()\n",
    "actual_data = scaler.fit_transform(actual_data)\n",
    "\n",
    "actual_data = Tensor(actual_data)\n",
    "\n",
    "slices = np.random.permutation(np.arange(actual_data.shape[0]))\n",
    "upto = int(.8 * len(actual_data))\n",
    "\n",
    "train_data = actual_data[slices[:upto]]\n",
    "test_data = actual_data[slices[upto:]]"
   ]
  },
  {
   "cell_type": "markdown",
   "metadata": {},
   "source": [
    "Testing how it does when calculating loss over only the non-noisy features. "
   ]
  },
  {
   "cell_type": "code",
   "execution_count": 27,
   "metadata": {},
   "outputs": [],
   "source": [
    "# let's see how it does here\n",
    "vae_gumbel_truncated = VAE_Gumbel_NInsta(2*D, 100, 20, k = 3*z_size, t = global_t)\n",
    "vae_gumbel_truncated.to(device)\n",
    "vae_gumbel_trunc_optimizer = torch.optim.Adam(vae_gumbel_truncated.parameters(), \n",
    "                                                lr=lr, \n",
    "                                                betas = (b1,b2))"
   ]
  },
  {
   "cell_type": "code",
   "execution_count": 28,
   "metadata": {},
   "outputs": [
    {
     "name": "stdout",
     "output_type": "stream",
     "text": [
      "Train Epoch: 1 [0/4000 (0%)]\tLoss: 20.898645\n",
      "Train Epoch: 1 [1280/4000 (32%)]\tLoss: 19.929802\n",
      "Train Epoch: 1 [2560/4000 (64%)]\tLoss: 19.052610\n",
      "Train Epoch: 1 [3840/4000 (96%)]\tLoss: 18.303110\n",
      "====> Epoch: 1 Average loss: 19.4577\n",
      "====> Test set loss: 39.1835\n",
      "Train Epoch: 2 [0/4000 (0%)]\tLoss: 18.139664\n",
      "Train Epoch: 2 [1280/4000 (32%)]\tLoss: 17.451143\n",
      "Train Epoch: 2 [2560/4000 (64%)]\tLoss: 16.215115\n",
      "Train Epoch: 2 [3840/4000 (96%)]\tLoss: 15.406269\n",
      "====> Epoch: 2 Average loss: 16.7949\n",
      "====> Test set loss: 36.4903\n",
      "Train Epoch: 3 [0/4000 (0%)]\tLoss: 15.273976\n",
      "Train Epoch: 3 [1280/4000 (32%)]\tLoss: 14.205248\n",
      "Train Epoch: 3 [2560/4000 (64%)]\tLoss: 13.512135\n",
      "Train Epoch: 3 [3840/4000 (96%)]\tLoss: 13.540610\n",
      "====> Epoch: 3 Average loss: 14.0477\n",
      "====> Test set loss: 35.0437\n",
      "Train Epoch: 4 [0/4000 (0%)]\tLoss: 13.251816\n",
      "Train Epoch: 4 [1280/4000 (32%)]\tLoss: 12.921093\n",
      "Train Epoch: 4 [2560/4000 (64%)]\tLoss: 13.159525\n",
      "Train Epoch: 4 [3840/4000 (96%)]\tLoss: 12.858677\n",
      "====> Epoch: 4 Average loss: 13.1107\n",
      "====> Test set loss: 34.5161\n",
      "Train Epoch: 5 [0/4000 (0%)]\tLoss: 13.096476\n",
      "Train Epoch: 5 [1280/4000 (32%)]\tLoss: 12.703549\n",
      "Train Epoch: 5 [2560/4000 (64%)]\tLoss: 13.023785\n",
      "Train Epoch: 5 [3840/4000 (96%)]\tLoss: 12.456649\n",
      "====> Epoch: 5 Average loss: 12.7638\n",
      "====> Test set loss: 34.2885\n",
      "Train Epoch: 6 [0/4000 (0%)]\tLoss: 12.676977\n",
      "Train Epoch: 6 [1280/4000 (32%)]\tLoss: 12.213898\n",
      "Train Epoch: 6 [2560/4000 (64%)]\tLoss: 12.817050\n",
      "Train Epoch: 6 [3840/4000 (96%)]\tLoss: 12.306253\n",
      "====> Epoch: 6 Average loss: 12.5566\n",
      "====> Test set loss: 34.0682\n",
      "Train Epoch: 7 [0/4000 (0%)]\tLoss: 12.728925\n",
      "Train Epoch: 7 [1280/4000 (32%)]\tLoss: 12.858442\n",
      "Train Epoch: 7 [2560/4000 (64%)]\tLoss: 12.082851\n",
      "Train Epoch: 7 [3840/4000 (96%)]\tLoss: 12.378213\n",
      "====> Epoch: 7 Average loss: 12.4535\n",
      "====> Test set loss: 33.9863\n",
      "Train Epoch: 8 [0/4000 (0%)]\tLoss: 12.501989\n",
      "Train Epoch: 8 [1280/4000 (32%)]\tLoss: 12.632045\n",
      "Train Epoch: 8 [2560/4000 (64%)]\tLoss: 12.139208\n",
      "Train Epoch: 8 [3840/4000 (96%)]\tLoss: 12.343729\n",
      "====> Epoch: 8 Average loss: 12.3713\n",
      "====> Test set loss: 33.9147\n",
      "Train Epoch: 9 [0/4000 (0%)]\tLoss: 12.521918\n",
      "Train Epoch: 9 [1280/4000 (32%)]\tLoss: 12.336174\n",
      "Train Epoch: 9 [2560/4000 (64%)]\tLoss: 11.999560\n",
      "Train Epoch: 9 [3840/4000 (96%)]\tLoss: 12.654683\n",
      "====> Epoch: 9 Average loss: 12.2792\n",
      "====> Test set loss: 33.8102\n",
      "Train Epoch: 10 [0/4000 (0%)]\tLoss: 12.319931\n",
      "Train Epoch: 10 [1280/4000 (32%)]\tLoss: 12.189857\n",
      "Train Epoch: 10 [2560/4000 (64%)]\tLoss: 11.686921\n",
      "Train Epoch: 10 [3840/4000 (96%)]\tLoss: 12.253585\n",
      "====> Epoch: 10 Average loss: 12.2216\n",
      "====> Test set loss: 33.7457\n",
      "Train Epoch: 11 [0/4000 (0%)]\tLoss: 12.001496\n",
      "Train Epoch: 11 [1280/4000 (32%)]\tLoss: 11.861188\n",
      "Train Epoch: 11 [2560/4000 (64%)]\tLoss: 11.977320\n",
      "Train Epoch: 11 [3840/4000 (96%)]\tLoss: 12.419578\n",
      "====> Epoch: 11 Average loss: 12.1460\n",
      "====> Test set loss: 33.6651\n",
      "Train Epoch: 12 [0/4000 (0%)]\tLoss: 12.131129\n",
      "Train Epoch: 12 [1280/4000 (32%)]\tLoss: 12.354206\n",
      "Train Epoch: 12 [2560/4000 (64%)]\tLoss: 12.135280\n",
      "Train Epoch: 12 [3840/4000 (96%)]\tLoss: 11.839419\n",
      "====> Epoch: 12 Average loss: 12.1051\n",
      "====> Test set loss: 33.6215\n",
      "Train Epoch: 13 [0/4000 (0%)]\tLoss: 12.123150\n",
      "Train Epoch: 13 [1280/4000 (32%)]\tLoss: 12.157158\n",
      "Train Epoch: 13 [2560/4000 (64%)]\tLoss: 12.021650\n",
      "Train Epoch: 13 [3840/4000 (96%)]\tLoss: 12.191448\n",
      "====> Epoch: 13 Average loss: 12.0539\n",
      "====> Test set loss: 33.5635\n",
      "Train Epoch: 14 [0/4000 (0%)]\tLoss: 12.256674\n",
      "Train Epoch: 14 [1280/4000 (32%)]\tLoss: 11.796141\n",
      "Train Epoch: 14 [2560/4000 (64%)]\tLoss: 11.810780\n",
      "Train Epoch: 14 [3840/4000 (96%)]\tLoss: 12.078734\n",
      "====> Epoch: 14 Average loss: 11.9859\n",
      "====> Test set loss: 33.4624\n",
      "Train Epoch: 15 [0/4000 (0%)]\tLoss: 12.068169\n",
      "Train Epoch: 15 [1280/4000 (32%)]\tLoss: 12.273953\n",
      "Train Epoch: 15 [2560/4000 (64%)]\tLoss: 11.474892\n",
      "Train Epoch: 15 [3840/4000 (96%)]\tLoss: 12.357166\n",
      "====> Epoch: 15 Average loss: 11.9432\n",
      "====> Test set loss: 33.4283\n",
      "Train Epoch: 16 [0/4000 (0%)]\tLoss: 11.735337\n",
      "Train Epoch: 16 [1280/4000 (32%)]\tLoss: 12.462869\n",
      "Train Epoch: 16 [2560/4000 (64%)]\tLoss: 11.564680\n",
      "Train Epoch: 16 [3840/4000 (96%)]\tLoss: 11.875435\n",
      "====> Epoch: 16 Average loss: 11.8896\n",
      "====> Test set loss: 33.3246\n",
      "Train Epoch: 17 [0/4000 (0%)]\tLoss: 11.994597\n",
      "Train Epoch: 17 [1280/4000 (32%)]\tLoss: 11.837506\n",
      "Train Epoch: 17 [2560/4000 (64%)]\tLoss: 11.893895\n",
      "Train Epoch: 17 [3840/4000 (96%)]\tLoss: 11.422355\n",
      "====> Epoch: 17 Average loss: 11.7686\n",
      "====> Test set loss: 33.2395\n",
      "Train Epoch: 18 [0/4000 (0%)]\tLoss: 11.510633\n",
      "Train Epoch: 18 [1280/4000 (32%)]\tLoss: 11.946126\n",
      "Train Epoch: 18 [2560/4000 (64%)]\tLoss: 11.889265\n",
      "Train Epoch: 18 [3840/4000 (96%)]\tLoss: 11.875578\n",
      "====> Epoch: 18 Average loss: 11.6911\n",
      "====> Test set loss: 33.1019\n",
      "Train Epoch: 19 [0/4000 (0%)]\tLoss: 11.360607\n",
      "Train Epoch: 19 [1280/4000 (32%)]\tLoss: 11.215530\n",
      "Train Epoch: 19 [2560/4000 (64%)]\tLoss: 11.601254\n",
      "Train Epoch: 19 [3840/4000 (96%)]\tLoss: 11.574265\n",
      "====> Epoch: 19 Average loss: 11.5891\n",
      "====> Test set loss: 33.0293\n",
      "Train Epoch: 20 [0/4000 (0%)]\tLoss: 11.726285\n",
      "Train Epoch: 20 [1280/4000 (32%)]\tLoss: 10.926597\n",
      "Train Epoch: 20 [2560/4000 (64%)]\tLoss: 11.476710\n",
      "Train Epoch: 20 [3840/4000 (96%)]\tLoss: 11.529606\n",
      "====> Epoch: 20 Average loss: 11.4870\n",
      "====> Test set loss: 32.9535\n",
      "Train Epoch: 21 [0/4000 (0%)]\tLoss: 11.214949\n",
      "Train Epoch: 21 [1280/4000 (32%)]\tLoss: 11.429251\n",
      "Train Epoch: 21 [2560/4000 (64%)]\tLoss: 11.149454\n",
      "Train Epoch: 21 [3840/4000 (96%)]\tLoss: 11.608332\n",
      "====> Epoch: 21 Average loss: 11.3857\n",
      "====> Test set loss: 32.8538\n",
      "Train Epoch: 22 [0/4000 (0%)]\tLoss: 11.544928\n",
      "Train Epoch: 22 [1280/4000 (32%)]\tLoss: 11.461097\n",
      "Train Epoch: 22 [2560/4000 (64%)]\tLoss: 11.055024\n",
      "Train Epoch: 22 [3840/4000 (96%)]\tLoss: 11.362005\n",
      "====> Epoch: 22 Average loss: 11.3553\n",
      "====> Test set loss: 32.7431\n",
      "Train Epoch: 23 [0/4000 (0%)]\tLoss: 11.404895\n",
      "Train Epoch: 23 [1280/4000 (32%)]\tLoss: 11.303160\n",
      "Train Epoch: 23 [2560/4000 (64%)]\tLoss: 11.165370\n",
      "Train Epoch: 23 [3840/4000 (96%)]\tLoss: 11.578817\n",
      "====> Epoch: 23 Average loss: 11.2975\n",
      "====> Test set loss: 32.7211\n",
      "Train Epoch: 24 [0/4000 (0%)]\tLoss: 11.114488\n",
      "Train Epoch: 24 [1280/4000 (32%)]\tLoss: 11.139367\n",
      "Train Epoch: 24 [2560/4000 (64%)]\tLoss: 11.144479\n",
      "Train Epoch: 24 [3840/4000 (96%)]\tLoss: 11.210698\n",
      "====> Epoch: 24 Average loss: 11.2419\n",
      "====> Test set loss: 32.5861\n",
      "Train Epoch: 25 [0/4000 (0%)]\tLoss: 11.028425\n",
      "Train Epoch: 25 [1280/4000 (32%)]\tLoss: 11.221003\n",
      "Train Epoch: 25 [2560/4000 (64%)]\tLoss: 11.319410\n",
      "Train Epoch: 25 [3840/4000 (96%)]\tLoss: 11.248523\n",
      "====> Epoch: 25 Average loss: 11.1920\n",
      "====> Test set loss: 32.5778\n",
      "Train Epoch: 26 [0/4000 (0%)]\tLoss: 11.336606\n",
      "Train Epoch: 26 [1280/4000 (32%)]\tLoss: 11.259481\n",
      "Train Epoch: 26 [2560/4000 (64%)]\tLoss: 11.012713\n",
      "Train Epoch: 26 [3840/4000 (96%)]\tLoss: 11.248603\n",
      "====> Epoch: 26 Average loss: 11.1816\n",
      "====> Test set loss: 32.5261\n",
      "Train Epoch: 27 [0/4000 (0%)]\tLoss: 11.015708\n",
      "Train Epoch: 27 [1280/4000 (32%)]\tLoss: 11.174129\n",
      "Train Epoch: 27 [2560/4000 (64%)]\tLoss: 11.068004\n",
      "Train Epoch: 27 [3840/4000 (96%)]\tLoss: 11.359070\n",
      "====> Epoch: 27 Average loss: 11.1352\n",
      "====> Test set loss: 32.5161\n",
      "Train Epoch: 28 [0/4000 (0%)]\tLoss: 11.263726\n",
      "Train Epoch: 28 [1280/4000 (32%)]\tLoss: 10.866052\n",
      "Train Epoch: 28 [2560/4000 (64%)]\tLoss: 10.890785\n",
      "Train Epoch: 28 [3840/4000 (96%)]\tLoss: 10.914146\n",
      "====> Epoch: 28 Average loss: 11.0965\n",
      "====> Test set loss: 32.4527\n",
      "Train Epoch: 29 [0/4000 (0%)]\tLoss: 10.851835\n",
      "Train Epoch: 29 [1280/4000 (32%)]\tLoss: 11.416049\n",
      "Train Epoch: 29 [2560/4000 (64%)]\tLoss: 10.892348\n",
      "Train Epoch: 29 [3840/4000 (96%)]\tLoss: 11.437597\n",
      "====> Epoch: 29 Average loss: 11.1014\n",
      "====> Test set loss: 32.4648\n",
      "Train Epoch: 30 [0/4000 (0%)]\tLoss: 11.054575\n",
      "Train Epoch: 30 [1280/4000 (32%)]\tLoss: 11.364286\n",
      "Train Epoch: 30 [2560/4000 (64%)]\tLoss: 10.904508\n",
      "Train Epoch: 30 [3840/4000 (96%)]\tLoss: 10.775708\n",
      "====> Epoch: 30 Average loss: 11.0760\n",
      "====> Test set loss: 32.4115\n",
      "Train Epoch: 31 [0/4000 (0%)]\tLoss: 10.495272\n",
      "Train Epoch: 31 [1280/4000 (32%)]\tLoss: 10.863899\n",
      "Train Epoch: 31 [2560/4000 (64%)]\tLoss: 10.875204\n",
      "Train Epoch: 31 [3840/4000 (96%)]\tLoss: 11.382383\n",
      "====> Epoch: 31 Average loss: 11.0433\n",
      "====> Test set loss: 32.4260\n",
      "Train Epoch: 32 [0/4000 (0%)]\tLoss: 10.977687\n",
      "Train Epoch: 32 [1280/4000 (32%)]\tLoss: 11.293878\n"
     ]
    },
    {
     "name": "stdout",
     "output_type": "stream",
     "text": [
      "Train Epoch: 32 [2560/4000 (64%)]\tLoss: 11.085241\n",
      "Train Epoch: 32 [3840/4000 (96%)]\tLoss: 11.064404\n",
      "====> Epoch: 32 Average loss: 11.0010\n",
      "====> Test set loss: 32.4116\n",
      "Train Epoch: 33 [0/4000 (0%)]\tLoss: 11.369688\n",
      "Train Epoch: 33 [1280/4000 (32%)]\tLoss: 11.212049\n",
      "Train Epoch: 33 [2560/4000 (64%)]\tLoss: 11.255682\n",
      "Train Epoch: 33 [3840/4000 (96%)]\tLoss: 10.907515\n",
      "====> Epoch: 33 Average loss: 11.0002\n",
      "====> Test set loss: 32.3624\n",
      "Train Epoch: 34 [0/4000 (0%)]\tLoss: 11.076082\n",
      "Train Epoch: 34 [1280/4000 (32%)]\tLoss: 11.622751\n",
      "Train Epoch: 34 [2560/4000 (64%)]\tLoss: 10.859943\n",
      "Train Epoch: 34 [3840/4000 (96%)]\tLoss: 11.019300\n",
      "====> Epoch: 34 Average loss: 10.9824\n",
      "====> Test set loss: 32.3141\n",
      "Train Epoch: 35 [0/4000 (0%)]\tLoss: 10.731936\n",
      "Train Epoch: 35 [1280/4000 (32%)]\tLoss: 10.881388\n",
      "Train Epoch: 35 [2560/4000 (64%)]\tLoss: 10.641421\n",
      "Train Epoch: 35 [3840/4000 (96%)]\tLoss: 11.242130\n",
      "====> Epoch: 35 Average loss: 10.9390\n",
      "====> Test set loss: 32.3230\n",
      "Train Epoch: 36 [0/4000 (0%)]\tLoss: 11.241872\n",
      "Train Epoch: 36 [1280/4000 (32%)]\tLoss: 10.953383\n",
      "Train Epoch: 36 [2560/4000 (64%)]\tLoss: 10.636180\n",
      "Train Epoch: 36 [3840/4000 (96%)]\tLoss: 11.004389\n",
      "====> Epoch: 36 Average loss: 10.9249\n",
      "====> Test set loss: 32.2543\n",
      "Train Epoch: 37 [0/4000 (0%)]\tLoss: 10.417111\n",
      "Train Epoch: 37 [1280/4000 (32%)]\tLoss: 10.904677\n",
      "Train Epoch: 37 [2560/4000 (64%)]\tLoss: 10.598989\n",
      "Train Epoch: 37 [3840/4000 (96%)]\tLoss: 10.868629\n",
      "====> Epoch: 37 Average loss: 10.8764\n",
      "====> Test set loss: 32.3165\n",
      "Train Epoch: 38 [0/4000 (0%)]\tLoss: 10.638142\n",
      "Train Epoch: 38 [1280/4000 (32%)]\tLoss: 11.089766\n",
      "Train Epoch: 38 [2560/4000 (64%)]\tLoss: 10.547627\n",
      "Train Epoch: 38 [3840/4000 (96%)]\tLoss: 11.132683\n",
      "====> Epoch: 38 Average loss: 10.8410\n",
      "====> Test set loss: 32.2575\n",
      "Train Epoch: 39 [0/4000 (0%)]\tLoss: 10.864138\n",
      "Train Epoch: 39 [1280/4000 (32%)]\tLoss: 10.146031\n",
      "Train Epoch: 39 [2560/4000 (64%)]\tLoss: 11.069434\n",
      "Train Epoch: 39 [3840/4000 (96%)]\tLoss: 10.832662\n",
      "====> Epoch: 39 Average loss: 10.8408\n",
      "====> Test set loss: 32.1879\n",
      "Train Epoch: 40 [0/4000 (0%)]\tLoss: 10.804028\n",
      "Train Epoch: 40 [1280/4000 (32%)]\tLoss: 11.268338\n",
      "Train Epoch: 40 [2560/4000 (64%)]\tLoss: 10.993727\n",
      "Train Epoch: 40 [3840/4000 (96%)]\tLoss: 11.164903\n",
      "====> Epoch: 40 Average loss: 10.7941\n",
      "====> Test set loss: 32.2226\n",
      "Train Epoch: 41 [0/4000 (0%)]\tLoss: 10.527624\n",
      "Train Epoch: 41 [1280/4000 (32%)]\tLoss: 10.634424\n",
      "Train Epoch: 41 [2560/4000 (64%)]\tLoss: 10.431192\n",
      "Train Epoch: 41 [3840/4000 (96%)]\tLoss: 10.718707\n",
      "====> Epoch: 41 Average loss: 10.7421\n",
      "====> Test set loss: 32.1330\n",
      "Train Epoch: 42 [0/4000 (0%)]\tLoss: 10.618585\n",
      "Train Epoch: 42 [1280/4000 (32%)]\tLoss: 10.742419\n",
      "Train Epoch: 42 [2560/4000 (64%)]\tLoss: 10.605135\n",
      "Train Epoch: 42 [3840/4000 (96%)]\tLoss: 10.486070\n",
      "====> Epoch: 42 Average loss: 10.7443\n",
      "====> Test set loss: 32.0822\n",
      "Train Epoch: 43 [0/4000 (0%)]\tLoss: 10.676762\n",
      "Train Epoch: 43 [1280/4000 (32%)]\tLoss: 10.510604\n",
      "Train Epoch: 43 [2560/4000 (64%)]\tLoss: 10.897457\n",
      "Train Epoch: 43 [3840/4000 (96%)]\tLoss: 10.648016\n",
      "====> Epoch: 43 Average loss: 10.6683\n",
      "====> Test set loss: 32.1697\n",
      "Train Epoch: 44 [0/4000 (0%)]\tLoss: 10.780971\n",
      "Train Epoch: 44 [1280/4000 (32%)]\tLoss: 10.430047\n",
      "Train Epoch: 44 [2560/4000 (64%)]\tLoss: 10.615076\n",
      "Train Epoch: 44 [3840/4000 (96%)]\tLoss: 10.704823\n",
      "====> Epoch: 44 Average loss: 10.6740\n",
      "====> Test set loss: 32.0469\n",
      "Train Epoch: 45 [0/4000 (0%)]\tLoss: 11.018789\n",
      "Train Epoch: 45 [1280/4000 (32%)]\tLoss: 10.978848\n",
      "Train Epoch: 45 [2560/4000 (64%)]\tLoss: 10.362288\n",
      "Train Epoch: 45 [3840/4000 (96%)]\tLoss: 10.753587\n",
      "====> Epoch: 45 Average loss: 10.6435\n",
      "====> Test set loss: 32.0636\n",
      "Train Epoch: 46 [0/4000 (0%)]\tLoss: 10.687198\n",
      "Train Epoch: 46 [1280/4000 (32%)]\tLoss: 10.374470\n",
      "Train Epoch: 46 [2560/4000 (64%)]\tLoss: 10.428069\n",
      "Train Epoch: 46 [3840/4000 (96%)]\tLoss: 10.404938\n",
      "====> Epoch: 46 Average loss: 10.6123\n",
      "====> Test set loss: 32.0298\n",
      "Train Epoch: 47 [0/4000 (0%)]\tLoss: 10.577153\n",
      "Train Epoch: 47 [1280/4000 (32%)]\tLoss: 10.567597\n",
      "Train Epoch: 47 [2560/4000 (64%)]\tLoss: 10.938880\n",
      "Train Epoch: 47 [3840/4000 (96%)]\tLoss: 10.243278\n",
      "====> Epoch: 47 Average loss: 10.5833\n",
      "====> Test set loss: 32.0315\n",
      "Train Epoch: 48 [0/4000 (0%)]\tLoss: 11.093748\n",
      "Train Epoch: 48 [1280/4000 (32%)]\tLoss: 10.696848\n",
      "Train Epoch: 48 [2560/4000 (64%)]\tLoss: 10.546124\n",
      "Train Epoch: 48 [3840/4000 (96%)]\tLoss: 10.575742\n",
      "====> Epoch: 48 Average loss: 10.6227\n",
      "====> Test set loss: 32.0218\n",
      "Train Epoch: 49 [0/4000 (0%)]\tLoss: 10.553415\n",
      "Train Epoch: 49 [1280/4000 (32%)]\tLoss: 10.365568\n",
      "Train Epoch: 49 [2560/4000 (64%)]\tLoss: 10.654428\n",
      "Train Epoch: 49 [3840/4000 (96%)]\tLoss: 10.423650\n",
      "====> Epoch: 49 Average loss: 10.5589\n",
      "====> Test set loss: 31.9058\n",
      "Train Epoch: 50 [0/4000 (0%)]\tLoss: 10.637044\n",
      "Train Epoch: 50 [1280/4000 (32%)]\tLoss: 10.509233\n",
      "Train Epoch: 50 [2560/4000 (64%)]\tLoss: 10.432006\n",
      "Train Epoch: 50 [3840/4000 (96%)]\tLoss: 10.551024\n",
      "====> Epoch: 50 Average loss: 10.5185\n",
      "====> Test set loss: 31.9691\n"
     ]
    }
   ],
   "source": [
    "gradients = torch.zeros(train_data.shape[1]).to(device)\n",
    "for epoch in range(1, n_epochs+1):\n",
    "    grads=train_truncated_with_gradients(train_data, vae_gumbel_truncated, \n",
    "                                         vae_gumbel_trunc_optimizer, epoch, batch_size, Dim = D)\n",
    "    if epoch > 5:\n",
    "        gradients += grads\n",
    "    if epoch > 10:\n",
    "        vae_gumbel_truncated.t = 0.1\n",
    "    test(test_data, vae_gumbel_truncated, epoch, batch_size)\n",
    "    \n",
    "gradients = gradients"
   ]
  },
  {
   "cell_type": "code",
   "execution_count": 29,
   "metadata": {},
   "outputs": [
    {
     "data": {
      "text/plain": [
       "<matplotlib.axes._subplots.AxesSubplot at 0x7f137003eb10>"
      ]
     },
     "execution_count": 29,
     "metadata": {},
     "output_type": "execute_result"
    },
    {
     "data": {
      "image/png": "[encoded data removed]",
      "text/plain": [
       "<Figure size 432x288 with 2 Axes>"
      ]
     },
     "metadata": {
      "needs_background": "light"
     },
     "output_type": "display_data"
    }
   ],
   "source": [
    "sns.heatmap(gradients.clone().detach().cpu().numpy()[:, np.newaxis])"
   ]
  },
  {
   "cell_type": "code",
   "execution_count": 30,
   "metadata": {},
   "outputs": [],
   "source": [
    "with torch.no_grad():\n",
    "    w = vae_gumbel_truncated.weight_creator(test_data[0:10, :])\n",
    "    subset_indices = sample_subset(w, k=3*z_size, t=0.01).cpu()"
   ]
  },
  {
   "cell_type": "code",
   "execution_count": 31,
   "metadata": {},
   "outputs": [
    {
     "data": {
      "text/plain": [
       "<matplotlib.axes._subplots.AxesSubplot at 0x7f13536104d0>"
      ]
     },
     "execution_count": 31,
     "metadata": {},
     "output_type": "execute_result"
    },
    {
     "data": {
      "image/png": "[encoded data removed]",
      "text/plain": [
       "<Figure size 432x288 with 2 Axes>"
      ]
     },
     "metadata": {
      "needs_background": "light"
     },
     "output_type": "display_data"
    }
   ],
   "source": [
    "sns.heatmap(subset_indices.sum(dim = 0).clone().detach().cpu().numpy()[:, np.newaxis])"
   ]
  },
  {
   "cell_type": "code",
   "execution_count": 32,
   "metadata": {},
   "outputs": [
    {
     "data": {
      "text/plain": [
       "tensor([0.0978, 0.3031, 0.1394, 0.2099, 0.2063, 0.2098, 0.1076, 0.2316, 0.0298,\n",
       "        0.1968, 0.0261, 0.0561, 0.0848, 0.2727, 0.2320, 0.3355, 0.2739, 0.0056,\n",
       "        0.0301, 0.0953, 0.0889, 0.2483, 0.0063, 0.0231, 0.0009, 0.0924, 0.4782,\n",
       "        0.3251, 0.2092, 0.2881], device='cuda:0')"
      ]
     },
     "execution_count": 32,
     "metadata": {},
     "output_type": "execute_result"
    }
   ],
   "source": [
    "test_data.mean(dim = 0)[:D]"
   ]
  },
  {
   "cell_type": "code",
   "execution_count": 33,
   "metadata": {},
   "outputs": [
    {
     "data": {
      "text/plain": [
       "tensor([0.0835, 0.2764, 0.1282, 0.2090, 0.2489, 0.2180, 0.0739, 0.2250, 0.0259,\n",
       "        0.2526, 0.0233, 0.0441, 0.1089, 0.2853, 0.1896, 0.3074, 0.2966, 0.0093,\n",
       "        0.0312, 0.0836, 0.0766, 0.2295, 0.0061, 0.0239, 0.0037, 0.0596, 0.4819,\n",
       "        0.3167, 0.2430, 0.3332], device='cuda:0', grad_fn=<SliceBackward>)"
      ]
     },
     "execution_count": 33,
     "metadata": {},
     "output_type": "execute_result"
    }
   ],
   "source": [
    "vae_gumbel_truncated(test_data)[0].mean(dim = 0)[:D]"
   ]
  },
  {
   "cell_type": "code",
   "execution_count": 34,
   "metadata": {},
   "outputs": [
    {
     "data": {
      "text/plain": [
       "tensor([0.1913, 0.2338, 0.2076, 0.2199, 0.2306, 0.1890, 0.1805, 0.1945, 0.1051,\n",
       "        0.2321, 0.0976, 0.1389, 0.1652, 0.1922, 0.2341, 0.2330, 0.2048, 0.0390,\n",
       "        0.0929, 0.1692, 0.1755, 0.2236, 0.0499, 0.0923, 0.0152, 0.1863, 0.1593,\n",
       "        0.2244, 0.2096, 0.2350], device='cuda:0')"
      ]
     },
     "execution_count": 34,
     "metadata": {},
     "output_type": "execute_result"
    }
   ],
   "source": [
    "test_data.std(dim = 0)[:D]"
   ]
  },
  {
   "cell_type": "code",
   "execution_count": 35,
   "metadata": {},
   "outputs": [
    {
     "data": {
      "text/plain": [
       "tensor([0.1053, 0.0932, 0.1384, 0.0915, 0.0989, 0.0440, 0.1527, 0.1035, 0.0792,\n",
       "        0.1206, 0.0272, 0.0562, 0.0662, 0.1167, 0.1647, 0.1512, 0.0543, 0.0120,\n",
       "        0.0584, 0.1384, 0.0704, 0.1009, 0.0105, 0.0369, 0.0054, 0.1276, 0.0424,\n",
       "        0.1622, 0.0848, 0.1467], device='cuda:0', grad_fn=<SliceBackward>)"
      ]
     },
     "execution_count": 35,
     "metadata": {},
     "output_type": "execute_result"
    }
   ],
   "source": [
    "vae_gumbel_truncated(test_data)[0].std(dim = 0)[:D]"
   ]
  },
  {
   "cell_type": "markdown",
   "metadata": {},
   "source": [
    "What happens when you calculate the loss over all the features?"
   ]
  },
  {
   "cell_type": "code",
   "execution_count": 36,
   "metadata": {},
   "outputs": [],
   "source": [
    "# let's see how it does here\n",
    "vae_gumbel_truncated = VAE_Gumbel_NInsta(2*D, 100, 20, k = 3*z_size, t = global_t)\n",
    "vae_gumbel_truncated.to(device)\n",
    "vae_gumbel_trunc_optimizer = torch.optim.Adam(vae_gumbel_truncated.parameters(), \n",
    "                                                lr=lr, \n",
    "                                                betas = (b1,b2))"
   ]
  },
  {
   "cell_type": "code",
   "execution_count": 37,
   "metadata": {},
   "outputs": [
    {
     "name": "stdout",
     "output_type": "stream",
     "text": [
      "Train Epoch: 1 [0/4000 (0%)]\tLoss: 42.446293\n",
      "Train Epoch: 1 [1280/4000 (32%)]\tLoss: 41.328918\n",
      "Train Epoch: 1 [2560/4000 (64%)]\tLoss: 40.605656\n",
      "Train Epoch: 1 [3840/4000 (96%)]\tLoss: 39.730019\n",
      "====> Epoch: 1 Average loss: 40.9412\n",
      "====> Test set loss: 39.5725\n",
      "Train Epoch: 2 [0/4000 (0%)]\tLoss: 39.534889\n",
      "Train Epoch: 2 [1280/4000 (32%)]\tLoss: 38.611050\n",
      "Train Epoch: 2 [2560/4000 (64%)]\tLoss: 37.899136\n",
      "Train Epoch: 2 [3840/4000 (96%)]\tLoss: 36.834385\n",
      "====> Epoch: 2 Average loss: 38.3583\n",
      "====> Test set loss: 36.8626\n",
      "Train Epoch: 3 [0/4000 (0%)]\tLoss: 36.771805\n",
      "Train Epoch: 3 [1280/4000 (32%)]\tLoss: 35.668232\n",
      "Train Epoch: 3 [2560/4000 (64%)]\tLoss: 35.159439\n",
      "Train Epoch: 3 [3840/4000 (96%)]\tLoss: 34.249161\n",
      "====> Epoch: 3 Average loss: 35.3995\n",
      "====> Test set loss: 34.4142\n",
      "Train Epoch: 4 [0/4000 (0%)]\tLoss: 34.375629\n",
      "Train Epoch: 4 [1280/4000 (32%)]\tLoss: 33.946270\n",
      "Train Epoch: 4 [2560/4000 (64%)]\tLoss: 34.212067\n",
      "Train Epoch: 4 [3840/4000 (96%)]\tLoss: 33.694859\n",
      "====> Epoch: 4 Average loss: 34.1176\n",
      "====> Test set loss: 33.8168\n",
      "Train Epoch: 5 [0/4000 (0%)]\tLoss: 33.906837\n",
      "Train Epoch: 5 [1280/4000 (32%)]\tLoss: 33.438404\n",
      "Train Epoch: 5 [2560/4000 (64%)]\tLoss: 33.543762\n",
      "Train Epoch: 5 [3840/4000 (96%)]\tLoss: 33.563469\n",
      "====> Epoch: 5 Average loss: 33.6732\n",
      "====> Test set loss: 33.5090\n",
      "Train Epoch: 6 [0/4000 (0%)]\tLoss: 32.991928\n",
      "Train Epoch: 6 [1280/4000 (32%)]\tLoss: 33.126549\n",
      "Train Epoch: 6 [2560/4000 (64%)]\tLoss: 33.546253\n",
      "Train Epoch: 6 [3840/4000 (96%)]\tLoss: 33.282097\n",
      "====> Epoch: 6 Average loss: 33.4492\n",
      "====> Test set loss: 33.3315\n",
      "Train Epoch: 7 [0/4000 (0%)]\tLoss: 32.962669\n",
      "Train Epoch: 7 [1280/4000 (32%)]\tLoss: 32.936424\n",
      "Train Epoch: 7 [2560/4000 (64%)]\tLoss: 33.164551\n",
      "Train Epoch: 7 [3840/4000 (96%)]\tLoss: 33.485981\n",
      "====> Epoch: 7 Average loss: 33.3043\n",
      "====> Test set loss: 33.2045\n",
      "Train Epoch: 8 [0/4000 (0%)]\tLoss: 33.039600\n",
      "Train Epoch: 8 [1280/4000 (32%)]\tLoss: 33.080521\n",
      "Train Epoch: 8 [2560/4000 (64%)]\tLoss: 33.348656\n",
      "Train Epoch: 8 [3840/4000 (96%)]\tLoss: 33.160374\n",
      "====> Epoch: 8 Average loss: 33.1989\n",
      "====> Test set loss: 33.1354\n",
      "Train Epoch: 9 [0/4000 (0%)]\tLoss: 32.664421\n",
      "Train Epoch: 9 [1280/4000 (32%)]\tLoss: 33.239861\n",
      "Train Epoch: 9 [2560/4000 (64%)]\tLoss: 32.728313\n",
      "Train Epoch: 9 [3840/4000 (96%)]\tLoss: 32.967358\n",
      "====> Epoch: 9 Average loss: 33.1136\n",
      "====> Test set loss: 33.0853\n",
      "Train Epoch: 10 [0/4000 (0%)]\tLoss: 33.109112\n",
      "Train Epoch: 10 [1280/4000 (32%)]\tLoss: 33.735287\n",
      "Train Epoch: 10 [2560/4000 (64%)]\tLoss: 33.041481\n",
      "Train Epoch: 10 [3840/4000 (96%)]\tLoss: 32.764820\n",
      "====> Epoch: 10 Average loss: 33.0457\n",
      "====> Test set loss: 33.0044\n",
      "Train Epoch: 11 [0/4000 (0%)]\tLoss: 33.105267\n",
      "Train Epoch: 11 [1280/4000 (32%)]\tLoss: 32.864410\n",
      "Train Epoch: 11 [2560/4000 (64%)]\tLoss: 33.026413\n",
      "Train Epoch: 11 [3840/4000 (96%)]\tLoss: 32.680058\n",
      "====> Epoch: 11 Average loss: 32.9846\n",
      "====> Test set loss: 32.9955\n",
      "Train Epoch: 12 [0/4000 (0%)]\tLoss: 32.606941\n",
      "Train Epoch: 12 [1280/4000 (32%)]\tLoss: 32.681747\n",
      "Train Epoch: 12 [2560/4000 (64%)]\tLoss: 32.785168\n",
      "Train Epoch: 12 [3840/4000 (96%)]\tLoss: 32.619656\n",
      "====> Epoch: 12 Average loss: 32.9432\n",
      "====> Test set loss: 32.9133\n",
      "Train Epoch: 13 [0/4000 (0%)]\tLoss: 33.004787\n",
      "Train Epoch: 13 [1280/4000 (32%)]\tLoss: 32.863918\n",
      "Train Epoch: 13 [2560/4000 (64%)]\tLoss: 33.058399\n",
      "Train Epoch: 13 [3840/4000 (96%)]\tLoss: 32.877701\n",
      "====> Epoch: 13 Average loss: 32.9231\n",
      "====> Test set loss: 32.8555\n",
      "Train Epoch: 14 [0/4000 (0%)]\tLoss: 32.984726\n",
      "Train Epoch: 14 [1280/4000 (32%)]\tLoss: 33.065968\n",
      "Train Epoch: 14 [2560/4000 (64%)]\tLoss: 32.894993\n",
      "Train Epoch: 14 [3840/4000 (96%)]\tLoss: 32.935406\n",
      "====> Epoch: 14 Average loss: 32.8541\n",
      "====> Test set loss: 32.7786\n",
      "Train Epoch: 15 [0/4000 (0%)]\tLoss: 33.122131\n",
      "Train Epoch: 15 [1280/4000 (32%)]\tLoss: 32.841957\n",
      "Train Epoch: 15 [2560/4000 (64%)]\tLoss: 32.856430\n",
      "Train Epoch: 15 [3840/4000 (96%)]\tLoss: 33.220970\n",
      "====> Epoch: 15 Average loss: 32.8188\n",
      "====> Test set loss: 32.7219\n",
      "Train Epoch: 16 [0/4000 (0%)]\tLoss: 32.749348\n",
      "Train Epoch: 16 [1280/4000 (32%)]\tLoss: 33.052036\n",
      "Train Epoch: 16 [2560/4000 (64%)]\tLoss: 33.171280\n",
      "Train Epoch: 16 [3840/4000 (96%)]\tLoss: 32.651783\n",
      "====> Epoch: 16 Average loss: 32.7770\n",
      "====> Test set loss: 32.6934\n",
      "Train Epoch: 17 [0/4000 (0%)]\tLoss: 32.838543\n",
      "Train Epoch: 17 [1280/4000 (32%)]\tLoss: 32.761833\n",
      "Train Epoch: 17 [2560/4000 (64%)]\tLoss: 32.503162\n",
      "Train Epoch: 17 [3840/4000 (96%)]\tLoss: 32.831299\n",
      "====> Epoch: 17 Average loss: 32.7217\n",
      "====> Test set loss: 32.6788\n",
      "Train Epoch: 18 [0/4000 (0%)]\tLoss: 32.780327\n",
      "Train Epoch: 18 [1280/4000 (32%)]\tLoss: 32.487713\n",
      "Train Epoch: 18 [2560/4000 (64%)]\tLoss: 32.380394\n",
      "Train Epoch: 18 [3840/4000 (96%)]\tLoss: 32.383320\n",
      "====> Epoch: 18 Average loss: 32.6682\n",
      "====> Test set loss: 32.5944\n",
      "Train Epoch: 19 [0/4000 (0%)]\tLoss: 32.884365\n",
      "Train Epoch: 19 [1280/4000 (32%)]\tLoss: 32.600651\n",
      "Train Epoch: 19 [2560/4000 (64%)]\tLoss: 32.098583\n",
      "Train Epoch: 19 [3840/4000 (96%)]\tLoss: 32.328938\n",
      "====> Epoch: 19 Average loss: 32.5874\n",
      "====> Test set loss: 32.5174\n",
      "Train Epoch: 20 [0/4000 (0%)]\tLoss: 32.407879\n",
      "Train Epoch: 20 [1280/4000 (32%)]\tLoss: 32.705219\n",
      "Train Epoch: 20 [2560/4000 (64%)]\tLoss: 32.583576\n",
      "Train Epoch: 20 [3840/4000 (96%)]\tLoss: 32.232094\n",
      "====> Epoch: 20 Average loss: 32.4984\n",
      "====> Test set loss: 32.3799\n",
      "Train Epoch: 21 [0/4000 (0%)]\tLoss: 32.319225\n",
      "Train Epoch: 21 [1280/4000 (32%)]\tLoss: 32.246006\n",
      "Train Epoch: 21 [2560/4000 (64%)]\tLoss: 32.341473\n",
      "Train Epoch: 21 [3840/4000 (96%)]\tLoss: 32.314320\n",
      "====> Epoch: 21 Average loss: 32.4044\n",
      "====> Test set loss: 32.2808\n",
      "Train Epoch: 22 [0/4000 (0%)]\tLoss: 31.832569\n",
      "Train Epoch: 22 [1280/4000 (32%)]\tLoss: 32.164204\n",
      "Train Epoch: 22 [2560/4000 (64%)]\tLoss: 32.505959\n",
      "Train Epoch: 22 [3840/4000 (96%)]\tLoss: 32.232235\n",
      "====> Epoch: 22 Average loss: 32.2969\n",
      "====> Test set loss: 32.2510\n",
      "Train Epoch: 23 [0/4000 (0%)]\tLoss: 32.002258\n",
      "Train Epoch: 23 [1280/4000 (32%)]\tLoss: 32.476452\n",
      "Train Epoch: 23 [2560/4000 (64%)]\tLoss: 32.230785\n",
      "Train Epoch: 23 [3840/4000 (96%)]\tLoss: 32.355484\n",
      "====> Epoch: 23 Average loss: 32.2121\n",
      "====> Test set loss: 32.1616\n",
      "Train Epoch: 24 [0/4000 (0%)]\tLoss: 32.342594\n",
      "Train Epoch: 24 [1280/4000 (32%)]\tLoss: 32.171940\n",
      "Train Epoch: 24 [2560/4000 (64%)]\tLoss: 32.402031\n",
      "Train Epoch: 24 [3840/4000 (96%)]\tLoss: 32.318935\n",
      "====> Epoch: 24 Average loss: 32.1399\n",
      "====> Test set loss: 32.0354\n",
      "Train Epoch: 25 [0/4000 (0%)]\tLoss: 32.017647\n",
      "Train Epoch: 25 [1280/4000 (32%)]\tLoss: 31.981970\n",
      "Train Epoch: 25 [2560/4000 (64%)]\tLoss: 32.264278\n",
      "Train Epoch: 25 [3840/4000 (96%)]\tLoss: 32.354725\n",
      "====> Epoch: 25 Average loss: 32.0928\n",
      "====> Test set loss: 31.9933\n",
      "Train Epoch: 26 [0/4000 (0%)]\tLoss: 32.377022\n",
      "Train Epoch: 26 [1280/4000 (32%)]\tLoss: 32.267014\n",
      "Train Epoch: 26 [2560/4000 (64%)]\tLoss: 31.967045\n",
      "Train Epoch: 26 [3840/4000 (96%)]\tLoss: 32.021240\n",
      "====> Epoch: 26 Average loss: 32.0152\n",
      "====> Test set loss: 31.9491\n",
      "Train Epoch: 27 [0/4000 (0%)]\tLoss: 31.760992\n",
      "Train Epoch: 27 [1280/4000 (32%)]\tLoss: 32.094826\n",
      "Train Epoch: 27 [2560/4000 (64%)]\tLoss: 31.931671\n",
      "Train Epoch: 27 [3840/4000 (96%)]\tLoss: 32.019150\n",
      "====> Epoch: 27 Average loss: 31.9710\n",
      "====> Test set loss: 31.9540\n",
      "Train Epoch: 28 [0/4000 (0%)]\tLoss: 31.930660\n",
      "Train Epoch: 28 [1280/4000 (32%)]\tLoss: 32.065456\n",
      "Train Epoch: 28 [2560/4000 (64%)]\tLoss: 32.076736\n",
      "Train Epoch: 28 [3840/4000 (96%)]\tLoss: 31.900370\n",
      "====> Epoch: 28 Average loss: 31.9327\n",
      "====> Test set loss: 31.9266\n",
      "Train Epoch: 29 [0/4000 (0%)]\tLoss: 32.014698\n",
      "Train Epoch: 29 [1280/4000 (32%)]\tLoss: 32.096966\n",
      "Train Epoch: 29 [2560/4000 (64%)]\tLoss: 31.921310\n",
      "Train Epoch: 29 [3840/4000 (96%)]\tLoss: 31.940002\n",
      "====> Epoch: 29 Average loss: 31.9086\n",
      "====> Test set loss: 31.8814\n",
      "Train Epoch: 30 [0/4000 (0%)]\tLoss: 32.246155\n",
      "Train Epoch: 30 [1280/4000 (32%)]\tLoss: 31.702139\n",
      "Train Epoch: 30 [2560/4000 (64%)]\tLoss: 32.311649\n",
      "Train Epoch: 30 [3840/4000 (96%)]\tLoss: 31.731857\n",
      "====> Epoch: 30 Average loss: 31.9024\n",
      "====> Test set loss: 31.8764\n",
      "Train Epoch: 31 [0/4000 (0%)]\tLoss: 31.898808\n",
      "Train Epoch: 31 [1280/4000 (32%)]\tLoss: 31.850677\n",
      "Train Epoch: 31 [2560/4000 (64%)]\tLoss: 31.500322\n",
      "Train Epoch: 31 [3840/4000 (96%)]\tLoss: 31.617294\n",
      "====> Epoch: 31 Average loss: 31.8526\n",
      "====> Test set loss: 31.7784\n",
      "Train Epoch: 32 [0/4000 (0%)]\tLoss: 31.994930\n",
      "Train Epoch: 32 [1280/4000 (32%)]\tLoss: 31.772135\n"
     ]
    },
    {
     "name": "stdout",
     "output_type": "stream",
     "text": [
      "Train Epoch: 32 [2560/4000 (64%)]\tLoss: 31.885035\n",
      "Train Epoch: 32 [3840/4000 (96%)]\tLoss: 31.701113\n",
      "====> Epoch: 32 Average loss: 31.8344\n",
      "====> Test set loss: 31.7791\n",
      "Train Epoch: 33 [0/4000 (0%)]\tLoss: 31.740072\n",
      "Train Epoch: 33 [1280/4000 (32%)]\tLoss: 31.768677\n",
      "Train Epoch: 33 [2560/4000 (64%)]\tLoss: 31.612665\n",
      "Train Epoch: 33 [3840/4000 (96%)]\tLoss: 31.807512\n",
      "====> Epoch: 33 Average loss: 31.8000\n",
      "====> Test set loss: 31.7884\n",
      "Train Epoch: 34 [0/4000 (0%)]\tLoss: 31.718269\n",
      "Train Epoch: 34 [1280/4000 (32%)]\tLoss: 31.849508\n",
      "Train Epoch: 34 [2560/4000 (64%)]\tLoss: 31.296680\n",
      "Train Epoch: 34 [3840/4000 (96%)]\tLoss: 31.802605\n",
      "====> Epoch: 34 Average loss: 31.7971\n",
      "====> Test set loss: 31.7195\n",
      "Train Epoch: 35 [0/4000 (0%)]\tLoss: 31.652014\n",
      "Train Epoch: 35 [1280/4000 (32%)]\tLoss: 31.663940\n",
      "Train Epoch: 35 [2560/4000 (64%)]\tLoss: 31.916801\n",
      "Train Epoch: 35 [3840/4000 (96%)]\tLoss: 31.255962\n",
      "====> Epoch: 35 Average loss: 31.7636\n",
      "====> Test set loss: 31.7048\n",
      "Train Epoch: 36 [0/4000 (0%)]\tLoss: 32.048397\n",
      "Train Epoch: 36 [1280/4000 (32%)]\tLoss: 31.410902\n",
      "Train Epoch: 36 [2560/4000 (64%)]\tLoss: 32.263374\n",
      "Train Epoch: 36 [3840/4000 (96%)]\tLoss: 31.603758\n",
      "====> Epoch: 36 Average loss: 31.7586\n",
      "====> Test set loss: 31.7060\n",
      "Train Epoch: 37 [0/4000 (0%)]\tLoss: 31.987267\n",
      "Train Epoch: 37 [1280/4000 (32%)]\tLoss: 31.732126\n",
      "Train Epoch: 37 [2560/4000 (64%)]\tLoss: 32.160622\n",
      "Train Epoch: 37 [3840/4000 (96%)]\tLoss: 31.529741\n",
      "====> Epoch: 37 Average loss: 31.7503\n",
      "====> Test set loss: 31.6400\n",
      "Train Epoch: 38 [0/4000 (0%)]\tLoss: 32.156082\n",
      "Train Epoch: 38 [1280/4000 (32%)]\tLoss: 31.835756\n",
      "Train Epoch: 38 [2560/4000 (64%)]\tLoss: 31.468067\n",
      "Train Epoch: 38 [3840/4000 (96%)]\tLoss: 31.675859\n",
      "====> Epoch: 38 Average loss: 31.7346\n",
      "====> Test set loss: 31.6709\n",
      "Train Epoch: 39 [0/4000 (0%)]\tLoss: 31.593239\n",
      "Train Epoch: 39 [1280/4000 (32%)]\tLoss: 31.681396\n",
      "Train Epoch: 39 [2560/4000 (64%)]\tLoss: 31.562864\n",
      "Train Epoch: 39 [3840/4000 (96%)]\tLoss: 31.665997\n",
      "====> Epoch: 39 Average loss: 31.6767\n",
      "====> Test set loss: 31.6317\n",
      "Train Epoch: 40 [0/4000 (0%)]\tLoss: 31.634600\n",
      "Train Epoch: 40 [1280/4000 (32%)]\tLoss: 31.800032\n",
      "Train Epoch: 40 [2560/4000 (64%)]\tLoss: 31.823067\n",
      "Train Epoch: 40 [3840/4000 (96%)]\tLoss: 31.787752\n",
      "====> Epoch: 40 Average loss: 31.6649\n",
      "====> Test set loss: 31.6599\n",
      "Train Epoch: 41 [0/4000 (0%)]\tLoss: 31.871138\n",
      "Train Epoch: 41 [1280/4000 (32%)]\tLoss: 31.514061\n",
      "Train Epoch: 41 [2560/4000 (64%)]\tLoss: 31.688164\n",
      "Train Epoch: 41 [3840/4000 (96%)]\tLoss: 31.821833\n",
      "====> Epoch: 41 Average loss: 31.6559\n",
      "====> Test set loss: 31.6078\n",
      "Train Epoch: 42 [0/4000 (0%)]\tLoss: 31.405378\n",
      "Train Epoch: 42 [1280/4000 (32%)]\tLoss: 32.326866\n",
      "Train Epoch: 42 [2560/4000 (64%)]\tLoss: 31.377939\n",
      "Train Epoch: 42 [3840/4000 (96%)]\tLoss: 31.839144\n",
      "====> Epoch: 42 Average loss: 31.6419\n",
      "====> Test set loss: 31.5855\n",
      "Train Epoch: 43 [0/4000 (0%)]\tLoss: 31.878559\n",
      "Train Epoch: 43 [1280/4000 (32%)]\tLoss: 31.608099\n",
      "Train Epoch: 43 [2560/4000 (64%)]\tLoss: 31.891603\n",
      "Train Epoch: 43 [3840/4000 (96%)]\tLoss: 31.556215\n",
      "====> Epoch: 43 Average loss: 31.6227\n",
      "====> Test set loss: 31.5769\n",
      "Train Epoch: 44 [0/4000 (0%)]\tLoss: 31.589916\n",
      "Train Epoch: 44 [1280/4000 (32%)]\tLoss: 31.737070\n",
      "Train Epoch: 44 [2560/4000 (64%)]\tLoss: 31.626396\n",
      "Train Epoch: 44 [3840/4000 (96%)]\tLoss: 31.151709\n",
      "====> Epoch: 44 Average loss: 31.5852\n",
      "====> Test set loss: 31.4995\n",
      "Train Epoch: 45 [0/4000 (0%)]\tLoss: 31.702906\n",
      "Train Epoch: 45 [1280/4000 (32%)]\tLoss: 31.448261\n",
      "Train Epoch: 45 [2560/4000 (64%)]\tLoss: 31.666382\n",
      "Train Epoch: 45 [3840/4000 (96%)]\tLoss: 31.613562\n",
      "====> Epoch: 45 Average loss: 31.5430\n",
      "====> Test set loss: 31.5017\n",
      "Train Epoch: 46 [0/4000 (0%)]\tLoss: 31.780155\n",
      "Train Epoch: 46 [1280/4000 (32%)]\tLoss: 31.373156\n",
      "Train Epoch: 46 [2560/4000 (64%)]\tLoss: 31.703520\n",
      "Train Epoch: 46 [3840/4000 (96%)]\tLoss: 31.541447\n",
      "====> Epoch: 46 Average loss: 31.5375\n",
      "====> Test set loss: 31.4937\n",
      "Train Epoch: 47 [0/4000 (0%)]\tLoss: 31.595526\n",
      "Train Epoch: 47 [1280/4000 (32%)]\tLoss: 31.640348\n",
      "Train Epoch: 47 [2560/4000 (64%)]\tLoss: 31.490448\n",
      "Train Epoch: 47 [3840/4000 (96%)]\tLoss: 31.727037\n",
      "====> Epoch: 47 Average loss: 31.5009\n",
      "====> Test set loss: 31.4293\n",
      "Train Epoch: 48 [0/4000 (0%)]\tLoss: 31.455952\n",
      "Train Epoch: 48 [1280/4000 (32%)]\tLoss: 31.570715\n",
      "Train Epoch: 48 [2560/4000 (64%)]\tLoss: 31.636564\n",
      "Train Epoch: 48 [3840/4000 (96%)]\tLoss: 31.259434\n",
      "====> Epoch: 48 Average loss: 31.4499\n",
      "====> Test set loss: 31.4343\n",
      "Train Epoch: 49 [0/4000 (0%)]\tLoss: 31.515604\n",
      "Train Epoch: 49 [1280/4000 (32%)]\tLoss: 31.668749\n",
      "Train Epoch: 49 [2560/4000 (64%)]\tLoss: 31.654142\n",
      "Train Epoch: 49 [3840/4000 (96%)]\tLoss: 31.363535\n",
      "====> Epoch: 49 Average loss: 31.4378\n",
      "====> Test set loss: 31.3975\n",
      "Train Epoch: 50 [0/4000 (0%)]\tLoss: 31.213816\n",
      "Train Epoch: 50 [1280/4000 (32%)]\tLoss: 31.444927\n",
      "Train Epoch: 50 [2560/4000 (64%)]\tLoss: 31.135721\n",
      "Train Epoch: 50 [3840/4000 (96%)]\tLoss: 30.818291\n",
      "====> Epoch: 50 Average loss: 31.3939\n",
      "====> Test set loss: 31.3299\n"
     ]
    }
   ],
   "source": [
    "gradients = torch.zeros(train_data.shape[1]).to(device)\n",
    "for epoch in range(1, n_epochs+1):\n",
    "    grads=train_truncated_with_gradients(train_data, vae_gumbel_truncated, \n",
    "                                         vae_gumbel_trunc_optimizer, epoch, batch_size, Dim = 2*D)\n",
    "    if epoch > 5:\n",
    "        gradients += grads\n",
    "    if epoch > 10:\n",
    "        vae_gumbel_truncated.t = 0.1\n",
    "    test(test_data, vae_gumbel_truncated, epoch, batch_size)\n",
    "    \n",
    "gradients = gradients"
   ]
  },
  {
   "cell_type": "code",
   "execution_count": 38,
   "metadata": {},
   "outputs": [
    {
     "data": {
      "text/plain": [
       "<matplotlib.axes._subplots.AxesSubplot at 0x7f13536a4710>"
      ]
     },
     "execution_count": 38,
     "metadata": {},
     "output_type": "execute_result"
    },
    {
     "data": {
      "image/png": "[encoded data removed]",
      "text/plain": [
       "<Figure size 432x288 with 2 Axes>"
      ]
     },
     "metadata": {
      "needs_background": "light"
     },
     "output_type": "display_data"
    }
   ],
   "source": [
    "sns.heatmap(gradients.clone().detach().cpu().numpy()[:, np.newaxis])"
   ]
  },
  {
   "cell_type": "code",
   "execution_count": 39,
   "metadata": {},
   "outputs": [],
   "source": [
    "with torch.no_grad():\n",
    "    w = vae_gumbel_truncated.weight_creator(test_data[0:10, :])\n",
    "    subset_indices = sample_subset(w, k=3*z_size, t=0.01).cpu()"
   ]
  },
  {
   "cell_type": "code",
   "execution_count": 40,
   "metadata": {},
   "outputs": [
    {
     "data": {
      "text/plain": [
       "<matplotlib.axes._subplots.AxesSubplot at 0x7f1353462a90>"
      ]
     },
     "execution_count": 40,
     "metadata": {},
     "output_type": "execute_result"
    },
    {
     "data": {
      "image/png": "[encoded data removed]",
      "text/plain": [
       "<Figure size 432x288 with 2 Axes>"
      ]
     },
     "metadata": {
      "needs_background": "light"
     },
     "output_type": "display_data"
    }
   ],
   "source": [
    "sns.heatmap(subset_indices.sum(dim = 0).clone().detach().cpu().numpy()[:, np.newaxis])"
   ]
  },
  {
   "cell_type": "code",
   "execution_count": 41,
   "metadata": {},
   "outputs": [
    {
     "data": {
      "text/plain": [
       "tensor([0.0978, 0.3031, 0.1394, 0.2099, 0.2063, 0.2098, 0.1076, 0.2316, 0.0298,\n",
       "        0.1968, 0.0261, 0.0561, 0.0848, 0.2727, 0.2320, 0.3355, 0.2739, 0.0056,\n",
       "        0.0301, 0.0953, 0.0889, 0.2483, 0.0063, 0.0231, 0.0009, 0.0924, 0.4782,\n",
       "        0.3251, 0.2092, 0.2881], device='cuda:0')"
      ]
     },
     "execution_count": 41,
     "metadata": {},
     "output_type": "execute_result"
    }
   ],
   "source": [
    "test_data.mean(dim = 0)[:D]"
   ]
  },
  {
   "cell_type": "code",
   "execution_count": 42,
   "metadata": {},
   "outputs": [
    {
     "data": {
      "text/plain": [
       "tensor([0.1120, 0.3104, 0.1491, 0.1965, 0.2159, 0.2077, 0.0917, 0.2180, 0.0381,\n",
       "        0.2108, 0.0271, 0.0433, 0.0943, 0.2873, 0.1982, 0.3068, 0.2757, 0.0091,\n",
       "        0.0451, 0.1307, 0.0751, 0.2373, 0.0070, 0.0318, 0.0044, 0.0664, 0.4658,\n",
       "        0.3474, 0.2159, 0.3015], device='cuda:0', grad_fn=<SliceBackward>)"
      ]
     },
     "execution_count": 42,
     "metadata": {},
     "output_type": "execute_result"
    }
   ],
   "source": [
    "vae_gumbel_truncated(test_data)[0].mean(dim = 0)[:D]"
   ]
  },
  {
   "cell_type": "code",
   "execution_count": 43,
   "metadata": {},
   "outputs": [
    {
     "data": {
      "text/plain": [
       "tensor([0.1913, 0.2338, 0.2076, 0.2199, 0.2306, 0.1890, 0.1805, 0.1945, 0.1051,\n",
       "        0.2321, 0.0976, 0.1389, 0.1652, 0.1922, 0.2341, 0.2330, 0.2048, 0.0390,\n",
       "        0.0929, 0.1692, 0.1755, 0.2236, 0.0499, 0.0923, 0.0152, 0.1863, 0.1593,\n",
       "        0.2244, 0.2096, 0.2350], device='cuda:0')"
      ]
     },
     "execution_count": 43,
     "metadata": {},
     "output_type": "execute_result"
    }
   ],
   "source": [
    "test_data.std(dim = 0)[:D]"
   ]
  },
  {
   "cell_type": "code",
   "execution_count": 44,
   "metadata": {},
   "outputs": [
    {
     "data": {
      "text/plain": [
       "tensor([0.1178, 0.0878, 0.1442, 0.1132, 0.1142, 0.0472, 0.1130, 0.1274, 0.0512,\n",
       "        0.1322, 0.0262, 0.0540, 0.0739, 0.1397, 0.1900, 0.1893, 0.0439, 0.0100,\n",
       "        0.0546, 0.1632, 0.1115, 0.1045, 0.0093, 0.0342, 0.0057, 0.1189, 0.0575,\n",
       "        0.1954, 0.0952, 0.1700], device='cuda:0', grad_fn=<SliceBackward>)"
      ]
     },
     "execution_count": 44,
     "metadata": {},
     "output_type": "execute_result"
    }
   ],
   "source": [
    "vae_gumbel_truncated(test_data)[0].std(dim = 0)[:D]"
   ]
  },
  {
   "cell_type": "markdown",
   "metadata": {},
   "source": [
    "It seems that doing the Gumbel trick per batch does make it learn better which features are good. Still less useful than the gradient choosing though. Had to drop the the temperature (but not too much) to get stable, clean-cut heatmaps. Increasing the number of epochs helps."
   ]
  },
  {
   "cell_type": "code",
   "execution_count": null,
   "metadata": {},
   "outputs": [],
   "source": []
  }
 ],
 "metadata": {
  "kernelspec": {
   "display_name": "Python [conda env:nyu]",
   "language": "python",
   "name": "conda-env-nyu-py"
  },
  "language_info": {
   "codemirror_mode": {
    "name": "ipython",
    "version": 3
   },
   "file_extension": ".py",
   "mimetype": "text/x-python",
   "name": "python",
   "nbconvert_exporter": "python",
   "pygments_lexer": "ipython3",
   "version": "3.7.6"
  }
 },
 "nbformat": 4,
 "nbformat_minor": 4
}
